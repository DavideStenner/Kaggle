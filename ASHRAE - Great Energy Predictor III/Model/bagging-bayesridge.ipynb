{
 "cells": [
  {
   "cell_type": "code",
   "execution_count": 1,
   "metadata": {
    "_cell_guid": "b1076dfc-b9ad-4769-8c92-a6c4dae69d19",
    "_uuid": "8f2839f25d086af736a60e9eeb907d3b93b6e0e5"
   },
   "outputs": [
    {
     "data": {
      "text/html": [
       "        <script type=\"text/javascript\">\n",
       "        window.PlotlyConfig = {MathJaxConfig: 'local'};\n",
       "        if (window.MathJax) {MathJax.Hub.Config({SVG: {font: \"STIX-Web\"}});}\n",
       "        if (typeof require !== 'undefined') {\n",
       "        require.undef(\"plotly\");\n",
       "        requirejs.config({\n",
       "            paths: {\n",
       "                'plotly': ['https://cdn.plot.ly/plotly-latest.min']\n",
       "            }\n",
       "        });\n",
       "        require(['plotly'], function(Plotly) {\n",
       "            window._Plotly = Plotly;\n",
       "        });\n",
       "        }\n",
       "        </script>\n",
       "        "
      ]
     },
     "metadata": {},
     "output_type": "display_data"
    },
    {
     "data": {
      "text/html": [
       "        <script type=\"text/javascript\">\n",
       "        window.PlotlyConfig = {MathJaxConfig: 'local'};\n",
       "        if (window.MathJax) {MathJax.Hub.Config({SVG: {font: \"STIX-Web\"}});}\n",
       "        if (typeof require !== 'undefined') {\n",
       "        require.undef(\"plotly\");\n",
       "        requirejs.config({\n",
       "            paths: {\n",
       "                'plotly': ['https://cdn.plot.ly/plotly-latest.min']\n",
       "            }\n",
       "        });\n",
       "        require(['plotly'], function(Plotly) {\n",
       "            window._Plotly = Plotly;\n",
       "        });\n",
       "        }\n",
       "        </script>\n",
       "        "
      ]
     },
     "metadata": {},
     "output_type": "display_data"
    },
    {
     "data": {
      "text/html": [
       "        <script type=\"text/javascript\">\n",
       "        window.PlotlyConfig = {MathJaxConfig: 'local'};\n",
       "        if (window.MathJax) {MathJax.Hub.Config({SVG: {font: \"STIX-Web\"}});}\n",
       "        if (typeof require !== 'undefined') {\n",
       "        require.undef(\"plotly\");\n",
       "        requirejs.config({\n",
       "            paths: {\n",
       "                'plotly': ['https://cdn.plot.ly/plotly-latest.min']\n",
       "            }\n",
       "        });\n",
       "        require(['plotly'], function(Plotly) {\n",
       "            window._Plotly = Plotly;\n",
       "        });\n",
       "        }\n",
       "        </script>\n",
       "        "
      ]
     },
     "metadata": {},
     "output_type": "display_data"
    },
    {
     "name": "stdout",
     "output_type": "stream",
     "text": [
      "../input/ashrae-energy-prediction/weather_train.csv\n",
      "../input/ashrae-energy-prediction/test.csv\n",
      "../input/ashrae-energy-prediction/weather_test.csv\n",
      "../input/ashrae-energy-prediction/train.csv\n",
      "../input/ashrae-energy-prediction/building_metadata.csv\n",
      "../input/ashrae-energy-prediction/sample_submission.csv\n"
     ]
    }
   ],
   "source": [
    "import numpy as np # linear algebra\n",
    "import pandas as pd # data processing, CSV file I/O (e.g. pd.read_csv)\n",
    "# Suppress warnings\n",
    "import warnings\n",
    "warnings.filterwarnings('ignore')\n",
    "import gc\n",
    "import math\n",
    "import random\n",
    "import matplotlib\n",
    "# matplotlib and seaborn for plotting\n",
    "import matplotlib.pyplot as plt\n",
    "import seaborn as sns \n",
    "import matplotlib.patches as patches\n",
    "from plotly import tools, subplots\n",
    "import plotly.offline as py\n",
    "py.init_notebook_mode(connected=True)\n",
    "import plotly.graph_objs as go\n",
    "import plotly.express as px\n",
    "pd.set_option('max_columns', 100)\n",
    "pd.set_option('max_rows', 30)\n",
    "from datetime import datetime\n",
    "py.init_notebook_mode(connected=True)\n",
    "from plotly.offline import init_notebook_mode, iplot\n",
    "init_notebook_mode(connected=True)\n",
    "import plotly.graph_objs as go\n",
    "path='../input/ashrae-energy-prediction/'\n",
    "path_new = '../input/lag-transform/'\n",
    "path_new = '../input/transformer/'\n",
    "from sklearn.metrics import mean_squared_error\n",
    "from sklearn.model_selection import StratifiedKFold, KFold\n",
    "import matplotlib.pyplot as plt\n",
    "import pandas as pd\n",
    "import numpy as np\n",
    "from tqdm import tqdm_notebook\n",
    "from math import log\n",
    "import lightgbm as lgb\n",
    "import datetime\n",
    "from sklearn.preprocessing import LabelEncoder, MinMaxScaler\n",
    "from sklearn.neural_network import MLPRegressor\n",
    "pd.options.mode.chained_assignment = None\n",
    "from pandas.tseries.holiday import USFederalHolidayCalendar as calendar\n",
    "import holidays\n",
    "import os\n",
    "from scipy.sparse import csr_matrix,coo_matrix, hstack\n",
    "from sklearn.linear_model import Ridge\n",
    "from sklearn.ensemble import RandomForestRegressor\n",
    "import seaborn as sns \n",
    "import lightgbm as lgb\n",
    "from sklearn.linear_model import BayesianRidge\n",
    "from sklearn.ensemble import BaggingRegressor\n",
    "\n",
    "for dirname, _, filenames in os.walk(path):\n",
    "    for filename in filenames:\n",
    "        print(os.path.join(dirname, filename))\n",
    "def ls():\n",
    "     print([v for v in globals().keys() if not v.startswith('_')])\n",
    "\n",
    "def seed_everything(seed=0):\n",
    "    random.seed(seed)\n",
    "    np.random.seed(seed)\n",
    "    \n",
    "def free_space(del_list):\n",
    "    for name in del_list:\n",
    "        if not name.startswith('_'):\n",
    "            del globals()[name]\n",
    "    gc.collect()\n",
    "    \n",
    "def chunk_predictor(X,model,n=100,verbose=True):\n",
    "    predict_fold = KFold(n)\n",
    "    result = np.zeros(X.shape[0])\n",
    "    if verbose:\n",
    "        for trn_idx, val_idx in tqdm_notebook(predict_fold.split(X)):\n",
    "               result[val_idx] = model.predict(X.iloc[val_idx,:])\n",
    "    else:\n",
    "        for trn_idx, val_idx in predict_fold.split(X):\n",
    "            result[val_idx] = model.predict(X.iloc[val_idx,:])\n",
    "    return(result)\n",
    "\n",
    "def one_hot_encoder(train,col,tr_index):\n",
    "    temp = (pd.get_dummies(train,prefix_sep='_',columns=col,drop_first=True)).values\n",
    "    return(temp[:tr_index,:],temp[tr_index:,:])\n"
   ]
  },
  {
   "cell_type": "code",
   "execution_count": 2,
   "metadata": {},
   "outputs": [
    {
     "data": {
      "text/plain": [
       "165"
      ]
     },
     "execution_count": 2,
     "metadata": {},
     "output_type": "execute_result"
    }
   ],
   "source": [
    "path_load = '../input/train-transformer/'\n",
    "path_dataset ='../input/rescale-knn/'\n",
    "\n",
    "train = pd.read_hdf(f'{path_dataset}dataset_rescale.h5',key='rescale_train')\n",
    "test = pd.read_hdf(f'{path_dataset}dataset_rescale.h5',key='rescale_test')\n",
    "\n",
    "# train = pd.read_hdf(f'{path_load}dataset.h5',key='train')\n",
    "# test = pd.read_hdf(f'{path_load}dataset.h5',key='test')\n",
    "# column = pd.read_hdf(f'{path_load}dataset.h5',key='column')['column'].tolist()\n",
    "# timestamp = pd.read_hdf(f'{path_load}dataset.h5',key='timestamp')\n",
    "# train['month']=timestamp.dt.month.astype(int)\n",
    "# category_column = pd.read_hdf(f'{path_load}dataset.h5',key='category_column')['cat_column'].tolist()\n",
    "\n",
    "target = pd.read_hdf(f'{path_load}dataset.h5',key='target')\n",
    "\n",
    "support = pd.read_hdf(f'{path_load}dataset.h5',key='train')[['building_id','meter']]\n",
    "valid_build = support['building_id'].copy()\n",
    "valid_meter = support['meter'].copy()\n",
    "del support\n",
    "gc.collect()"
   ]
  },
  {
   "cell_type": "code",
   "execution_count": 3,
   "metadata": {},
   "outputs": [
    {
     "data": {
      "text/plain": [
       "0"
      ]
     },
     "execution_count": 3,
     "metadata": {},
     "output_type": "execute_result"
    }
   ],
   "source": [
    "SEED = 42\n",
    "seed_everything(SEED)\n",
    "gc.collect()"
   ]
  },
  {
   "cell_type": "code",
   "execution_count": 4,
   "metadata": {},
   "outputs": [],
   "source": [
    "# to_rescale = ['day','hour','weekend','air_temperature','dew_temperature',\n",
    "#        'heat_index','feel','air_temperature_mean_lag24','dew_temperature_mean_lag24','feel_mean_lag24','heating_required','m2k','pm2k']\n",
    "# tr_index = train.shape[0]\n",
    "# all_df = train.append(test,ignore_index=True)[['building_meter']+to_rescale]\n",
    "# del train,test\n",
    "# gc.collect()\n",
    "\n",
    "# for sel in tqdm_notebook(np.sort(all_df.building_meter.unique())):\n",
    "#     m1 = all_df.loc[all_df.building_meter==sel,to_rescale].min()\n",
    "#     m2 = all_df.loc[all_df.building_meter==sel,to_rescale].max()\n",
    "#     all_df.loc[all_df.building_meter==sel,to_rescale] = (all_df.loc[all_df.building_meter==sel,to_rescale]-m1)/(m2-m1)\n"
   ]
  },
  {
   "cell_type": "code",
   "execution_count": 5,
   "metadata": {},
   "outputs": [],
   "source": [
    "# replace = train.groupby('building_meter')['pm2k'].mean()\n",
    "\n",
    "# train.loc[train.pm2k.isnull(),'pm2k'] = train['building_meter'].map(replace)[train.pm2k.isnull()]\n",
    "# test.loc[test.pm2k.isnull(),'pm2k'] = test['building_meter'].map(replace)[test.pm2k.isnull()]\n",
    "\n",
    "# strat_train = train['building_meter']\n",
    "# strat_test = test['building_meter']\n",
    "\n",
    "# train = train[to_rescale]#'month',\n",
    "# test = test[to_rescale]#'month',\n"
   ]
  },
  {
   "cell_type": "code",
   "execution_count": 6,
   "metadata": {},
   "outputs": [],
   "source": [
    "strat_train = train.pop('building_meter')\n",
    "strat_test = test.pop('building_meter')\n",
    "\n",
    "\n",
    "to_dummy = ['month','day','hour','weekend']"
   ]
  },
  {
   "cell_type": "code",
   "execution_count": 7,
   "metadata": {},
   "outputs": [],
   "source": [
    "train.drop(['month','day'],inplace=True,axis=1)\n",
    "test.drop(['month','day'],inplace=True,axis=1)\n",
    "to_dummy = ['hour','weekend']"
   ]
  },
  {
   "cell_type": "code",
   "execution_count": 8,
   "metadata": {},
   "outputs": [],
   "source": [
    "n_fold = 5\n",
    "# models = {}\n",
    "cv_scores = {\"build_meter\": [], \"cv_score\": []}\n",
    "seed = 0\n",
    "kf = KFold(n_splits=n_fold, random_state=seed,shuffle=False)\n",
    "\n",
    "# to_dummy = ['day','hour','weekend']\n",
    "pred_test = np.zeros(test.shape[0])\n",
    "pred_x = np.zeros(train.shape[0])"
   ]
  },
  {
   "cell_type": "code",
   "execution_count": 9,
   "metadata": {
    "_cell_guid": "79c7e3d0-c299-4dcb-8224-4455121ee9b0",
    "_uuid": "d629ff2d2480ee46fbb7e2d37f6b5fab8052498a"
   },
   "outputs": [
    {
     "data": {
      "application/vnd.jupyter.widget-view+json": {
       "model_id": "8a9cdd60a4cf4343bbf92a005a9bf57e",
       "version_major": 2,
       "version_minor": 0
      },
      "text/plain": [
       "HBox(children=(IntProgress(value=0, max=2380), HTML(value='')))"
      ]
     },
     "metadata": {},
     "output_type": "display_data"
    },
    {
     "name": "stdout",
     "output_type": "stream",
     "text": [
      "\n",
      "CPU times: user 4h 32min 17s, sys: 7h 9min 24s, total: 11h 41min 42s\n",
      "Wall time: 3h 3min 35s\n"
     ]
    }
   ],
   "source": [
    "%%time\n",
    "for sel in tqdm_notebook(np.sort(strat_train.unique())):\n",
    "    gc.collect()\n",
    "    temp = train[strat_train==sel]\n",
    "    train_row = temp.shape[0]\n",
    "    temp = temp.append(test[strat_test==sel],ignore_index =True)\n",
    "    temp_train, temp_test = one_hot_encoder(temp,to_dummy,train_row)\n",
    "    \n",
    "    y = target.values[strat_train==sel]\n",
    "        \n",
    "    score = 0\n",
    "\n",
    "    for fold, (train_index, valid_index) in enumerate(kf.split(temp_train, y)):\n",
    "        x_train, x_valid = temp_train[train_index,:], temp_train[valid_index,:]\n",
    "        y_train, y_valid = y[train_index], y[valid_index]\n",
    "\n",
    "        model = BaggingRegressor(BayesianRidge(), n_estimators = 20)        \n",
    "        model.fit(x_train, y_train)\n",
    "        #\n",
    "        pred_test[strat_test==sel] += model.predict(temp_test)/n_fold\n",
    "        pred_x[np.where(strat_train==sel)[0][valid_index]] += model.predict(x_valid)\n",
    "        score += np.sqrt(mean_squared_error(y_valid, pred_x[np.where(strat_train==sel)[0][valid_index]]))/n_fold\n",
    "        \n",
    "#     print(f'cv score: {score}')\n",
    "    cv_scores[\"build_meter\"].append(sel)\n",
    "    cv_scores[\"cv_score\"].append(score)\n",
    "\n",
    "    del temp, temp_train, y,x_train, x_valid, y_train, y_valid, model, score\n",
    "    gc.collect()\n"
   ]
  },
  {
   "cell_type": "code",
   "execution_count": 10,
   "metadata": {},
   "outputs": [
    {
     "data": {
      "text/plain": [
       "<matplotlib.legend.Legend at 0x7f19a1361e10>"
      ]
     },
     "execution_count": 10,
     "metadata": {},
     "output_type": "execute_result"
    },
    {
     "data": {
      "image/png": "[encoded data removed]",
      "text/plain": [
       "<Figure size 864x576 with 1 Axes>"
      ]
     },
     "metadata": {
      "needs_background": "light"
     },
     "output_type": "display_data"
    }
   ],
   "source": [
    "fig = plt.figure(figsize=(12,8))\n",
    "sns.distplot(cv_scores['cv_score'],label ='cv-error')\n",
    "plt.legend()\n"
   ]
  },
  {
   "cell_type": "code",
   "execution_count": 11,
   "metadata": {},
   "outputs": [
    {
     "data": {
      "text/plain": [
       "0"
      ]
     },
     "execution_count": 11,
     "metadata": {},
     "output_type": "execute_result"
    }
   ],
   "source": [
    "result = pd.DataFrame({'Building_ID':valid_build,'meter':valid_meter,'target_real':target,'target_pred':pred_x}).dropna()\n",
    "result.reset_index(drop=True,inplace=True)\n",
    "gc.collect()\n",
    "\n",
    "free_space(['valid_build','valid_meter'])\n",
    "\n",
    "gc.collect()"
   ]
  },
  {
   "cell_type": "code",
   "execution_count": 12,
   "metadata": {},
   "outputs": [],
   "source": [
    "gc.collect()\n",
    "sample_submission = pd.read_csv(f'{path}sample_submission.csv')\n",
    "sample_submission['meter_reading'] = np.expm1(pred_test)\n",
    "# leak_df = pd.read_csv('../input/ashrae-leak-data-station/sample_leak.csv',index_col=0).dropna()\n",
    "# sample_submission.loc[leak_df.index, 'meter_reading'] = leak_df['meter_reading']\n",
    "# sample_submission.reset_index(inplace=True,drop=True)\n",
    "sample_submission.loc[sample_submission['meter_reading']<0,'meter_reading'] = 0\n",
    "sample_submission.to_csv('submission_randomforest.csv',index=False)\n"
   ]
  },
  {
   "cell_type": "code",
   "execution_count": 13,
   "metadata": {},
   "outputs": [
    {
     "data": {
      "text/html": [
       "<div>\n",
       "<style scoped>\n",
       "    .dataframe tbody tr th:only-of-type {\n",
       "        vertical-align: middle;\n",
       "    }\n",
       "\n",
       "    .dataframe tbody tr th {\n",
       "        vertical-align: top;\n",
       "    }\n",
       "\n",
       "    .dataframe thead th {\n",
       "        text-align: right;\n",
       "    }\n",
       "</style>\n",
       "<table border=\"1\" class=\"dataframe\">\n",
       "  <thead>\n",
       "    <tr style=\"text-align: right;\">\n",
       "      <th></th>\n",
       "      <th>row_id</th>\n",
       "      <th>meter_reading</th>\n",
       "    </tr>\n",
       "  </thead>\n",
       "  <tbody>\n",
       "    <tr>\n",
       "      <th>0</th>\n",
       "      <td>0</td>\n",
       "      <td>123.919618</td>\n",
       "    </tr>\n",
       "    <tr>\n",
       "      <th>1</th>\n",
       "      <td>1</td>\n",
       "      <td>71.793188</td>\n",
       "    </tr>\n",
       "    <tr>\n",
       "      <th>2</th>\n",
       "      <td>2</td>\n",
       "      <td>3.780219</td>\n",
       "    </tr>\n",
       "    <tr>\n",
       "      <th>3</th>\n",
       "      <td>3</td>\n",
       "      <td>229.371083</td>\n",
       "    </tr>\n",
       "    <tr>\n",
       "      <th>4</th>\n",
       "      <td>4</td>\n",
       "      <td>1216.179038</td>\n",
       "    </tr>\n",
       "    <tr>\n",
       "      <th>...</th>\n",
       "      <td>...</td>\n",
       "      <td>...</td>\n",
       "    </tr>\n",
       "    <tr>\n",
       "      <th>45</th>\n",
       "      <td>45</td>\n",
       "      <td>84.963817</td>\n",
       "    </tr>\n",
       "    <tr>\n",
       "      <th>46</th>\n",
       "      <td>46</td>\n",
       "      <td>117.327317</td>\n",
       "    </tr>\n",
       "    <tr>\n",
       "      <th>47</th>\n",
       "      <td>47</td>\n",
       "      <td>771.814987</td>\n",
       "    </tr>\n",
       "    <tr>\n",
       "      <th>48</th>\n",
       "      <td>48</td>\n",
       "      <td>261.507415</td>\n",
       "    </tr>\n",
       "    <tr>\n",
       "      <th>49</th>\n",
       "      <td>49</td>\n",
       "      <td>126.647137</td>\n",
       "    </tr>\n",
       "  </tbody>\n",
       "</table>\n",
       "<p>50 rows × 2 columns</p>\n",
       "</div>"
      ],
      "text/plain": [
       "    row_id  meter_reading\n",
       "0        0     123.919618\n",
       "1        1      71.793188\n",
       "2        2       3.780219\n",
       "3        3     229.371083\n",
       "4        4    1216.179038\n",
       "..     ...            ...\n",
       "45      45      84.963817\n",
       "46      46     117.327317\n",
       "47      47     771.814987\n",
       "48      48     261.507415\n",
       "49      49     126.647137\n",
       "\n",
       "[50 rows x 2 columns]"
      ]
     },
     "execution_count": 13,
     "metadata": {},
     "output_type": "execute_result"
    }
   ],
   "source": [
    "sample_submission.iloc[:50,:]"
   ]
  },
  {
   "cell_type": "code",
   "execution_count": 14,
   "metadata": {},
   "outputs": [
    {
     "data": {
      "text/plain": [
       "<matplotlib.legend.Legend at 0x7f19592a33c8>"
      ]
     },
     "execution_count": 14,
     "metadata": {},
     "output_type": "execute_result"
    },
    {
     "data": {
      "image/png": "[encoded data removed]",
      "text/plain": [
       "<Figure size 864x576 with 1 Axes>"
      ]
     },
     "metadata": {
      "needs_background": "light"
     },
     "output_type": "display_data"
    }
   ],
   "source": [
    "fig = plt.figure(figsize=(12,8))\n",
    "sns.distplot(result.target_real,label='Real')\n",
    "sns.distplot(result.target_pred,label='Forecast')\n",
    "plt.legend()\n"
   ]
  },
  {
   "cell_type": "code",
   "execution_count": 15,
   "metadata": {},
   "outputs": [
    {
     "data": {
      "text/plain": [
       "<matplotlib.legend.Legend at 0x7f19591e5390>"
      ]
     },
     "execution_count": 15,
     "metadata": {},
     "output_type": "execute_result"
    },
    {
     "data": {
      "image/png": "[encoded data removed]",
      "text/plain": [
       "<Figure size 864x576 with 1 Axes>"
      ]
     },
     "metadata": {
      "needs_background": "light"
     },
     "output_type": "display_data"
    }
   ],
   "source": [
    "fig = plt.figure(figsize=(12,8))\n",
    "sns.distplot((result.target_real-result.target_pred),label ='Error')\n",
    "plt.legend()\n"
   ]
  },
  {
   "cell_type": "code",
   "execution_count": 16,
   "metadata": {},
   "outputs": [
    {
     "data": {
      "text/plain": [
       "<matplotlib.axes._subplots.AxesSubplot at 0x7f19590a6dd8>"
      ]
     },
     "execution_count": 16,
     "metadata": {},
     "output_type": "execute_result"
    },
    {
     "data": {
      "image/png": "[encoded data removed]",
      "text/plain": [
       "<Figure size 432x288 with 1 Axes>"
      ]
     },
     "metadata": {
      "needs_background": "light"
     },
     "output_type": "display_data"
    }
   ],
   "source": [
    "sns.scatterplot(x=result.target_real, y=result.target_pred)\n"
   ]
  }
 ],
 "metadata": {
  "kernelspec": {
   "display_name": "Python 3",
   "language": "python",
   "name": "python3"
  },
  "language_info": {
   "codemirror_mode": {
    "name": "ipython",
    "version": 3
   },
   "file_extension": ".py",
   "mimetype": "text/x-python",
   "name": "python",
   "nbconvert_exporter": "python",
   "pygments_lexer": "ipython3",
   "version": "3.6.6"
  },
  "widgets": {
   "application/vnd.jupyter.widget-state+json": {
    "state": {
     "398898cce8414af78c7a6d4a989de00e": {
      "model_module": "@jupyter-widgets/controls",
      "model_module_version": "1.5.0",
      "model_name": "DescriptionStyleModel",
      "state": {
       "_model_module": "@jupyter-widgets/controls",
       "_model_module_version": "1.5.0",
       "_model_name": "DescriptionStyleModel",
       "_view_count": null,
       "_view_module": "@jupyter-widgets/base",
       "_view_module_version": "1.2.0",
       "_view_name": "StyleView",
       "description_width": ""
      }
     },
     "4d0df541307c496da8342ae73bba57ba": {
      "model_module": "@jupyter-widgets/base",
      "model_module_version": "1.2.0",
      "model_name": "LayoutModel",
      "state": {
       "_model_module": "@jupyter-widgets/base",
       "_model_module_version": "1.2.0",
       "_model_name": "LayoutModel",
       "_view_count": null,
       "_view_module": "@jupyter-widgets/base",
       "_view_module_version": "1.2.0",
       "_view_name": "LayoutView",
       "align_content": null,
       "align_items": null,
       "align_self": null,
       "border": null,
       "bottom": null,
       "display": null,
       "flex": null,
       "flex_flow": null,
       "grid_area": null,
       "grid_auto_columns": null,
       "grid_auto_flow": null,
       "grid_auto_rows": null,
       "grid_column": null,
       "grid_gap": null,
       "grid_row": null,
       "grid_template_areas": null,
       "grid_template_columns": null,
       "grid_template_rows": null,
       "height": null,
       "justify_content": null,
       "justify_items": null,
       "left": null,
       "margin": null,
       "max_height": null,
       "max_width": null,
       "min_height": null,
       "min_width": null,
       "object_fit": null,
       "object_position": null,
       "order": null,
       "overflow": null,
       "overflow_x": null,
       "overflow_y": null,
       "padding": null,
       "right": null,
       "top": null,
       "visibility": null,
       "width": null
      }
     },
     "8a9cdd60a4cf4343bbf92a005a9bf57e": {
      "model_module": "@jupyter-widgets/controls",
      "model_module_version": "1.5.0",
      "model_name": "HBoxModel",
      "state": {
       "_dom_classes": [],
       "_model_module": "@jupyter-widgets/controls",
       "_model_module_version": "1.5.0",
       "_model_name": "HBoxModel",
       "_view_count": null,
       "_view_module": "@jupyter-widgets/controls",
       "_view_module_version": "1.5.0",
       "_view_name": "HBoxView",
       "box_style": "",
       "children": [
        "IPY_MODEL_c06d190d7f604cc08b1159d2bad50279",
        "IPY_MODEL_cfd9d9d32cb1448aa04870a6cec3a9c0"
       ],
       "layout": "IPY_MODEL_a12c113add9643fcb69dda82cfe154fd"
      }
     },
     "9c5d632fd14d48cfbf2dbd1980526f4b": {
      "model_module": "@jupyter-widgets/base",
      "model_module_version": "1.2.0",
      "model_name": "LayoutModel",
      "state": {
       "_model_module": "@jupyter-widgets/base",
       "_model_module_version": "1.2.0",
       "_model_name": "LayoutModel",
       "_view_count": null,
       "_view_module": "@jupyter-widgets/base",
       "_view_module_version": "1.2.0",
       "_view_name": "LayoutView",
       "align_content": null,
       "align_items": null,
       "align_self": null,
       "border": null,
       "bottom": null,
       "display": null,
       "flex": null,
       "flex_flow": null,
       "grid_area": null,
       "grid_auto_columns": null,
       "grid_auto_flow": null,
       "grid_auto_rows": null,
       "grid_column": null,
       "grid_gap": null,
       "grid_row": null,
       "grid_template_areas": null,
       "grid_template_columns": null,
       "grid_template_rows": null,
       "height": null,
       "justify_content": null,
       "justify_items": null,
       "left": null,
       "margin": null,
       "max_height": null,
       "max_width": null,
       "min_height": null,
       "min_width": null,
       "object_fit": null,
       "object_position": null,
       "order": null,
       "overflow": null,
       "overflow_x": null,
       "overflow_y": null,
       "padding": null,
       "right": null,
       "top": null,
       "visibility": null,
       "width": null
      }
     },
     "a12c113add9643fcb69dda82cfe154fd": {
      "model_module": "@jupyter-widgets/base",
      "model_module_version": "1.2.0",
      "model_name": "LayoutModel",
      "state": {
       "_model_module": "@jupyter-widgets/base",
       "_model_module_version": "1.2.0",
       "_model_name": "LayoutModel",
       "_view_count": null,
       "_view_module": "@jupyter-widgets/base",
       "_view_module_version": "1.2.0",
       "_view_name": "LayoutView",
       "align_content": null,
       "align_items": null,
       "align_self": null,
       "border": null,
       "bottom": null,
       "display": null,
       "flex": null,
       "flex_flow": null,
       "grid_area": null,
       "grid_auto_columns": null,
       "grid_auto_flow": null,
       "grid_auto_rows": null,
       "grid_column": null,
       "grid_gap": null,
       "grid_row": null,
       "grid_template_areas": null,
       "grid_template_columns": null,
       "grid_template_rows": null,
       "height": null,
       "justify_content": null,
       "justify_items": null,
       "left": null,
       "margin": null,
       "max_height": null,
       "max_width": null,
       "min_height": null,
       "min_width": null,
       "object_fit": null,
       "object_position": null,
       "order": null,
       "overflow": null,
       "overflow_x": null,
       "overflow_y": null,
       "padding": null,
       "right": null,
       "top": null,
       "visibility": null,
       "width": null
      }
     },
     "c06d190d7f604cc08b1159d2bad50279": {
      "model_module": "@jupyter-widgets/controls",
      "model_module_version": "1.5.0",
      "model_name": "IntProgressModel",
      "state": {
       "_dom_classes": [],
       "_model_module": "@jupyter-widgets/controls",
       "_model_module_version": "1.5.0",
       "_model_name": "IntProgressModel",
       "_view_count": null,
       "_view_module": "@jupyter-widgets/controls",
       "_view_module_version": "1.5.0",
       "_view_name": "ProgressView",
       "bar_style": "success",
       "description": "100%",
       "description_tooltip": null,
       "layout": "IPY_MODEL_4d0df541307c496da8342ae73bba57ba",
       "max": 2380,
       "min": 0,
       "orientation": "horizontal",
       "style": "IPY_MODEL_df2ca64696c943f5981b79563c613ac8",
       "value": 2380
      }
     },
     "cfd9d9d32cb1448aa04870a6cec3a9c0": {
      "model_module": "@jupyter-widgets/controls",
      "model_module_version": "1.5.0",
      "model_name": "HTMLModel",
      "state": {
       "_dom_classes": [],
       "_model_module": "@jupyter-widgets/controls",
       "_model_module_version": "1.5.0",
       "_model_name": "HTMLModel",
       "_view_count": null,
       "_view_module": "@jupyter-widgets/controls",
       "_view_module_version": "1.5.0",
       "_view_name": "HTMLView",
       "description": "",
       "description_tooltip": null,
       "layout": "IPY_MODEL_9c5d632fd14d48cfbf2dbd1980526f4b",
       "placeholder": "​",
       "style": "IPY_MODEL_398898cce8414af78c7a6d4a989de00e",
       "value": " 2380/2380 [3:03:38&lt;00:00,  4.63s/it]"
      }
     },
     "df2ca64696c943f5981b79563c613ac8": {
      "model_module": "@jupyter-widgets/controls",
      "model_module_version": "1.5.0",
      "model_name": "ProgressStyleModel",
      "state": {
       "_model_module": "@jupyter-widgets/controls",
       "_model_module_version": "1.5.0",
       "_model_name": "ProgressStyleModel",
       "_view_count": null,
       "_view_module": "@jupyter-widgets/base",
       "_view_module_version": "1.2.0",
       "_view_name": "StyleView",
       "bar_color": null,
       "description_width": "initial"
      }
     }
    },
    "version_major": 2,
    "version_minor": 0
   }
  }
 },
 "nbformat": 4,
 "nbformat_minor": 1
}
