{
 "cells": [
  {
   "cell_type": "code",
   "execution_count": 1,
   "metadata": {
    "_cell_guid": "b1076dfc-b9ad-4769-8c92-a6c4dae69d19",
    "_uuid": "8f2839f25d086af736a60e9eeb907d3b93b6e0e5"
   },
   "outputs": [
    {
     "data": {
      "text/html": [
       "        <script type=\"text/javascript\">\n",
       "        window.PlotlyConfig = {MathJaxConfig: 'local'};\n",
       "        if (window.MathJax) {MathJax.Hub.Config({SVG: {font: \"STIX-Web\"}});}\n",
       "        if (typeof require !== 'undefined') {\n",
       "        require.undef(\"plotly\");\n",
       "        requirejs.config({\n",
       "            paths: {\n",
       "                'plotly': ['https://cdn.plot.ly/plotly-latest.min']\n",
       "            }\n",
       "        });\n",
       "        require(['plotly'], function(Plotly) {\n",
       "            window._Plotly = Plotly;\n",
       "        });\n",
       "        }\n",
       "        </script>\n",
       "        "
      ]
     },
     "metadata": {},
     "output_type": "display_data"
    },
    {
     "data": {
      "text/html": [
       "        <script type=\"text/javascript\">\n",
       "        window.PlotlyConfig = {MathJaxConfig: 'local'};\n",
       "        if (window.MathJax) {MathJax.Hub.Config({SVG: {font: \"STIX-Web\"}});}\n",
       "        if (typeof require !== 'undefined') {\n",
       "        require.undef(\"plotly\");\n",
       "        requirejs.config({\n",
       "            paths: {\n",
       "                'plotly': ['https://cdn.plot.ly/plotly-latest.min']\n",
       "            }\n",
       "        });\n",
       "        require(['plotly'], function(Plotly) {\n",
       "            window._Plotly = Plotly;\n",
       "        });\n",
       "        }\n",
       "        </script>\n",
       "        "
      ]
     },
     "metadata": {},
     "output_type": "display_data"
    },
    {
     "data": {
      "text/html": [
       "        <script type=\"text/javascript\">\n",
       "        window.PlotlyConfig = {MathJaxConfig: 'local'};\n",
       "        if (window.MathJax) {MathJax.Hub.Config({SVG: {font: \"STIX-Web\"}});}\n",
       "        if (typeof require !== 'undefined') {\n",
       "        require.undef(\"plotly\");\n",
       "        requirejs.config({\n",
       "            paths: {\n",
       "                'plotly': ['https://cdn.plot.ly/plotly-latest.min']\n",
       "            }\n",
       "        });\n",
       "        require(['plotly'], function(Plotly) {\n",
       "            window._Plotly = Plotly;\n",
       "        });\n",
       "        }\n",
       "        </script>\n",
       "        "
      ]
     },
     "metadata": {},
     "output_type": "display_data"
    },
    {
     "name": "stdout",
     "output_type": "stream",
     "text": [
      "../input/ashrae-energy-prediction/test.csv\n",
      "../input/ashrae-energy-prediction/weather_train.csv\n",
      "../input/ashrae-energy-prediction/train.csv\n",
      "../input/ashrae-energy-prediction/weather_test.csv\n",
      "../input/ashrae-energy-prediction/sample_submission.csv\n",
      "../input/ashrae-energy-prediction/building_metadata.csv\n"
     ]
    }
   ],
   "source": [
    "import numpy as np # linear algebra\n",
    "import pandas as pd # data processing, CSV file I/O (e.g. pd.read_csv)\n",
    "# Suppress warnings \n",
    "import warnings\n",
    "warnings.filterwarnings('ignore')\n",
    "import gc\n",
    "import math\n",
    "from sklearn.metrics import roc_auc_score\n",
    "from sklearn.model_selection import StratifiedKFold\n",
    "\n",
    "from tqdm import tqdm_notebook\n",
    "import matplotlib\n",
    "# matplotlib and seaborn for plotting\n",
    "import matplotlib.pyplot as plt\n",
    "import seaborn as sns\n",
    "import matplotlib.patches as patches\n",
    "\n",
    "from plotly import tools, subplots\n",
    "import plotly.offline as py\n",
    "py.init_notebook_mode(connected=True)\n",
    "import plotly.graph_objs as go\n",
    "import plotly.express as px\n",
    "pd.set_option('max_columns', 100)\n",
    "pd.set_option('max_rows', 30)\n",
    "\n",
    "from datetime import datetime\n",
    "py.init_notebook_mode(connected=True)\n",
    "from plotly.offline import init_notebook_mode, iplot\n",
    "init_notebook_mode(connected=True)\n",
    "import plotly.graph_objs as go\n",
    "path='../input/ashrae-energy-prediction/'\n",
    "\n",
    "from sklearn.metrics import roc_auc_score,mean_squared_error\n",
    "from sklearn.model_selection import StratifiedKFold,TimeSeriesSplit, train_test_split\n",
    "import matplotlib.pyplot as plt\n",
    "import pandas as pd\n",
    "import numpy as np\n",
    "from tqdm import tqdm_notebook\n",
    "from math import sin,log,pow\n",
    "import lightgbm as lgb\n",
    "import datetime\n",
    "from sklearn.ensemble import RandomForestClassifier as RF\n",
    "from sklearn.feature_selection import SelectFromModel\n",
    "from sklearn.preprocessing import LabelEncoder,StandardScaler, OneHotEncoder\n",
    "from lightgbm import LGBMClassifier\n",
    "from sklearn.metrics import roc_auc_score\n",
    "import multiprocessing as mp\n",
    "import multiprocessing as mp\n",
    "from multiprocessing import Pool\n",
    "from tqdm import tqdm\n",
    "from functools import partial\n",
    "pd.options.mode.chained_assignment = None\n",
    "from pandas.tseries.holiday import USFederalHolidayCalendar as calendar\n",
    "from sklearn.decomposition import PCA\n",
    "from sklearn.model_selection import KFold\n",
    "\n",
    "import os\n",
    "for dirname, _, filenames in os.walk(path):\n",
    "    for filename in filenames:\n",
    "        print(os.path.join(dirname, filename))\n"
   ]
  },
  {
   "cell_type": "code",
   "execution_count": 2,
   "metadata": {},
   "outputs": [],
   "source": [
    "def sd(col, max_loss_limit=0.001, avg_loss_limit=0.001, na_loss_limit=0, n_uniq_loss_limit=0, fillna=0):\n",
    "    \"\"\"\n",
    "    max_loss_limit - don't allow any float to lose precision more than this value. Any values are ok for GBT algorithms as long as you don't unique values.\n",
    "                     See https://en.wikipedia.org/wiki/Half-precision_floating-point_format#Precision_limitations_on_decimal_values_in_[0,_1]\n",
    "    avg_loss_limit - same but calculates avg throughout the series.\n",
    "    na_loss_limit - not really useful.\n",
    "    n_uniq_loss_limit - very important parameter. If you have a float field with very high cardinality you can set this value to something like n_records * 0.01 in order to allow some field relaxing.\n",
    "    \"\"\"\n",
    "    is_float = str(col.dtypes)[:5] == 'float'\n",
    "    na_count = col.isna().sum()\n",
    "    n_uniq = col.nunique(dropna=False)\n",
    "    try_types = ['float16', 'float32']\n",
    "\n",
    "    if na_count <= na_loss_limit:\n",
    "        try_types = ['int8', 'int16', 'float16', 'int32', 'float32']\n",
    "\n",
    "    for type in try_types:\n",
    "        col_tmp = col\n",
    "\n",
    "        # float to int conversion => try to round to minimize casting error\n",
    "        if is_float and (str(type)[:3] == 'int'):\n",
    "            col_tmp = col_tmp.copy().fillna(fillna).round()\n",
    "\n",
    "        col_tmp = col_tmp.astype(type)\n",
    "        max_loss = (col_tmp - col).abs().max()\n",
    "        avg_loss = (col_tmp - col).abs().mean()\n",
    "        na_loss = np.abs(na_count - col_tmp.isna().sum())\n",
    "        n_uniq_loss = np.abs(n_uniq - col_tmp.nunique(dropna=False))\n",
    "\n",
    "        if max_loss <= max_loss_limit and avg_loss <= avg_loss_limit and na_loss <= na_loss_limit and n_uniq_loss <= n_uniq_loss_limit:\n",
    "            return col_tmp\n",
    "\n",
    "    # field can't be converted\n",
    "    return col\n",
    "\n",
    "\n",
    "def reduce_mem_usage_sd(df, deep=True, verbose=False, obj_to_cat=False):\n",
    "    numerics = ['int16', 'uint16', 'int32', 'uint32', 'int64', 'uint64', 'float16', 'float32', 'float64']\n",
    "    start_mem = df.memory_usage(deep=deep).sum() / 1024 ** 2\n",
    "    for col in tqdm_notebook(df.columns):\n",
    "        col_type = df[col].dtypes\n",
    "\n",
    "        # collect stats\n",
    "        na_count = df[col].isna().sum()\n",
    "        n_uniq = df[col].nunique(dropna=False)\n",
    "        \n",
    "        # numerics\n",
    "        if col_type in numerics:\n",
    "            df[col] = sd(df[col])\n",
    "\n",
    "        # strings\n",
    "        if (col_type == 'object') and obj_to_cat:\n",
    "            df[col] = df[col].astype('category')\n",
    "        \n",
    "        if verbose:\n",
    "            print(f'Column {col}: {col_type} -> {df[col].dtypes}, na_count={na_count}, n_uniq={n_uniq}')\n",
    "        new_na_count = df[col].isna().sum()\n",
    "        if (na_count != new_na_count):\n",
    "            print(f'Warning: column {col}, {col_type} -> {df[col].dtypes} lost na values. Before: {na_count}, after: {new_na_count}')\n",
    "        new_n_uniq = df[col].nunique(dropna=False)\n",
    "        if (n_uniq != new_n_uniq):\n",
    "            print(f'Warning: column {col}, {col_type} -> {df[col].dtypes} lost unique values. Before: {n_uniq}, after: {new_n_uniq}')\n",
    "\n",
    "    end_mem = df.memory_usage(deep=deep).sum() / 1024 ** 2\n",
    "    percent = 100 * (start_mem - end_mem) / start_mem\n",
    "    print('Mem. usage decreased from {:5.2f} Mb to {:5.2f} Mb ({:.1f}% reduction)'.format(start_mem, end_mem, percent))\n",
    "    return df\n",
    "\n",
    "def chunk_predictor(X,model):\n",
    "    predict_fold = KFold(50)\n",
    "    result = np.zeros(X.shape[0])\n",
    "    for trn_idx, val_idx in tqdm_notebook(predict_fold.split(X)):\n",
    "           result[val_idx] = model.predict(X.iloc[val_idx,:])\n",
    "    return(result)\n",
    "\n",
    "def truncate(number, digits):\n",
    "    stepper = 10.0 ** digits\n",
    "    return math.trunc(stepper * number) / stepper\n",
    "def clean_timestamps(df):\n",
    "    \"\"\"\n",
    "    :param df: Dataframe containing a \"timestamp\" field which will be broken down in hour, year, day,...\n",
    "    \"\"\"\n",
    "    df['timestamp'] = pd.to_datetime(df['timestamp'],format='%Y-%m-%d %H:%M:%S')\n",
    "    df[\"month\"] = df[\"timestamp\"].dt.month.astype(np.uint8)\n",
    "    df[\"day\"] = df[\"timestamp\"].dt.day.astype(np.uint8)\n",
    "    df[\"hour\"] = df[\"timestamp\"].dt.hour.astype(np.uint8)\n",
    "    df[\"weekend\"] = df[\"timestamp\"].dt.weekday.astype(np.uint8)\n",
    "def free_space(del_list):\n",
    "    for name in del_list:\n",
    "        if not name.startswith('_'):\n",
    "            del globals()[name]\n",
    "    gc.collect()\n",
    "def vector_apply(vec,fun):\n",
    "    result = vec.copy()\n",
    "    for i in tqdm_notebook(range(len(vec))):\n",
    "        result[i] = fun(vec[i])\n",
    "    return(result)\n",
    "\n",
    "def res_fun(x):\n",
    "    return(truncate(math.exp(x)-1,4))"
   ]
  },
  {
   "cell_type": "code",
   "execution_count": 3,
   "metadata": {
    "_cell_guid": "79c7e3d0-c299-4dcb-8224-4455121ee9b0",
    "_uuid": "d629ff2d2480ee46fbb7e2d37f6b5fab8052498a"
   },
   "outputs": [
    {
     "name": "stdout",
     "output_type": "stream",
     "text": [
      "CPU times: user 27.7 s, sys: 6.61 s, total: 34.3 s\n",
      "Wall time: 33.2 s\n"
     ]
    }
   ],
   "source": [
    "%%time\n",
    "train = pd.read_csv(f'{path}train.csv')\n",
    "test = pd.read_csv(f'{path}test.csv')\n",
    "row_index = test.pop('row_id').copy()\n",
    "weather_train = pd.read_csv(f'{path}weather_train.csv')\n",
    "weather_test = pd.read_csv(f'{path}weather_test.csv')\n",
    "\n",
    "building_metadata = pd.read_csv(f'{path}building_metadata.csv')\n",
    "\n",
    "weather_all = weather_train.append(weather_test,ignore_index=True)\n",
    "weather_all['timestamp'] = pd.to_datetime(weather_all['timestamp'],format='%Y-%m-%d %H:%M:%S')\n"
   ]
  },
  {
   "cell_type": "code",
   "execution_count": 4,
   "metadata": {},
   "outputs": [
    {
     "name": "stdout",
     "output_type": "stream",
     "text": [
      "CPU times: user 21 s, sys: 6.15 s, total: 27.2 s\n",
      "Wall time: 26.1 s\n"
     ]
    }
   ],
   "source": [
    "%%time\n",
    "\n",
    "target = np.log1p(train.pop('meter_reading'))\n",
    "train_row = train.shape[0]\n",
    "\n",
    "train = train.sample(frac=0.3, random_state=3)\n",
    "train['target'] = 0\n",
    "\n",
    "test = test.sample(frac=0.15, random_state=3)\n",
    "test['target'] = 1\n",
    "\n",
    "train_all =train.append(test,ignore_index=True)\n",
    "free_space(['train','test'])\n",
    "           \n",
    "#clean_timestamps(train_all)\n",
    "train_all['timestamp'] = pd.to_datetime(train_all['timestamp'],format='%Y-%m-%d %H:%M:%S')\n",
    "\n",
    "train_all = train_all.merge(building_metadata, left_on = \"building_id\", right_on = \"building_id\", how = \"left\")\n",
    "free_space(['building_metadata'])\n",
    "\n",
    "train_all = train_all.merge(weather_all, left_on = [\"site_id\", \"timestamp\"], right_on = [\"site_id\", \"timestamp\"], how = \"left\")\n",
    "free_space(['weather_all'])\n"
   ]
  },
  {
   "cell_type": "code",
   "execution_count": 5,
   "metadata": {},
   "outputs": [
    {
     "data": {
      "application/vnd.jupyter.widget-view+json": {
       "model_id": "3aed522a78664c58b440e62a20cfbe66",
       "version_major": 2,
       "version_minor": 0
      },
      "text/plain": [
       "HBox(children=(IntProgress(value=0, max=16), HTML(value='')))"
      ]
     },
     "metadata": {},
     "output_type": "display_data"
    },
    {
     "name": "stdout",
     "output_type": "stream",
     "text": [
      "\n",
      "Mem. usage decreased from 2318.55 Mb to 1413.90 Mb (39.0% reduction)\n",
      "CPU times: user 55 s, sys: 9.92 s, total: 1min 4s\n",
      "Wall time: 1min 1s\n"
     ]
    }
   ],
   "source": [
    "%%time\n",
    "reduce_mem_usage_sd(train_all, obj_to_cat=False)\n",
    "gc.collect()\n",
    "\n",
    "train_all.drop(['timestamp','building_id','site_id','primary_use'],axis=1,inplace=True)\n"
   ]
  },
  {
   "cell_type": "code",
   "execution_count": 6,
   "metadata": {},
   "outputs": [],
   "source": [
    "target = train_all.pop('target')"
   ]
  },
  {
   "cell_type": "code",
   "execution_count": 7,
   "metadata": {},
   "outputs": [],
   "source": [
    "# for cat in ['primary_use']:\n",
    "#     train_all[cat] = LabelEncoder().fit_transform(train_all[cat])"
   ]
  },
  {
   "cell_type": "code",
   "execution_count": 8,
   "metadata": {},
   "outputs": [],
   "source": [
    "seed = 1\n",
    "params = {\n",
    "                    'objective':'binary',\n",
    "                    'boosting_type':'gbdt',\n",
    "                    'metric': 'auc',\n",
    "                    'learning_rate':0.3,\n",
    "                    'num_leaves': 2**8,\n",
    "                    'max_depth':-1,\n",
    "                    'tree_learner':'serial',\n",
    "                    'max_bin':255,\n",
    "                    'seed': seed,\n",
    "                    'importance_type':'gain',\n",
    "#                     'early_stopping_rounds':50, \n",
    "                    'n_jobs':-1,\n",
    "                }\n",
    "feature_importances = pd.DataFrame()\n",
    "feature_importances['feature'] = train_all.columns\n"
   ]
  },
  {
   "cell_type": "code",
   "execution_count": 9,
   "metadata": {},
   "outputs": [
    {
     "name": "stdout",
     "output_type": "stream",
     "text": [
      "Fold: 0 ; AUC Score 0.9783603221373637\n",
      "\n",
      "Fold: 1 ; AUC Score 0.9773453735613737\n",
      "\n",
      "Fold: 2 ; AUC Score 0.9771470434896155\n",
      "\n",
      "Final AUC Score 0.977617579729451\n"
     ]
    }
   ],
   "source": [
    "n_fold = 3\n",
    "\n",
    "folds = StratifiedKFold(n_splits=n_fold, shuffle=True,random_state=0)\n",
    "score = 0\n",
    "for fold, (trn_idx, val_idx) in enumerate(folds.split(train_all, target)):\n",
    "        train_x, train_y = train_all.iloc[trn_idx,:], target.iloc[trn_idx]\n",
    "        valid_x, valid_y = train_all.iloc[val_idx,:], target.iloc[val_idx]\n",
    "        model = lgb.train(params,lgb.Dataset(train_x, label=train_y),\n",
    "                  500)#, valid_sets = lgb.Dataset(valid_x, label=valid_y),verbose_eval=100)\n",
    "        pred = model.predict(valid_x)\n",
    "        print('Fold: {} ; AUC Score {}\\n'.format(fold,roc_auc_score(valid_y,pred)))\n",
    "        score += roc_auc_score(valid_y,pred)/n_fold\n",
    "        feature_importances['fold_{}'.format(fold + 1)] = model.feature_importance()\n",
    "        del model\n",
    "        gc.collect()\n",
    "\n",
    "print('Final AUC Score {}'.format(score))"
   ]
  },
  {
   "cell_type": "code",
   "execution_count": 10,
   "metadata": {},
   "outputs": [
    {
     "data": {
      "image/png": "[encoded data removed]",
      "text/plain": [
       "<Figure size 1152x1152 with 1 Axes>"
      ]
     },
     "metadata": {
      "needs_background": "light"
     },
     "output_type": "display_data"
    }
   ],
   "source": [
    "feature_importances['average'] = feature_importances[['fold_{}'.format(fold + 1) for fold in range(folds.n_splits)]].mean(axis=1)\n",
    "feature_importances.to_csv('feature_importances.csv')\n",
    "\n",
    "plt.figure(figsize=(16, 16))\n",
    "sns.barplot(data=feature_importances.sort_values(by='average', ascending=False).head(50), x='average', y='feature');\n",
    "plt.title('50 TOP feature importance over {} folds average'.format(folds.n_splits));\n"
   ]
  }
 ],
 "metadata": {
  "kernelspec": {
   "display_name": "Python 3",
   "language": "python",
   "name": "python3"
  },
  "language_info": {
   "codemirror_mode": {
    "name": "ipython",
    "version": 3
   },
   "file_extension": ".py",
   "mimetype": "text/x-python",
   "name": "python",
   "nbconvert_exporter": "python",
   "pygments_lexer": "ipython3",
   "version": "3.6.6"
  },
  "widgets": {
   "application/vnd.jupyter.widget-state+json": {
    "state": {
     "3aed522a78664c58b440e62a20cfbe66": {
      "model_module": "@jupyter-widgets/controls",
      "model_module_version": "1.5.0",
      "model_name": "HBoxModel",
      "state": {
       "_dom_classes": [],
       "_model_module": "@jupyter-widgets/controls",
       "_model_module_version": "1.5.0",
       "_model_name": "HBoxModel",
       "_view_count": null,
       "_view_module": "@jupyter-widgets/controls",
       "_view_module_version": "1.5.0",
       "_view_name": "HBoxView",
       "box_style": "",
       "children": [
        "IPY_MODEL_d8b1cd6dac62457fa05a0d67f19d2fe2",
        "IPY_MODEL_de4ce1c084254762843a8dadda593b93"
       ],
       "layout": "IPY_MODEL_60d0a1ec25e34698958e470cc4d411d0"
      }
     },
     "60d0a1ec25e34698958e470cc4d411d0": {
      "model_module": "@jupyter-widgets/base",
      "model_module_version": "1.2.0",
      "model_name": "LayoutModel",
      "state": {
       "_model_module": "@jupyter-widgets/base",
       "_model_module_version": "1.2.0",
       "_model_name": "LayoutModel",
       "_view_count": null,
       "_view_module": "@jupyter-widgets/base",
       "_view_module_version": "1.2.0",
       "_view_name": "LayoutView",
       "align_content": null,
       "align_items": null,
       "align_self": null,
       "border": null,
       "bottom": null,
       "display": null,
       "flex": null,
       "flex_flow": null,
       "grid_area": null,
       "grid_auto_columns": null,
       "grid_auto_flow": null,
       "grid_auto_rows": null,
       "grid_column": null,
       "grid_gap": null,
       "grid_row": null,
       "grid_template_areas": null,
       "grid_template_columns": null,
       "grid_template_rows": null,
       "height": null,
       "justify_content": null,
       "justify_items": null,
       "left": null,
       "margin": null,
       "max_height": null,
       "max_width": null,
       "min_height": null,
       "min_width": null,
       "object_fit": null,
       "object_position": null,
       "order": null,
       "overflow": null,
       "overflow_x": null,
       "overflow_y": null,
       "padding": null,
       "right": null,
       "top": null,
       "visibility": null,
       "width": null
      }
     },
     "71c15758d4414de78c5b74de072a3c8c": {
      "model_module": "@jupyter-widgets/base",
      "model_module_version": "1.2.0",
      "model_name": "LayoutModel",
      "state": {
       "_model_module": "@jupyter-widgets/base",
       "_model_module_version": "1.2.0",
       "_model_name": "LayoutModel",
       "_view_count": null,
       "_view_module": "@jupyter-widgets/base",
       "_view_module_version": "1.2.0",
       "_view_name": "LayoutView",
       "align_content": null,
       "align_items": null,
       "align_self": null,
       "border": null,
       "bottom": null,
       "display": null,
       "flex": null,
       "flex_flow": null,
       "grid_area": null,
       "grid_auto_columns": null,
       "grid_auto_flow": null,
       "grid_auto_rows": null,
       "grid_column": null,
       "grid_gap": null,
       "grid_row": null,
       "grid_template_areas": null,
       "grid_template_columns": null,
       "grid_template_rows": null,
       "height": null,
       "justify_content": null,
       "justify_items": null,
       "left": null,
       "margin": null,
       "max_height": null,
       "max_width": null,
       "min_height": null,
       "min_width": null,
       "object_fit": null,
       "object_position": null,
       "order": null,
       "overflow": null,
       "overflow_x": null,
       "overflow_y": null,
       "padding": null,
       "right": null,
       "top": null,
       "visibility": null,
       "width": null
      }
     },
     "7764a72a08fa41c8a80cee6df3b17d40": {
      "model_module": "@jupyter-widgets/controls",
      "model_module_version": "1.5.0",
      "model_name": "DescriptionStyleModel",
      "state": {
       "_model_module": "@jupyter-widgets/controls",
       "_model_module_version": "1.5.0",
       "_model_name": "DescriptionStyleModel",
       "_view_count": null,
       "_view_module": "@jupyter-widgets/base",
       "_view_module_version": "1.2.0",
       "_view_name": "StyleView",
       "description_width": ""
      }
     },
     "ae69ee9c75dd4c19ab91ba5395e6c77a": {
      "model_module": "@jupyter-widgets/controls",
      "model_module_version": "1.5.0",
      "model_name": "ProgressStyleModel",
      "state": {
       "_model_module": "@jupyter-widgets/controls",
       "_model_module_version": "1.5.0",
       "_model_name": "ProgressStyleModel",
       "_view_count": null,
       "_view_module": "@jupyter-widgets/base",
       "_view_module_version": "1.2.0",
       "_view_name": "StyleView",
       "bar_color": null,
       "description_width": "initial"
      }
     },
     "d8b1cd6dac62457fa05a0d67f19d2fe2": {
      "model_module": "@jupyter-widgets/controls",
      "model_module_version": "1.5.0",
      "model_name": "IntProgressModel",
      "state": {
       "_dom_classes": [],
       "_model_module": "@jupyter-widgets/controls",
       "_model_module_version": "1.5.0",
       "_model_name": "IntProgressModel",
       "_view_count": null,
       "_view_module": "@jupyter-widgets/controls",
       "_view_module_version": "1.5.0",
       "_view_name": "ProgressView",
       "bar_style": "success",
       "description": "100%",
       "description_tooltip": null,
       "layout": "IPY_MODEL_f3c44874c680451fb5b20f63288b6b2a",
       "max": 16,
       "min": 0,
       "orientation": "horizontal",
       "style": "IPY_MODEL_ae69ee9c75dd4c19ab91ba5395e6c77a",
       "value": 16
      }
     },
     "de4ce1c084254762843a8dadda593b93": {
      "model_module": "@jupyter-widgets/controls",
      "model_module_version": "1.5.0",
      "model_name": "HTMLModel",
      "state": {
       "_dom_classes": [],
       "_model_module": "@jupyter-widgets/controls",
       "_model_module_version": "1.5.0",
       "_model_name": "HTMLModel",
       "_view_count": null,
       "_view_module": "@jupyter-widgets/controls",
       "_view_module_version": "1.5.0",
       "_view_name": "HTMLView",
       "description": "",
       "description_tooltip": null,
       "layout": "IPY_MODEL_71c15758d4414de78c5b74de072a3c8c",
       "placeholder": "​",
       "style": "IPY_MODEL_7764a72a08fa41c8a80cee6df3b17d40",
       "value": " 16/16 [00:45&lt;00:00,  2.83s/it]"
      }
     },
     "f3c44874c680451fb5b20f63288b6b2a": {
      "model_module": "@jupyter-widgets/base",
      "model_module_version": "1.2.0",
      "model_name": "LayoutModel",
      "state": {
       "_model_module": "@jupyter-widgets/base",
       "_model_module_version": "1.2.0",
       "_model_name": "LayoutModel",
       "_view_count": null,
       "_view_module": "@jupyter-widgets/base",
       "_view_module_version": "1.2.0",
       "_view_name": "LayoutView",
       "align_content": null,
       "align_items": null,
       "align_self": null,
       "border": null,
       "bottom": null,
       "display": null,
       "flex": null,
       "flex_flow": null,
       "grid_area": null,
       "grid_auto_columns": null,
       "grid_auto_flow": null,
       "grid_auto_rows": null,
       "grid_column": null,
       "grid_gap": null,
       "grid_row": null,
       "grid_template_areas": null,
       "grid_template_columns": null,
       "grid_template_rows": null,
       "height": null,
       "justify_content": null,
       "justify_items": null,
       "left": null,
       "margin": null,
       "max_height": null,
       "max_width": null,
       "min_height": null,
       "min_width": null,
       "object_fit": null,
       "object_position": null,
       "order": null,
       "overflow": null,
       "overflow_x": null,
       "overflow_y": null,
       "padding": null,
       "right": null,
       "top": null,
       "visibility": null,
       "width": null
      }
     }
    },
    "version_major": 2,
    "version_minor": 0
   }
  }
 },
 "nbformat": 4,
 "nbformat_minor": 1
}
