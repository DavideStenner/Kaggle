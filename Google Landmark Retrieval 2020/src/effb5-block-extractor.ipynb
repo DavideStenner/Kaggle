{
 "cells": [
  {
   "cell_type": "code",
   "execution_count": 1,
   "metadata": {
    "_cell_guid": "b1076dfc-b9ad-4769-8c92-a6c4dae69d19",
    "_uuid": "8f2839f25d086af736a60e9eeb907d3b93b6e0e5"
   },
   "outputs": [],
   "source": [
    "!pip install -q efficientnet --quiet"
   ]
  },
  {
   "cell_type": "code",
   "execution_count": 2,
   "metadata": {
    "_cell_guid": "79c7e3d0-c299-4dcb-8224-4455121ee9b0",
    "_uuid": "d629ff2d2480ee46fbb7e2d37f6b5fab8052498a"
   },
   "outputs": [],
   "source": [
    "import numpy as np\n",
    "import pandas as pd\n",
    "import os\n",
    "from tqdm.notebook import tqdm\n",
    "import gc\n",
    "import tensorflow as tf\n",
    "from sklearn.model_selection import train_test_split\n",
    "import pickle\n",
    "from tensorflow.keras.callbacks import CSVLogger\n",
    "import time\n",
    "from efficientnet.tfkeras import center_crop_and_resize\n",
    "from tensorflow_addons.losses import TripletSemiHardLoss"
   ]
  },
  {
   "cell_type": "code",
   "execution_count": 3,
   "metadata": {},
   "outputs": [
    {
     "name": "stderr",
     "output_type": "stream",
     "text": [
      "\u001b[34m\u001b[1mwandb\u001b[0m: \u001b[33mWARNING\u001b[0m W&B installed but not logged in.  Run `wandb login` or set the WANDB_API_KEY env variable.\n"
     ]
    }
   ],
   "source": [
    "from model_semantic import MODEL_INPUT, linear_warmup, build_model_extractor, timecallback, Score_call\n",
    "from utility_effnet import predictDataset, DataGenerator_mining"
   ]
  },
  {
   "cell_type": "code",
   "execution_count": 4,
   "metadata": {},
   "outputs": [],
   "source": [
    "dataset_loader_path = '../input/dataset-loader-four/'"
   ]
  },
  {
   "cell_type": "markdown",
   "execution_count": null,
   "metadata": {},
   "source": [
    "Import used dataset"
   ]
  },
  {
   "cell_type": "code",
   "execution_count": 5,
   "metadata": {},
   "outputs": [],
   "source": [
    "with open(dataset_loader_path + 'train_.pkl', 'rb') as f:\n",
    "    train_ = pickle.load(f)"
   ]
  },
  {
   "cell_type": "code",
   "execution_count": 6,
   "metadata": {},
   "outputs": [],
   "source": [
    "MODEL_TYPE = 'B5'\n",
    "MODEL_ = 'efficientnet'\n",
    "\n",
    "IMAGE_SIZE = MODEL_INPUT[MODEL_TYPE]\n",
    "BATCH_SIZE = 128\n",
    "EPOCHS = 2\n",
    "NUMBER_OF_IMAGE = 4\n",
    "EFF_NET_SHAPE = (IMAGE_SIZE, IMAGE_SIZE, 3)"
   ]
  },
  {
   "cell_type": "code",
   "execution_count": 7,
   "metadata": {},
   "outputs": [],
   "source": [
    "training_generator = DataGenerator_mining(train_, BATCH_SIZE, IMAGE_SIZE, number_of_image = NUMBER_OF_IMAGE)"
   ]
  },
  {
   "cell_type": "code",
   "execution_count": 8,
   "metadata": {},
   "outputs": [],
   "source": [
    "epoch_step = len(training_generator)\n",
    "\n",
    "total_step = EPOCHS * epoch_step\n",
    "\n",
    "initial_lr = 0.001\n",
    "num_warmup_steps = (epoch_step * EPOCHS) //10\n",
    "\n",
    "optimizer_warmup = linear_warmup(init_lr = initial_lr, num_train_steps = total_step, num_warmup_steps = num_warmup_steps)"
   ]
  },
  {
   "cell_type": "code",
   "execution_count": 9,
   "metadata": {},
   "outputs": [
    {
     "name": "stdout",
     "output_type": "stream",
     "text": [
      "Downloading data from https://github.com/qubvel/efficientnet/releases/download/v0.0.1/efficientnet-b5_noisy-student_notop.h5\n",
      "115261440/115255328 [==============================] - 5s 0us/step\n"
     ]
    }
   ],
   "source": [
    "model = build_model_extractor(\n",
    "    optimizer_warmup, EFF_NET_SHAPE, TripletSemiHardLoss(),\n",
    "    model = MODEL_, modeltype = 'B5', weights = 'noisy-student', trainable = False)"
   ]
  },
  {
   "cell_type": "code",
   "execution_count": 10,
   "metadata": {},
   "outputs": [
    {
     "name": "stdout",
     "output_type": "stream",
     "text": [
      "Epoch 1/2\n",
      "2260/2260 [==============================] - 11622s 5s/step - loss: 0.6339\n",
      "Epoch 2/2\n",
      "2260/2260 [==============================] - 11625s 5s/step - loss: 0.5244\n"
     ]
    }
   ],
   "source": [
    "history = model.fit(\n",
    "    training_generator,\n",
    "    batch_size=BATCH_SIZE, epochs=EPOCHS,\n",
    "    verbose = 1\n",
    ")"
   ]
  },
  {
   "cell_type": "code",
   "execution_count": 11,
   "metadata": {},
   "outputs": [],
   "source": [
    "model.save_weights(f'{MODEL_}{MODEL_TYPE}_embedding_model.hdf5')"
   ]
  },
  {
   "cell_type": "code",
   "execution_count": 12,
   "metadata": {},
   "outputs": [],
   "source": [
    "!mkdir -p saved_model\n",
    "model.save('saved_model/my_model')"
   ]
  }
 ],
 "metadata": {
  "kernelspec": {
   "display_name": "Python 3",
   "language": "python",
   "name": "python3"
  },
  "language_info": {
   "codemirror_mode": {
    "name": "ipython",
    "version": 3
   },
   "file_extension": ".py",
   "mimetype": "text/x-python",
   "name": "python",
   "nbconvert_exporter": "python",
   "pygments_lexer": "ipython3",
   "version": "3.7.6"
  }
 },
 "nbformat": 4,
 "nbformat_minor": 4
}
