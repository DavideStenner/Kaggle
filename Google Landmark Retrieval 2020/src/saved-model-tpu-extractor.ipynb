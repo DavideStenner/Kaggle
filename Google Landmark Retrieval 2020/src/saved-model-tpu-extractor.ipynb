{
 "cells": [
  {
   "cell_type": "code",
   "execution_count": 1,
   "metadata": {
    "execution": {
     "iopub.execute_input": "2020-08-10T22:38:58.508489Z",
     "iopub.status.busy": "2020-08-10T22:38:58.507437Z",
     "iopub.status.idle": "2020-08-10T22:39:12.657457Z",
     "shell.execute_reply": "2020-08-10T22:39:12.656385Z"
    },
    "papermill": {
     "duration": 14.17327,
     "end_time": "2020-08-10T22:39:12.657626",
     "exception": false,
     "start_time": "2020-08-10T22:38:58.484356",
     "status": "completed"
    },
    "tags": []
   },
   "outputs": [],
   "source": [
    "!pip install -q efficientnet --quiet"
   ]
  },
  {
   "cell_type": "code",
   "execution_count": 2,
   "metadata": {
    "_cell_guid": "79c7e3d0-c299-4dcb-8224-4455121ee9b0",
    "_uuid": "d629ff2d2480ee46fbb7e2d37f6b5fab8052498a",
    "execution": {
     "iopub.execute_input": "2020-08-10T22:39:12.693929Z",
     "iopub.status.busy": "2020-08-10T22:39:12.692465Z",
     "iopub.status.idle": "2020-08-10T22:39:25.316342Z",
     "shell.execute_reply": "2020-08-10T22:39:25.315620Z"
    },
    "papermill": {
     "duration": 12.645828,
     "end_time": "2020-08-10T22:39:25.316557",
     "exception": false,
     "start_time": "2020-08-10T22:39:12.670729",
     "status": "completed"
    },
    "tags": []
   },
   "outputs": [],
   "source": [
    "import numpy as np\n",
    "import tensorflow as tf\n",
    "from tensorflow.keras import layers,models\n",
    "from tensorflow.keras.applications.imagenet_utils import preprocess_input\n",
    "\n",
    "from tensorflow.python.ops import math_ops\n",
    "from tensorflow.python.framework import dtypes\n",
    "from efficientnet.tfkeras import center_crop_and_resize\n",
    "from tensorflow_addons.losses import TripletSemiHardLoss\n"
   ]
  },
  {
   "cell_type": "code",
   "execution_count": 3,
   "metadata": {
    "execution": {
     "iopub.execute_input": "2020-08-10T22:39:25.360261Z",
     "iopub.status.busy": "2020-08-10T22:39:25.358703Z",
     "iopub.status.idle": "2020-08-10T22:39:49.905931Z",
     "shell.execute_reply": "2020-08-10T22:39:49.905119Z"
    },
    "papermill": {
     "duration": 24.574474,
     "end_time": "2020-08-10T22:39:49.906103",
     "exception": false,
     "start_time": "2020-08-10T22:39:25.331629",
     "status": "completed"
    },
    "tags": []
   },
   "outputs": [
    {
     "name": "stderr",
     "output_type": "stream",
     "text": [
      "\u001b[34m\u001b[1mwandb\u001b[0m: \u001b[33mWARNING\u001b[0m W&B installed but not logged in.  Run `wandb login` or set the WANDB_API_KEY env variable.\n"
     ]
    }
   ],
   "source": [
    "from model_semantic import MODEL_INPUT, linear_warmup, build_model_extractor, timecallback, Score_call"
   ]
  },
  {
   "cell_type": "code",
   "execution_count": 4,
   "metadata": {
    "execution": {
     "iopub.execute_input": "2020-08-10T22:39:49.941807Z",
     "iopub.status.busy": "2020-08-10T22:39:49.940235Z",
     "iopub.status.idle": "2020-08-10T22:39:49.946673Z",
     "shell.execute_reply": "2020-08-10T22:39:49.945226Z"
    },
    "papermill": {
     "duration": 0.027831,
     "end_time": "2020-08-10T22:39:49.946886",
     "exception": false,
     "start_time": "2020-08-10T22:39:49.919055",
     "status": "completed"
    },
    "tags": []
   },
   "outputs": [],
   "source": [
    "MODEL_TYPE = 'B5'\n",
    "MODEL_ = 'efficientnet'\n",
    "\n",
    "IMAGE_SIZE = MODEL_INPUT[MODEL_TYPE]\n",
    "EFF_NET_SHAPE = (IMAGE_SIZE, IMAGE_SIZE, 3)\n",
    "CROP_PADDING = 32\n",
    "EPOCHS = 3"
   ]
  },
  {
   "cell_type": "code",
   "execution_count": 5,
   "metadata": {
    "execution": {
     "iopub.execute_input": "2020-08-10T22:39:49.985231Z",
     "iopub.status.busy": "2020-08-10T22:39:49.984324Z",
     "iopub.status.idle": "2020-08-10T22:39:49.991472Z",
     "shell.execute_reply": "2020-08-10T22:39:49.990509Z"
    },
    "papermill": {
     "duration": 0.031057,
     "end_time": "2020-08-10T22:39:49.991645",
     "exception": false,
     "start_time": "2020-08-10T22:39:49.960588",
     "status": "completed"
    },
    "tags": []
   },
   "outputs": [],
   "source": [
    "epoch_step = 100\n",
    "\n",
    "total_step = EPOCHS * epoch_step\n",
    "\n",
    "initial_lr = 0.001\n",
    "num_warmup_steps = (epoch_step * EPOCHS) //10\n",
    "\n",
    "optimizer_warmup = linear_warmup(init_lr = initial_lr,\n",
    "                                 num_train_steps = total_step, num_warmup_steps = num_warmup_steps\n",
    "                             )"
   ]
  },
  {
   "cell_type": "code",
   "execution_count": 6,
   "metadata": {
    "execution": {
     "iopub.execute_input": "2020-08-10T22:39:50.035069Z",
     "iopub.status.busy": "2020-08-10T22:39:50.034147Z",
     "iopub.status.idle": "2020-08-10T22:40:09.921817Z",
     "shell.execute_reply": "2020-08-10T22:40:09.920860Z"
    },
    "papermill": {
     "duration": 19.915363,
     "end_time": "2020-08-10T22:40:09.921978",
     "exception": false,
     "start_time": "2020-08-10T22:39:50.006615",
     "status": "completed"
    },
    "tags": []
   },
   "outputs": [
    {
     "name": "stdout",
     "output_type": "stream",
     "text": [
      "Downloading data from https://github.com/qubvel/efficientnet/releases/download/v0.0.1/efficientnet-b5_noisy-student_notop.h5\n",
      "115261440/115255328 [==============================] - 3s 0us/step\n"
     ]
    }
   ],
   "source": [
    "model = build_model_extractor(\n",
    "    optimizer_warmup, EFF_NET_SHAPE, TripletSemiHardLoss(),\n",
    "    model = MODEL_, modeltype = 'B5', weights = 'noisy-student', trainable = False)\n"
   ]
  },
  {
   "cell_type": "code",
   "execution_count": 7,
   "metadata": {
    "execution": {
     "iopub.execute_input": "2020-08-10T22:40:10.031053Z",
     "iopub.status.busy": "2020-08-10T22:40:10.028356Z",
     "iopub.status.idle": "2020-08-10T22:40:11.678644Z",
     "shell.execute_reply": "2020-08-10T22:40:11.677626Z"
    },
    "papermill": {
     "duration": 1.7138,
     "end_time": "2020-08-10T22:40:11.678811",
     "exception": false,
     "start_time": "2020-08-10T22:40:09.965011",
     "status": "completed"
    },
    "tags": []
   },
   "outputs": [],
   "source": [
    "model.load_weights('../input/tpu-eff-b5-block-extractor/efficientnetB5_embedding_model.hdf5')"
   ]
  },
  {
   "cell_type": "code",
   "execution_count": 8,
   "metadata": {
    "execution": {
     "iopub.execute_input": "2020-08-10T22:40:11.789123Z",
     "iopub.status.busy": "2020-08-10T22:40:11.783295Z",
     "iopub.status.idle": "2020-08-10T22:40:11.799043Z",
     "shell.execute_reply": "2020-08-10T22:40:11.797712Z"
    },
    "papermill": {
     "duration": 0.072137,
     "end_time": "2020-08-10T22:40:11.799253",
     "exception": false,
     "start_time": "2020-08-10T22:40:11.727116",
     "status": "completed"
    },
    "tags": []
   },
   "outputs": [],
   "source": [
    "def preprocess_effnet(image_tensor,\n",
    "                        image_size,\n",
    "                     crop_padding = 32):\n",
    "    \"\"\"Preprocesses the given image for evaluation.\n",
    "    Args:\n",
    "    image_tensor: `Tensor` representing an image of arbitrary size.\n",
    "    image_size: image size.\n",
    "    Returns:\n",
    "    A preprocessed image `Tensor`.\n",
    "    \"\"\"\n",
    "    image = _decode_and_center_crop(image_tensor, image_size, crop_padding)\n",
    "    image = tf.reshape(image, [image_size, image_size, 3])\n",
    "    image = tf.image.convert_image_dtype(image, dtype = tf.float32)\n",
    "    \n",
    "    image = tf.clip_by_value(image, 0.0, 255.0)\n",
    "    image = tf.cast(image, dtype = tf.float32)\n",
    "\n",
    "    return image\n",
    "\n",
    "\n",
    "def _decode_and_center_crop(image_tensor, image_size, crop_padding):\n",
    "    \"\"\"Crops to center of image with padding then scales image_size.\"\"\"\n",
    "    \n",
    "    shape = tf.shape(image_tensor)\n",
    "    \n",
    "    image_height_ = shape[0]\n",
    "    image_width_ = shape[1]\n",
    "    \n",
    "    image_height = math_ops.cast(image_height_, dtypes.float64)\n",
    "    image_width = math_ops.cast(image_width_, dtypes.float64)\n",
    "    \n",
    "    image_size = math_ops.cast(image_size, dtypes.float64)\n",
    "    crop_padding = math_ops.cast(crop_padding, dtypes.float64)\n",
    "\n",
    "    padded_center_crop_size = math_ops.cast(\n",
    "      ((image_size / (image_size + crop_padding)) *\n",
    "       math_ops.cast(math_ops.minimum(image_height, image_width), dtypes.float64)),\n",
    "      dtypes.int32)\n",
    "    \n",
    "    offset_height = ((image_height_ - padded_center_crop_size) + 1) // 2\n",
    "    offset_width = ((image_width_ - padded_center_crop_size) + 1) // 2\n",
    "    \n",
    "    image = tf.image.crop_to_bounding_box(image_tensor, offset_height, offset_width, padded_center_crop_size, padded_center_crop_size)\n",
    "\n",
    "    image = _resize_image(image, image_size)\n",
    "    return image\n",
    "\n",
    "def _resize_image(image, image_size):\n",
    "    return tf.image.resize([image], [image_size, image_size], method = tf.image.ResizeMethod.BICUBIC)[0]\n",
    "\n"
   ]
  },
  {
   "cell_type": "code",
   "execution_count": 9,
   "metadata": {
    "execution": {
     "iopub.execute_input": "2020-08-10T22:40:11.896430Z",
     "iopub.status.busy": "2020-08-10T22:40:11.895561Z",
     "iopub.status.idle": "2020-08-10T22:40:11.900994Z",
     "shell.execute_reply": "2020-08-10T22:40:11.900130Z"
    },
    "papermill": {
     "duration": 0.06461,
     "end_time": "2020-08-10T22:40:11.901149",
     "exception": false,
     "start_time": "2020-08-10T22:40:11.836539",
     "status": "completed"
    },
    "tags": []
   },
   "outputs": [],
   "source": [
    "class effnet_model(tf.keras.Model):\n",
    "    def __init__(self, image_size, preprocess_effnet = preprocess_effnet, preprocess_input = preprocess_input, model = model):\n",
    "        super(effnet_model, self).__init__()\n",
    "                \n",
    "        self.model = model\n",
    "        self.image_size = image_size\n",
    "        \n",
    "        self.preprocess_input = preprocess_input\n",
    "        self.preprocess_effnet = preprocess_effnet\n",
    "        \n",
    "    def _get_dim(self, tensor, idx):\n",
    "        static_shape = tensor.get_shape().dims[idx].value\n",
    "        if static_shape is not None:\n",
    "            return static_shape, False\n",
    "        return array_ops.shape(tensor)[idx], True\n",
    "    \n",
    "    @tf.function(\n",
    "        input_signature=[\n",
    "            tf.TensorSpec(shape=[None, None, 3], dtype=tf.uint8, name='input_image')\n",
    "        ]\n",
    "    )\n",
    "\n",
    "    def call(self, input_image):\n",
    "        \n",
    "        output_tensors = {}\n",
    "\n",
    "        #resizing\n",
    "        im = self.preprocess_effnet(input_image, self.image_size)\n",
    "        \n",
    "        # preprocessing\n",
    "        im = self.preprocess_input(im, mode = 'torch')\n",
    "        \n",
    "        im = tf.expand_dims(im, 0)\n",
    "        \n",
    "        extracted_features = self.model(tf.convert_to_tensor(im))[0]\n",
    "        output_tensors['global_descriptor'] = tf.identity(extracted_features, name='global_descriptor')\n",
    "        return output_tensors\n"
   ]
  },
  {
   "cell_type": "code",
   "execution_count": 10,
   "metadata": {
    "execution": {
     "iopub.execute_input": "2020-08-10T22:40:12.003338Z",
     "iopub.status.busy": "2020-08-10T22:40:11.997487Z",
     "iopub.status.idle": "2020-08-10T22:40:12.018571Z",
     "shell.execute_reply": "2020-08-10T22:40:12.017500Z"
    },
    "papermill": {
     "duration": 0.078292,
     "end_time": "2020-08-10T22:40:12.018740",
     "exception": false,
     "start_time": "2020-08-10T22:40:11.940448",
     "status": "completed"
    },
    "tags": []
   },
   "outputs": [],
   "source": [
    "score_model = effnet_model(image_size = IMAGE_SIZE) #creating our model instance\n",
    "\n",
    "served_function = score_model.call"
   ]
  },
  {
   "cell_type": "code",
   "execution_count": 11,
   "metadata": {
    "execution": {
     "iopub.execute_input": "2020-08-10T22:40:12.113983Z",
     "iopub.status.busy": "2020-08-10T22:40:12.113122Z",
     "iopub.status.idle": "2020-08-10T22:41:54.613377Z",
     "shell.execute_reply": "2020-08-10T22:41:54.610005Z"
    },
    "papermill": {
     "duration": 102.555774,
     "end_time": "2020-08-10T22:41:54.613590",
     "exception": false,
     "start_time": "2020-08-10T22:40:12.057816",
     "status": "completed"
    },
    "tags": []
   },
   "outputs": [],
   "source": [
    "tf.saved_model.save(\n",
    "      score_model, export_dir=\"./my_model\", signatures={'serving_default': served_function})\n"
   ]
  }
 ],
 "metadata": {
  "kernelspec": {
   "display_name": "Python 3",
   "language": "python",
   "name": "python3"
  },
  "language_info": {
   "codemirror_mode": {
    "name": "ipython",
    "version": 3
   },
   "file_extension": ".py",
   "mimetype": "text/x-python",
   "name": "python",
   "nbconvert_exporter": "python",
   "pygments_lexer": "ipython3",
   "version": "3.7.6"
  },
  "papermill": {
   "duration": 184.48407,
   "end_time": "2020-08-10T22:41:55.704022",
   "environment_variables": {},
   "exception": null,
   "input_path": "__notebook__.ipynb",
   "output_path": "__notebook__.ipynb",
   "parameters": {},
   "start_time": "2020-08-10T22:38:51.219952",
   "version": "2.1.0"
  }
 },
 "nbformat": 4,
 "nbformat_minor": 4
}
