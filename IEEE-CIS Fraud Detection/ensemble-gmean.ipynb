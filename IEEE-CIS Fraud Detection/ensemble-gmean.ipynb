{
 "cells": [
  {
   "cell_type": "code",
   "execution_count": 1,
   "metadata": {
    "_cell_guid": "b1076dfc-b9ad-4769-8c92-a6c4dae69d19",
    "_uuid": "8f2839f25d086af736a60e9eeb907d3b93b6e0e5"
   },
   "outputs": [],
   "source": [
    "import warnings\n",
    "warnings.filterwarnings(\"ignore\")\n",
    "\n",
    "import numpy as np # linear algebra\n",
    "import pandas as pd # data processing, CSV file I/O (e.g. pd.read_csv)\n",
    "import glob\n",
    "\n",
    "from scipy.stats import describe\n",
    "import seaborn as sns\n",
    "import matplotlib.pyplot as plt\n",
    "%matplotlib inline\n",
    "\n",
    "lightgbm_sub = pd.read_csv('../input/fraud-second-stratified/submission_ensemble.csv', index_col=0) #0.9204137075569208  \n",
    "catboost_sub = pd.read_csv('../input/catboost/submission_ensemble_catboost.csv', index_col=0) #0.9157006798\n",
    "xgboost_sub = pd.read_csv('../input/xgboost/submission_ensemble_xgboost.csv', index_col=0) #0.9116481284757537  \n",
    "xgboost_dart = pd.read_csv('../input/xgboost-dart/submission_ensemble_xgboost.csv', index_col=0) #0.9113919814525195  \n",
    "lightgbm_dart = pd.read_csv('../input/fraud-second-stratified/submission_ensemble.csv', index_col=0)#0.9187943912400385  "
   ]
  },
  {
   "cell_type": "code",
   "execution_count": 2,
   "metadata": {
    "_cell_guid": "79c7e3d0-c299-4dcb-8224-4455121ee9b0",
    "_uuid": "d629ff2d2480ee46fbb7e2d37f6b5fab8052498a"
   },
   "outputs": [],
   "source": [
    "sub = pd.read_csv('../input/ieee-fraud-detection/sample_submission.csv')\n",
    "sub['isFraud']=(catboost_sub.values+lightgbm_sub.values+xgboost_sub.values+xgboost_dart.values+lightgbm_dart.values)/5\n",
    "sub.to_csv('submission_ensemble.csv', index=False)\n",
    "\n"
   ]
  }
 ],
 "metadata": {
  "kernelspec": {
   "display_name": "Python 3",
   "language": "python",
   "name": "python3"
  },
  "language_info": {
   "codemirror_mode": {
    "name": "ipython",
    "version": 3
   },
   "file_extension": ".py",
   "mimetype": "text/x-python",
   "name": "python",
   "nbconvert_exporter": "python",
   "pygments_lexer": "ipython3",
   "version": "3.6.6"
  }
 },
 "nbformat": 4,
 "nbformat_minor": 1
}
