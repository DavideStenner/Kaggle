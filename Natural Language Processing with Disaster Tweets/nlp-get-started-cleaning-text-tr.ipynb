{
 "cells": [
  {
   "cell_type": "code",
   "execution_count": 1,
   "id": "368d37be",
   "metadata": {
    "execution": {
     "iopub.execute_input": "2023-04-12T12:49:43.051513Z",
     "iopub.status.busy": "2023-04-12T12:49:43.050600Z",
     "iopub.status.idle": "2023-04-12T12:49:44.116080Z",
     "shell.execute_reply": "2023-04-12T12:49:44.114693Z"
    },
    "papermill": {
     "duration": 1.076395,
     "end_time": "2023-04-12T12:49:44.119464",
     "exception": false,
     "start_time": "2023-04-12T12:49:43.043069",
     "status": "completed"
    },
    "tags": []
   },
   "outputs": [],
   "source": [
    "import re\n",
    "import pandas as pd\n",
    "\n",
    "from sklearn.model_selection import StratifiedKFold\n",
    "\n",
    "RANDOM_STATE = 91791652\n",
    "N_FOLD = 5"
   ]
  },
  {
   "cell_type": "code",
   "execution_count": 2,
   "id": "246842e1",
   "metadata": {
    "_cell_guid": "79c7e3d0-c299-4dcb-8224-4455121ee9b0",
    "_uuid": "d629ff2d2480ee46fbb7e2d37f6b5fab8052498a",
    "execution": {
     "iopub.execute_input": "2023-04-12T12:49:44.133137Z",
     "iopub.status.busy": "2023-04-12T12:49:44.131883Z",
     "iopub.status.idle": "2023-04-12T12:49:44.221792Z",
     "shell.execute_reply": "2023-04-12T12:49:44.220403Z"
    },
    "papermill": {
     "duration": 0.099074,
     "end_time": "2023-04-12T12:49:44.224459",
     "exception": false,
     "start_time": "2023-04-12T12:49:44.125385",
     "status": "completed"
    },
    "tags": []
   },
   "outputs": [
    {
     "name": "stdout",
     "output_type": "stream",
     "text": [
      "Training Set Shape = (7613, 5)\n",
      "Test Set Shape = (3263, 4)\n"
     ]
    }
   ],
   "source": [
    "df_train = pd.read_csv('../input/nlp-getting-started/train.csv', dtype={'id': 'int16', 'target': 'int8'})\n",
    "df_test = pd.read_csv('../input/nlp-getting-started/test.csv', dtype={'id': 'int16'})\n",
    "\n",
    "print(f'Training Set Shape = {df_train.shape}')\n",
    "print(f'Test Set Shape = {df_test.shape}')"
   ]
  },
  {
   "cell_type": "code",
   "execution_count": 3,
   "id": "1527eaa6",
   "metadata": {
    "execution": {
     "iopub.execute_input": "2023-04-12T12:49:44.235693Z",
     "iopub.status.busy": "2023-04-12T12:49:44.235262Z",
     "iopub.status.idle": "2023-04-12T12:49:44.251390Z",
     "shell.execute_reply": "2023-04-12T12:49:44.250341Z"
    },
    "papermill": {
     "duration": 0.02471,
     "end_time": "2023-04-12T12:49:44.253956",
     "exception": false,
     "start_time": "2023-04-12T12:49:44.229246",
     "status": "completed"
    },
    "tags": []
   },
   "outputs": [],
   "source": [
    "#Set missing as 'no_keyword' and 'no_location' used after for embedding\n",
    "df_train['keyword'].fillna('no keyword', inplace=True)\n",
    "df_test['keyword'].fillna('no keyword', inplace=True)\n",
    "\n",
    "df_train['location'].fillna('no location', inplace=True)\n",
    "df_test['location'].fillna('no location', inplace=True)"
   ]
  },
  {
   "cell_type": "code",
   "execution_count": 4,
   "id": "cc0dbf5a",
   "metadata": {
    "execution": {
     "iopub.execute_input": "2023-04-12T12:49:44.266427Z",
     "iopub.status.busy": "2023-04-12T12:49:44.265199Z",
     "iopub.status.idle": "2023-04-12T12:49:44.276940Z",
     "shell.execute_reply": "2023-04-12T12:49:44.275694Z"
    },
    "papermill": {
     "duration": 0.0206,
     "end_time": "2023-04-12T12:49:44.279567",
     "exception": false,
     "start_time": "2023-04-12T12:49:44.258967",
     "status": "completed"
    },
    "tags": []
   },
   "outputs": [],
   "source": [
    "#clean ketword\n",
    "df_train['keyword'] = df_train['keyword'].apply(lambda x: x.replace('%20', ' '))\n",
    "df_test['keyword'] = df_test['keyword'].apply(lambda x: x.replace('%20', ' '))"
   ]
  },
  {
   "cell_type": "code",
   "execution_count": 5,
   "id": "61abdabe",
   "metadata": {
    "execution": {
     "iopub.execute_input": "2023-04-12T12:49:44.291489Z",
     "iopub.status.busy": "2023-04-12T12:49:44.290604Z",
     "iopub.status.idle": "2023-04-12T12:49:44.295787Z",
     "shell.execute_reply": "2023-04-12T12:49:44.294881Z"
    },
    "papermill": {
     "duration": 0.014026,
     "end_time": "2023-04-12T12:49:44.298269",
     "exception": false,
     "start_time": "2023-04-12T12:49:44.284243",
     "status": "completed"
    },
    "tags": []
   },
   "outputs": [],
   "source": [
    "# get location cluster"
   ]
  },
  {
   "cell_type": "code",
   "execution_count": 6,
   "id": "ed73190a",
   "metadata": {
    "execution": {
     "iopub.execute_input": "2023-04-12T12:49:44.310201Z",
     "iopub.status.busy": "2023-04-12T12:49:44.309323Z",
     "iopub.status.idle": "2023-04-12T12:49:44.985747Z",
     "shell.execute_reply": "2023-04-12T12:49:44.984501Z"
    },
    "papermill": {
     "duration": 0.685933,
     "end_time": "2023-04-12T12:49:44.988826",
     "exception": false,
     "start_time": "2023-04-12T12:49:44.302893",
     "status": "completed"
    },
    "tags": []
   },
   "outputs": [],
   "source": [
    "def clean(tweet): \n",
    "            \n",
    "    # Special characters\n",
    "    tweet = re.sub(r\"\\x89Û_\", \"\", tweet)\n",
    "    tweet = re.sub(r\"\\x89ÛÒ\", \"\", tweet)\n",
    "    tweet = re.sub(r\"\\x89ÛÓ\", \"\", tweet)\n",
    "    tweet = re.sub(r\"\\x89ÛÏWhen\", \"When\", tweet)\n",
    "    tweet = re.sub(r\"\\x89ÛÏ\", \"\", tweet)\n",
    "    tweet = re.sub(r\"China\\x89Ûªs\", \"China's\", tweet)\n",
    "    tweet = re.sub(r\"let\\x89Ûªs\", \"let's\", tweet)\n",
    "    tweet = re.sub(r\"\\x89Û÷\", \"\", tweet)\n",
    "    tweet = re.sub(r\"\\x89Ûª\", \"\", tweet)\n",
    "    tweet = re.sub(r\"\\x89Û\\x9d\", \"\", tweet)\n",
    "    tweet = re.sub(r\"å_\", \"\", tweet)\n",
    "    tweet = re.sub(r\"\\x89Û¢\", \"\", tweet)\n",
    "    tweet = re.sub(r\"\\x89Û¢åÊ\", \"\", tweet)\n",
    "    tweet = re.sub(r\"fromåÊwounds\", \"from wounds\", tweet)\n",
    "    tweet = re.sub(r\"åÊ\", \"\", tweet)\n",
    "    tweet = re.sub(r\"åÈ\", \"\", tweet)\n",
    "    tweet = re.sub(r\"JapÌ_n\", \"Japan\", tweet)    \n",
    "    tweet = re.sub(r\"Ì©\", \"e\", tweet)\n",
    "    tweet = re.sub(r\"å¨\", \"\", tweet)\n",
    "    tweet = re.sub(r\"SuruÌ¤\", \"Suruc\", tweet)\n",
    "    tweet = re.sub(r\"åÇ\", \"\", tweet)\n",
    "    tweet = re.sub(r\"\\n\",\" \",tweet) #remove nl\n",
    "    tweet = re.sub(r'\\t', ' ', tweet) # remove tabs\n",
    "    tweet = re.sub(r\"\\s+\", \" \", tweet) # remove extra white space\n",
    "    tweet = re.sub(r\"don\\x89Ûªt\", \"don't\", tweet)\n",
    "    tweet = re.sub(r\"I\\x89Ûªm\", \"I'am\", tweet)\n",
    "    tweet = re.sub(r\"it\\x89Ûªs\", \"it is\", tweet)\n",
    "    tweet = re.sub(r\"you\\x89Ûªve\", \"you have\", tweet)\n",
    "    tweet = re.sub(r\"doesn\\x89Ûªt\", \"does not\", tweet)\n",
    "    tweet = re.sub(r\"It\\x89Ûªs\", \"It is\", tweet)\n",
    "    tweet = re.sub(r\"Here\\x89Ûªs\", \"Here is\", tweet)\n",
    "    tweet = re.sub(r\"wouldn\\x89Ûªt\", \"would not\", tweet)\n",
    "    tweet = re.sub(r\"I\\x89Ûªve\", \"I have\", tweet)\n",
    "    tweet = re.sub(r\"can\\x89Ûªt\", \"cannot\", tweet)\n",
    "    tweet = re.sub(r\"That\\x89Ûªs\", \"That is\", tweet)\n",
    "    tweet = re.sub(r\"You\\x89Ûªre\", \"You are\", tweet)\n",
    "    tweet = re.sub(r\"Don\\x89Ûªt\", \"Do not\", tweet)\n",
    "    tweet = re.sub(r\"Can\\x89Ûªt\", \"Cannot\", tweet)\n",
    "    tweet = re.sub(r\"you\\x89Ûªll\", \"you will\", tweet)\n",
    "    tweet = re.sub(r\"I\\x89Ûªd\", \"I would\", tweet)\n",
    "    tweet = re.sub(r\"donå«t\", \"do not\", tweet)   \n",
    "            \n",
    "    # Character entity references\n",
    "    tweet = re.sub(r\"&gt;\", \">\", tweet)\n",
    "    tweet = re.sub(r\"&lt;\", \"<\", tweet)\n",
    "    tweet = re.sub(r\"&amp;\", \"&\", tweet)\n",
    "               \n",
    "    # special token\n",
    "    tweet = re.sub(r\"https?:\\/\\/t.co\\/[A-Za-z0-9]+\", \"[URL]\", tweet)\n",
    "        \n",
    "    return tweet\n",
    "\n",
    "\n",
    "df_train['text_cleaned'] = df_train['text'].apply(lambda s : clean(s))\n",
    "df_test['text_cleaned'] = df_test['text'].apply(lambda s : clean(s))"
   ]
  },
  {
   "cell_type": "code",
   "execution_count": 7,
   "id": "eef9b81d",
   "metadata": {
    "execution": {
     "iopub.execute_input": "2023-04-12T12:49:45.000053Z",
     "iopub.status.busy": "2023-04-12T12:49:44.999431Z",
     "iopub.status.idle": "2023-04-12T12:49:45.064117Z",
     "shell.execute_reply": "2023-04-12T12:49:45.062896Z"
    },
    "papermill": {
     "duration": 0.073341,
     "end_time": "2023-04-12T12:49:45.066811",
     "exception": false,
     "start_time": "2023-04-12T12:49:44.993470",
     "status": "completed"
    },
    "tags": []
   },
   "outputs": [],
   "source": [
    "df_mislabeled = df_train.groupby(['text']).nunique().sort_values(by='target', ascending=False)\n",
    "df_mislabeled = df_mislabeled[df_mislabeled['target'] > 1]['target']\n",
    "df_mislabeled.index.tolist()\n",
    "\n",
    "df_mislabeled = df_train.groupby(['text']).nunique().sort_values(by='target', ascending=False)\n",
    "df_mislabeled = df_mislabeled[df_mislabeled['target'] > 1]['target']"
   ]
  },
  {
   "cell_type": "code",
   "execution_count": 8,
   "id": "1bf8dd5f",
   "metadata": {
    "execution": {
     "iopub.execute_input": "2023-04-12T12:49:45.078158Z",
     "iopub.status.busy": "2023-04-12T12:49:45.077732Z",
     "iopub.status.idle": "2023-04-12T12:49:45.111996Z",
     "shell.execute_reply": "2023-04-12T12:49:45.110754Z"
    },
    "papermill": {
     "duration": 0.043244,
     "end_time": "2023-04-12T12:49:45.114808",
     "exception": false,
     "start_time": "2023-04-12T12:49:45.071564",
     "status": "completed"
    },
    "tags": []
   },
   "outputs": [],
   "source": [
    "df_train['target_relabeled'] = df_train['target'].copy() \n",
    "\n",
    "df_train.loc[df_train['text'] == 'like for the music video I want some real action shit like burning buildings and police chases not some weak ben winston shit', 'target_relabeled'] = 0\n",
    "df_train.loc[df_train['text'] == 'Hellfire is surrounded by desires so be careful and donÛªt let your desires control you! #Afterlife', 'target_relabeled'] = 0\n",
    "df_train.loc[df_train['text'] == 'To fight bioterrorism sir.', 'target_relabeled'] = 0\n",
    "df_train.loc[df_train['text'] == '.POTUS #StrategicPatience is a strategy for #Genocide; refugees; IDP Internally displaced people; horror; etc. https://t.co/rqWuoy1fm4', 'target_relabeled'] = 1\n",
    "df_train.loc[df_train['text'] == 'CLEARED:incident with injury:I-495  inner loop Exit 31 - MD 97/Georgia Ave Silver Spring', 'target_relabeled'] = 1\n",
    "df_train.loc[df_train['text'] == '#foodscare #offers2go #NestleIndia slips into loss after #Magginoodle #ban unsafe and hazardous for #humanconsumption', 'target_relabeled'] = 0\n",
    "df_train.loc[df_train['text'] == 'In #islam saving a person is equal in reward to saving all humans! Islam is the opposite of terrorism!', 'target_relabeled'] = 0\n",
    "df_train.loc[df_train['text'] == 'Who is bringing the tornadoes and floods. Who is bringing the climate change. God is after America He is plaguing her\\n \\n#FARRAKHAN #QUOTE', 'target_relabeled'] = 1\n",
    "df_train.loc[df_train['text'] == 'RT NotExplained: The only known image of infamous hijacker D.B. Cooper. http://t.co/JlzK2HdeTG', 'target_relabeled'] = 1\n",
    "df_train.loc[df_train['text'] == \"Mmmmmm I'm burning.... I'm burning buildings I'm building.... Oooooohhhh oooh ooh...\", 'target_relabeled'] = 0\n",
    "df_train.loc[df_train['text'] == \"wowo--=== 12000 Nigerian refugees repatriated from Cameroon\", 'target_relabeled'] = 0\n",
    "df_train.loc[df_train['text'] == \"He came to a land which was engulfed in tribal war and turned it into a land of peace i.e. Madinah. #ProphetMuhammad #islam\", 'target_relabeled'] = 0\n",
    "df_train.loc[df_train['text'] == \"Hellfire! We donÛªt even want to think about it or mention it so letÛªs not do anything that leads to it #islam!\", 'target_relabeled'] = 0\n",
    "df_train.loc[df_train['text'] == \"The Prophet (peace be upon him) said 'Save yourself from Hellfire even if it is by giving half a date in charity.'\", 'target_relabeled'] = 0\n",
    "df_train.loc[df_train['text'] == \"Caution: breathing may be hazardous to your health.\", 'target_relabeled'] = 1\n",
    "df_train.loc[df_train['text'] == \"I Pledge Allegiance To The P.O.P.E. And The Burning Buildings of Epic City. ??????\", 'target_relabeled'] = 0\n",
    "df_train.loc[df_train['text'] == \"#Allah describes piling up #wealth thinking it would last #forever as the description of the people of #Hellfire in Surah Humaza. #Reflect\", 'target_relabeled'] = 0\n",
    "df_train.loc[df_train['text'] == \"that horrible sinking feeling when youÛªve been at home on your phone for a while and you realise its been on 3G this whole time\", 'target_relabeled'] = 0"
   ]
  },
  {
   "cell_type": "code",
   "execution_count": 9,
   "id": "1e08e408",
   "metadata": {
    "execution": {
     "iopub.execute_input": "2023-04-12T12:49:45.126588Z",
     "iopub.status.busy": "2023-04-12T12:49:45.125126Z",
     "iopub.status.idle": "2023-04-12T12:49:45.141067Z",
     "shell.execute_reply": "2023-04-12T12:49:45.139711Z"
    },
    "papermill": {
     "duration": 0.024724,
     "end_time": "2023-04-12T12:49:45.144126",
     "exception": false,
     "start_time": "2023-04-12T12:49:45.119402",
     "status": "completed"
    },
    "tags": []
   },
   "outputs": [],
   "source": [
    "df_train.drop_duplicates(\n",
    "    subset =\"text\", \n",
    "    keep = 'first', inplace = True\n",
    ")"
   ]
  },
  {
   "cell_type": "code",
   "execution_count": 10,
   "id": "b5cd1971",
   "metadata": {
    "execution": {
     "iopub.execute_input": "2023-04-12T12:49:45.155147Z",
     "iopub.status.busy": "2023-04-12T12:49:45.154727Z",
     "iopub.status.idle": "2023-04-12T12:49:45.161305Z",
     "shell.execute_reply": "2023-04-12T12:49:45.160380Z"
    },
    "papermill": {
     "duration": 0.014845,
     "end_time": "2023-04-12T12:49:45.163622",
     "exception": false,
     "start_time": "2023-04-12T12:49:45.148777",
     "status": "completed"
    },
    "tags": []
   },
   "outputs": [],
   "source": [
    "df_train = df_train.reset_index(drop=True)"
   ]
  },
  {
   "cell_type": "code",
   "execution_count": 11,
   "id": "182cb726",
   "metadata": {
    "execution": {
     "iopub.execute_input": "2023-04-12T12:49:45.174692Z",
     "iopub.status.busy": "2023-04-12T12:49:45.173723Z",
     "iopub.status.idle": "2023-04-12T12:49:45.188657Z",
     "shell.execute_reply": "2023-04-12T12:49:45.187424Z"
    },
    "papermill": {
     "duration": 0.023136,
     "end_time": "2023-04-12T12:49:45.191234",
     "exception": false,
     "start_time": "2023-04-12T12:49:45.168098",
     "status": "completed"
    },
    "tags": []
   },
   "outputs": [],
   "source": [
    "df_train['text_keyword_cleaned'] = 'The tag of the tweet is ' + df_train['keyword'] + '.The message is: ' + df_train['text_cleaned']\n",
    "df_test['text_keyword_cleaned'] = 'The tag of the tweet is ' + df_test['keyword'] + '.The message is: ' + df_test['text_cleaned']"
   ]
  },
  {
   "cell_type": "markdown",
   "id": "6fde2366",
   "metadata": {
    "papermill": {
     "duration": 0.004251,
     "end_time": "2023-04-12T12:49:45.200008",
     "exception": false,
     "start_time": "2023-04-12T12:49:45.195757",
     "status": "completed"
    },
    "tags": []
   },
   "source": [
    "# create fold"
   ]
  },
  {
   "cell_type": "code",
   "execution_count": 12,
   "id": "edd09f6d",
   "metadata": {
    "execution": {
     "iopub.execute_input": "2023-04-12T12:49:45.211496Z",
     "iopub.status.busy": "2023-04-12T12:49:45.210435Z",
     "iopub.status.idle": "2023-04-12T12:49:45.228389Z",
     "shell.execute_reply": "2023-04-12T12:49:45.227389Z"
    },
    "papermill": {
     "duration": 0.026569,
     "end_time": "2023-04-12T12:49:45.231176",
     "exception": false,
     "start_time": "2023-04-12T12:49:45.204607",
     "status": "completed"
    },
    "tags": []
   },
   "outputs": [],
   "source": [
    "#add fold number\n",
    "folds = StratifiedKFold(n_splits=N_FOLD, shuffle=True, random_state=RANDOM_STATE)\n",
    "\n",
    "df_train['fold_cv'] = int(-1)\n",
    "\n",
    "#score cv to get best cv epoch and after select num_epoch and retrain\n",
    "for fold_ , (_, val_idx) in enumerate(folds.split(df_train, df_train['target_relabeled'])):\n",
    "    df_train.loc[val_idx, 'fold_cv'] = fold_"
   ]
  },
  {
   "cell_type": "code",
   "execution_count": 13,
   "id": "84259e6d",
   "metadata": {
    "execution": {
     "iopub.execute_input": "2023-04-12T12:49:45.242237Z",
     "iopub.status.busy": "2023-04-12T12:49:45.241810Z",
     "iopub.status.idle": "2023-04-12T12:49:45.248590Z",
     "shell.execute_reply": "2023-04-12T12:49:45.247380Z"
    },
    "papermill": {
     "duration": 0.015488,
     "end_time": "2023-04-12T12:49:45.251300",
     "exception": false,
     "start_time": "2023-04-12T12:49:45.235812",
     "status": "completed"
    },
    "tags": []
   },
   "outputs": [],
   "source": [
    "assert sum(df_train['fold_cv'] == -1) == 0"
   ]
  },
  {
   "cell_type": "code",
   "execution_count": 14,
   "id": "41b613f6",
   "metadata": {
    "execution": {
     "iopub.execute_input": "2023-04-12T12:49:45.262242Z",
     "iopub.status.busy": "2023-04-12T12:49:45.261813Z",
     "iopub.status.idle": "2023-04-12T12:49:45.283340Z",
     "shell.execute_reply": "2023-04-12T12:49:45.282285Z"
    },
    "papermill": {
     "duration": 0.030289,
     "end_time": "2023-04-12T12:49:45.286139",
     "exception": false,
     "start_time": "2023-04-12T12:49:45.255850",
     "status": "completed"
    },
    "tags": []
   },
   "outputs": [],
   "source": [
    "df_train.to_pickle('train.pkl')\n",
    "df_test.to_pickle('test.pkl')"
   ]
  }
 ],
 "metadata": {
  "kernelspec": {
   "display_name": "Python 3",
   "language": "python",
   "name": "python3"
  },
  "language_info": {
   "codemirror_mode": {
    "name": "ipython",
    "version": 3
   },
   "file_extension": ".py",
   "mimetype": "text/x-python",
   "name": "python",
   "nbconvert_exporter": "python",
   "pygments_lexer": "ipython3",
   "version": "3.7.12"
  },
  "papermill": {
   "default_parameters": {},
   "duration": 13.34711,
   "end_time": "2023-04-12T12:49:46.012897",
   "environment_variables": {},
   "exception": null,
   "input_path": "__notebook__.ipynb",
   "output_path": "__notebook__.ipynb",
   "parameters": {},
   "start_time": "2023-04-12T12:49:32.665787",
   "version": "2.4.0"
  }
 },
 "nbformat": 4,
 "nbformat_minor": 5
}
