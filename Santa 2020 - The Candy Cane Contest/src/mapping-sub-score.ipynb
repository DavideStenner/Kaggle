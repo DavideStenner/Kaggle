{
 "cells": [
  {
   "cell_type": "code",
   "execution_count": 1,
   "metadata": {
    "_cell_guid": "b1076dfc-b9ad-4769-8c92-a6c4dae69d19",
    "_uuid": "8f2839f25d086af736a60e9eeb907d3b93b6e0e5",
    "execution": {
     "iopub.execute_input": "2021-01-24T09:16:30.363322Z",
     "iopub.status.busy": "2021-01-24T09:16:30.362596Z",
     "iopub.status.idle": "2021-01-24T09:18:12.486565Z",
     "shell.execute_reply": "2021-01-24T09:18:12.487102Z"
    },
    "papermill": {
     "duration": 102.140176,
     "end_time": "2021-01-24T09:18:12.487284",
     "exception": false,
     "start_time": "2021-01-24T09:16:30.347108",
     "status": "completed"
    },
    "tags": []
   },
   "outputs": [
    {
     "data": {
      "text/plain": [
       "0"
      ]
     },
     "execution_count": 1,
     "metadata": {},
     "output_type": "execute_result"
    }
   ],
   "source": [
    "import os\n",
    "import sys\n",
    "from time import sleep\n",
    "import json\n",
    "import pandas as pd\n",
    "import os\n",
    "import gc\n",
    "import numpy as np\n",
    "from tqdm.notebook import tqdm\n",
    "import pickle\n",
    "\n",
    "root = \"../input/meta-kaggle\"\n",
    "santa_id = 24539\n",
    "\n",
    "episode_agents = pd.read_csv(os.path.join(root, \"EpisodeAgents.csv\"))\n",
    "agents = pd.read_csv(os.path.join(root, \"Episodes.csv\"))\n",
    "\n",
    "santa_agents = agents.loc[(agents['CompetitionId'] == santa_id)].reset_index(drop = True)\n",
    "gc.collect()\n",
    "\n",
    "#get episode of santa competition\n",
    "episode_agents = episode_agents.merge(santa_agents, how = 'inner', left_on = 'EpisodeId', right_on = \"Id\")\n",
    "gc.collect()"
   ]
  },
  {
   "cell_type": "code",
   "execution_count": 2,
   "metadata": {
    "execution": {
     "iopub.execute_input": "2021-01-24T09:18:12.505666Z",
     "iopub.status.busy": "2021-01-24T09:18:12.504961Z",
     "iopub.status.idle": "2021-01-24T09:18:25.723927Z",
     "shell.execute_reply": "2021-01-24T09:18:25.723326Z"
    },
    "papermill": {
     "duration": 13.2322,
     "end_time": "2021-01-24T09:18:25.724060",
     "exception": false,
     "start_time": "2021-01-24T09:18:12.491860",
     "status": "completed"
    },
    "tags": []
   },
   "outputs": [],
   "source": [
    "keep_col = [\n",
    "    \"EpisodeId\", \"Index\", \"SubmissionId\", \"EndTime\", \"Type\", 'UpdatedScore'\n",
    "]\n",
    "\n",
    "episode_agents = episode_agents[keep_col]\n",
    "\n",
    "#discard validation episode\n",
    "episode_agents = episode_agents[episode_agents['Type'] == 1].reset_index(drop = True)\n",
    "\n",
    "#convert time column to dt\n",
    "episode_agents['EndTime'] = pd.to_datetime(episode_agents['EndTime'].transform(lambda x: x[:16]))\n",
    "\n",
    "#get last episode for each submission (last score on leaderboard) and sort by score\n",
    "last_submission_update = episode_agents.sort_values(['SubmissionId', 'EndTime'], ascending = False).groupby('SubmissionId').head(1)"
   ]
  },
  {
   "cell_type": "code",
   "execution_count": 3,
   "metadata": {
    "execution": {
     "iopub.execute_input": "2021-01-24T09:18:26.159396Z",
     "iopub.status.busy": "2021-01-24T09:18:26.158191Z",
     "iopub.status.idle": "2021-01-24T09:18:26.165141Z",
     "shell.execute_reply": "2021-01-24T09:18:26.164131Z"
    },
    "papermill": {
     "duration": 0.436331,
     "end_time": "2021-01-24T09:18:26.165307",
     "exception": false,
     "start_time": "2021-01-24T09:18:25.728976",
     "status": "completed"
    },
    "tags": []
   },
   "outputs": [
    {
     "data": {
      "text/plain": [
       "20"
      ]
     },
     "execution_count": 3,
     "metadata": {},
     "output_type": "execute_result"
    }
   ],
   "source": [
    "episode_agents = episode_agents[[\"EpisodeId\", \"Index\", \"SubmissionId\"]]\n",
    "last_submission_update = last_submission_update[['SubmissionId', 'UpdatedScore']]\n",
    "\n",
    "del agents, santa_agents\n",
    "gc.collect()"
   ]
  },
  {
   "cell_type": "code",
   "execution_count": 4,
   "metadata": {
    "execution": {
     "iopub.execute_input": "2021-01-24T09:18:26.191362Z",
     "iopub.status.busy": "2021-01-24T09:18:26.190571Z",
     "iopub.status.idle": "2021-01-24T09:18:26.648284Z",
     "shell.execute_reply": "2021-01-24T09:18:26.648818Z"
    },
    "papermill": {
     "duration": 0.473926,
     "end_time": "2021-01-24T09:18:26.648978",
     "exception": false,
     "start_time": "2021-01-24T09:18:26.175052",
     "status": "completed"
    },
    "tags": []
   },
   "outputs": [],
   "source": [
    "episode_agents.to_pickle('episode_agents.pkl')\n",
    "last_submission_update.to_pickle('last_submission_update.pkl')"
   ]
  }
 ],
 "metadata": {
  "kernelspec": {
   "display_name": "Python 3",
   "language": "python",
   "name": "python3"
  },
  "language_info": {
   "codemirror_mode": {
    "name": "ipython",
    "version": 3
   },
   "file_extension": ".py",
   "mimetype": "text/x-python",
   "name": "python",
   "nbconvert_exporter": "python",
   "pygments_lexer": "ipython3",
   "version": "3.7.6"
  },
  "papermill": {
   "duration": 121.705231,
   "end_time": "2021-01-24T09:18:26.763670",
   "environment_variables": {},
   "exception": null,
   "input_path": "__notebook__.ipynb",
   "output_path": "__notebook__.ipynb",
   "parameters": {},
   "start_time": "2021-01-24T09:16:25.058439",
   "version": "2.1.0"
  }
 },
 "nbformat": 4,
 "nbformat_minor": 4
}
