{
 "cells": [
  {
   "cell_type": "markdown",
   "metadata": {},
   "source": [
    "# Imports"
   ]
  },
  {
   "cell_type": "code",
   "execution_count": 1,
   "metadata": {},
   "outputs": [
    {
     "name": "stderr",
     "output_type": "stream",
     "text": [
      "C:\\Users\\Felipe\\Anaconda3\\lib\\site-packages\\numpy\\_distributor_init.py:32: UserWarning: loaded more than 1 DLL from .libs:\n",
      "C:\\Users\\Felipe\\Anaconda3\\lib\\site-packages\\numpy\\.libs\\libopenblas.CSRRD7HKRKC3T3YXA7VY7TAZGLSWDKW6.gfortran-win_amd64.dll\n",
      "C:\\Users\\Felipe\\Anaconda3\\lib\\site-packages\\numpy\\.libs\\libopenblas.NOIJJG62EMASZI6NYURL6JBKM4EVBGM7.gfortran-win_amd64.dll\n",
      "C:\\Users\\Felipe\\Anaconda3\\lib\\site-packages\\numpy\\.libs\\libopenblas.PYQHXLVVQ7VESDPUVUADXEVJOBGHJPAY.gfortran-win_amd64.dll\n",
      "  stacklevel=1)\n"
     ]
    }
   ],
   "source": [
    "import gc\n",
    "import pandas as pd\n",
    "from sklearn.model_selection import GroupKFold\n",
    "import lightgbm as lgb\n",
    "import seaborn as sns\n",
    "import matplotlib.pyplot as plt"
   ]
  },
  {
   "cell_type": "code",
   "execution_count": 2,
   "metadata": {},
   "outputs": [],
   "source": [
    "#data = pd.read_pickle('training_data_new/training_data1.pkl')\n",
    "#for i in range (2,6):\n",
    "#    new_data = pd.read_pickle('training_data_new/training_data' + str(i) + '.pkl')\n",
    "#    data = pd.concat([data, new_data])\n",
    "    \n",
    "#data = data.reset_index(drop=True)\n",
    "#data.to_pickle(\"training_data_new/training_data_more.pkl.gzip\")"
   ]
  },
  {
   "cell_type": "markdown",
   "metadata": {},
   "source": [
    "# Definitions"
   ]
  },
  {
   "cell_type": "code",
   "execution_count": 3,
   "metadata": {},
   "outputs": [],
   "source": [
    "DATA_FILE = 'training_data_new/training_data_more.pkl.gzip'\n",
    "\n",
    "TRAIN_FEATS = [\n",
    "    'round_num', 'n_pulls_self', 'n_success_self', 'n_failure_self',\n",
    "       'discounted_cumulative_success', 'discounted_total_success',\n",
    "       'n_pulls_opp', 'n_pulls_tot', 'ratio_self', 'ratio_opp', 'est_1',\n",
    "       'est_2', 'est_3', 'repeat_opp', 'n_pulls_self_last_10',\n",
    "       'n_pulls_opp_last_10', 'ratio_self_last_10_selected'\n",
    "]\n",
    "\n",
    "TARGET_COL = 'payout'"
   ]
  },
  {
   "cell_type": "markdown",
   "metadata": {},
   "source": [
    "# Function to train LGB"
   ]
  },
  {
   "cell_type": "code",
   "execution_count": 4,
   "metadata": {
    "_cell_guid": "b1076dfc-b9ad-4769-8c92-a6c4dae69d19",
    "_uuid": "8f2839f25d086af736a60e9eeb907d3b93b6e0e5",
    "execution": {
     "iopub.execute_input": "2021-01-20T09:19:08.773855Z",
     "iopub.status.busy": "2021-01-20T09:19:08.772984Z",
     "iopub.status.idle": "2021-01-20T09:19:11.026172Z",
     "shell.execute_reply": "2021-01-20T09:19:11.025480Z"
    },
    "papermill": {
     "duration": 2.261744,
     "end_time": "2021-01-20T09:19:11.026297",
     "exception": false,
     "start_time": "2021-01-20T09:19:08.764553",
     "status": "completed"
    },
    "tags": []
   },
   "outputs": [],
   "source": [
    "gc.collect()\n",
    "\n",
    "def make_model_lgb(params):\n",
    "    data = pd.read_pickle(DATA_FILE)\n",
    "    data['score_agent'] = data['score_agent'] / data['score_agent'].max()\n",
    "    print(data.shape, '\\n')\n",
    "    \n",
    "    tr_data = lgb.Dataset(data[TRAIN_FEATS].values, label=data[TARGET_COL], weight = data['score_agent'])\n",
    "    del data\n",
    "    gc.collect()\n",
    "    model = lgb.train(params, tr_data, 92, valid_sets = [tr_data], verbose_eval = 10)\n",
    "    \n",
    "    model.save_model(f'model.txt')"
   ]
  },
  {
   "cell_type": "markdown",
   "metadata": {},
   "source": [
    "# Params"
   ]
  },
  {
   "cell_type": "code",
   "execution_count": 5,
   "metadata": {
    "_cell_guid": "79c7e3d0-c299-4dcb-8224-4455121ee9b0",
    "_uuid": "d629ff2d2480ee46fbb7e2d37f6b5fab8052498a",
    "execution": {
     "iopub.execute_input": "2021-01-20T09:19:11.115126Z",
     "iopub.status.busy": "2021-01-20T09:19:11.114360Z",
     "iopub.status.idle": "2021-01-20T10:07:54.981617Z",
     "shell.execute_reply": "2021-01-20T10:07:54.982419Z"
    },
    "papermill": {
     "duration": 2923.951015,
     "end_time": "2021-01-20T10:07:54.982608",
     "exception": false,
     "start_time": "2021-01-20T09:19:11.031593",
     "status": "completed"
    },
    "tags": []
   },
   "outputs": [],
   "source": [
    "params_lgb = {\n",
    "                    'objective': 'regression',\n",
    "                    'boosting_type': 'gbdt',\n",
    "                    'metric':'rmse',\n",
    "                    'learning_rate': 0.05,\n",
    "                    'colsample_bytree': 0.75,\n",
    "                    'feature_fraction_bynode': 0.75,\n",
    "                    'max_depth': -1,\n",
    "                    'num_leaves': 2**10,\n",
    "                    'subsample': 0.75,\n",
    "                    'n_jobs':-1,\n",
    "                    'early_stopping_rounds': 30, \n",
    "}"
   ]
  },
  {
   "cell_type": "markdown",
   "metadata": {},
   "source": [
    "# Run"
   ]
  },
  {
   "cell_type": "code",
   "execution_count": 6,
   "metadata": {},
   "outputs": [
    {
     "name": "stdout",
     "output_type": "stream",
     "text": [
      "(231284300, 20) \n",
      "\n"
     ]
    },
    {
     "name": "stderr",
     "output_type": "stream",
     "text": [
      "C:\\Users\\Felipe\\Anaconda3\\lib\\site-packages\\lightgbm\\engine.py:121: UserWarning: Found `early_stopping_rounds` in params. Will use it instead of argument\n",
      "  warnings.warn(\"Found `{}` in params. Will use it instead of argument\".format(alias))\n"
     ]
    },
    {
     "name": "stdout",
     "output_type": "stream",
     "text": [
      "Training until validation scores don't improve for 30 rounds.\n",
      "[10]\ttraining's rmse: 15.517\n",
      "[20]\ttraining's rmse: 14.5007\n",
      "[30]\ttraining's rmse: 14.112\n",
      "[40]\ttraining's rmse: 13.9648\n",
      "[50]\ttraining's rmse: 13.9089\n",
      "[60]\ttraining's rmse: 13.8861\n",
      "[70]\ttraining's rmse: 13.8753\n",
      "[80]\ttraining's rmse: 13.8692\n",
      "[90]\ttraining's rmse: 13.8652\n",
      "Did not meet early stopping. Best iteration is:\n",
      "[92]\ttraining's rmse: 13.8647\n"
     ]
    }
   ],
   "source": [
    "make_model_lgb(params_lgb)"
   ]
  },
  {
   "cell_type": "code",
   "execution_count": null,
   "metadata": {},
   "outputs": [],
   "source": [
    "#[92]training's rmse: 13.8647 (lgb 1 231 million all features)"
   ]
  }
 ],
 "metadata": {
  "kernelspec": {
   "display_name": "Python 3",
   "language": "python",
   "name": "python3"
  },
  "language_info": {
   "codemirror_mode": {
    "name": "ipython",
    "version": 3
   },
   "file_extension": ".py",
   "mimetype": "text/x-python",
   "name": "python",
   "nbconvert_exporter": "python",
   "pygments_lexer": "ipython3",
   "version": "3.6.7"
  },
  "papermill": {
   "duration": 2931.571453,
   "end_time": "2021-01-20T10:07:55.330843",
   "environment_variables": {},
   "exception": null,
   "input_path": "__notebook__.ipynb",
   "output_path": "__notebook__.ipynb",
   "parameters": {},
   "start_time": "2021-01-20T09:19:03.759390",
   "version": "2.1.0"
  }
 },
 "nbformat": 4,
 "nbformat_minor": 4
}
