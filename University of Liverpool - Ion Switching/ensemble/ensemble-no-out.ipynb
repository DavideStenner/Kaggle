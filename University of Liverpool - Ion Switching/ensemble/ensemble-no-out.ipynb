{
 "cells": [
  {
   "cell_type": "code",
   "execution_count": 1,
   "metadata": {
    "_cell_guid": "b1076dfc-b9ad-4769-8c92-a6c4dae69d19",
    "_uuid": "8f2839f25d086af736a60e9eeb907d3b93b6e0e5"
   },
   "outputs": [
    {
     "name": "stdout",
     "output_type": "stream",
     "text": [
      "Requirement already satisfied: pandas==1.0.3 in /opt/conda/lib/python3.7/site-packages (1.0.3)\r\n",
      "Requirement already satisfied: numpy>=1.13.3 in /opt/conda/lib/python3.7/site-packages (from pandas==1.0.3) (1.18.1)\r\n",
      "Requirement already satisfied: pytz>=2017.2 in /opt/conda/lib/python3.7/site-packages (from pandas==1.0.3) (2019.3)\r\n",
      "Requirement already satisfied: python-dateutil>=2.6.1 in /opt/conda/lib/python3.7/site-packages (from pandas==1.0.3) (2.8.1)\r\n",
      "Requirement already satisfied: six>=1.5 in /opt/conda/lib/python3.7/site-packages (from python-dateutil>=2.6.1->pandas==1.0.3) (1.14.0)\r\n"
     ]
    }
   ],
   "source": [
    "!pip install pandas==1.0.3"
   ]
  },
  {
   "cell_type": "markdown",
   "execution_count": null,
   "metadata": {},
   "source": [
    "# LOAD PACKAGE AND CODE"
   ]
  },
  {
   "cell_type": "code",
   "execution_count": 2,
   "metadata": {
    "_cell_guid": "79c7e3d0-c299-4dcb-8224-4455121ee9b0",
    "_uuid": "d629ff2d2480ee46fbb7e2d37f6b5fab8052498a"
   },
   "outputs": [],
   "source": [
    "import numpy as np \n",
    "import pandas as pd \n",
    "from pykalman import KalmanFilter\n",
    "from tqdm.notebook import tqdm\n",
    "from scipy import signal\n",
    "import gc\n",
    "import lightgbm as lgb\n",
    "from sklearn.preprocessing import LabelEncoder, MinMaxScaler\n",
    "from sklearn.model_selection import StratifiedKFold, GroupKFold\n",
    "from sklearn.metrics import f1_score\n",
    "import matplotlib.pyplot as plt\n",
    "import seaborn as sns\n"
   ]
  },
  {
   "cell_type": "code",
   "execution_count": 3,
   "metadata": {},
   "outputs": [
    {
     "data": {
      "text/plain": [
       "{1: 2, 2: 2, 3: 4, 5: 6}"
      ]
     },
     "execution_count": 3,
     "metadata": {},
     "output_type": "execute_result"
    }
   ],
   "source": [
    "lab = {1: [0, 1], 2: [0, 1], 3: [0, 1, 2, 3], 5: [0, 1, 2, 3, 4, 5]}\n",
    "missing = {}\n",
    "for i, l in lab.items():\n",
    "    missing[i] = min([x for x in range(10) if x not in l])\n",
    "\n",
    "missing"
   ]
  },
  {
   "cell_type": "code",
   "execution_count": 4,
   "metadata": {},
   "outputs": [],
   "source": [
    "f1_dict = {}\n",
    "f1_group = pd.DataFrame({'Group': [1, 2, 3, 5, 10]})"
   ]
  },
  {
   "cell_type": "code",
   "execution_count": 5,
   "metadata": {},
   "outputs": [
    {
     "data": {
      "text/plain": [
       "0"
      ]
     },
     "execution_count": 5,
     "metadata": {},
     "output_type": "execute_result"
    }
   ],
   "source": [
    "path = '../input/lgbm-dataset/'\n",
    "\n",
    "group = np.load(path + 'group.npy', allow_pickle = True)\n",
    "train_target = pd.read_csv('../input/liverpool-ion-switching/train.csv', usecols = ['open_channels'])\n",
    "time = pd.read_csv('../input/liverpool-ion-switching/train.csv', usecols = ['open_channels', 'time'])\n",
    "\n",
    "train = pd.read_csv(path + 'train_clean.csv')\n",
    "test = pd.read_csv(path + 'test_clean.csv', usecols = ['segment'])\n",
    "gc.collect()"
   ]
  },
  {
   "cell_type": "code",
   "execution_count": 6,
   "metadata": {},
   "outputs": [],
   "source": [
    "out_ = np.arange(3640000, 3824000)\n",
    "idx = train.index\n",
    "bool_mask = idx.isin(out_)\n",
    "\n",
    "train = train[~idx.isin(out_)].reset_index(drop = True)\n",
    "group = group[~idx.isin(out_)]\n",
    "train_target = train_target[~idx.isin(out_)].reset_index(drop = True)\n"
   ]
  },
  {
   "cell_type": "markdown",
   "execution_count": null,
   "metadata": {},
   "source": [
    "# WAVENET"
   ]
  },
  {
   "cell_type": "code",
   "execution_count": 7,
   "metadata": {},
   "outputs": [],
   "source": [
    "gc.collect()\n",
    "\n",
    "pred_wave = np.load('../input/nnet-composer/pred_wavenet_no_out_oof.npy', allow_pickle = True)\n",
    "pred_label_wave = pred_wave.argmax(axis = 1)"
   ]
  },
  {
   "cell_type": "code",
   "execution_count": 8,
   "metadata": {},
   "outputs": [],
   "source": [
    "info_wave = pd.DataFrame({'group': train.segment.values.reshape((-1)), 'pred': pred_label_wave.astype(np.int64), 'target': train_target.values.reshape((-1))})"
   ]
  },
  {
   "cell_type": "code",
   "execution_count": 9,
   "metadata": {},
   "outputs": [],
   "source": [
    "group = []\n",
    "label = []\n",
    "for i in np.unique(train.segment.values):\n",
    "    temp = info_wave[info_wave['group'] == i]\n",
    "    for j in np.unique(temp.target):\n",
    "        group += [i]\n",
    "        label += [j]\n",
    "        \n",
    "f1_intra = pd.DataFrame({'group': group, 'label': label})\n"
   ]
  },
  {
   "cell_type": "markdown",
   "execution_count": null,
   "metadata": {},
   "source": [
    "# F1 ALL"
   ]
  },
  {
   "cell_type": "code",
   "execution_count": 10,
   "metadata": {},
   "outputs": [
    {
     "name": "stdout",
     "output_type": "stream",
     "text": [
      "ALL VALUES F1 SCORE OOF: 0.9415073056228973\n"
     ]
    }
   ],
   "source": [
    "f1_ = f1_score(info_wave.target, info_wave.pred, average='macro')\n",
    "f1_dict['wave'] = f1_\n",
    "print(f'ALL VALUES F1 SCORE OOF: {f1_}')"
   ]
  },
  {
   "cell_type": "markdown",
   "execution_count": null,
   "metadata": {},
   "source": [
    "# F1 GROUP"
   ]
  },
  {
   "cell_type": "code",
   "execution_count": 11,
   "metadata": {},
   "outputs": [
    {
     "name": "stdout",
     "output_type": "stream",
     "text": [
      "Group: 1 - LABEL 0; F1 SCORE:  0.9998217243402245\n",
      "Group: 1 - LABEL 1; F1 SCORE:  0.9951421834606972\n",
      "Group: 2 - LABEL 0; F1 SCORE:  0.9956140702872323\n",
      "Group: 2 - LABEL 1; F1 SCORE:  0.9985442078652734\n",
      "Group: 3 - LABEL 0; F1 SCORE:  0.9789264813000778\n",
      "Group: 3 - LABEL 1; F1 SCORE:  0.9832026564211332\n",
      "Group: 3 - LABEL 2; F1 SCORE:  0.9867702874177289\n",
      "Group: 3 - LABEL 3; F1 SCORE:  0.9909679280923607\n",
      "Group: 5 - LABEL 0; F1 SCORE:  0.9588541666666667\n",
      "Group: 5 - LABEL 1; F1 SCORE:  0.967007721597073\n",
      "Group: 5 - LABEL 2; F1 SCORE:  0.973235622112474\n",
      "Group: 5 - LABEL 3; F1 SCORE:  0.977431466616108\n",
      "Group: 5 - LABEL 4; F1 SCORE:  0.980625959342593\n",
      "Group: 5 - LABEL 5; F1 SCORE:  0.9834695858121787\n",
      "Group: 10 - LABEL 0; F1 SCORE:  0.0\n",
      "Group: 10 - LABEL 1; F1 SCORE:  0.8\n",
      "Group: 10 - LABEL 2; F1 SCORE:  0.8271662763466043\n",
      "Group: 10 - LABEL 3; F1 SCORE:  0.8561744768641321\n",
      "Group: 10 - LABEL 4; F1 SCORE:  0.8683530187053277\n",
      "Group: 10 - LABEL 5; F1 SCORE:  0.8807414923081142\n",
      "Group: 10 - LABEL 6; F1 SCORE:  0.8882594525847222\n",
      "Group: 10 - LABEL 7; F1 SCORE:  0.8937849317288449\n",
      "Group: 10 - LABEL 8; F1 SCORE:  0.8975546160125741\n",
      "Group: 10 - LABEL 9; F1 SCORE:  0.8975845126364412\n",
      "Group: 10 - LABEL 10; F1 SCORE:  0.897662278387129\n"
     ]
    }
   ],
   "source": [
    "l_ = []\n",
    "for i in np.unique(train.segment.values):\n",
    "    temp = info_wave[info_wave['group'] == i]\n",
    "    for j in np.unique(temp.target):\n",
    "        f1 = f1_score(temp.target==j, temp.pred==j)\n",
    "        l_ += [f1]\n",
    "        print(f'Group: {i} - LABEL {j}; F1 SCORE:  {f1}')\n",
    "       \n",
    "f1_intra['wave'] = l_"
   ]
  },
  {
   "cell_type": "markdown",
   "execution_count": null,
   "metadata": {},
   "source": [
    "# F1 GROUP - CORRECTED"
   ]
  },
  {
   "cell_type": "code",
   "execution_count": 12,
   "metadata": {},
   "outputs": [
    {
     "name": "stdout",
     "output_type": "stream",
     "text": [
      "Group: 1; F1 SCORE:  0.9974824720518047\n",
      "Group: 2; F1 SCORE:  0.9970791390762528\n",
      "Group: 3; F1 SCORE:  0.9849680851324858\n",
      "Group: 5; F1 SCORE:  0.973437420357849\n",
      "Group: 10; F1 SCORE:  0.7922232675878423\n"
     ]
    }
   ],
   "source": [
    "l_ = []\n",
    "for i in np.unique(train.segment.values):\n",
    "    temp = info_wave[info_wave['group'] == i]\n",
    "    if i == 1:\n",
    "        temp = temp[(temp.pred.isin([0, 1]))]\n",
    "    if i == 2:\n",
    "        temp = temp[(temp.pred.isin([0, 1]))]\n",
    "    if i == 3:\n",
    "        temp = temp[(temp.pred.isin([0, 1, 2, 3]))]\n",
    "    if i == 5:\n",
    "        temp = temp[(temp.pred.isin([0, 1, 2, 3, 4, 5]))]\n",
    "    if i == 10:\n",
    "        temp = temp[(temp.target!=0)]\n",
    "\n",
    "    f1 = f1_score(temp.target, temp.pred, average='macro')\n",
    "    l_ += [f1]\n",
    "    print(f'Group: {i}; F1 SCORE:  {f1}')\n",
    "\n",
    "f1_group['wave'] = l_"
   ]
  },
  {
   "cell_type": "markdown",
   "execution_count": null,
   "metadata": {},
   "source": [
    "# BILSTM NOOUT"
   ]
  },
  {
   "cell_type": "code",
   "execution_count": 13,
   "metadata": {},
   "outputs": [],
   "source": [
    "pred_bilstm = np.load('../input/nnet-composer/pred_bilstm_noout_oof.npy', allow_pickle = True)\n",
    "\n",
    "pred_label_bilstm = pred_bilstm.argmax(axis = 1)\n",
    "info_bilstm = pd.DataFrame({'group': train.segment.values.reshape((-1)), 'pred': pred_label_bilstm.astype(np.int64), 'target': train_target.values.reshape((-1))})"
   ]
  },
  {
   "cell_type": "markdown",
   "execution_count": null,
   "metadata": {},
   "source": [
    "# F1"
   ]
  },
  {
   "cell_type": "code",
   "execution_count": 14,
   "metadata": {},
   "outputs": [
    {
     "name": "stdout",
     "output_type": "stream",
     "text": [
      "ALL VALUES F1 SCORE OOF: 0.9414586823166506\n"
     ]
    }
   ],
   "source": [
    "f1_ = f1_score(info_bilstm.target, info_bilstm.pred, average='macro')\n",
    "f1_dict['bilstm'] = f1_\n",
    "print(f'ALL VALUES F1 SCORE OOF: {f1_}')"
   ]
  },
  {
   "cell_type": "markdown",
   "execution_count": null,
   "metadata": {},
   "source": [
    "# F1 GROUP"
   ]
  },
  {
   "cell_type": "code",
   "execution_count": 15,
   "metadata": {},
   "outputs": [
    {
     "name": "stdout",
     "output_type": "stream",
     "text": [
      "Group: 1 - LABEL 0; F1 SCORE:  0.9998222384378542\n",
      "Group: 1 - LABEL 1; F1 SCORE:  0.995145355439473\n",
      "Group: 2 - LABEL 0; F1 SCORE:  0.9957070002589045\n",
      "Group: 2 - LABEL 1; F1 SCORE:  0.9985756588826213\n",
      "Group: 3 - LABEL 0; F1 SCORE:  0.9781575970843283\n",
      "Group: 3 - LABEL 1; F1 SCORE:  0.9833955839688688\n",
      "Group: 3 - LABEL 2; F1 SCORE:  0.9869899943668017\n",
      "Group: 3 - LABEL 3; F1 SCORE:  0.9911004715659646\n",
      "Group: 5 - LABEL 0; F1 SCORE:  0.9563398692810456\n",
      "Group: 5 - LABEL 1; F1 SCORE:  0.9671487120681235\n",
      "Group: 5 - LABEL 2; F1 SCORE:  0.9736476649590723\n",
      "Group: 5 - LABEL 3; F1 SCORE:  0.9777651497854651\n",
      "Group: 5 - LABEL 4; F1 SCORE:  0.9808218445010803\n",
      "Group: 5 - LABEL 5; F1 SCORE:  0.9836314124190508\n",
      "Group: 10 - LABEL 0; F1 SCORE:  0.8\n",
      "Group: 10 - LABEL 1; F1 SCORE:  0.6948356807511737\n",
      "Group: 10 - LABEL 2; F1 SCORE:  0.8250701590271282\n",
      "Group: 10 - LABEL 3; F1 SCORE:  0.8601788069764034\n",
      "Group: 10 - LABEL 4; F1 SCORE:  0.8696782470711368\n",
      "Group: 10 - LABEL 5; F1 SCORE:  0.8808467841656638\n",
      "Group: 10 - LABEL 6; F1 SCORE:  0.8879801892858471\n",
      "Group: 10 - LABEL 7; F1 SCORE:  0.8944081216447229\n",
      "Group: 10 - LABEL 8; F1 SCORE:  0.8975518979713166\n",
      "Group: 10 - LABEL 9; F1 SCORE:  0.8978771031724189\n",
      "Group: 10 - LABEL 10; F1 SCORE:  0.8954538894501372\n"
     ]
    }
   ],
   "source": [
    "l_ = []\n",
    "for i in np.unique(train.segment.values):\n",
    "    temp = info_bilstm[info_bilstm['group'] == i]\n",
    "    for j in np.unique(temp.target):\n",
    "        f1 = f1_score(temp.target==j, temp.pred==j)\n",
    "        l_ += [f1]\n",
    "        print(f'Group: {i} - LABEL {j}; F1 SCORE:  {f1}')\n",
    "\n",
    "f1_intra['bilstm'] = l_"
   ]
  },
  {
   "cell_type": "markdown",
   "execution_count": null,
   "metadata": {},
   "source": [
    "# F1 GROUP CORRECTED"
   ]
  },
  {
   "cell_type": "code",
   "execution_count": 16,
   "metadata": {},
   "outputs": [
    {
     "name": "stdout",
     "output_type": "stream",
     "text": [
      "Group: 1; F1 SCORE:  0.9974840560203766\n",
      "Group: 2; F1 SCORE:  0.997141329570763\n",
      "Group: 3; F1 SCORE:  0.9849109117464909\n",
      "Group: 5; F1 SCORE:  0.9732257755023063\n",
      "Group: 10; F1 SCORE:  0.7821709890469044\n"
     ]
    }
   ],
   "source": [
    "l_ = []\n",
    "for i in np.unique(train.segment.values):\n",
    "    temp = info_bilstm[info_bilstm['group'] == i]\n",
    "    if i == 1:\n",
    "        temp = temp[(temp.pred.isin([0, 1]))]\n",
    "    if i == 2:\n",
    "        temp = temp[(temp.pred.isin([0, 1]))]\n",
    "    if i == 3:\n",
    "        temp = temp[(temp.pred.isin([0, 1, 2, 3]))]\n",
    "    if i == 5:\n",
    "        temp = temp[(temp.pred.isin([0, 1, 2, 3, 4, 5]))]\n",
    "    if i == 10:\n",
    "        temp = temp[(temp.target!=0)]\n",
    "\n",
    "    f1 = f1_score(temp.target, temp.pred, average='macro')\n",
    "    l_ += [f1]\n",
    "    print(f'Group: {i}; F1 SCORE:  {f1}')\n",
    "    \n",
    "f1_group['bilstm'] = l_"
   ]
  },
  {
   "cell_type": "markdown",
   "execution_count": null,
   "metadata": {},
   "source": [
    "# LGBM"
   ]
  },
  {
   "cell_type": "code",
   "execution_count": 17,
   "metadata": {},
   "outputs": [],
   "source": [
    "pred_lgbm = np.load('../input/lgbm-kfold-no-out/pred_oof.npy', allow_pickle = True)\n",
    "\n",
    "pred_label_lgbm = pred_lgbm.argmax(axis = 1)\n",
    "info_lgbm = pd.DataFrame({'group': train.segment.values.reshape((-1)), 'pred': pred_label_lgbm.astype(np.int64), 'target': train_target.values.reshape((-1))})"
   ]
  },
  {
   "cell_type": "markdown",
   "execution_count": null,
   "metadata": {},
   "source": [
    "# F1"
   ]
  },
  {
   "cell_type": "code",
   "execution_count": 18,
   "metadata": {},
   "outputs": [
    {
     "name": "stdout",
     "output_type": "stream",
     "text": [
      "ALL VALUES F1 SCORE OOF: 0.9405856517188351\n"
     ]
    }
   ],
   "source": [
    "f1_ = f1_score(info_lgbm.target, info_lgbm.pred, average='macro')\n",
    "f1_dict['lgbm'] = f1_\n",
    "print(f'ALL VALUES F1 SCORE OOF: {f1_}')"
   ]
  },
  {
   "cell_type": "markdown",
   "execution_count": null,
   "metadata": {},
   "source": [
    "# F1 GROUP"
   ]
  },
  {
   "cell_type": "code",
   "execution_count": 19,
   "metadata": {},
   "outputs": [
    {
     "name": "stdout",
     "output_type": "stream",
     "text": [
      "Group: 1 - LABEL 0; F1 SCORE:  0.9998113543925404\n",
      "Group: 1 - LABEL 1; F1 SCORE:  0.994847775175644\n",
      "Group: 2 - LABEL 0; F1 SCORE:  0.9954526663910708\n",
      "Group: 2 - LABEL 1; F1 SCORE:  0.9984910294162694\n",
      "Group: 3 - LABEL 0; F1 SCORE:  0.9777397260273972\n",
      "Group: 3 - LABEL 1; F1 SCORE:  0.9826227731302631\n",
      "Group: 3 - LABEL 2; F1 SCORE:  0.9864106614268594\n",
      "Group: 3 - LABEL 3; F1 SCORE:  0.990756975052725\n",
      "Group: 5 - LABEL 0; F1 SCORE:  0.9574579831932775\n",
      "Group: 5 - LABEL 1; F1 SCORE:  0.9672852496651999\n",
      "Group: 5 - LABEL 2; F1 SCORE:  0.9728305338642744\n",
      "Group: 5 - LABEL 3; F1 SCORE:  0.9772355716804764\n",
      "Group: 5 - LABEL 4; F1 SCORE:  0.980449031415609\n",
      "Group: 5 - LABEL 5; F1 SCORE:  0.9832054336310788\n",
      "Group: 10 - LABEL 0; F1 SCORE:  0.0\n",
      "Group: 10 - LABEL 1; F1 SCORE:  0.6354515050167224\n",
      "Group: 10 - LABEL 2; F1 SCORE:  0.8188235294117647\n",
      "Group: 10 - LABEL 3; F1 SCORE:  0.8557126030624264\n",
      "Group: 10 - LABEL 4; F1 SCORE:  0.8676269901440485\n",
      "Group: 10 - LABEL 5; F1 SCORE:  0.8799364714258332\n",
      "Group: 10 - LABEL 6; F1 SCORE:  0.8874831505991488\n",
      "Group: 10 - LABEL 7; F1 SCORE:  0.8937296386303617\n",
      "Group: 10 - LABEL 8; F1 SCORE:  0.8968589423986812\n",
      "Group: 10 - LABEL 9; F1 SCORE:  0.895481857887707\n",
      "Group: 10 - LABEL 10; F1 SCORE:  0.8927083777597703\n"
     ]
    }
   ],
   "source": [
    "l_ = []\n",
    "for i in np.unique(train.segment.values):\n",
    "    temp = info_lgbm[info_lgbm['group'] == i]\n",
    "    for j in np.unique(temp.target):\n",
    "        f1 = f1_score(temp.target==j, temp.pred==j)\n",
    "        l_ += [f1]\n",
    "        print(f'Group: {i} - LABEL {j}; F1 SCORE:  {f1}')\n",
    "\n",
    "f1_intra['lgbm'] = l_"
   ]
  },
  {
   "cell_type": "markdown",
   "execution_count": null,
   "metadata": {},
   "source": [
    "# F1 GROUP CORRECTED"
   ]
  },
  {
   "cell_type": "code",
   "execution_count": 20,
   "metadata": {},
   "outputs": [
    {
     "name": "stdout",
     "output_type": "stream",
     "text": [
      "Group: 1; F1 SCORE:  0.9973298238639248\n",
      "Group: 2; F1 SCORE:  0.9969718479036701\n",
      "Group: 3; F1 SCORE:  0.9843825339093112\n",
      "Group: 5; F1 SCORE:  0.9730773005749859\n",
      "Group: 10; F1 SCORE:  0.7752811091863983\n"
     ]
    }
   ],
   "source": [
    "l_ = []\n",
    "for i in np.unique(train.segment.values):\n",
    "    temp = info_lgbm[info_lgbm['group'] == i]\n",
    "    if i == 1:\n",
    "        temp = temp[(temp.pred.isin([0, 1]))]\n",
    "    if i == 2:\n",
    "        temp = temp[(temp.pred.isin([0, 1]))]\n",
    "    if i == 3:\n",
    "        temp = temp[(temp.pred.isin([0, 1, 2, 3]))]\n",
    "    if i == 5:\n",
    "        temp = temp[(temp.pred.isin([0, 1, 2, 3, 4, 5]))]\n",
    "    if i == 10:\n",
    "        temp = temp[(temp.target!=0)]\n",
    "\n",
    "    f1 = f1_score(temp.target, temp.pred, average='macro')\n",
    "    l_ += [f1]\n",
    "    print(f'Group: {i}; F1 SCORE:  {f1}')\n",
    "\n",
    "f1_group['lgbm'] = l_"
   ]
  },
  {
   "cell_type": "markdown",
   "execution_count": null,
   "metadata": {},
   "source": [
    "# ENSEMBLE 2"
   ]
  },
  {
   "cell_type": "code",
   "execution_count": 21,
   "metadata": {},
   "outputs": [],
   "source": [
    "pred_ens2 = pred_bilstm + pred_wave \n",
    "pred_label_ens2 = pred_ens2.argmax(axis = 1)"
   ]
  },
  {
   "cell_type": "code",
   "execution_count": 22,
   "metadata": {},
   "outputs": [],
   "source": [
    "info_ens2 = pd.DataFrame({'group': train.segment.values.reshape((-1)), 'pred': pred_label_ens2.astype(np.int64), 'target': train_target.values.reshape((-1))})"
   ]
  },
  {
   "cell_type": "markdown",
   "execution_count": null,
   "metadata": {},
   "source": [
    "# F1 ALL"
   ]
  },
  {
   "cell_type": "code",
   "execution_count": 23,
   "metadata": {},
   "outputs": [
    {
     "name": "stdout",
     "output_type": "stream",
     "text": [
      "ALL VALUES F1 SCORE OOF: 0.9418560284068126\n"
     ]
    }
   ],
   "source": [
    "f1_ = f1_score(info_ens2.target, info_ens2.pred, average='macro')\n",
    "f1_dict['ens2'] = f1_\n",
    "print(f'ALL VALUES F1 SCORE OOF: {f1_}')"
   ]
  },
  {
   "cell_type": "markdown",
   "execution_count": null,
   "metadata": {},
   "source": [
    "# GROUP"
   ]
  },
  {
   "cell_type": "code",
   "execution_count": 24,
   "metadata": {},
   "outputs": [
    {
     "name": "stdout",
     "output_type": "stream",
     "text": [
      "Group: 1 - LABEL 0; F1 SCORE:  0.9998217224924024\n",
      "Group: 1 - LABEL 1; F1 SCORE:  0.9951435630910795\n",
      "Group: 2 - LABEL 0; F1 SCORE:  0.9956714647787269\n",
      "Group: 2 - LABEL 1; F1 SCORE:  0.9985636078016673\n",
      "Group: 3 - LABEL 0; F1 SCORE:  0.9790839157323143\n",
      "Group: 3 - LABEL 1; F1 SCORE:  0.9836204589607872\n",
      "Group: 3 - LABEL 2; F1 SCORE:  0.9870665194792729\n",
      "Group: 3 - LABEL 3; F1 SCORE:  0.9911389219748696\n",
      "Group: 5 - LABEL 0; F1 SCORE:  0.9581808677469944\n",
      "Group: 5 - LABEL 1; F1 SCORE:  0.9676665533650578\n",
      "Group: 5 - LABEL 2; F1 SCORE:  0.9738619110331929\n",
      "Group: 5 - LABEL 3; F1 SCORE:  0.9778870444035729\n",
      "Group: 5 - LABEL 4; F1 SCORE:  0.980930868883174\n",
      "Group: 5 - LABEL 5; F1 SCORE:  0.9837058228828324\n",
      "Group: 10 - LABEL 0; F1 SCORE:  0.5\n",
      "Group: 10 - LABEL 1; F1 SCORE:  0.7727272727272727\n",
      "Group: 10 - LABEL 2; F1 SCORE:  0.829976580796253\n",
      "Group: 10 - LABEL 3; F1 SCORE:  0.8611151978814183\n",
      "Group: 10 - LABEL 4; F1 SCORE:  0.869991050169709\n",
      "Group: 10 - LABEL 5; F1 SCORE:  0.8811767031229412\n",
      "Group: 10 - LABEL 6; F1 SCORE:  0.8884738343171719\n",
      "Group: 10 - LABEL 7; F1 SCORE:  0.8944644286825815\n",
      "Group: 10 - LABEL 8; F1 SCORE:  0.897903741706166\n",
      "Group: 10 - LABEL 9; F1 SCORE:  0.8982920709328768\n",
      "Group: 10 - LABEL 10; F1 SCORE:  0.8979755807113444\n"
     ]
    }
   ],
   "source": [
    "l_ = []\n",
    "for i in np.unique(train.segment.values):\n",
    "    temp = info_ens2[info_ens2['group'] == i]\n",
    "    for j in np.unique(temp.target):\n",
    "        f1 = f1_score(temp.target==j, temp.pred==j)\n",
    "        l_ += [f1]\n",
    "        print(f'Group: {i} - LABEL {j}; F1 SCORE:  {f1}')\n",
    "       \n",
    "f1_intra['ens2'] = l_"
   ]
  },
  {
   "cell_type": "markdown",
   "execution_count": null,
   "metadata": {},
   "source": [
    "# GROUP CORRECTED"
   ]
  },
  {
   "cell_type": "code",
   "execution_count": 25,
   "metadata": {},
   "outputs": [
    {
     "name": "stdout",
     "output_type": "stream",
     "text": [
      "Group: 1; F1 SCORE:  0.9974831609484546\n",
      "Group: 2; F1 SCORE:  0.9971175362901972\n",
      "Group: 3; F1 SCORE:  0.9852278697209295\n",
      "Group: 5; F1 SCORE:  0.9737055113858041\n",
      "Group: 10; F1 SCORE:  0.7905113541893655\n"
     ]
    }
   ],
   "source": [
    "l_ = []\n",
    "for i in np.unique(train.segment.values):\n",
    "    temp = info_ens2[info_ens2['group'] == i]\n",
    "    if i == 1:\n",
    "        temp = temp[(temp.pred.isin([0, 1]))]\n",
    "    if i == 2:\n",
    "        temp = temp[(temp.pred.isin([0, 1]))]\n",
    "    if i == 3:\n",
    "        temp = temp[(temp.pred.isin([0, 1, 2, 3]))]\n",
    "    if i == 5:\n",
    "        temp = temp[(temp.pred.isin([0, 1, 2, 3, 4, 5]))]\n",
    "    if i == 10:\n",
    "        temp = temp[(temp.target!=0)]\n",
    "\n",
    "    f1 = f1_score(temp.target, temp.pred, average='macro')\n",
    "    l_ += [f1]\n",
    "    print(f'Group: {i}; F1 SCORE:  {f1}')\n",
    "    \n",
    "f1_group['ens2'] = l_"
   ]
  },
  {
   "cell_type": "markdown",
   "execution_count": null,
   "metadata": {},
   "source": [
    "# ENSEMBLE 3"
   ]
  },
  {
   "cell_type": "code",
   "execution_count": 26,
   "metadata": {},
   "outputs": [],
   "source": [
    "pred_ens3 = pred_bilstm + pred_wave + pred_lgbm\n",
    "pred_label_ens3 = pred_ens3.argmax(axis = 1)"
   ]
  },
  {
   "cell_type": "code",
   "execution_count": 27,
   "metadata": {},
   "outputs": [],
   "source": [
    "info_ens = pd.DataFrame({'group': train.segment.values.reshape((-1)), 'pred': pred_label_ens3.astype(np.int64), 'target': train_target.values.reshape((-1))})"
   ]
  },
  {
   "cell_type": "markdown",
   "execution_count": null,
   "metadata": {},
   "source": [
    "# F1 ALL"
   ]
  },
  {
   "cell_type": "code",
   "execution_count": 28,
   "metadata": {},
   "outputs": [
    {
     "name": "stdout",
     "output_type": "stream",
     "text": [
      "ALL VALUES F1 SCORE OOF: 0.941390122161667\n"
     ]
    }
   ],
   "source": [
    "f1_ = f1_score(info_ens.target, info_ens.pred, average='macro')\n",
    "f1_dict['ens'] = f1_\n",
    "print(f'ALL VALUES F1 SCORE OOF: {f1_}')"
   ]
  },
  {
   "cell_type": "markdown",
   "execution_count": null,
   "metadata": {},
   "source": [
    "# GROUP"
   ]
  },
  {
   "cell_type": "code",
   "execution_count": 29,
   "metadata": {},
   "outputs": [
    {
     "name": "stdout",
     "output_type": "stream",
     "text": [
      "Group: 1 - LABEL 0; F1 SCORE:  0.9998123926569865\n",
      "Group: 1 - LABEL 1; F1 SCORE:  0.9948748527052544\n",
      "Group: 2 - LABEL 0; F1 SCORE:  0.9956152233025295\n",
      "Group: 2 - LABEL 1; F1 SCORE:  0.9985449678194829\n",
      "Group: 3 - LABEL 0; F1 SCORE:  0.9789129340714645\n",
      "Group: 3 - LABEL 1; F1 SCORE:  0.9832587424250848\n",
      "Group: 3 - LABEL 2; F1 SCORE:  0.986842458163647\n",
      "Group: 3 - LABEL 3; F1 SCORE:  0.9910393874370231\n",
      "Group: 5 - LABEL 0; F1 SCORE:  0.9593709043250328\n",
      "Group: 5 - LABEL 1; F1 SCORE:  0.9676733756987099\n",
      "Group: 5 - LABEL 2; F1 SCORE:  0.973497958961063\n",
      "Group: 5 - LABEL 3; F1 SCORE:  0.9776929919803009\n",
      "Group: 5 - LABEL 4; F1 SCORE:  0.98078800996316\n",
      "Group: 5 - LABEL 5; F1 SCORE:  0.9835370919562172\n",
      "Group: 10 - LABEL 0; F1 SCORE:  0.0\n",
      "Group: 10 - LABEL 1; F1 SCORE:  0.8051948051948051\n",
      "Group: 10 - LABEL 2; F1 SCORE:  0.8365520489872822\n",
      "Group: 10 - LABEL 3; F1 SCORE:  0.8602103095815867\n",
      "Group: 10 - LABEL 4; F1 SCORE:  0.8693058294150361\n",
      "Group: 10 - LABEL 5; F1 SCORE:  0.8806297417006533\n",
      "Group: 10 - LABEL 6; F1 SCORE:  0.8882024663445082\n",
      "Group: 10 - LABEL 7; F1 SCORE:  0.8943462425800193\n",
      "Group: 10 - LABEL 8; F1 SCORE:  0.8975014594991528\n",
      "Group: 10 - LABEL 9; F1 SCORE:  0.8970368681557097\n",
      "Group: 10 - LABEL 10; F1 SCORE:  0.8959177847559235\n"
     ]
    }
   ],
   "source": [
    "l_ = []\n",
    "for i in np.unique(train.segment.values):\n",
    "    temp = info_ens[info_ens['group'] == i]\n",
    "    for j in np.unique(temp.target):\n",
    "        f1 = f1_score(temp.target==j, temp.pred==j)\n",
    "        l_ += [f1]\n",
    "        print(f'Group: {i} - LABEL {j}; F1 SCORE:  {f1}')\n",
    "       \n",
    "f1_intra['ens3'] = l_"
   ]
  },
  {
   "cell_type": "markdown",
   "execution_count": null,
   "metadata": {},
   "source": [
    "# GROUP - CORRECTED"
   ]
  },
  {
   "cell_type": "code",
   "execution_count": 30,
   "metadata": {},
   "outputs": [
    {
     "name": "stdout",
     "output_type": "stream",
     "text": [
      "Group: 1; F1 SCORE:  0.9973438817588051\n",
      "Group: 2; F1 SCORE:  0.9970800955610062\n",
      "Group: 3; F1 SCORE:  0.9850133805243049\n",
      "Group: 5; F1 SCORE:  0.9737600554807472\n",
      "Group: 10; F1 SCORE:  0.7938118022959709\n"
     ]
    }
   ],
   "source": [
    "l_ = []\n",
    "for i in np.unique(train.segment.values):\n",
    "    temp = info_ens[info_ens['group'] == i]\n",
    "    if i == 1:\n",
    "        temp = temp[(temp.pred.isin([0, 1]))]\n",
    "    if i == 2:\n",
    "        temp = temp[(temp.pred.isin([0, 1]))]\n",
    "    if i == 3:\n",
    "        temp = temp[(temp.pred.isin([0, 1, 2, 3]))]\n",
    "    if i == 5:\n",
    "        temp = temp[(temp.pred.isin([0, 1, 2, 3, 4, 5]))]\n",
    "    if i == 10:\n",
    "        temp = temp[(temp.target!=0)]\n",
    "\n",
    "    f1 = f1_score(temp.target, temp.pred, average='macro')\n",
    "    l_ += [f1]\n",
    "    print(f'Group: {i}; F1 SCORE:  {f1}')\n",
    "    \n",
    "f1_group['ens3'] = l_"
   ]
  },
  {
   "cell_type": "markdown",
   "execution_count": null,
   "metadata": {},
   "source": [
    "# FINAL COMPARISON"
   ]
  },
  {
   "cell_type": "code",
   "execution_count": 31,
   "metadata": {},
   "outputs": [
    {
     "name": "stdout",
     "output_type": "stream",
     "text": [
      "     Name        F1\n",
      "3    ens2  0.941856\n",
      "0    wave  0.941507\n",
      "1  bilstm  0.941459\n",
      "4     ens  0.941390\n",
      "2    lgbm  0.940586\n"
     ]
    }
   ],
   "source": [
    "f1_df = pd.DataFrame({'Name': list(f1_dict.keys()), 'F1': list(f1_dict.values())})\n",
    "print(f1_df.sort_values('F1', ascending = False))\n"
   ]
  },
  {
   "cell_type": "code",
   "execution_count": 32,
   "metadata": {},
   "outputs": [
    {
     "name": "stdout",
     "output_type": "stream",
     "text": [
      "   Group      wave    bilstm      lgbm      ens2      ens3\n",
      "0      1  0.997482  0.997484  0.997330  0.997483  0.997344\n",
      "1      2  0.997079  0.997141  0.996972  0.997118  0.997080\n",
      "2      3  0.984968  0.984911  0.984383  0.985228  0.985013\n",
      "3      5  0.973437  0.973226  0.973077  0.973706  0.973760\n",
      "4     10  0.792223  0.782171  0.775281  0.790511  0.793812\n"
     ]
    }
   ],
   "source": [
    "print(f1_group.to_string())\n"
   ]
  },
  {
   "cell_type": "code",
   "execution_count": 33,
   "metadata": {},
   "outputs": [
    {
     "name": "stdout",
     "output_type": "stream",
     "text": [
      "    group  label      wave    bilstm      lgbm      ens2      ens3\n",
      "0       1      0  0.999822  0.999822  0.999811  0.999822  0.999812\n",
      "1       1      1  0.995142  0.995145  0.994848  0.995144  0.994875\n",
      "2       2      0  0.995614  0.995707  0.995453  0.995671  0.995615\n",
      "3       2      1  0.998544  0.998576  0.998491  0.998564  0.998545\n",
      "4       3      0  0.978926  0.978158  0.977740  0.979084  0.978913\n",
      "5       3      1  0.983203  0.983396  0.982623  0.983620  0.983259\n",
      "6       3      2  0.986770  0.986990  0.986411  0.987067  0.986842\n",
      "7       3      3  0.990968  0.991100  0.990757  0.991139  0.991039\n",
      "8       5      0  0.958854  0.956340  0.957458  0.958181  0.959371\n",
      "9       5      1  0.967008  0.967149  0.967285  0.967667  0.967673\n",
      "10      5      2  0.973236  0.973648  0.972831  0.973862  0.973498\n",
      "11      5      3  0.977431  0.977765  0.977236  0.977887  0.977693\n",
      "12      5      4  0.980626  0.980822  0.980449  0.980931  0.980788\n",
      "13      5      5  0.983470  0.983631  0.983205  0.983706  0.983537\n",
      "14     10      0  0.000000  0.800000  0.000000  0.500000  0.000000\n",
      "15     10      1  0.800000  0.694836  0.635452  0.772727  0.805195\n",
      "16     10      2  0.827166  0.825070  0.818824  0.829977  0.836552\n",
      "17     10      3  0.856174  0.860179  0.855713  0.861115  0.860210\n",
      "18     10      4  0.868353  0.869678  0.867627  0.869991  0.869306\n",
      "19     10      5  0.880741  0.880847  0.879936  0.881177  0.880630\n",
      "20     10      6  0.888259  0.887980  0.887483  0.888474  0.888202\n",
      "21     10      7  0.893785  0.894408  0.893730  0.894464  0.894346\n",
      "22     10      8  0.897555  0.897552  0.896859  0.897904  0.897501\n",
      "23     10      9  0.897585  0.897877  0.895482  0.898292  0.897037\n",
      "24     10     10  0.897662  0.895454  0.892708  0.897976  0.895918\n"
     ]
    }
   ],
   "source": [
    "print(f1_intra.to_string())"
   ]
  },
  {
   "cell_type": "markdown",
   "execution_count": null,
   "metadata": {},
   "source": [
    "# FINAL PREDICTION"
   ]
  },
  {
   "cell_type": "code",
   "execution_count": 34,
   "metadata": {},
   "outputs": [],
   "source": [
    "pred_lgb_test = np.load('../input/lgbm-kfold-no-out/pred_test.npy', allow_pickle = True)\n",
    "pred_wave_test = np.load('../input/nnet-composer/pred_wavenet_no_out.npy', allow_pickle = True).reshape((-1, 11))\n",
    "pred_bilstm_test = np.load('../input/nnet-composer/pred_bilstm_noout.npy', allow_pickle = True)\n",
    "# pred_xgb_test = np.load('../input/xgboost-kf/xgboost-kf/xgboost_pred.npy', allow_pickle = True)\n",
    "\n",
    "pred_test = pred_wave_test + pred_bilstm_test + pred_lgb_test"
   ]
  },
  {
   "cell_type": "code",
   "execution_count": 35,
   "metadata": {},
   "outputs": [],
   "source": [
    "pred_test_stack = pd.DataFrame({\n",
    "#     'xgb': pred_xgb_test.argmax(axis = 1).tolist(),\n",
    "    'lgb': pred_lgb_test.argmax(axis = 1).tolist(),\n",
    "    'bilstm': pred_bilstm_test.argmax(axis = 1).tolist(),\n",
    "    'wavenet': pred_wave_test.argmax(axis = 1).tolist(),\n",
    "    'ens': pred_test.argmax(axis = 1).tolist()}\n",
    ")"
   ]
  },
  {
   "cell_type": "markdown",
   "execution_count": null,
   "metadata": {},
   "source": [
    "# CORRECTNESS OF TEST"
   ]
  },
  {
   "cell_type": "code",
   "execution_count": 36,
   "metadata": {},
   "outputs": [
    {
     "name": "stdout",
     "output_type": "stream",
     "text": [
      "ENSEMBLE\n",
      "\n",
      "Group: 1\n",
      "bilstm         0       1     2    3\n",
      "wavenet                            \n",
      "0        1189884     133     0    0\n",
      "1             82  103284     0    0\n",
      "2              0     877  5294    4\n",
      "3              0       0     7  428\n",
      "4              0       0     0    7\n",
      "\n",
      "\n",
      "\n",
      "Group: 2\n",
      "bilstm       0      1  3\n",
      "wavenet                 \n",
      "0        25987     22  0\n",
      "1           16  73974  0\n",
      "3            0      0  1\n",
      "\n",
      "\n",
      "\n",
      "Group: 3\n",
      "bilstm      0      1      2      3  5\n",
      "wavenet                              \n",
      "0        4235     29      0      0  0\n",
      "1          15  33999     83      0  0\n",
      "2           0     88  86736    116  0\n",
      "3           0      0     98  74599  0\n",
      "4           0      0      0      1  0\n",
      "5           0      0      0      0  1\n",
      "\n",
      "\n",
      "\n",
      "Group: 5\n",
      "bilstm     0     1      2      3      4      5\n",
      "wavenet                                       \n",
      "0        405     6      0      0      0      0\n",
      "1          3  5134     23      0      0      0\n",
      "2          0    45  23930     97      0      0\n",
      "3          0     0     45  58293    120      0\n",
      "4          0     0      0    158  73951    117\n",
      "5          0     0      0      0     90  37583\n",
      "\n",
      "\n",
      "\n",
      "Group: 10\n",
      "bilstm   1    2     3     4      5      6      7      8      9     10\n",
      "wavenet                                                              \n",
      "1        17    3     0     0      0      0      0      0      0     0\n",
      "2         3  234     4     0      0      0      0      0      0     0\n",
      "3         0    5  1462    26      0      0      0      0      0     0\n",
      "4         0    0    39  6192     58      0      0      0      0     0\n",
      "5         0    0     0    82  18048    183      0      0      0     0\n",
      "6         0    0     0     0    132  36970    433      0      0     0\n",
      "7         0    0     0     0      0    109  52314    192      0     0\n",
      "8         0    0     0     0      0      0    434  48815    194     0\n",
      "9         0    0     0     0      0      0      0    220  26769    50\n",
      "10        0    0     0     0      0      0      0      0    195  6817\n",
      "\n",
      "\n",
      "\n"
     ]
    }
   ],
   "source": [
    "print('ENSEMBLE\\n')\n",
    "for i in np.unique(test.segment):\n",
    "    print(f'Group: {i}')\n",
    "    print(pd.crosstab(pred_test_stack.wavenet[test.segment == i], pred_test_stack.bilstm[test.segment == i]).to_string())\n",
    "    print('\\n\\n')"
   ]
  },
  {
   "cell_type": "code",
   "execution_count": 37,
   "metadata": {},
   "outputs": [
    {
     "name": "stdout",
     "output_type": "stream",
     "text": [
      "WAVENET\n",
      "\n",
      "Group: 1\n",
      "bilstm         0       1     2    3\n",
      "wavenet                            \n",
      "0        1189884     133     0    0\n",
      "1             82  103284     0    0\n",
      "2              0     877  5294    4\n",
      "3              0       0     7  428\n",
      "4              0       0     0    7\n",
      "\n",
      "\n",
      "\n",
      "Group: 2\n",
      "bilstm       0      1  3\n",
      "wavenet                 \n",
      "0        25987     22  0\n",
      "1           16  73974  0\n",
      "3            0      0  1\n",
      "\n",
      "\n",
      "\n",
      "Group: 3\n",
      "bilstm      0      1      2      3  5\n",
      "wavenet                              \n",
      "0        4235     29      0      0  0\n",
      "1          15  33999     83      0  0\n",
      "2           0     88  86736    116  0\n",
      "3           0      0     98  74599  0\n",
      "4           0      0      0      1  0\n",
      "5           0      0      0      0  1\n",
      "\n",
      "\n",
      "\n",
      "Group: 5\n",
      "bilstm     0     1      2      3      4      5\n",
      "wavenet                                       \n",
      "0        405     6      0      0      0      0\n",
      "1          3  5134     23      0      0      0\n",
      "2          0    45  23930     97      0      0\n",
      "3          0     0     45  58293    120      0\n",
      "4          0     0      0    158  73951    117\n",
      "5          0     0      0      0     90  37583\n",
      "\n",
      "\n",
      "\n",
      "Group: 10\n",
      "bilstm   1    2     3     4      5      6      7      8      9     10\n",
      "wavenet                                                              \n",
      "1        17    3     0     0      0      0      0      0      0     0\n",
      "2         3  234     4     0      0      0      0      0      0     0\n",
      "3         0    5  1462    26      0      0      0      0      0     0\n",
      "4         0    0    39  6192     58      0      0      0      0     0\n",
      "5         0    0     0    82  18048    183      0      0      0     0\n",
      "6         0    0     0     0    132  36970    433      0      0     0\n",
      "7         0    0     0     0      0    109  52314    192      0     0\n",
      "8         0    0     0     0      0      0    434  48815    194     0\n",
      "9         0    0     0     0      0      0      0    220  26769    50\n",
      "10        0    0     0     0      0      0      0      0    195  6817\n",
      "\n",
      "\n",
      "\n"
     ]
    }
   ],
   "source": [
    "print('WAVENET\\n')\n",
    "for i in np.unique(test.segment):\n",
    "    print(f'Group: {i}')\n",
    "    print(pd.crosstab(pred_test_stack.wavenet[test.segment == i], pred_test_stack.bilstm[test.segment == i]).to_string())\n",
    "    print('\\n\\n')"
   ]
  },
  {
   "cell_type": "code",
   "execution_count": 38,
   "metadata": {},
   "outputs": [
    {
     "name": "stdout",
     "output_type": "stream",
     "text": [
      "LGB\n",
      "\n",
      "Group: 1\n",
      "bilstm        0       1     2    3\n",
      "lgb                               \n",
      "0       1189844      94     0    0\n",
      "1           122  104014   534    0\n",
      "2             0     186  4643    2\n",
      "3             0       0   123  410\n",
      "4             0       0     1   27\n",
      "\n",
      "\n",
      "\n",
      "Group: 2\n",
      "bilstm      0      1  3\n",
      "lgb                    \n",
      "0       25966     24  0\n",
      "1          37  73972  1\n",
      "\n",
      "\n",
      "\n",
      "Group: 3\n",
      "bilstm     0      1      2      3  5\n",
      "lgb                                 \n",
      "0       4211     24      0      0  0\n",
      "1         39  33953    126      0  0\n",
      "2          0    139  86633    163  0\n",
      "3          0      0    158  74553  1\n",
      "\n",
      "\n",
      "\n",
      "Group: 5\n",
      "bilstm    0     1      2      3      4      5\n",
      "lgb                                          \n",
      "0       398     6      0      0      0      0\n",
      "1        10  5132     30      0      0      0\n",
      "2         0    47  23880    112      0      0\n",
      "3         0     0     88  58279    249      0\n",
      "4         0     0      0    157  73801    171\n",
      "5         0     0      0      0    111  37528\n",
      "9         0     0      0      0      0      1\n",
      "\n",
      "\n",
      "\n",
      "Group: 10\n",
      "bilstm  1    2     3     4      5      6      7      8      9     10\n",
      "lgb                                                                 \n",
      "0        0    2     6     0      0      0      0      0      0     0\n",
      "1       17    3    11     1      0      0      0      0      0     0\n",
      "2        3  225    10     4      0      0      0      0      0     0\n",
      "3        0   12  1435    41      0      0      0      0      0     0\n",
      "4        0    0    43  6162     94      0      0      0      0     0\n",
      "5        0    0     0    92  18028    347      0      0      0     0\n",
      "6        0    0     0     0    116  36712    502      0      0     0\n",
      "7        0    0     0     0      0    203  52249    369      0     0\n",
      "8        0    0     0     0      0      0    430  48553    277     0\n",
      "9        0    0     0     0      0      0      0    305  26596   125\n",
      "10       0    0     0     0      0      0      0      0    285  6742\n",
      "\n",
      "\n",
      "\n"
     ]
    }
   ],
   "source": [
    "print('LGB\\n')\n",
    "for i in np.unique(test.segment):\n",
    "    print(f'Group: {i}')\n",
    "    print(pd.crosstab(pred_test_stack.lgb[test.segment == i], pred_test_stack.bilstm[test.segment == i]).to_string())\n",
    "    print('\\n\\n')"
   ]
  },
  {
   "cell_type": "code",
   "execution_count": 39,
   "metadata": {},
   "outputs": [
    {
     "name": "stdout",
     "output_type": "stream",
     "text": [
      "ENS\n",
      "\n",
      "Group: 1\n",
      "wavenet        0       1     2    3  4\n",
      "ens                                   \n",
      "0        1189909      41     0    0  0\n",
      "1            108  103325   382    0  0\n",
      "2              0       0  5790    3  0\n",
      "3              0       0     3  432  3\n",
      "4              0       0     0    0  4\n",
      "\n",
      "\n",
      "\n",
      "Group: 2\n",
      "wavenet      0      1  3\n",
      "ens                     \n",
      "0        25983     12  0\n",
      "1           26  73978  0\n",
      "3            0      0  1\n",
      "\n",
      "\n",
      "\n",
      "Group: 3\n",
      "wavenet     0      1      2      3  4  5\n",
      "ens                                     \n",
      "0        4239      4      0      0  0  0\n",
      "1          25  34035     56      0  0  0\n",
      "2           0     58  86808     64  0  0\n",
      "3           0      0     76  74633  1  0\n",
      "5           0      0      0      0  0  1\n",
      "\n",
      "\n",
      "\n",
      "Group: 5\n",
      "wavenet    0     1      2      3      4      5\n",
      "ens                                           \n",
      "0        402     5      0      0      0      0\n",
      "1          9  5143     19      0      0      0\n",
      "2          0    12  23989     35      0      0\n",
      "3          0     0     64  58378    129      0\n",
      "4          0     0      0     45  74049     53\n",
      "5          0     0      0      0     48  37620\n",
      "\n",
      "\n",
      "\n",
      "Group: 10\n",
      "wavenet  1    2     3     4      5      6      7      8      9     10\n",
      "ens                                                                  \n",
      "1        19    0     0     0      0      0      0      0      0     0\n",
      "2         1  239     1     0      0      0      0      0      0     0\n",
      "3         0    2  1482    24      0      0      0      0      0     0\n",
      "4         0    0    10  6224     63      0      0      0      0     0\n",
      "5         0    0     0    41  18179    171      0      0      0     0\n",
      "6         0    0     0     0     71  37177    106      0      0     0\n",
      "7         0    0     0     0      0    187  52394    249      0     0\n",
      "8         0    0     0     0      0      0    115  49067    140     0\n",
      "9         0    0     0     0      0      0      0    127  26819   111\n",
      "10        0    0     0     0      0      0      0      0     80  6901\n",
      "\n",
      "\n",
      "\n"
     ]
    }
   ],
   "source": [
    "print('ENS\\n')\n",
    "for i in np.unique(test.segment):\n",
    "    print(f'Group: {i}')\n",
    "    print(pd.crosstab(pred_test_stack.ens[test.segment == i], pred_test_stack.wavenet[test.segment == i]).to_string())\n",
    "    print('\\n\\n')"
   ]
  },
  {
   "cell_type": "code",
   "execution_count": 40,
   "metadata": {},
   "outputs": [],
   "source": [
    "sub = pd.read_csv(\"../input/liverpool-ion-switching/sample_submission.csv\", dtype={'time':str})\n",
    "\n",
    "sub['open_channels'] = pred_test.argmax(axis = 1)\n",
    "sub.to_csv('submission.csv', index=False)"
   ]
  }
 ],
 "metadata": {
  "kernelspec": {
   "display_name": "Python 3",
   "language": "python",
   "name": "python3"
  },
  "language_info": {
   "codemirror_mode": {
    "name": "ipython",
    "version": 3
   },
   "file_extension": ".py",
   "mimetype": "text/x-python",
   "name": "python",
   "nbconvert_exporter": "python",
   "pygments_lexer": "ipython3",
   "version": "3.7.6"
  }
 },
 "nbformat": 4,
 "nbformat_minor": 4
}
