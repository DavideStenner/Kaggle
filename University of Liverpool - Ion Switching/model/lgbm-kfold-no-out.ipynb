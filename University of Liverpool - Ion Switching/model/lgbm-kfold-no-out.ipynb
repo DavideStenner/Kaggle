{
 "cells": [
  {
   "cell_type": "code",
   "execution_count": 1,
   "metadata": {},
   "outputs": [
    {
     "name": "stdout",
     "output_type": "stream",
     "text": [
      "Collecting pandas==1.0.3\r\n",
      "  Downloading pandas-1.0.3-cp37-cp37m-manylinux1_x86_64.whl (10.0 MB)\r\n",
      "\u001b[K     |████████████████████████████████| 10.0 MB 8.9 MB/s \r\n",
      "\u001b[?25hRequirement already satisfied: pytz>=2017.2 in /opt/conda/lib/python3.7/site-packages (from pandas==1.0.3) (2019.3)\r\n",
      "Requirement already satisfied: python-dateutil>=2.6.1 in /opt/conda/lib/python3.7/site-packages (from pandas==1.0.3) (2.8.1)\r\n",
      "Requirement already satisfied: numpy>=1.13.3 in /opt/conda/lib/python3.7/site-packages (from pandas==1.0.3) (1.18.1)\r\n",
      "Requirement already satisfied: six>=1.5 in /opt/conda/lib/python3.7/site-packages (from python-dateutil>=2.6.1->pandas==1.0.3) (1.14.0)\r\n",
      "\u001b[31mERROR: hypertools 0.6.2 has requirement scikit-learn<0.22,>=0.19.1, but you'll have scikit-learn 0.22.2.post1 which is incompatible.\u001b[0m\r\n",
      "\u001b[31mERROR: datalab 1.1.5 has requirement pandas-profiling==1.4.0, but you'll have pandas-profiling 2.4.0 which is incompatible.\u001b[0m\r\n",
      "Installing collected packages: pandas\r\n",
      "  Attempting uninstall: pandas\r\n",
      "    Found existing installation: pandas 1.0.1\r\n",
      "    Uninstalling pandas-1.0.1:\r\n",
      "      Successfully uninstalled pandas-1.0.1\r\n",
      "Successfully installed pandas-1.0.3\r\n"
     ]
    }
   ],
   "source": [
    "!pip install pandas==1.0.3"
   ]
  },
  {
   "cell_type": "code",
   "execution_count": 2,
   "metadata": {
    "_cell_guid": "b1076dfc-b9ad-4769-8c92-a6c4dae69d19",
    "_uuid": "8f2839f25d086af736a60e9eeb907d3b93b6e0e5"
   },
   "outputs": [],
   "source": [
    "from sklearn.model_selection import StratifiedKFold, GroupKFold\n",
    "import matplotlib.pyplot as plt\n",
    "import pandas as pd\n",
    "import numpy as np\n",
    "from tqdm import tqdm_notebook\n",
    "from math import log\n",
    "import lightgbm as lgb\n",
    "import gc\n",
    "import shap\n",
    "from sklearn.metrics import f1_score\n",
    "from tqdm.notebook import tqdm\n",
    "from sklearn.preprocessing import LabelEncoder, MinMaxScaler\n",
    "import seaborn as sns\n",
    "\n",
    "n_classes = 11\n",
    "folds = 5\n",
    "SEED_ = 987654321"
   ]
  },
  {
   "cell_type": "code",
   "execution_count": 3,
   "metadata": {},
   "outputs": [],
   "source": [
    "path = '../input/lgbm-dataset/'\n",
    "\n",
    "group = np.load(path + 'group.npy', allow_pickle = True)\n",
    "train_target = pd.read_csv('../input/liverpool-ion-switching/train.csv', usecols = ['open_channels'])\n",
    "time = pd.read_csv('../input/liverpool-ion-switching/train.csv', usecols = ['open_channels', 'time'])\n",
    "\n",
    "train = pd.read_csv(path + 'train_clean.csv')"
   ]
  },
  {
   "cell_type": "code",
   "execution_count": 4,
   "metadata": {},
   "outputs": [],
   "source": [
    "out_ = np.arange(3640000, 3824000)\n",
    "idx = train.index\n",
    "bool_mask = idx.isin(out_)\n",
    "train = train[~idx.isin(out_)].reset_index(drop = True)\n",
    "group = group[~idx.isin(out_)]\n",
    "train_target = train_target[~idx.isin(out_)].reset_index(drop = True)\n"
   ]
  },
  {
   "cell_type": "code",
   "execution_count": 5,
   "metadata": {},
   "outputs": [
    {
     "data": {
      "text/plain": [
       "40"
      ]
     },
     "execution_count": 5,
     "metadata": {},
     "output_type": "execute_result"
    }
   ],
   "source": [
    "def evaluate_macroF1_lgb(predictions, truth):  \n",
    "    # this follows the discussion in https://github.com/Microsoft/LightGBM/issues/1483\n",
    "    labels = truth.get_label()\n",
    "    pred_labels = predictions.reshape(n_classes,-1).argmax(axis=0) #np.unique(\n",
    "\n",
    "    f1 = f1_score(labels, pred_labels, average='macro')\n",
    "    return ('macroF1', f1, True) \n",
    "\n",
    "params = {\n",
    "        \"objective\" : \"multiclass\",\n",
    "        \"num_class\" : n_classes,\n",
    "        'metric' : \"None\",\n",
    "        'boosting_type':'gbdt',\n",
    "        'learning_rate':0.05,\n",
    "        'colsample_bytree': 0.8,\n",
    "        'lambda_l1': 1,\n",
    "        'lambda_l2': 1,\n",
    "        'max_depth': -1,\n",
    "        'num_leaves': 2**8,\n",
    "        'subsample': .75,\n",
    "        'seed': SEED_,\n",
    "        'importance_type':'gain',\n",
    "        'n_jobs':-1,\n",
    "}\n",
    "\n",
    "gc.collect()"
   ]
  },
  {
   "cell_type": "code",
   "execution_count": 6,
   "metadata": {},
   "outputs": [],
   "source": [
    "time = pd.read_csv('../input/liverpool-ion-switching/train.csv', usecols = ['open_channels', 'time']).loc[~idx.isin(out_)].reset_index(drop = True)\n",
    "time['group'] = (time['time'].transform(lambda x: np.ceil(x*10000/500000)))\n",
    "time['segment'] = train['segment']"
   ]
  },
  {
   "cell_type": "code",
   "execution_count": 7,
   "metadata": {},
   "outputs": [],
   "source": [
    "strat =time['segment'].astype(str).copy() + time['open_channels'].astype(str).copy()\n",
    "le = LabelEncoder()\n",
    "strat = le.fit_transform(strat).astype(np.int16)\n"
   ]
  },
  {
   "cell_type": "code",
   "execution_count": 8,
   "metadata": {},
   "outputs": [
    {
     "data": {
      "text/plain": [
       "20"
      ]
     },
     "execution_count": 8,
     "metadata": {},
     "output_type": "execute_result"
    }
   ],
   "source": [
    "del time, le\n",
    "gc.collect()\n"
   ]
  },
  {
   "cell_type": "code",
   "execution_count": 9,
   "metadata": {},
   "outputs": [
    {
     "name": "stdout",
     "output_type": "stream",
     "text": [
      "BEGIN FOLD:     0 -------\n",
      "\n",
      "\n",
      "\n"
     ]
    },
    {
     "name": "stderr",
     "output_type": "stream",
     "text": [
      "Using categorical_feature in Dataset.\n"
     ]
    },
    {
     "name": "stdout",
     "output_type": "stream",
     "text": [
      "Training until validation scores don't improve for 50 rounds\n",
      "[50]\tvalidation's macroF1: 0.939535\n",
      "[100]\tvalidation's macroF1: 0.939644\n",
      "Early stopping, best iteration is:\n",
      "[77]\tvalidation's macroF1: 0.93972\n",
      "\n",
      "\n",
      "F1_SCORE:  0.9397199670368884\n",
      "\n",
      "\n",
      "ENDED FOLD:     0 -------\n",
      "\n",
      "\n",
      "\n",
      "BEGIN FOLD:     1 -------\n",
      "\n",
      "\n",
      "\n",
      "Training until validation scores don't improve for 50 rounds\n",
      "[50]\tvalidation's macroF1: 0.940816\n",
      "[100]\tvalidation's macroF1: 0.940937\n",
      "[150]\tvalidation's macroF1: 0.940821\n",
      "Early stopping, best iteration is:\n",
      "[110]\tvalidation's macroF1: 0.941044\n",
      "\n",
      "\n",
      "F1_SCORE:  0.9410435323045522\n",
      "\n",
      "\n",
      "ENDED FOLD:     1 -------\n",
      "\n",
      "\n",
      "\n",
      "BEGIN FOLD:     2 -------\n",
      "\n",
      "\n",
      "\n",
      "Training until validation scores don't improve for 50 rounds\n",
      "[50]\tvalidation's macroF1: 0.940614\n",
      "[100]\tvalidation's macroF1: 0.940782\n",
      "Early stopping, best iteration is:\n",
      "[87]\tvalidation's macroF1: 0.940847\n",
      "\n",
      "\n",
      "F1_SCORE:  0.9408471113620522\n",
      "\n",
      "\n",
      "ENDED FOLD:     2 -------\n",
      "\n",
      "\n",
      "\n",
      "BEGIN FOLD:     3 -------\n",
      "\n",
      "\n",
      "\n",
      "Training until validation scores don't improve for 50 rounds\n",
      "[50]\tvalidation's macroF1: 0.940868\n",
      "[100]\tvalidation's macroF1: 0.941059\n",
      "[150]\tvalidation's macroF1: 0.941167\n",
      "[200]\tvalidation's macroF1: 0.941157\n",
      "[250]\tvalidation's macroF1: 0.941005\n",
      "Early stopping, best iteration is:\n",
      "[207]\tvalidation's macroF1: 0.941201\n",
      "\n",
      "\n",
      "F1_SCORE:  0.9412012075280066\n",
      "\n",
      "\n",
      "ENDED FOLD:     3 -------\n",
      "\n",
      "\n",
      "\n",
      "BEGIN FOLD:     4 -------\n",
      "\n",
      "\n",
      "\n",
      "Training until validation scores don't improve for 50 rounds\n",
      "[50]\tvalidation's macroF1: 0.939727\n",
      "[100]\tvalidation's macroF1: 0.939891\n",
      "[150]\tvalidation's macroF1: 0.939967\n",
      "Early stopping, best iteration is:\n",
      "[139]\tvalidation's macroF1: 0.940021\n",
      "\n",
      "\n",
      "F1_SCORE:  0.9400212465516649\n",
      "\n",
      "\n",
      "ENDED FOLD:     4 -------\n",
      "\n",
      "\n",
      "\n",
      "FINAL F1 SCORE:   0.9405666129566329\n"
     ]
    }
   ],
   "source": [
    "gc.collect()\n",
    "kf = GroupKFold(n_splits = folds)\n",
    "model_list = []\n",
    "score = 0\n",
    "pred_oof = np.zeros((train.shape[0], n_classes))\n",
    "\n",
    "for fold_n, (train_index, valid_index) in enumerate(kf.split(train, strat, group)):\n",
    "    print(f'BEGIN FOLD:     {fold_n} -------\\n\\n\\n')\n",
    "\n",
    "    X_train, X_valid = train.iloc[train_index,:], train.iloc[valid_index,:]\n",
    "    y_train, y_valid = train_target.iloc[train_index,:], train_target.iloc[valid_index,:]\n",
    "\n",
    "    model = lgb.train(params,lgb.Dataset(X_train, label=y_train, categorical_feature = ['segment']), \n",
    "                      5000, valid_sets = lgb.Dataset(X_valid, label=y_valid,categorical_feature = ['segment']), valid_names ='validation',\n",
    "                      verbose_eval = 50, feval = evaluate_macroF1_lgb, early_stopping_rounds = 50)\n",
    "    gc.collect()\n",
    "    \n",
    "    model_list += [model]\n",
    "    \n",
    "    valid_ = model.predict(X_valid)\n",
    "    pred = valid_.argmax(axis = 1).reshape((-1))\n",
    "    pred_oof[valid_index, :] = valid_\n",
    "\n",
    "    score_temp = f1_score(y_valid, pred, average = 'macro')\n",
    "    score += score_temp/folds\n",
    "\n",
    "    del model, X_train, X_valid, y_train, y_valid\n",
    "    gc.collect()\n",
    "    print(f'\\n\\nF1_SCORE:  {score_temp}\\n\\n\\nENDED FOLD:     {fold_n} -------\\n\\n\\n')\n",
    "\n",
    "np.save('pred_oof.npy', pred_oof, allow_pickle = True)\n",
    "\n",
    "print(f'FINAL F1 SCORE:   {score}')"
   ]
  },
  {
   "cell_type": "code",
   "execution_count": 10,
   "metadata": {},
   "outputs": [
    {
     "data": {
      "application/vnd.jupyter.widget-view+json": {
       "model_id": "9e7903b2ada746388398fd3821af270f",
       "version_major": 2,
       "version_minor": 0
      },
      "text/plain": [
       "HBox(children=(FloatProgress(value=1.0, bar_style='info', max=1.0), HTML(value='')))"
      ]
     },
     "metadata": {},
     "output_type": "display_data"
    },
    {
     "name": "stdout",
     "output_type": "stream",
     "text": [
      "\n"
     ]
    }
   ],
   "source": [
    "feature_importances = pd.DataFrame()\n",
    "feature_importances['feature'] = train.columns\n",
    "\n",
    "\n",
    "for fold_, mod in tqdm(enumerate(model_list)):\n",
    "    feature_importances['fold_{}'.format(fold_ + 1)] = mod.feature_importance(importance_type='gain')\n",
    "    mod.save_model(f'model{fold_}')"
   ]
  },
  {
   "cell_type": "code",
   "execution_count": 11,
   "metadata": {},
   "outputs": [
    {
     "data": {
      "text/plain": [
       "Text(0.5, 1.0, '50 TOP feature importance over 5 average')"
      ]
     },
     "execution_count": 11,
     "metadata": {},
     "output_type": "execute_result"
    },
    {
     "data": {
      "image/png": "[encoded data removed]",
      "text/plain": [
       "<Figure size 1440x1152 with 1 Axes>"
      ]
     },
     "metadata": {
      "needs_background": "light"
     },
     "output_type": "display_data"
    }
   ],
   "source": [
    "scaler = MinMaxScaler(feature_range=(0, 100))\n",
    "\n",
    "\n",
    "feature_importances['average'] = scaler.fit_transform(X=pd.DataFrame(feature_importances[['fold_{}'.format(fold + 1) for fold in range(kf.n_splits)]].mean(axis=1)))\n",
    "\n",
    "fig = plt.figure(figsize=(20, 16))\n",
    "sns.barplot(data=feature_importances.sort_values(by='average', ascending=False).head(50), x='average', y='feature');\n",
    "plt.title('50 TOP feature importance over {} average'.format(fold_+1))\n"
   ]
  },
  {
   "cell_type": "code",
   "execution_count": 12,
   "metadata": {},
   "outputs": [
    {
     "data": {
      "text/plain": [
       "20"
      ]
     },
     "execution_count": 12,
     "metadata": {},
     "output_type": "execute_result"
    }
   ],
   "source": [
    "del train, train_target\n",
    "gc.collect()"
   ]
  },
  {
   "cell_type": "code",
   "execution_count": 13,
   "metadata": {},
   "outputs": [],
   "source": [
    "test = pd.read_csv(path + 'test_clean.csv')\n",
    "\n",
    "for i, mod in enumerate(model_list):\n",
    "    if i == 0:\n",
    "        pred_test = mod.predict(test)/folds\n",
    "    else:\n",
    "        pred_test += mod.predict(test)/folds\n"
   ]
  },
  {
   "cell_type": "code",
   "execution_count": 14,
   "metadata": {},
   "outputs": [],
   "source": [
    "np.save('pred_test.npy', pred_test, allow_pickle = True)\n"
   ]
  }
 ],
 "metadata": {
  "kernelspec": {
   "display_name": "Python 3",
   "language": "python",
   "name": "python3"
  },
  "language_info": {
   "codemirror_mode": {
    "name": "ipython",
    "version": 3
   },
   "file_extension": ".py",
   "mimetype": "text/x-python",
   "name": "python",
   "nbconvert_exporter": "python",
   "pygments_lexer": "ipython3",
   "version": "3.7.6"
  },
  "widgets": {
   "application/vnd.jupyter.widget-state+json": {
    "state": {
     "246160d1ca7a4cd8ac6ddfdaf5966a69": {
      "model_module": "@jupyter-widgets/base",
      "model_module_version": "1.2.0",
      "model_name": "LayoutModel",
      "state": {
       "_model_module": "@jupyter-widgets/base",
       "_model_module_version": "1.2.0",
       "_model_name": "LayoutModel",
       "_view_count": null,
       "_view_module": "@jupyter-widgets/base",
       "_view_module_version": "1.2.0",
       "_view_name": "LayoutView",
       "align_content": null,
       "align_items": null,
       "align_self": null,
       "border": null,
       "bottom": null,
       "display": null,
       "flex": null,
       "flex_flow": null,
       "grid_area": null,
       "grid_auto_columns": null,
       "grid_auto_flow": null,
       "grid_auto_rows": null,
       "grid_column": null,
       "grid_gap": null,
       "grid_row": null,
       "grid_template_areas": null,
       "grid_template_columns": null,
       "grid_template_rows": null,
       "height": null,
       "justify_content": null,
       "justify_items": null,
       "left": null,
       "margin": null,
       "max_height": null,
       "max_width": null,
       "min_height": null,
       "min_width": null,
       "object_fit": null,
       "object_position": null,
       "order": null,
       "overflow": null,
       "overflow_x": null,
       "overflow_y": null,
       "padding": null,
       "right": null,
       "top": null,
       "visibility": null,
       "width": null
      }
     },
     "719d56729fe84184acdaec33ecebfbdf": {
      "model_module": "@jupyter-widgets/controls",
      "model_module_version": "1.5.0",
      "model_name": "DescriptionStyleModel",
      "state": {
       "_model_module": "@jupyter-widgets/controls",
       "_model_module_version": "1.5.0",
       "_model_name": "DescriptionStyleModel",
       "_view_count": null,
       "_view_module": "@jupyter-widgets/base",
       "_view_module_version": "1.2.0",
       "_view_name": "StyleView",
       "description_width": ""
      }
     },
     "9e7903b2ada746388398fd3821af270f": {
      "model_module": "@jupyter-widgets/controls",
      "model_module_version": "1.5.0",
      "model_name": "HBoxModel",
      "state": {
       "_dom_classes": [],
       "_model_module": "@jupyter-widgets/controls",
       "_model_module_version": "1.5.0",
       "_model_name": "HBoxModel",
       "_view_count": null,
       "_view_module": "@jupyter-widgets/controls",
       "_view_module_version": "1.5.0",
       "_view_name": "HBoxView",
       "box_style": "",
       "children": [
        "IPY_MODEL_b89aa2ee9efe440db283d87a92559877",
        "IPY_MODEL_a9aa9a5e235743338c22cda65469e6d2"
       ],
       "layout": "IPY_MODEL_b71bcea8512c4ef3876a84f5cf964a3d"
      }
     },
     "a9aa9a5e235743338c22cda65469e6d2": {
      "model_module": "@jupyter-widgets/controls",
      "model_module_version": "1.5.0",
      "model_name": "HTMLModel",
      "state": {
       "_dom_classes": [],
       "_model_module": "@jupyter-widgets/controls",
       "_model_module_version": "1.5.0",
       "_model_name": "HTMLModel",
       "_view_count": null,
       "_view_module": "@jupyter-widgets/controls",
       "_view_module_version": "1.5.0",
       "_view_name": "HTMLView",
       "description": "",
       "description_tooltip": null,
       "layout": "IPY_MODEL_e7bb5fb829fb4e5790e3017e3aa0773b",
       "placeholder": "​",
       "style": "IPY_MODEL_719d56729fe84184acdaec33ecebfbdf",
       "value": " 5/? [00:03&lt;00:00,  1.31it/s]"
      }
     },
     "b71bcea8512c4ef3876a84f5cf964a3d": {
      "model_module": "@jupyter-widgets/base",
      "model_module_version": "1.2.0",
      "model_name": "LayoutModel",
      "state": {
       "_model_module": "@jupyter-widgets/base",
       "_model_module_version": "1.2.0",
       "_model_name": "LayoutModel",
       "_view_count": null,
       "_view_module": "@jupyter-widgets/base",
       "_view_module_version": "1.2.0",
       "_view_name": "LayoutView",
       "align_content": null,
       "align_items": null,
       "align_self": null,
       "border": null,
       "bottom": null,
       "display": null,
       "flex": null,
       "flex_flow": null,
       "grid_area": null,
       "grid_auto_columns": null,
       "grid_auto_flow": null,
       "grid_auto_rows": null,
       "grid_column": null,
       "grid_gap": null,
       "grid_row": null,
       "grid_template_areas": null,
       "grid_template_columns": null,
       "grid_template_rows": null,
       "height": null,
       "justify_content": null,
       "justify_items": null,
       "left": null,
       "margin": null,
       "max_height": null,
       "max_width": null,
       "min_height": null,
       "min_width": null,
       "object_fit": null,
       "object_position": null,
       "order": null,
       "overflow": null,
       "overflow_x": null,
       "overflow_y": null,
       "padding": null,
       "right": null,
       "top": null,
       "visibility": null,
       "width": null
      }
     },
     "b89aa2ee9efe440db283d87a92559877": {
      "model_module": "@jupyter-widgets/controls",
      "model_module_version": "1.5.0",
      "model_name": "FloatProgressModel",
      "state": {
       "_dom_classes": [],
       "_model_module": "@jupyter-widgets/controls",
       "_model_module_version": "1.5.0",
       "_model_name": "FloatProgressModel",
       "_view_count": null,
       "_view_module": "@jupyter-widgets/controls",
       "_view_module_version": "1.5.0",
       "_view_name": "ProgressView",
       "bar_style": "success",
       "description": "",
       "description_tooltip": null,
       "layout": "IPY_MODEL_246160d1ca7a4cd8ac6ddfdaf5966a69",
       "max": 1.0,
       "min": 0.0,
       "orientation": "horizontal",
       "style": "IPY_MODEL_ceb859802653463ea98aea45ee1a0974",
       "value": 1.0
      }
     },
     "ceb859802653463ea98aea45ee1a0974": {
      "model_module": "@jupyter-widgets/controls",
      "model_module_version": "1.5.0",
      "model_name": "ProgressStyleModel",
      "state": {
       "_model_module": "@jupyter-widgets/controls",
       "_model_module_version": "1.5.0",
       "_model_name": "ProgressStyleModel",
       "_view_count": null,
       "_view_module": "@jupyter-widgets/base",
       "_view_module_version": "1.2.0",
       "_view_name": "StyleView",
       "bar_color": null,
       "description_width": "initial"
      }
     },
     "e7bb5fb829fb4e5790e3017e3aa0773b": {
      "model_module": "@jupyter-widgets/base",
      "model_module_version": "1.2.0",
      "model_name": "LayoutModel",
      "state": {
       "_model_module": "@jupyter-widgets/base",
       "_model_module_version": "1.2.0",
       "_model_name": "LayoutModel",
       "_view_count": null,
       "_view_module": "@jupyter-widgets/base",
       "_view_module_version": "1.2.0",
       "_view_name": "LayoutView",
       "align_content": null,
       "align_items": null,
       "align_self": null,
       "border": null,
       "bottom": null,
       "display": null,
       "flex": null,
       "flex_flow": null,
       "grid_area": null,
       "grid_auto_columns": null,
       "grid_auto_flow": null,
       "grid_auto_rows": null,
       "grid_column": null,
       "grid_gap": null,
       "grid_row": null,
       "grid_template_areas": null,
       "grid_template_columns": null,
       "grid_template_rows": null,
       "height": null,
       "justify_content": null,
       "justify_items": null,
       "left": null,
       "margin": null,
       "max_height": null,
       "max_width": null,
       "min_height": null,
       "min_width": null,
       "object_fit": null,
       "object_position": null,
       "order": null,
       "overflow": null,
       "overflow_x": null,
       "overflow_y": null,
       "padding": null,
       "right": null,
       "top": null,
       "visibility": null,
       "width": null
      }
     }
    },
    "version_major": 2,
    "version_minor": 0
   }
  }
 },
 "nbformat": 4,
 "nbformat_minor": 4
}
