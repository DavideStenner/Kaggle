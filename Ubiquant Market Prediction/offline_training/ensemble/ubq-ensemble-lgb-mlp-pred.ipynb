{
 "cells": [
  {
   "cell_type": "code",
   "execution_count": 1,
   "id": "3dacf565",
   "metadata": {
    "execution": {
     "iopub.execute_input": "2022-04-15T06:34:03.500737Z",
     "iopub.status.busy": "2022-04-15T06:34:03.495368Z",
     "iopub.status.idle": "2022-04-15T06:34:18.266658Z",
     "shell.execute_reply": "2022-04-15T06:34:18.267218Z",
     "shell.execute_reply.started": "2022-04-15T06:25:21.992308Z"
    },
    "papermill": {
     "duration": 14.787271,
     "end_time": "2022-04-15T06:34:18.267541",
     "exception": false,
     "start_time": "2022-04-15T06:34:03.480270",
     "status": "completed"
    },
    "tags": []
   },
   "outputs": [
    {
     "data": {
      "text/html": [
       "<style type='text/css'>\n",
       ".datatable table.frame { margin-bottom: 0; }\n",
       ".datatable table.frame thead { border-bottom: none; }\n",
       ".datatable table.frame tr.coltypes td {  color: #FFFFFF;  line-height: 6px;  padding: 0 0.5em;}\n",
       ".datatable .bool    { background: #DDDD99; }\n",
       ".datatable .object  { background: #565656; }\n",
       ".datatable .int     { background: #5D9E5D; }\n",
       ".datatable .float   { background: #4040CC; }\n",
       ".datatable .str     { background: #CC4040; }\n",
       ".datatable .time    { background: #40CC40; }\n",
       ".datatable .row_index {  background: var(--jp-border-color3);  border-right: 1px solid var(--jp-border-color0);  color: var(--jp-ui-font-color3);  font-size: 9px;}\n",
       ".datatable .frame tbody td { text-align: left; }\n",
       ".datatable .frame tr.coltypes .row_index {  background: var(--jp-border-color0);}\n",
       ".datatable th:nth-child(2) { padding-left: 12px; }\n",
       ".datatable .hellipsis {  color: var(--jp-cell-editor-border-color);}\n",
       ".datatable .vellipsis {  background: var(--jp-layout-color0);  color: var(--jp-cell-editor-border-color);}\n",
       ".datatable .na {  color: var(--jp-cell-editor-border-color);  font-size: 80%;}\n",
       ".datatable .sp {  opacity: 0.25;}\n",
       ".datatable .footer { font-size: 9px; }\n",
       ".datatable .frame_dimensions {  background: var(--jp-border-color3);  border-top: 1px solid var(--jp-border-color0);  color: var(--jp-ui-font-color3);  display: inline-block;  opacity: 0.6;  padding: 1px 10px 1px 5px;}\n",
       "</style>\n"
      ],
      "text/plain": [
       "<IPython.core.display.HTML object>"
      ]
     },
     "metadata": {},
     "output_type": "display_data"
    },
    {
     "name": "stderr",
     "output_type": "stream",
     "text": [
      "2022-04-15 06:34:15.588684: I tensorflow/stream_executor/cuda/cuda_gpu_executor.cc:937] successful NUMA node read from SysFS had negative value (-1), but there must be at least one NUMA node, so returning NUMA node zero\n",
      "2022-04-15 06:34:15.594488: I tensorflow/stream_executor/cuda/cuda_gpu_executor.cc:937] successful NUMA node read from SysFS had negative value (-1), but there must be at least one NUMA node, so returning NUMA node zero\n",
      "2022-04-15 06:34:15.595505: I tensorflow/stream_executor/cuda/cuda_gpu_executor.cc:937] successful NUMA node read from SysFS had negative value (-1), but there must be at least one NUMA node, so returning NUMA node zero\n",
      "2022-04-15 06:34:15.597227: I tensorflow/core/platform/cpu_feature_guard.cc:142] This TensorFlow binary is optimized with oneAPI Deep Neural Network Library (oneDNN) to use the following CPU instructions in performance-critical operations:  AVX2 FMA\n",
      "To enable them in other operations, rebuild TensorFlow with the appropriate compiler flags.\n",
      "2022-04-15 06:34:15.598297: I tensorflow/stream_executor/cuda/cuda_gpu_executor.cc:937] successful NUMA node read from SysFS had negative value (-1), but there must be at least one NUMA node, so returning NUMA node zero\n",
      "2022-04-15 06:34:15.599379: I tensorflow/stream_executor/cuda/cuda_gpu_executor.cc:937] successful NUMA node read from SysFS had negative value (-1), but there must be at least one NUMA node, so returning NUMA node zero\n",
      "2022-04-15 06:34:15.600386: I tensorflow/stream_executor/cuda/cuda_gpu_executor.cc:937] successful NUMA node read from SysFS had negative value (-1), but there must be at least one NUMA node, so returning NUMA node zero\n",
      "2022-04-15 06:34:17.901399: I tensorflow/stream_executor/cuda/cuda_gpu_executor.cc:937] successful NUMA node read from SysFS had negative value (-1), but there must be at least one NUMA node, so returning NUMA node zero\n",
      "2022-04-15 06:34:17.902596: I tensorflow/stream_executor/cuda/cuda_gpu_executor.cc:937] successful NUMA node read from SysFS had negative value (-1), but there must be at least one NUMA node, so returning NUMA node zero\n",
      "2022-04-15 06:34:17.903691: I tensorflow/stream_executor/cuda/cuda_gpu_executor.cc:937] successful NUMA node read from SysFS had negative value (-1), but there must be at least one NUMA node, so returning NUMA node zero\n",
      "2022-04-15 06:34:17.904705: I tensorflow/core/common_runtime/gpu/gpu_device.cc:1510] Created device /job:localhost/replica:0/task:0/device:GPU:0 with 15417 MB memory:  -> device: 0, name: Tesla P100-PCIE-16GB, pci bus id: 0000:00:04.0, compute capability: 6.0\n"
     ]
    }
   ],
   "source": [
    "import pandas as pd\n",
    "import os\n",
    "import ubiquant\n",
    "import numpy as np\n",
    "import pickle\n",
    "import lightgbm as lgb\n",
    "from ubq_utilities import STARTING_NUMERIC_FEAT_NAME\n",
    "from ubq_nn_utils import create_mlp, PARAMS, tfp_correlation, create_ae_mlp\n",
    "import re\n",
    "\n",
    "path_model = '../input/ubq-ensemble-lgb-mlp'\n",
    "\n",
    "env = ubiquant.make_env()   # initialize the environment"
   ]
  },
  {
   "cell_type": "code",
   "execution_count": 2,
   "id": "1162db66",
   "metadata": {
    "execution": {
     "iopub.execute_input": "2022-04-15T06:34:18.295756Z",
     "iopub.status.busy": "2022-04-15T06:34:18.295044Z",
     "iopub.status.idle": "2022-04-15T06:34:18.310786Z",
     "shell.execute_reply": "2022-04-15T06:34:18.310196Z",
     "shell.execute_reply.started": "2022-04-15T06:25:22.668589Z"
    },
    "papermill": {
     "duration": 0.032829,
     "end_time": "2022-04-15T06:34:18.310966",
     "exception": false,
     "start_time": "2022-04-15T06:34:18.278137",
     "status": "completed"
    },
    "tags": []
   },
   "outputs": [],
   "source": [
    "with open(os.path.join(path_model, 'ALL_FEATURE.pkl'), 'rb') as file:\n",
    "    ALL_FEATURE = pickle.load(file)\n",
    "\n",
    "ALL_FEATURE = ALL_FEATURE\n",
    "SHAPE=len(ALL_FEATURE)\n",
    "\n",
    "with open(os.path.join(path_model, 'PARAMS_AE.pkl'), 'rb') as file:\n",
    "    PARAMS_AE = pickle.load(file)\n",
    "\n",
    "with open(os.path.join(path_model, 'PARAMS_MLP.pkl'), 'rb') as file:\n",
    "    PARAMS_MLP = pickle.load(file)\n",
    "\n",
    "N_FOLD = 5"
   ]
  },
  {
   "cell_type": "code",
   "execution_count": 3,
   "id": "707fa123",
   "metadata": {
    "execution": {
     "iopub.execute_input": "2022-04-15T06:34:18.337919Z",
     "iopub.status.busy": "2022-04-15T06:34:18.336823Z",
     "iopub.status.idle": "2022-04-15T06:34:18.339527Z",
     "shell.execute_reply": "2022-04-15T06:34:18.340031Z",
     "shell.execute_reply.started": "2022-04-15T06:25:23.833159Z"
    },
    "papermill": {
     "duration": 0.018909,
     "end_time": "2022-04-15T06:34:18.340186",
     "exception": false,
     "start_time": "2022-04-15T06:34:18.321277",
     "status": "completed"
    },
    "tags": []
   },
   "outputs": [],
   "source": [
    "TIME_COL_LIST = [re.search('time_id_(.*)_mean', x).group(1) for x in ALL_FEATURE if 'time' in x]"
   ]
  },
  {
   "cell_type": "code",
   "execution_count": 4,
   "id": "51a995d5",
   "metadata": {
    "execution": {
     "iopub.execute_input": "2022-04-15T06:34:18.372002Z",
     "iopub.status.busy": "2022-04-15T06:34:18.371113Z",
     "iopub.status.idle": "2022-04-15T06:34:18.375293Z",
     "shell.execute_reply": "2022-04-15T06:34:18.374651Z",
     "shell.execute_reply.started": "2022-04-15T06:26:16.676044Z"
    },
    "papermill": {
     "duration": 0.025274,
     "end_time": "2022-04-15T06:34:18.375435",
     "exception": false,
     "start_time": "2022-04-15T06:34:18.350161",
     "status": "completed"
    },
    "tags": []
   },
   "outputs": [],
   "source": [
    "def preprocess(data, time_col_list=TIME_COL_LIST):\n",
    "    data['time_id'] = data['row_id'].str[0:4].astype(np.int64)\n",
    "    for col in time_col_list:\n",
    "        mapper_mean = data.groupby(['time_id'])[col].mean().to_dict()\n",
    "        data[f'time_id_{col}_mean'] = data['time_id'].map(mapper_mean)\n",
    "        data[f'time_id_{col}_mean'] = data[f'time_id_{col}_mean'].astype(np.float16)\n",
    "    \n",
    "    data['all_mean'] = data[STARTING_NUMERIC_FEAT_NAME].mean(axis=1)\n",
    "    data['all_std'] = data[STARTING_NUMERIC_FEAT_NAME].std(axis=1)\n",
    "    data['all_quantile_10'] = data[STARTING_NUMERIC_FEAT_NAME].quantile(q=0.1, axis=1)\n",
    "    data['all_quantile_50'] = data[STARTING_NUMERIC_FEAT_NAME].quantile(q=0.5, axis=1)\n",
    "    data['all_quantile_90'] = data[STARTING_NUMERIC_FEAT_NAME].quantile(q=0.9, axis=1)\n",
    "\n",
    "    return data\n",
    "\n",
    "# def get_ae_model_weights(fold, path_model=path_model):\n",
    "    \n",
    "#     model = create_ae_mlp(\n",
    "#         **PARAMS_AE, steps=100,\n",
    "#         metrics={'output': tfp_correlation},\n",
    "#     )\n",
    "\n",
    "\n",
    "#     model.load_weights(\n",
    "#         os.path.join(path_model, f\"model_ae_fold_{fold}.hdf5\")\n",
    "#     )\n",
    "    \n",
    "#     return model\n",
    "\n",
    "def get_mlp_model_weights(fold, path_model=path_model):\n",
    "\n",
    "    model = create_mlp(\n",
    "        PARAMS_MLP['num_total_feature'], steps=100,\n",
    "        metrics={'output': tfp_correlation},\n",
    "    )\n",
    "\n",
    "\n",
    "    model.load_weights(\n",
    "        os.path.join(path_model, f\"model_mlp_fold_{fold}.hdf5\")\n",
    "    )\n",
    "    \n",
    "    return model\n",
    "\n",
    "def get_lgb_model(fold, prefix='', path_model=path_model):\n",
    "    model = lgb.Booster(model_file=os.path.join(path_model, f'lgb{prefix}_fold_{fold}.txt'))\n",
    "    return model\n"
   ]
  },
  {
   "cell_type": "code",
   "execution_count": 5,
   "id": "eda79680",
   "metadata": {
    "execution": {
     "iopub.execute_input": "2022-04-15T06:34:18.412042Z",
     "iopub.status.busy": "2022-04-15T06:34:18.409590Z",
     "iopub.status.idle": "2022-04-15T06:34:23.627000Z",
     "shell.execute_reply": "2022-04-15T06:34:23.626431Z",
     "shell.execute_reply.started": "2022-04-15T06:26:17.888914Z"
    },
    "papermill": {
     "duration": 5.241504,
     "end_time": "2022-04-15T06:34:23.627169",
     "exception": false,
     "start_time": "2022-04-15T06:34:18.385665",
     "status": "completed"
    },
    "tags": []
   },
   "outputs": [],
   "source": [
    "# model_ae_list = [\n",
    "#     get_ae_model_weights(fold) for fold in range(N_FOLD)\n",
    "# ]\n",
    "\n",
    "model_mlp_list = [\n",
    "    get_mlp_model_weights(fold) for fold in range(N_FOLD)\n",
    "]\n",
    "\n",
    "model_lgb_list = [\n",
    "    get_lgb_model(fold, prefix='dart') for fold in range(N_FOLD)\n",
    "]"
   ]
  },
  {
   "cell_type": "code",
   "execution_count": 6,
   "id": "cd9e0cc6",
   "metadata": {
    "execution": {
     "iopub.execute_input": "2022-04-15T06:34:23.660022Z",
     "iopub.status.busy": "2022-04-15T06:34:23.658919Z",
     "iopub.status.idle": "2022-04-15T06:34:28.193159Z",
     "shell.execute_reply": "2022-04-15T06:34:28.192408Z",
     "shell.execute_reply.started": "2022-04-15T06:26:29.934675Z"
    },
    "papermill": {
     "duration": 4.55496,
     "end_time": "2022-04-15T06:34:28.193367",
     "exception": false,
     "start_time": "2022-04-15T06:34:23.638407",
     "status": "completed"
    },
    "tags": []
   },
   "outputs": [
    {
     "name": "stdout",
     "output_type": "stream",
     "text": [
      "This version of the API is not optimized and should not be used to estimate the runtime of your code on the hidden test set.\n"
     ]
    },
    {
     "name": "stderr",
     "output_type": "stream",
     "text": [
      "/opt/conda/lib/python3.7/site-packages/ipykernel_launcher.py:5: PerformanceWarning: DataFrame is highly fragmented.  This is usually the result of calling `frame.insert` many times, which has poor performance.  Consider joining all columns at once using pd.concat(axis=1) instead.  To get a de-fragmented frame, use `newframe = frame.copy()`\n",
      "  \"\"\"\n",
      "2022-04-15 06:34:24.043693: I tensorflow/compiler/mlir/mlir_graph_optimization_pass.cc:185] None of the MLIR Optimization Passes are enabled (registered 2)\n"
     ]
    }
   ],
   "source": [
    "iter_test = env.iter_test()    # an iterator which loops over the test set and sample submission\n",
    "for (test_df, sample_prediction_df) in iter_test:\n",
    "    test_values = preprocess(test_df)[ALL_FEATURE].to_numpy(dtype='float16')\n",
    "    \n",
    "    pred_lgb = [\n",
    "        np.reshape(model.predict(test_values), (-1)) for model in model_lgb_list\n",
    "    ]\n",
    "    pred_mlp = [\n",
    "        np.reshape(model.predict(test_values), (-1)) for model in model_mlp_list\n",
    "    ]\n",
    "#     pred_ae = [\n",
    "#         np.reshape(model.predict(test_values)[-1], (-1)) for model in model_ae_list\n",
    "#     ]\n",
    "    pred = pred_lgb + pred_mlp# + pred_ae\n",
    "    pred_blend = np.stack(pred).mean(axis=0)\n",
    "\n",
    "\n",
    "    sample_prediction_df['target'] = pred_blend  # make your predictions here\n",
    "    env.predict(sample_prediction_df)   # register your predictions"
   ]
  }
 ],
 "metadata": {
  "kernelspec": {
   "display_name": "Python 3",
   "language": "python",
   "name": "python3"
  },
  "language_info": {
   "codemirror_mode": {
    "name": "ipython",
    "version": 3
   },
   "file_extension": ".py",
   "mimetype": "text/x-python",
   "name": "python",
   "nbconvert_exporter": "python",
   "pygments_lexer": "ipython3",
   "version": "3.7.12"
  },
  "papermill": {
   "default_parameters": {},
   "duration": 38.781386,
   "end_time": "2022-04-15T06:34:31.580917",
   "environment_variables": {},
   "exception": null,
   "input_path": "__notebook__.ipynb",
   "output_path": "__notebook__.ipynb",
   "parameters": {},
   "start_time": "2022-04-15T06:33:52.799531",
   "version": "2.3.3"
  }
 },
 "nbformat": 4,
 "nbformat_minor": 5
}
