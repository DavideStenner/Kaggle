{
 "cells": [
  {
   "cell_type": "code",
   "execution_count": 1,
   "id": "bcc6946d",
   "metadata": {
    "execution": {
     "iopub.execute_input": "2022-04-12T06:27:59.296173Z",
     "iopub.status.busy": "2022-04-12T06:27:59.294939Z",
     "iopub.status.idle": "2022-04-12T06:28:08.204708Z",
     "shell.execute_reply": "2022-04-12T06:28:08.203936Z",
     "shell.execute_reply.started": "2022-04-11T12:12:01.867031Z"
    },
    "papermill": {
     "duration": 8.926093,
     "end_time": "2022-04-12T06:28:08.204908",
     "exception": false,
     "start_time": "2022-04-12T06:27:59.278815",
     "status": "completed"
    },
    "tags": []
   },
   "outputs": [
    {
     "data": {
      "text/html": [
       "<style type='text/css'>\n",
       ".datatable table.frame { margin-bottom: 0; }\n",
       ".datatable table.frame thead { border-bottom: none; }\n",
       ".datatable table.frame tr.coltypes td {  color: #FFFFFF;  line-height: 6px;  padding: 0 0.5em;}\n",
       ".datatable .bool    { background: #DDDD99; }\n",
       ".datatable .object  { background: #565656; }\n",
       ".datatable .int     { background: #5D9E5D; }\n",
       ".datatable .float   { background: #4040CC; }\n",
       ".datatable .str     { background: #CC4040; }\n",
       ".datatable .time    { background: #40CC40; }\n",
       ".datatable .row_index {  background: var(--jp-border-color3);  border-right: 1px solid var(--jp-border-color0);  color: var(--jp-ui-font-color3);  font-size: 9px;}\n",
       ".datatable .frame tbody td { text-align: left; }\n",
       ".datatable .frame tr.coltypes .row_index {  background: var(--jp-border-color0);}\n",
       ".datatable th:nth-child(2) { padding-left: 12px; }\n",
       ".datatable .hellipsis {  color: var(--jp-cell-editor-border-color);}\n",
       ".datatable .vellipsis {  background: var(--jp-layout-color0);  color: var(--jp-cell-editor-border-color);}\n",
       ".datatable .na {  color: var(--jp-cell-editor-border-color);  font-size: 80%;}\n",
       ".datatable .sp {  opacity: 0.25;}\n",
       ".datatable .footer { font-size: 9px; }\n",
       ".datatable .frame_dimensions {  background: var(--jp-border-color3);  border-top: 1px solid var(--jp-border-color0);  color: var(--jp-ui-font-color3);  display: inline-block;  opacity: 0.6;  padding: 1px 10px 1px 5px;}\n",
       "</style>\n"
      ],
      "text/plain": [
       "<IPython.core.display.HTML object>"
      ]
     },
     "metadata": {},
     "output_type": "display_data"
    }
   ],
   "source": [
    "import pandas as pd\n",
    "from scipy import stats\n",
    "import os\n",
    "import gc\n",
    "import numpy as np\n",
    "import plotly.express as px\n",
    "import time\n",
    "import lightgbm as lgb\n",
    "import pickle\n",
    "import time\n",
    "from scipy.stats import pearsonr\n",
    "from typing import Tuple\n",
    "\n",
    "from ubq_utilities import (\n",
    "    get_time_series_cross_val_splits,\n",
    "    calculate_corr, corr_sharpe_lgb,\n",
    "    TIME_COL, FOLD_NAME, TARGET_COL,\n",
    "    STARTING_FEATURE_NAME, N_FOLD, \n",
    "    STARTING_CAT_FEAT_NAME, STARTING_NUMERIC_FEAT_NAME,\n",
    "    RANDOM_STATE, SUBSAMPLE_FOLD\n",
    ")\n",
    "\n",
    "N_ROUND = 749\n",
    "N_FOLD = 5\n",
    "\n",
    "FOLD_USED = [0]\n",
    "path_data = '../input/ubq-preprocess-mean-other'"
   ]
  },
  {
   "cell_type": "code",
   "execution_count": 2,
   "id": "3dce6128",
   "metadata": {
    "execution": {
     "iopub.execute_input": "2022-04-12T06:28:08.233937Z",
     "iopub.status.busy": "2022-04-12T06:28:08.233191Z",
     "iopub.status.idle": "2022-04-12T06:28:08.246651Z",
     "shell.execute_reply": "2022-04-12T06:28:08.246060Z",
     "shell.execute_reply.started": "2022-04-11T12:12:10.555886Z"
    },
    "papermill": {
     "duration": 0.029819,
     "end_time": "2022-04-12T06:28:08.246814",
     "exception": false,
     "start_time": "2022-04-12T06:28:08.216995",
     "status": "completed"
    },
    "tags": []
   },
   "outputs": [],
   "source": [
    "with open(os.path.join(path_data, 'ALL_FEATURE.pkl'), 'rb') as file:\n",
    "    ALL_FEATURE = pickle.load(file)"
   ]
  },
  {
   "cell_type": "code",
   "execution_count": 3,
   "id": "6875796b",
   "metadata": {
    "execution": {
     "iopub.execute_input": "2022-04-12T06:28:08.275981Z",
     "iopub.status.busy": "2022-04-12T06:28:08.275312Z",
     "iopub.status.idle": "2022-04-12T06:28:42.722981Z",
     "shell.execute_reply": "2022-04-12T06:28:42.723534Z",
     "shell.execute_reply.started": "2022-04-11T12:12:10.570344Z"
    },
    "papermill": {
     "duration": 34.465441,
     "end_time": "2022-04-12T06:28:42.723723",
     "exception": false,
     "start_time": "2022-04-12T06:28:08.258282",
     "status": "completed"
    },
    "tags": []
   },
   "outputs": [
    {
     "name": "stdout",
     "output_type": "stream",
     "text": [
      "Importing pd df\n"
     ]
    },
    {
     "data": {
      "text/plain": [
       "64"
      ]
     },
     "execution_count": 3,
     "metadata": {},
     "output_type": "execute_result"
    }
   ],
   "source": [
    "print('Importing pd df')\n",
    "data = pd.read_pickle(\n",
    "    os.path.join(path_data, f'train_16_fe.pkl')\n",
    ")\n",
    "\n",
    "gc.collect()"
   ]
  },
  {
   "cell_type": "code",
   "execution_count": 4,
   "id": "34bae5b5",
   "metadata": {
    "execution": {
     "iopub.execute_input": "2022-04-12T06:28:42.763011Z",
     "iopub.status.busy": "2022-04-12T06:28:42.761630Z",
     "iopub.status.idle": "2022-04-12T06:28:42.765480Z",
     "shell.execute_reply": "2022-04-12T06:28:42.762216Z",
     "shell.execute_reply.started": "2022-04-11T12:12:49.975588Z"
    },
    "papermill": {
     "duration": 0.029774,
     "end_time": "2022-04-12T06:28:42.765685",
     "exception": false,
     "start_time": "2022-04-12T06:28:42.735911",
     "status": "completed"
    },
    "tags": []
   },
   "outputs": [
    {
     "name": "stdout",
     "output_type": "stream",
     "text": [
      "Using: 3141410 rows\n"
     ]
    }
   ],
   "source": [
    "print(f'Using: {data.shape[0]} rows')"
   ]
  },
  {
   "cell_type": "code",
   "execution_count": 5,
   "id": "b8c96fee",
   "metadata": {
    "execution": {
     "iopub.execute_input": "2022-04-12T06:28:42.813541Z",
     "iopub.status.busy": "2022-04-12T06:28:42.812477Z",
     "iopub.status.idle": "2022-04-12T06:28:43.517062Z",
     "shell.execute_reply": "2022-04-12T06:28:43.516471Z",
     "shell.execute_reply.started": "2022-04-11T12:12:49.983232Z"
    },
    "papermill": {
     "duration": 0.73649,
     "end_time": "2022-04-12T06:28:43.517199",
     "exception": false,
     "start_time": "2022-04-12T06:28:42.780709",
     "status": "completed"
    },
    "tags": []
   },
   "outputs": [],
   "source": [
    "fold_embargo_zip = get_time_series_cross_val_splits(data, cv=N_FOLD, embargo=50, min_time_to_use=0)\n",
    "\n",
    "fold_split = [\n",
    "    [\n",
    "        np.where(data[TIME_COL].isin(train_index))[0], \n",
    "        np.where(data[TIME_COL].isin(test_index))[0]\n",
    "    ]\n",
    "    for train_index, test_index in fold_embargo_zip\n",
    "]\n",
    "\n",
    "time_id_split = [\n",
    "    data[TIME_COL].loc[test_index].values\n",
    "    for _, test_index in fold_split\n",
    "]\n",
    "\n",
    "first_element_test_split = np.array([\n",
    "    data[TARGET_COL].loc[test_index].iloc[0]\n",
    "    for _, test_index in fold_split\n",
    "])"
   ]
  },
  {
   "cell_type": "code",
   "execution_count": 6,
   "id": "ad307f61",
   "metadata": {
    "execution": {
     "iopub.execute_input": "2022-04-12T06:28:43.546657Z",
     "iopub.status.busy": "2022-04-12T06:28:43.545676Z",
     "iopub.status.idle": "2022-04-12T06:28:43.738056Z",
     "shell.execute_reply": "2022-04-12T06:28:43.738609Z",
     "shell.execute_reply.started": "2022-04-11T12:12:50.644143Z"
    },
    "papermill": {
     "duration": 0.208942,
     "end_time": "2022-04-12T06:28:43.738779",
     "exception": false,
     "start_time": "2022-04-12T06:28:43.529837",
     "status": "completed"
    },
    "tags": []
   },
   "outputs": [
    {
     "data": {
      "text/plain": [
       "21"
      ]
     },
     "execution_count": 6,
     "metadata": {},
     "output_type": "execute_result"
    }
   ],
   "source": [
    "gc.collect()"
   ]
  },
  {
   "cell_type": "code",
   "execution_count": 7,
   "id": "7aa3eb6a",
   "metadata": {
    "execution": {
     "iopub.execute_input": "2022-04-12T06:28:43.770833Z",
     "iopub.status.busy": "2022-04-12T06:28:43.770152Z",
     "iopub.status.idle": "2022-04-12T06:28:43.773158Z",
     "shell.execute_reply": "2022-04-12T06:28:43.772677Z",
     "shell.execute_reply.started": "2022-04-11T12:12:50.840273Z"
    },
    "papermill": {
     "duration": 0.021626,
     "end_time": "2022-04-12T06:28:43.773295",
     "exception": false,
     "start_time": "2022-04-12T06:28:43.751669",
     "status": "completed"
    },
    "tags": []
   },
   "outputs": [],
   "source": [
    "PARAMS_LGB = {\n",
    "    'boosting_type': 'dart',\n",
    "    'metric': None,\n",
    "    'objective': 'regression',\n",
    "    'n_jobs': -1,\n",
    "    'num_leaves': 2**8,\n",
    "    'learning_rate': 0.05,\n",
    "    'feature_fraction': 0.75,\n",
    "    'bagging_freq': 5,\n",
    "    'bagging_fraction': 0.80,\n",
    "    'lambda_l2': 1,\n",
    "}"
   ]
  },
  {
   "cell_type": "code",
   "execution_count": 8,
   "id": "55b8e377",
   "metadata": {
    "execution": {
     "iopub.execute_input": "2022-04-12T06:28:43.806507Z",
     "iopub.status.busy": "2022-04-12T06:28:43.805029Z",
     "iopub.status.idle": "2022-04-12T06:28:43.807162Z",
     "shell.execute_reply": "2022-04-12T06:28:43.807657Z",
     "shell.execute_reply.started": "2022-04-11T12:12:50.852884Z"
    },
    "papermill": {
     "duration": 0.021718,
     "end_time": "2022-04-12T06:28:43.807827",
     "exception": false,
     "start_time": "2022-04-12T06:28:43.786109",
     "status": "completed"
    },
    "tags": []
   },
   "outputs": [],
   "source": [
    "def corr_sharpe_lgb(\n",
    "    y_pred: np.array, dtrain: lgb.Dataset, \n",
    ") -> Tuple[str, float, bool]:\n",
    "    \"\"\"\n",
    "    Pearson correlation coefficient metric\n",
    "    \"\"\"\n",
    "    y_true = dtrain.get_label()\n",
    "    \n",
    "    corr = pearsonr(y_true, y_pred)[0]\n",
    "    return 'pearson_corr', corr, True"
   ]
  },
  {
   "cell_type": "code",
   "execution_count": 9,
   "id": "6548abf2",
   "metadata": {
    "execution": {
     "iopub.execute_input": "2022-04-12T06:28:43.847134Z",
     "iopub.status.busy": "2022-04-12T06:28:43.846424Z",
     "iopub.status.idle": "2022-04-12T07:57:04.226052Z",
     "shell.execute_reply": "2022-04-12T07:57:04.226717Z"
    },
    "papermill": {
     "duration": 5300.406449,
     "end_time": "2022-04-12T07:57:04.227176",
     "exception": false,
     "start_time": "2022-04-12T06:28:43.820727",
     "status": "completed"
    },
    "tags": []
   },
   "outputs": [
    {
     "name": "stdout",
     "output_type": "stream",
     "text": [
      "\n",
      "\n",
      "Starting fold 0\n",
      "\n",
      "\n",
      "\n",
      "[LightGBM] [Warning] Auto-choosing col-wise multi-threading, the overhead of testing was 18.496816 seconds.\n",
      "You can set `force_col_wise=true` to remove the overhead.\n",
      "[LightGBM] [Info] Total Bins 103254\n",
      "[LightGBM] [Info] Number of data points in the train set: 2484830, number of used features: 405\n",
      "[LightGBM] [Info] Start training from score -0.019712\n",
      "[50]\tvalid's l2: 0.859711\tvalid's pearson_corr: 0.101143\n",
      "[100]\tvalid's l2: 0.858606\tvalid's pearson_corr: 0.107103\n",
      "[150]\tvalid's l2: 0.857856\tvalid's pearson_corr: 0.110747\n",
      "[200]\tvalid's l2: 0.857058\tvalid's pearson_corr: 0.114339\n",
      "[250]\tvalid's l2: 0.856615\tvalid's pearson_corr: 0.116461\n",
      "[300]\tvalid's l2: 0.856029\tvalid's pearson_corr: 0.119336\n",
      "[350]\tvalid's l2: 0.855594\tvalid's pearson_corr: 0.121402\n",
      "[400]\tvalid's l2: 0.85516\tvalid's pearson_corr: 0.123558\n",
      "[450]\tvalid's l2: 0.854549\tvalid's pearson_corr: 0.126498\n",
      "[500]\tvalid's l2: 0.854252\tvalid's pearson_corr: 0.127931\n",
      "[550]\tvalid's l2: 0.854018\tvalid's pearson_corr: 0.129006\n",
      "[600]\tvalid's l2: 0.853839\tvalid's pearson_corr: 0.129599\n",
      "[650]\tvalid's l2: 0.853931\tvalid's pearson_corr: 0.129347\n",
      "[700]\tvalid's l2: 0.853861\tvalid's pearson_corr: 0.129797\n"
     ]
    }
   ],
   "source": [
    "progress_list = []\n",
    "model_list = []\n",
    "\n",
    "for i, (train_index, test_index) in enumerate(fold_split):\n",
    "    if i in FOLD_USED:\n",
    "        print(f'\\n\\nStarting fold {i}\\n\\n\\n')\n",
    "\n",
    "        train_x_num, train_y = (\n",
    "            data[ALL_FEATURE].iloc[train_index].to_numpy('float16'),\n",
    "            data[TARGET_COL].iloc[train_index].to_numpy('float16')\n",
    "        )\n",
    "        test_x_num, test_y = (\n",
    "            data[ALL_FEATURE].iloc[test_index].to_numpy('float16'),\n",
    "            data[TARGET_COL].iloc[test_index].to_numpy('float16')\n",
    "        )\n",
    "\n",
    "        train_matrix = lgb.Dataset(train_x_num, train_y)\n",
    "        test_matrix = lgb.Dataset(test_x_num, test_y)\n",
    "                \n",
    "        progress = {}\n",
    "        \n",
    "        callbacks_list = [\n",
    "            lgb.record_evaluation(progress),\n",
    "            lgb.log_evaluation(period=50, show_stdv=False)\n",
    "        ]\n",
    "        \n",
    "        model = lgb.train(\n",
    "                    params=PARAMS_LGB,\n",
    "                    train_set=train_matrix, \n",
    "                    num_boost_round=N_ROUND,\n",
    "                    valid_sets=[test_matrix],\n",
    "                    valid_names=['valid'],\n",
    "                    callbacks=callbacks_list,\n",
    "                    feval=corr_sharpe_lgb,\n",
    "                )\n",
    "        \n",
    "                        \n",
    "        del (\n",
    "            train_x_num, train_y, test_x_num, test_y, train_matrix,\n",
    "            test_matrix\n",
    "        )\n",
    "        \n",
    "        model_list.append(model)\n",
    "\n",
    "        model.save_model(f'lgb_{i}.txt')\n",
    "        \n",
    "        with open(f'progress_fold_{i}', 'wb') as file:\n",
    "            pickle.dump(progress, file)"
   ]
  }
 ],
 "metadata": {
  "kernelspec": {
   "display_name": "Python 3",
   "language": "python",
   "name": "python3"
  },
  "language_info": {
   "codemirror_mode": {
    "name": "ipython",
    "version": 3
   },
   "file_extension": ".py",
   "mimetype": "text/x-python",
   "name": "python",
   "nbconvert_exporter": "python",
   "pygments_lexer": "ipython3",
   "version": "3.7.12"
  },
  "papermill": {
   "default_parameters": {},
   "duration": 5357.795247,
   "end_time": "2022-04-12T07:57:06.871881",
   "environment_variables": {},
   "exception": null,
   "input_path": "__notebook__.ipynb",
   "output_path": "__notebook__.ipynb",
   "parameters": {},
   "start_time": "2022-04-12T06:27:49.076634",
   "version": "2.3.3"
  }
 },
 "nbformat": 4,
 "nbformat_minor": 5
}
