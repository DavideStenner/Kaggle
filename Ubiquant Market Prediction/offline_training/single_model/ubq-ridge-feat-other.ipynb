{
 "cells": [
  {
   "cell_type": "code",
   "execution_count": 1,
   "id": "721cfa79",
   "metadata": {
    "execution": {
     "iopub.execute_input": "2022-04-12T07:52:57.956744Z",
     "iopub.status.busy": "2022-04-12T07:52:57.955038Z",
     "iopub.status.idle": "2022-04-12T07:53:05.081368Z",
     "shell.execute_reply": "2022-04-12T07:53:05.081979Z",
     "shell.execute_reply.started": "2022-04-12T07:39:15.591764Z"
    },
    "papermill": {
     "duration": 7.141442,
     "end_time": "2022-04-12T07:53:05.082279",
     "exception": false,
     "start_time": "2022-04-12T07:52:57.940837",
     "status": "completed"
    },
    "tags": []
   },
   "outputs": [
    {
     "data": {
      "text/html": [
       "<style type='text/css'>\n",
       ".datatable table.frame { margin-bottom: 0; }\n",
       ".datatable table.frame thead { border-bottom: none; }\n",
       ".datatable table.frame tr.coltypes td {  color: #FFFFFF;  line-height: 6px;  padding: 0 0.5em;}\n",
       ".datatable .bool    { background: #DDDD99; }\n",
       ".datatable .object  { background: #565656; }\n",
       ".datatable .int     { background: #5D9E5D; }\n",
       ".datatable .float   { background: #4040CC; }\n",
       ".datatable .str     { background: #CC4040; }\n",
       ".datatable .time    { background: #40CC40; }\n",
       ".datatable .row_index {  background: var(--jp-border-color3);  border-right: 1px solid var(--jp-border-color0);  color: var(--jp-ui-font-color3);  font-size: 9px;}\n",
       ".datatable .frame tbody td { text-align: left; }\n",
       ".datatable .frame tr.coltypes .row_index {  background: var(--jp-border-color0);}\n",
       ".datatable th:nth-child(2) { padding-left: 12px; }\n",
       ".datatable .hellipsis {  color: var(--jp-cell-editor-border-color);}\n",
       ".datatable .vellipsis {  background: var(--jp-layout-color0);  color: var(--jp-cell-editor-border-color);}\n",
       ".datatable .na {  color: var(--jp-cell-editor-border-color);  font-size: 80%;}\n",
       ".datatable .sp {  opacity: 0.25;}\n",
       ".datatable .footer { font-size: 9px; }\n",
       ".datatable .frame_dimensions {  background: var(--jp-border-color3);  border-top: 1px solid var(--jp-border-color0);  color: var(--jp-ui-font-color3);  display: inline-block;  opacity: 0.6;  padding: 1px 10px 1px 5px;}\n",
       "</style>\n"
      ],
      "text/plain": [
       "<IPython.core.display.HTML object>"
      ]
     },
     "metadata": {},
     "output_type": "display_data"
    }
   ],
   "source": [
    "import pandas as pd\n",
    "from scipy import stats\n",
    "import os\n",
    "import gc\n",
    "import numpy as np\n",
    "import plotly.express as px\n",
    "import time\n",
    "import pickle\n",
    "import time\n",
    "from scipy.stats import pearsonr\n",
    "from typing import Tuple\n",
    "from sklearn.model_selection import StratifiedKFold\n",
    "from sklearn.linear_model import Ridge\n",
    "\n",
    "from joblib import dump, load\n",
    "\n",
    "from ubq_utilities import (\n",
    "    get_time_series_cross_val_splits,\n",
    "    calculate_corr, corr_sharpe_lgb,\n",
    "    TIME_COL, FOLD_NAME, TARGET_COL,\n",
    "    STARTING_FEATURE_NAME, N_FOLD, \n",
    "    STARTING_CAT_FEAT_NAME, STARTING_NUMERIC_FEAT_NAME,\n",
    "    RANDOM_STATE, SUBSAMPLE_FOLD\n",
    ")\n",
    "\n",
    "N_FOLD = 5\n",
    "\n",
    "path_data = '../input/ubq-preprocess-mean-other'"
   ]
  },
  {
   "cell_type": "code",
   "execution_count": 2,
   "id": "de663466",
   "metadata": {
    "execution": {
     "iopub.execute_input": "2022-04-12T07:53:05.104717Z",
     "iopub.status.busy": "2022-04-12T07:53:05.104162Z",
     "iopub.status.idle": "2022-04-12T07:53:05.114391Z",
     "shell.execute_reply": "2022-04-12T07:53:05.114796Z",
     "shell.execute_reply.started": "2022-04-12T07:32:00.397718Z"
    },
    "papermill": {
     "duration": 0.022497,
     "end_time": "2022-04-12T07:53:05.114953",
     "exception": false,
     "start_time": "2022-04-12T07:53:05.092456",
     "status": "completed"
    },
    "tags": []
   },
   "outputs": [],
   "source": [
    "with open(os.path.join(path_data, 'ALL_FEATURE.pkl'), 'rb') as file:\n",
    "    ALL_FEATURE = pickle.load(file)"
   ]
  },
  {
   "cell_type": "code",
   "execution_count": 3,
   "id": "f3d172da",
   "metadata": {
    "execution": {
     "iopub.execute_input": "2022-04-12T07:53:05.138619Z",
     "iopub.status.busy": "2022-04-12T07:53:05.137986Z",
     "iopub.status.idle": "2022-04-12T07:53:29.015911Z",
     "shell.execute_reply": "2022-04-12T07:53:29.016561Z",
     "shell.execute_reply.started": "2022-04-12T07:32:00.410743Z"
    },
    "papermill": {
     "duration": 23.892298,
     "end_time": "2022-04-12T07:53:29.016741",
     "exception": false,
     "start_time": "2022-04-12T07:53:05.124443",
     "status": "completed"
    },
    "tags": []
   },
   "outputs": [
    {
     "name": "stdout",
     "output_type": "stream",
     "text": [
      "Importing pd df\n"
     ]
    },
    {
     "data": {
      "text/plain": [
       "64"
      ]
     },
     "execution_count": 3,
     "metadata": {},
     "output_type": "execute_result"
    }
   ],
   "source": [
    "print('Importing pd df')\n",
    "data = pd.read_pickle(\n",
    "    os.path.join(path_data, f'train_16_fe.pkl')\n",
    ")\n",
    "\n",
    "gc.collect()"
   ]
  },
  {
   "cell_type": "code",
   "execution_count": 4,
   "id": "7cb626fc",
   "metadata": {
    "execution": {
     "iopub.execute_input": "2022-04-12T07:53:29.219680Z",
     "iopub.status.busy": "2022-04-12T07:53:29.039898Z",
     "iopub.status.idle": "2022-04-12T07:53:29.222363Z",
     "shell.execute_reply": "2022-04-12T07:53:29.222803Z",
     "shell.execute_reply.started": "2022-04-12T07:32:28.916114Z"
    },
    "papermill": {
     "duration": 0.19577,
     "end_time": "2022-04-12T07:53:29.222961",
     "exception": false,
     "start_time": "2022-04-12T07:53:29.027191",
     "status": "completed"
    },
    "tags": []
   },
   "outputs": [
    {
     "data": {
      "text/plain": [
       "21"
      ]
     },
     "execution_count": 4,
     "metadata": {},
     "output_type": "execute_result"
    }
   ],
   "source": [
    "gc.collect()"
   ]
  },
  {
   "cell_type": "code",
   "execution_count": 5,
   "id": "37783bd2",
   "metadata": {
    "execution": {
     "iopub.execute_input": "2022-04-12T07:53:29.247592Z",
     "iopub.status.busy": "2022-04-12T07:53:29.246653Z",
     "iopub.status.idle": "2022-04-12T07:53:29.299643Z",
     "shell.execute_reply": "2022-04-12T07:53:29.299081Z",
     "shell.execute_reply.started": "2022-04-12T07:32:29.111394Z"
    },
    "papermill": {
     "duration": 0.066436,
     "end_time": "2022-04-12T07:53:29.299791",
     "exception": false,
     "start_time": "2022-04-12T07:53:29.233355",
     "status": "completed"
    },
    "tags": []
   },
   "outputs": [],
   "source": [
    "data['all_quantile_10'] = data['all_quantile_10'].astype('float16')\n",
    "data['all_quantile_50'] = data['all_quantile_10'].astype('float16')\n",
    "data['all_quantile_90'] = data['all_quantile_10'].astype('float16')"
   ]
  },
  {
   "cell_type": "code",
   "execution_count": 6,
   "id": "0394579b",
   "metadata": {
    "execution": {
     "iopub.execute_input": "2022-04-12T07:53:29.326610Z",
     "iopub.status.busy": "2022-04-12T07:53:29.325948Z",
     "iopub.status.idle": "2022-04-12T07:53:29.328252Z",
     "shell.execute_reply": "2022-04-12T07:53:29.328694Z",
     "shell.execute_reply.started": "2022-04-12T07:32:29.193361Z"
    },
    "papermill": {
     "duration": 0.018467,
     "end_time": "2022-04-12T07:53:29.328856",
     "exception": false,
     "start_time": "2022-04-12T07:53:29.310389",
     "status": "completed"
    },
    "tags": []
   },
   "outputs": [
    {
     "name": "stdout",
     "output_type": "stream",
     "text": [
      "Using: 3141410 rows\n"
     ]
    }
   ],
   "source": [
    "print(f'Using: {data.shape[0]} rows')"
   ]
  },
  {
   "cell_type": "code",
   "execution_count": 7,
   "id": "1ba21e12",
   "metadata": {
    "execution": {
     "iopub.execute_input": "2022-04-12T07:53:29.358900Z",
     "iopub.status.busy": "2022-04-12T07:53:29.358191Z",
     "iopub.status.idle": "2022-04-12T07:53:29.954844Z",
     "shell.execute_reply": "2022-04-12T07:53:29.954341Z",
     "shell.execute_reply.started": "2022-04-12T07:32:29.200519Z"
    },
    "papermill": {
     "duration": 0.615196,
     "end_time": "2022-04-12T07:53:29.954987",
     "exception": false,
     "start_time": "2022-04-12T07:53:29.339791",
     "status": "completed"
    },
    "tags": []
   },
   "outputs": [],
   "source": [
    "fold_embargo_zip = get_time_series_cross_val_splits(data, cv=N_FOLD, embargo=50, min_time_to_use=0)\n",
    "\n",
    "fold_split = [\n",
    "    [\n",
    "        np.where(data[TIME_COL].isin(train_index))[0], \n",
    "        np.where(data[TIME_COL].isin(test_index))[0]\n",
    "    ]\n",
    "    for train_index, test_index in fold_embargo_zip\n",
    "]\n",
    "\n",
    "time_id_split = [\n",
    "    data[TIME_COL].loc[test_index].values\n",
    "    for _, test_index in fold_split\n",
    "]\n",
    "\n",
    "first_element_test_split = np.array([\n",
    "    data[TARGET_COL].loc[test_index].iloc[0]\n",
    "    for _, test_index in fold_split\n",
    "])"
   ]
  },
  {
   "cell_type": "code",
   "execution_count": 8,
   "id": "92869fec",
   "metadata": {
    "execution": {
     "iopub.execute_input": "2022-04-12T07:53:30.196277Z",
     "iopub.status.busy": "2022-04-12T07:53:30.195521Z",
     "iopub.status.idle": "2022-04-12T07:53:30.198240Z",
     "shell.execute_reply": "2022-04-12T07:53:30.198691Z",
     "shell.execute_reply.started": "2022-04-12T07:32:29.977819Z"
    },
    "papermill": {
     "duration": 0.232924,
     "end_time": "2022-04-12T07:53:30.198891",
     "exception": false,
     "start_time": "2022-04-12T07:53:29.965967",
     "status": "completed"
    },
    "tags": []
   },
   "outputs": [
    {
     "data": {
      "text/plain": [
       "21"
      ]
     },
     "execution_count": 8,
     "metadata": {},
     "output_type": "execute_result"
    }
   ],
   "source": [
    "gc.collect()"
   ]
  },
  {
   "cell_type": "code",
   "execution_count": 9,
   "id": "3fd47ee1",
   "metadata": {
    "execution": {
     "iopub.execute_input": "2022-04-12T07:53:30.232170Z",
     "iopub.status.busy": "2022-04-12T07:53:30.229449Z",
     "iopub.status.idle": "2022-04-12T07:56:35.800631Z",
     "shell.execute_reply": "2022-04-12T07:56:35.802277Z",
     "shell.execute_reply.started": "2022-04-12T07:47:09.224531Z"
    },
    "papermill": {
     "duration": 185.59258,
     "end_time": "2022-04-12T07:56:35.802909",
     "exception": false,
     "start_time": "2022-04-12T07:53:30.210329",
     "status": "completed"
    },
    "tags": []
   },
   "outputs": [
    {
     "name": "stdout",
     "output_type": "stream",
     "text": [
      "\n",
      "\n",
      "Starting fold 0\n",
      "\n",
      "\n",
      "\n",
      "Fold corr: 0.1185\n",
      "\n",
      "\n",
      "\n",
      "Starting fold 1\n",
      "\n",
      "\n",
      "\n",
      "Fold corr: 0.1772\n",
      "\n",
      "\n",
      "\n",
      "Starting fold 2\n",
      "\n",
      "\n",
      "\n",
      "Fold corr: 0.1441\n",
      "\n",
      "\n",
      "\n",
      "Starting fold 3\n",
      "\n",
      "\n",
      "\n",
      "Fold corr: 0.1043\n",
      "\n",
      "\n",
      "\n",
      "Starting fold 4\n",
      "\n",
      "\n",
      "\n",
      "Fold corr: 0.1053\n",
      "\n",
      "Final corr: 0.1299\n"
     ]
    }
   ],
   "source": [
    "progress_list = []\n",
    "model_list = []\n",
    "\n",
    "\n",
    "\n",
    "total_score = 0\n",
    "for i, (train_index, test_index) in enumerate(fold_split):\n",
    "        \n",
    "        folder = StratifiedKFold(2, shuffle = True, random_state=i)\n",
    "        \n",
    "        print(f'\\n\\nStarting fold {i}\\n\\n\\n')\n",
    "        \n",
    "        train_x_num = data[ALL_FEATURE].iloc[train_index].to_numpy('float16')\n",
    "        train_y = data[TARGET_COL].iloc[train_index].to_numpy('float16')\n",
    "        \n",
    "        time_id = data[TIME_COL].iloc[train_index]\n",
    "        \n",
    "        test_x_num = data[ALL_FEATURE].iloc[test_index].to_numpy('float16')\n",
    "        test_y = data[TARGET_COL].iloc[test_index].to_numpy('float16')\n",
    "\n",
    "        for j, (train_index, test_index) in enumerate(folder.split(time_id, time_id)):\n",
    "            if j == 0:\n",
    "                train_x_num = train_x_num[test_index, :]\n",
    "                train_y = train_y[test_index]\n",
    "                    \n",
    "        model = Ridge()\n",
    "        model.fit(train_x_num, train_y)\n",
    "        \n",
    "        val_pred = model.predict(test_x_num)\n",
    "        \n",
    "        score_fold = pearsonr(test_y, val_pred)[0]\n",
    "\n",
    "        print(f\"Fold corr: {score_fold:.4f}\\n\")\n",
    "        total_score += score_fold/N_FOLD\n",
    "        \n",
    "        model_list.append(model)\n",
    "        \n",
    "        dump(model, f'ridge_fold_{i}.model')\n",
    "        \n",
    "        del (\n",
    "            train_x_num, train_y, test_x_num, test_y, model\n",
    "        )\n",
    "        \n",
    "print(f'Final corr: {total_score:.4f}')"
   ]
  },
  {
   "cell_type": "markdown",
   "id": "7041c131",
   "metadata": {
    "papermill": {
     "duration": 0.012731,
     "end_time": "2022-04-12T07:56:35.840458",
     "exception": false,
     "start_time": "2022-04-12T07:56:35.827727",
     "status": "completed"
    },
    "tags": []
   },
   "source": [
    "# OOF Prediction"
   ]
  },
  {
   "cell_type": "code",
   "execution_count": 10,
   "id": "a73e9e9d",
   "metadata": {
    "execution": {
     "iopub.execute_input": "2022-04-12T07:56:35.874296Z",
     "iopub.status.busy": "2022-04-12T07:56:35.873648Z",
     "iopub.status.idle": "2022-04-12T07:57:34.482472Z",
     "shell.execute_reply": "2022-04-12T07:57:34.482967Z",
     "shell.execute_reply.started": "2022-04-12T07:36:49.177764Z"
    },
    "papermill": {
     "duration": 58.629681,
     "end_time": "2022-04-12T07:57:34.483154",
     "exception": false,
     "start_time": "2022-04-12T07:56:35.853473",
     "status": "completed"
    },
    "tags": []
   },
   "outputs": [
    {
     "name": "stdout",
     "output_type": "stream",
     "text": [
      "Our out of folds mean pearson correlation coefficient is 0.12154593433621116\n"
     ]
    }
   ],
   "source": [
    "model_list = [\n",
    "    load(f'ridge_fold_{i}.model') for i in range(N_FOLD)\n",
    "]\n",
    "oof_predictions = np.zeros(data.shape[0])\n",
    "\n",
    "for i, (_, test_index) in enumerate(fold_split):\n",
    "        model = model_list[i]\n",
    "        \n",
    "        test_x_num = data[ALL_FEATURE].iloc[test_index].to_numpy('float16')\n",
    "        val_pred = model.predict(test_x_num)\n",
    "        oof_predictions[test_index] = val_pred\n",
    "        \n",
    "oof_df = pd.DataFrame({'time_id': data['time_id'], 'y_true': data['target'], 'y_pred': oof_predictions})\n",
    "\n",
    "# Save out of folds csv for blending\n",
    "oof_df.to_csv('lgbm.csv', index = False)\n",
    "\n",
    "score = calculate_corr(oof_df)[0]\n",
    "print(f'Our out of folds mean pearson correlation coefficient is {score}')    "
   ]
  }
 ],
 "metadata": {
  "kernelspec": {
   "display_name": "Python 3",
   "language": "python",
   "name": "python3"
  },
  "language_info": {
   "codemirror_mode": {
    "name": "ipython",
    "version": 3
   },
   "file_extension": ".py",
   "mimetype": "text/x-python",
   "name": "python",
   "nbconvert_exporter": "python",
   "pygments_lexer": "ipython3",
   "version": "3.7.12"
  },
  "papermill": {
   "default_parameters": {},
   "duration": 287.443971,
   "end_time": "2022-04-12T07:57:37.560646",
   "environment_variables": {},
   "exception": null,
   "input_path": "__notebook__.ipynb",
   "output_path": "__notebook__.ipynb",
   "parameters": {},
   "start_time": "2022-04-12T07:52:50.116675",
   "version": "2.3.3"
  }
 },
 "nbformat": 4,
 "nbformat_minor": 5
}
