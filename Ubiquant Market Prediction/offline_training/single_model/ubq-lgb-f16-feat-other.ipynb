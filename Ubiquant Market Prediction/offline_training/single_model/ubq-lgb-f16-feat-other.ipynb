{
 "cells": [
  {
   "cell_type": "code",
   "execution_count": 1,
   "id": "acf8b211",
   "metadata": {
    "execution": {
     "iopub.execute_input": "2022-03-29T08:29:27.900111Z",
     "iopub.status.busy": "2022-03-29T08:29:27.899608Z",
     "iopub.status.idle": "2022-03-29T08:29:34.956571Z",
     "shell.execute_reply": "2022-03-29T08:29:34.957183Z",
     "shell.execute_reply.started": "2022-03-29T07:54:21.621897Z"
    },
    "papermill": {
     "duration": 7.081376,
     "end_time": "2022-03-29T08:29:34.957519",
     "exception": false,
     "start_time": "2022-03-29T08:29:27.876143",
     "status": "completed"
    },
    "tags": []
   },
   "outputs": [
    {
     "data": {
      "text/html": [
       "<style type='text/css'>\n",
       ".datatable table.frame { margin-bottom: 0; }\n",
       ".datatable table.frame thead { border-bottom: none; }\n",
       ".datatable table.frame tr.coltypes td {  color: #FFFFFF;  line-height: 6px;  padding: 0 0.5em;}\n",
       ".datatable .bool    { background: #DDDD99; }\n",
       ".datatable .object  { background: #565656; }\n",
       ".datatable .int     { background: #5D9E5D; }\n",
       ".datatable .float   { background: #4040CC; }\n",
       ".datatable .str     { background: #CC4040; }\n",
       ".datatable .time    { background: #40CC40; }\n",
       ".datatable .row_index {  background: var(--jp-border-color3);  border-right: 1px solid var(--jp-border-color0);  color: var(--jp-ui-font-color3);  font-size: 9px;}\n",
       ".datatable .frame tbody td { text-align: left; }\n",
       ".datatable .frame tr.coltypes .row_index {  background: var(--jp-border-color0);}\n",
       ".datatable th:nth-child(2) { padding-left: 12px; }\n",
       ".datatable .hellipsis {  color: var(--jp-cell-editor-border-color);}\n",
       ".datatable .vellipsis {  background: var(--jp-layout-color0);  color: var(--jp-cell-editor-border-color);}\n",
       ".datatable .na {  color: var(--jp-cell-editor-border-color);  font-size: 80%;}\n",
       ".datatable .sp {  opacity: 0.25;}\n",
       ".datatable .footer { font-size: 9px; }\n",
       ".datatable .frame_dimensions {  background: var(--jp-border-color3);  border-top: 1px solid var(--jp-border-color0);  color: var(--jp-ui-font-color3);  display: inline-block;  opacity: 0.6;  padding: 1px 10px 1px 5px;}\n",
       "</style>\n"
      ],
      "text/plain": [
       "<IPython.core.display.HTML object>"
      ]
     },
     "metadata": {},
     "output_type": "display_data"
    }
   ],
   "source": [
    "import pandas as pd\n",
    "from scipy import stats\n",
    "import os\n",
    "import gc\n",
    "import numpy as np\n",
    "import plotly.express as px\n",
    "import time\n",
    "import lightgbm as lgb\n",
    "import pickle\n",
    "import time\n",
    "from scipy.stats import pearsonr\n",
    "from typing import Tuple\n",
    "\n",
    "from ubq_utilities import (\n",
    "    get_time_series_cross_val_splits,\n",
    "    calculate_corr, corr_sharpe_lgb,\n",
    "    TIME_COL, FOLD_NAME, TARGET_COL,\n",
    "    STARTING_FEATURE_NAME, N_FOLD, \n",
    "    STARTING_CAT_FEAT_NAME, STARTING_NUMERIC_FEAT_NAME,\n",
    "    RANDOM_STATE, SUBSAMPLE_FOLD\n",
    ")\n",
    "\n",
    "N_ROUND = 1500\n",
    "N_FOLD = 5\n",
    "\n",
    "path_data = '../input/ubq-preprocess-mean-other'"
   ]
  },
  {
   "cell_type": "code",
   "execution_count": 2,
   "id": "9b74e1c1",
   "metadata": {
    "execution": {
     "iopub.execute_input": "2022-03-29T08:29:34.993165Z",
     "iopub.status.busy": "2022-03-29T08:29:34.992679Z",
     "iopub.status.idle": "2022-03-29T08:29:35.003714Z",
     "shell.execute_reply": "2022-03-29T08:29:35.004137Z",
     "shell.execute_reply.started": "2022-03-29T07:54:31.514556Z"
    },
    "papermill": {
     "duration": 0.029085,
     "end_time": "2022-03-29T08:29:35.004276",
     "exception": false,
     "start_time": "2022-03-29T08:29:34.975191",
     "status": "completed"
    },
    "tags": []
   },
   "outputs": [],
   "source": [
    "with open(os.path.join(path_data, 'ALL_FEATURE.pkl'), 'rb') as file:\n",
    "    ALL_FEATURE = pickle.load(file)"
   ]
  },
  {
   "cell_type": "code",
   "execution_count": 3,
   "id": "f1df6507",
   "metadata": {
    "execution": {
     "iopub.execute_input": "2022-03-29T08:29:35.038887Z",
     "iopub.status.busy": "2022-03-29T08:29:35.038313Z",
     "iopub.status.idle": "2022-03-29T08:30:02.330364Z",
     "shell.execute_reply": "2022-03-29T08:30:02.330756Z",
     "shell.execute_reply.started": "2022-03-29T07:54:31.530785Z"
    },
    "papermill": {
     "duration": 27.31014,
     "end_time": "2022-03-29T08:30:02.330909",
     "exception": false,
     "start_time": "2022-03-29T08:29:35.020769",
     "status": "completed"
    },
    "tags": []
   },
   "outputs": [
    {
     "name": "stdout",
     "output_type": "stream",
     "text": [
      "Importing pd df\n"
     ]
    },
    {
     "data": {
      "text/plain": [
       "64"
      ]
     },
     "execution_count": 3,
     "metadata": {},
     "output_type": "execute_result"
    }
   ],
   "source": [
    "print('Importing pd df')\n",
    "data = pd.read_pickle(\n",
    "    os.path.join(path_data, f'train_16_fe.pkl')\n",
    ")\n",
    "\n",
    "gc.collect()"
   ]
  },
  {
   "cell_type": "code",
   "execution_count": 4,
   "id": "7dd37e57",
   "metadata": {
    "execution": {
     "iopub.execute_input": "2022-03-29T08:30:02.374299Z",
     "iopub.status.busy": "2022-03-29T08:30:02.372371Z",
     "iopub.status.idle": "2022-03-29T08:30:02.377979Z",
     "shell.execute_reply": "2022-03-29T08:30:02.377320Z",
     "shell.execute_reply.started": "2022-03-29T07:55:03.552170Z"
    },
    "papermill": {
     "duration": 0.02913,
     "end_time": "2022-03-29T08:30:02.378142",
     "exception": false,
     "start_time": "2022-03-29T08:30:02.349012",
     "status": "completed"
    },
    "tags": []
   },
   "outputs": [
    {
     "name": "stdout",
     "output_type": "stream",
     "text": [
      "Using: 3141410 rows\n"
     ]
    }
   ],
   "source": [
    "print(f'Using: {data.shape[0]} rows')"
   ]
  },
  {
   "cell_type": "code",
   "execution_count": 5,
   "id": "758bd7cf",
   "metadata": {
    "execution": {
     "iopub.execute_input": "2022-03-29T08:30:02.436594Z",
     "iopub.status.busy": "2022-03-29T08:30:02.435618Z",
     "iopub.status.idle": "2022-03-29T08:30:02.982140Z",
     "shell.execute_reply": "2022-03-29T08:30:02.982601Z",
     "shell.execute_reply.started": "2022-03-29T07:55:03.559672Z"
    },
    "papermill": {
     "duration": 0.584108,
     "end_time": "2022-03-29T08:30:02.982757",
     "exception": false,
     "start_time": "2022-03-29T08:30:02.398649",
     "status": "completed"
    },
    "tags": []
   },
   "outputs": [],
   "source": [
    "fold_embargo_zip = get_time_series_cross_val_splits(data, cv=N_FOLD, embargo=50, min_time_to_use=0)\n",
    "\n",
    "fold_split = [\n",
    "    [\n",
    "        np.where(data[TIME_COL].isin(train_index))[0], \n",
    "        np.where(data[TIME_COL].isin(test_index))[0]\n",
    "    ]\n",
    "    for train_index, test_index in fold_embargo_zip\n",
    "]\n",
    "\n",
    "time_id_split = [\n",
    "    data[TIME_COL].loc[test_index].values\n",
    "    for _, test_index in fold_split\n",
    "]\n",
    "\n",
    "first_element_test_split = np.array([\n",
    "    data[TARGET_COL].loc[test_index].iloc[0]\n",
    "    for _, test_index in fold_split\n",
    "])"
   ]
  },
  {
   "cell_type": "code",
   "execution_count": 6,
   "id": "ceed77a1",
   "metadata": {
    "execution": {
     "iopub.execute_input": "2022-03-29T08:30:03.182916Z",
     "iopub.status.busy": "2022-03-29T08:30:03.182185Z",
     "iopub.status.idle": "2022-03-29T08:30:03.184972Z",
     "shell.execute_reply": "2022-03-29T08:30:03.185427Z",
     "shell.execute_reply.started": "2022-03-29T07:55:04.218899Z"
    },
    "papermill": {
     "duration": 0.18648,
     "end_time": "2022-03-29T08:30:03.185586",
     "exception": false,
     "start_time": "2022-03-29T08:30:02.999106",
     "status": "completed"
    },
    "tags": []
   },
   "outputs": [
    {
     "data": {
      "text/plain": [
       "21"
      ]
     },
     "execution_count": 6,
     "metadata": {},
     "output_type": "execute_result"
    }
   ],
   "source": [
    "gc.collect()"
   ]
  },
  {
   "cell_type": "code",
   "execution_count": 7,
   "id": "28f6ae85",
   "metadata": {
    "execution": {
     "iopub.execute_input": "2022-03-29T08:30:03.224152Z",
     "iopub.status.busy": "2022-03-29T08:30:03.223445Z",
     "iopub.status.idle": "2022-03-29T08:30:03.225792Z",
     "shell.execute_reply": "2022-03-29T08:30:03.225384Z",
     "shell.execute_reply.started": "2022-03-29T07:55:04.422502Z"
    },
    "papermill": {
     "duration": 0.023883,
     "end_time": "2022-03-29T08:30:03.225901",
     "exception": false,
     "start_time": "2022-03-29T08:30:03.202018",
     "status": "completed"
    },
    "tags": []
   },
   "outputs": [],
   "source": [
    "PARAMS_LGB = {\n",
    "    'boosting_type': 'gbdt',\n",
    "#     'tree_learner':'voting',\n",
    "    'metric': None,\n",
    "    'objective': 'regression',\n",
    "    'n_jobs': -1,\n",
    "    'num_leaves': 2**8,\n",
    "    'learning_rate': 0.05,\n",
    "    'feature_fraction': 0.75,\n",
    "    'bagging_freq': 5,\n",
    "    'bagging_fraction': 0.80,\n",
    "    'lambda_l2': 1\n",
    "}\n"
   ]
  },
  {
   "cell_type": "code",
   "execution_count": 8,
   "id": "01c50df3",
   "metadata": {
    "execution": {
     "iopub.execute_input": "2022-03-29T08:30:03.264195Z",
     "iopub.status.busy": "2022-03-29T08:30:03.263522Z",
     "iopub.status.idle": "2022-03-29T08:30:03.265413Z",
     "shell.execute_reply": "2022-03-29T08:30:03.265788Z",
     "shell.execute_reply.started": "2022-03-29T07:55:20.472182Z"
    },
    "papermill": {
     "duration": 0.023069,
     "end_time": "2022-03-29T08:30:03.265908",
     "exception": false,
     "start_time": "2022-03-29T08:30:03.242839",
     "status": "completed"
    },
    "tags": []
   },
   "outputs": [],
   "source": [
    "def corr_sharpe_lgb(\n",
    "    y_pred: np.array, dtrain: lgb.Dataset, \n",
    ") -> Tuple[str, float, bool]:\n",
    "    \"\"\"\n",
    "    Pearson correlation coefficient metric\n",
    "    \"\"\"\n",
    "    y_true = dtrain.get_label()\n",
    "    \n",
    "    corr = pearsonr(y_true, y_pred)[0]\n",
    "    return 'pearson_corr', corr, True"
   ]
  },
  {
   "cell_type": "code",
   "execution_count": 9,
   "id": "f55eb6bc",
   "metadata": {
    "execution": {
     "iopub.execute_input": "2022-03-29T08:30:03.300636Z",
     "iopub.status.busy": "2022-03-29T08:30:03.300033Z",
     "iopub.status.idle": "2022-03-29T11:36:42.607999Z",
     "shell.execute_reply": "2022-03-29T11:36:42.609682Z",
     "shell.execute_reply.started": "2022-03-29T07:55:36.257360Z"
    },
    "papermill": {
     "duration": 11199.328276,
     "end_time": "2022-03-29T11:36:42.610367",
     "exception": false,
     "start_time": "2022-03-29T08:30:03.282091",
     "status": "completed"
    },
    "tags": []
   },
   "outputs": [
    {
     "name": "stdout",
     "output_type": "stream",
     "text": [
      "\n",
      "\n",
      "Starting fold 0\n",
      "\n",
      "\n",
      "\n",
      "[LightGBM] [Warning] Auto-choosing col-wise multi-threading, the overhead of testing was 14.025241 seconds.\n",
      "You can set `force_col_wise=true` to remove the overhead.\n",
      "[LightGBM] [Info] Total Bins 103254\n",
      "[LightGBM] [Info] Number of data points in the train set: 2484830, number of used features: 405\n",
      "[LightGBM] [Info] Start training from score -0.019712\n",
      "[50]\tvalid's l2: 0.859158\tvalid's pearson_corr: 0.103531\n",
      "[100]\tvalid's l2: 0.857062\tvalid's pearson_corr: 0.11575\n",
      "[150]\tvalid's l2: 0.85631\tvalid's pearson_corr: 0.120681\n",
      "[200]\tvalid's l2: 0.855812\tvalid's pearson_corr: 0.124053\n",
      "[250]\tvalid's l2: 0.855601\tvalid's pearson_corr: 0.126013\n",
      "[300]\tvalid's l2: 0.855555\tvalid's pearson_corr: 0.127458\n",
      "[350]\tvalid's l2: 0.855505\tvalid's pearson_corr: 0.128563\n",
      "[400]\tvalid's l2: 0.85549\tvalid's pearson_corr: 0.129366\n",
      "[450]\tvalid's l2: 0.855647\tvalid's pearson_corr: 0.129369\n",
      "[500]\tvalid's l2: 0.855599\tvalid's pearson_corr: 0.13006\n",
      "[550]\tvalid's l2: 0.855572\tvalid's pearson_corr: 0.130588\n",
      "[600]\tvalid's l2: 0.855614\tvalid's pearson_corr: 0.130784\n",
      "[650]\tvalid's l2: 0.855774\tvalid's pearson_corr: 0.130766\n",
      "[700]\tvalid's l2: 0.855808\tvalid's pearson_corr: 0.131138\n",
      "[750]\tvalid's l2: 0.855945\tvalid's pearson_corr: 0.13107\n",
      "[800]\tvalid's l2: 0.856137\tvalid's pearson_corr: 0.130956\n",
      "[850]\tvalid's l2: 0.8562\tvalid's pearson_corr: 0.131091\n",
      "[900]\tvalid's l2: 0.856368\tvalid's pearson_corr: 0.130904\n",
      "[950]\tvalid's l2: 0.856541\tvalid's pearson_corr: 0.130652\n",
      "[1000]\tvalid's l2: 0.856845\tvalid's pearson_corr: 0.130125\n",
      "[1050]\tvalid's l2: 0.856902\tvalid's pearson_corr: 0.130146\n",
      "[1100]\tvalid's l2: 0.85703\tvalid's pearson_corr: 0.130123\n",
      "[1150]\tvalid's l2: 0.857214\tvalid's pearson_corr: 0.129831\n",
      "[1200]\tvalid's l2: 0.857262\tvalid's pearson_corr: 0.129852\n",
      "[1250]\tvalid's l2: 0.857442\tvalid's pearson_corr: 0.129627\n",
      "[1300]\tvalid's l2: 0.857714\tvalid's pearson_corr: 0.129097\n",
      "[1350]\tvalid's l2: 0.857848\tvalid's pearson_corr: 0.128887\n",
      "[1400]\tvalid's l2: 0.858022\tvalid's pearson_corr: 0.128717\n",
      "[1450]\tvalid's l2: 0.858241\tvalid's pearson_corr: 0.12828\n",
      "[1500]\tvalid's l2: 0.858335\tvalid's pearson_corr: 0.128298\n",
      "\n",
      "\n",
      "Starting fold 1\n",
      "\n",
      "\n",
      "\n",
      "[LightGBM] [Warning] Auto-choosing col-wise multi-threading, the overhead of testing was 14.806211 seconds.\n",
      "You can set `force_col_wise=true` to remove the overhead.\n",
      "[LightGBM] [Info] Total Bins 103243\n",
      "[LightGBM] [Info] Number of data points in the train set: 2413818, number of used features: 405\n",
      "[LightGBM] [Info] Start training from score -0.015387\n",
      "[50]\tvalid's l2: 0.797615\tvalid's pearson_corr: 0.145822\n",
      "[100]\tvalid's l2: 0.796114\tvalid's pearson_corr: 0.148556\n",
      "[150]\tvalid's l2: 0.796393\tvalid's pearson_corr: 0.146798\n",
      "[200]\tvalid's l2: 0.797464\tvalid's pearson_corr: 0.14404\n",
      "[250]\tvalid's l2: 0.798611\tvalid's pearson_corr: 0.141305\n",
      "[300]\tvalid's l2: 0.799744\tvalid's pearson_corr: 0.139003\n",
      "[350]\tvalid's l2: 0.800429\tvalid's pearson_corr: 0.138191\n",
      "[400]\tvalid's l2: 0.801414\tvalid's pearson_corr: 0.135877\n",
      "[450]\tvalid's l2: 0.803026\tvalid's pearson_corr: 0.13197\n",
      "[500]\tvalid's l2: 0.803813\tvalid's pearson_corr: 0.130507\n",
      "[550]\tvalid's l2: 0.804721\tvalid's pearson_corr: 0.128619\n",
      "[600]\tvalid's l2: 0.805361\tvalid's pearson_corr: 0.127664\n",
      "[650]\tvalid's l2: 0.806388\tvalid's pearson_corr: 0.126043\n",
      "[700]\tvalid's l2: 0.806976\tvalid's pearson_corr: 0.125347\n",
      "[750]\tvalid's l2: 0.807613\tvalid's pearson_corr: 0.124613\n",
      "[800]\tvalid's l2: 0.808111\tvalid's pearson_corr: 0.123974\n",
      "[850]\tvalid's l2: 0.809011\tvalid's pearson_corr: 0.122521\n",
      "[900]\tvalid's l2: 0.809661\tvalid's pearson_corr: 0.121377\n",
      "[950]\tvalid's l2: 0.810069\tvalid's pearson_corr: 0.121186\n",
      "[1000]\tvalid's l2: 0.810761\tvalid's pearson_corr: 0.120574\n",
      "[1050]\tvalid's l2: 0.811308\tvalid's pearson_corr: 0.119818\n",
      "[1100]\tvalid's l2: 0.811894\tvalid's pearson_corr: 0.119103\n",
      "[1150]\tvalid's l2: 0.811974\tvalid's pearson_corr: 0.119358\n",
      "[1200]\tvalid's l2: 0.812597\tvalid's pearson_corr: 0.118475\n",
      "[1250]\tvalid's l2: 0.813209\tvalid's pearson_corr: 0.117975\n",
      "[1300]\tvalid's l2: 0.814104\tvalid's pearson_corr: 0.116894\n",
      "[1350]\tvalid's l2: 0.815025\tvalid's pearson_corr: 0.11584\n",
      "[1400]\tvalid's l2: 0.815682\tvalid's pearson_corr: 0.115682\n",
      "[1450]\tvalid's l2: 0.816051\tvalid's pearson_corr: 0.115534\n",
      "[1500]\tvalid's l2: 0.81626\tvalid's pearson_corr: 0.115612\n",
      "\n",
      "\n",
      "Starting fold 2\n",
      "\n",
      "\n",
      "\n",
      "[LightGBM] [Warning] Auto-choosing col-wise multi-threading, the overhead of testing was 12.595363 seconds.\n",
      "You can set `force_col_wise=true` to remove the overhead.\n",
      "[LightGBM] [Info] Total Bins 103266\n",
      "[LightGBM] [Info] Number of data points in the train set: 2284471, number of used features: 405\n",
      "[LightGBM] [Info] Start training from score -0.020888\n",
      "[50]\tvalid's l2: 0.839617\tvalid's pearson_corr: 0.136285\n",
      "[100]\tvalid's l2: 0.836781\tvalid's pearson_corr: 0.145676\n",
      "[150]\tvalid's l2: 0.834925\tvalid's pearson_corr: 0.152341\n",
      "[200]\tvalid's l2: 0.834222\tvalid's pearson_corr: 0.154671\n",
      "[250]\tvalid's l2: 0.833745\tvalid's pearson_corr: 0.156341\n",
      "[300]\tvalid's l2: 0.833445\tvalid's pearson_corr: 0.157455\n",
      "[350]\tvalid's l2: 0.833308\tvalid's pearson_corr: 0.158028\n",
      "[400]\tvalid's l2: 0.83332\tvalid's pearson_corr: 0.158103\n",
      "[450]\tvalid's l2: 0.833416\tvalid's pearson_corr: 0.157933\n",
      "[500]\tvalid's l2: 0.833262\tvalid's pearson_corr: 0.158607\n",
      "[550]\tvalid's l2: 0.833525\tvalid's pearson_corr: 0.157886\n",
      "[600]\tvalid's l2: 0.833658\tvalid's pearson_corr: 0.157603\n",
      "[650]\tvalid's l2: 0.833754\tvalid's pearson_corr: 0.157455\n",
      "[700]\tvalid's l2: 0.833842\tvalid's pearson_corr: 0.157326\n",
      "[750]\tvalid's l2: 0.833945\tvalid's pearson_corr: 0.157165\n",
      "[800]\tvalid's l2: 0.834172\tvalid's pearson_corr: 0.156666\n",
      "[850]\tvalid's l2: 0.834263\tvalid's pearson_corr: 0.156492\n",
      "[900]\tvalid's l2: 0.834318\tvalid's pearson_corr: 0.156547\n",
      "[950]\tvalid's l2: 0.834495\tvalid's pearson_corr: 0.156117\n",
      "[1000]\tvalid's l2: 0.834558\tvalid's pearson_corr: 0.156099\n",
      "[1050]\tvalid's l2: 0.834646\tvalid's pearson_corr: 0.155976\n",
      "[1100]\tvalid's l2: 0.834971\tvalid's pearson_corr: 0.155185\n",
      "[1150]\tvalid's l2: 0.835019\tvalid's pearson_corr: 0.155191\n",
      "[1200]\tvalid's l2: 0.835091\tvalid's pearson_corr: 0.155172\n",
      "[1250]\tvalid's l2: 0.83513\tvalid's pearson_corr: 0.15523\n",
      "[1300]\tvalid's l2: 0.835316\tvalid's pearson_corr: 0.154833\n",
      "[1350]\tvalid's l2: 0.835481\tvalid's pearson_corr: 0.154492\n",
      "[1400]\tvalid's l2: 0.83553\tvalid's pearson_corr: 0.154533\n",
      "[1450]\tvalid's l2: 0.835776\tvalid's pearson_corr: 0.153948\n",
      "[1500]\tvalid's l2: 0.83594\tvalid's pearson_corr: 0.153655\n",
      "\n",
      "\n",
      "Starting fold 3\n",
      "\n",
      "\n",
      "\n",
      "[LightGBM] [Warning] Auto-choosing col-wise multi-threading, the overhead of testing was 10.374049 seconds.\n",
      "You can set `force_col_wise=true` to remove the overhead.\n",
      "[LightGBM] [Info] Total Bins 103270\n",
      "[LightGBM] [Info] Number of data points in the train set: 2143283, number of used features: 405\n",
      "[LightGBM] [Info] Start training from score -0.024968\n",
      "[50]\tvalid's l2: 0.862307\tvalid's pearson_corr: 0.097537\n",
      "[100]\tvalid's l2: 0.860823\tvalid's pearson_corr: 0.106752\n",
      "[150]\tvalid's l2: 0.860039\tvalid's pearson_corr: 0.112033\n",
      "[200]\tvalid's l2: 0.859253\tvalid's pearson_corr: 0.116773\n",
      "[250]\tvalid's l2: 0.85871\tvalid's pearson_corr: 0.120185\n",
      "[300]\tvalid's l2: 0.858681\tvalid's pearson_corr: 0.121413\n",
      "[350]\tvalid's l2: 0.858579\tvalid's pearson_corr: 0.122571\n",
      "[400]\tvalid's l2: 0.858604\tvalid's pearson_corr: 0.123345\n",
      "[450]\tvalid's l2: 0.858599\tvalid's pearson_corr: 0.124073\n",
      "[500]\tvalid's l2: 0.858532\tvalid's pearson_corr: 0.12492\n",
      "[550]\tvalid's l2: 0.858704\tvalid's pearson_corr: 0.124855\n",
      "[600]\tvalid's l2: 0.85885\tvalid's pearson_corr: 0.124913\n",
      "[650]\tvalid's l2: 0.859204\tvalid's pearson_corr: 0.124161\n",
      "[700]\tvalid's l2: 0.859232\tvalid's pearson_corr: 0.124559\n",
      "[750]\tvalid's l2: 0.85935\tvalid's pearson_corr: 0.124726\n",
      "[800]\tvalid's l2: 0.859517\tvalid's pearson_corr: 0.124648\n",
      "[850]\tvalid's l2: 0.85954\tvalid's pearson_corr: 0.124941\n",
      "[900]\tvalid's l2: 0.859766\tvalid's pearson_corr: 0.124695\n",
      "[950]\tvalid's l2: 0.859904\tvalid's pearson_corr: 0.124652\n",
      "[1000]\tvalid's l2: 0.860191\tvalid's pearson_corr: 0.124186\n",
      "[1050]\tvalid's l2: 0.860374\tvalid's pearson_corr: 0.123908\n",
      "[1100]\tvalid's l2: 0.860608\tvalid's pearson_corr: 0.123648\n",
      "[1150]\tvalid's l2: 0.860766\tvalid's pearson_corr: 0.123499\n",
      "[1200]\tvalid's l2: 0.860962\tvalid's pearson_corr: 0.123248\n",
      "[1250]\tvalid's l2: 0.861158\tvalid's pearson_corr: 0.122959\n",
      "[1300]\tvalid's l2: 0.861264\tvalid's pearson_corr: 0.123003\n",
      "[1350]\tvalid's l2: 0.861518\tvalid's pearson_corr: 0.122532\n",
      "[1400]\tvalid's l2: 0.861566\tvalid's pearson_corr: 0.122719\n",
      "[1450]\tvalid's l2: 0.861717\tvalid's pearson_corr: 0.122626\n",
      "[1500]\tvalid's l2: 0.861854\tvalid's pearson_corr: 0.122552\n",
      "\n",
      "\n",
      "Starting fold 4\n",
      "\n",
      "\n",
      "\n",
      "[LightGBM] [Warning] Auto-choosing col-wise multi-threading, the overhead of testing was 12.487201 seconds.\n",
      "You can set `force_col_wise=true` to remove the overhead.\n",
      "[LightGBM] [Info] Total Bins 103264\n",
      "[LightGBM] [Info] Number of data points in the train set: 2204954, number of used features: 405\n",
      "[LightGBM] [Info] Start training from score -0.025758\n",
      "[50]\tvalid's l2: 0.81084\tvalid's pearson_corr: 0.120122\n",
      "[100]\tvalid's l2: 0.809758\tvalid's pearson_corr: 0.123143\n",
      "[150]\tvalid's l2: 0.809206\tvalid's pearson_corr: 0.126003\n",
      "[200]\tvalid's l2: 0.809235\tvalid's pearson_corr: 0.12701\n",
      "[250]\tvalid's l2: 0.809569\tvalid's pearson_corr: 0.127091\n",
      "[300]\tvalid's l2: 0.809791\tvalid's pearson_corr: 0.127684\n",
      "[350]\tvalid's l2: 0.810444\tvalid's pearson_corr: 0.126722\n",
      "[400]\tvalid's l2: 0.810869\tvalid's pearson_corr: 0.12657\n",
      "[450]\tvalid's l2: 0.811237\tvalid's pearson_corr: 0.126657\n",
      "[500]\tvalid's l2: 0.811953\tvalid's pearson_corr: 0.125425\n",
      "[550]\tvalid's l2: 0.812342\tvalid's pearson_corr: 0.125109\n",
      "[600]\tvalid's l2: 0.812759\tvalid's pearson_corr: 0.124781\n",
      "[650]\tvalid's l2: 0.813255\tvalid's pearson_corr: 0.124131\n",
      "[700]\tvalid's l2: 0.813748\tvalid's pearson_corr: 0.123595\n",
      "[750]\tvalid's l2: 0.814192\tvalid's pearson_corr: 0.123171\n",
      "[800]\tvalid's l2: 0.814626\tvalid's pearson_corr: 0.122694\n",
      "[850]\tvalid's l2: 0.81508\tvalid's pearson_corr: 0.122208\n",
      "[900]\tvalid's l2: 0.81551\tvalid's pearson_corr: 0.121909\n",
      "[950]\tvalid's l2: 0.815972\tvalid's pearson_corr: 0.121413\n",
      "[1000]\tvalid's l2: 0.816223\tvalid's pearson_corr: 0.121365\n",
      "[1050]\tvalid's l2: 0.816593\tvalid's pearson_corr: 0.120874\n",
      "[1100]\tvalid's l2: 0.816982\tvalid's pearson_corr: 0.120524\n",
      "[1150]\tvalid's l2: 0.81735\tvalid's pearson_corr: 0.120221\n",
      "[1200]\tvalid's l2: 0.817565\tvalid's pearson_corr: 0.120207\n",
      "[1250]\tvalid's l2: 0.817873\tvalid's pearson_corr: 0.119952\n",
      "[1300]\tvalid's l2: 0.818232\tvalid's pearson_corr: 0.119542\n",
      "[1350]\tvalid's l2: 0.818655\tvalid's pearson_corr: 0.119101\n",
      "[1400]\tvalid's l2: 0.818921\tvalid's pearson_corr: 0.118896\n",
      "[1450]\tvalid's l2: 0.819204\tvalid's pearson_corr: 0.11872\n",
      "[1500]\tvalid's l2: 0.819537\tvalid's pearson_corr: 0.118305\n"
     ]
    }
   ],
   "source": [
    "progress_list = []\n",
    "model_list = []\n",
    "\n",
    "for i, (train_index, test_index) in enumerate(fold_split):\n",
    "\n",
    "        print(f'\\n\\nStarting fold {i}\\n\\n\\n')\n",
    "\n",
    "        train_x_num, train_y = (\n",
    "            data[ALL_FEATURE].iloc[train_index].to_numpy('float16'),\n",
    "            data[TARGET_COL].iloc[train_index].to_numpy('float16')\n",
    "        )\n",
    "        test_x_num, test_y = (\n",
    "            data[ALL_FEATURE].iloc[test_index].to_numpy('float16'),\n",
    "            data[TARGET_COL].iloc[test_index].to_numpy('float16')\n",
    "        )\n",
    "\n",
    "        train_matrix = lgb.Dataset(train_x_num, train_y)\n",
    "        test_matrix = lgb.Dataset(test_x_num, test_y)\n",
    "                \n",
    "        progress = {}\n",
    "        \n",
    "        callbacks_list = [\n",
    "            lgb.record_evaluation(progress),\n",
    "            lgb.log_evaluation(period=50, show_stdv=False)\n",
    "        ]\n",
    "        \n",
    "        model = lgb.train(\n",
    "                    params=PARAMS_LGB,\n",
    "                    train_set=train_matrix, \n",
    "                    num_boost_round=N_ROUND,\n",
    "                    valid_sets=[test_matrix],\n",
    "                    valid_names=['valid'],\n",
    "                    callbacks=callbacks_list,\n",
    "                    feval=corr_sharpe_lgb,\n",
    "                )\n",
    "        \n",
    "                        \n",
    "        del (\n",
    "            train_x_num, train_y, test_x_num, test_y, train_matrix,\n",
    "            test_matrix\n",
    "        )\n",
    "        \n",
    "        model_list.append(model)\n",
    "\n",
    "        model.save_model(f'lgb_{i}.txt')\n",
    "        progress_list.append(progress)"
   ]
  },
  {
   "cell_type": "markdown",
   "id": "65239179",
   "metadata": {
    "papermill": {
     "duration": 0.065287,
     "end_time": "2022-03-29T11:36:42.744186",
     "exception": false,
     "start_time": "2022-03-29T11:36:42.678899",
     "status": "completed"
    },
    "tags": []
   },
   "source": [
    "# save dataset and make prediction with best epoch"
   ]
  },
  {
   "cell_type": "code",
   "execution_count": 10,
   "id": "955de57d",
   "metadata": {
    "execution": {
     "iopub.execute_input": "2022-03-29T11:36:43.426704Z",
     "iopub.status.busy": "2022-03-29T11:36:43.425840Z",
     "iopub.status.idle": "2022-03-29T11:36:43.429527Z",
     "shell.execute_reply": "2022-03-29T11:36:43.429045Z",
     "shell.execute_reply.started": "2022-03-29T08:03:54.227055Z"
    },
    "papermill": {
     "duration": 0.618312,
     "end_time": "2022-03-29T11:36:43.429654",
     "exception": false,
     "start_time": "2022-03-29T11:36:42.811342",
     "status": "completed"
    },
    "tags": []
   },
   "outputs": [
    {
     "data": {
      "text/plain": [
       "393"
      ]
     },
     "execution_count": 10,
     "metadata": {},
     "output_type": "execute_result"
    }
   ],
   "source": [
    "gc.collect()"
   ]
  },
  {
   "cell_type": "code",
   "execution_count": 11,
   "id": "68575743",
   "metadata": {
    "execution": {
     "iopub.execute_input": "2022-03-29T11:36:43.581369Z",
     "iopub.status.busy": "2022-03-29T11:36:43.580751Z",
     "iopub.status.idle": "2022-03-29T11:36:43.768441Z",
     "shell.execute_reply": "2022-03-29T11:36:43.767969Z",
     "shell.execute_reply.started": "2022-03-29T08:03:54.582452Z"
    },
    "papermill": {
     "duration": 0.272763,
     "end_time": "2022-03-29T11:36:43.768574",
     "exception": false,
     "start_time": "2022-03-29T11:36:43.495811",
     "status": "completed"
    },
    "tags": []
   },
   "outputs": [
    {
     "name": "stdout",
     "output_type": "stream",
     "text": [
      "Best epoch: 336, CV-Corr: 0.135, CV-Loss: 0.832\n"
     ]
    },
    {
     "data": {
      "text/plain": [
       "0"
      ]
     },
     "execution_count": 11,
     "metadata": {},
     "output_type": "execute_result"
    }
   ],
   "source": [
    "progress_dict = {\n",
    "        'time': range(N_ROUND),\n",
    "    }\n",
    "progress_dict.update(\n",
    "        {\n",
    "            f'corr_fold_{i}': progress_list[i]['valid']['pearson_corr']\n",
    "            for i in range(N_FOLD)\n",
    "        }\n",
    "    )\n",
    "progress_dict.update(\n",
    "        {\n",
    "            f'loss_fold_{i}': progress_list[i]['valid']['l2']\n",
    "            for i in range(N_FOLD)\n",
    "        }\n",
    "    )\n",
    "\n",
    "progress_df = pd.DataFrame(\n",
    "    progress_dict\n",
    ")\n",
    "\n",
    "progress_df['average_corr'] = progress_df.loc[:, ['corr' in x for x in progress_df.columns]].mean(axis =1)\n",
    "progress_df['average_loss'] = progress_df.loc[:, ['loss' in x for x in progress_df.columns]].mean(axis =1)\n",
    "\n",
    "best_epoch = int(progress_df['average_corr'].argmax())\n",
    "best_score = progress_df['average_corr'].max()\n",
    "best_loss = progress_df.loc[best_epoch, 'average_loss']\n",
    "\n",
    "print(f'Best epoch: {best_epoch}, CV-Corr: {best_score:.3f}, CV-Loss: {best_loss:.3f}')\n",
    "\n",
    "best_result = {\n",
    "    'best_epoch': best_epoch+1,\n",
    "    'best_score': best_score\n",
    "}\n",
    "\n",
    "with open('best_result.pkl', 'wb') as file:\n",
    "    pickle.dump(best_result, file)\n",
    "\n",
    "gc.collect()"
   ]
  },
  {
   "cell_type": "markdown",
   "id": "a9b71285",
   "metadata": {
    "papermill": {
     "duration": 0.066132,
     "end_time": "2022-03-29T11:36:43.901649",
     "exception": false,
     "start_time": "2022-03-29T11:36:43.835517",
     "status": "completed"
    },
    "tags": []
   },
   "source": [
    "# OOF Prediction"
   ]
  },
  {
   "cell_type": "code",
   "execution_count": 12,
   "id": "48f86214",
   "metadata": {
    "execution": {
     "iopub.execute_input": "2022-03-29T11:36:44.039177Z",
     "iopub.status.busy": "2022-03-29T11:36:44.038216Z",
     "iopub.status.idle": "2022-03-29T11:38:30.359875Z",
     "shell.execute_reply": "2022-03-29T11:38:30.360452Z",
     "shell.execute_reply.started": "2022-03-29T08:26:56.357862Z"
    },
    "papermill": {
     "duration": 106.392549,
     "end_time": "2022-03-29T11:38:30.360629",
     "exception": false,
     "start_time": "2022-03-29T11:36:43.968080",
     "status": "completed"
    },
    "tags": []
   },
   "outputs": [
    {
     "name": "stdout",
     "output_type": "stream",
     "text": [
      "Our out of folds mean pearson correlation coefficient is 0.1312682811445559\n"
     ]
    }
   ],
   "source": [
    "model_list = [\n",
    "    lgb.Booster(model_file=f'lgb_{i}.txt') for i in range(N_FOLD)\n",
    "]\n",
    "oof_predictions = np.zeros(data.shape[0])\n",
    "\n",
    "for i, (_, test_index) in enumerate(fold_split):\n",
    "        model = model_list[i]\n",
    "        \n",
    "        test_x_num = data[ALL_FEATURE].iloc[test_index].to_numpy('float16')\n",
    "        val_pred = model.predict(test_x_num, num_iteration = best_result['best_epoch'])\n",
    "        oof_predictions[test_index] = val_pred\n",
    "        \n",
    "oof_df = pd.DataFrame({'time_id': data['time_id'], 'y_true': data['target'], 'y_pred': oof_predictions})\n",
    "\n",
    "# Save out of folds csv for blending\n",
    "oof_df.to_csv('lgbm.csv', index = False)\n",
    "\n",
    "score = calculate_corr(oof_df)[0]\n",
    "print(f'Our out of folds mean pearson correlation coefficient is {score}')    "
   ]
  },
  {
   "cell_type": "markdown",
   "id": "6e4fb681",
   "metadata": {
    "papermill": {
     "duration": 0.074401,
     "end_time": "2022-03-29T11:38:30.523447",
     "exception": false,
     "start_time": "2022-03-29T11:38:30.449046",
     "status": "completed"
    },
    "tags": []
   },
   "source": [
    "# CV score"
   ]
  },
  {
   "cell_type": "code",
   "execution_count": 13,
   "id": "357c051e",
   "metadata": {
    "execution": {
     "iopub.execute_input": "2022-03-29T11:38:30.667042Z",
     "iopub.status.busy": "2022-03-29T11:38:30.666285Z",
     "iopub.status.idle": "2022-03-29T11:38:30.699519Z",
     "shell.execute_reply": "2022-03-29T11:38:30.698977Z",
     "shell.execute_reply.started": "2022-03-29T08:28:16.704838Z"
    },
    "papermill": {
     "duration": 0.105744,
     "end_time": "2022-03-29T11:38:30.699643",
     "exception": false,
     "start_time": "2022-03-29T11:38:30.593899",
     "status": "completed"
    },
    "tags": []
   },
   "outputs": [],
   "source": [
    "progress_df.to_csv('result.csv', index=False)"
   ]
  },
  {
   "cell_type": "code",
   "execution_count": 14,
   "id": "a001fd46",
   "metadata": {
    "execution": {
     "iopub.execute_input": "2022-03-29T11:38:30.836589Z",
     "iopub.status.busy": "2022-03-29T11:38:30.834235Z",
     "iopub.status.idle": "2022-03-29T11:38:31.791414Z",
     "shell.execute_reply": "2022-03-29T11:38:31.791902Z",
     "shell.execute_reply.started": "2022-03-29T08:28:17.437971Z"
    },
    "papermill": {
     "duration": 1.026238,
     "end_time": "2022-03-29T11:38:31.792045",
     "exception": false,
     "start_time": "2022-03-29T11:38:30.765807",
     "status": "completed"
    },
    "tags": []
   },
   "outputs": [
    {
     "data": {
      "text/html": [
       "        <script type=\"text/javascript\">\n",
       "        window.PlotlyConfig = {MathJaxConfig: 'local'};\n",
       "        if (window.MathJax) {MathJax.Hub.Config({SVG: {font: \"STIX-Web\"}});}\n",
       "        if (typeof require !== 'undefined') {\n",
       "        require.undef(\"plotly\");\n",
       "        requirejs.config({\n",
       "            paths: {\n",
       "                'plotly': ['https://cdn.plot.ly/plotly-2.9.0.min']\n",
       "            }\n",
       "        });\n",
       "        require(['plotly'], function(Plotly) {\n",
       "            window._Plotly = Plotly;\n",
       "        });\n",
       "        }\n",
       "        </script>\n",
       "        "
      ]
     },
     "metadata": {},
     "output_type": "display_data"
    },
    {
     "data": {
      "text/html": [
       "<div>                            <div id=\"cb51e5ec-d50b-4366-9cca-b102290af288\" class=\"plotly-graph-div\" style=\"height:525px; width:100%;\"></div>            <script type=\"text/javascript\">                require([\"plotly\"], function(Plotly) {                    window.PLOTLYENV=window.PLOTLYENV || {};                                    if (document.getElementById(\"cb51e5ec-d50b-4366-9cca-b102290af288\")) {                    Plotly.newPlot(                        \"cb51e5ec-d50b-4366-9cca-b102290af288\",                        [{\"hovertemplate\":\"time=%{x}<br>average_loss=%{y}<extra></extra>\",\"legendgroup\":\"\",\"line\":{\"color\":\"#636efa\",\"dash\":\"solid\"},\"marker\":{\"symbol\":\"circle\"},\"mode\":\"lines\",\"name\":\"\",\"showlegend\":false,\"x\":[0,1,2,3,4,5,6,7,8,9,10,11,12,13,14,15,16,17,18,19,20,21,22,23,24,25,26,27,28,29,30,31,32,33,34,35,36,37,38,39,40,41,42,43,44,45,46,47,48,49,50,51,52,53,54,55,56,57,58,59,60,61,62,63,64,65,66,67,68,69,70,71,72,73,74,75,76,77,78,79,80,81,82,83,84,85,86,87,88,89,90,91,92,93,94,95,96,97,98,99,100,101,102,103,104,105,106,107,108,109,110,111,112,113,114,115,116,117,118,119,120,121,122,123,124,125,126,127,128,129,130,131,132,133,134,135,136,137,138,139,140,141,142,143,144,145,146,147,148,149,150,151,152,153,154,155,156,157,158,159,160,161,162,163,164,165,166,167,168,169,170,171,172,173,174,175,176,177,178,179,180,181,182,183,184,185,186,187,188,189,190,191,192,193,194,195,196,197,198,199,200,201,202,203,204,205,206,207,208,209,210,211,212,213,214,215,216,217,218,219,220,221,222,223,224,225,226,227,228,229,230,231,232,233,234,235,236,237,238,239,240,241,242,243,244,245,246,247,248,249,250,251,252,253,254,255,256,257,258,259,260,261,262,263,264,265,266,267,268,269,270,271,272,273,274,275,276,277,278,279,280,281,282,283,284,285,286,287,288,289,290,291,292,293,294,295,296,297,298,299,300,301,302,303,304,305,306,307,308,309,310,311,312,313,314,315,316,317,318,319,320,321,322,323,324,325,326,327,328,329,330,331,332,333,334,335,336,337,338,339,340,341,342,343,344,345,346,347,348,349,350,351,352,353,354,355,356,357,358,359,360,361,362,363,364,365,366,367,368,369,370,371,372,373,374,375,376,377,378,379,380,381,382,383,384,385,386,387,388,389,390,391,392,393,394,395,396,397,398,399,400,401,402,403,404,405,406,407,408,409,410,411,412,413,414,415,416,417,418,419,420,421,422,423,424,425,426,427,428,429,430,431,432,433,434,435,436,437,438,439,440,441,442,443,444,445,446,447,448,449,450,451,452,453,454,455,456,457,458,459,460,461,462,463,464,465,466,467,468,469,470,471,472,473,474,475,476,477,478,479,480,481,482,483,484,485,486,487,488,489,490,491,492,493,494,495,496,497,498,499,500,501,502,503,504,505,506,507,508,509,510,511,512,513,514,515,516,517,518,519,520,521,522,523,524,525,526,527,528,529,530,531,532,533,534,535,536,537,538,539,540,541,542,543,544,545,546,547,548,549,550,551,552,553,554,555,556,557,558,559,560,561,562,563,564,565,566,567,568,569,570,571,572,573,574,575,576,577,578,579,580,581,582,583,584,585,586,587,588,589,590,591,592,593,594,595,596,597,598,599,600,601,602,603,604,605,606,607,608,609,610,611,612,613,614,615,616,617,618,619,620,621,622,623,624,625,626,627,628,629,630,631,632,633,634,635,636,637,638,639,640,641,642,643,644,645,646,647,648,649,650,651,652,653,654,655,656,657,658,659,660,661,662,663,664,665,666,667,668,669,670,671,672,673,674,675,676,677,678,679,680,681,682,683,684,685,686,687,688,689,690,691,692,693,694,695,696,697,698,699,700,701,702,703,704,705,706,707,708,709,710,711,712,713,714,715,716,717,718,719,720,721,722,723,724,725,726,727,728,729,730,731,732,733,734,735,736,737,738,739,740,741,742,743,744,745,746,747,748,749,750,751,752,753,754,755,756,757,758,759,760,761,762,763,764,765,766,767,768,769,770,771,772,773,774,775,776,777,778,779,780,781,782,783,784,785,786,787,788,789,790,791,792,793,794,795,796,797,798,799,800,801,802,803,804,805,806,807,808,809,810,811,812,813,814,815,816,817,818,819,820,821,822,823,824,825,826,827,828,829,830,831,832,833,834,835,836,837,838,839,840,841,842,843,844,845,846,847,848,849,850,851,852,853,854,855,856,857,858,859,860,861,862,863,864,865,866,867,868,869,870,871,872,873,874,875,876,877,878,879,880,881,882,883,884,885,886,887,888,889,890,891,892,893,894,895,896,897,898,899,900,901,902,903,904,905,906,907,908,909,910,911,912,913,914,915,916,917,918,919,920,921,922,923,924,925,926,927,928,929,930,931,932,933,934,935,936,937,938,939,940,941,942,943,944,945,946,947,948,949,950,951,952,953,954,955,956,957,958,959,960,961,962,963,964,965,966,967,968,969,970,971,972,973,974,975,976,977,978,979,980,981,982,983,984,985,986,987,988,989,990,991,992,993,994,995,996,997,998,999,1000,1001,1002,1003,1004,1005,1006,1007,1008,1009,1010,1011,1012,1013,1014,1015,1016,1017,1018,1019,1020,1021,1022,1023,1024,1025,1026,1027,1028,1029,1030,1031,1032,1033,1034,1035,1036,1037,1038,1039,1040,1041,1042,1043,1044,1045,1046,1047,1048,1049,1050,1051,1052,1053,1054,1055,1056,1057,1058,1059,1060,1061,1062,1063,1064,1065,1066,1067,1068,1069,1070,1071,1072,1073,1074,1075,1076,1077,1078,1079,1080,1081,1082,1083,1084,1085,1086,1087,1088,1089,1090,1091,1092,1093,1094,1095,1096,1097,1098,1099,1100,1101,1102,1103,1104,1105,1106,1107,1108,1109,1110,1111,1112,1113,1114,1115,1116,1117,1118,1119,1120,1121,1122,1123,1124,1125,1126,1127,1128,1129,1130,1131,1132,1133,1134,1135,1136,1137,1138,1139,1140,1141,1142,1143,1144,1145,1146,1147,1148,1149,1150,1151,1152,1153,1154,1155,1156,1157,1158,1159,1160,1161,1162,1163,1164,1165,1166,1167,1168,1169,1170,1171,1172,1173,1174,1175,1176,1177,1178,1179,1180,1181,1182,1183,1184,1185,1186,1187,1188,1189,1190,1191,1192,1193,1194,1195,1196,1197,1198,1199,1200,1201,1202,1203,1204,1205,1206,1207,1208,1209,1210,1211,1212,1213,1214,1215,1216,1217,1218,1219,1220,1221,1222,1223,1224,1225,1226,1227,1228,1229,1230,1231,1232,1233,1234,1235,1236,1237,1238,1239,1240,1241,1242,1243,1244,1245,1246,1247,1248,1249,1250,1251,1252,1253,1254,1255,1256,1257,1258,1259,1260,1261,1262,1263,1264,1265,1266,1267,1268,1269,1270,1271,1272,1273,1274,1275,1276,1277,1278,1279,1280,1281,1282,1283,1284,1285,1286,1287,1288,1289,1290,1291,1292,1293,1294,1295,1296,1297,1298,1299,1300,1301,1302,1303,1304,1305,1306,1307,1308,1309,1310,1311,1312,1313,1314,1315,1316,1317,1318,1319,1320,1321,1322,1323,1324,1325,1326,1327,1328,1329,1330,1331,1332,1333,1334,1335,1336,1337,1338,1339,1340,1341,1342,1343,1344,1345,1346,1347,1348,1349,1350,1351,1352,1353,1354,1355,1356,1357,1358,1359,1360,1361,1362,1363,1364,1365,1366,1367,1368,1369,1370,1371,1372,1373,1374,1375,1376,1377,1378,1379,1380,1381,1382,1383,1384,1385,1386,1387,1388,1389,1390,1391,1392,1393,1394,1395,1396,1397,1398,1399,1400,1401,1402,1403,1404,1405,1406,1407,1408,1409,1410,1411,1412,1413,1414,1415,1416,1417,1418,1419,1420,1421,1422,1423,1424,1425,1426,1427,1428,1429,1430,1431,1432,1433,1434,1435,1436,1437,1438,1439,1440,1441,1442,1443,1444,1445,1446,1447,1448,1449,1450,1451,1452,1453,1454,1455,1456,1457,1458,1459,1460,1461,1462,1463,1464,1465,1466,1467,1468,1469,1470,1471,1472,1473,1474,1475,1476,1477,1478,1479,1480,1481,1482,1483,1484,1485,1486,1487,1488,1489,1490,1491,1492,1493,1494,1495,1496,1497,1498,1499],\"xaxis\":\"x\",\"y\":[0.8449328810369096,0.8441247254217569,0.843427114517268,0.8427758651507906,0.8422072846386512,0.8416441049207221,0.8411714175066377,0.8407488126803886,0.8402955913127805,0.839834151510446,0.8394534321937679,0.8390704448156988,0.8387586281528809,0.8384386031598344,0.8381395016001566,0.837840668499869,0.8375944372632944,0.8373937180678123,0.8372576253255055,0.8370494425949351,0.8368338424285385,0.8366619521411659,0.8364737949313282,0.8362942630372139,0.8361664572811514,0.8360334847232037,0.8358645851346379,0.8358028267981539,0.8356639427574242,0.8355534268369246,0.835414224674768,0.8353041697540797,0.8352006574040679,0.8351036416019924,0.8350086208402363,0.8349275097254323,0.8348443218349102,0.8347668863273121,0.8346917830507105,0.8345843050214355,0.8344864586286226,0.8344069045305531,0.8343630920972982,0.8342773156761772,0.8342131408029246,0.8341118564319305,0.8340806400530377,0.834011698561026,0.8339646538186172,0.833907429931527,0.8338543082844817,0.8338401602338831,0.8337933720765076,0.8337280395108386,0.8336816263972582,0.8336266246811521,0.8335824920382015,0.8335451800808293,0.8334617544210534,0.8334689988687746,0.833413349989548,0.8333722884231005,0.833329499647838,0.8333016460474614,0.8332430931153706,0.8332447231726382,0.8332108702512684,0.8331482820986977,0.8331148717656015,0.8330274707605415,0.8329769107699727,0.8329306156135713,0.832864359569955,0.8328332848827034,0.8328007008416847,0.8327570531797643,0.8327498748759469,0.8326911920328101,0.8326801646946013,0.8326486187648721,0.8326173091488933,0.8325771243885545,0.832562289343886,0.8325327557812324,0.8325266018230957,0.832482698921902,0.8324682417532884,0.832411746394002,0.8324097144122954,0.8323457845814808,0.8322892772315068,0.8322644259021802,0.8322294453726584,0.832189483207338,0.8321540221899199,0.8321293724757348,0.8321176256287997,0.832098826331969,0.8321093301105753,0.8321075276737891,0.8320663288243949,0.8320485687209086,0.8319983756054938,0.8319882747595886,0.8319800861322845,0.8319566583225718,0.8319398245890166,0.8319044485128584,0.8318758656285347,0.8318306168069183,0.8318200025546245,0.8318135803718636,0.8317593608866721,0.8317365858563633,0.8317012729952591,0.8316884089713229,0.8316956462340249,0.8316765122870088,0.8316691001598627,0.8316504411021988,0.8316421358576752,0.8316216902385811,0.8315899253070256,0.8315925203159467,0.8315992694219689,0.8316136136215245,0.8315973638057935,0.8315773576422754,0.83156481268819,0.8315613750511236,0.831555208677322,0.831542636139863,0.8315480324258815,0.8314952470132514,0.8314779420896201,0.8315016824150249,0.831492310863808,0.8314888541510295,0.8314749846251562,0.8314621805771585,0.8314772540091685,0.8314586721976651,0.8314455631890432,0.8314499855216406,0.831430357798609,0.831421173028221,0.8314303390613095,0.8314200863739618,0.8313890202459222,0.8313746090464263,0.83140006879644,0.831399268244526,0.8313954582292844,0.8313963243991689,0.8313918741105549,0.831376034886188,0.8313447916794896,0.8313371530278069,0.8313418521717775,0.83134605891438,0.8313519315620755,0.8313432824734454,0.8313253484561377,0.8313236915412869,0.8313267656179892,0.8313216084843479,0.8313238682141805,0.831325314479086,0.8313400464724268,0.8313284408398001,0.8313050553732833,0.831289124643885,0.8312652410419922,0.8312515867994478,0.8312384554340312,0.8312458497083224,0.8312308423780641,0.8312374555476565,0.8312470124879543,0.8312386984416518,0.8312522849865005,0.8312707533377633,0.8312771771692894,0.8312670359374724,0.8312665838413457,0.8312566848906094,0.8312705653105136,0.8312903125399101,0.8312621341175379,0.831244160848969,0.8312407628957598,0.831229152888864,0.8312333188206023,0.8312220634723803,0.831235883470183,0.8312323207347226,0.8312216095442249,0.8312060921025862,0.8311965429631064,0.8311970517846119,0.8312317521191085,0.8312245626230524,0.8312392873894165,0.8312540021610383,0.8312625809022716,0.8312671866506911,0.8312559342647596,0.8312504109124268,0.831240497793312,0.8312330116377353,0.8312223541210374,0.8312135536269517,0.8312100390607666,0.8311939098842764,0.8312069919214027,0.8312221496102588,0.831218334518615,0.8312214871648115,0.8312358936875741,0.8312359431177127,0.8312711201464161,0.831298174458843,0.8312948373713404,0.8312738102558717,0.8312928638330842,0.8312759931063646,0.8312487131309542,0.8312629800106504,0.831272999326584,0.8312865418482266,0.831268659079561,0.8312829687056722,0.8312850910839396,0.8312830876878332,0.8312971555964322,0.8313142945073256,0.8313103544967971,0.831284944806081,0.8312793426129103,0.8313011829581667,0.8313032883044658,0.8312796498411892,0.8312681968919637,0.8312711878511637,0.8312596979781887,0.8312557803772602,0.8312575802601712,0.8312486915073884,0.8312409069347597,0.8312470546243673,0.831242460134573,0.8312305048433751,0.8312419640033237,0.8312554432115726,0.8312507388523118,0.8312532802540348,0.8312521285408951,0.8312559467894776,0.831258262429874,0.8312793537597974,0.8312675297507104,0.8312764652202423,0.8312747683258696,0.8312676068474201,0.8312530427646039,0.8312590461848355,0.8312630651663445,0.8312853584107088,0.8312662689477472,0.831276671973588,0.8312816278519819,0.831294527591784,0.8312853825255851,0.8312940866295652,0.8312976771558404,0.8313078749054605,0.8313175362044752,0.83131502182506,0.8313308820219909,0.8313248866169598,0.83132056866213,0.8313338442906654,0.8313251993897021,0.8313195408993856,0.8313448468512039,0.8313303314038253,0.8313069238420274,0.8313063745832663,0.8313060024687564,0.8313123518984197,0.8313162566999527,0.8313363428989661,0.8313380380648434,0.8313560277752409,0.8313611895780946,0.8313651762955514,0.8314515478855263,0.8314465661050253,0.8314316923755305,0.8314433901058547,0.8314394144157647,0.8314446185741164,0.8314441892547336,0.8314415080536148,0.8314399378105868,0.8314318025531658,0.8314436767790172,0.8314342119702056,0.8314415444609237,0.8314297613050714,0.8314266656797532,0.8314198809920967,0.8314196988420862,0.8314516447474112,0.8314637341659148,0.8314618870736024,0.8314663764355291,0.831469238032214,0.8314758741594629,0.831482148233949,0.831480914511252,0.83149529550263,0.8315069986411547,0.8315074970342884,0.8314951474814244,0.831529358549561,0.8315346313005796,0.831546595174134,0.8315276109482375,0.8315107430583083,0.8315266273995089,0.8315283146736198,0.8315141168278485,0.8315203959205396,0.8315181279269716,0.8315167472824448,0.8315113788219348,0.8315371761249111,0.8315530265109089,0.8315807995801698,0.8315801218969195,0.831603181994848,0.8316163277262258,0.8316204867101626,0.8316077384534253,0.8316152566450322,0.8316253377963655,0.831638629991628,0.8316528136642823,0.8316528539885478,0.8316465788647391,0.8316548286103798,0.8316677800968971,0.8316832388970109,0.8316642954246845,0.8316692614335504,0.8316857801211975,0.8317080636637051,0.8317189692857418,0.831735585407168,0.8317376161414959,0.8317319738671859,0.8317450348156197,0.8317517132219564,0.8317480921620894,0.8317731324565705,0.8317551814358296,0.8317591402213811,0.8317632924447101,0.8317825013457736,0.8318065095930836,0.8318021591774203,0.8318290143640112,0.8318424628986246,0.8318571145623619,0.8318432064123877,0.8318574769249902,0.831855207657863,0.8318663368793539,0.8318707830048947,0.831883891097457,0.831895130636557,0.8319147187221372,0.8319225802804032,0.8319211955347438,0.8319151806984237,0.8319339156327696,0.831918135634858,0.8319192624687803,0.8319154039866978,0.8319276490249994,0.8319211297955313,0.8319273595556036,0.8319227498662641,0.831937001502465,0.8319481857787915,0.8319475057887585,0.8319391409818216,0.831924669369301,0.8319394967458884,0.8319530360667979,0.831958167066241,0.8319340676693011,0.8319349008722273,0.8319465783896423,0.8319651923125937,0.8319725827940839,0.831990646880637,0.8319865778487147,0.8319930175117447,0.8320016037856168,0.8320057502236065,0.8320121231103809,0.8320285744277257,0.832052042040873,0.8320596491046688,0.8320704770388027,0.8320632163826129,0.8320556148042157,0.8320778905113306,0.8320710823822848,0.8320917766871071,0.8320962069455146,0.8321176703304435,0.8321250369371723,0.8321289074168055,0.8321322803151439,0.8321382493765009,0.8321419982243056,0.8321502244154277,0.8321727399055275,0.8321771203342223,0.8322227866893801,0.8322430331747347,0.8322343321325274,0.8322498420259011,0.8322634415525269,0.8322779656798535,0.8322924072162852,0.8323121823261215,0.832318221573642,0.8323311064171527,0.8323334986706555,0.8323435291240772,0.8323653933717259,0.8323654863978291,0.8323804661364351,0.8323924599237502,0.8323843377528023,0.8323851414176868,0.8323823374801149,0.8323890348643109,0.8323978684265709,0.8324036507053278,0.8324035084682574,0.8324117658720003,0.832411047441917,0.8324119689285124,0.8324195538089537,0.832429343372759,0.832438811517149,0.8324342024516029,0.8324369494988059,0.8324360471218428,0.8324276807118993,0.8324296087433283,0.8324308960467866,0.8324635350634082,0.8324739318377199,0.8324864464202797,0.8324982702956583,0.832511275725729,0.8325121537799711,0.8325040935669822,0.8325116320600028,0.8325159374424637,0.8325136863549536,0.8325022944206625,0.8325089205266245,0.8325120251075511,0.8325225497553573,0.8325256932903367,0.8325295280719038,0.8325346291668382,0.8325294097393947,0.8325425490447327,0.8325742914012391,0.8325846167650142,0.8325782001327677,0.8325772694741568,0.8325860436329162,0.832584300566414,0.8326002920141724,0.8325969026072496,0.8325987519285029,0.8326235208037316,0.8326261944049775,0.8326245494113301,0.8326403202006102,0.8326318333181764,0.8326348319056734,0.8326400316953138,0.8326461851163461,0.8326486503642994,0.8326612050570364,0.8326617602681623,0.8326733807394527,0.8326759840006653,0.8326866640707211,0.8326921882354089,0.8326998233762136,0.8327023277383331,0.8327050905697314,0.8327097778674195,0.8327183722113402,0.8327349085314836,0.8327576412136851,0.8327488205055268,0.8327560681910853,0.8327612162978953,0.8327655000734155,0.8327601759607243,0.8327605254527001,0.8327633486318289,0.8327631174880032,0.8327924495241646,0.8327946176081961,0.8328325229189181,0.832833568411084,0.8328368778053065,0.8328399316389898,0.8328520552746947,0.8328583823220113,0.8328629138209225,0.8328717539792091,0.8328705191314552,0.8328722169590597,0.8328788816970285,0.8328869966020391,0.8329024888423138,0.8329166019293737,0.8329004863804466,0.83291737643966,0.832924318542538,0.8329337857298202,0.8329468185496356,0.8329505491699871,0.8329563685768038,0.8329752854554165,0.8329729425797028,0.8329700545780071,0.8329763751012542,0.8329894067191077,0.833015114521103,0.833012015888082,0.833007851005045,0.8330035551357338,0.8330197451972028,0.8330198918407798,0.8330394529840968,0.833045600587492,0.8330459733908022,0.8330458967068749,0.8330458018968445,0.8330656947363533,0.8330724558444604,0.8330851854669993,0.833094878577936,0.8331063027776672,0.8331004332994375,0.8330969785571535,0.8331041728228608,0.8331229118050519,0.8331456218616493,0.833140905787541,0.8331302041030029,0.8331324535995531,0.8331290148169724,0.8331111363097661,0.8331208990244754,0.8331145618588923,0.8331222915936467,0.8331265932457036,0.833126547357403,0.8331483721312469,0.8331447606870853,0.8331579567265901,0.8331655592082546,0.8331687094125597,0.8331756886676887,0.8331821533012469,0.833189414501315,0.8331868333811684,0.8332006838425217,0.833213751239317,0.8332148214818647,0.8332201345512216,0.8332302857280881,0.8332341767030791,0.8332484740884695,0.8332529064653699,0.8332609984612181,0.8332644924848231,0.8332659163202987,0.833284586046271,0.8332892111103913,0.8332955151730201,0.8333028220723848,0.8333050374627279,0.833308638741552,0.8333283931814697,0.8333405587690057,0.8333502296526298,0.8333467161589061,0.8333521480819208,0.8333612860269076,0.8333637236322582,0.8333637095136597,0.8333587457806461,0.8333729137558569,0.8333998169359129,0.8334112171657571,0.8334258965815742,0.8334293093571045,0.8334412838547773,0.8334398863302164,0.8334520258508293,0.8334394995173661,0.8334637791392583,0.8334559186104205,0.8334691739446501,0.8334692259962436,0.8334750973025423,0.8334780016172724,0.8335029181633116,0.8335144031923536,0.8335286166320186,0.8335341262660769,0.8335270293613423,0.8335431633499624,0.8335668051544987,0.8336082412789395,0.8336243034198786,0.8336434213329278,0.8336460703093141,0.8336521194286961,0.8336617179430741,0.8336529193837746,0.8336706130115221,0.8336749935761871,0.8336688743536891,0.8336738471178318,0.8336876118274349,0.8336941010409141,0.8337025578179288,0.8336931512220858,0.833692978093459,0.8337031823728186,0.833707670767254,0.8337092746950866,0.8337251797937709,0.8337343102162436,0.8337242166963559,0.8337319113222165,0.8337403029295354,0.8337363162433575,0.8337471218757088,0.8337556540383522,0.8337538737852404,0.8337563300449581,0.8337557351187425,0.8337519264404328,0.8337577402783201,0.8337614019808225,0.8337708645111224,0.8337845921787357,0.833780671702662,0.8337830697749187,0.8337948735829936,0.8338036590314692,0.8338112348133604,0.8338125966786837,0.8338190247478507,0.8338219940237845,0.8338224691098738,0.8338183674382341,0.833824440570606,0.8338305425939261,0.8338395973539445,0.8338451612513891,0.8338517164685996,0.8338817818829758,0.8338789109170911,0.8338849370897314,0.8338915541601111,0.8338896656508596,0.833893362478069,0.8339060449259913,0.8339119756383007,0.833921309363636,0.8339288030809652,0.8339345720206988,0.8339312454206137,0.8339224298313411,0.8339216589508682,0.8339478371283917,0.8339454135056178,0.8339698819902572,0.8339857498766866,0.8339954722141719,0.8339977356696318,0.8340026249746536,0.834003319199007,0.8340097672925519,0.8340082988911984,0.8340015240875924,0.8340055668699222,0.8340024731739419,0.834004432539199,0.8340117551633626,0.8340256106221393,0.8340341464190626,0.834039215429893,0.8340446028952486,0.8340488531353134,0.8340510802243027,0.8340587705347632,0.8340587081836904,0.8340649964695885,0.8340820387246511,0.8340942848042182,0.8340864344906315,0.8341276582918302,0.8341359364722358,0.834131036836947,0.8341361513048285,0.8341425212894702,0.8341508173856799,0.8341523596651605,0.8341498825016007,0.8341511809511115,0.8341499793146182,0.8341591463378213,0.8341775243947641,0.8341804510442368,0.8341893844675952,0.8341886395852743,0.8341939225684312,0.8342061114022357,0.834209151926481,0.8342138499043559,0.8342348446655199,0.8342437589111229,0.8342433581820264,0.834241662145587,0.8342432189210021,0.8342361730265676,0.8342404135013417,0.834244306253289,0.8342470594153018,0.8342501931548337,0.8342562088981721,0.8342619582194158,0.8342657530955668,0.8342638547662109,0.834274876567059,0.8342846849239661,0.8342966304485031,0.8342943542353238,0.8343214884508223,0.8343316258694851,0.8343627431327671,0.8343671506400211,0.8343835557390925,0.8344012756344128,0.8344028862124624,0.8344064365002302,0.834409306328381,0.8344184080687829,0.8344276031044455,0.8344402180965268,0.8344456754601606,0.8344495574967356,0.8344559580493099,0.8344794810844306,0.8344904479589637,0.8344966637677442,0.8345148813080607,0.8345217161687263,0.8345175526534778,0.8345144219260389,0.8345023281239863,0.8345054906981175,0.834495459387302,0.8345067290203536,0.8345104386427129,0.8345044432443138,0.8345078985601564,0.834508599329536,0.8345126074474631,0.8344974462362448,0.8344897957321382,0.8344965909210733,0.834497367670569,0.8344885383620866,0.8344914654116525,0.8345004134399818,0.8344932319316409,0.8344876244087761,0.8344852335444608,0.834482959315282,0.8345066932392647,0.8345107958111357,0.8345130908076628,0.8345287081781827,0.8345600908450874,0.8346012702897582,0.8346073264208297,0.8346059737599028,0.8346125396620003,0.8346331353042574,0.83464177070257,0.8346509737704944,0.8346577632280369,0.834660397465975,0.8346625220959302,0.8346598566960338,0.8346601823895528,0.834672019694937,0.8346794315146313,0.8346942633668013,0.8347039664997176,0.8347138925169946,0.8347318560568058,0.8347423844149093,0.8347476433152241,0.8347589990531483,0.8347697702588702,0.8347690109151877,0.8347784963289268,0.8347747814439389,0.8347806624001954,0.834779904619267,0.8347833844443067,0.8347859212226295,0.8347936332191942,0.834797008928784,0.8348065424409006,0.8348101340841663,0.834818915056944,0.8348309174711759,0.8348696063767413,0.8348813223961418,0.8348687682360948,0.8348716683842184,0.8348805701317991,0.8348831407594698,0.8348919446407994,0.8348999517673625,0.834909192206634,0.8349031492839358,0.834907767032869,0.8349136330269091,0.8349172091745144,0.8349349360684519,0.8349587939667635,0.8349611551608556,0.8349702659731136,0.8349745760735982,0.8349800566278679,0.8349955405812495,0.8349961497842543,0.8350061737857344,0.8350010359303981,0.8350052955852574,0.8350236216677043,0.8350328341697285,0.835032334901839,0.8350465754427917,0.8350513397546857,0.835058860953151,0.8350623607141676,0.8350818960255385,0.8350907711438369,0.8350870510122954,0.8350801597403331,0.8350831617840765,0.8350949325510035,0.8350951414954613,0.8350963203188607,0.8350931870411543,0.8350914278422724,0.8350970454553662,0.8351058611449336,0.8351084088241236,0.8351086922246166,0.835107505278096,0.8351192153469091,0.8351187454994999,0.8351246262536464,0.8351301317513868,0.8351276623068784,0.8351276448457053,0.8351349847466094,0.8351337836326123,0.8351511859257801,0.8351624413595097,0.8351720538653573,0.8351770246817093,0.8351781134871633,0.8351844626943888,0.8351932306347137,0.835201366057371,0.8351933321218423,0.835191471572767,0.8351972024330825,0.8351942998006503,0.8351985852926965,0.835219101713753,0.8352223964911116,0.8352292365309044,0.8352395204406953,0.8352464262599663,0.8352444923337415,0.835270434453913,0.8352671919652309,0.8352666372805129,0.8352664254692199,0.8352637623521073,0.8352836958058795,0.8352994817743931,0.8353015216134839,0.8353057191497694,0.8353088254658042,0.8353138365101689,0.8353134739413216,0.8353241458061742,0.835326157599679,0.8353310007372163,0.8353344572837894,0.8353411649286165,0.8353490394628709,0.8353520622060833,0.8353652511440076,0.8353684609147031,0.8353687390558612,0.8353777936977999,0.8353814170613836,0.8353844161277098,0.8353960243869191,0.8354307085819725,0.8354230020507558,0.8354240490972842,0.8354318076113435,0.8354391374269481,0.8354482944814052,0.8354518973737566,0.8354480570599441,0.8354535172492514,0.8354487048063024,0.835460842940226,0.8354681243434123,0.8354665927669558,0.835465603232557,0.8354648735490431,0.8354644822073176,0.8354673102798141,0.835469122931767,0.8354749751799078,0.8354752935098908,0.8355074249532043,0.8355266379205537,0.835527287317461,0.8355255014823125,0.8355440345484928,0.8355500067734767,0.8355547729671862,0.835561840767172,0.8355625934408494,0.8355686037986689,0.8355801422146545,0.8355830876303267,0.8355849841454445,0.8355888398783785,0.8355883885496012,0.8355921024813222,0.8355953428949288,0.8356117395193603,0.8356353512152775,0.8356378189600326,0.8356567863124891,0.8356605641133177,0.8356650739196494,0.8356734487077917,0.8356817712439529,0.8356936930441744,0.8356971997177991,0.8357002075850147,0.8357186295510086,0.835715618191365,0.8357176110612006,0.8357138757315298,0.8357328284290059,0.8357336001690999,0.835724648416806,0.8357282642866016,0.8357298595981775,0.8357310778348037,0.8357293691199681,0.8357384943119894,0.8357437905718136,0.8357541212333108,0.8357571650965013,0.8357646198137226,0.8357628253177172,0.835768070904531,0.8357731366440498,0.8357805684790822,0.8357756426901404,0.8357734282602225,0.8357771435485951,0.8357963220852934,0.8358052715764499,0.8358089030914513,0.8358188545570313,0.8358289464652555,0.8358286672359062,0.8358302734402475,0.8358335533304093,0.8358324412581547,0.8358410704808159,0.835844286837834,0.8358526837277624,0.8358592410129235,0.835870378799585,0.8358831327415516,0.8358942465518485,0.8359071108241454,0.8359144525422932,0.8359277686232804,0.8359361273442438,0.8359404081677649,0.8359405293119874,0.8359469001870291,0.8359529044967511,0.835960755451107,0.8359572497304057,0.8359626745331872,0.8359644036045939,0.8359647555307099,0.8359761247848793,0.8359807649902358,0.8359932721901545,0.8359841431783405,0.835992891358275,0.8360017315328914,0.8360023166029025,0.8360103456843833,0.8360177670867189,0.8360210515499592,0.836021779129388,0.8360192042967274,0.8360289866867221,0.8360467650420389,0.8360515384167163,0.8360507403665721,0.8360556734544875,0.836059772445676,0.8360676145465383,0.836080724822927,0.8360799138069283,0.8360904373930091,0.8360991963431502,0.8361004966127418,0.8361112737774287,0.8361181962401517,0.836141541683215,0.8361533273703061,0.8361545905353651,0.8361639826805012,0.8361669769974334,0.8361696288054319,0.8361676134657013,0.8361655573096345,0.8361740106101699,0.8361953744187887,0.8362024553842436,0.8361986351717429,0.836210119783904,0.8362180975122895,0.8362289178021902,0.8362305140805594,0.8362438805188617,0.8362544478104506,0.8362571444483884,0.8362719756349646,0.8362696877906334,0.836276025602882,0.8362866060801599,0.83629683521137,0.8363077300752486,0.8363116310195358,0.8363143686020027,0.8363170434239281,0.836322621342865,0.8363280896295351,0.8363349594982779,0.8363421068671327,0.8363481228042942,0.836350178229389,0.8363529034706444,0.8363549629241648,0.8363575852352515,0.8363670920875814,0.836370308783072,0.8363821708650431,0.836383081594553,0.8363894800528822,0.8363891856679315,0.8364023874524102,0.8363983587157398,0.8363979939587491,0.8363972129111324,0.8363988148666529,0.8363996979395477,0.8364007276303316,0.8364058115875957,0.8364045560802115,0.8364119170461111,0.8364143399068211,0.8364229753675939,0.8364200984302439,0.836427101959471,0.8364288407850863,0.8364249538800358,0.8364238542165318,0.8364196095597217,0.8364116527358219,0.8364147084064643,0.8364222125720178,0.8364410820972609,0.8364416956431453,0.8364430239818988,0.8364459511344755,0.836449306284847,0.8364551294432493,0.836463441595425,0.8364520847206631,0.8364609167869016,0.8364645951377006,0.836460379499866,0.8364627284894098,0.8364673725135457,0.8364745178893932,0.83648102384629,0.8364798553365367,0.8364801378954775,0.8364888349893558,0.8364969731353957,0.836503679557554,0.8365071754901761,0.836511577533064,0.8365311714155116,0.8365868655668504,0.8365883606714599,0.8366029201152217,0.8366043514486219,0.8366144243080418,0.8366134821580495,0.8366300220766212,0.8366344342779657,0.8366444753605256,0.836649321333424,0.8366508249172936,0.8366595708919057,0.8366333086925735,0.8366468320933645,0.8366455551310601,0.8366492289642615,0.8366452018433737,0.8366445931001174,0.8366475090752612,0.836649628433207,0.8366493519757631,0.8366514027376752,0.8366526211868498,0.8366525085704863,0.8366547340080297,0.8366675683191866,0.8366922012354285,0.8366998922611982,0.8366964036092732,0.8366964299692625,0.8367033670413002,0.8367070541061121,0.8366985459473204,0.8366970205248832,0.8366969944058464,0.8366911214789597,0.8366953695226107,0.8366990344557887,0.8367021195152363,0.8367084890497164,0.8367124293577171,0.8367228946413838,0.8367408023950832,0.8367519362800812,0.8367621840413351,0.8367660082101832,0.8367676228259544,0.8367792087859678,0.8367849886172201,0.8367855210699666,0.836793980032381,0.8367969851949724,0.8367955889171323,0.8368011912842521,0.836805643726875,0.836816602562975,0.836828083060667,0.8368305103783273,0.8368358222817827,0.8368468037728451,0.8368675324164465,0.8368856791393176,0.8368842559412869,0.8368819277927348,0.8368810871562978,0.8368870139487765,0.8368899048489986,0.8368943802287581,0.8368963980487523,0.836894855013011,0.836893828449551,0.8369034686832212,0.8369100223954311,0.8369167145175958,0.8369197361842451,0.8369197667345748,0.8369287340922466,0.836928587048279,0.8369197004539197,0.8369280725948383,0.8369458036613804,0.8369508525994893,0.8369631049366048,0.8369629682079225,0.836958698393353,0.8369591759467152,0.8369624917157508,0.836965987273304,0.8369834300603385,0.8370020934936733,0.8370114486641069,0.8370240135969835,0.8370381037282145,0.8370441136992189,0.8370630235556659,0.8370681319702772,0.8370891225537964,0.8370842589389393,0.8370877619200467,0.8370712456804463,0.8370851962909598,0.8370980532913537,0.8371005504378568,0.8370972112089516,0.8371033750329447,0.8371029725007517,0.8371047793188586,0.8371150665399487,0.837131685801858,0.8371366623290607,0.8371440000593202,0.837175113968955,0.8371900546419765,0.8371972430146531,0.8371984361381843,0.8372071277398467,0.8372183485334868,0.8372193330608925,0.8372092466544026,0.8372198937427932,0.8372328755458704,0.8372295557386742,0.8372355732393599,0.8372594172520694,0.8372657339964773,0.8372702219435719,0.8372766091594382,0.8372820132396523,0.8372792687612737,0.8372934956192074,0.8373021605953894,0.8373026732390627,0.8373017361592663,0.8373077715866024,0.8373173455581343,0.8373168966098138,0.8373260010041468,0.8373253254494962,0.8373433907809066,0.8373526204369431,0.8373616875102691,0.8373671993424063,0.8373736082756029,0.8373927840113314,0.8374043991908626,0.8374116226948386,0.8374184292863518,0.8374210134405793,0.8374252696660236,0.8374278482511232,0.8374346044024443,0.8374375303519155,0.8374427167138698,0.8374454107700204,0.8374466011593725,0.837452563431779,0.8374719313787733,0.837479302883126,0.8374927308413327,0.8374969850809475,0.8374954158039492,0.837511774369123,0.8375127910592054,0.8375206791674839,0.8375216178085376,0.8375264442411325,0.8375299068009348,0.8375313128701196,0.8375411148382605,0.8375510778731483,0.8375623353065331,0.8375735393684464,0.8375829545410755,0.8375909490154443,0.8376082090460141,0.8376358288265259,0.8376458489549419,0.8376445431735979,0.8376714360831932,0.8376800102642881,0.8376632931460974,0.8376755972404883,0.8376770089065291,0.8376847965526316,0.8376925696207754,0.8376955307271367,0.8377053226370063,0.83773845513359,0.8377452749292992,0.8377493373739021,0.8377564516952418,0.8377553640371508,0.8377676389523291,0.837771556494534,0.8377755444832207,0.8377749699442099,0.83777414145056,0.8377744987393635,0.8377729811606706,0.8377666943407334,0.8377917376476439,0.8377988669936274,0.8378049368042808,0.8377995819028266,0.837805929160799,0.8378104712849851,0.8378196017335355,0.8378236482579418,0.8378176511078381,0.8378491546189737,0.8378557955524363,0.837864439314572,0.8378670873718935,0.8378693935247448,0.8378734044537,0.8378882807474751,0.8378985509727455,0.8378845971605264,0.8378902137733644,0.8378897157491654,0.837888492036879,0.8378922190686324,0.8378930517529455,0.8378966757185389,0.837891602042631,0.8378924291103423,0.8378947959013624,0.8379016634246389,0.8379005964724857,0.8379038668560754,0.8379203968410611,0.8379237946954369,0.8379233639267157,0.8379244441239739,0.8379329585314024,0.8379329950059088,0.8379440503784308,0.8379473718709782,0.8379489381845936,0.8379561436009748,0.8379447419282482,0.8379577847764027,0.8379619327969469,0.8379706569634416,0.837978078589364,0.8379815553257204,0.8379864470065908,0.8379953355652129,0.8379997126063454,0.8380150878939062,0.8380217900148562,0.8380315287407061,0.8380348198547045,0.8380509142624328,0.8380624696027015,0.838061922898761,0.8380673213078571,0.8380734064580908,0.8380845577094863,0.8380831175475357,0.8380851735173194,0.8380865138799137,0.8380917029906986,0.8380970790867982,0.8380952862676401,0.8381069886501262,0.8381133799486978,0.8381152586370915,0.8381141543730184,0.8381155224177655,0.8381125998562118,0.8381140233859983,0.8381130927566172,0.8381261840680786,0.8381279391034979,0.838136623197683,0.8381409470446759,0.83814762744483,0.8381430369917154,0.8381653867786586,0.8381767687563837,0.8381767838744849,0.8381734349883996,0.8381786137485857,0.8381848483004166,0.838192269100662,0.8381976524052559,0.8382028579274049,0.838205453351553,0.8382100107167492,0.8382236271004864,0.8382268581503481,0.8382385868179234,0.8382332929191245,0.8382312521631088,0.8382413233687481,0.8382414240893695,0.8382431178174612,0.8382527249931545,0.8382750536214918,0.8382789442798938,0.8382744946273102,0.8382796158322705,0.8382881071931575,0.8382868018691783,0.8382930755773991,0.8383042267069676,0.8383152433928839,0.8383186777530509,0.8383264301334737,0.8383249832018965,0.8383226040738305,0.8383281919057823,0.8383403317338469,0.8383492690041822,0.8383685249705095,0.8383639900055622,0.8383714535800808,0.8383745131973296,0.8383685053159807,0.8383603629738376,0.8383637293978626,0.8383675440265879,0.8383565114617386,0.8383555237239199,0.8383628764510016,0.8383669550991648,0.8383689151543623,0.8383698555134206,0.8383642210619986,0.8383656912668027,0.8383716361128866,0.8383774908248967,0.8383795247528939,0.8383794333566833,0.8383812806023465,0.8383850711537985],\"yaxis\":\"y\",\"type\":\"scattergl\"}],                        {\"template\":{\"data\":{\"barpolar\":[{\"marker\":{\"line\":{\"color\":\"white\",\"width\":0.5},\"pattern\":{\"fillmode\":\"overlay\",\"size\":10,\"solidity\":0.2}},\"type\":\"barpolar\"}],\"bar\":[{\"error_x\":{\"color\":\"#2a3f5f\"},\"error_y\":{\"color\":\"#2a3f5f\"},\"marker\":{\"line\":{\"color\":\"white\",\"width\":0.5},\"pattern\":{\"fillmode\":\"overlay\",\"size\":10,\"solidity\":0.2}},\"type\":\"bar\"}],\"carpet\":[{\"aaxis\":{\"endlinecolor\":\"#2a3f5f\",\"gridcolor\":\"#C8D4E3\",\"linecolor\":\"#C8D4E3\",\"minorgridcolor\":\"#C8D4E3\",\"startlinecolor\":\"#2a3f5f\"},\"baxis\":{\"endlinecolor\":\"#2a3f5f\",\"gridcolor\":\"#C8D4E3\",\"linecolor\":\"#C8D4E3\",\"minorgridcolor\":\"#C8D4E3\",\"startlinecolor\":\"#2a3f5f\"},\"type\":\"carpet\"}],\"choropleth\":[{\"colorbar\":{\"outlinewidth\":0,\"ticks\":\"\"},\"type\":\"choropleth\"}],\"contourcarpet\":[{\"colorbar\":{\"outlinewidth\":0,\"ticks\":\"\"},\"type\":\"contourcarpet\"}],\"contour\":[{\"colorbar\":{\"outlinewidth\":0,\"ticks\":\"\"},\"colorscale\":[[0.0,\"#0d0887\"],[0.1111111111111111,\"#46039f\"],[0.2222222222222222,\"#7201a8\"],[0.3333333333333333,\"#9c179e\"],[0.4444444444444444,\"#bd3786\"],[0.5555555555555556,\"#d8576b\"],[0.6666666666666666,\"#ed7953\"],[0.7777777777777778,\"#fb9f3a\"],[0.8888888888888888,\"#fdca26\"],[1.0,\"#f0f921\"]],\"type\":\"contour\"}],\"heatmapgl\":[{\"colorbar\":{\"outlinewidth\":0,\"ticks\":\"\"},\"colorscale\":[[0.0,\"#0d0887\"],[0.1111111111111111,\"#46039f\"],[0.2222222222222222,\"#7201a8\"],[0.3333333333333333,\"#9c179e\"],[0.4444444444444444,\"#bd3786\"],[0.5555555555555556,\"#d8576b\"],[0.6666666666666666,\"#ed7953\"],[0.7777777777777778,\"#fb9f3a\"],[0.8888888888888888,\"#fdca26\"],[1.0,\"#f0f921\"]],\"type\":\"heatmapgl\"}],\"heatmap\":[{\"colorbar\":{\"outlinewidth\":0,\"ticks\":\"\"},\"colorscale\":[[0.0,\"#0d0887\"],[0.1111111111111111,\"#46039f\"],[0.2222222222222222,\"#7201a8\"],[0.3333333333333333,\"#9c179e\"],[0.4444444444444444,\"#bd3786\"],[0.5555555555555556,\"#d8576b\"],[0.6666666666666666,\"#ed7953\"],[0.7777777777777778,\"#fb9f3a\"],[0.8888888888888888,\"#fdca26\"],[1.0,\"#f0f921\"]],\"type\":\"heatmap\"}],\"histogram2dcontour\":[{\"colorbar\":{\"outlinewidth\":0,\"ticks\":\"\"},\"colorscale\":[[0.0,\"#0d0887\"],[0.1111111111111111,\"#46039f\"],[0.2222222222222222,\"#7201a8\"],[0.3333333333333333,\"#9c179e\"],[0.4444444444444444,\"#bd3786\"],[0.5555555555555556,\"#d8576b\"],[0.6666666666666666,\"#ed7953\"],[0.7777777777777778,\"#fb9f3a\"],[0.8888888888888888,\"#fdca26\"],[1.0,\"#f0f921\"]],\"type\":\"histogram2dcontour\"}],\"histogram2d\":[{\"colorbar\":{\"outlinewidth\":0,\"ticks\":\"\"},\"colorscale\":[[0.0,\"#0d0887\"],[0.1111111111111111,\"#46039f\"],[0.2222222222222222,\"#7201a8\"],[0.3333333333333333,\"#9c179e\"],[0.4444444444444444,\"#bd3786\"],[0.5555555555555556,\"#d8576b\"],[0.6666666666666666,\"#ed7953\"],[0.7777777777777778,\"#fb9f3a\"],[0.8888888888888888,\"#fdca26\"],[1.0,\"#f0f921\"]],\"type\":\"histogram2d\"}],\"histogram\":[{\"marker\":{\"pattern\":{\"fillmode\":\"overlay\",\"size\":10,\"solidity\":0.2}},\"type\":\"histogram\"}],\"mesh3d\":[{\"colorbar\":{\"outlinewidth\":0,\"ticks\":\"\"},\"type\":\"mesh3d\"}],\"parcoords\":[{\"line\":{\"colorbar\":{\"outlinewidth\":0,\"ticks\":\"\"}},\"type\":\"parcoords\"}],\"pie\":[{\"automargin\":true,\"type\":\"pie\"}],\"scatter3d\":[{\"line\":{\"colorbar\":{\"outlinewidth\":0,\"ticks\":\"\"}},\"marker\":{\"colorbar\":{\"outlinewidth\":0,\"ticks\":\"\"}},\"type\":\"scatter3d\"}],\"scattercarpet\":[{\"marker\":{\"colorbar\":{\"outlinewidth\":0,\"ticks\":\"\"}},\"type\":\"scattercarpet\"}],\"scattergeo\":[{\"marker\":{\"colorbar\":{\"outlinewidth\":0,\"ticks\":\"\"}},\"type\":\"scattergeo\"}],\"scattergl\":[{\"marker\":{\"colorbar\":{\"outlinewidth\":0,\"ticks\":\"\"}},\"type\":\"scattergl\"}],\"scattermapbox\":[{\"marker\":{\"colorbar\":{\"outlinewidth\":0,\"ticks\":\"\"}},\"type\":\"scattermapbox\"}],\"scatterpolargl\":[{\"marker\":{\"colorbar\":{\"outlinewidth\":0,\"ticks\":\"\"}},\"type\":\"scatterpolargl\"}],\"scatterpolar\":[{\"marker\":{\"colorbar\":{\"outlinewidth\":0,\"ticks\":\"\"}},\"type\":\"scatterpolar\"}],\"scatter\":[{\"marker\":{\"colorbar\":{\"outlinewidth\":0,\"ticks\":\"\"}},\"type\":\"scatter\"}],\"scatterternary\":[{\"marker\":{\"colorbar\":{\"outlinewidth\":0,\"ticks\":\"\"}},\"type\":\"scatterternary\"}],\"surface\":[{\"colorbar\":{\"outlinewidth\":0,\"ticks\":\"\"},\"colorscale\":[[0.0,\"#0d0887\"],[0.1111111111111111,\"#46039f\"],[0.2222222222222222,\"#7201a8\"],[0.3333333333333333,\"#9c179e\"],[0.4444444444444444,\"#bd3786\"],[0.5555555555555556,\"#d8576b\"],[0.6666666666666666,\"#ed7953\"],[0.7777777777777778,\"#fb9f3a\"],[0.8888888888888888,\"#fdca26\"],[1.0,\"#f0f921\"]],\"type\":\"surface\"}],\"table\":[{\"cells\":{\"fill\":{\"color\":\"#EBF0F8\"},\"line\":{\"color\":\"white\"}},\"header\":{\"fill\":{\"color\":\"#C8D4E3\"},\"line\":{\"color\":\"white\"}},\"type\":\"table\"}]},\"layout\":{\"annotationdefaults\":{\"arrowcolor\":\"#2a3f5f\",\"arrowhead\":0,\"arrowwidth\":1},\"autotypenumbers\":\"strict\",\"coloraxis\":{\"colorbar\":{\"outlinewidth\":0,\"ticks\":\"\"}},\"colorscale\":{\"diverging\":[[0,\"#8e0152\"],[0.1,\"#c51b7d\"],[0.2,\"#de77ae\"],[0.3,\"#f1b6da\"],[0.4,\"#fde0ef\"],[0.5,\"#f7f7f7\"],[0.6,\"#e6f5d0\"],[0.7,\"#b8e186\"],[0.8,\"#7fbc41\"],[0.9,\"#4d9221\"],[1,\"#276419\"]],\"sequential\":[[0.0,\"#0d0887\"],[0.1111111111111111,\"#46039f\"],[0.2222222222222222,\"#7201a8\"],[0.3333333333333333,\"#9c179e\"],[0.4444444444444444,\"#bd3786\"],[0.5555555555555556,\"#d8576b\"],[0.6666666666666666,\"#ed7953\"],[0.7777777777777778,\"#fb9f3a\"],[0.8888888888888888,\"#fdca26\"],[1.0,\"#f0f921\"]],\"sequentialminus\":[[0.0,\"#0d0887\"],[0.1111111111111111,\"#46039f\"],[0.2222222222222222,\"#7201a8\"],[0.3333333333333333,\"#9c179e\"],[0.4444444444444444,\"#bd3786\"],[0.5555555555555556,\"#d8576b\"],[0.6666666666666666,\"#ed7953\"],[0.7777777777777778,\"#fb9f3a\"],[0.8888888888888888,\"#fdca26\"],[1.0,\"#f0f921\"]]},\"colorway\":[\"#636efa\",\"#EF553B\",\"#00cc96\",\"#ab63fa\",\"#FFA15A\",\"#19d3f3\",\"#FF6692\",\"#B6E880\",\"#FF97FF\",\"#FECB52\"],\"font\":{\"color\":\"#2a3f5f\"},\"geo\":{\"bgcolor\":\"white\",\"lakecolor\":\"white\",\"landcolor\":\"white\",\"showlakes\":true,\"showland\":true,\"subunitcolor\":\"#C8D4E3\"},\"hoverlabel\":{\"align\":\"left\"},\"hovermode\":\"closest\",\"mapbox\":{\"style\":\"light\"},\"paper_bgcolor\":\"white\",\"plot_bgcolor\":\"white\",\"polar\":{\"angularaxis\":{\"gridcolor\":\"#EBF0F8\",\"linecolor\":\"#EBF0F8\",\"ticks\":\"\"},\"bgcolor\":\"white\",\"radialaxis\":{\"gridcolor\":\"#EBF0F8\",\"linecolor\":\"#EBF0F8\",\"ticks\":\"\"}},\"scene\":{\"xaxis\":{\"backgroundcolor\":\"white\",\"gridcolor\":\"#DFE8F3\",\"gridwidth\":2,\"linecolor\":\"#EBF0F8\",\"showbackground\":true,\"ticks\":\"\",\"zerolinecolor\":\"#EBF0F8\"},\"yaxis\":{\"backgroundcolor\":\"white\",\"gridcolor\":\"#DFE8F3\",\"gridwidth\":2,\"linecolor\":\"#EBF0F8\",\"showbackground\":true,\"ticks\":\"\",\"zerolinecolor\":\"#EBF0F8\"},\"zaxis\":{\"backgroundcolor\":\"white\",\"gridcolor\":\"#DFE8F3\",\"gridwidth\":2,\"linecolor\":\"#EBF0F8\",\"showbackground\":true,\"ticks\":\"\",\"zerolinecolor\":\"#EBF0F8\"}},\"shapedefaults\":{\"line\":{\"color\":\"#2a3f5f\"}},\"ternary\":{\"aaxis\":{\"gridcolor\":\"#DFE8F3\",\"linecolor\":\"#A2B1C6\",\"ticks\":\"\"},\"baxis\":{\"gridcolor\":\"#DFE8F3\",\"linecolor\":\"#A2B1C6\",\"ticks\":\"\"},\"bgcolor\":\"white\",\"caxis\":{\"gridcolor\":\"#DFE8F3\",\"linecolor\":\"#A2B1C6\",\"ticks\":\"\"}},\"title\":{\"x\":0.05},\"xaxis\":{\"automargin\":true,\"gridcolor\":\"#EBF0F8\",\"linecolor\":\"#EBF0F8\",\"ticks\":\"\",\"title\":{\"standoff\":15},\"zerolinecolor\":\"#EBF0F8\",\"zerolinewidth\":2},\"yaxis\":{\"automargin\":true,\"gridcolor\":\"#EBF0F8\",\"linecolor\":\"#EBF0F8\",\"ticks\":\"\",\"title\":{\"standoff\":15},\"zerolinecolor\":\"#EBF0F8\",\"zerolinewidth\":2}}},\"xaxis\":{\"anchor\":\"y\",\"domain\":[0.0,1.0],\"title\":{\"text\":\"time\"}},\"yaxis\":{\"anchor\":\"x\",\"domain\":[0.0,1.0],\"title\":{\"text\":\"average_loss\"}},\"legend\":{\"tracegroupgap\":0},\"title\":{\"text\":\"average_loss\"}},                        {\"responsive\": true}                    ).then(function(){\n",
       "                            \n",
       "var gd = document.getElementById('cb51e5ec-d50b-4366-9cca-b102290af288');\n",
       "var x = new MutationObserver(function (mutations, observer) {{\n",
       "        var display = window.getComputedStyle(gd).display;\n",
       "        if (!display || display === 'none') {{\n",
       "            console.log([gd, 'removed!']);\n",
       "            Plotly.purge(gd);\n",
       "            observer.disconnect();\n",
       "        }}\n",
       "}});\n",
       "\n",
       "// Listen for the removal of the full notebook cells\n",
       "var notebookContainer = gd.closest('#notebook-container');\n",
       "if (notebookContainer) {{\n",
       "    x.observe(notebookContainer, {childList: true});\n",
       "}}\n",
       "\n",
       "// Listen for the clearing of the current output cell\n",
       "var outputEl = gd.closest('.output');\n",
       "if (outputEl) {{\n",
       "    x.observe(outputEl, {childList: true});\n",
       "}}\n",
       "\n",
       "                        })                };                });            </script>        </div>"
      ]
     },
     "metadata": {},
     "output_type": "display_data"
    },
    {
     "data": {
      "text/html": [
       "<div>                            <div id=\"f7f999b9-650b-47cc-85c1-b619f3814829\" class=\"plotly-graph-div\" style=\"height:525px; width:100%;\"></div>            <script type=\"text/javascript\">                require([\"plotly\"], function(Plotly) {                    window.PLOTLYENV=window.PLOTLYENV || {};                                    if (document.getElementById(\"f7f999b9-650b-47cc-85c1-b619f3814829\")) {                    Plotly.newPlot(                        \"f7f999b9-650b-47cc-85c1-b619f3814829\",                        [{\"hovertemplate\":\"time=%{x}<br>average_corr=%{y}<extra></extra>\",\"legendgroup\":\"\",\"line\":{\"color\":\"#636efa\",\"dash\":\"solid\"},\"marker\":{\"symbol\":\"circle\"},\"mode\":\"lines\",\"name\":\"\",\"showlegend\":false,\"x\":[0,1,2,3,4,5,6,7,8,9,10,11,12,13,14,15,16,17,18,19,20,21,22,23,24,25,26,27,28,29,30,31,32,33,34,35,36,37,38,39,40,41,42,43,44,45,46,47,48,49,50,51,52,53,54,55,56,57,58,59,60,61,62,63,64,65,66,67,68,69,70,71,72,73,74,75,76,77,78,79,80,81,82,83,84,85,86,87,88,89,90,91,92,93,94,95,96,97,98,99,100,101,102,103,104,105,106,107,108,109,110,111,112,113,114,115,116,117,118,119,120,121,122,123,124,125,126,127,128,129,130,131,132,133,134,135,136,137,138,139,140,141,142,143,144,145,146,147,148,149,150,151,152,153,154,155,156,157,158,159,160,161,162,163,164,165,166,167,168,169,170,171,172,173,174,175,176,177,178,179,180,181,182,183,184,185,186,187,188,189,190,191,192,193,194,195,196,197,198,199,200,201,202,203,204,205,206,207,208,209,210,211,212,213,214,215,216,217,218,219,220,221,222,223,224,225,226,227,228,229,230,231,232,233,234,235,236,237,238,239,240,241,242,243,244,245,246,247,248,249,250,251,252,253,254,255,256,257,258,259,260,261,262,263,264,265,266,267,268,269,270,271,272,273,274,275,276,277,278,279,280,281,282,283,284,285,286,287,288,289,290,291,292,293,294,295,296,297,298,299,300,301,302,303,304,305,306,307,308,309,310,311,312,313,314,315,316,317,318,319,320,321,322,323,324,325,326,327,328,329,330,331,332,333,334,335,336,337,338,339,340,341,342,343,344,345,346,347,348,349,350,351,352,353,354,355,356,357,358,359,360,361,362,363,364,365,366,367,368,369,370,371,372,373,374,375,376,377,378,379,380,381,382,383,384,385,386,387,388,389,390,391,392,393,394,395,396,397,398,399,400,401,402,403,404,405,406,407,408,409,410,411,412,413,414,415,416,417,418,419,420,421,422,423,424,425,426,427,428,429,430,431,432,433,434,435,436,437,438,439,440,441,442,443,444,445,446,447,448,449,450,451,452,453,454,455,456,457,458,459,460,461,462,463,464,465,466,467,468,469,470,471,472,473,474,475,476,477,478,479,480,481,482,483,484,485,486,487,488,489,490,491,492,493,494,495,496,497,498,499,500,501,502,503,504,505,506,507,508,509,510,511,512,513,514,515,516,517,518,519,520,521,522,523,524,525,526,527,528,529,530,531,532,533,534,535,536,537,538,539,540,541,542,543,544,545,546,547,548,549,550,551,552,553,554,555,556,557,558,559,560,561,562,563,564,565,566,567,568,569,570,571,572,573,574,575,576,577,578,579,580,581,582,583,584,585,586,587,588,589,590,591,592,593,594,595,596,597,598,599,600,601,602,603,604,605,606,607,608,609,610,611,612,613,614,615,616,617,618,619,620,621,622,623,624,625,626,627,628,629,630,631,632,633,634,635,636,637,638,639,640,641,642,643,644,645,646,647,648,649,650,651,652,653,654,655,656,657,658,659,660,661,662,663,664,665,666,667,668,669,670,671,672,673,674,675,676,677,678,679,680,681,682,683,684,685,686,687,688,689,690,691,692,693,694,695,696,697,698,699,700,701,702,703,704,705,706,707,708,709,710,711,712,713,714,715,716,717,718,719,720,721,722,723,724,725,726,727,728,729,730,731,732,733,734,735,736,737,738,739,740,741,742,743,744,745,746,747,748,749,750,751,752,753,754,755,756,757,758,759,760,761,762,763,764,765,766,767,768,769,770,771,772,773,774,775,776,777,778,779,780,781,782,783,784,785,786,787,788,789,790,791,792,793,794,795,796,797,798,799,800,801,802,803,804,805,806,807,808,809,810,811,812,813,814,815,816,817,818,819,820,821,822,823,824,825,826,827,828,829,830,831,832,833,834,835,836,837,838,839,840,841,842,843,844,845,846,847,848,849,850,851,852,853,854,855,856,857,858,859,860,861,862,863,864,865,866,867,868,869,870,871,872,873,874,875,876,877,878,879,880,881,882,883,884,885,886,887,888,889,890,891,892,893,894,895,896,897,898,899,900,901,902,903,904,905,906,907,908,909,910,911,912,913,914,915,916,917,918,919,920,921,922,923,924,925,926,927,928,929,930,931,932,933,934,935,936,937,938,939,940,941,942,943,944,945,946,947,948,949,950,951,952,953,954,955,956,957,958,959,960,961,962,963,964,965,966,967,968,969,970,971,972,973,974,975,976,977,978,979,980,981,982,983,984,985,986,987,988,989,990,991,992,993,994,995,996,997,998,999,1000,1001,1002,1003,1004,1005,1006,1007,1008,1009,1010,1011,1012,1013,1014,1015,1016,1017,1018,1019,1020,1021,1022,1023,1024,1025,1026,1027,1028,1029,1030,1031,1032,1033,1034,1035,1036,1037,1038,1039,1040,1041,1042,1043,1044,1045,1046,1047,1048,1049,1050,1051,1052,1053,1054,1055,1056,1057,1058,1059,1060,1061,1062,1063,1064,1065,1066,1067,1068,1069,1070,1071,1072,1073,1074,1075,1076,1077,1078,1079,1080,1081,1082,1083,1084,1085,1086,1087,1088,1089,1090,1091,1092,1093,1094,1095,1096,1097,1098,1099,1100,1101,1102,1103,1104,1105,1106,1107,1108,1109,1110,1111,1112,1113,1114,1115,1116,1117,1118,1119,1120,1121,1122,1123,1124,1125,1126,1127,1128,1129,1130,1131,1132,1133,1134,1135,1136,1137,1138,1139,1140,1141,1142,1143,1144,1145,1146,1147,1148,1149,1150,1151,1152,1153,1154,1155,1156,1157,1158,1159,1160,1161,1162,1163,1164,1165,1166,1167,1168,1169,1170,1171,1172,1173,1174,1175,1176,1177,1178,1179,1180,1181,1182,1183,1184,1185,1186,1187,1188,1189,1190,1191,1192,1193,1194,1195,1196,1197,1198,1199,1200,1201,1202,1203,1204,1205,1206,1207,1208,1209,1210,1211,1212,1213,1214,1215,1216,1217,1218,1219,1220,1221,1222,1223,1224,1225,1226,1227,1228,1229,1230,1231,1232,1233,1234,1235,1236,1237,1238,1239,1240,1241,1242,1243,1244,1245,1246,1247,1248,1249,1250,1251,1252,1253,1254,1255,1256,1257,1258,1259,1260,1261,1262,1263,1264,1265,1266,1267,1268,1269,1270,1271,1272,1273,1274,1275,1276,1277,1278,1279,1280,1281,1282,1283,1284,1285,1286,1287,1288,1289,1290,1291,1292,1293,1294,1295,1296,1297,1298,1299,1300,1301,1302,1303,1304,1305,1306,1307,1308,1309,1310,1311,1312,1313,1314,1315,1316,1317,1318,1319,1320,1321,1322,1323,1324,1325,1326,1327,1328,1329,1330,1331,1332,1333,1334,1335,1336,1337,1338,1339,1340,1341,1342,1343,1344,1345,1346,1347,1348,1349,1350,1351,1352,1353,1354,1355,1356,1357,1358,1359,1360,1361,1362,1363,1364,1365,1366,1367,1368,1369,1370,1371,1372,1373,1374,1375,1376,1377,1378,1379,1380,1381,1382,1383,1384,1385,1386,1387,1388,1389,1390,1391,1392,1393,1394,1395,1396,1397,1398,1399,1400,1401,1402,1403,1404,1405,1406,1407,1408,1409,1410,1411,1412,1413,1414,1415,1416,1417,1418,1419,1420,1421,1422,1423,1424,1425,1426,1427,1428,1429,1430,1431,1432,1433,1434,1435,1436,1437,1438,1439,1440,1441,1442,1443,1444,1445,1446,1447,1448,1449,1450,1451,1452,1453,1454,1455,1456,1457,1458,1459,1460,1461,1462,1463,1464,1465,1466,1467,1468,1469,1470,1471,1472,1473,1474,1475,1476,1477,1478,1479,1480,1481,1482,1483,1484,1485,1486,1487,1488,1489,1490,1491,1492,1493,1494,1495,1496,1497,1498,1499],\"xaxis\":\"x\",\"y\":[0.06946483794416547,0.08270011211699112,0.08906476336931339,0.09281311881947091,0.09476667995200419,0.09741164473779071,0.09909389611776867,0.09990842845189235,0.10178594702089228,0.10356308378158989,0.10481198475130622,0.1061314802761453,0.10697698135503135,0.10785120958992567,0.10860328300151248,0.10959912662739642,0.11016645721836885,0.11048585042798864,0.1101769228426512,0.11069097471869797,0.11136239548955715,0.11176304632697279,0.11232288961894857,0.1128714039501018,0.11310759704946136,0.11352750699627609,0.1140001929302233,0.11396073929135635,0.11448256620829293,0.11465022217124839,0.11514671915705654,0.11556451218890765,0.1158526540348958,0.11620973632669221,0.11649642661101081,0.11683925308035584,0.11719647102385959,0.11746974124489781,0.11779170216249413,0.11817070453296581,0.11860239533888625,0.11890677135306557,0.11897512983424763,0.11927991473539042,0.1194911599571514,0.11989520707532794,0.11999876974426442,0.12032141705623944,0.12048407481300324,0.12065937641042004,0.12083462098483252,0.12090788751565522,0.12107340467687182,0.12135136434653795,0.12149553491200202,0.12171324712204505,0.12194528774957289,0.12208639792199927,0.12248569431087937,0.12241338144336948,0.12263546692224225,0.12279207242549664,0.12295839499137255,0.12306515010910483,0.12331503594647372,0.12329190400699237,0.12344388966399104,0.12365934216326488,0.12381147631191314,0.12414879341259093,0.124378765715948,0.12453633798688593,0.12478937577755582,0.12490893587547831,0.12503726697794657,0.12518845546654983,0.12518199543420455,0.12543657276018078,0.12553309376338725,0.1256607066993894,0.12576556307986278,0.12594401804636704,0.1259804565293201,0.12610219935441874,0.1261374161404724,0.12636793561220405,0.12645936147740644,0.12670120656710507,0.12673333589967842,0.12690404915309408,0.12717225059237938,0.12729647242777206,0.12743432437672828,0.1276085977550972,0.12776918151746247,0.12789038740971528,0.1279754360082425,0.128050608059564,0.12802271776546467,0.1279756330489687,0.12815539452327632,0.12823327756485053,0.12845761263262218,0.1285233627493036,0.12856894009124484,0.12864287691434456,0.12875500137838522,0.1289239033009987,0.12902459500762473,0.1292180346915161,0.12928097935918204,0.129319769831503,0.12953740476026082,0.12961935431062926,0.1297463963218623,0.1298390182810134,0.12984501611926724,0.12992127907448586,0.129974647632836,0.13007166167261286,0.13012846535047845,0.13024957846083796,0.13040787434962037,0.13042478807728905,0.13042549167861145,0.1303892451743513,0.13048703321493074,0.13058719306002647,0.13066795487074395,0.13071059746027308,0.1307414630480118,0.13069489310552526,0.1307091159255332,0.13087532795477058,0.13095021654683478,0.13085093563801603,0.13089150093253257,0.1309251751038216,0.13097048650032797,0.13102961790025316,0.1310065938586824,0.13107603499774428,0.13113283586009844,0.13115760601367182,0.13124101529767981,0.1313138471496526,0.13132938980481973,0.13139639724228463,0.13152165875359953,0.13157109798779015,0.13146047590100715,0.13149595992235094,0.13154138890492617,0.13157740484228791,0.13162122418473757,0.1317088796682337,0.1318575761603565,0.13191211636219397,0.13189502000040312,0.1319321890332123,0.13197040065915652,0.13204264007373462,0.13213103747190882,0.1321736994203677,0.1321917210205365,0.13222299440801322,0.1322630446111377,0.13227312950464426,0.13223780757199208,0.1323040054864332,0.13238697949785985,0.13246195199674138,0.13256427318370187,0.13263840914064134,0.13270811907827376,0.13267605088452492,0.13274342398980288,0.1327532382083693,0.1327290671376215,0.13275216228411152,0.13274720878287205,0.13273220463694124,0.1327081023322624,0.1327475239949917,0.13276952879347165,0.13282997151421083,0.13281101023922942,0.13278669317729713,0.1328881659151179,0.13296543894128882,0.1330071584283434,0.1330474941498657,0.13306582926764468,0.13309167122345547,0.13305110530367367,0.13309211306811575,0.13314432617186828,0.13320033174526635,0.1332557449686373,0.13330936581228864,0.13320755543286716,0.13322218799394703,0.13320639624167324,0.13318073523055338,0.13316071559850426,0.13318972094776907,0.13323628459246212,0.13327129252644007,0.13336762756301013,0.1334023915844953,0.1334774874913271,0.1335001205363412,0.13355047946086382,0.13363571103967486,0.13358952306586463,0.13355615202846136,0.13360216303572067,0.13363255511080782,0.13365791774360786,0.13367206129522116,0.13358681219770754,0.13352644679954395,0.13352901556162097,0.13362976020555778,0.1335895807010469,0.13367206857450464,0.13378814472593586,0.13379801175414582,0.13379050535754736,0.1337835568754729,0.1338763845363702,0.13385513385212752,0.13386056608332025,0.13384069264462922,0.13382435746004304,0.13376869571787703,0.13381335739649272,0.1338932130403093,0.13392343597047857,0.13386412212307852,0.13387504096367456,0.13397233193264418,0.13402610467620077,0.13405422330731442,0.1341167799944229,0.13414684126563126,0.1341373728671877,0.1341581309849324,0.1341973297686072,0.13418717099681593,0.13422145209931755,0.1342609272949186,0.13427282641090796,0.1342529263056168,0.1343012380225183,0.13433359392266592,0.13434603475807477,0.13438181233646324,0.13439009179006273,0.13430222945786244,0.13436890185440764,0.13435447642544912,0.1343772345474636,0.13442713457817035,0.13448775319480433,0.13448317657837763,0.13447506536049156,0.1344284001976713,0.1344809160891913,0.1344512265061761,0.1344654357915597,0.13446443963812996,0.13452160237186334,0.13452567589855757,0.13454938163474703,0.13453813011111632,0.13451896201281416,0.13454856801603152,0.13451909742648743,0.13458314487619263,0.1346037328236621,0.1345780520663255,0.13462295582615455,0.1346636933653514,0.13463445198086013,0.1346910322527166,0.1347845195524794,0.13479715700937966,0.1348079372026168,0.13481613516317906,0.13481802268429086,0.13477212585845103,0.13476152722230256,0.13473190155244674,0.13472188774081265,0.13472200290724431,0.1345053622280377,0.13453311100628357,0.13461860910141912,0.13460283806765677,0.13462249059850956,0.13461909619112422,0.13465562977388112,0.13467900764846302,0.13469722727049122,0.13472852584303224,0.13471416982007023,0.134745860669316,0.1347368415765698,0.13479006070014538,0.13481509798821678,0.134852817620708,0.13487115796194013,0.13478703395294303,0.1347683469605576,0.13479267613855925,0.13478650637756381,0.13480505356721778,0.13481004789331377,0.134807367648724,0.13482507991463236,0.13481716876967983,0.13480000300067552,0.13482621136161213,0.13487443651293435,0.13483748600206558,0.13485440869816076,0.13483675768556322,0.13490580231055063,0.13496660500985552,0.1349410837987197,0.13493801928181506,0.13500602252051394,0.13499599704000736,0.13502136260379596,0.13505018390522544,0.13508886646659515,0.1350383085777691,0.13500883117411483,0.13493677595026504,0.13495469407258778,0.13488935038240157,0.1348686593547483,0.13487079169564883,0.1349133470572875,0.13489978337739536,0.13486579972626428,0.1348369524413781,0.13480180978399742,0.13481509379097656,0.1348550781268199,0.1348482463499782,0.13483925656903925,0.13481466122789038,0.13487638298999258,0.13489044726646973,0.13482938871310157,0.13476584617171045,0.13474083358211938,0.1347109438332789,0.1347094444839182,0.13475653438209417,0.13471799234572737,0.13469007945434336,0.13472158959137948,0.134672290809781,0.13473067389713717,0.13472358182199262,0.13472685883249633,0.1346804963532473,0.134656540750849,0.13468359918091355,0.13462530983439827,0.13464449779562543,0.13461533593755776,0.13464704095085295,0.1345933583898986,0.1346278289480111,0.13459852867850425,0.13459602005463725,0.13456240639983957,0.1345433778525602,0.13451555666669893,0.1344971735929082,0.13452100841410958,0.13455163035105847,0.13455497087473822,0.13460453135154227,0.1346235765164374,0.1346380750342336,0.13461448169327792,0.1346537803449545,0.13460253022599852,0.13463398655030356,0.13459569853502612,0.13457018888704225,0.13457455796579149,0.13461933471296222,0.13467522586221614,0.1346521914153611,0.13462964284558757,0.13462218537398143,0.13467063414152208,0.134679965405355,0.13466182238746416,0.13463098893642036,0.13462098606953724,0.1345751911565476,0.13459644800599435,0.13460784889691843,0.1345968009181345,0.13459246287731544,0.1345902844005629,0.1345581491440911,0.13450944322147182,0.13449838421169347,0.13446848112972526,0.13450899736966185,0.13454168843132153,0.13448354465298587,0.13452660130656463,0.13446509438576276,0.13447162680816932,0.13442310216618167,0.1344043333871753,0.13439280412014637,0.13438289849107465,0.13437903604445867,0.13437897803990376,0.1343689396880424,0.134324601036393,0.1343099586874473,0.13420732868990162,0.134146071304809,0.13418645230576837,0.13414732671455132,0.13411474912459695,0.1340887800486723,0.13406403752512647,0.13402836870414045,0.13403022843157456,0.1339977641747841,0.13400747768643315,0.13400524085049514,0.1339628470928081,0.13397119177025907,0.13396077729915878,0.13394716326705874,0.1339854324865915,0.13400051744374883,0.13401410482982645,0.13401781550094785,0.13399526854230182,0.13399977421538095,0.13400866869821138,0.13400084059473244,0.13402414798528411,0.13403512385276078,0.1340270753544354,0.13401432431646013,0.13399140904306495,0.13401765055317072,0.13402510279053798,0.13404035253733665,0.13406074195495957,0.13407109264273698,0.1340773076102681,0.13401262686828014,0.13399872007025124,0.13397744807770584,0.13397245781956538,0.13394579801927495,0.13395658787251583,0.13399671254590909,0.13398132984195346,0.13397702739414669,0.1339900809650145,0.1340312309952026,0.13402942077156751,0.1340302742998554,0.1340074100642114,0.13400916008260294,0.13400758575155475,0.13399930238706712,0.13403658337662144,0.1340220454757048,0.13395125007534112,0.13392965788555689,0.13396000636675068,0.13398058010626163,0.13395760109169935,0.13396817960089863,0.13392595251587358,0.133947927626755,0.13395183277199946,0.13389937152592687,0.13391489376477206,0.1339280329006135,0.1338774697214437,0.1339038500902005,0.1339128387579295,0.13390083108722714,0.13389093761948026,0.13388386678673353,0.13385771953174483,0.13387386363167447,0.133852104596662,0.13385180434501234,0.13383131921324193,0.13382737020501195,0.13380788004387179,0.1338111521294265,0.1338053232129301,0.13380061514322308,0.13377941933384194,0.13375146054718057,0.13371280924952628,0.13374223821356374,0.13374721335183254,0.13374503271772417,0.13374004478552576,0.13376276695485223,0.13377180708088562,0.13377855782739376,0.13378622571001358,0.13371916263465966,0.13371908102161936,0.13362491788127884,0.13363029121314196,0.13362189571337857,0.13362021835890478,0.1335953857399034,0.13358127178041163,0.13356738208199587,0.13354575889106268,0.1335528263382107,0.13355665575690517,0.1335438091825715,0.13352980243643736,0.13349557243556923,0.1334443180312171,0.1334916912900702,0.13345425708307032,0.13344474444346405,0.13343261389582967,0.13342425068309616,0.13342328736081652,0.13342923853634678,0.13339140525893453,0.13341156926561987,0.1334311308904313,0.13341827406043727,0.13338555010141873,0.1333492428444027,0.13335565150040662,0.13338434182690195,0.1333771583825734,0.133341474386191,0.13334377898978061,0.1332982860015008,0.13329552866839425,0.13330643254695995,0.13332037355480927,0.13333511208181092,0.13328720293186652,0.13328702322003388,0.13325856676846817,0.13324605605412204,0.1332191588690985,0.13324955831624435,0.13325922844005308,0.1332487402832228,0.13319403682584663,0.13317092090653812,0.13320323014967225,0.13323245782795545,0.13323217531005097,0.1332435992901479,0.13330705321107011,0.13328418816223317,0.13330340793672538,0.13330213019776121,0.1333066944792797,0.1333182387025641,0.1332534296177664,0.1332702065224532,0.13322961608422992,0.13323405174775643,0.13323162733601543,0.13321700227040703,0.13320534757530955,0.13319330373625243,0.1332398218319058,0.1332118416530279,0.13318007127167988,0.13318392564396053,0.13318417707411495,0.13317279892998662,0.1331741033334609,0.13314900876022076,0.13314890432265825,0.13312438776734278,0.1331226210950104,0.13313082947238428,0.13308617857597926,0.13307366313585728,0.13306252491129492,0.1330722900658229,0.13308214226903062,0.13307963870865464,0.13303377695423205,0.13300952168746238,0.1329907131461781,0.1330091517038518,0.1329987748072709,0.13298269576216568,0.1329743687187951,0.1329902692790988,0.1330164808574994,0.13298726931652255,0.1329108578506761,0.13288789901750223,0.13285033049318656,0.1328468324272995,0.1328143186397086,0.1328217661954792,0.1327894990346786,0.13281536468448374,0.13277891384752719,0.13281648532570245,0.1327877613857448,0.13279731499540987,0.13278993005109324,0.13279274063874227,0.13276155115187313,0.13276783069759782,0.13276106337557567,0.13275433593795563,0.13278063499650825,0.13276061971188693,0.13270864700604007,0.13262547155322257,0.13258890697650708,0.13254757800648975,0.13255367415554425,0.1325406600166706,0.13252017258695514,0.13255639853857307,0.1325165012467048,0.1325111943586153,0.1325332756072771,0.13253027741145756,0.13250433232379447,0.13249483904311987,0.1324752469793494,0.13251674608748779,0.1325259959125319,0.13251810319253382,0.13252004745664317,0.13252172448744481,0.13249240037094406,0.13248164487220007,0.13252302619330208,0.1325152348705952,0.1325075833188334,0.13253277533452856,0.1325027746813436,0.13249427766833577,0.13251269986011668,0.13249812571690195,0.1325073911056003,0.13253841882217066,0.13253245726392626,0.13254002300728818,0.13252589239802576,0.13249388110213464,0.13251704411867105,0.1325311825576692,0.1325034078763472,0.1324863691844802,0.13247279009222335,0.13248848492758744,0.1324767803959786,0.13247596326501626,0.13247957422313467,0.13250199642326063,0.13248569651736813,0.13246807492264373,0.13246820563136855,0.1324595990946613,0.1324543786401658,0.13241517716795276,0.13241106586504628,0.13240379129380458,0.13240286291750922,0.13241995284621982,0.13242947968524693,0.13241828776142445,0.13240875905586127,0.13239304572901373,0.13237656845353954,0.13236357057142656,0.13238244960861767,0.1324196110754678,0.1324304059715599,0.132386256194357,0.13239882060922295,0.13235802412664838,0.13234390957726716,0.13233331087643627,0.1323354150568224,0.13232907988212994,0.13233329423337348,0.13232794740269507,0.1323469439031077,0.13236100423012193,0.13235949895702853,0.13237327111889524,0.13237267742136472,0.1323654643666276,0.1323395514333136,0.1323250357335204,0.13231887850311827,0.13231502971379522,0.13230753157055336,0.13232444858004505,0.13230977864753007,0.13232560463265436,0.13231425035769923,0.13228260409619383,0.1322594592239959,0.13228090866954356,0.13223167919359863,0.13221989466700107,0.13222878950364128,0.1322212910287345,0.1322195554552152,0.13220459123518497,0.13220502225352565,0.1322222082752565,0.1322208875690316,0.1322202922308953,0.13221954997891705,0.13219426566286308,0.13219190213975193,0.13217758159206466,0.13218935934230944,0.13218693646711396,0.13214412904358613,0.13214911988440065,0.1321453144309803,0.13211342516702912,0.13210367015484878,0.13211239433277505,0.13212664661882076,0.13213055225352252,0.13215155772730677,0.1321457909602789,0.1321500374905123,0.1321519191046524,0.13215382692041935,0.13214616536241844,0.13213573928983655,0.13213195515710147,0.1321443815965982,0.1321156120183914,0.13210251772222803,0.13208042775718173,0.13209858026670063,0.1320315223411871,0.13201444116164512,0.13194695297162018,0.13194874320494257,0.13191773894226685,0.13188084888511858,0.1318812167478799,0.131875348875022,0.13187522556986478,0.1318630121856283,0.13185489155417585,0.1318452503114945,0.13183944939312803,0.1318335094680642,0.13182469710645112,0.13179091407772592,0.1317580815653461,0.1317476316061727,0.13171472620552663,0.1317040948148561,0.1317206649013194,0.13171748429669589,0.13172811455637132,0.13173199673560448,0.1317655952682366,0.1317449628784724,0.13175138112333468,0.13177678028709766,0.13178566309159476,0.13178988976958772,0.1317877102999247,0.1318450945307687,0.13188219170316096,0.13186898885696371,0.13187396671364376,0.13190407651168276,0.13190274355167358,0.13188053672444464,0.13190937504115022,0.13192292597573185,0.1319317414334384,0.13195231571873284,0.13192589982642486,0.13191796758419227,0.13191687728755505,0.13188108087515155,0.13180091338970884,0.13174905602631895,0.1317395346333935,0.13174435841956053,0.13173458926799586,0.13168625360329295,0.13167937263148294,0.13165576145404886,0.131652505447804,0.13165065210301963,0.13164878852865797,0.13162157750865763,0.1316267469212265,0.13161708950801063,0.13161163179215066,0.13158175579593068,0.13156169999456924,0.13155137105497922,0.13151194551260612,0.1314885202020439,0.13148370612783583,0.1314579860551817,0.13143996738954433,0.1314435156065009,0.13142458879822766,0.13143966493046846,0.13143785697613544,0.13145175863883343,0.1314649669735154,0.13146918140754402,0.13145630728695795,0.13145873993285156,0.13144703308702496,0.13144642194869602,0.1314508318253659,0.13142983891756105,0.1313729648076955,0.13134756042202209,0.1313818049679058,0.1313815869792428,0.13135395055314755,0.1313574535572959,0.13133859970171624,0.1313229747931076,0.13130176776607363,0.13133119385249314,0.13132018395768313,0.1313086196696475,0.1313204646623123,0.13128033338832548,0.13125049728141908,0.13125141468498275,0.13124302234621335,0.1312454731749982,0.13123934474383886,0.13119928645333617,0.13119009540509757,0.13117853715775615,0.1312000351271257,0.13120629238513612,0.13118412420472852,0.13116239759738896,0.13115544423227488,0.13114095674931772,0.13113233285796086,0.1311145737037332,0.1311111039024334,0.13106161521316753,0.13104922943426642,0.1310677312255598,0.1310947947899666,0.13109304119142856,0.13108466519936232,0.13108580281411011,0.13109215517382528,0.13112067249705942,0.13111697398259248,0.1310990521161131,0.13107201109591543,0.13107209035358314,0.13108539046853188,0.13110085082373826,0.13108284423438227,0.13109433550700525,0.1310863679762645,0.13108170854447956,0.1310962656938725,0.13110817314480588,0.13109116508921437,0.1311097884708445,0.13107257365287767,0.13107327655808407,0.13106080203642517,0.131056675033645,0.13106133268128156,0.13106099792437567,0.13105146984930702,0.13104549999382833,0.13105315194726314,0.1310678844972855,0.1310572620891591,0.13105836164712864,0.1310549432149841,0.13099492713910815,0.13099183772257783,0.1309835060973729,0.13096015603004976,0.1309437093964194,0.13095549064641293,0.1309020493984325,0.13091929476972966,0.1309398679781428,0.13094210377151216,0.13095751676911166,0.13093164815932862,0.13090396621898123,0.13091110445968335,0.13090843034906036,0.13090493308763856,0.13089796467927683,0.13090606559177237,0.130887490525921,0.13089240832315788,0.13088326247997156,0.13087597947245055,0.13089390661164008,0.13087407945358548,0.1308716133735334,0.13084893986518775,0.1308481600415341,0.13084808931971237,0.13082900812938125,0.13082483315625018,0.13083023484703674,0.13080396494655536,0.1307215356483217,0.1307524961769035,0.13075426910465843,0.1307394809202837,0.13073960806844437,0.13073645146737778,0.1307403339793493,0.13075802787264332,0.13074902832337854,0.13075725868673366,0.13074901952700546,0.130754008751436,0.13076623892711386,0.13077477876710134,0.13078389163557871,0.13078982086616914,0.13078187090800086,0.13078293487470333,0.130768969479846,0.13077199888552332,0.1307220114910826,0.13070212861569536,0.13071128446294478,0.13070639802983194,0.13067633479326862,0.13068265001231705,0.13068524162673406,0.13067252662733925,0.13067960832184128,0.13067869160994333,0.13066266748039407,0.1306592307775542,0.13066073455180024,0.1306539235961718,0.13066362087612385,0.1306752103585889,0.13067362519653283,0.1306374375985237,0.13059075856897442,0.13060665872373706,0.13055933341675097,0.1305505069220933,0.13054992051894793,0.13053613445922171,0.13051646107367887,0.13049554732656926,0.13049819128941445,0.13050006986509394,0.13046079472182773,0.13046974295370745,0.13046685363086427,0.13047370767552152,0.1304422029857907,0.13045624593412003,0.13047665412797202,0.13047203561872733,0.13047288739661203,0.13047550926229348,0.13048238356832187,0.13046770111569822,0.13046319450313498,0.1304433838874381,0.1304398905704527,0.13042801296358283,0.13044469110790996,0.13043694137184952,0.13042812853677552,0.1304053274688099,0.1304191898252048,0.1304376212943889,0.13042969448795028,0.13039896454621508,0.13038433733491375,0.1303818297837504,0.13036544988757842,0.13034324158589067,0.13035296037104147,0.13035219511083673,0.13035174047384007,0.13036244830935112,0.1303422663426433,0.130341980875782,0.13032188957100121,0.13030964911960033,0.13028885748084895,0.13027066344908983,0.13025167674497057,0.13020836921517198,0.1302077198521941,0.13016994079956018,0.13014995352709452,0.13013750129778184,0.1301414820731035,0.1301364819454734,0.13012588192415145,0.1301102279252554,0.1301411018197435,0.13013588617259308,0.1301427155431067,0.1301446017250673,0.13012607425564007,0.13012152890905976,0.13010101109630057,0.130135691817016,0.13011982706176567,0.13010507768222204,0.13010704669221046,0.13008988497441507,0.13007742262565444,0.13007316391799953,0.13007911360919483,0.13009824829400995,0.13008657965908288,0.13007308734190787,0.13006520170771035,0.13006797345777174,0.1300600529730892,0.1300604993951737,0.13004519880144969,0.13001660655752958,0.1300346653110557,0.1300139090288867,0.1300030902662166,0.13000853235228413,0.1299900011323588,0.12998580263335854,0.12993410872745476,0.12991872496334028,0.12992458370936952,0.12991625438781268,0.12991311727939545,0.12991740930980117,0.12992821831991774,0.12994388034234183,0.12993482545003263,0.1298812683697158,0.12987314334220817,0.12989740836406427,0.12988693875891638,0.12987525282304968,0.12985298527281078,0.12985634062268342,0.12982850772244428,0.1298017146615987,0.12979978852730087,0.12977475522802448,0.12979198294587774,0.12978099867038734,0.12975500254315836,0.12971637136796837,0.1296914946226603,0.12969326308325216,0.12969472329799894,0.1296828165665772,0.12967881466384346,0.12967062817117392,0.12966068502703285,0.12965201906031393,0.1296467064032678,0.12964527616307867,0.12964440179347964,0.12964384860736589,0.12964191658598226,0.12962924762541017,0.12962161179591575,0.12960037984839695,0.12960398055675304,0.12959284101415633,0.12960042109645076,0.12959337613554942,0.1296185144834457,0.1296211336395355,0.12963695115474558,0.12963962326190703,0.1296446381655636,0.12965634626206074,0.12965264842419852,0.1296639369729793,0.12965224793907673,0.1296502998234292,0.12963299675086543,0.12964451079923628,0.12962321138796162,0.12962389837486418,0.12963638331279634,0.12964790962102266,0.12965978715305723,0.12967817235158585,0.1296733114451829,0.12965963715317097,0.12962306900073153,0.12962867778080361,0.1296339829173792,0.12963192143239843,0.12963184105764533,0.12962982956342667,0.12961949781681759,0.12965100781440173,0.1296248258554133,0.129619758729024,0.12961323488628662,0.12960806308053657,0.12960165989371641,0.12959189942008437,0.12958032778901057,0.12958945726037435,0.12959375134493645,0.12957649322673911,0.12955912694599309,0.1295487316819846,0.1295513926504877,0.12954166777834303,0.12950651103389837,0.12944823322506332,0.12944814686208753,0.1294274744325535,0.12942395777136126,0.12940335194071692,0.1294100886133103,0.12939772160978222,0.12939411047059243,0.12938814543573562,0.12938338420920173,0.129385939197706,0.1293753117159115,0.12938219869865658,0.1293638964859662,0.1293752754695383,0.12937070287731472,0.12937991948382477,0.12938341239636747,0.1293844335273411,0.12938152614704618,0.12938652904485595,0.12938345942733046,0.12938725947816765,0.12939272618215095,0.12939587292056673,0.12937729406452497,0.1293568838074222,0.12935099972691882,0.1293515212908795,0.12935587678573915,0.12934547689648648,0.12935073154038051,0.12937446324593557,0.12937327151015415,0.12938246981973847,0.12939807074713797,0.1293908832073766,0.12939452455783856,0.12939586659331057,0.12938782991496517,0.12938217075926145,0.12936801076838012,0.12933971252766327,0.1293150544236071,0.12929358880938374,0.12928667095841578,0.12928772571673824,0.12927042540084416,0.12926703841295653,0.12927651611412164,0.12926563411721664,0.12926458800755644,0.1292680020903219,0.12926595047244044,0.1292682436941706,0.12924362016703575,0.12923289355085787,0.12923634360028763,0.1292311440065824,0.12920928762815617,0.12918540891659033,0.12916793238461066,0.12918183305376324,0.1291963586821824,0.12920440062090738,0.1291929714685633,0.12919362862128514,0.12918809538428774,0.12918755277668342,0.12919964838467463,0.12921285850896835,0.12920728110222734,0.12919357184197508,0.12918110150776702,0.12917774131185306,0.1291840181354844,0.12916868070945936,0.1291747090158845,0.12917967945477704,0.12917645318167287,0.1291512649047027,0.12914648718721491,0.12912049987578128,0.12913147831118305,0.12913723965010698,0.12914850781973872,0.1291485122401888,0.12914201348693793,0.12912363196238325,0.1290985085392735,0.12908283119894148,0.12906722521151076,0.12903359257950758,0.1290289603717554,0.12898930079623278,0.12897548196158945,0.12893227079574482,0.12893276909993573,0.1289234600880117,0.1289700397424864,0.12894589593673592,0.12893060230993678,0.1289383871473762,0.12895900779836234,0.12894820023391906,0.12895623737987813,0.12895484517664518,0.12893541392993363,0.1289058075793521,0.12889773553630726,0.12888035045980992,0.12884294056283166,0.1288067327034876,0.1287968678732933,0.12879558977044706,0.12877968592458888,0.12875328632460542,0.12875704112742337,0.12878542241096483,0.12876460766842765,0.12874291213396472,0.12875333495307767,0.12875012247235143,0.12871459741126462,0.12871067395353614,0.12873085949561322,0.12872818590535284,0.12872551167008045,0.12875792962850796,0.1287301951145029,0.12871553594207433,0.12871811180695342,0.12872776967258906,0.12871900295880606,0.1286966747178435,0.12868764173242447,0.12867378511424915,0.12868619196793313,0.12865223297814132,0.12863376119359204,0.12861876105678016,0.12861515592442552,0.12860166246709298,0.12856401423206582,0.12853870520393004,0.12853154396821714,0.12852532611055822,0.1285219789854159,0.12851151473686875,0.1285100436612358,0.12849867246718277,0.12850462446582891,0.1285002382743416,0.1284989891389591,0.1285006846905022,0.12850188750665045,0.1284704400147695,0.12845211046691252,0.12843254522236694,0.1284270206999436,0.12843570433147627,0.12839686163237932,0.12840087005619977,0.12838564643846623,0.12838950129690477,0.1283808800680789,0.12837679488863907,0.1283818066417772,0.12837533588222222,0.12836133792854584,0.12834087537677397,0.12832427948983516,0.12832338135601382,0.12831946589383195,0.1282841158997131,0.12824434370411822,0.12822911865430675,0.12824064128624985,0.12819110812641948,0.1281844220548801,0.12821902930906837,0.12820645996128555,0.12821038732421405,0.12819670616261444,0.12818715588259838,0.12818508624629973,0.12817034289122253,0.12812885921307499,0.12811277570176247,0.12810724050719163,0.12809351205801828,0.12809711473581567,0.1280782292227076,0.12808366515151356,0.12807491306891558,0.12808152174383772,0.12809017610934206,0.1280956311960413,0.12810459362222384,0.12813675019985832,0.1281185038181611,0.1281069481930535,0.1281064055640392,0.12812658223787113,0.12812106217304095,0.12811482543629657,0.12810190532309643,0.12810142603116242,0.12811807572718134,0.12807994884913393,0.12807076065647685,0.12805703259404294,0.12806342936205614,0.12806865371337905,0.12806693822734797,0.12804254323185615,0.12803262645284516,0.12807539074913415,0.12807461218827354,0.12808719558624912,0.1281122411169299,0.12811771398748095,0.12811699433960405,0.12811546271475466,0.12813331417293158,0.1281287746897158,0.1281256411741058,0.12812863668164048,0.12813646087558922,0.1281305036309108,0.12810928227816726,0.1281156312292469,0.1281229348932615,0.12812610548277795,0.1281165351234068,0.12812397946473797,0.12810939867090176,0.12812738543193303,0.12811098675109173,0.12810352387195345,0.12813470336967453,0.12812286624959218,0.1281254682908637,0.1281052901811424,0.12809965713209565,0.1280947027641533,0.12808501217852572,0.12808668293280903,0.12808102450991385,0.12805512029284805,0.12804290965462023,0.1280247083621266,0.12802272271355533,0.12799098278458096,0.1279705173527407,0.12797450182096556,0.1279636747859389,0.12794846542052235,0.1279403041220069,0.12794762235737042,0.12794570504368288,0.1279513691026674,0.12794591840660913,0.12793640102107015,0.12793285360064563,0.12792643387286015,0.1279296502195365,0.12793091821744382,0.12793466068809764,0.12793050602454276,0.1279471956268884,0.1279445066864489,0.1279542145915133,0.12792224091777876,0.127920204524676,0.12789771559632376,0.1278949006933216,0.12789160329919555,0.12790329301253123,0.12786751640513835,0.12783963535035908,0.12784486843554174,0.12785521244174458,0.12784516275966534,0.1278416192838439,0.12782756035478565,0.1278216654435979,0.12784896715523236,0.12785031378920905,0.12784934626359065,0.12782381736413523,0.12782140789860544,0.1278009369138575,0.12780854570011865,0.12782379408891145,0.12781040566275054,0.12781003605745223,0.12781053353791838,0.12778985173219232,0.1277630160370718,0.1277642452358696,0.12776961856816427,0.12775934511455844,0.12775506998066077,0.12776561614445145,0.12775817913197626,0.12774054987341338,0.1277287452789865,0.12772854050502092,0.12771794295312797,0.12772594553530192,0.12773797302757958,0.12772313978670594,0.12770077968010551,0.1276892460025153,0.12764777480638573,0.12766184043352752,0.1276510473659917,0.12764561778088274,0.12766006762608303,0.12768587061733644,0.12768499554694773,0.12768506896835558,0.12771063731445959,0.12771474907088828,0.12769916525427422,0.1276949314475104,0.12769394231982162,0.1277026794256708,0.127687844606264,0.1276907626835264,0.12768845307478,0.1276791664226699,0.1276757724572633,0.1276753782935745,0.1276802228048646,0.12768439990351796],\"yaxis\":\"y\",\"type\":\"scattergl\"}],                        {\"template\":{\"data\":{\"barpolar\":[{\"marker\":{\"line\":{\"color\":\"white\",\"width\":0.5},\"pattern\":{\"fillmode\":\"overlay\",\"size\":10,\"solidity\":0.2}},\"type\":\"barpolar\"}],\"bar\":[{\"error_x\":{\"color\":\"#2a3f5f\"},\"error_y\":{\"color\":\"#2a3f5f\"},\"marker\":{\"line\":{\"color\":\"white\",\"width\":0.5},\"pattern\":{\"fillmode\":\"overlay\",\"size\":10,\"solidity\":0.2}},\"type\":\"bar\"}],\"carpet\":[{\"aaxis\":{\"endlinecolor\":\"#2a3f5f\",\"gridcolor\":\"#C8D4E3\",\"linecolor\":\"#C8D4E3\",\"minorgridcolor\":\"#C8D4E3\",\"startlinecolor\":\"#2a3f5f\"},\"baxis\":{\"endlinecolor\":\"#2a3f5f\",\"gridcolor\":\"#C8D4E3\",\"linecolor\":\"#C8D4E3\",\"minorgridcolor\":\"#C8D4E3\",\"startlinecolor\":\"#2a3f5f\"},\"type\":\"carpet\"}],\"choropleth\":[{\"colorbar\":{\"outlinewidth\":0,\"ticks\":\"\"},\"type\":\"choropleth\"}],\"contourcarpet\":[{\"colorbar\":{\"outlinewidth\":0,\"ticks\":\"\"},\"type\":\"contourcarpet\"}],\"contour\":[{\"colorbar\":{\"outlinewidth\":0,\"ticks\":\"\"},\"colorscale\":[[0.0,\"#0d0887\"],[0.1111111111111111,\"#46039f\"],[0.2222222222222222,\"#7201a8\"],[0.3333333333333333,\"#9c179e\"],[0.4444444444444444,\"#bd3786\"],[0.5555555555555556,\"#d8576b\"],[0.6666666666666666,\"#ed7953\"],[0.7777777777777778,\"#fb9f3a\"],[0.8888888888888888,\"#fdca26\"],[1.0,\"#f0f921\"]],\"type\":\"contour\"}],\"heatmapgl\":[{\"colorbar\":{\"outlinewidth\":0,\"ticks\":\"\"},\"colorscale\":[[0.0,\"#0d0887\"],[0.1111111111111111,\"#46039f\"],[0.2222222222222222,\"#7201a8\"],[0.3333333333333333,\"#9c179e\"],[0.4444444444444444,\"#bd3786\"],[0.5555555555555556,\"#d8576b\"],[0.6666666666666666,\"#ed7953\"],[0.7777777777777778,\"#fb9f3a\"],[0.8888888888888888,\"#fdca26\"],[1.0,\"#f0f921\"]],\"type\":\"heatmapgl\"}],\"heatmap\":[{\"colorbar\":{\"outlinewidth\":0,\"ticks\":\"\"},\"colorscale\":[[0.0,\"#0d0887\"],[0.1111111111111111,\"#46039f\"],[0.2222222222222222,\"#7201a8\"],[0.3333333333333333,\"#9c179e\"],[0.4444444444444444,\"#bd3786\"],[0.5555555555555556,\"#d8576b\"],[0.6666666666666666,\"#ed7953\"],[0.7777777777777778,\"#fb9f3a\"],[0.8888888888888888,\"#fdca26\"],[1.0,\"#f0f921\"]],\"type\":\"heatmap\"}],\"histogram2dcontour\":[{\"colorbar\":{\"outlinewidth\":0,\"ticks\":\"\"},\"colorscale\":[[0.0,\"#0d0887\"],[0.1111111111111111,\"#46039f\"],[0.2222222222222222,\"#7201a8\"],[0.3333333333333333,\"#9c179e\"],[0.4444444444444444,\"#bd3786\"],[0.5555555555555556,\"#d8576b\"],[0.6666666666666666,\"#ed7953\"],[0.7777777777777778,\"#fb9f3a\"],[0.8888888888888888,\"#fdca26\"],[1.0,\"#f0f921\"]],\"type\":\"histogram2dcontour\"}],\"histogram2d\":[{\"colorbar\":{\"outlinewidth\":0,\"ticks\":\"\"},\"colorscale\":[[0.0,\"#0d0887\"],[0.1111111111111111,\"#46039f\"],[0.2222222222222222,\"#7201a8\"],[0.3333333333333333,\"#9c179e\"],[0.4444444444444444,\"#bd3786\"],[0.5555555555555556,\"#d8576b\"],[0.6666666666666666,\"#ed7953\"],[0.7777777777777778,\"#fb9f3a\"],[0.8888888888888888,\"#fdca26\"],[1.0,\"#f0f921\"]],\"type\":\"histogram2d\"}],\"histogram\":[{\"marker\":{\"pattern\":{\"fillmode\":\"overlay\",\"size\":10,\"solidity\":0.2}},\"type\":\"histogram\"}],\"mesh3d\":[{\"colorbar\":{\"outlinewidth\":0,\"ticks\":\"\"},\"type\":\"mesh3d\"}],\"parcoords\":[{\"line\":{\"colorbar\":{\"outlinewidth\":0,\"ticks\":\"\"}},\"type\":\"parcoords\"}],\"pie\":[{\"automargin\":true,\"type\":\"pie\"}],\"scatter3d\":[{\"line\":{\"colorbar\":{\"outlinewidth\":0,\"ticks\":\"\"}},\"marker\":{\"colorbar\":{\"outlinewidth\":0,\"ticks\":\"\"}},\"type\":\"scatter3d\"}],\"scattercarpet\":[{\"marker\":{\"colorbar\":{\"outlinewidth\":0,\"ticks\":\"\"}},\"type\":\"scattercarpet\"}],\"scattergeo\":[{\"marker\":{\"colorbar\":{\"outlinewidth\":0,\"ticks\":\"\"}},\"type\":\"scattergeo\"}],\"scattergl\":[{\"marker\":{\"colorbar\":{\"outlinewidth\":0,\"ticks\":\"\"}},\"type\":\"scattergl\"}],\"scattermapbox\":[{\"marker\":{\"colorbar\":{\"outlinewidth\":0,\"ticks\":\"\"}},\"type\":\"scattermapbox\"}],\"scatterpolargl\":[{\"marker\":{\"colorbar\":{\"outlinewidth\":0,\"ticks\":\"\"}},\"type\":\"scatterpolargl\"}],\"scatterpolar\":[{\"marker\":{\"colorbar\":{\"outlinewidth\":0,\"ticks\":\"\"}},\"type\":\"scatterpolar\"}],\"scatter\":[{\"marker\":{\"colorbar\":{\"outlinewidth\":0,\"ticks\":\"\"}},\"type\":\"scatter\"}],\"scatterternary\":[{\"marker\":{\"colorbar\":{\"outlinewidth\":0,\"ticks\":\"\"}},\"type\":\"scatterternary\"}],\"surface\":[{\"colorbar\":{\"outlinewidth\":0,\"ticks\":\"\"},\"colorscale\":[[0.0,\"#0d0887\"],[0.1111111111111111,\"#46039f\"],[0.2222222222222222,\"#7201a8\"],[0.3333333333333333,\"#9c179e\"],[0.4444444444444444,\"#bd3786\"],[0.5555555555555556,\"#d8576b\"],[0.6666666666666666,\"#ed7953\"],[0.7777777777777778,\"#fb9f3a\"],[0.8888888888888888,\"#fdca26\"],[1.0,\"#f0f921\"]],\"type\":\"surface\"}],\"table\":[{\"cells\":{\"fill\":{\"color\":\"#EBF0F8\"},\"line\":{\"color\":\"white\"}},\"header\":{\"fill\":{\"color\":\"#C8D4E3\"},\"line\":{\"color\":\"white\"}},\"type\":\"table\"}]},\"layout\":{\"annotationdefaults\":{\"arrowcolor\":\"#2a3f5f\",\"arrowhead\":0,\"arrowwidth\":1},\"autotypenumbers\":\"strict\",\"coloraxis\":{\"colorbar\":{\"outlinewidth\":0,\"ticks\":\"\"}},\"colorscale\":{\"diverging\":[[0,\"#8e0152\"],[0.1,\"#c51b7d\"],[0.2,\"#de77ae\"],[0.3,\"#f1b6da\"],[0.4,\"#fde0ef\"],[0.5,\"#f7f7f7\"],[0.6,\"#e6f5d0\"],[0.7,\"#b8e186\"],[0.8,\"#7fbc41\"],[0.9,\"#4d9221\"],[1,\"#276419\"]],\"sequential\":[[0.0,\"#0d0887\"],[0.1111111111111111,\"#46039f\"],[0.2222222222222222,\"#7201a8\"],[0.3333333333333333,\"#9c179e\"],[0.4444444444444444,\"#bd3786\"],[0.5555555555555556,\"#d8576b\"],[0.6666666666666666,\"#ed7953\"],[0.7777777777777778,\"#fb9f3a\"],[0.8888888888888888,\"#fdca26\"],[1.0,\"#f0f921\"]],\"sequentialminus\":[[0.0,\"#0d0887\"],[0.1111111111111111,\"#46039f\"],[0.2222222222222222,\"#7201a8\"],[0.3333333333333333,\"#9c179e\"],[0.4444444444444444,\"#bd3786\"],[0.5555555555555556,\"#d8576b\"],[0.6666666666666666,\"#ed7953\"],[0.7777777777777778,\"#fb9f3a\"],[0.8888888888888888,\"#fdca26\"],[1.0,\"#f0f921\"]]},\"colorway\":[\"#636efa\",\"#EF553B\",\"#00cc96\",\"#ab63fa\",\"#FFA15A\",\"#19d3f3\",\"#FF6692\",\"#B6E880\",\"#FF97FF\",\"#FECB52\"],\"font\":{\"color\":\"#2a3f5f\"},\"geo\":{\"bgcolor\":\"white\",\"lakecolor\":\"white\",\"landcolor\":\"white\",\"showlakes\":true,\"showland\":true,\"subunitcolor\":\"#C8D4E3\"},\"hoverlabel\":{\"align\":\"left\"},\"hovermode\":\"closest\",\"mapbox\":{\"style\":\"light\"},\"paper_bgcolor\":\"white\",\"plot_bgcolor\":\"white\",\"polar\":{\"angularaxis\":{\"gridcolor\":\"#EBF0F8\",\"linecolor\":\"#EBF0F8\",\"ticks\":\"\"},\"bgcolor\":\"white\",\"radialaxis\":{\"gridcolor\":\"#EBF0F8\",\"linecolor\":\"#EBF0F8\",\"ticks\":\"\"}},\"scene\":{\"xaxis\":{\"backgroundcolor\":\"white\",\"gridcolor\":\"#DFE8F3\",\"gridwidth\":2,\"linecolor\":\"#EBF0F8\",\"showbackground\":true,\"ticks\":\"\",\"zerolinecolor\":\"#EBF0F8\"},\"yaxis\":{\"backgroundcolor\":\"white\",\"gridcolor\":\"#DFE8F3\",\"gridwidth\":2,\"linecolor\":\"#EBF0F8\",\"showbackground\":true,\"ticks\":\"\",\"zerolinecolor\":\"#EBF0F8\"},\"zaxis\":{\"backgroundcolor\":\"white\",\"gridcolor\":\"#DFE8F3\",\"gridwidth\":2,\"linecolor\":\"#EBF0F8\",\"showbackground\":true,\"ticks\":\"\",\"zerolinecolor\":\"#EBF0F8\"}},\"shapedefaults\":{\"line\":{\"color\":\"#2a3f5f\"}},\"ternary\":{\"aaxis\":{\"gridcolor\":\"#DFE8F3\",\"linecolor\":\"#A2B1C6\",\"ticks\":\"\"},\"baxis\":{\"gridcolor\":\"#DFE8F3\",\"linecolor\":\"#A2B1C6\",\"ticks\":\"\"},\"bgcolor\":\"white\",\"caxis\":{\"gridcolor\":\"#DFE8F3\",\"linecolor\":\"#A2B1C6\",\"ticks\":\"\"}},\"title\":{\"x\":0.05},\"xaxis\":{\"automargin\":true,\"gridcolor\":\"#EBF0F8\",\"linecolor\":\"#EBF0F8\",\"ticks\":\"\",\"title\":{\"standoff\":15},\"zerolinecolor\":\"#EBF0F8\",\"zerolinewidth\":2},\"yaxis\":{\"automargin\":true,\"gridcolor\":\"#EBF0F8\",\"linecolor\":\"#EBF0F8\",\"ticks\":\"\",\"title\":{\"standoff\":15},\"zerolinecolor\":\"#EBF0F8\",\"zerolinewidth\":2}}},\"xaxis\":{\"anchor\":\"y\",\"domain\":[0.0,1.0],\"title\":{\"text\":\"time\"}},\"yaxis\":{\"anchor\":\"x\",\"domain\":[0.0,1.0],\"title\":{\"text\":\"average_corr\"}},\"legend\":{\"tracegroupgap\":0},\"title\":{\"text\":\"average_corr\"}},                        {\"responsive\": true}                    ).then(function(){\n",
       "                            \n",
       "var gd = document.getElementById('f7f999b9-650b-47cc-85c1-b619f3814829');\n",
       "var x = new MutationObserver(function (mutations, observer) {{\n",
       "        var display = window.getComputedStyle(gd).display;\n",
       "        if (!display || display === 'none') {{\n",
       "            console.log([gd, 'removed!']);\n",
       "            Plotly.purge(gd);\n",
       "            observer.disconnect();\n",
       "        }}\n",
       "}});\n",
       "\n",
       "// Listen for the removal of the full notebook cells\n",
       "var notebookContainer = gd.closest('#notebook-container');\n",
       "if (notebookContainer) {{\n",
       "    x.observe(notebookContainer, {childList: true});\n",
       "}}\n",
       "\n",
       "// Listen for the clearing of the current output cell\n",
       "var outputEl = gd.closest('.output');\n",
       "if (outputEl) {{\n",
       "    x.observe(outputEl, {childList: true});\n",
       "}}\n",
       "\n",
       "                        })                };                });            </script>        </div>"
      ]
     },
     "metadata": {},
     "output_type": "display_data"
    }
   ],
   "source": [
    "for col in ['average_loss', 'average_corr']:\n",
    "    fig = px.line(\n",
    "        progress_df, x=\"time\", y=col, \n",
    "        title=col, template='plotly_white'\n",
    "    )\n",
    "\n",
    "    fig.show()"
   ]
  }
 ],
 "metadata": {
  "kernelspec": {
   "display_name": "Python 3",
   "language": "python",
   "name": "python3"
  },
  "language_info": {
   "codemirror_mode": {
    "name": "ipython",
    "version": 3
   },
   "file_extension": ".py",
   "mimetype": "text/x-python",
   "name": "python",
   "nbconvert_exporter": "python",
   "pygments_lexer": "ipython3",
   "version": "3.7.12"
  },
  "papermill": {
   "default_parameters": {},
   "duration": 11355.233091,
   "end_time": "2022-03-29T11:38:34.610532",
   "environment_variables": {},
   "exception": null,
   "input_path": "__notebook__.ipynb",
   "output_path": "__notebook__.ipynb",
   "parameters": {},
   "start_time": "2022-03-29T08:29:19.377441",
   "version": "2.3.3"
  }
 },
 "nbformat": 4,
 "nbformat_minor": 5
}
