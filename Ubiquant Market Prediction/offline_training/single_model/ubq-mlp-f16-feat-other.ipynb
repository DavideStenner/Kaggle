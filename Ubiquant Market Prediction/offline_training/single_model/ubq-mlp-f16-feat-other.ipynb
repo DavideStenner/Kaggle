{
 "cells": [
  {
   "cell_type": "code",
   "execution_count": 1,
   "id": "5f8fa200",
   "metadata": {
    "execution": {
     "iopub.execute_input": "2022-04-08T17:44:10.785994Z",
     "iopub.status.busy": "2022-04-08T17:44:10.784841Z",
     "iopub.status.idle": "2022-04-08T17:44:19.893539Z",
     "shell.execute_reply": "2022-04-08T17:44:19.894022Z",
     "shell.execute_reply.started": "2022-04-07T21:13:03.027217Z"
    },
    "papermill": {
     "duration": 9.131479,
     "end_time": "2022-04-08T17:44:19.894314",
     "exception": false,
     "start_time": "2022-04-08T17:44:10.762835",
     "status": "completed"
    },
    "tags": []
   },
   "outputs": [
    {
     "name": "stderr",
     "output_type": "stream",
     "text": [
      "2022-04-08 17:44:13.740161: W tensorflow/stream_executor/platform/default/dso_loader.cc:60] Could not load dynamic library 'libcudart.so.11.0'; dlerror: libcudart.so.11.0: cannot open shared object file: No such file or directory; LD_LIBRARY_PATH: /opt/conda/lib\n",
      "2022-04-08 17:44:13.740280: I tensorflow/stream_executor/cuda/cudart_stub.cc:29] Ignore above cudart dlerror if you do not have a GPU set up on your machine.\n"
     ]
    },
    {
     "data": {
      "text/html": [
       "<style type='text/css'>\n",
       ".datatable table.frame { margin-bottom: 0; }\n",
       ".datatable table.frame thead { border-bottom: none; }\n",
       ".datatable table.frame tr.coltypes td {  color: #FFFFFF;  line-height: 6px;  padding: 0 0.5em;}\n",
       ".datatable .bool    { background: #DDDD99; }\n",
       ".datatable .object  { background: #565656; }\n",
       ".datatable .int     { background: #5D9E5D; }\n",
       ".datatable .float   { background: #4040CC; }\n",
       ".datatable .str     { background: #CC4040; }\n",
       ".datatable .time    { background: #40CC40; }\n",
       ".datatable .row_index {  background: var(--jp-border-color3);  border-right: 1px solid var(--jp-border-color0);  color: var(--jp-ui-font-color3);  font-size: 9px;}\n",
       ".datatable .frame tbody td { text-align: left; }\n",
       ".datatable .frame tr.coltypes .row_index {  background: var(--jp-border-color0);}\n",
       ".datatable th:nth-child(2) { padding-left: 12px; }\n",
       ".datatable .hellipsis {  color: var(--jp-cell-editor-border-color);}\n",
       ".datatable .vellipsis {  background: var(--jp-layout-color0);  color: var(--jp-cell-editor-border-color);}\n",
       ".datatable .na {  color: var(--jp-cell-editor-border-color);  font-size: 80%;}\n",
       ".datatable .sp {  opacity: 0.25;}\n",
       ".datatable .footer { font-size: 9px; }\n",
       ".datatable .frame_dimensions {  background: var(--jp-border-color3);  border-top: 1px solid var(--jp-border-color0);  color: var(--jp-ui-font-color3);  display: inline-block;  opacity: 0.6;  padding: 1px 10px 1px 5px;}\n",
       "</style>\n"
      ],
      "text/plain": [
       "<IPython.core.display.HTML object>"
      ]
     },
     "metadata": {},
     "output_type": "display_data"
    },
    {
     "name": "stderr",
     "output_type": "stream",
     "text": [
      "2022-04-08 17:44:19.842060: I tensorflow/compiler/jit/xla_cpu_device.cc:41] Not creating XLA devices, tf_xla_enable_xla_devices not set\n",
      "2022-04-08 17:44:19.845403: W tensorflow/stream_executor/platform/default/dso_loader.cc:60] Could not load dynamic library 'libcuda.so.1'; dlerror: libcuda.so.1: cannot open shared object file: No such file or directory; LD_LIBRARY_PATH: /opt/conda/lib\n",
      "2022-04-08 17:44:19.845443: W tensorflow/stream_executor/cuda/cuda_driver.cc:326] failed call to cuInit: UNKNOWN ERROR (303)\n",
      "2022-04-08 17:44:19.845470: I tensorflow/stream_executor/cuda/cuda_diagnostics.cc:156] kernel driver does not appear to be running on this host (9ae412c555f5): /proc/driver/nvidia/version does not exist\n",
      "2022-04-08 17:44:19.846454: I tensorflow/core/platform/cpu_feature_guard.cc:142] This TensorFlow binary is optimized with oneAPI Deep Neural Network Library (oneDNN) to use the following CPU instructions in performance-critical operations:  AVX2 FMA\n",
      "To enable them in other operations, rebuild TensorFlow with the appropriate compiler flags.\n",
      "2022-04-08 17:44:19.846913: I tensorflow/compiler/jit/xla_gpu_device.cc:99] Not creating XLA devices, tf_xla_enable_xla_devices not set\n"
     ]
    }
   ],
   "source": [
    "import pandas as pd\n",
    "from scipy import stats\n",
    "import os\n",
    "import gc\n",
    "import numpy as np\n",
    "import plotly.express as px\n",
    "import tensorflow as tf\n",
    "import time\n",
    "import tensorflow_probability as tfp\n",
    "import pickle\n",
    "import time\n",
    "from tensorflow.keras import mixed_precision\n",
    "\n",
    "from ubq_nn_utils import (\n",
    "    PARAMS, UbqSequenceMlp, tfp_correlation, create_mlp, get_dataset\n",
    ")\n",
    "\n",
    "from ubq_utilities import (\n",
    "    get_time_series_cross_val_splits,\n",
    "    get_hardware_strategy,\n",
    "    calculate_corr, corr_sharpe_lgb,\n",
    "    TIME_COL, FOLD_NAME, TARGET_COL,\n",
    "    STARTING_FEATURE_NAME, N_FOLD, \n",
    "    STARTING_CAT_FEAT_NAME, STARTING_NUMERIC_FEAT_NAME,\n",
    "    RANDOM_STATE, SUBSAMPLE_FOLD\n",
    ")\n",
    "\n",
    "N_ROUND = 400\n",
    "N_FOLD = 5\n",
    "\n",
    "tf.random.set_seed(RANDOM_STATE)\n",
    "\n",
    "path_data = '../input/ubq-preprocess-mean-std'"
   ]
  },
  {
   "cell_type": "code",
   "execution_count": 2,
   "id": "05d009d2",
   "metadata": {
    "execution": {
     "iopub.execute_input": "2022-04-08T17:44:19.935448Z",
     "iopub.status.busy": "2022-04-08T17:44:19.934806Z",
     "iopub.status.idle": "2022-04-08T17:44:25.752445Z",
     "shell.execute_reply": "2022-04-08T17:44:25.751587Z",
     "shell.execute_reply.started": "2022-04-07T21:13:03.069773Z"
    },
    "papermill": {
     "duration": 5.839535,
     "end_time": "2022-04-08T17:44:25.752594",
     "exception": false,
     "start_time": "2022-04-08T17:44:19.913059",
     "status": "completed"
    },
    "tags": []
   },
   "outputs": [
    {
     "name": "stderr",
     "output_type": "stream",
     "text": [
      "2022-04-08 17:44:19.939510: I tensorflow/compiler/jit/xla_gpu_device.cc:99] Not creating XLA devices, tf_xla_enable_xla_devices not set\n",
      "2022-04-08 17:44:19.966833: I tensorflow/core/distributed_runtime/rpc/grpc_channel.cc:301] Initialize GrpcChannelCache for job worker -> {0 -> 10.0.0.2:8470}\n",
      "2022-04-08 17:44:19.966893: I tensorflow/core/distributed_runtime/rpc/grpc_channel.cc:301] Initialize GrpcChannelCache for job localhost -> {0 -> localhost:30020}\n",
      "2022-04-08 17:44:19.991201: I tensorflow/core/distributed_runtime/rpc/grpc_channel.cc:301] Initialize GrpcChannelCache for job worker -> {0 -> 10.0.0.2:8470}\n",
      "2022-04-08 17:44:19.991254: I tensorflow/core/distributed_runtime/rpc/grpc_channel.cc:301] Initialize GrpcChannelCache for job localhost -> {0 -> localhost:30020}\n",
      "2022-04-08 17:44:19.991819: I tensorflow/core/distributed_runtime/rpc/grpc_server_lib.cc:411] Started server with target: grpc://localhost:30020\n"
     ]
    },
    {
     "name": "stdout",
     "output_type": "stream",
     "text": [
      "Running on TPU  grpc://10.0.0.2:8470\n",
      "REPLICAS:  8\n"
     ]
    }
   ],
   "source": [
    "tpu, strategy = get_hardware_strategy()\n",
    "\n",
    "BATCH_SIZE = 512 * strategy.num_replicas_in_sync\n",
    "AUTO = tf.data.experimental.AUTOTUNE"
   ]
  },
  {
   "cell_type": "code",
   "execution_count": 3,
   "id": "d80f43a8",
   "metadata": {
    "execution": {
     "iopub.execute_input": "2022-04-08T17:44:25.797892Z",
     "iopub.status.busy": "2022-04-08T17:44:25.797204Z",
     "iopub.status.idle": "2022-04-08T17:44:25.810587Z",
     "shell.execute_reply": "2022-04-08T17:44:25.810020Z",
     "shell.execute_reply.started": "2022-04-07T21:13:08.909557Z"
    },
    "papermill": {
     "duration": 0.038549,
     "end_time": "2022-04-08T17:44:25.810761",
     "exception": false,
     "start_time": "2022-04-08T17:44:25.772212",
     "status": "completed"
    },
    "tags": []
   },
   "outputs": [],
   "source": [
    "with open(os.path.join(path_data, 'ALL_FEATURE.pkl'), 'rb') as file:\n",
    "    ALL_FEATURE = pickle.load(file)\n",
    "\n",
    "PARAMS['num_total_feature'] = len(ALL_FEATURE)"
   ]
  },
  {
   "cell_type": "code",
   "execution_count": 4,
   "id": "b8897c09",
   "metadata": {
    "execution": {
     "iopub.execute_input": "2022-04-08T17:44:25.855136Z",
     "iopub.status.busy": "2022-04-08T17:44:25.854415Z",
     "iopub.status.idle": "2022-04-08T17:44:55.700457Z",
     "shell.execute_reply": "2022-04-08T17:44:55.701098Z",
     "shell.execute_reply.started": "2022-04-07T21:13:08.926035Z"
    },
    "papermill": {
     "duration": 29.870827,
     "end_time": "2022-04-08T17:44:55.701274",
     "exception": false,
     "start_time": "2022-04-08T17:44:25.830447",
     "status": "completed"
    },
    "tags": []
   },
   "outputs": [
    {
     "name": "stdout",
     "output_type": "stream",
     "text": [
      "Importing pd df\n"
     ]
    },
    {
     "data": {
      "text/plain": [
       "64"
      ]
     },
     "execution_count": 4,
     "metadata": {},
     "output_type": "execute_result"
    }
   ],
   "source": [
    "print('Importing pd df')\n",
    "data = pd.read_pickle(\n",
    "    os.path.join(path_data, f'train_16_fe.pkl')\n",
    ")\n",
    "\n",
    "gc.collect()"
   ]
  },
  {
   "cell_type": "code",
   "execution_count": 5,
   "id": "0159a5c9",
   "metadata": {
    "execution": {
     "iopub.execute_input": "2022-04-08T17:44:55.745076Z",
     "iopub.status.busy": "2022-04-08T17:44:55.744095Z",
     "iopub.status.idle": "2022-04-08T17:44:55.750071Z",
     "shell.execute_reply": "2022-04-08T17:44:55.749532Z",
     "shell.execute_reply.started": "2022-04-07T21:13:35.991952Z"
    },
    "papermill": {
     "duration": 0.028648,
     "end_time": "2022-04-08T17:44:55.750223",
     "exception": false,
     "start_time": "2022-04-08T17:44:55.721575",
     "status": "completed"
    },
    "tags": []
   },
   "outputs": [
    {
     "name": "stdout",
     "output_type": "stream",
     "text": [
      "Using: 3141410 rows\n"
     ]
    }
   ],
   "source": [
    "print(f'Using: {data.shape[0]} rows')"
   ]
  },
  {
   "cell_type": "code",
   "execution_count": 6,
   "id": "1aa7b9e4",
   "metadata": {
    "execution": {
     "iopub.execute_input": "2022-04-08T17:44:55.801452Z",
     "iopub.status.busy": "2022-04-08T17:44:55.800772Z",
     "iopub.status.idle": "2022-04-08T17:44:56.491420Z",
     "shell.execute_reply": "2022-04-08T17:44:56.490869Z",
     "shell.execute_reply.started": "2022-04-07T21:13:35.99937Z"
    },
    "papermill": {
     "duration": 0.720065,
     "end_time": "2022-04-08T17:44:56.491590",
     "exception": false,
     "start_time": "2022-04-08T17:44:55.771525",
     "status": "completed"
    },
    "tags": []
   },
   "outputs": [],
   "source": [
    "fold_embargo_zip = get_time_series_cross_val_splits(data, cv=N_FOLD, embargo=50, min_time_to_use=0)\n",
    "\n",
    "fold_split = [\n",
    "    [\n",
    "        np.where(data[TIME_COL].isin(train_index))[0], \n",
    "        np.where(data[TIME_COL].isin(test_index))[0]\n",
    "    ]\n",
    "    for train_index, test_index in fold_embargo_zip\n",
    "]\n",
    "\n",
    "time_id_split = [\n",
    "    data[TIME_COL].loc[test_index].values\n",
    "    for _, test_index in fold_split\n",
    "]\n",
    "\n",
    "first_element_test_split = np.array([\n",
    "    data[TARGET_COL].loc[test_index].iloc[0]\n",
    "    for _, test_index in fold_split\n",
    "])"
   ]
  },
  {
   "cell_type": "code",
   "execution_count": 7,
   "id": "72626995",
   "metadata": {
    "execution": {
     "iopub.execute_input": "2022-04-08T17:44:56.782975Z",
     "iopub.status.busy": "2022-04-08T17:44:56.782262Z",
     "iopub.status.idle": "2022-04-08T17:44:56.785640Z",
     "shell.execute_reply": "2022-04-08T17:44:56.786157Z",
     "shell.execute_reply.started": "2022-04-07T21:13:36.633883Z"
    },
    "papermill": {
     "duration": 0.274203,
     "end_time": "2022-04-08T17:44:56.786332",
     "exception": false,
     "start_time": "2022-04-08T17:44:56.512129",
     "status": "completed"
    },
    "tags": []
   },
   "outputs": [
    {
     "data": {
      "text/plain": [
       "21"
      ]
     },
     "execution_count": 7,
     "metadata": {},
     "output_type": "execute_result"
    }
   ],
   "source": [
    "gc.collect()"
   ]
  },
  {
   "cell_type": "code",
   "execution_count": 8,
   "id": "a2b51f26",
   "metadata": {
    "execution": {
     "iopub.execute_input": "2022-04-08T17:44:56.830743Z",
     "iopub.status.busy": "2022-04-08T17:44:56.830079Z",
     "iopub.status.idle": "2022-04-08T17:44:56.834577Z",
     "shell.execute_reply": "2022-04-08T17:44:56.834026Z",
     "shell.execute_reply.started": "2022-04-07T21:13:36.851193Z"
    },
    "papermill": {
     "duration": 0.027877,
     "end_time": "2022-04-08T17:44:56.834742",
     "exception": false,
     "start_time": "2022-04-08T17:44:56.806865",
     "status": "completed"
    },
    "tags": []
   },
   "outputs": [],
   "source": [
    "os.makedirs('./checkpoint')"
   ]
  },
  {
   "cell_type": "code",
   "execution_count": 9,
   "id": "37b3148d",
   "metadata": {
    "execution": {
     "iopub.execute_input": "2022-04-08T17:44:56.879855Z",
     "iopub.status.busy": "2022-04-08T17:44:56.879179Z",
     "iopub.status.idle": "2022-04-08T17:44:57.133442Z",
     "shell.execute_reply": "2022-04-08T17:44:57.132817Z",
     "shell.execute_reply.started": "2022-04-07T21:13:36.86383Z"
    },
    "papermill": {
     "duration": 0.277998,
     "end_time": "2022-04-08T17:44:57.133581",
     "exception": false,
     "start_time": "2022-04-08T17:44:56.855583",
     "status": "completed"
    },
    "tags": []
   },
   "outputs": [
    {
     "data": {
      "text/plain": [
       "42"
      ]
     },
     "execution_count": 9,
     "metadata": {},
     "output_type": "execute_result"
    }
   ],
   "source": [
    "gc.collect()"
   ]
  },
  {
   "cell_type": "code",
   "execution_count": 10,
   "id": "c4e938d9",
   "metadata": {
    "execution": {
     "iopub.execute_input": "2022-04-08T17:44:57.178788Z",
     "iopub.status.busy": "2022-04-08T17:44:57.178098Z",
     "iopub.status.idle": "2022-04-08T17:44:57.181406Z",
     "shell.execute_reply": "2022-04-08T17:44:57.181914Z",
     "shell.execute_reply.started": "2022-04-07T21:13:37.084337Z"
    },
    "papermill": {
     "duration": 0.027631,
     "end_time": "2022-04-08T17:44:57.182080",
     "exception": false,
     "start_time": "2022-04-08T17:44:57.154449",
     "status": "completed"
    },
    "tags": []
   },
   "outputs": [],
   "source": [
    "PARAMS['lr'] = 0.0008"
   ]
  },
  {
   "cell_type": "code",
   "execution_count": 11,
   "id": "09c97420",
   "metadata": {
    "execution": {
     "iopub.execute_input": "2022-04-08T17:44:57.226422Z",
     "iopub.status.busy": "2022-04-08T17:44:57.225832Z",
     "iopub.status.idle": "2022-04-08T17:45:04.929554Z",
     "shell.execute_reply": "2022-04-08T17:45:04.930076Z",
     "shell.execute_reply.started": "2022-04-07T21:13:37.099204Z"
    },
    "papermill": {
     "duration": 7.727449,
     "end_time": "2022-04-08T17:45:04.930258",
     "exception": false,
     "start_time": "2022-04-08T17:44:57.202809",
     "status": "completed"
    },
    "tags": []
   },
   "outputs": [
    {
     "data": {
      "text/plain": [
       "<tensorflow.python.tpu.topology.Topology at 0x7fc0588d08d0>"
      ]
     },
     "execution_count": 11,
     "metadata": {},
     "output_type": "execute_result"
    }
   ],
   "source": [
    "tf.tpu.experimental.initialize_tpu_system(tpu)"
   ]
  },
  {
   "cell_type": "code",
   "execution_count": 12,
   "id": "083cc73c",
   "metadata": {
    "execution": {
     "iopub.execute_input": "2022-04-08T17:45:04.975723Z",
     "iopub.status.busy": "2022-04-08T17:45:04.975056Z",
     "iopub.status.idle": "2022-04-08T20:30:33.529876Z",
     "shell.execute_reply": "2022-04-08T20:30:33.531247Z",
     "shell.execute_reply.started": "2022-04-07T21:29:20.776177Z"
    },
    "papermill": {
     "duration": 9928.580228,
     "end_time": "2022-04-08T20:30:33.531632",
     "exception": false,
     "start_time": "2022-04-08T17:45:04.951404",
     "status": "completed"
    },
    "tags": []
   },
   "outputs": [
    {
     "name": "stdout",
     "output_type": "stream",
     "text": [
      "\n",
      "\n",
      "Starting fold 0\n",
      "\n",
      "\n",
      "\n"
     ]
    },
    {
     "name": "stderr",
     "output_type": "stream",
     "text": [
      "2022-04-08 17:45:30.239967: W tensorflow/core/framework/cpu_allocator_impl.cc:80] Allocation of 2012712300 exceeds 10% of free system memory.\n"
     ]
    },
    {
     "name": "stdout",
     "output_type": "stream",
     "text": [
      "\n",
      "\n",
      "Starting fold 1\n",
      "\n",
      "\n",
      "\n"
     ]
    },
    {
     "name": "stderr",
     "output_type": "stream",
     "text": [
      "2022-04-08 18:18:53.626198: W tensorflow/core/framework/cpu_allocator_impl.cc:80] Allocation of 1955192580 exceeds 10% of free system memory.\n"
     ]
    },
    {
     "name": "stdout",
     "output_type": "stream",
     "text": [
      "\n",
      "\n",
      "Starting fold 2\n",
      "\n",
      "\n",
      "\n"
     ]
    },
    {
     "name": "stderr",
     "output_type": "stream",
     "text": [
      "2022-04-08 18:51:35.798947: W tensorflow/core/framework/cpu_allocator_impl.cc:80] Allocation of 1850421510 exceeds 10% of free system memory.\n"
     ]
    },
    {
     "name": "stdout",
     "output_type": "stream",
     "text": [
      "\n",
      "\n",
      "Starting fold 3\n",
      "\n",
      "\n",
      "\n"
     ]
    },
    {
     "name": "stderr",
     "output_type": "stream",
     "text": [
      "2022-04-08 19:24:18.380690: W tensorflow/core/framework/cpu_allocator_impl.cc:80] Allocation of 1736059230 exceeds 10% of free system memory.\n"
     ]
    },
    {
     "name": "stdout",
     "output_type": "stream",
     "text": [
      "\n",
      "\n",
      "Starting fold 4\n",
      "\n",
      "\n",
      "\n"
     ]
    },
    {
     "name": "stderr",
     "output_type": "stream",
     "text": [
      "2022-04-08 19:56:54.113109: W tensorflow/core/framework/cpu_allocator_impl.cc:80] Allocation of 1786012740 exceeds 10% of free system memory.\n"
     ]
    }
   ],
   "source": [
    "progress_list = []\n",
    "\n",
    "for i, (train_index, test_index) in enumerate(fold_split):\n",
    "\n",
    "        print(f'\\n\\nStarting fold {i}\\n\\n\\n')\n",
    "\n",
    "        train_x_num, train_y = (\n",
    "            data[ALL_FEATURE].iloc[train_index].to_numpy('float16'),\n",
    "            data[TARGET_COL].iloc[train_index].to_numpy('float16')\n",
    "        )\n",
    "        test_x_num, test_y = (\n",
    "            data[ALL_FEATURE].iloc[test_index].to_numpy('float16'),\n",
    "            data[TARGET_COL].iloc[test_index].to_numpy('float16')\n",
    "        )\n",
    "        STEPS_PER_EPOCH = train_x_num.shape[0]  // BATCH_SIZE\n",
    "\n",
    "        train_dataset = get_dataset(train_x_num, train_y, batch_size=BATCH_SIZE)\n",
    "        test_dataset = get_dataset(test_x_num, test_y, train=False, batch_size=BATCH_SIZE)\n",
    "                \n",
    "        gc.collect()\n",
    "        time_id_fold = time_id_split[i]\n",
    "        \n",
    "        checkpoint_path = \"checkpoint/{epoch:03d}_\" + f\"model_fold_{i}.hdf5\"\n",
    "        with strategy.scope():\n",
    "\n",
    "            model = create_mlp(\n",
    "                PARAMS['num_total_feature'], steps=STEPS_PER_EPOCH, \n",
    "                metrics={'output': tfp_correlation},\n",
    "            )\n",
    "            \n",
    "        model_checkpoint = tf.keras.callbacks.ModelCheckpoint(\n",
    "            checkpoint_path,\n",
    "            verbose = 0, \n",
    "            save_weights_only = True\n",
    "        )\n",
    "\n",
    "        history = model.fit(\n",
    "            train_dataset,\n",
    "            validation_data=(test_dataset),\n",
    "            epochs = N_ROUND, callbacks = [model_checkpoint],\n",
    "            verbose = 0,\n",
    "        )\n",
    "        progress = pd.DataFrame(history.history)\n",
    "                        \n",
    "        del (\n",
    "            train_x_num, train_y, test_x_num, test_y, model_checkpoint, \n",
    "            history, model, time_id_fold, train_dataset,\n",
    "            test_dataset\n",
    "        )\n",
    "                \n",
    "        gc.collect()\n",
    "        \n",
    "        progress_list.append(progress)"
   ]
  },
  {
   "cell_type": "markdown",
   "id": "51458765",
   "metadata": {
    "papermill": {
     "duration": 0.025069,
     "end_time": "2022-04-08T20:30:33.583032",
     "exception": false,
     "start_time": "2022-04-08T20:30:33.557963",
     "status": "completed"
    },
    "tags": []
   },
   "source": [
    "# save dataset and make prediction with best epoch"
   ]
  },
  {
   "cell_type": "code",
   "execution_count": 13,
   "id": "bba94139",
   "metadata": {
    "execution": {
     "iopub.execute_input": "2022-04-08T20:30:33.637540Z",
     "iopub.status.busy": "2022-04-08T20:30:33.636501Z",
     "iopub.status.idle": "2022-04-08T20:30:33.881867Z",
     "shell.execute_reply": "2022-04-08T20:30:33.882351Z",
     "shell.execute_reply.started": "2022-04-07T21:18:42.383945Z"
    },
    "papermill": {
     "duration": 0.274993,
     "end_time": "2022-04-08T20:30:33.882536",
     "exception": false,
     "start_time": "2022-04-08T20:30:33.607543",
     "status": "completed"
    },
    "tags": []
   },
   "outputs": [
    {
     "data": {
      "text/plain": [
       "21"
      ]
     },
     "execution_count": 13,
     "metadata": {},
     "output_type": "execute_result"
    }
   ],
   "source": [
    "gc.collect()"
   ]
  },
  {
   "cell_type": "code",
   "execution_count": 14,
   "id": "de43c764",
   "metadata": {
    "execution": {
     "iopub.execute_input": "2022-04-08T20:30:33.951086Z",
     "iopub.status.busy": "2022-04-08T20:30:33.950340Z",
     "iopub.status.idle": "2022-04-08T20:30:34.219101Z",
     "shell.execute_reply": "2022-04-08T20:30:34.218161Z",
     "shell.execute_reply.started": "2022-04-07T21:18:42.622976Z"
    },
    "papermill": {
     "duration": 0.311662,
     "end_time": "2022-04-08T20:30:34.219260",
     "exception": false,
     "start_time": "2022-04-08T20:30:33.907598",
     "status": "completed"
    },
    "tags": []
   },
   "outputs": [
    {
     "name": "stdout",
     "output_type": "stream",
     "text": [
      "Best epoch: 182, CV-Corr: 0.142, CV-Loss: 0.828\n"
     ]
    },
    {
     "data": {
      "text/plain": [
       "0"
      ]
     },
     "execution_count": 14,
     "metadata": {},
     "output_type": "execute_result"
    }
   ],
   "source": [
    "progress_dict = {\n",
    "        'time': range(N_ROUND),\n",
    "    }\n",
    "progress_dict.update(\n",
    "        {\n",
    "            f'corr_fold_{i}': progress_list[i]['val_tfp_correlation'].values\n",
    "            for i in range(N_FOLD)\n",
    "        }\n",
    "    )\n",
    "progress_dict.update(\n",
    "        {\n",
    "            f'loss_fold_{i}': progress_list[i]['val_loss'].values\n",
    "            for i in range(N_FOLD)\n",
    "        }\n",
    "    )\n",
    "\n",
    "progress_df = pd.DataFrame(\n",
    "    progress_dict\n",
    ")\n",
    "\n",
    "progress_df['average_corr'] = progress_df.loc[:, ['corr' in x for x in progress_df.columns]].mean(axis =1)\n",
    "progress_df['average_loss'] = progress_df.loc[:, ['loss' in x for x in progress_df.columns]].mean(axis =1)\n",
    "\n",
    "best_epoch = int(progress_df['average_corr'].argmax())\n",
    "best_score = progress_df['average_corr'].max()\n",
    "best_loss = progress_df.loc[best_epoch, 'average_loss']\n",
    "\n",
    "print(f'Best epoch: {best_epoch}, CV-Corr: {best_score:.3f}, CV-Loss: {best_loss:.3f}')\n",
    "\n",
    "best_result = {\n",
    "    'best_epoch': best_epoch+1,\n",
    "    'best_score': best_score\n",
    "}\n",
    "\n",
    "with open('best_result.pkl', 'wb') as file:\n",
    "    pickle.dump(best_result, file)\n",
    "\n",
    "gc.collect()"
   ]
  },
  {
   "cell_type": "markdown",
   "id": "4a6df2d9",
   "metadata": {
    "papermill": {
     "duration": 0.025064,
     "end_time": "2022-04-08T20:30:34.269429",
     "exception": false,
     "start_time": "2022-04-08T20:30:34.244365",
     "status": "completed"
    },
    "tags": []
   },
   "source": [
    "# OOF Prediction"
   ]
  },
  {
   "cell_type": "code",
   "execution_count": 15,
   "id": "732108d1",
   "metadata": {
    "execution": {
     "iopub.execute_input": "2022-04-08T20:30:34.324803Z",
     "iopub.status.busy": "2022-04-08T20:30:34.323798Z",
     "iopub.status.idle": "2022-04-08T20:30:36.300381Z",
     "shell.execute_reply": "2022-04-08T20:30:36.299708Z",
     "shell.execute_reply.started": "2022-04-07T21:18:42.877993Z"
    },
    "papermill": {
     "duration": 2.005577,
     "end_time": "2022-04-08T20:30:36.300548",
     "exception": false,
     "start_time": "2022-04-08T20:30:34.294971",
     "status": "completed"
    },
    "tags": []
   },
   "outputs": [],
   "source": [
    "def get_model_weights(fold, epoch, strategy):\n",
    "    length_number = len(str(best_epoch))\n",
    "    epoch_path = '0'*(3-length_number) + str(best_epoch+1)\n",
    "    model = create_mlp(\n",
    "        PARAMS['num_total_feature'], steps=STEPS_PER_EPOCH, \n",
    "        metrics={'output': tfp_correlation},\n",
    "    )\n",
    "    \n",
    "    model.load_weights(f\"checkpoint/{epoch_path}_model_fold_{fold}.hdf5\")\n",
    "    return model\n",
    "\n",
    "model_list = [\n",
    "    get_model_weights(fold, best_result['best_epoch'], strategy) for fold in range(N_FOLD)\n",
    "]"
   ]
  },
  {
   "cell_type": "code",
   "execution_count": 16,
   "id": "4fbb7635",
   "metadata": {
    "execution": {
     "iopub.execute_input": "2022-04-08T20:30:36.363749Z",
     "iopub.status.busy": "2022-04-08T20:30:36.363010Z",
     "iopub.status.idle": "2022-04-08T20:35:24.360295Z",
     "shell.execute_reply": "2022-04-08T20:35:24.360840Z",
     "shell.execute_reply.started": "2022-04-07T21:18:44.299611Z"
    },
    "papermill": {
     "duration": 288.03463,
     "end_time": "2022-04-08T20:35:24.361040",
     "exception": false,
     "start_time": "2022-04-08T20:30:36.326410",
     "status": "completed"
    },
    "tags": []
   },
   "outputs": [
    {
     "name": "stdout",
     "output_type": "stream",
     "text": [
      "Our out of folds mean pearson correlation coefficient is 0.1394689757440575\n"
     ]
    }
   ],
   "source": [
    "oof_predictions = np.zeros(data.shape[0])\n",
    "\n",
    "for i, (_, test_index) in enumerate(fold_split):\n",
    "    print(i, end='\\r')\n",
    "    model = model_list[i]\n",
    "\n",
    "    test_x_num = data[ALL_FEATURE].iloc[test_index].to_numpy('float16')\n",
    "    val_pred = model.predict(test_x_num).reshape((-1))\n",
    "    oof_predictions[test_index] = val_pred\n",
    "        \n",
    "oof_df = pd.DataFrame({'time_id': data['time_id'], 'y_true': data['target'], 'y_pred': oof_predictions})\n",
    "\n",
    "# Save out of folds csv for blending\n",
    "oof_df.to_csv('ae_mlp.csv', index = False)\n",
    "\n",
    "score = calculate_corr(oof_df)[0]\n",
    "print(f'Our out of folds mean pearson correlation coefficient is {score}')    \n"
   ]
  },
  {
   "cell_type": "markdown",
   "id": "3feb4b40",
   "metadata": {
    "papermill": {
     "duration": 0.026764,
     "end_time": "2022-04-08T20:35:24.414841",
     "exception": false,
     "start_time": "2022-04-08T20:35:24.388077",
     "status": "completed"
    },
    "tags": []
   },
   "source": [
    "# CV score"
   ]
  },
  {
   "cell_type": "code",
   "execution_count": 17,
   "id": "fe27b3e7",
   "metadata": {
    "execution": {
     "iopub.execute_input": "2022-04-08T20:35:24.475519Z",
     "iopub.status.busy": "2022-04-08T20:35:24.474554Z",
     "iopub.status.idle": "2022-04-08T20:35:24.490779Z",
     "shell.execute_reply": "2022-04-08T20:35:24.490004Z",
     "shell.execute_reply.started": "2022-04-07T21:23:11.392874Z"
    },
    "papermill": {
     "duration": 0.049022,
     "end_time": "2022-04-08T20:35:24.490950",
     "exception": false,
     "start_time": "2022-04-08T20:35:24.441928",
     "status": "completed"
    },
    "tags": []
   },
   "outputs": [],
   "source": [
    "progress_df.to_csv('result.csv', index=False)"
   ]
  },
  {
   "cell_type": "code",
   "execution_count": 18,
   "id": "89e02851",
   "metadata": {
    "execution": {
     "iopub.execute_input": "2022-04-08T20:35:24.551476Z",
     "iopub.status.busy": "2022-04-08T20:35:24.550778Z",
     "iopub.status.idle": "2022-04-08T20:35:25.860441Z",
     "shell.execute_reply": "2022-04-08T20:35:25.859616Z",
     "shell.execute_reply.started": "2022-04-07T21:23:11.399775Z"
    },
    "papermill": {
     "duration": 1.342543,
     "end_time": "2022-04-08T20:35:25.860596",
     "exception": false,
     "start_time": "2022-04-08T20:35:24.518053",
     "status": "completed"
    },
    "tags": []
   },
   "outputs": [
    {
     "data": {
      "text/html": [
       "        <script type=\"text/javascript\">\n",
       "        window.PlotlyConfig = {MathJaxConfig: 'local'};\n",
       "        if (window.MathJax) {MathJax.Hub.Config({SVG: {font: \"STIX-Web\"}});}\n",
       "        if (typeof require !== 'undefined') {\n",
       "        require.undef(\"plotly\");\n",
       "        requirejs.config({\n",
       "            paths: {\n",
       "                'plotly': ['https://cdn.plot.ly/plotly-2.4.2.min']\n",
       "            }\n",
       "        });\n",
       "        require(['plotly'], function(Plotly) {\n",
       "            window._Plotly = Plotly;\n",
       "        });\n",
       "        }\n",
       "        </script>\n",
       "        "
      ]
     },
     "metadata": {},
     "output_type": "display_data"
    },
    {
     "data": {
      "text/html": [
       "<div>                            <div id=\"440e980c-63b2-4612-8884-29d2d0972afe\" class=\"plotly-graph-div\" style=\"height:525px; width:100%;\"></div>            <script type=\"text/javascript\">                require([\"plotly\"], function(Plotly) {                    window.PLOTLYENV=window.PLOTLYENV || {};                                    if (document.getElementById(\"440e980c-63b2-4612-8884-29d2d0972afe\")) {                    Plotly.newPlot(                        \"440e980c-63b2-4612-8884-29d2d0972afe\",                        [{\"hovertemplate\":\"time=%{x}<br>average_corr=%{y}<extra></extra>\",\"legendgroup\":\"\",\"line\":{\"color\":\"#636efa\",\"dash\":\"solid\"},\"marker\":{\"symbol\":\"circle\"},\"mode\":\"lines\",\"name\":\"\",\"orientation\":\"v\",\"showlegend\":false,\"type\":\"scatter\",\"x\":[0,1,2,3,4,5,6,7,8,9,10,11,12,13,14,15,16,17,18,19,20,21,22,23,24,25,26,27,28,29,30,31,32,33,34,35,36,37,38,39,40,41,42,43,44,45,46,47,48,49,50,51,52,53,54,55,56,57,58,59,60,61,62,63,64,65,66,67,68,69,70,71,72,73,74,75,76,77,78,79,80,81,82,83,84,85,86,87,88,89,90,91,92,93,94,95,96,97,98,99,100,101,102,103,104,105,106,107,108,109,110,111,112,113,114,115,116,117,118,119,120,121,122,123,124,125,126,127,128,129,130,131,132,133,134,135,136,137,138,139,140,141,142,143,144,145,146,147,148,149,150,151,152,153,154,155,156,157,158,159,160,161,162,163,164,165,166,167,168,169,170,171,172,173,174,175,176,177,178,179,180,181,182,183,184,185,186,187,188,189,190,191,192,193,194,195,196,197,198,199,200,201,202,203,204,205,206,207,208,209,210,211,212,213,214,215,216,217,218,219,220,221,222,223,224,225,226,227,228,229,230,231,232,233,234,235,236,237,238,239,240,241,242,243,244,245,246,247,248,249,250,251,252,253,254,255,256,257,258,259,260,261,262,263,264,265,266,267,268,269,270,271,272,273,274,275,276,277,278,279,280,281,282,283,284,285,286,287,288,289,290,291,292,293,294,295,296,297,298,299,300,301,302,303,304,305,306,307,308,309,310,311,312,313,314,315,316,317,318,319,320,321,322,323,324,325,326,327,328,329,330,331,332,333,334,335,336,337,338,339,340,341,342,343,344,345,346,347,348,349,350,351,352,353,354,355,356,357,358,359,360,361,362,363,364,365,366,367,368,369,370,371,372,373,374,375,376,377,378,379,380,381,382,383,384,385,386,387,388,389,390,391,392,393,394,395,396,397,398,399],\"xaxis\":\"x\",\"y\":[0.10942179858684539,0.11369674503803254,0.11612330675125122,0.11812128573656082,0.11961013227701187,0.12107342481613159,0.12216855883598328,0.12317875623703003,0.12381412833929062,0.12472648769617081,0.1253967598080635,0.12591226249933243,0.12646419554948807,0.1269652932882309,0.1274179995059967,0.12782755643129348,0.1282668247818947,0.12871619313955307,0.12904870361089707,0.12939423620700835,0.12973766326904296,0.12998545169830322,0.1301608771085739,0.13047076910734176,0.13079036474227906,0.13097498267889024,0.1313695043325424,0.13149756491184234,0.13165652453899385,0.13192805647850037,0.13203956484794616,0.13232843279838563,0.132482174038887,0.13272062987089156,0.1328785613179207,0.13317319601774216,0.13328074663877487,0.13349758237600326,0.13363708257675172,0.133765709400177,0.13389878123998641,0.134141743183136,0.13426810652017593,0.1343871608376503,0.13441361635923385,0.1345399171113968,0.134690323472023,0.13479086607694626,0.1349770560860634,0.13510080873966218,0.13532064855098724,0.13544080704450606,0.13549551367759705,0.13559516221284867,0.1357361003756523,0.13580781668424607,0.1360124170780182,0.13611420392990112,0.13624048978090286,0.13624909669160842,0.1362109124660492,0.13647417426109315,0.13651006817817687,0.13660355657339096,0.13674531131982803,0.13685092329978943,0.13688825964927673,0.13708317279815674,0.13716684728860856,0.13726710081100463,0.13738074749708176,0.13719961494207383,0.13723751306533813,0.1374075874686241,0.1375029757618904,0.13765421360731125,0.1375636100769043,0.13769678473472596,0.13793362975120543,0.1379290997982025,0.13804975301027297,0.13813480138778686,0.1382278397679329,0.13811943978071212,0.13830094039440155,0.13833516389131545,0.13833048194646835,0.13845667690038682,0.1385386675596237,0.13861015290021897,0.13859574496746063,0.13869587033987046,0.13881284594535828,0.1388838678598404,0.13890473991632463,0.13902681767940522,0.13896580487489701,0.13901466131210327,0.13910414278507233,0.1392025515437126,0.13910317718982695,0.13920996487140655,0.13923639059066772,0.1393323004245758,0.1393960326910019,0.1394829720258713,0.13962720036506654,0.13967282474040985,0.13961075395345687,0.13966623544692994,0.13978265821933747,0.13976891934871674,0.1398032009601593,0.1397593468427658,0.14000994712114334,0.14002612233161926,0.13992387056350708,0.1400364086031914,0.1400657743215561,0.13998294919729232,0.14001677334308624,0.14010140299797058,0.140152707695961,0.14014096558094025,0.14030739665031433,0.14030765295028685,0.14033398032188416,0.14045906364917754,0.14043991565704345,0.14048149883747102,0.1404672771692276,0.14055172502994537,0.1405843436717987,0.14068819284439088,0.1406400352716446,0.14062124490737915,0.14065651297569276,0.14072876870632173,0.1407820075750351,0.14064585864543916,0.14070290327072144,0.14083366692066193,0.14089191555976868,0.14092679917812348,0.14104730188846587,0.14105952382087708,0.14102169275283813,0.1408814311027527,0.1411416083574295,0.14102227985858917,0.14094752967357635,0.14105860888957977,0.14106600880622863,0.1410560578107834,0.14122588336467742,0.14112094938755035,0.1411302298307419,0.14128216207027436,0.14134635925292968,0.1411425441503525,0.14128488004207612,0.14129687249660491,0.1412478893995285,0.141231968998909,0.14134149253368378,0.14127257466316223,0.1413736969232559,0.14142756462097167,0.1414114624261856,0.1414668768644333,0.1414389044046402,0.14136160910129547,0.1414095640182495,0.14140210151672364,0.141403728723526,0.14136074781417846,0.14144904911518097,0.14154767096042634,0.14145894944667817,0.14149739742279052,0.14144801795482637,0.1414148598909378,0.14155180156230926,0.14147914350032806,0.14138861298561095,0.14147551953792573,0.1413692593574524,0.14145267009735107,0.14145590662956237,0.14140491485595702,0.14130413234233857,0.1412042886018753,0.14130239486694335,0.14140763580799104,0.14148117303848268,0.1414887338876724,0.14138957858085632,0.14127894639968872,0.14144184589385986,0.14131297767162324,0.14143621027469636,0.14145113229751588,0.1413552552461624,0.14143911600112916,0.1413188934326172,0.1414076268672943,0.14143656194210052,0.14140619933605195,0.14140163958072663,0.14147014021873475,0.14139822125434875,0.14154452681541443,0.14141545593738555,0.14129202365875243,0.14147022366523743,0.1414976269006729,0.14135933220386504,0.14130592942237855,0.1413245290517807,0.1413268566131592,0.141297447681427,0.1412072479724884,0.1413286656141281,0.14133742749691008,0.14125339388847352,0.14122143387794495,0.14129805862903594,0.14129691421985627,0.14134457409381868,0.14133333563804626,0.1411125510931015,0.14118171632289886,0.14111973643302916,0.1411947041749954,0.14104938209056855,0.14103249311447144,0.14112062454223634,0.14118014574050902,0.14102884829044343,0.140964475274086,0.14107797741889955,0.1410091608762741,0.1410638302564621,0.14108187854290008,0.14101056456565858,0.1409985065460205,0.14085944890975952,0.14091721773147584,0.14092206656932832,0.1409345269203186,0.14078789353370666,0.1407386302947998,0.14099322259426117,0.1408286362886429,0.140779909491539,0.14074523150920867,0.1408075511455536,0.14078888297080994,0.14076002538204194,0.14072260558605193,0.1407571405172348,0.14078671336174012,0.14062392711639404,0.14068419635295867,0.14068673253059388,0.14055047631263734,0.1405332177877426,0.14049660861492158,0.14047938883304595,0.14047440886497498,0.1404515415430069,0.1404127895832062,0.14041249454021454,0.14048925340175628,0.14051614701747894,0.14041826725006104,0.1402259886264801,0.14029842913150786,0.14027715623378753,0.14016707241535187,0.14005821645259858,0.14015479981899262,0.14017075896263123,0.14016737937927246,0.14029176533222198,0.14016911685466765,0.13999037444591522,0.14011444747447968,0.1400240033864975,0.14022894203662872,0.1399964302778244,0.14007530510425567,0.13998416364192962,0.1398261845111847,0.13977376222610474,0.13969508707523345,0.1397154986858368,0.13980800211429595,0.13982876241207123,0.13961352705955504,0.13972885012626649,0.13960319459438325,0.13972432315349578,0.13971705436706544,0.13972087502479552,0.13964425325393676,0.13973396718502046,0.13961780667304993,0.1395963966846466,0.13962563574314119,0.1395535111427307,0.13950542211532593,0.13929550647735595,0.1393255740404129,0.13925131857395173,0.13912853896617888,0.13924507200717925,0.13921683728694917,0.13895553350448608,0.13909972012042998,0.13912827670574188,0.13901731073856355,0.13909479081630707,0.13899743258953096,0.13894732296466827,0.13878821432590485,0.138887819647789,0.13896773755550385,0.13882375210523606,0.13861988931894303,0.13886774182319642,0.1387665957212448,0.1387472778558731,0.1387009620666504,0.13865605145692825,0.13880736380815506,0.1384686052799225,0.13864009976387023,0.13850342482328415,0.1384206861257553,0.1385473534464836,0.13861897140741347,0.13845301866531373,0.13853544294834136,0.13848948627710342,0.13828908950090407,0.1384369120001793,0.13842364996671677,0.1383049249649048,0.13829517662525176,0.1381744310259819,0.13816187679767608,0.1380517914891243,0.13804176598787307,0.138066765666008,0.13804179280996323,0.13785616904497147,0.13790216892957688,0.1381180316209793,0.1379268392920494,0.13789275139570237,0.13786067813634872,0.13788830637931823,0.13765595108270645,0.13775896430015563,0.13775040507316588,0.137645922601223,0.13774269074201584,0.1377715989947319,0.13776675164699553,0.13773499578237533,0.13758251070976257,0.13750734329223632,0.1373643234372139,0.13751886785030365,0.13738806247711183,0.13750203102827072,0.13746105134487152,0.13745894581079482,0.13714709430932998,0.13727174699306488,0.13707149028778076,0.13713160902261734,0.13694968223571777,0.1371919259428978,0.1370054453611374,0.1371911123394966,0.1368623435497284,0.13683351874351501,0.1368396371603012,0.13676917254924775,0.13682027161121368,0.1368336409330368,0.13660076260566711,0.13662605434656144,0.1366788402199745,0.1366736963391304,0.13680655360221863,0.1366569444537163,0.13658086359500884],\"yaxis\":\"y\"}],                        {\"legend\":{\"tracegroupgap\":0},\"template\":{\"data\":{\"bar\":[{\"error_x\":{\"color\":\"#2a3f5f\"},\"error_y\":{\"color\":\"#2a3f5f\"},\"marker\":{\"line\":{\"color\":\"white\",\"width\":0.5},\"pattern\":{\"fillmode\":\"overlay\",\"size\":10,\"solidity\":0.2}},\"type\":\"bar\"}],\"barpolar\":[{\"marker\":{\"line\":{\"color\":\"white\",\"width\":0.5},\"pattern\":{\"fillmode\":\"overlay\",\"size\":10,\"solidity\":0.2}},\"type\":\"barpolar\"}],\"carpet\":[{\"aaxis\":{\"endlinecolor\":\"#2a3f5f\",\"gridcolor\":\"#C8D4E3\",\"linecolor\":\"#C8D4E3\",\"minorgridcolor\":\"#C8D4E3\",\"startlinecolor\":\"#2a3f5f\"},\"baxis\":{\"endlinecolor\":\"#2a3f5f\",\"gridcolor\":\"#C8D4E3\",\"linecolor\":\"#C8D4E3\",\"minorgridcolor\":\"#C8D4E3\",\"startlinecolor\":\"#2a3f5f\"},\"type\":\"carpet\"}],\"choropleth\":[{\"colorbar\":{\"outlinewidth\":0,\"ticks\":\"\"},\"type\":\"choropleth\"}],\"contour\":[{\"colorbar\":{\"outlinewidth\":0,\"ticks\":\"\"},\"colorscale\":[[0.0,\"#0d0887\"],[0.1111111111111111,\"#46039f\"],[0.2222222222222222,\"#7201a8\"],[0.3333333333333333,\"#9c179e\"],[0.4444444444444444,\"#bd3786\"],[0.5555555555555556,\"#d8576b\"],[0.6666666666666666,\"#ed7953\"],[0.7777777777777778,\"#fb9f3a\"],[0.8888888888888888,\"#fdca26\"],[1.0,\"#f0f921\"]],\"type\":\"contour\"}],\"contourcarpet\":[{\"colorbar\":{\"outlinewidth\":0,\"ticks\":\"\"},\"type\":\"contourcarpet\"}],\"heatmap\":[{\"colorbar\":{\"outlinewidth\":0,\"ticks\":\"\"},\"colorscale\":[[0.0,\"#0d0887\"],[0.1111111111111111,\"#46039f\"],[0.2222222222222222,\"#7201a8\"],[0.3333333333333333,\"#9c179e\"],[0.4444444444444444,\"#bd3786\"],[0.5555555555555556,\"#d8576b\"],[0.6666666666666666,\"#ed7953\"],[0.7777777777777778,\"#fb9f3a\"],[0.8888888888888888,\"#fdca26\"],[1.0,\"#f0f921\"]],\"type\":\"heatmap\"}],\"heatmapgl\":[{\"colorbar\":{\"outlinewidth\":0,\"ticks\":\"\"},\"colorscale\":[[0.0,\"#0d0887\"],[0.1111111111111111,\"#46039f\"],[0.2222222222222222,\"#7201a8\"],[0.3333333333333333,\"#9c179e\"],[0.4444444444444444,\"#bd3786\"],[0.5555555555555556,\"#d8576b\"],[0.6666666666666666,\"#ed7953\"],[0.7777777777777778,\"#fb9f3a\"],[0.8888888888888888,\"#fdca26\"],[1.0,\"#f0f921\"]],\"type\":\"heatmapgl\"}],\"histogram\":[{\"marker\":{\"pattern\":{\"fillmode\":\"overlay\",\"size\":10,\"solidity\":0.2}},\"type\":\"histogram\"}],\"histogram2d\":[{\"colorbar\":{\"outlinewidth\":0,\"ticks\":\"\"},\"colorscale\":[[0.0,\"#0d0887\"],[0.1111111111111111,\"#46039f\"],[0.2222222222222222,\"#7201a8\"],[0.3333333333333333,\"#9c179e\"],[0.4444444444444444,\"#bd3786\"],[0.5555555555555556,\"#d8576b\"],[0.6666666666666666,\"#ed7953\"],[0.7777777777777778,\"#fb9f3a\"],[0.8888888888888888,\"#fdca26\"],[1.0,\"#f0f921\"]],\"type\":\"histogram2d\"}],\"histogram2dcontour\":[{\"colorbar\":{\"outlinewidth\":0,\"ticks\":\"\"},\"colorscale\":[[0.0,\"#0d0887\"],[0.1111111111111111,\"#46039f\"],[0.2222222222222222,\"#7201a8\"],[0.3333333333333333,\"#9c179e\"],[0.4444444444444444,\"#bd3786\"],[0.5555555555555556,\"#d8576b\"],[0.6666666666666666,\"#ed7953\"],[0.7777777777777778,\"#fb9f3a\"],[0.8888888888888888,\"#fdca26\"],[1.0,\"#f0f921\"]],\"type\":\"histogram2dcontour\"}],\"mesh3d\":[{\"colorbar\":{\"outlinewidth\":0,\"ticks\":\"\"},\"type\":\"mesh3d\"}],\"parcoords\":[{\"line\":{\"colorbar\":{\"outlinewidth\":0,\"ticks\":\"\"}},\"type\":\"parcoords\"}],\"pie\":[{\"automargin\":true,\"type\":\"pie\"}],\"scatter\":[{\"marker\":{\"colorbar\":{\"outlinewidth\":0,\"ticks\":\"\"}},\"type\":\"scatter\"}],\"scatter3d\":[{\"line\":{\"colorbar\":{\"outlinewidth\":0,\"ticks\":\"\"}},\"marker\":{\"colorbar\":{\"outlinewidth\":0,\"ticks\":\"\"}},\"type\":\"scatter3d\"}],\"scattercarpet\":[{\"marker\":{\"colorbar\":{\"outlinewidth\":0,\"ticks\":\"\"}},\"type\":\"scattercarpet\"}],\"scattergeo\":[{\"marker\":{\"colorbar\":{\"outlinewidth\":0,\"ticks\":\"\"}},\"type\":\"scattergeo\"}],\"scattergl\":[{\"marker\":{\"colorbar\":{\"outlinewidth\":0,\"ticks\":\"\"}},\"type\":\"scattergl\"}],\"scattermapbox\":[{\"marker\":{\"colorbar\":{\"outlinewidth\":0,\"ticks\":\"\"}},\"type\":\"scattermapbox\"}],\"scatterpolar\":[{\"marker\":{\"colorbar\":{\"outlinewidth\":0,\"ticks\":\"\"}},\"type\":\"scatterpolar\"}],\"scatterpolargl\":[{\"marker\":{\"colorbar\":{\"outlinewidth\":0,\"ticks\":\"\"}},\"type\":\"scatterpolargl\"}],\"scatterternary\":[{\"marker\":{\"colorbar\":{\"outlinewidth\":0,\"ticks\":\"\"}},\"type\":\"scatterternary\"}],\"surface\":[{\"colorbar\":{\"outlinewidth\":0,\"ticks\":\"\"},\"colorscale\":[[0.0,\"#0d0887\"],[0.1111111111111111,\"#46039f\"],[0.2222222222222222,\"#7201a8\"],[0.3333333333333333,\"#9c179e\"],[0.4444444444444444,\"#bd3786\"],[0.5555555555555556,\"#d8576b\"],[0.6666666666666666,\"#ed7953\"],[0.7777777777777778,\"#fb9f3a\"],[0.8888888888888888,\"#fdca26\"],[1.0,\"#f0f921\"]],\"type\":\"surface\"}],\"table\":[{\"cells\":{\"fill\":{\"color\":\"#EBF0F8\"},\"line\":{\"color\":\"white\"}},\"header\":{\"fill\":{\"color\":\"#C8D4E3\"},\"line\":{\"color\":\"white\"}},\"type\":\"table\"}]},\"layout\":{\"annotationdefaults\":{\"arrowcolor\":\"#2a3f5f\",\"arrowhead\":0,\"arrowwidth\":1},\"autotypenumbers\":\"strict\",\"coloraxis\":{\"colorbar\":{\"outlinewidth\":0,\"ticks\":\"\"}},\"colorscale\":{\"diverging\":[[0,\"#8e0152\"],[0.1,\"#c51b7d\"],[0.2,\"#de77ae\"],[0.3,\"#f1b6da\"],[0.4,\"#fde0ef\"],[0.5,\"#f7f7f7\"],[0.6,\"#e6f5d0\"],[0.7,\"#b8e186\"],[0.8,\"#7fbc41\"],[0.9,\"#4d9221\"],[1,\"#276419\"]],\"sequential\":[[0.0,\"#0d0887\"],[0.1111111111111111,\"#46039f\"],[0.2222222222222222,\"#7201a8\"],[0.3333333333333333,\"#9c179e\"],[0.4444444444444444,\"#bd3786\"],[0.5555555555555556,\"#d8576b\"],[0.6666666666666666,\"#ed7953\"],[0.7777777777777778,\"#fb9f3a\"],[0.8888888888888888,\"#fdca26\"],[1.0,\"#f0f921\"]],\"sequentialminus\":[[0.0,\"#0d0887\"],[0.1111111111111111,\"#46039f\"],[0.2222222222222222,\"#7201a8\"],[0.3333333333333333,\"#9c179e\"],[0.4444444444444444,\"#bd3786\"],[0.5555555555555556,\"#d8576b\"],[0.6666666666666666,\"#ed7953\"],[0.7777777777777778,\"#fb9f3a\"],[0.8888888888888888,\"#fdca26\"],[1.0,\"#f0f921\"]]},\"colorway\":[\"#636efa\",\"#EF553B\",\"#00cc96\",\"#ab63fa\",\"#FFA15A\",\"#19d3f3\",\"#FF6692\",\"#B6E880\",\"#FF97FF\",\"#FECB52\"],\"font\":{\"color\":\"#2a3f5f\"},\"geo\":{\"bgcolor\":\"white\",\"lakecolor\":\"white\",\"landcolor\":\"white\",\"showlakes\":true,\"showland\":true,\"subunitcolor\":\"#C8D4E3\"},\"hoverlabel\":{\"align\":\"left\"},\"hovermode\":\"closest\",\"mapbox\":{\"style\":\"light\"},\"paper_bgcolor\":\"white\",\"plot_bgcolor\":\"white\",\"polar\":{\"angularaxis\":{\"gridcolor\":\"#EBF0F8\",\"linecolor\":\"#EBF0F8\",\"ticks\":\"\"},\"bgcolor\":\"white\",\"radialaxis\":{\"gridcolor\":\"#EBF0F8\",\"linecolor\":\"#EBF0F8\",\"ticks\":\"\"}},\"scene\":{\"xaxis\":{\"backgroundcolor\":\"white\",\"gridcolor\":\"#DFE8F3\",\"gridwidth\":2,\"linecolor\":\"#EBF0F8\",\"showbackground\":true,\"ticks\":\"\",\"zerolinecolor\":\"#EBF0F8\"},\"yaxis\":{\"backgroundcolor\":\"white\",\"gridcolor\":\"#DFE8F3\",\"gridwidth\":2,\"linecolor\":\"#EBF0F8\",\"showbackground\":true,\"ticks\":\"\",\"zerolinecolor\":\"#EBF0F8\"},\"zaxis\":{\"backgroundcolor\":\"white\",\"gridcolor\":\"#DFE8F3\",\"gridwidth\":2,\"linecolor\":\"#EBF0F8\",\"showbackground\":true,\"ticks\":\"\",\"zerolinecolor\":\"#EBF0F8\"}},\"shapedefaults\":{\"line\":{\"color\":\"#2a3f5f\"}},\"ternary\":{\"aaxis\":{\"gridcolor\":\"#DFE8F3\",\"linecolor\":\"#A2B1C6\",\"ticks\":\"\"},\"baxis\":{\"gridcolor\":\"#DFE8F3\",\"linecolor\":\"#A2B1C6\",\"ticks\":\"\"},\"bgcolor\":\"white\",\"caxis\":{\"gridcolor\":\"#DFE8F3\",\"linecolor\":\"#A2B1C6\",\"ticks\":\"\"}},\"title\":{\"x\":0.05},\"xaxis\":{\"automargin\":true,\"gridcolor\":\"#EBF0F8\",\"linecolor\":\"#EBF0F8\",\"ticks\":\"\",\"title\":{\"standoff\":15},\"zerolinecolor\":\"#EBF0F8\",\"zerolinewidth\":2},\"yaxis\":{\"automargin\":true,\"gridcolor\":\"#EBF0F8\",\"linecolor\":\"#EBF0F8\",\"ticks\":\"\",\"title\":{\"standoff\":15},\"zerolinecolor\":\"#EBF0F8\",\"zerolinewidth\":2}}},\"title\":{\"text\":\"average_corr\"},\"xaxis\":{\"anchor\":\"y\",\"domain\":[0.0,1.0],\"title\":{\"text\":\"time\"}},\"yaxis\":{\"anchor\":\"x\",\"domain\":[0.0,1.0],\"title\":{\"text\":\"average_corr\"}}},                        {\"responsive\": true}                    ).then(function(){\n",
       "                            \n",
       "var gd = document.getElementById('440e980c-63b2-4612-8884-29d2d0972afe');\n",
       "var x = new MutationObserver(function (mutations, observer) {{\n",
       "        var display = window.getComputedStyle(gd).display;\n",
       "        if (!display || display === 'none') {{\n",
       "            console.log([gd, 'removed!']);\n",
       "            Plotly.purge(gd);\n",
       "            observer.disconnect();\n",
       "        }}\n",
       "}});\n",
       "\n",
       "// Listen for the removal of the full notebook cells\n",
       "var notebookContainer = gd.closest('#notebook-container');\n",
       "if (notebookContainer) {{\n",
       "    x.observe(notebookContainer, {childList: true});\n",
       "}}\n",
       "\n",
       "// Listen for the clearing of the current output cell\n",
       "var outputEl = gd.closest('.output');\n",
       "if (outputEl) {{\n",
       "    x.observe(outputEl, {childList: true});\n",
       "}}\n",
       "\n",
       "                        })                };                });            </script>        </div>"
      ]
     },
     "metadata": {},
     "output_type": "display_data"
    },
    {
     "data": {
      "text/html": [
       "<div>                            <div id=\"3be93d31-deaf-406b-bd39-8e0aad101b4b\" class=\"plotly-graph-div\" style=\"height:525px; width:100%;\"></div>            <script type=\"text/javascript\">                require([\"plotly\"], function(Plotly) {                    window.PLOTLYENV=window.PLOTLYENV || {};                                    if (document.getElementById(\"3be93d31-deaf-406b-bd39-8e0aad101b4b\")) {                    Plotly.newPlot(                        \"3be93d31-deaf-406b-bd39-8e0aad101b4b\",                        [{\"hovertemplate\":\"time=%{x}<br>average_loss=%{y}<extra></extra>\",\"legendgroup\":\"\",\"line\":{\"color\":\"#636efa\",\"dash\":\"solid\"},\"marker\":{\"symbol\":\"circle\"},\"mode\":\"lines\",\"name\":\"\",\"orientation\":\"v\",\"showlegend\":false,\"type\":\"scatter\",\"x\":[0,1,2,3,4,5,6,7,8,9,10,11,12,13,14,15,16,17,18,19,20,21,22,23,24,25,26,27,28,29,30,31,32,33,34,35,36,37,38,39,40,41,42,43,44,45,46,47,48,49,50,51,52,53,54,55,56,57,58,59,60,61,62,63,64,65,66,67,68,69,70,71,72,73,74,75,76,77,78,79,80,81,82,83,84,85,86,87,88,89,90,91,92,93,94,95,96,97,98,99,100,101,102,103,104,105,106,107,108,109,110,111,112,113,114,115,116,117,118,119,120,121,122,123,124,125,126,127,128,129,130,131,132,133,134,135,136,137,138,139,140,141,142,143,144,145,146,147,148,149,150,151,152,153,154,155,156,157,158,159,160,161,162,163,164,165,166,167,168,169,170,171,172,173,174,175,176,177,178,179,180,181,182,183,184,185,186,187,188,189,190,191,192,193,194,195,196,197,198,199,200,201,202,203,204,205,206,207,208,209,210,211,212,213,214,215,216,217,218,219,220,221,222,223,224,225,226,227,228,229,230,231,232,233,234,235,236,237,238,239,240,241,242,243,244,245,246,247,248,249,250,251,252,253,254,255,256,257,258,259,260,261,262,263,264,265,266,267,268,269,270,271,272,273,274,275,276,277,278,279,280,281,282,283,284,285,286,287,288,289,290,291,292,293,294,295,296,297,298,299,300,301,302,303,304,305,306,307,308,309,310,311,312,313,314,315,316,317,318,319,320,321,322,323,324,325,326,327,328,329,330,331,332,333,334,335,336,337,338,339,340,341,342,343,344,345,346,347,348,349,350,351,352,353,354,355,356,357,358,359,360,361,362,363,364,365,366,367,368,369,370,371,372,373,374,375,376,377,378,379,380,381,382,383,384,385,386,387,388,389,390,391,392,393,394,395,396,397,398,399],\"xaxis\":\"x\",\"y\":[0.8366410136222839,0.8354031443595886,0.8348369002342224,0.8344117760658264,0.8340583801269531,0.8337146878242493,0.8334673762321472,0.8332223892211914,0.8330399394035339,0.8328146696090698,0.8326306939125061,0.8324891686439514,0.8323359608650207,0.8322041749954223,0.8320701956748963,0.8319208860397339,0.8318032383918762,0.8316779971122742,0.8315460801124572,0.8314554452896118,0.8313472151756287,0.8312750816345215,0.8311975598335266,0.8311192035675049,0.831032395362854,0.8309600591659546,0.830861759185791,0.8307947993278504,0.8307336449623108,0.8306642532348633,0.8306020379066468,0.8305238366127015,0.8304605960845948,0.830403208732605,0.8303488492965698,0.8302712678909302,0.8302307963371277,0.8301711797714233,0.8301347613334655,0.8300790667533875,0.8300289034843444,0.8299689769744873,0.8299183487892151,0.8298774600028992,0.8298627376556397,0.8298271656036377,0.8297834992408752,0.8297539234161377,0.829698121547699,0.8296545386314392,0.8295886874198913,0.8295584917068481,0.8295510768890381,0.8295041799545289,0.8294721484184265,0.8294373631477356,0.8294044137001038,0.8293659687042236,0.8293254733085632,0.8293205976486206,0.8293356776237488,0.8292591333389282,0.8292481780052186,0.8292256951332092,0.8291856288909912,0.8291594028472901,0.8291474938392639,0.8291011691093445,0.8290660500526428,0.8290268063545227,0.8289972543716431,0.8290513038635254,0.8290438055992126,0.8289996266365052,0.8289769768714905,0.8289410591125488,0.8289660811424255,0.8289315223693847,0.8288713693618774,0.8288843631744385,0.8288365125656127,0.8288173317909241,0.8287886857986451,0.8288252115249634,0.8287657141685486,0.8287653446197509,0.8287786245346069,0.8287406802177429,0.8287212491035462,0.8287033796310425,0.8287174940109253,0.8286885261535645,0.8286693334579468,0.8286563038825989,0.8286589026451111,0.8286284685134888,0.8286481499671936,0.8286271691322327,0.8285931348800659,0.8285781502723694,0.8286175608634949,0.828580379486084,0.8285867214202881,0.8285592436790467,0.8285549402236938,0.8285328865051269,0.8285024762153625,0.8284886956214905,0.8285105466842652,0.8285029053688049,0.8284684777259826,0.828472888469696,0.8284709334373475,0.8285096406936645,0.8284244060516357,0.8284096121788025,0.8284554123878479,0.8284430027008056,0.8284336209297181,0.8284475088119507,0.8284473538398742,0.828428316116333,0.8284131288528442,0.8284403443336487,0.82838214635849,0.8284020185470581,0.8283970952033997,0.8283520936965942,0.8283630609512329,0.828358256816864,0.828368854522705,0.8283453226089478,0.8283410549163819,0.8283199548721314,0.8283360838890076,0.8283499360084534,0.8283461928367615,0.8283242583274841,0.8283105254173279,0.8283648014068603,0.8283473730087281,0.8283061742782593,0.828314232826233,0.8283121228218079,0.8282891988754273,0.8282873868942261,0.8282951474189758,0.828346848487854,0.8282818555831909,0.828316068649292,0.828350818157196,0.8283081293106079,0.8283113241195679,0.8283305883407592,0.8282901763916015,0.8283057093620301,0.8283321142196656,0.8282810807228088,0.8282705307006836,0.8283394813537598,0.8282871961593627,0.8283074617385864,0.8283255219459533,0.8283252239227294,0.828298544883728,0.8283425450325013,0.8283055305480957,0.8282994747161865,0.8283069372177124,0.8283035278320312,0.8283273935317993,0.8283431887626648,0.828345775604248,0.8283337473869323,0.8283392906188964,0.8283585786819458,0.8283536911010743,0.8283172249794006,0.8283564448356628,0.828331184387207,0.8283600211143494,0.8283744573593139,0.8283454298973083,0.8283817887306213,0.8283997058868409,0.8283797979354859,0.8284350037574768,0.828413987159729,0.8284321308135987,0.8284487247467041,0.8284822702407837,0.828523588180542,0.8284939408302308,0.8284695744514465,0.8284592270851135,0.8284490466117859,0.8284782409667969,0.8285473108291626,0.828479015827179,0.8285372614860534,0.8285037159919739,0.8285080194473267,0.8285342454910278,0.8285059928894043,0.8285730242729187,0.828515601158142,0.8285252332687378,0.828542685508728,0.8285346031188965,0.82851802110672,0.8285503506660461,0.8285104990005493,0.8285375833511353,0.8286085963249207,0.828553581237793,0.8285530209541321,0.8286063194274902,0.8286259055137635,0.828631865978241,0.8286242127418518,0.828637957572937,0.8286835551261902,0.8286551356315612,0.8286437392234802,0.8286982417106629,0.828695023059845,0.8286703586578369,0.8287024617195129,0.8286963939666748,0.8286874771118165,0.8287648797035218,0.8287220358848572,0.8287491798400879,0.8287683606147767,0.8288273334503173,0.8288317799568177,0.8288168430328369,0.8287863254547119,0.8288186430931092,0.828849196434021,0.8288026571273803,0.8288493275642395,0.828861391544342,0.8288625121116638,0.8289060354232788,0.8289116621017456,0.8289712071418762,0.8289364814758301,0.8289449691772461,0.8289583444595336,0.8289837718009949,0.8290187835693359,0.8289422154426574,0.8289947748184204,0.8290334701538086,0.8290217161178589,0.8290392994880676,0.8290292263031006,0.8290466904640198,0.8290869951248169,0.8291080474853516,0.8290881752967835,0.829135262966156,0.8291708588600158,0.8291435599327087,0.8292144179344177,0.8291965365409851,0.8292033314704895,0.8292218208312988,0.8292537093162536,0.829256284236908,0.8292638659477234,0.8292778372764588,0.8292476773262024,0.8292397141456604,0.8292566061019897,0.8293541193008422,0.8293354153633118,0.8293681383132935,0.8294159531593323,0.8294586300849914,0.8294354677200317,0.8294586181640625,0.8294655442237854,0.8294340610504151,0.8294486761093139,0.8295125484466552,0.829471206665039,0.8295046925544739,0.8294707536697388,0.8295465469360351,0.8295398116111755,0.8295753955841064,0.8296460628509521,0.8296714425086975,0.8297159194946289,0.8297354102134704,0.8297074913978577,0.8297213315963745,0.8297410011291504,0.8297526955604553,0.8297840356826782,0.8297538518905639,0.8297364592552186,0.8297523140907288,0.8298279762268066,0.8297527313232422,0.8297985792160034,0.8298278212547302,0.829831576347351,0.8298583865165711,0.829902994632721,0.8299792528152465,0.8299737811088562,0.8300164103507995,0.8300400137901306,0.8300575613975525,0.8300778985023498,0.8301502943038941,0.8301331639289856,0.8301434755325318,0.8301864981651306,0.8302060127258301,0.830215048789978,0.8302565932273864,0.8302997589111328,0.8302768468856812,0.8303055763244629,0.830333697795868,0.8304159641265869,0.8303448915481567,0.8304130434989929,0.8304120182991028,0.8304348349571228,0.830406904220581,0.8304035425186157,0.8305501937866211,0.8304921507835388,0.8305226922035217,0.8305842041969299,0.8305657744407654,0.8304984092712402,0.8305946350097656,0.8305552244186402,0.8306345105171203,0.8307249546051025,0.8306666374206543,0.8306913852691651,0.8307488441467286,0.8307542085647583,0.8307863235473633,0.8308047890663147,0.8308245658874511,0.8308773756027221,0.8308871984481812,0.830907690525055,0.8310092210769653,0.8309777736663818,0.8308897972106933,0.8310141444206238,0.8310407638549805,0.8310512661933899,0.831000542640686,0.8311339497566224,0.8310843348503113,0.831096076965332,0.831125283241272,0.8311238884925842,0.8311328768730164,0.8311870932579041,0.8312132835388184,0.8312090396881103,0.8313117980957031,0.8313826799392701,0.8313478469848633,0.8314191699028015,0.8313524603843689,0.8313716888427735,0.8313494324684143,0.8314741969108581,0.8314747333526611,0.8315289855003357,0.8314877510070801,0.831586754322052,0.831529414653778,0.8316001653671264,0.8315431118011475,0.8316954731941223,0.831736969947815,0.8317235946655274,0.8317267179489136,0.8317169308662414,0.8318039774894714,0.831909430027008,0.8318762660026551,0.8318284153938293,0.831862497329712,0.8318137168884278,0.8318767786026001,0.8319194078445434],\"yaxis\":\"y\"}],                        {\"legend\":{\"tracegroupgap\":0},\"template\":{\"data\":{\"bar\":[{\"error_x\":{\"color\":\"#2a3f5f\"},\"error_y\":{\"color\":\"#2a3f5f\"},\"marker\":{\"line\":{\"color\":\"white\",\"width\":0.5},\"pattern\":{\"fillmode\":\"overlay\",\"size\":10,\"solidity\":0.2}},\"type\":\"bar\"}],\"barpolar\":[{\"marker\":{\"line\":{\"color\":\"white\",\"width\":0.5},\"pattern\":{\"fillmode\":\"overlay\",\"size\":10,\"solidity\":0.2}},\"type\":\"barpolar\"}],\"carpet\":[{\"aaxis\":{\"endlinecolor\":\"#2a3f5f\",\"gridcolor\":\"#C8D4E3\",\"linecolor\":\"#C8D4E3\",\"minorgridcolor\":\"#C8D4E3\",\"startlinecolor\":\"#2a3f5f\"},\"baxis\":{\"endlinecolor\":\"#2a3f5f\",\"gridcolor\":\"#C8D4E3\",\"linecolor\":\"#C8D4E3\",\"minorgridcolor\":\"#C8D4E3\",\"startlinecolor\":\"#2a3f5f\"},\"type\":\"carpet\"}],\"choropleth\":[{\"colorbar\":{\"outlinewidth\":0,\"ticks\":\"\"},\"type\":\"choropleth\"}],\"contour\":[{\"colorbar\":{\"outlinewidth\":0,\"ticks\":\"\"},\"colorscale\":[[0.0,\"#0d0887\"],[0.1111111111111111,\"#46039f\"],[0.2222222222222222,\"#7201a8\"],[0.3333333333333333,\"#9c179e\"],[0.4444444444444444,\"#bd3786\"],[0.5555555555555556,\"#d8576b\"],[0.6666666666666666,\"#ed7953\"],[0.7777777777777778,\"#fb9f3a\"],[0.8888888888888888,\"#fdca26\"],[1.0,\"#f0f921\"]],\"type\":\"contour\"}],\"contourcarpet\":[{\"colorbar\":{\"outlinewidth\":0,\"ticks\":\"\"},\"type\":\"contourcarpet\"}],\"heatmap\":[{\"colorbar\":{\"outlinewidth\":0,\"ticks\":\"\"},\"colorscale\":[[0.0,\"#0d0887\"],[0.1111111111111111,\"#46039f\"],[0.2222222222222222,\"#7201a8\"],[0.3333333333333333,\"#9c179e\"],[0.4444444444444444,\"#bd3786\"],[0.5555555555555556,\"#d8576b\"],[0.6666666666666666,\"#ed7953\"],[0.7777777777777778,\"#fb9f3a\"],[0.8888888888888888,\"#fdca26\"],[1.0,\"#f0f921\"]],\"type\":\"heatmap\"}],\"heatmapgl\":[{\"colorbar\":{\"outlinewidth\":0,\"ticks\":\"\"},\"colorscale\":[[0.0,\"#0d0887\"],[0.1111111111111111,\"#46039f\"],[0.2222222222222222,\"#7201a8\"],[0.3333333333333333,\"#9c179e\"],[0.4444444444444444,\"#bd3786\"],[0.5555555555555556,\"#d8576b\"],[0.6666666666666666,\"#ed7953\"],[0.7777777777777778,\"#fb9f3a\"],[0.8888888888888888,\"#fdca26\"],[1.0,\"#f0f921\"]],\"type\":\"heatmapgl\"}],\"histogram\":[{\"marker\":{\"pattern\":{\"fillmode\":\"overlay\",\"size\":10,\"solidity\":0.2}},\"type\":\"histogram\"}],\"histogram2d\":[{\"colorbar\":{\"outlinewidth\":0,\"ticks\":\"\"},\"colorscale\":[[0.0,\"#0d0887\"],[0.1111111111111111,\"#46039f\"],[0.2222222222222222,\"#7201a8\"],[0.3333333333333333,\"#9c179e\"],[0.4444444444444444,\"#bd3786\"],[0.5555555555555556,\"#d8576b\"],[0.6666666666666666,\"#ed7953\"],[0.7777777777777778,\"#fb9f3a\"],[0.8888888888888888,\"#fdca26\"],[1.0,\"#f0f921\"]],\"type\":\"histogram2d\"}],\"histogram2dcontour\":[{\"colorbar\":{\"outlinewidth\":0,\"ticks\":\"\"},\"colorscale\":[[0.0,\"#0d0887\"],[0.1111111111111111,\"#46039f\"],[0.2222222222222222,\"#7201a8\"],[0.3333333333333333,\"#9c179e\"],[0.4444444444444444,\"#bd3786\"],[0.5555555555555556,\"#d8576b\"],[0.6666666666666666,\"#ed7953\"],[0.7777777777777778,\"#fb9f3a\"],[0.8888888888888888,\"#fdca26\"],[1.0,\"#f0f921\"]],\"type\":\"histogram2dcontour\"}],\"mesh3d\":[{\"colorbar\":{\"outlinewidth\":0,\"ticks\":\"\"},\"type\":\"mesh3d\"}],\"parcoords\":[{\"line\":{\"colorbar\":{\"outlinewidth\":0,\"ticks\":\"\"}},\"type\":\"parcoords\"}],\"pie\":[{\"automargin\":true,\"type\":\"pie\"}],\"scatter\":[{\"marker\":{\"colorbar\":{\"outlinewidth\":0,\"ticks\":\"\"}},\"type\":\"scatter\"}],\"scatter3d\":[{\"line\":{\"colorbar\":{\"outlinewidth\":0,\"ticks\":\"\"}},\"marker\":{\"colorbar\":{\"outlinewidth\":0,\"ticks\":\"\"}},\"type\":\"scatter3d\"}],\"scattercarpet\":[{\"marker\":{\"colorbar\":{\"outlinewidth\":0,\"ticks\":\"\"}},\"type\":\"scattercarpet\"}],\"scattergeo\":[{\"marker\":{\"colorbar\":{\"outlinewidth\":0,\"ticks\":\"\"}},\"type\":\"scattergeo\"}],\"scattergl\":[{\"marker\":{\"colorbar\":{\"outlinewidth\":0,\"ticks\":\"\"}},\"type\":\"scattergl\"}],\"scattermapbox\":[{\"marker\":{\"colorbar\":{\"outlinewidth\":0,\"ticks\":\"\"}},\"type\":\"scattermapbox\"}],\"scatterpolar\":[{\"marker\":{\"colorbar\":{\"outlinewidth\":0,\"ticks\":\"\"}},\"type\":\"scatterpolar\"}],\"scatterpolargl\":[{\"marker\":{\"colorbar\":{\"outlinewidth\":0,\"ticks\":\"\"}},\"type\":\"scatterpolargl\"}],\"scatterternary\":[{\"marker\":{\"colorbar\":{\"outlinewidth\":0,\"ticks\":\"\"}},\"type\":\"scatterternary\"}],\"surface\":[{\"colorbar\":{\"outlinewidth\":0,\"ticks\":\"\"},\"colorscale\":[[0.0,\"#0d0887\"],[0.1111111111111111,\"#46039f\"],[0.2222222222222222,\"#7201a8\"],[0.3333333333333333,\"#9c179e\"],[0.4444444444444444,\"#bd3786\"],[0.5555555555555556,\"#d8576b\"],[0.6666666666666666,\"#ed7953\"],[0.7777777777777778,\"#fb9f3a\"],[0.8888888888888888,\"#fdca26\"],[1.0,\"#f0f921\"]],\"type\":\"surface\"}],\"table\":[{\"cells\":{\"fill\":{\"color\":\"#EBF0F8\"},\"line\":{\"color\":\"white\"}},\"header\":{\"fill\":{\"color\":\"#C8D4E3\"},\"line\":{\"color\":\"white\"}},\"type\":\"table\"}]},\"layout\":{\"annotationdefaults\":{\"arrowcolor\":\"#2a3f5f\",\"arrowhead\":0,\"arrowwidth\":1},\"autotypenumbers\":\"strict\",\"coloraxis\":{\"colorbar\":{\"outlinewidth\":0,\"ticks\":\"\"}},\"colorscale\":{\"diverging\":[[0,\"#8e0152\"],[0.1,\"#c51b7d\"],[0.2,\"#de77ae\"],[0.3,\"#f1b6da\"],[0.4,\"#fde0ef\"],[0.5,\"#f7f7f7\"],[0.6,\"#e6f5d0\"],[0.7,\"#b8e186\"],[0.8,\"#7fbc41\"],[0.9,\"#4d9221\"],[1,\"#276419\"]],\"sequential\":[[0.0,\"#0d0887\"],[0.1111111111111111,\"#46039f\"],[0.2222222222222222,\"#7201a8\"],[0.3333333333333333,\"#9c179e\"],[0.4444444444444444,\"#bd3786\"],[0.5555555555555556,\"#d8576b\"],[0.6666666666666666,\"#ed7953\"],[0.7777777777777778,\"#fb9f3a\"],[0.8888888888888888,\"#fdca26\"],[1.0,\"#f0f921\"]],\"sequentialminus\":[[0.0,\"#0d0887\"],[0.1111111111111111,\"#46039f\"],[0.2222222222222222,\"#7201a8\"],[0.3333333333333333,\"#9c179e\"],[0.4444444444444444,\"#bd3786\"],[0.5555555555555556,\"#d8576b\"],[0.6666666666666666,\"#ed7953\"],[0.7777777777777778,\"#fb9f3a\"],[0.8888888888888888,\"#fdca26\"],[1.0,\"#f0f921\"]]},\"colorway\":[\"#636efa\",\"#EF553B\",\"#00cc96\",\"#ab63fa\",\"#FFA15A\",\"#19d3f3\",\"#FF6692\",\"#B6E880\",\"#FF97FF\",\"#FECB52\"],\"font\":{\"color\":\"#2a3f5f\"},\"geo\":{\"bgcolor\":\"white\",\"lakecolor\":\"white\",\"landcolor\":\"white\",\"showlakes\":true,\"showland\":true,\"subunitcolor\":\"#C8D4E3\"},\"hoverlabel\":{\"align\":\"left\"},\"hovermode\":\"closest\",\"mapbox\":{\"style\":\"light\"},\"paper_bgcolor\":\"white\",\"plot_bgcolor\":\"white\",\"polar\":{\"angularaxis\":{\"gridcolor\":\"#EBF0F8\",\"linecolor\":\"#EBF0F8\",\"ticks\":\"\"},\"bgcolor\":\"white\",\"radialaxis\":{\"gridcolor\":\"#EBF0F8\",\"linecolor\":\"#EBF0F8\",\"ticks\":\"\"}},\"scene\":{\"xaxis\":{\"backgroundcolor\":\"white\",\"gridcolor\":\"#DFE8F3\",\"gridwidth\":2,\"linecolor\":\"#EBF0F8\",\"showbackground\":true,\"ticks\":\"\",\"zerolinecolor\":\"#EBF0F8\"},\"yaxis\":{\"backgroundcolor\":\"white\",\"gridcolor\":\"#DFE8F3\",\"gridwidth\":2,\"linecolor\":\"#EBF0F8\",\"showbackground\":true,\"ticks\":\"\",\"zerolinecolor\":\"#EBF0F8\"},\"zaxis\":{\"backgroundcolor\":\"white\",\"gridcolor\":\"#DFE8F3\",\"gridwidth\":2,\"linecolor\":\"#EBF0F8\",\"showbackground\":true,\"ticks\":\"\",\"zerolinecolor\":\"#EBF0F8\"}},\"shapedefaults\":{\"line\":{\"color\":\"#2a3f5f\"}},\"ternary\":{\"aaxis\":{\"gridcolor\":\"#DFE8F3\",\"linecolor\":\"#A2B1C6\",\"ticks\":\"\"},\"baxis\":{\"gridcolor\":\"#DFE8F3\",\"linecolor\":\"#A2B1C6\",\"ticks\":\"\"},\"bgcolor\":\"white\",\"caxis\":{\"gridcolor\":\"#DFE8F3\",\"linecolor\":\"#A2B1C6\",\"ticks\":\"\"}},\"title\":{\"x\":0.05},\"xaxis\":{\"automargin\":true,\"gridcolor\":\"#EBF0F8\",\"linecolor\":\"#EBF0F8\",\"ticks\":\"\",\"title\":{\"standoff\":15},\"zerolinecolor\":\"#EBF0F8\",\"zerolinewidth\":2},\"yaxis\":{\"automargin\":true,\"gridcolor\":\"#EBF0F8\",\"linecolor\":\"#EBF0F8\",\"ticks\":\"\",\"title\":{\"standoff\":15},\"zerolinecolor\":\"#EBF0F8\",\"zerolinewidth\":2}}},\"title\":{\"text\":\"average_loss\"},\"xaxis\":{\"anchor\":\"y\",\"domain\":[0.0,1.0],\"title\":{\"text\":\"time\"}},\"yaxis\":{\"anchor\":\"x\",\"domain\":[0.0,1.0],\"title\":{\"text\":\"average_loss\"}}},                        {\"responsive\": true}                    ).then(function(){\n",
       "                            \n",
       "var gd = document.getElementById('3be93d31-deaf-406b-bd39-8e0aad101b4b');\n",
       "var x = new MutationObserver(function (mutations, observer) {{\n",
       "        var display = window.getComputedStyle(gd).display;\n",
       "        if (!display || display === 'none') {{\n",
       "            console.log([gd, 'removed!']);\n",
       "            Plotly.purge(gd);\n",
       "            observer.disconnect();\n",
       "        }}\n",
       "}});\n",
       "\n",
       "// Listen for the removal of the full notebook cells\n",
       "var notebookContainer = gd.closest('#notebook-container');\n",
       "if (notebookContainer) {{\n",
       "    x.observe(notebookContainer, {childList: true});\n",
       "}}\n",
       "\n",
       "// Listen for the clearing of the current output cell\n",
       "var outputEl = gd.closest('.output');\n",
       "if (outputEl) {{\n",
       "    x.observe(outputEl, {childList: true});\n",
       "}}\n",
       "\n",
       "                        })                };                });            </script>        </div>"
      ]
     },
     "metadata": {},
     "output_type": "display_data"
    }
   ],
   "source": [
    "for col in ['average_corr', 'average_loss']:\n",
    "    fig = px.line(\n",
    "        progress_df, x=\"time\", y=col, \n",
    "        title=col, template='plotly_white'\n",
    "    )\n",
    "\n",
    "    fig.show()"
   ]
  }
 ],
 "metadata": {
  "kernelspec": {
   "display_name": "Python 3",
   "language": "python",
   "name": "python3"
  },
  "language_info": {
   "codemirror_mode": {
    "name": "ipython",
    "version": 3
   },
   "file_extension": ".py",
   "mimetype": "text/x-python",
   "name": "python",
   "nbconvert_exporter": "python",
   "pygments_lexer": "ipython3",
   "version": "3.7.10"
  },
  "papermill": {
   "default_parameters": {},
   "duration": 10286.538996,
   "end_time": "2022-04-08T20:35:29.051125",
   "environment_variables": {},
   "exception": null,
   "input_path": "__notebook__.ipynb",
   "output_path": "__notebook__.ipynb",
   "parameters": {},
   "start_time": "2022-04-08T17:44:02.512129",
   "version": "2.3.3"
  }
 },
 "nbformat": 4,
 "nbformat_minor": 5
}
