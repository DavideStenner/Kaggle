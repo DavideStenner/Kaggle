{
 "cells": [
  {
   "cell_type": "code",
   "execution_count": 1,
   "id": "341dc968",
   "metadata": {
    "execution": {
     "iopub.execute_input": "2022-04-10T08:45:08.302292Z",
     "iopub.status.busy": "2022-04-10T08:45:08.301690Z",
     "iopub.status.idle": "2022-04-10T08:45:17.644921Z",
     "shell.execute_reply": "2022-04-10T08:45:17.645435Z",
     "shell.execute_reply.started": "2022-04-10T07:29:25.678928Z"
    },
    "papermill": {
     "duration": 9.37261,
     "end_time": "2022-04-10T08:45:17.645748",
     "exception": false,
     "start_time": "2022-04-10T08:45:08.273138",
     "status": "completed"
    },
    "tags": []
   },
   "outputs": [
    {
     "name": "stderr",
     "output_type": "stream",
     "text": [
      "2022-04-10 08:45:11.206696: W tensorflow/stream_executor/platform/default/dso_loader.cc:60] Could not load dynamic library 'libcudart.so.11.0'; dlerror: libcudart.so.11.0: cannot open shared object file: No such file or directory; LD_LIBRARY_PATH: /opt/conda/lib\n",
      "2022-04-10 08:45:11.206835: I tensorflow/stream_executor/cuda/cudart_stub.cc:29] Ignore above cudart dlerror if you do not have a GPU set up on your machine.\n"
     ]
    },
    {
     "data": {
      "text/html": [
       "<style type='text/css'>\n",
       ".datatable table.frame { margin-bottom: 0; }\n",
       ".datatable table.frame thead { border-bottom: none; }\n",
       ".datatable table.frame tr.coltypes td {  color: #FFFFFF;  line-height: 6px;  padding: 0 0.5em;}\n",
       ".datatable .bool    { background: #DDDD99; }\n",
       ".datatable .object  { background: #565656; }\n",
       ".datatable .int     { background: #5D9E5D; }\n",
       ".datatable .float   { background: #4040CC; }\n",
       ".datatable .str     { background: #CC4040; }\n",
       ".datatable .time    { background: #40CC40; }\n",
       ".datatable .row_index {  background: var(--jp-border-color3);  border-right: 1px solid var(--jp-border-color0);  color: var(--jp-ui-font-color3);  font-size: 9px;}\n",
       ".datatable .frame tbody td { text-align: left; }\n",
       ".datatable .frame tr.coltypes .row_index {  background: var(--jp-border-color0);}\n",
       ".datatable th:nth-child(2) { padding-left: 12px; }\n",
       ".datatable .hellipsis {  color: var(--jp-cell-editor-border-color);}\n",
       ".datatable .vellipsis {  background: var(--jp-layout-color0);  color: var(--jp-cell-editor-border-color);}\n",
       ".datatable .na {  color: var(--jp-cell-editor-border-color);  font-size: 80%;}\n",
       ".datatable .sp {  opacity: 0.25;}\n",
       ".datatable .footer { font-size: 9px; }\n",
       ".datatable .frame_dimensions {  background: var(--jp-border-color3);  border-top: 1px solid var(--jp-border-color0);  color: var(--jp-ui-font-color3);  display: inline-block;  opacity: 0.6;  padding: 1px 10px 1px 5px;}\n",
       "</style>\n"
      ],
      "text/plain": [
       "<IPython.core.display.HTML object>"
      ]
     },
     "metadata": {},
     "output_type": "display_data"
    },
    {
     "name": "stderr",
     "output_type": "stream",
     "text": [
      "2022-04-10 08:45:17.592864: I tensorflow/compiler/jit/xla_cpu_device.cc:41] Not creating XLA devices, tf_xla_enable_xla_devices not set\n",
      "2022-04-10 08:45:17.596005: W tensorflow/stream_executor/platform/default/dso_loader.cc:60] Could not load dynamic library 'libcuda.so.1'; dlerror: libcuda.so.1: cannot open shared object file: No such file or directory; LD_LIBRARY_PATH: /opt/conda/lib\n",
      "2022-04-10 08:45:17.596048: W tensorflow/stream_executor/cuda/cuda_driver.cc:326] failed call to cuInit: UNKNOWN ERROR (303)\n",
      "2022-04-10 08:45:17.596081: I tensorflow/stream_executor/cuda/cuda_diagnostics.cc:156] kernel driver does not appear to be running on this host (e37d2de2e96c): /proc/driver/nvidia/version does not exist\n",
      "2022-04-10 08:45:17.597593: I tensorflow/core/platform/cpu_feature_guard.cc:142] This TensorFlow binary is optimized with oneAPI Deep Neural Network Library (oneDNN) to use the following CPU instructions in performance-critical operations:  AVX2 FMA\n",
      "To enable them in other operations, rebuild TensorFlow with the appropriate compiler flags.\n",
      "2022-04-10 08:45:17.598039: I tensorflow/compiler/jit/xla_gpu_device.cc:99] Not creating XLA devices, tf_xla_enable_xla_devices not set\n"
     ]
    }
   ],
   "source": [
    "import pandas as pd\n",
    "from scipy import stats\n",
    "import os\n",
    "import gc\n",
    "import numpy as np\n",
    "import plotly.express as px\n",
    "import tensorflow as tf\n",
    "import time\n",
    "import tensorflow_probability as tfp\n",
    "import pickle\n",
    "import time\n",
    "from tensorflow.keras import mixed_precision\n",
    "\n",
    "from ubq_nn_utils import (\n",
    "    PARAMS, tfp_correlation, create_conv, get_dataset\n",
    ")\n",
    "\n",
    "from ubq_utilities import (\n",
    "    get_time_series_cross_val_splits,\n",
    "    get_hardware_strategy,\n",
    "    calculate_corr, corr_sharpe_lgb,\n",
    "    TIME_COL, FOLD_NAME, TARGET_COL,\n",
    "    STARTING_FEATURE_NAME, N_FOLD, \n",
    "    STARTING_CAT_FEAT_NAME, STARTING_NUMERIC_FEAT_NAME,\n",
    "    RANDOM_STATE, SUBSAMPLE_FOLD\n",
    ")\n",
    "\n",
    "N_ROUND = 300\n",
    "N_FOLD = 5\n",
    "\n",
    "tf.random.set_seed(RANDOM_STATE)\n",
    "\n",
    "path_data = '../input/ubq-preprocess-mean-other'"
   ]
  },
  {
   "cell_type": "code",
   "execution_count": 2,
   "id": "050749b0",
   "metadata": {
    "execution": {
     "iopub.execute_input": "2022-04-10T08:45:17.689164Z",
     "iopub.status.busy": "2022-04-10T08:45:17.688441Z",
     "iopub.status.idle": "2022-04-10T08:45:24.013970Z",
     "shell.execute_reply": "2022-04-10T08:45:24.013236Z",
     "shell.execute_reply.started": "2022-04-10T07:29:35.253246Z"
    },
    "papermill": {
     "duration": 6.348883,
     "end_time": "2022-04-10T08:45:24.014132",
     "exception": false,
     "start_time": "2022-04-10T08:45:17.665249",
     "status": "completed"
    },
    "tags": []
   },
   "outputs": [
    {
     "name": "stderr",
     "output_type": "stream",
     "text": [
      "2022-04-10 08:45:17.716130: I tensorflow/core/distributed_runtime/rpc/grpc_channel.cc:301] Initialize GrpcChannelCache for job worker -> {0 -> 10.0.0.2:8470}\n",
      "2022-04-10 08:45:17.716211: I tensorflow/core/distributed_runtime/rpc/grpc_channel.cc:301] Initialize GrpcChannelCache for job localhost -> {0 -> localhost:30019}\n",
      "2022-04-10 08:45:17.741081: I tensorflow/core/distributed_runtime/rpc/grpc_channel.cc:301] Initialize GrpcChannelCache for job worker -> {0 -> 10.0.0.2:8470}\n",
      "2022-04-10 08:45:17.741137: I tensorflow/core/distributed_runtime/rpc/grpc_channel.cc:301] Initialize GrpcChannelCache for job localhost -> {0 -> localhost:30019}\n",
      "2022-04-10 08:45:17.741744: I tensorflow/core/distributed_runtime/rpc/grpc_server_lib.cc:411] Started server with target: grpc://localhost:30019\n"
     ]
    },
    {
     "name": "stdout",
     "output_type": "stream",
     "text": [
      "Running on TPU  grpc://10.0.0.2:8470\n",
      "REPLICAS:  8\n"
     ]
    }
   ],
   "source": [
    "tpu, strategy = get_hardware_strategy()\n",
    "\n",
    "BATCH_SIZE = 512 * strategy.num_replicas_in_sync\n",
    "AUTO = tf.data.experimental.AUTOTUNE"
   ]
  },
  {
   "cell_type": "code",
   "execution_count": 3,
   "id": "eae7ff92",
   "metadata": {
    "execution": {
     "iopub.execute_input": "2022-04-10T08:45:24.059085Z",
     "iopub.status.busy": "2022-04-10T08:45:24.058374Z",
     "iopub.status.idle": "2022-04-10T08:45:24.071154Z",
     "shell.execute_reply": "2022-04-10T08:45:24.070558Z",
     "shell.execute_reply.started": "2022-04-10T07:29:41.340526Z"
    },
    "papermill": {
     "duration": 0.037513,
     "end_time": "2022-04-10T08:45:24.071290",
     "exception": false,
     "start_time": "2022-04-10T08:45:24.033777",
     "status": "completed"
    },
    "tags": []
   },
   "outputs": [],
   "source": [
    "with open(os.path.join(path_data, 'ALL_FEATURE.pkl'), 'rb') as file:\n",
    "    ALL_FEATURE = pickle.load(file)\n",
    "\n",
    "PARAMS['num_total_feature'] = len(ALL_FEATURE)"
   ]
  },
  {
   "cell_type": "code",
   "execution_count": 4,
   "id": "29a7c670",
   "metadata": {
    "execution": {
     "iopub.execute_input": "2022-04-10T08:45:24.115247Z",
     "iopub.status.busy": "2022-04-10T08:45:24.114256Z",
     "iopub.status.idle": "2022-04-10T08:45:55.453268Z",
     "shell.execute_reply": "2022-04-10T08:45:55.453868Z",
     "shell.execute_reply.started": "2022-04-10T07:29:41.358382Z"
    },
    "papermill": {
     "duration": 31.362523,
     "end_time": "2022-04-10T08:45:55.454041",
     "exception": false,
     "start_time": "2022-04-10T08:45:24.091518",
     "status": "completed"
    },
    "tags": []
   },
   "outputs": [
    {
     "name": "stdout",
     "output_type": "stream",
     "text": [
      "Importing pd df\n"
     ]
    },
    {
     "data": {
      "text/plain": [
       "64"
      ]
     },
     "execution_count": 4,
     "metadata": {},
     "output_type": "execute_result"
    }
   ],
   "source": [
    "print('Importing pd df')\n",
    "data = pd.read_pickle(\n",
    "    os.path.join(path_data, f'train_16_fe.pkl')\n",
    ")\n",
    "\n",
    "gc.collect()"
   ]
  },
  {
   "cell_type": "code",
   "execution_count": 5,
   "id": "591cd040",
   "metadata": {
    "execution": {
     "iopub.execute_input": "2022-04-10T08:45:55.506305Z",
     "iopub.status.busy": "2022-04-10T08:45:55.505665Z",
     "iopub.status.idle": "2022-04-10T08:45:55.512436Z",
     "shell.execute_reply": "2022-04-10T08:45:55.510659Z",
     "shell.execute_reply.started": "2022-04-10T07:30:10.397615Z"
    },
    "papermill": {
     "duration": 0.038515,
     "end_time": "2022-04-10T08:45:55.512636",
     "exception": false,
     "start_time": "2022-04-10T08:45:55.474121",
     "status": "completed"
    },
    "tags": []
   },
   "outputs": [
    {
     "name": "stdout",
     "output_type": "stream",
     "text": [
      "Using: 3141410 rows\n"
     ]
    }
   ],
   "source": [
    "print(f'Using: {data.shape[0]} rows')"
   ]
  },
  {
   "cell_type": "code",
   "execution_count": 6,
   "id": "7230c41f",
   "metadata": {
    "execution": {
     "iopub.execute_input": "2022-04-10T08:45:55.563597Z",
     "iopub.status.busy": "2022-04-10T08:45:55.562845Z",
     "iopub.status.idle": "2022-04-10T08:45:56.338455Z",
     "shell.execute_reply": "2022-04-10T08:45:56.337863Z",
     "shell.execute_reply.started": "2022-04-10T07:30:10.404485Z"
    },
    "papermill": {
     "duration": 0.800709,
     "end_time": "2022-04-10T08:45:56.338606",
     "exception": false,
     "start_time": "2022-04-10T08:45:55.537897",
     "status": "completed"
    },
    "tags": []
   },
   "outputs": [],
   "source": [
    "fold_embargo_zip = get_time_series_cross_val_splits(data, cv=N_FOLD, embargo=50, min_time_to_use=0)\n",
    "\n",
    "fold_split = [\n",
    "    [\n",
    "        np.where(data[TIME_COL].isin(train_index))[0], \n",
    "        np.where(data[TIME_COL].isin(test_index))[0]\n",
    "    ]\n",
    "    for train_index, test_index in fold_embargo_zip\n",
    "]\n",
    "\n",
    "time_id_split = [\n",
    "    data[TIME_COL].loc[test_index].values\n",
    "    for _, test_index in fold_split\n",
    "]\n",
    "\n",
    "first_element_test_split = np.array([\n",
    "    data[TARGET_COL].loc[test_index].iloc[0]\n",
    "    for _, test_index in fold_split\n",
    "])"
   ]
  },
  {
   "cell_type": "code",
   "execution_count": 7,
   "id": "002d5871",
   "metadata": {
    "execution": {
     "iopub.execute_input": "2022-04-10T08:45:56.384540Z",
     "iopub.status.busy": "2022-04-10T08:45:56.383828Z",
     "iopub.status.idle": "2022-04-10T08:45:56.581977Z",
     "shell.execute_reply": "2022-04-10T08:45:56.582458Z",
     "shell.execute_reply.started": "2022-04-10T07:30:11.072610Z"
    },
    "papermill": {
     "duration": 0.221979,
     "end_time": "2022-04-10T08:45:56.582635",
     "exception": false,
     "start_time": "2022-04-10T08:45:56.360656",
     "status": "completed"
    },
    "tags": []
   },
   "outputs": [
    {
     "data": {
      "text/plain": [
       "21"
      ]
     },
     "execution_count": 7,
     "metadata": {},
     "output_type": "execute_result"
    }
   ],
   "source": [
    "gc.collect()"
   ]
  },
  {
   "cell_type": "code",
   "execution_count": 8,
   "id": "8ffdba8d",
   "metadata": {
    "execution": {
     "iopub.execute_input": "2022-04-10T08:45:56.629017Z",
     "iopub.status.busy": "2022-04-10T08:45:56.628081Z",
     "iopub.status.idle": "2022-04-10T08:45:56.630818Z",
     "shell.execute_reply": "2022-04-10T08:45:56.630229Z",
     "shell.execute_reply.started": "2022-04-10T07:30:11.279019Z"
    },
    "papermill": {
     "duration": 0.027806,
     "end_time": "2022-04-10T08:45:56.630963",
     "exception": false,
     "start_time": "2022-04-10T08:45:56.603157",
     "status": "completed"
    },
    "tags": []
   },
   "outputs": [],
   "source": [
    "os.makedirs('./checkpoint')"
   ]
  },
  {
   "cell_type": "code",
   "execution_count": 9,
   "id": "56f6f3b4",
   "metadata": {
    "execution": {
     "iopub.execute_input": "2022-04-10T08:45:56.874957Z",
     "iopub.status.busy": "2022-04-10T08:45:56.874231Z",
     "iopub.status.idle": "2022-04-10T08:45:56.878566Z",
     "shell.execute_reply": "2022-04-10T08:45:56.877990Z",
     "shell.execute_reply.started": "2022-04-10T07:30:11.288411Z"
    },
    "papermill": {
     "duration": 0.22649,
     "end_time": "2022-04-10T08:45:56.878717",
     "exception": false,
     "start_time": "2022-04-10T08:45:56.652227",
     "status": "completed"
    },
    "tags": []
   },
   "outputs": [
    {
     "data": {
      "text/plain": [
       "42"
      ]
     },
     "execution_count": 9,
     "metadata": {},
     "output_type": "execute_result"
    }
   ],
   "source": [
    "gc.collect()"
   ]
  },
  {
   "cell_type": "code",
   "execution_count": 10,
   "id": "fbdceb73",
   "metadata": {
    "execution": {
     "iopub.execute_input": "2022-04-10T08:45:56.926685Z",
     "iopub.status.busy": "2022-04-10T08:45:56.925885Z",
     "iopub.status.idle": "2022-04-10T08:45:56.930652Z",
     "shell.execute_reply": "2022-04-10T08:45:56.930035Z",
     "shell.execute_reply.started": "2022-04-10T07:30:11.497684Z"
    },
    "papermill": {
     "duration": 0.031004,
     "end_time": "2022-04-10T08:45:56.930804",
     "exception": false,
     "start_time": "2022-04-10T08:45:56.899800",
     "status": "completed"
    },
    "tags": []
   },
   "outputs": [],
   "source": [
    "PARAMS['lr'] = 0.0008"
   ]
  },
  {
   "cell_type": "code",
   "execution_count": 11,
   "id": "c0c67c8c",
   "metadata": {
    "execution": {
     "iopub.execute_input": "2022-04-10T08:45:56.980142Z",
     "iopub.status.busy": "2022-04-10T08:45:56.979084Z",
     "iopub.status.idle": "2022-04-10T08:46:04.961552Z",
     "shell.execute_reply": "2022-04-10T08:46:04.962058Z",
     "shell.execute_reply.started": "2022-04-10T07:30:11.504983Z"
    },
    "papermill": {
     "duration": 8.010501,
     "end_time": "2022-04-10T08:46:04.962240",
     "exception": false,
     "start_time": "2022-04-10T08:45:56.951739",
     "status": "completed"
    },
    "tags": []
   },
   "outputs": [
    {
     "data": {
      "text/plain": [
       "<tensorflow.python.tpu.topology.Topology at 0x7f54e19174d0>"
      ]
     },
     "execution_count": 11,
     "metadata": {},
     "output_type": "execute_result"
    }
   ],
   "source": [
    "tf.tpu.experimental.initialize_tpu_system(tpu)"
   ]
  },
  {
   "cell_type": "code",
   "execution_count": 12,
   "id": "6890d608",
   "metadata": {
    "execution": {
     "iopub.execute_input": "2022-04-10T08:46:05.008718Z",
     "iopub.status.busy": "2022-04-10T08:46:05.007719Z",
     "iopub.status.idle": "2022-04-10T11:52:21.213970Z",
     "shell.execute_reply": "2022-04-10T11:52:21.215132Z",
     "shell.execute_reply.started": "2022-04-10T07:30:18.999277Z"
    },
    "papermill": {
     "duration": 11176.232415,
     "end_time": "2022-04-10T11:52:21.215799",
     "exception": false,
     "start_time": "2022-04-10T08:46:04.983384",
     "status": "completed"
    },
    "tags": []
   },
   "outputs": [
    {
     "name": "stdout",
     "output_type": "stream",
     "text": [
      "\n",
      "\n",
      "Starting fold 0\n",
      "\n",
      "\n",
      "\n"
     ]
    },
    {
     "name": "stderr",
     "output_type": "stream",
     "text": [
      "2022-04-10 08:46:27.723815: W tensorflow/core/framework/cpu_allocator_impl.cc:80] Allocation of 2012712300 exceeds 10% of free system memory.\n"
     ]
    },
    {
     "name": "stdout",
     "output_type": "stream",
     "text": [
      "\n",
      "\n",
      "Starting fold 1\n",
      "\n",
      "\n",
      "\n"
     ]
    },
    {
     "name": "stderr",
     "output_type": "stream",
     "text": [
      "2022-04-10 09:24:37.177892: W tensorflow/core/framework/cpu_allocator_impl.cc:80] Allocation of 1955192580 exceeds 10% of free system memory.\n"
     ]
    },
    {
     "name": "stdout",
     "output_type": "stream",
     "text": [
      "\n",
      "\n",
      "Starting fold 2\n",
      "\n",
      "\n",
      "\n"
     ]
    },
    {
     "name": "stderr",
     "output_type": "stream",
     "text": [
      "2022-04-10 10:01:56.554555: W tensorflow/core/framework/cpu_allocator_impl.cc:80] Allocation of 1850421510 exceeds 10% of free system memory.\n"
     ]
    },
    {
     "name": "stdout",
     "output_type": "stream",
     "text": [
      "\n",
      "\n",
      "Starting fold 3\n",
      "\n",
      "\n",
      "\n"
     ]
    },
    {
     "name": "stderr",
     "output_type": "stream",
     "text": [
      "2022-04-10 10:38:47.004828: W tensorflow/core/framework/cpu_allocator_impl.cc:80] Allocation of 1736059230 exceeds 10% of free system memory.\n"
     ]
    },
    {
     "name": "stdout",
     "output_type": "stream",
     "text": [
      "\n",
      "\n",
      "Starting fold 4\n",
      "\n",
      "\n",
      "\n"
     ]
    },
    {
     "name": "stderr",
     "output_type": "stream",
     "text": [
      "2022-04-10 11:15:19.358358: W tensorflow/core/framework/cpu_allocator_impl.cc:80] Allocation of 1786012740 exceeds 10% of free system memory.\n"
     ]
    }
   ],
   "source": [
    "progress_list = []\n",
    "\n",
    "for i, (train_index, test_index) in enumerate(fold_split):\n",
    "\n",
    "        print(f'\\n\\nStarting fold {i}\\n\\n\\n')\n",
    "\n",
    "        train_x_num, train_y = (\n",
    "            data[ALL_FEATURE].iloc[train_index].to_numpy('float16'),\n",
    "            data[TARGET_COL].iloc[train_index].to_numpy('float16')\n",
    "        )\n",
    "        test_x_num, test_y = (\n",
    "            data[ALL_FEATURE].iloc[test_index].to_numpy('float16'),\n",
    "            data[TARGET_COL].iloc[test_index].to_numpy('float16')\n",
    "        )\n",
    "        STEPS_PER_EPOCH = train_x_num.shape[0]  // BATCH_SIZE\n",
    "\n",
    "        train_dataset = get_dataset(train_x_num, train_y, batch_size=BATCH_SIZE)\n",
    "        test_dataset = get_dataset(test_x_num, test_y, train=False, batch_size=BATCH_SIZE)\n",
    "                \n",
    "        gc.collect()\n",
    "        time_id_fold = time_id_split[i]\n",
    "        \n",
    "        checkpoint_path = \"checkpoint/{epoch:03d}_\" + f\"model_fold_{i}.hdf5\"\n",
    "        with strategy.scope():\n",
    "\n",
    "            model = create_conv(\n",
    "                PARAMS['num_total_feature'], steps=STEPS_PER_EPOCH, \n",
    "                metrics={'output': tfp_correlation},\n",
    "            )\n",
    "            \n",
    "        model_checkpoint = tf.keras.callbacks.ModelCheckpoint(\n",
    "            checkpoint_path,\n",
    "            verbose = 0, \n",
    "            save_weights_only = True\n",
    "        )\n",
    "\n",
    "        history = model.fit(\n",
    "            train_dataset,\n",
    "            validation_data=(test_dataset),\n",
    "            epochs = N_ROUND, callbacks = [model_checkpoint],\n",
    "            verbose = 0,\n",
    "        )\n",
    "        progress = pd.DataFrame(history.history)\n",
    "                        \n",
    "        del (\n",
    "            train_x_num, train_y, test_x_num, test_y, model_checkpoint, \n",
    "            history, model, time_id_fold, train_dataset,\n",
    "            test_dataset\n",
    "        )\n",
    "                \n",
    "        gc.collect()\n",
    "        \n",
    "        progress_list.append(progress)"
   ]
  },
  {
   "cell_type": "markdown",
   "id": "315e80c7",
   "metadata": {
    "papermill": {
     "duration": 0.024003,
     "end_time": "2022-04-10T11:52:21.266048",
     "exception": false,
     "start_time": "2022-04-10T11:52:21.242045",
     "status": "completed"
    },
    "tags": []
   },
   "source": [
    "# save dataset and make prediction with best epoch"
   ]
  },
  {
   "cell_type": "code",
   "execution_count": 13,
   "id": "da591c87",
   "metadata": {
    "execution": {
     "iopub.execute_input": "2022-04-10T11:52:21.525352Z",
     "iopub.status.busy": "2022-04-10T11:52:21.524262Z",
     "iopub.status.idle": "2022-04-10T11:52:21.529871Z",
     "shell.execute_reply": "2022-04-10T11:52:21.529245Z",
     "shell.execute_reply.started": "2022-04-10T07:36:07.364513Z"
    },
    "papermill": {
     "duration": 0.238934,
     "end_time": "2022-04-10T11:52:21.530042",
     "exception": false,
     "start_time": "2022-04-10T11:52:21.291108",
     "status": "completed"
    },
    "tags": []
   },
   "outputs": [
    {
     "data": {
      "text/plain": [
       "21"
      ]
     },
     "execution_count": 13,
     "metadata": {},
     "output_type": "execute_result"
    }
   ],
   "source": [
    "gc.collect()"
   ]
  },
  {
   "cell_type": "code",
   "execution_count": 14,
   "id": "f110d5d5",
   "metadata": {
    "execution": {
     "iopub.execute_input": "2022-04-10T11:52:21.597000Z",
     "iopub.status.busy": "2022-04-10T11:52:21.596237Z",
     "iopub.status.idle": "2022-04-10T11:52:21.821500Z",
     "shell.execute_reply": "2022-04-10T11:52:21.821964Z",
     "shell.execute_reply.started": "2022-04-10T07:36:07.584388Z"
    },
    "papermill": {
     "duration": 0.267126,
     "end_time": "2022-04-10T11:52:21.822139",
     "exception": false,
     "start_time": "2022-04-10T11:52:21.555013",
     "status": "completed"
    },
    "tags": []
   },
   "outputs": [
    {
     "name": "stdout",
     "output_type": "stream",
     "text": [
      "Best epoch: 164, CV-Corr: 0.132, CV-Loss: 0.833\n"
     ]
    },
    {
     "data": {
      "text/plain": [
       "0"
      ]
     },
     "execution_count": 14,
     "metadata": {},
     "output_type": "execute_result"
    }
   ],
   "source": [
    "progress_dict = {\n",
    "        'time': range(N_ROUND),\n",
    "    }\n",
    "progress_dict.update(\n",
    "        {\n",
    "            f'corr_fold_{i}': progress_list[i]['val_tfp_correlation'].values\n",
    "            for i in range(N_FOLD)\n",
    "        }\n",
    "    )\n",
    "progress_dict.update(\n",
    "        {\n",
    "            f'loss_fold_{i}': progress_list[i]['val_loss'].values\n",
    "            for i in range(N_FOLD)\n",
    "        }\n",
    "    )\n",
    "\n",
    "progress_df = pd.DataFrame(\n",
    "    progress_dict\n",
    ")\n",
    "\n",
    "progress_df['average_corr'] = progress_df.loc[:, ['corr' in x for x in progress_df.columns]].mean(axis =1)\n",
    "progress_df['average_loss'] = progress_df.loc[:, ['loss' in x for x in progress_df.columns]].mean(axis =1)\n",
    "\n",
    "best_epoch = int(progress_df['average_corr'].argmax())\n",
    "best_score = progress_df['average_corr'].max()\n",
    "best_loss = progress_df.loc[best_epoch, 'average_loss']\n",
    "\n",
    "print(f'Best epoch: {best_epoch}, CV-Corr: {best_score:.3f}, CV-Loss: {best_loss:.3f}')\n",
    "\n",
    "best_result = {\n",
    "    'best_epoch': best_epoch+1,\n",
    "    'best_score': best_score\n",
    "}\n",
    "\n",
    "with open('best_result.pkl', 'wb') as file:\n",
    "    pickle.dump(best_result, file)\n",
    "\n",
    "gc.collect()"
   ]
  },
  {
   "cell_type": "markdown",
   "id": "3b86dec7",
   "metadata": {
    "papermill": {
     "duration": 0.024958,
     "end_time": "2022-04-10T11:52:21.872901",
     "exception": false,
     "start_time": "2022-04-10T11:52:21.847943",
     "status": "completed"
    },
    "tags": []
   },
   "source": [
    "# OOF Prediction"
   ]
  },
  {
   "cell_type": "code",
   "execution_count": 15,
   "id": "843b235a",
   "metadata": {
    "execution": {
     "iopub.execute_input": "2022-04-10T11:52:21.933927Z",
     "iopub.status.busy": "2022-04-10T11:52:21.932933Z",
     "iopub.status.idle": "2022-04-10T11:52:25.001956Z",
     "shell.execute_reply": "2022-04-10T11:52:25.001344Z",
     "shell.execute_reply.started": "2022-04-10T07:36:07.830478Z"
    },
    "papermill": {
     "duration": 3.103978,
     "end_time": "2022-04-10T11:52:25.002097",
     "exception": false,
     "start_time": "2022-04-10T11:52:21.898119",
     "status": "completed"
    },
    "tags": []
   },
   "outputs": [],
   "source": [
    "def get_model_weights(fold, epoch, strategy):\n",
    "    length_number = len(str(best_epoch))\n",
    "    epoch_path = '0'*(3-length_number) + str(best_epoch+1)\n",
    "    model = create_conv(\n",
    "                PARAMS['num_total_feature'], steps=STEPS_PER_EPOCH, \n",
    "                metrics={'output': tfp_correlation},\n",
    "    )\n",
    "    \n",
    "    model.load_weights(f\"checkpoint/{epoch_path}_model_fold_{fold}.hdf5\")\n",
    "    return model\n",
    "\n",
    "model_list = [\n",
    "    get_model_weights(fold, best_result['best_epoch'], strategy) for fold in range(N_FOLD)\n",
    "]"
   ]
  },
  {
   "cell_type": "code",
   "execution_count": 16,
   "id": "4c6ecff0",
   "metadata": {
    "execution": {
     "iopub.execute_input": "2022-04-10T11:52:25.062286Z",
     "iopub.status.busy": "2022-04-10T11:52:25.061650Z",
     "iopub.status.idle": "2022-04-10T12:04:48.318030Z",
     "shell.execute_reply": "2022-04-10T12:04:48.318593Z",
     "shell.execute_reply.started": "2022-04-10T07:36:10.739260Z"
    },
    "papermill": {
     "duration": 743.291517,
     "end_time": "2022-04-10T12:04:48.318784",
     "exception": false,
     "start_time": "2022-04-10T11:52:25.027267",
     "status": "completed"
    },
    "tags": []
   },
   "outputs": [
    {
     "name": "stdout",
     "output_type": "stream",
     "text": [
      "Our out of folds mean pearson correlation coefficient is 0.13089450664065821\n"
     ]
    }
   ],
   "source": [
    "oof_predictions = np.zeros(data.shape[0])\n",
    "\n",
    "for i, (_, test_index) in enumerate(fold_split):\n",
    "    print(i, end='\\r')\n",
    "    model = model_list[i]\n",
    "\n",
    "    test_x_num = data[ALL_FEATURE].iloc[test_index].to_numpy('float16')\n",
    "    val_pred = model.predict(test_x_num).reshape((-1))\n",
    "    oof_predictions[test_index] = val_pred\n",
    "        \n",
    "oof_df = pd.DataFrame({'time_id': data['time_id'], 'y_true': data['target'], 'y_pred': oof_predictions})\n",
    "\n",
    "# Save out of folds csv for blending\n",
    "oof_df.to_csv('ae_mlp.csv', index = False)\n",
    "\n",
    "score = calculate_corr(oof_df)[0]\n",
    "print(f'Our out of folds mean pearson correlation coefficient is {score}')    \n"
   ]
  },
  {
   "cell_type": "markdown",
   "id": "f00a2527",
   "metadata": {
    "papermill": {
     "duration": 0.026832,
     "end_time": "2022-04-10T12:04:48.372826",
     "exception": false,
     "start_time": "2022-04-10T12:04:48.345994",
     "status": "completed"
    },
    "tags": []
   },
   "source": [
    "# CV score"
   ]
  },
  {
   "cell_type": "code",
   "execution_count": 17,
   "id": "04fe2748",
   "metadata": {
    "execution": {
     "iopub.execute_input": "2022-04-10T12:04:48.433087Z",
     "iopub.status.busy": "2022-04-10T12:04:48.432436Z",
     "iopub.status.idle": "2022-04-10T12:04:48.446024Z",
     "shell.execute_reply": "2022-04-10T12:04:48.445458Z",
     "shell.execute_reply.started": "2022-04-10T07:48:23.081025Z"
    },
    "papermill": {
     "duration": 0.045801,
     "end_time": "2022-04-10T12:04:48.446167",
     "exception": false,
     "start_time": "2022-04-10T12:04:48.400366",
     "status": "completed"
    },
    "tags": []
   },
   "outputs": [],
   "source": [
    "progress_df.to_csv('result.csv', index=False)"
   ]
  },
  {
   "cell_type": "code",
   "execution_count": 18,
   "id": "e1c03ff4",
   "metadata": {
    "execution": {
     "iopub.execute_input": "2022-04-10T12:04:48.505178Z",
     "iopub.status.busy": "2022-04-10T12:04:48.504528Z",
     "iopub.status.idle": "2022-04-10T12:04:49.773793Z",
     "shell.execute_reply": "2022-04-10T12:04:49.773173Z",
     "shell.execute_reply.started": "2022-04-10T07:48:23.088268Z"
    },
    "papermill": {
     "duration": 1.299512,
     "end_time": "2022-04-10T12:04:49.773952",
     "exception": false,
     "start_time": "2022-04-10T12:04:48.474440",
     "status": "completed"
    },
    "tags": []
   },
   "outputs": [
    {
     "data": {
      "text/html": [
       "        <script type=\"text/javascript\">\n",
       "        window.PlotlyConfig = {MathJaxConfig: 'local'};\n",
       "        if (window.MathJax) {MathJax.Hub.Config({SVG: {font: \"STIX-Web\"}});}\n",
       "        if (typeof require !== 'undefined') {\n",
       "        require.undef(\"plotly\");\n",
       "        requirejs.config({\n",
       "            paths: {\n",
       "                'plotly': ['https://cdn.plot.ly/plotly-2.4.2.min']\n",
       "            }\n",
       "        });\n",
       "        require(['plotly'], function(Plotly) {\n",
       "            window._Plotly = Plotly;\n",
       "        });\n",
       "        }\n",
       "        </script>\n",
       "        "
      ]
     },
     "metadata": {},
     "output_type": "display_data"
    },
    {
     "data": {
      "text/html": [
       "<div>                            <div id=\"8f9bbdb9-9f8e-449b-b1d2-39667af4ce19\" class=\"plotly-graph-div\" style=\"height:525px; width:100%;\"></div>            <script type=\"text/javascript\">                require([\"plotly\"], function(Plotly) {                    window.PLOTLYENV=window.PLOTLYENV || {};                                    if (document.getElementById(\"8f9bbdb9-9f8e-449b-b1d2-39667af4ce19\")) {                    Plotly.newPlot(                        \"8f9bbdb9-9f8e-449b-b1d2-39667af4ce19\",                        [{\"hovertemplate\":\"time=%{x}<br>average_corr=%{y}<extra></extra>\",\"legendgroup\":\"\",\"line\":{\"color\":\"#636efa\",\"dash\":\"solid\"},\"marker\":{\"symbol\":\"circle\"},\"mode\":\"lines\",\"name\":\"\",\"orientation\":\"v\",\"showlegend\":false,\"type\":\"scatter\",\"x\":[0,1,2,3,4,5,6,7,8,9,10,11,12,13,14,15,16,17,18,19,20,21,22,23,24,25,26,27,28,29,30,31,32,33,34,35,36,37,38,39,40,41,42,43,44,45,46,47,48,49,50,51,52,53,54,55,56,57,58,59,60,61,62,63,64,65,66,67,68,69,70,71,72,73,74,75,76,77,78,79,80,81,82,83,84,85,86,87,88,89,90,91,92,93,94,95,96,97,98,99,100,101,102,103,104,105,106,107,108,109,110,111,112,113,114,115,116,117,118,119,120,121,122,123,124,125,126,127,128,129,130,131,132,133,134,135,136,137,138,139,140,141,142,143,144,145,146,147,148,149,150,151,152,153,154,155,156,157,158,159,160,161,162,163,164,165,166,167,168,169,170,171,172,173,174,175,176,177,178,179,180,181,182,183,184,185,186,187,188,189,190,191,192,193,194,195,196,197,198,199,200,201,202,203,204,205,206,207,208,209,210,211,212,213,214,215,216,217,218,219,220,221,222,223,224,225,226,227,228,229,230,231,232,233,234,235,236,237,238,239,240,241,242,243,244,245,246,247,248,249,250,251,252,253,254,255,256,257,258,259,260,261,262,263,264,265,266,267,268,269,270,271,272,273,274,275,276,277,278,279,280,281,282,283,284,285,286,287,288,289,290,291,292,293,294,295,296,297,298,299],\"xaxis\":\"x\",\"y\":[0.06989324763417244,0.07040314078330993,0.07071997672319412,0.07118333280086517,0.0715729646384716,0.0722102738916874,0.07309973910450936,0.07394755557179451,0.07485074400901795,0.07600153684616089,0.07719870954751969,0.07835816442966462,0.0795273244380951,0.08071863204240799,0.08190249651670456,0.08301405906677246,0.08412162810564042,0.08512272536754609,0.08602404445409775,0.0869036853313446,0.08782155215740203,0.08877097368240357,0.08965722471475601,0.09064548015594483,0.09165753722190857,0.09277019202709198,0.09400577694177628,0.09521855413913727,0.09652633666992187,0.09776149541139603,0.09909230321645737,0.1005215272307396,0.10181955844163895,0.10311701148748398,0.10429216772317887,0.10544716864824295,0.1066105306148529,0.10753848254680634,0.10853858888149262,0.10936003476381302,0.11015163213014603,0.11080602109432221,0.11155110746622085,0.11216433495283126,0.11283252984285355,0.11347928792238235,0.11405135691165924,0.11476466059684753,0.11534382402896881,0.11599275469779968,0.11655290573835372,0.11714766174554825,0.11762334108352661,0.11811611354351044,0.11854413896799088,0.11891836673021317,0.11943405270576476,0.11980814784765244,0.12029066383838653,0.12060034573078156,0.1208492711186409,0.12105425894260406,0.12148059904575348,0.12174105048179626,0.12215889990329742,0.12215295583009719,0.12239575833082199,0.12261358201503754,0.12273354083299637,0.12300738096237182,0.12319299727678298,0.12340931743383407,0.12345290631055832,0.1238209679722786,0.12386607527732849,0.12394707500934601,0.1241911605000496,0.12434376776218414,0.12470056861639023,0.12486685067415237,0.12495108097791671,0.1250939264893532,0.12539939880371093,0.12554575204849244,0.12570929974317552,0.12572384625673294,0.12597585171461106,0.12614235877990723,0.12624296247959138,0.12630101591348647,0.12664251774549484,0.12666458785533904,0.12677134573459625,0.12689980268478393,0.12708020806312562,0.12725600004196166,0.1274416372179985,0.1276165097951889,0.12755047529935837,0.127743723988533,0.12808472961187362,0.12801418155431749,0.12823306620121003,0.12832374423742293,0.12846445441246032,0.12852408736944199,0.1287974551320076,0.12886598259210585,0.12885691821575165,0.12881204932928086,0.12899942100048065,0.12919355034828187,0.1293262481689453,0.12933589071035384,0.12969024181365968,0.12971849590539933,0.1295936346054077,0.12973544001579285,0.12982673048973084,0.12992365658283234,0.13013652265071868,0.13018057644367217,0.1301489621400833,0.13013823479413986,0.13031341433525084,0.130582033097744,0.13059916496276855,0.13071012645959854,0.1307601660490036,0.1307435691356659,0.13092670291662217,0.13090318739414214,0.13096838742494582,0.13100939095020295,0.1311580240726471,0.13119903951883316,0.13131080120801925,0.1314079999923706,0.13140937834978103,0.13135132789611817,0.1314569741487503,0.1314666152000427,0.13149695694446564,0.13163983523845674,0.13148865848779678,0.13163645565509796,0.13160525262355804,0.13184620141983033,0.13180166482925415,0.13179216980934144,0.13183326423168182,0.13184735774993897,0.13198753148317338,0.1319768026471138,0.13189438581466675,0.1319914385676384,0.13200733661651612,0.13195499479770662,0.13183061480522157,0.13196639567613602,0.13206429034471512,0.13201509714126586,0.1319901689887047,0.1319200113415718,0.13219845592975615,0.13200223445892334,0.1319883570075035,0.13192725032567978,0.13201352059841157,0.13198671936988832,0.13198178857564927,0.13204955011606218,0.13191117942333222,0.13192205578088761,0.13180513679981232,0.13177405148744584,0.13174904584884645,0.1318690538406372,0.13173683136701583,0.13163431137800216,0.13170956522226335,0.131735098361969,0.13170985132455826,0.13177038729190826,0.13161596953868865,0.1316284418106079,0.1315426468849182,0.13137421309947966,0.13151835650205612,0.13144232481718063,0.1311154305934906,0.13139054030179978,0.1312071666121483,0.13119275271892547,0.13110938668251038,0.13099533915519715,0.13103963136672975,0.13101200461387635,0.13095941990613938,0.13098895847797393,0.13076961189508438,0.1305495545268059,0.1304229110479355,0.13052254319190978,0.13039044439792633,0.13009093403816224,0.13019544184207915,0.13010521233081818,0.12988416403532027,0.12994343042373657,0.12970822900533677,0.1296926334500313,0.12963755130767823,0.12943291962146758,0.12940103113651275,0.12936260253190995,0.12934829145669938,0.1291366383433342,0.12914303690195084,0.12916556596755982,0.1287010654807091,0.12868852466344832,0.12868100106716157,0.12833670526742935,0.12829552143812178,0.12831232994794844,0.12813087403774262,0.12821083664894103,0.12807723134756088,0.12777662873268128,0.12756948173046112,0.12765672206878662,0.12763607054948806,0.12750131040811538,0.12739147543907164,0.12730788439512253,0.1272251158952713,0.12711999267339708,0.12682420313358306,0.12678632885217667,0.12666471153497696,0.1262087792158127,0.1262264743447304,0.12600523978471756,0.12592386603355407,0.12573489397764206,0.12575398683547973,0.12566466331481935,0.12544893771409987,0.12544170618057252,0.12507407814264299,0.12495433539152145,0.12476985305547714,0.12464240938425064,0.12462996244430542,0.12443385273218155,0.12420614361763001,0.1240643471479416,0.12392650693655013,0.12389965355396271,0.12373563051223754,0.1237572893500328,0.12354502528905868,0.12333543598651886,0.12306498140096664,0.12287741750478745,0.12281262874603271,0.12265873402357101,0.12242901623249054,0.12245461195707322,0.12235112935304641,0.12198400348424912,0.12194654941558838,0.1219298154115677,0.12160347402095795,0.12151860892772674,0.12169404774904251,0.12127823382616043,0.12114492207765579,0.12116923034191132,0.12092537134885788,0.12079459428787231,0.12056654244661331,0.1205178216099739,0.12016096115112304,0.12009719014167786,0.11990618705749512,0.11990368068218231,0.11989624500274658,0.11970743536949158,0.11965383738279342,0.11944799870252609,0.11944040656089783,0.1192842736840248,0.1189236581325531,0.11869195103645325,0.11862586736679077,0.11855493485927582,0.11842394024133682,0.1184185951948166],\"yaxis\":\"y\"}],                        {\"legend\":{\"tracegroupgap\":0},\"template\":{\"data\":{\"bar\":[{\"error_x\":{\"color\":\"#2a3f5f\"},\"error_y\":{\"color\":\"#2a3f5f\"},\"marker\":{\"line\":{\"color\":\"white\",\"width\":0.5},\"pattern\":{\"fillmode\":\"overlay\",\"size\":10,\"solidity\":0.2}},\"type\":\"bar\"}],\"barpolar\":[{\"marker\":{\"line\":{\"color\":\"white\",\"width\":0.5},\"pattern\":{\"fillmode\":\"overlay\",\"size\":10,\"solidity\":0.2}},\"type\":\"barpolar\"}],\"carpet\":[{\"aaxis\":{\"endlinecolor\":\"#2a3f5f\",\"gridcolor\":\"#C8D4E3\",\"linecolor\":\"#C8D4E3\",\"minorgridcolor\":\"#C8D4E3\",\"startlinecolor\":\"#2a3f5f\"},\"baxis\":{\"endlinecolor\":\"#2a3f5f\",\"gridcolor\":\"#C8D4E3\",\"linecolor\":\"#C8D4E3\",\"minorgridcolor\":\"#C8D4E3\",\"startlinecolor\":\"#2a3f5f\"},\"type\":\"carpet\"}],\"choropleth\":[{\"colorbar\":{\"outlinewidth\":0,\"ticks\":\"\"},\"type\":\"choropleth\"}],\"contour\":[{\"colorbar\":{\"outlinewidth\":0,\"ticks\":\"\"},\"colorscale\":[[0.0,\"#0d0887\"],[0.1111111111111111,\"#46039f\"],[0.2222222222222222,\"#7201a8\"],[0.3333333333333333,\"#9c179e\"],[0.4444444444444444,\"#bd3786\"],[0.5555555555555556,\"#d8576b\"],[0.6666666666666666,\"#ed7953\"],[0.7777777777777778,\"#fb9f3a\"],[0.8888888888888888,\"#fdca26\"],[1.0,\"#f0f921\"]],\"type\":\"contour\"}],\"contourcarpet\":[{\"colorbar\":{\"outlinewidth\":0,\"ticks\":\"\"},\"type\":\"contourcarpet\"}],\"heatmap\":[{\"colorbar\":{\"outlinewidth\":0,\"ticks\":\"\"},\"colorscale\":[[0.0,\"#0d0887\"],[0.1111111111111111,\"#46039f\"],[0.2222222222222222,\"#7201a8\"],[0.3333333333333333,\"#9c179e\"],[0.4444444444444444,\"#bd3786\"],[0.5555555555555556,\"#d8576b\"],[0.6666666666666666,\"#ed7953\"],[0.7777777777777778,\"#fb9f3a\"],[0.8888888888888888,\"#fdca26\"],[1.0,\"#f0f921\"]],\"type\":\"heatmap\"}],\"heatmapgl\":[{\"colorbar\":{\"outlinewidth\":0,\"ticks\":\"\"},\"colorscale\":[[0.0,\"#0d0887\"],[0.1111111111111111,\"#46039f\"],[0.2222222222222222,\"#7201a8\"],[0.3333333333333333,\"#9c179e\"],[0.4444444444444444,\"#bd3786\"],[0.5555555555555556,\"#d8576b\"],[0.6666666666666666,\"#ed7953\"],[0.7777777777777778,\"#fb9f3a\"],[0.8888888888888888,\"#fdca26\"],[1.0,\"#f0f921\"]],\"type\":\"heatmapgl\"}],\"histogram\":[{\"marker\":{\"pattern\":{\"fillmode\":\"overlay\",\"size\":10,\"solidity\":0.2}},\"type\":\"histogram\"}],\"histogram2d\":[{\"colorbar\":{\"outlinewidth\":0,\"ticks\":\"\"},\"colorscale\":[[0.0,\"#0d0887\"],[0.1111111111111111,\"#46039f\"],[0.2222222222222222,\"#7201a8\"],[0.3333333333333333,\"#9c179e\"],[0.4444444444444444,\"#bd3786\"],[0.5555555555555556,\"#d8576b\"],[0.6666666666666666,\"#ed7953\"],[0.7777777777777778,\"#fb9f3a\"],[0.8888888888888888,\"#fdca26\"],[1.0,\"#f0f921\"]],\"type\":\"histogram2d\"}],\"histogram2dcontour\":[{\"colorbar\":{\"outlinewidth\":0,\"ticks\":\"\"},\"colorscale\":[[0.0,\"#0d0887\"],[0.1111111111111111,\"#46039f\"],[0.2222222222222222,\"#7201a8\"],[0.3333333333333333,\"#9c179e\"],[0.4444444444444444,\"#bd3786\"],[0.5555555555555556,\"#d8576b\"],[0.6666666666666666,\"#ed7953\"],[0.7777777777777778,\"#fb9f3a\"],[0.8888888888888888,\"#fdca26\"],[1.0,\"#f0f921\"]],\"type\":\"histogram2dcontour\"}],\"mesh3d\":[{\"colorbar\":{\"outlinewidth\":0,\"ticks\":\"\"},\"type\":\"mesh3d\"}],\"parcoords\":[{\"line\":{\"colorbar\":{\"outlinewidth\":0,\"ticks\":\"\"}},\"type\":\"parcoords\"}],\"pie\":[{\"automargin\":true,\"type\":\"pie\"}],\"scatter\":[{\"marker\":{\"colorbar\":{\"outlinewidth\":0,\"ticks\":\"\"}},\"type\":\"scatter\"}],\"scatter3d\":[{\"line\":{\"colorbar\":{\"outlinewidth\":0,\"ticks\":\"\"}},\"marker\":{\"colorbar\":{\"outlinewidth\":0,\"ticks\":\"\"}},\"type\":\"scatter3d\"}],\"scattercarpet\":[{\"marker\":{\"colorbar\":{\"outlinewidth\":0,\"ticks\":\"\"}},\"type\":\"scattercarpet\"}],\"scattergeo\":[{\"marker\":{\"colorbar\":{\"outlinewidth\":0,\"ticks\":\"\"}},\"type\":\"scattergeo\"}],\"scattergl\":[{\"marker\":{\"colorbar\":{\"outlinewidth\":0,\"ticks\":\"\"}},\"type\":\"scattergl\"}],\"scattermapbox\":[{\"marker\":{\"colorbar\":{\"outlinewidth\":0,\"ticks\":\"\"}},\"type\":\"scattermapbox\"}],\"scatterpolar\":[{\"marker\":{\"colorbar\":{\"outlinewidth\":0,\"ticks\":\"\"}},\"type\":\"scatterpolar\"}],\"scatterpolargl\":[{\"marker\":{\"colorbar\":{\"outlinewidth\":0,\"ticks\":\"\"}},\"type\":\"scatterpolargl\"}],\"scatterternary\":[{\"marker\":{\"colorbar\":{\"outlinewidth\":0,\"ticks\":\"\"}},\"type\":\"scatterternary\"}],\"surface\":[{\"colorbar\":{\"outlinewidth\":0,\"ticks\":\"\"},\"colorscale\":[[0.0,\"#0d0887\"],[0.1111111111111111,\"#46039f\"],[0.2222222222222222,\"#7201a8\"],[0.3333333333333333,\"#9c179e\"],[0.4444444444444444,\"#bd3786\"],[0.5555555555555556,\"#d8576b\"],[0.6666666666666666,\"#ed7953\"],[0.7777777777777778,\"#fb9f3a\"],[0.8888888888888888,\"#fdca26\"],[1.0,\"#f0f921\"]],\"type\":\"surface\"}],\"table\":[{\"cells\":{\"fill\":{\"color\":\"#EBF0F8\"},\"line\":{\"color\":\"white\"}},\"header\":{\"fill\":{\"color\":\"#C8D4E3\"},\"line\":{\"color\":\"white\"}},\"type\":\"table\"}]},\"layout\":{\"annotationdefaults\":{\"arrowcolor\":\"#2a3f5f\",\"arrowhead\":0,\"arrowwidth\":1},\"autotypenumbers\":\"strict\",\"coloraxis\":{\"colorbar\":{\"outlinewidth\":0,\"ticks\":\"\"}},\"colorscale\":{\"diverging\":[[0,\"#8e0152\"],[0.1,\"#c51b7d\"],[0.2,\"#de77ae\"],[0.3,\"#f1b6da\"],[0.4,\"#fde0ef\"],[0.5,\"#f7f7f7\"],[0.6,\"#e6f5d0\"],[0.7,\"#b8e186\"],[0.8,\"#7fbc41\"],[0.9,\"#4d9221\"],[1,\"#276419\"]],\"sequential\":[[0.0,\"#0d0887\"],[0.1111111111111111,\"#46039f\"],[0.2222222222222222,\"#7201a8\"],[0.3333333333333333,\"#9c179e\"],[0.4444444444444444,\"#bd3786\"],[0.5555555555555556,\"#d8576b\"],[0.6666666666666666,\"#ed7953\"],[0.7777777777777778,\"#fb9f3a\"],[0.8888888888888888,\"#fdca26\"],[1.0,\"#f0f921\"]],\"sequentialminus\":[[0.0,\"#0d0887\"],[0.1111111111111111,\"#46039f\"],[0.2222222222222222,\"#7201a8\"],[0.3333333333333333,\"#9c179e\"],[0.4444444444444444,\"#bd3786\"],[0.5555555555555556,\"#d8576b\"],[0.6666666666666666,\"#ed7953\"],[0.7777777777777778,\"#fb9f3a\"],[0.8888888888888888,\"#fdca26\"],[1.0,\"#f0f921\"]]},\"colorway\":[\"#636efa\",\"#EF553B\",\"#00cc96\",\"#ab63fa\",\"#FFA15A\",\"#19d3f3\",\"#FF6692\",\"#B6E880\",\"#FF97FF\",\"#FECB52\"],\"font\":{\"color\":\"#2a3f5f\"},\"geo\":{\"bgcolor\":\"white\",\"lakecolor\":\"white\",\"landcolor\":\"white\",\"showlakes\":true,\"showland\":true,\"subunitcolor\":\"#C8D4E3\"},\"hoverlabel\":{\"align\":\"left\"},\"hovermode\":\"closest\",\"mapbox\":{\"style\":\"light\"},\"paper_bgcolor\":\"white\",\"plot_bgcolor\":\"white\",\"polar\":{\"angularaxis\":{\"gridcolor\":\"#EBF0F8\",\"linecolor\":\"#EBF0F8\",\"ticks\":\"\"},\"bgcolor\":\"white\",\"radialaxis\":{\"gridcolor\":\"#EBF0F8\",\"linecolor\":\"#EBF0F8\",\"ticks\":\"\"}},\"scene\":{\"xaxis\":{\"backgroundcolor\":\"white\",\"gridcolor\":\"#DFE8F3\",\"gridwidth\":2,\"linecolor\":\"#EBF0F8\",\"showbackground\":true,\"ticks\":\"\",\"zerolinecolor\":\"#EBF0F8\"},\"yaxis\":{\"backgroundcolor\":\"white\",\"gridcolor\":\"#DFE8F3\",\"gridwidth\":2,\"linecolor\":\"#EBF0F8\",\"showbackground\":true,\"ticks\":\"\",\"zerolinecolor\":\"#EBF0F8\"},\"zaxis\":{\"backgroundcolor\":\"white\",\"gridcolor\":\"#DFE8F3\",\"gridwidth\":2,\"linecolor\":\"#EBF0F8\",\"showbackground\":true,\"ticks\":\"\",\"zerolinecolor\":\"#EBF0F8\"}},\"shapedefaults\":{\"line\":{\"color\":\"#2a3f5f\"}},\"ternary\":{\"aaxis\":{\"gridcolor\":\"#DFE8F3\",\"linecolor\":\"#A2B1C6\",\"ticks\":\"\"},\"baxis\":{\"gridcolor\":\"#DFE8F3\",\"linecolor\":\"#A2B1C6\",\"ticks\":\"\"},\"bgcolor\":\"white\",\"caxis\":{\"gridcolor\":\"#DFE8F3\",\"linecolor\":\"#A2B1C6\",\"ticks\":\"\"}},\"title\":{\"x\":0.05},\"xaxis\":{\"automargin\":true,\"gridcolor\":\"#EBF0F8\",\"linecolor\":\"#EBF0F8\",\"ticks\":\"\",\"title\":{\"standoff\":15},\"zerolinecolor\":\"#EBF0F8\",\"zerolinewidth\":2},\"yaxis\":{\"automargin\":true,\"gridcolor\":\"#EBF0F8\",\"linecolor\":\"#EBF0F8\",\"ticks\":\"\",\"title\":{\"standoff\":15},\"zerolinecolor\":\"#EBF0F8\",\"zerolinewidth\":2}}},\"title\":{\"text\":\"average_corr\"},\"xaxis\":{\"anchor\":\"y\",\"domain\":[0.0,1.0],\"title\":{\"text\":\"time\"}},\"yaxis\":{\"anchor\":\"x\",\"domain\":[0.0,1.0],\"title\":{\"text\":\"average_corr\"}}},                        {\"responsive\": true}                    ).then(function(){\n",
       "                            \n",
       "var gd = document.getElementById('8f9bbdb9-9f8e-449b-b1d2-39667af4ce19');\n",
       "var x = new MutationObserver(function (mutations, observer) {{\n",
       "        var display = window.getComputedStyle(gd).display;\n",
       "        if (!display || display === 'none') {{\n",
       "            console.log([gd, 'removed!']);\n",
       "            Plotly.purge(gd);\n",
       "            observer.disconnect();\n",
       "        }}\n",
       "}});\n",
       "\n",
       "// Listen for the removal of the full notebook cells\n",
       "var notebookContainer = gd.closest('#notebook-container');\n",
       "if (notebookContainer) {{\n",
       "    x.observe(notebookContainer, {childList: true});\n",
       "}}\n",
       "\n",
       "// Listen for the clearing of the current output cell\n",
       "var outputEl = gd.closest('.output');\n",
       "if (outputEl) {{\n",
       "    x.observe(outputEl, {childList: true});\n",
       "}}\n",
       "\n",
       "                        })                };                });            </script>        </div>"
      ]
     },
     "metadata": {},
     "output_type": "display_data"
    },
    {
     "data": {
      "text/html": [
       "<div>                            <div id=\"d4d4b650-f1c1-4e65-9148-bc5129f61af2\" class=\"plotly-graph-div\" style=\"height:525px; width:100%;\"></div>            <script type=\"text/javascript\">                require([\"plotly\"], function(Plotly) {                    window.PLOTLYENV=window.PLOTLYENV || {};                                    if (document.getElementById(\"d4d4b650-f1c1-4e65-9148-bc5129f61af2\")) {                    Plotly.newPlot(                        \"d4d4b650-f1c1-4e65-9148-bc5129f61af2\",                        [{\"hovertemplate\":\"time=%{x}<br>average_loss=%{y}<extra></extra>\",\"legendgroup\":\"\",\"line\":{\"color\":\"#636efa\",\"dash\":\"solid\"},\"marker\":{\"symbol\":\"circle\"},\"mode\":\"lines\",\"name\":\"\",\"orientation\":\"v\",\"showlegend\":false,\"type\":\"scatter\",\"x\":[0,1,2,3,4,5,6,7,8,9,10,11,12,13,14,15,16,17,18,19,20,21,22,23,24,25,26,27,28,29,30,31,32,33,34,35,36,37,38,39,40,41,42,43,44,45,46,47,48,49,50,51,52,53,54,55,56,57,58,59,60,61,62,63,64,65,66,67,68,69,70,71,72,73,74,75,76,77,78,79,80,81,82,83,84,85,86,87,88,89,90,91,92,93,94,95,96,97,98,99,100,101,102,103,104,105,106,107,108,109,110,111,112,113,114,115,116,117,118,119,120,121,122,123,124,125,126,127,128,129,130,131,132,133,134,135,136,137,138,139,140,141,142,143,144,145,146,147,148,149,150,151,152,153,154,155,156,157,158,159,160,161,162,163,164,165,166,167,168,169,170,171,172,173,174,175,176,177,178,179,180,181,182,183,184,185,186,187,188,189,190,191,192,193,194,195,196,197,198,199,200,201,202,203,204,205,206,207,208,209,210,211,212,213,214,215,216,217,218,219,220,221,222,223,224,225,226,227,228,229,230,231,232,233,234,235,236,237,238,239,240,241,242,243,244,245,246,247,248,249,250,251,252,253,254,255,256,257,258,259,260,261,262,263,264,265,266,267,268,269,270,271,272,273,274,275,276,277,278,279,280,281,282,283,284,285,286,287,288,289,290,291,292,293,294,295,296,297,298,299],\"xaxis\":\"x\",\"y\":[0.8471505761146545,0.8464107632637023,0.8461910367012024,0.8461048364639282,0.8460832476615906,0.8460465669631958,0.8460293531417846,0.8459840297698975,0.8459657430648804,0.8459200024604797,0.8458567023277282,0.8458132863044738,0.8457495689392089,0.8456863522529602,0.8456101179122925,0.8455461621284485,0.8454361319541931,0.845332670211792,0.8452411890029907,0.845114278793335,0.8449892401695251,0.8448394656181335,0.8446840047836304,0.8445265650749206,0.8443486332893372,0.8441663026809693,0.8439610838890076,0.843741774559021,0.8435219764709473,0.8433202385902405,0.8431081175804138,0.8428760766983032,0.8426410317420959,0.8423954606056213,0.8421542644500732,0.8418788313865662,0.8415842890739441,0.8413233637809754,0.8410101532936096,0.8407236337661743,0.8404704451560974,0.8402296423912048,0.8399969339370728,0.8397664666175843,0.8395634412765502,0.8393527746200562,0.8391895532608032,0.83899827003479,0.8388143897056579,0.838656997680664,0.8384777188301087,0.8383036375045776,0.8381594538688659,0.8379884600639343,0.8378400921821594,0.8376800775527954,0.8375490307807922,0.8374415159225463,0.8372646331787109,0.8371548652648926,0.8370461702346802,0.8369048237800598,0.8368202567100524,0.8367125630378723,0.8365721106529236,0.8365092158317566,0.8364210247993469,0.8363233089447022,0.8362457871437072,0.8361322402954101,0.8360486268997193,0.8359890818595886,0.8358914256095886,0.8358219742774964,0.8357287287712097,0.8356453061103821,0.8355870485305786,0.8354918003082276,0.8354327797889709,0.8353480100631714,0.8352771401405334,0.8352190852165222,0.8351561665534973,0.8350842475891114,0.8350082993507385,0.8349780201911926,0.8349216938018799,0.834852111339569,0.8347717165946961,0.8347556352615356,0.8346837759017944,0.834641945362091,0.8346143364906311,0.8345175862312317,0.8344875335693359,0.834446382522583,0.834390652179718,0.8343268513679505,0.8343003511428833,0.8342656493186951,0.8342013716697693,0.8341867446899414,0.8341399312019349,0.8341004371643066,0.8340409517288208,0.8340354084968566,0.8339500784873962,0.8339562058448792,0.8339233279228211,0.8339178919792175,0.833875548839569,0.8338284015655517,0.8337791800498963,0.8337727069854737,0.8337119102478028,0.8336837887763977,0.8336851716041564,0.8336629271507263,0.8336429595947266,0.8336071133613586,0.8335479497909546,0.8335480451583862,0.8335619330406189,0.8335356712341309,0.8335004448890686,0.8334552049636841,0.8334489226341247,0.8334294199943543,0.8334366798400878,0.8334120273590088,0.833388352394104,0.8333775281906128,0.8333445072174073,0.8333576679229736,0.8333086609840393,0.83330899477005,0.8333045363426208,0.8332756996154785,0.8332508444786072,0.8332812190055847,0.8332403302192688,0.8332635879516601,0.8332531094551087,0.8332367181777954,0.8332544326782226,0.8332360267639161,0.833238160610199,0.8331892132759094,0.8331894636154175,0.8332028865814209,0.8331996679306031,0.8332167863845825,0.8331801414489746,0.8331756353378296,0.8332003474235534,0.8331798911094666,0.8331782817840576,0.833203911781311,0.8332178950309753,0.8332136034965515,0.8331941962242126,0.8332262158393859,0.8332148790359497,0.8332189679145813,0.8331626296043396,0.8332109928131104,0.8332123756408691,0.8332177639007569,0.8332174062728882,0.833213496208191,0.8332083940505981,0.8332195281982422,0.8332428812980652,0.8332473516464234,0.8333044409751892,0.8332829117774964,0.833281934261322,0.8332711577415466,0.8332902431488037,0.8333336472511291,0.8333259105682373,0.8333033561706543,0.8333025693893432,0.8333290457725525,0.8333571791648865,0.8333319664001465,0.8333591222763062,0.8333915829658508,0.8333669781684876,0.8333740472793579,0.8334559202194214,0.8334124684333801,0.8334384322166443,0.8334378838539124,0.833470630645752,0.8335024237632751,0.8334991216659546,0.8335186004638672,0.8335125565528869,0.833545982837677,0.8335714221000672,0.833630895614624,0.8336390614509582,0.8336085796356201,0.8336602091789246,0.8337192177772522,0.8336979031562806,0.8337245583534241,0.8337529540061951,0.8337741971015931,0.8337850451469422,0.8337981700897217,0.8338400959968567,0.8338524341583252,0.8338796496391296,0.8338968396186829,0.833899712562561,0.8339501976966858,0.8339383006095886,0.83395334482193,0.8340302467346191,0.834032940864563,0.8340387582778931,0.8341002941131592,0.8341004729270936,0.8341056704521179,0.8341447949409485,0.8341348171234131,0.8341609835624695,0.8342147588729858,0.8342255473136901,0.8342476129531861,0.8342604041099548,0.8342787504196167,0.8342973470687867,0.8343292236328125,0.8343392252922058,0.8343506574630737,0.8343983054161072,0.8344221115112305,0.8344489932060242,0.8345199346542358,0.8345240116119385,0.8345592021942139,0.8345834136009216,0.8346085906028747,0.8346092820167541,0.834647262096405,0.8346623182296753,0.8346813797950745,0.8347272396087646,0.8347713470458984,0.8347814917564392,0.8348311901092529,0.83483384847641,0.8348748922348023,0.8348875164985656,0.8349256157875061,0.8349531412124633,0.8349572062492371,0.8349875211715698,0.8349957585334777,0.8350501656532288,0.8350954174995422,0.8351370096206665,0.8351668119430542,0.8351792931556702,0.8351807117462158,0.83525630235672,0.8352348327636718,0.8352561354637146,0.8353247523307801,0.8353476405143738,0.8353517174720764,0.8353826880455018,0.8354138851165771,0.8353747606277466,0.8354629635810852,0.8354772329330444,0.8354707360267639,0.8354873776435852,0.8355276584625244,0.8355719804763794,0.8355733036994935,0.8356366991996765,0.8356555104255676,0.8356964588165283,0.8357062816619873,0.8357041835784912,0.8357441544532775,0.83574458360672,0.83579523563385,0.8357982039451599,0.835836136341095,0.8358677864074707,0.835884964466095,0.835922372341156,0.8359400868415833,0.8359691262245178,0.8359594225883484],\"yaxis\":\"y\"}],                        {\"legend\":{\"tracegroupgap\":0},\"template\":{\"data\":{\"bar\":[{\"error_x\":{\"color\":\"#2a3f5f\"},\"error_y\":{\"color\":\"#2a3f5f\"},\"marker\":{\"line\":{\"color\":\"white\",\"width\":0.5},\"pattern\":{\"fillmode\":\"overlay\",\"size\":10,\"solidity\":0.2}},\"type\":\"bar\"}],\"barpolar\":[{\"marker\":{\"line\":{\"color\":\"white\",\"width\":0.5},\"pattern\":{\"fillmode\":\"overlay\",\"size\":10,\"solidity\":0.2}},\"type\":\"barpolar\"}],\"carpet\":[{\"aaxis\":{\"endlinecolor\":\"#2a3f5f\",\"gridcolor\":\"#C8D4E3\",\"linecolor\":\"#C8D4E3\",\"minorgridcolor\":\"#C8D4E3\",\"startlinecolor\":\"#2a3f5f\"},\"baxis\":{\"endlinecolor\":\"#2a3f5f\",\"gridcolor\":\"#C8D4E3\",\"linecolor\":\"#C8D4E3\",\"minorgridcolor\":\"#C8D4E3\",\"startlinecolor\":\"#2a3f5f\"},\"type\":\"carpet\"}],\"choropleth\":[{\"colorbar\":{\"outlinewidth\":0,\"ticks\":\"\"},\"type\":\"choropleth\"}],\"contour\":[{\"colorbar\":{\"outlinewidth\":0,\"ticks\":\"\"},\"colorscale\":[[0.0,\"#0d0887\"],[0.1111111111111111,\"#46039f\"],[0.2222222222222222,\"#7201a8\"],[0.3333333333333333,\"#9c179e\"],[0.4444444444444444,\"#bd3786\"],[0.5555555555555556,\"#d8576b\"],[0.6666666666666666,\"#ed7953\"],[0.7777777777777778,\"#fb9f3a\"],[0.8888888888888888,\"#fdca26\"],[1.0,\"#f0f921\"]],\"type\":\"contour\"}],\"contourcarpet\":[{\"colorbar\":{\"outlinewidth\":0,\"ticks\":\"\"},\"type\":\"contourcarpet\"}],\"heatmap\":[{\"colorbar\":{\"outlinewidth\":0,\"ticks\":\"\"},\"colorscale\":[[0.0,\"#0d0887\"],[0.1111111111111111,\"#46039f\"],[0.2222222222222222,\"#7201a8\"],[0.3333333333333333,\"#9c179e\"],[0.4444444444444444,\"#bd3786\"],[0.5555555555555556,\"#d8576b\"],[0.6666666666666666,\"#ed7953\"],[0.7777777777777778,\"#fb9f3a\"],[0.8888888888888888,\"#fdca26\"],[1.0,\"#f0f921\"]],\"type\":\"heatmap\"}],\"heatmapgl\":[{\"colorbar\":{\"outlinewidth\":0,\"ticks\":\"\"},\"colorscale\":[[0.0,\"#0d0887\"],[0.1111111111111111,\"#46039f\"],[0.2222222222222222,\"#7201a8\"],[0.3333333333333333,\"#9c179e\"],[0.4444444444444444,\"#bd3786\"],[0.5555555555555556,\"#d8576b\"],[0.6666666666666666,\"#ed7953\"],[0.7777777777777778,\"#fb9f3a\"],[0.8888888888888888,\"#fdca26\"],[1.0,\"#f0f921\"]],\"type\":\"heatmapgl\"}],\"histogram\":[{\"marker\":{\"pattern\":{\"fillmode\":\"overlay\",\"size\":10,\"solidity\":0.2}},\"type\":\"histogram\"}],\"histogram2d\":[{\"colorbar\":{\"outlinewidth\":0,\"ticks\":\"\"},\"colorscale\":[[0.0,\"#0d0887\"],[0.1111111111111111,\"#46039f\"],[0.2222222222222222,\"#7201a8\"],[0.3333333333333333,\"#9c179e\"],[0.4444444444444444,\"#bd3786\"],[0.5555555555555556,\"#d8576b\"],[0.6666666666666666,\"#ed7953\"],[0.7777777777777778,\"#fb9f3a\"],[0.8888888888888888,\"#fdca26\"],[1.0,\"#f0f921\"]],\"type\":\"histogram2d\"}],\"histogram2dcontour\":[{\"colorbar\":{\"outlinewidth\":0,\"ticks\":\"\"},\"colorscale\":[[0.0,\"#0d0887\"],[0.1111111111111111,\"#46039f\"],[0.2222222222222222,\"#7201a8\"],[0.3333333333333333,\"#9c179e\"],[0.4444444444444444,\"#bd3786\"],[0.5555555555555556,\"#d8576b\"],[0.6666666666666666,\"#ed7953\"],[0.7777777777777778,\"#fb9f3a\"],[0.8888888888888888,\"#fdca26\"],[1.0,\"#f0f921\"]],\"type\":\"histogram2dcontour\"}],\"mesh3d\":[{\"colorbar\":{\"outlinewidth\":0,\"ticks\":\"\"},\"type\":\"mesh3d\"}],\"parcoords\":[{\"line\":{\"colorbar\":{\"outlinewidth\":0,\"ticks\":\"\"}},\"type\":\"parcoords\"}],\"pie\":[{\"automargin\":true,\"type\":\"pie\"}],\"scatter\":[{\"marker\":{\"colorbar\":{\"outlinewidth\":0,\"ticks\":\"\"}},\"type\":\"scatter\"}],\"scatter3d\":[{\"line\":{\"colorbar\":{\"outlinewidth\":0,\"ticks\":\"\"}},\"marker\":{\"colorbar\":{\"outlinewidth\":0,\"ticks\":\"\"}},\"type\":\"scatter3d\"}],\"scattercarpet\":[{\"marker\":{\"colorbar\":{\"outlinewidth\":0,\"ticks\":\"\"}},\"type\":\"scattercarpet\"}],\"scattergeo\":[{\"marker\":{\"colorbar\":{\"outlinewidth\":0,\"ticks\":\"\"}},\"type\":\"scattergeo\"}],\"scattergl\":[{\"marker\":{\"colorbar\":{\"outlinewidth\":0,\"ticks\":\"\"}},\"type\":\"scattergl\"}],\"scattermapbox\":[{\"marker\":{\"colorbar\":{\"outlinewidth\":0,\"ticks\":\"\"}},\"type\":\"scattermapbox\"}],\"scatterpolar\":[{\"marker\":{\"colorbar\":{\"outlinewidth\":0,\"ticks\":\"\"}},\"type\":\"scatterpolar\"}],\"scatterpolargl\":[{\"marker\":{\"colorbar\":{\"outlinewidth\":0,\"ticks\":\"\"}},\"type\":\"scatterpolargl\"}],\"scatterternary\":[{\"marker\":{\"colorbar\":{\"outlinewidth\":0,\"ticks\":\"\"}},\"type\":\"scatterternary\"}],\"surface\":[{\"colorbar\":{\"outlinewidth\":0,\"ticks\":\"\"},\"colorscale\":[[0.0,\"#0d0887\"],[0.1111111111111111,\"#46039f\"],[0.2222222222222222,\"#7201a8\"],[0.3333333333333333,\"#9c179e\"],[0.4444444444444444,\"#bd3786\"],[0.5555555555555556,\"#d8576b\"],[0.6666666666666666,\"#ed7953\"],[0.7777777777777778,\"#fb9f3a\"],[0.8888888888888888,\"#fdca26\"],[1.0,\"#f0f921\"]],\"type\":\"surface\"}],\"table\":[{\"cells\":{\"fill\":{\"color\":\"#EBF0F8\"},\"line\":{\"color\":\"white\"}},\"header\":{\"fill\":{\"color\":\"#C8D4E3\"},\"line\":{\"color\":\"white\"}},\"type\":\"table\"}]},\"layout\":{\"annotationdefaults\":{\"arrowcolor\":\"#2a3f5f\",\"arrowhead\":0,\"arrowwidth\":1},\"autotypenumbers\":\"strict\",\"coloraxis\":{\"colorbar\":{\"outlinewidth\":0,\"ticks\":\"\"}},\"colorscale\":{\"diverging\":[[0,\"#8e0152\"],[0.1,\"#c51b7d\"],[0.2,\"#de77ae\"],[0.3,\"#f1b6da\"],[0.4,\"#fde0ef\"],[0.5,\"#f7f7f7\"],[0.6,\"#e6f5d0\"],[0.7,\"#b8e186\"],[0.8,\"#7fbc41\"],[0.9,\"#4d9221\"],[1,\"#276419\"]],\"sequential\":[[0.0,\"#0d0887\"],[0.1111111111111111,\"#46039f\"],[0.2222222222222222,\"#7201a8\"],[0.3333333333333333,\"#9c179e\"],[0.4444444444444444,\"#bd3786\"],[0.5555555555555556,\"#d8576b\"],[0.6666666666666666,\"#ed7953\"],[0.7777777777777778,\"#fb9f3a\"],[0.8888888888888888,\"#fdca26\"],[1.0,\"#f0f921\"]],\"sequentialminus\":[[0.0,\"#0d0887\"],[0.1111111111111111,\"#46039f\"],[0.2222222222222222,\"#7201a8\"],[0.3333333333333333,\"#9c179e\"],[0.4444444444444444,\"#bd3786\"],[0.5555555555555556,\"#d8576b\"],[0.6666666666666666,\"#ed7953\"],[0.7777777777777778,\"#fb9f3a\"],[0.8888888888888888,\"#fdca26\"],[1.0,\"#f0f921\"]]},\"colorway\":[\"#636efa\",\"#EF553B\",\"#00cc96\",\"#ab63fa\",\"#FFA15A\",\"#19d3f3\",\"#FF6692\",\"#B6E880\",\"#FF97FF\",\"#FECB52\"],\"font\":{\"color\":\"#2a3f5f\"},\"geo\":{\"bgcolor\":\"white\",\"lakecolor\":\"white\",\"landcolor\":\"white\",\"showlakes\":true,\"showland\":true,\"subunitcolor\":\"#C8D4E3\"},\"hoverlabel\":{\"align\":\"left\"},\"hovermode\":\"closest\",\"mapbox\":{\"style\":\"light\"},\"paper_bgcolor\":\"white\",\"plot_bgcolor\":\"white\",\"polar\":{\"angularaxis\":{\"gridcolor\":\"#EBF0F8\",\"linecolor\":\"#EBF0F8\",\"ticks\":\"\"},\"bgcolor\":\"white\",\"radialaxis\":{\"gridcolor\":\"#EBF0F8\",\"linecolor\":\"#EBF0F8\",\"ticks\":\"\"}},\"scene\":{\"xaxis\":{\"backgroundcolor\":\"white\",\"gridcolor\":\"#DFE8F3\",\"gridwidth\":2,\"linecolor\":\"#EBF0F8\",\"showbackground\":true,\"ticks\":\"\",\"zerolinecolor\":\"#EBF0F8\"},\"yaxis\":{\"backgroundcolor\":\"white\",\"gridcolor\":\"#DFE8F3\",\"gridwidth\":2,\"linecolor\":\"#EBF0F8\",\"showbackground\":true,\"ticks\":\"\",\"zerolinecolor\":\"#EBF0F8\"},\"zaxis\":{\"backgroundcolor\":\"white\",\"gridcolor\":\"#DFE8F3\",\"gridwidth\":2,\"linecolor\":\"#EBF0F8\",\"showbackground\":true,\"ticks\":\"\",\"zerolinecolor\":\"#EBF0F8\"}},\"shapedefaults\":{\"line\":{\"color\":\"#2a3f5f\"}},\"ternary\":{\"aaxis\":{\"gridcolor\":\"#DFE8F3\",\"linecolor\":\"#A2B1C6\",\"ticks\":\"\"},\"baxis\":{\"gridcolor\":\"#DFE8F3\",\"linecolor\":\"#A2B1C6\",\"ticks\":\"\"},\"bgcolor\":\"white\",\"caxis\":{\"gridcolor\":\"#DFE8F3\",\"linecolor\":\"#A2B1C6\",\"ticks\":\"\"}},\"title\":{\"x\":0.05},\"xaxis\":{\"automargin\":true,\"gridcolor\":\"#EBF0F8\",\"linecolor\":\"#EBF0F8\",\"ticks\":\"\",\"title\":{\"standoff\":15},\"zerolinecolor\":\"#EBF0F8\",\"zerolinewidth\":2},\"yaxis\":{\"automargin\":true,\"gridcolor\":\"#EBF0F8\",\"linecolor\":\"#EBF0F8\",\"ticks\":\"\",\"title\":{\"standoff\":15},\"zerolinecolor\":\"#EBF0F8\",\"zerolinewidth\":2}}},\"title\":{\"text\":\"average_loss\"},\"xaxis\":{\"anchor\":\"y\",\"domain\":[0.0,1.0],\"title\":{\"text\":\"time\"}},\"yaxis\":{\"anchor\":\"x\",\"domain\":[0.0,1.0],\"title\":{\"text\":\"average_loss\"}}},                        {\"responsive\": true}                    ).then(function(){\n",
       "                            \n",
       "var gd = document.getElementById('d4d4b650-f1c1-4e65-9148-bc5129f61af2');\n",
       "var x = new MutationObserver(function (mutations, observer) {{\n",
       "        var display = window.getComputedStyle(gd).display;\n",
       "        if (!display || display === 'none') {{\n",
       "            console.log([gd, 'removed!']);\n",
       "            Plotly.purge(gd);\n",
       "            observer.disconnect();\n",
       "        }}\n",
       "}});\n",
       "\n",
       "// Listen for the removal of the full notebook cells\n",
       "var notebookContainer = gd.closest('#notebook-container');\n",
       "if (notebookContainer) {{\n",
       "    x.observe(notebookContainer, {childList: true});\n",
       "}}\n",
       "\n",
       "// Listen for the clearing of the current output cell\n",
       "var outputEl = gd.closest('.output');\n",
       "if (outputEl) {{\n",
       "    x.observe(outputEl, {childList: true});\n",
       "}}\n",
       "\n",
       "                        })                };                });            </script>        </div>"
      ]
     },
     "metadata": {},
     "output_type": "display_data"
    }
   ],
   "source": [
    "for col in ['average_corr', 'average_loss']:\n",
    "    fig = px.line(\n",
    "        progress_df, x=\"time\", y=col, \n",
    "        title=col, template='plotly_white'\n",
    "    )\n",
    "\n",
    "    fig.show()"
   ]
  }
 ],
 "metadata": {
  "kernelspec": {
   "display_name": "Python 3",
   "language": "python",
   "name": "python3"
  },
  "language_info": {
   "codemirror_mode": {
    "name": "ipython",
    "version": 3
   },
   "file_extension": ".py",
   "mimetype": "text/x-python",
   "name": "python",
   "nbconvert_exporter": "python",
   "pygments_lexer": "ipython3",
   "version": "3.7.10"
  },
  "papermill": {
   "default_parameters": {},
   "duration": 11992.931474,
   "end_time": "2022-04-10T12:04:52.806046",
   "environment_variables": {},
   "exception": null,
   "input_path": "__notebook__.ipynb",
   "output_path": "__notebook__.ipynb",
   "parameters": {},
   "start_time": "2022-04-10T08:44:59.874572",
   "version": "2.3.3"
  }
 },
 "nbformat": 4,
 "nbformat_minor": 5
}
