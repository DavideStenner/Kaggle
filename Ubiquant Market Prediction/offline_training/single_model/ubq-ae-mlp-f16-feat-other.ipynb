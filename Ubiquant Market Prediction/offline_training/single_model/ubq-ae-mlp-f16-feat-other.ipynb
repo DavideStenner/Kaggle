{
 "cells": [
  {
   "cell_type": "code",
   "execution_count": 1,
   "id": "f2a6f9f4",
   "metadata": {
    "execution": {
     "iopub.execute_input": "2022-04-09T16:45:59.609340Z",
     "iopub.status.busy": "2022-04-09T16:45:59.608612Z",
     "iopub.status.idle": "2022-04-09T16:46:09.597328Z",
     "shell.execute_reply": "2022-04-09T16:46:09.597882Z",
     "shell.execute_reply.started": "2022-04-09T16:11:21.557859Z"
    },
    "papermill": {
     "duration": 10.024652,
     "end_time": "2022-04-09T16:46:09.598241",
     "exception": false,
     "start_time": "2022-04-09T16:45:59.573589",
     "status": "completed"
    },
    "tags": []
   },
   "outputs": [
    {
     "name": "stderr",
     "output_type": "stream",
     "text": [
      "2022-04-09 16:46:02.719550: W tensorflow/stream_executor/platform/default/dso_loader.cc:60] Could not load dynamic library 'libcudart.so.11.0'; dlerror: libcudart.so.11.0: cannot open shared object file: No such file or directory; LD_LIBRARY_PATH: /opt/conda/lib\n",
      "2022-04-09 16:46:02.719678: I tensorflow/stream_executor/cuda/cudart_stub.cc:29] Ignore above cudart dlerror if you do not have a GPU set up on your machine.\n"
     ]
    },
    {
     "data": {
      "text/html": [
       "<style type='text/css'>\n",
       ".datatable table.frame { margin-bottom: 0; }\n",
       ".datatable table.frame thead { border-bottom: none; }\n",
       ".datatable table.frame tr.coltypes td {  color: #FFFFFF;  line-height: 6px;  padding: 0 0.5em;}\n",
       ".datatable .bool    { background: #DDDD99; }\n",
       ".datatable .object  { background: #565656; }\n",
       ".datatable .int     { background: #5D9E5D; }\n",
       ".datatable .float   { background: #4040CC; }\n",
       ".datatable .str     { background: #CC4040; }\n",
       ".datatable .time    { background: #40CC40; }\n",
       ".datatable .row_index {  background: var(--jp-border-color3);  border-right: 1px solid var(--jp-border-color0);  color: var(--jp-ui-font-color3);  font-size: 9px;}\n",
       ".datatable .frame tbody td { text-align: left; }\n",
       ".datatable .frame tr.coltypes .row_index {  background: var(--jp-border-color0);}\n",
       ".datatable th:nth-child(2) { padding-left: 12px; }\n",
       ".datatable .hellipsis {  color: var(--jp-cell-editor-border-color);}\n",
       ".datatable .vellipsis {  background: var(--jp-layout-color0);  color: var(--jp-cell-editor-border-color);}\n",
       ".datatable .na {  color: var(--jp-cell-editor-border-color);  font-size: 80%;}\n",
       ".datatable .sp {  opacity: 0.25;}\n",
       ".datatable .footer { font-size: 9px; }\n",
       ".datatable .frame_dimensions {  background: var(--jp-border-color3);  border-top: 1px solid var(--jp-border-color0);  color: var(--jp-ui-font-color3);  display: inline-block;  opacity: 0.6;  padding: 1px 10px 1px 5px;}\n",
       "</style>\n"
      ],
      "text/plain": [
       "<IPython.core.display.HTML object>"
      ]
     },
     "metadata": {},
     "output_type": "display_data"
    },
    {
     "name": "stderr",
     "output_type": "stream",
     "text": [
      "2022-04-09 16:46:09.540135: I tensorflow/compiler/jit/xla_cpu_device.cc:41] Not creating XLA devices, tf_xla_enable_xla_devices not set\n",
      "2022-04-09 16:46:09.544375: W tensorflow/stream_executor/platform/default/dso_loader.cc:60] Could not load dynamic library 'libcuda.so.1'; dlerror: libcuda.so.1: cannot open shared object file: No such file or directory; LD_LIBRARY_PATH: /opt/conda/lib\n",
      "2022-04-09 16:46:09.544427: W tensorflow/stream_executor/cuda/cuda_driver.cc:326] failed call to cuInit: UNKNOWN ERROR (303)\n",
      "2022-04-09 16:46:09.544459: I tensorflow/stream_executor/cuda/cuda_diagnostics.cc:156] kernel driver does not appear to be running on this host (8d1a0ce7d36a): /proc/driver/nvidia/version does not exist\n",
      "2022-04-09 16:46:09.545873: I tensorflow/core/platform/cpu_feature_guard.cc:142] This TensorFlow binary is optimized with oneAPI Deep Neural Network Library (oneDNN) to use the following CPU instructions in performance-critical operations:  AVX2 FMA\n",
      "To enable them in other operations, rebuild TensorFlow with the appropriate compiler flags.\n",
      "2022-04-09 16:46:09.546336: I tensorflow/compiler/jit/xla_gpu_device.cc:99] Not creating XLA devices, tf_xla_enable_xla_devices not set\n"
     ]
    }
   ],
   "source": [
    "import pandas as pd\n",
    "from scipy import stats\n",
    "import os\n",
    "import gc\n",
    "import numpy as np\n",
    "import plotly.express as px\n",
    "import tensorflow as tf\n",
    "import time\n",
    "import tensorflow_probability as tfp\n",
    "import pickle\n",
    "import time\n",
    "from tensorflow.keras import mixed_precision\n",
    "\n",
    "from ubq_nn_utils import (\n",
    "    PARAMS, tfp_correlation, create_ae_mlp, get_ae_dataset\n",
    ")\n",
    "\n",
    "from ubq_utilities import (\n",
    "    get_time_series_cross_val_splits,\n",
    "    get_hardware_strategy,\n",
    "    calculate_corr, corr_sharpe_lgb,\n",
    "    TIME_COL, FOLD_NAME, TARGET_COL,\n",
    "    STARTING_FEATURE_NAME, N_FOLD, \n",
    "    STARTING_CAT_FEAT_NAME, STARTING_NUMERIC_FEAT_NAME,\n",
    "    RANDOM_STATE, SUBSAMPLE_FOLD\n",
    ")\n",
    "\n",
    "N_ROUND = 100\n",
    "N_FOLD = 5\n",
    "\n",
    "tf.random.set_seed(RANDOM_STATE)\n",
    "\n",
    "path_data = '../input/ubq-preprocess-mean-other'"
   ]
  },
  {
   "cell_type": "code",
   "execution_count": 2,
   "id": "7feeadb9",
   "metadata": {
    "execution": {
     "iopub.execute_input": "2022-04-09T16:46:09.643532Z",
     "iopub.status.busy": "2022-04-09T16:46:09.642859Z",
     "iopub.status.idle": "2022-04-09T16:46:15.550925Z",
     "shell.execute_reply": "2022-04-09T16:46:15.550330Z",
     "shell.execute_reply.started": "2022-04-09T16:11:30.570637Z"
    },
    "papermill": {
     "duration": 5.931708,
     "end_time": "2022-04-09T16:46:15.551090",
     "exception": false,
     "start_time": "2022-04-09T16:46:09.619382",
     "status": "completed"
    },
    "tags": []
   },
   "outputs": [
    {
     "name": "stderr",
     "output_type": "stream",
     "text": [
      "2022-04-09 16:46:09.647220: I tensorflow/compiler/jit/xla_gpu_device.cc:99] Not creating XLA devices, tf_xla_enable_xla_devices not set\n",
      "2022-04-09 16:46:09.675330: I tensorflow/core/distributed_runtime/rpc/grpc_channel.cc:301] Initialize GrpcChannelCache for job worker -> {0 -> 10.0.0.2:8470}\n",
      "2022-04-09 16:46:09.675399: I tensorflow/core/distributed_runtime/rpc/grpc_channel.cc:301] Initialize GrpcChannelCache for job localhost -> {0 -> localhost:30020}\n",
      "2022-04-09 16:46:09.699974: I tensorflow/core/distributed_runtime/rpc/grpc_channel.cc:301] Initialize GrpcChannelCache for job worker -> {0 -> 10.0.0.2:8470}\n",
      "2022-04-09 16:46:09.700049: I tensorflow/core/distributed_runtime/rpc/grpc_channel.cc:301] Initialize GrpcChannelCache for job localhost -> {0 -> localhost:30020}\n",
      "2022-04-09 16:46:09.700648: I tensorflow/core/distributed_runtime/rpc/grpc_server_lib.cc:411] Started server with target: grpc://localhost:30020\n"
     ]
    },
    {
     "name": "stdout",
     "output_type": "stream",
     "text": [
      "Running on TPU  grpc://10.0.0.2:8470\n",
      "REPLICAS:  8\n"
     ]
    }
   ],
   "source": [
    "tpu, strategy = get_hardware_strategy()\n",
    "\n",
    "BATCH_SIZE = 256 * strategy.num_replicas_in_sync\n",
    "AUTO = tf.data.experimental.AUTOTUNE"
   ]
  },
  {
   "cell_type": "code",
   "execution_count": 3,
   "id": "6d71b7f5",
   "metadata": {
    "execution": {
     "iopub.execute_input": "2022-04-09T16:46:15.597632Z",
     "iopub.status.busy": "2022-04-09T16:46:15.597001Z",
     "iopub.status.idle": "2022-04-09T16:46:15.612628Z",
     "shell.execute_reply": "2022-04-09T16:46:15.611940Z",
     "shell.execute_reply.started": "2022-04-09T16:11:36.418627Z"
    },
    "papermill": {
     "duration": 0.040284,
     "end_time": "2022-04-09T16:46:15.612824",
     "exception": false,
     "start_time": "2022-04-09T16:46:15.572540",
     "status": "completed"
    },
    "tags": []
   },
   "outputs": [],
   "source": [
    "with open(os.path.join(path_data, 'ALL_FEATURE.pkl'), 'rb') as file:\n",
    "    ALL_FEATURE = pickle.load(file)\n",
    "\n",
    "PARAMS['num_total_feature'] = len(ALL_FEATURE)\n",
    "PARAMS['num_original_feature'] = len(ALL_FEATURE)"
   ]
  },
  {
   "cell_type": "code",
   "execution_count": 4,
   "id": "29cc96fb",
   "metadata": {
    "execution": {
     "iopub.execute_input": "2022-04-09T16:46:15.659196Z",
     "iopub.status.busy": "2022-04-09T16:46:15.658432Z",
     "iopub.status.idle": "2022-04-09T16:46:44.961897Z",
     "shell.execute_reply": "2022-04-09T16:46:44.961302Z",
     "shell.execute_reply.started": "2022-04-09T16:11:36.435054Z"
    },
    "papermill": {
     "duration": 29.327947,
     "end_time": "2022-04-09T16:46:44.962086",
     "exception": false,
     "start_time": "2022-04-09T16:46:15.634139",
     "status": "completed"
    },
    "tags": []
   },
   "outputs": [
    {
     "name": "stdout",
     "output_type": "stream",
     "text": [
      "Importing pd df\n"
     ]
    },
    {
     "data": {
      "text/plain": [
       "64"
      ]
     },
     "execution_count": 4,
     "metadata": {},
     "output_type": "execute_result"
    }
   ],
   "source": [
    "print('Importing pd df')\n",
    "data = pd.read_pickle(\n",
    "    os.path.join(path_data, f'train_16_fe.pkl')\n",
    ")\n",
    "\n",
    "gc.collect()"
   ]
  },
  {
   "cell_type": "code",
   "execution_count": 5,
   "id": "9da110ad",
   "metadata": {
    "execution": {
     "iopub.execute_input": "2022-04-09T16:46:45.013085Z",
     "iopub.status.busy": "2022-04-09T16:46:45.012249Z",
     "iopub.status.idle": "2022-04-09T16:46:45.015178Z",
     "shell.execute_reply": "2022-04-09T16:46:45.015768Z",
     "shell.execute_reply.started": "2022-04-09T16:12:01.338200Z"
    },
    "papermill": {
     "duration": 0.031914,
     "end_time": "2022-04-09T16:46:45.016009",
     "exception": false,
     "start_time": "2022-04-09T16:46:44.984095",
     "status": "completed"
    },
    "tags": []
   },
   "outputs": [
    {
     "name": "stdout",
     "output_type": "stream",
     "text": [
      "Using: 3141410 rows; 405 columns\n"
     ]
    }
   ],
   "source": [
    "print(f\"Using: {data.shape[0]} rows; {PARAMS['num_total_feature']} columns\")"
   ]
  },
  {
   "cell_type": "code",
   "execution_count": 6,
   "id": "fa2cd93e",
   "metadata": {
    "execution": {
     "iopub.execute_input": "2022-04-09T16:46:45.063885Z",
     "iopub.status.busy": "2022-04-09T16:46:45.063211Z",
     "iopub.status.idle": "2022-04-09T16:46:45.728602Z",
     "shell.execute_reply": "2022-04-09T16:46:45.729162Z",
     "shell.execute_reply.started": "2022-04-09T16:12:01.346762Z"
    },
    "papermill": {
     "duration": 0.691015,
     "end_time": "2022-04-09T16:46:45.729387",
     "exception": false,
     "start_time": "2022-04-09T16:46:45.038372",
     "status": "completed"
    },
    "tags": []
   },
   "outputs": [],
   "source": [
    "fold_embargo_zip = get_time_series_cross_val_splits(data, cv=N_FOLD, embargo=50, min_time_to_use=0)\n",
    "\n",
    "fold_split = [\n",
    "    [\n",
    "        np.where(data[TIME_COL].isin(train_index))[0], \n",
    "        np.where(data[TIME_COL].isin(test_index))[0]\n",
    "    ]\n",
    "    for train_index, test_index in fold_embargo_zip\n",
    "]\n",
    "\n",
    "time_id_split = [\n",
    "    data[TIME_COL].loc[test_index].values\n",
    "    for _, test_index in fold_split\n",
    "]\n",
    "\n",
    "first_element_test_split = np.array([\n",
    "    data[TARGET_COL].loc[test_index].iloc[0]\n",
    "    for _, test_index in fold_split\n",
    "])"
   ]
  },
  {
   "cell_type": "code",
   "execution_count": 7,
   "id": "0760ff67",
   "metadata": {
    "execution": {
     "iopub.execute_input": "2022-04-09T16:46:46.076376Z",
     "iopub.status.busy": "2022-04-09T16:46:46.075550Z",
     "iopub.status.idle": "2022-04-09T16:46:46.079519Z",
     "shell.execute_reply": "2022-04-09T16:46:46.078904Z",
     "shell.execute_reply.started": "2022-04-09T16:12:01.957935Z"
    },
    "papermill": {
     "duration": 0.326205,
     "end_time": "2022-04-09T16:46:46.079683",
     "exception": false,
     "start_time": "2022-04-09T16:46:45.753478",
     "status": "completed"
    },
    "tags": []
   },
   "outputs": [
    {
     "data": {
      "text/plain": [
       "21"
      ]
     },
     "execution_count": 7,
     "metadata": {},
     "output_type": "execute_result"
    }
   ],
   "source": [
    "gc.collect()"
   ]
  },
  {
   "cell_type": "code",
   "execution_count": 8,
   "id": "fe79409f",
   "metadata": {
    "execution": {
     "iopub.execute_input": "2022-04-09T16:46:46.131463Z",
     "iopub.status.busy": "2022-04-09T16:46:46.130693Z",
     "iopub.status.idle": "2022-04-09T16:46:46.132238Z",
     "shell.execute_reply": "2022-04-09T16:46:46.132798Z",
     "shell.execute_reply.started": "2022-04-09T16:12:02.160982Z"
    },
    "papermill": {
     "duration": 0.030023,
     "end_time": "2022-04-09T16:46:46.133012",
     "exception": false,
     "start_time": "2022-04-09T16:46:46.102989",
     "status": "completed"
    },
    "tags": []
   },
   "outputs": [],
   "source": [
    "os.makedirs('./checkpoint')"
   ]
  },
  {
   "cell_type": "code",
   "execution_count": 9,
   "id": "46869cf8",
   "metadata": {
    "execution": {
     "iopub.execute_input": "2022-04-09T16:46:46.180960Z",
     "iopub.status.busy": "2022-04-09T16:46:46.180283Z",
     "iopub.status.idle": "2022-04-09T16:46:46.476279Z",
     "shell.execute_reply": "2022-04-09T16:46:46.475636Z",
     "shell.execute_reply.started": "2022-04-09T16:12:02.172463Z"
    },
    "papermill": {
     "duration": 0.321193,
     "end_time": "2022-04-09T16:46:46.476466",
     "exception": false,
     "start_time": "2022-04-09T16:46:46.155273",
     "status": "completed"
    },
    "tags": []
   },
   "outputs": [
    {
     "data": {
      "text/plain": [
       "42"
      ]
     },
     "execution_count": 9,
     "metadata": {},
     "output_type": "execute_result"
    }
   ],
   "source": [
    "gc.collect()"
   ]
  },
  {
   "cell_type": "code",
   "execution_count": 10,
   "id": "5638207a",
   "metadata": {
    "execution": {
     "iopub.execute_input": "2022-04-09T16:46:46.529316Z",
     "iopub.status.busy": "2022-04-09T16:46:46.528584Z",
     "iopub.status.idle": "2022-04-09T16:46:46.531389Z",
     "shell.execute_reply": "2022-04-09T16:46:46.530666Z",
     "shell.execute_reply.started": "2022-04-09T16:12:02.381871Z"
    },
    "papermill": {
     "duration": 0.031905,
     "end_time": "2022-04-09T16:46:46.531551",
     "exception": false,
     "start_time": "2022-04-09T16:46:46.499646",
     "status": "completed"
    },
    "tags": []
   },
   "outputs": [],
   "source": [
    "PARAMS['lr'] = 0.0008"
   ]
  },
  {
   "cell_type": "code",
   "execution_count": 11,
   "id": "73d667bf",
   "metadata": {
    "execution": {
     "iopub.execute_input": "2022-04-09T16:46:46.585557Z",
     "iopub.status.busy": "2022-04-09T16:46:46.583816Z",
     "iopub.status.idle": "2022-04-09T16:46:54.652868Z",
     "shell.execute_reply": "2022-04-09T16:46:54.652214Z",
     "shell.execute_reply.started": "2022-04-09T16:12:02.394145Z"
    },
    "papermill": {
     "duration": 8.098033,
     "end_time": "2022-04-09T16:46:54.653048",
     "exception": false,
     "start_time": "2022-04-09T16:46:46.555015",
     "status": "completed"
    },
    "tags": []
   },
   "outputs": [
    {
     "data": {
      "text/plain": [
       "<tensorflow.python.tpu.topology.Topology at 0x7f8750c7f250>"
      ]
     },
     "execution_count": 11,
     "metadata": {},
     "output_type": "execute_result"
    }
   ],
   "source": [
    "tf.tpu.experimental.initialize_tpu_system(tpu)"
   ]
  },
  {
   "cell_type": "code",
   "execution_count": 12,
   "id": "9b20b5a2",
   "metadata": {
    "execution": {
     "iopub.execute_input": "2022-04-09T16:46:54.704566Z",
     "iopub.status.busy": "2022-04-09T16:46:54.703568Z",
     "iopub.status.idle": "2022-04-09T16:46:55.008368Z",
     "shell.execute_reply": "2022-04-09T16:46:55.007671Z",
     "shell.execute_reply.started": "2022-04-09T16:12:10.000187Z"
    },
    "papermill": {
     "duration": 0.331933,
     "end_time": "2022-04-09T16:46:55.008553",
     "exception": false,
     "start_time": "2022-04-09T16:46:54.676620",
     "status": "completed"
    },
    "tags": []
   },
   "outputs": [
    {
     "data": {
      "text/plain": [
       "63"
      ]
     },
     "execution_count": 12,
     "metadata": {},
     "output_type": "execute_result"
    }
   ],
   "source": [
    "gc.collect()"
   ]
  },
  {
   "cell_type": "code",
   "execution_count": 13,
   "id": "1e5dabb8",
   "metadata": {
    "execution": {
     "iopub.execute_input": "2022-04-09T16:46:55.061615Z",
     "iopub.status.busy": "2022-04-09T16:46:55.060848Z",
     "iopub.status.idle": "2022-04-09T16:46:55.065687Z",
     "shell.execute_reply": "2022-04-09T16:46:55.066254Z",
     "shell.execute_reply.started": "2022-04-09T16:12:10.199394Z"
    },
    "papermill": {
     "duration": 0.032598,
     "end_time": "2022-04-09T16:46:55.066470",
     "exception": false,
     "start_time": "2022-04-09T16:46:55.033872",
     "status": "completed"
    },
    "tags": []
   },
   "outputs": [],
   "source": [
    "PARAMS['hidden_units'] = [96, 96, 1024, 512, 256, 256, 64, 64]\n",
    "PARAMS['dropout_rates'] = [0.01, 0.05, 0.4, 0.4, 0.4, 0.4, 0.4, 0.1, .1]"
   ]
  },
  {
   "cell_type": "code",
   "execution_count": 14,
   "id": "06189ac3",
   "metadata": {
    "execution": {
     "iopub.execute_input": "2022-04-09T16:46:55.124339Z",
     "iopub.status.busy": "2022-04-09T16:46:55.123592Z",
     "iopub.status.idle": "2022-04-09T18:17:40.718756Z",
     "shell.execute_reply": "2022-04-09T18:17:40.719514Z",
     "shell.execute_reply.started": "2022-04-09T16:12:10.209307Z"
    },
    "papermill": {
     "duration": 5445.629917,
     "end_time": "2022-04-09T18:17:40.720391",
     "exception": false,
     "start_time": "2022-04-09T16:46:55.090474",
     "status": "completed"
    },
    "tags": []
   },
   "outputs": [
    {
     "name": "stdout",
     "output_type": "stream",
     "text": [
      "\n",
      "\n",
      "Starting fold 0\n",
      "\n",
      "\n",
      "\n"
     ]
    },
    {
     "name": "stderr",
     "output_type": "stream",
     "text": [
      "2022-04-09 16:47:19.250013: W tensorflow/core/framework/cpu_allocator_impl.cc:80] Allocation of 2012712300 exceeds 10% of free system memory.\n",
      "2022-04-09 16:47:27.366228: W tensorflow/core/framework/cpu_allocator_impl.cc:80] Allocation of 2012712300 exceeds 10% of free system memory.\n"
     ]
    },
    {
     "name": "stdout",
     "output_type": "stream",
     "text": [
      "\n",
      "\n",
      "Starting fold 1\n",
      "\n",
      "\n",
      "\n"
     ]
    },
    {
     "name": "stderr",
     "output_type": "stream",
     "text": [
      "2022-04-09 17:05:39.046609: W tensorflow/core/framework/cpu_allocator_impl.cc:80] Allocation of 1955192580 exceeds 10% of free system memory.\n",
      "2022-04-09 17:05:47.008505: W tensorflow/core/framework/cpu_allocator_impl.cc:80] Allocation of 1955192580 exceeds 10% of free system memory.\n"
     ]
    },
    {
     "name": "stdout",
     "output_type": "stream",
     "text": [
      "\n",
      "\n",
      "Starting fold 2\n",
      "\n",
      "\n",
      "\n"
     ]
    },
    {
     "name": "stderr",
     "output_type": "stream",
     "text": [
      "2022-04-09 17:23:46.945338: W tensorflow/core/framework/cpu_allocator_impl.cc:80] Allocation of 1850421510 exceeds 10% of free system memory.\n"
     ]
    },
    {
     "name": "stdout",
     "output_type": "stream",
     "text": [
      "\n",
      "\n",
      "Starting fold 3\n",
      "\n",
      "\n",
      "\n",
      "\n",
      "\n",
      "Starting fold 4\n",
      "\n",
      "\n",
      "\n"
     ]
    }
   ],
   "source": [
    "progress_list = []\n",
    "\n",
    "compile_params = {}\n",
    "\n",
    "for i, (train_index, test_index) in enumerate(fold_split):\n",
    "\n",
    "        print(f'\\n\\nStarting fold {i}\\n\\n\\n')\n",
    "\n",
    "        train_x_num, train_y = (\n",
    "            data[ALL_FEATURE].iloc[train_index].to_numpy('float16'),\n",
    "            data[TARGET_COL].iloc[train_index].to_numpy('float16')\n",
    "        )\n",
    "        test_x_num, test_y = (\n",
    "            data[ALL_FEATURE].iloc[test_index].to_numpy('float16'),\n",
    "            data[TARGET_COL].iloc[test_index].to_numpy('float16')\n",
    "        )\n",
    "        STEPS_PER_EPOCH = train_x_num.shape[0]  // BATCH_SIZE\n",
    "\n",
    "        train_dataset = get_ae_dataset(PARAMS['num_total_feature'], train_x_num, train_y, batch_size=BATCH_SIZE)\n",
    "        test_dataset = get_ae_dataset(PARAMS['num_total_feature'], test_x_num, test_y, train=False, batch_size=BATCH_SIZE)\n",
    "                \n",
    "        gc.collect()\n",
    "        time_id_fold = time_id_split[i]\n",
    "        \n",
    "        checkpoint_path = \"checkpoint/{epoch:03d}_\" + f\"model_fold_{i}.hdf5\"\n",
    "        with strategy.scope():\n",
    "\n",
    "            model = create_ae_mlp(\n",
    "                **PARAMS, steps=STEPS_PER_EPOCH, \n",
    "                metrics={'output': tfp_correlation},\n",
    "                compile_other_params = compile_params\n",
    "            )\n",
    "            \n",
    "        model_checkpoint = tf.keras.callbacks.ModelCheckpoint(\n",
    "            checkpoint_path,\n",
    "            verbose = 0, \n",
    "            save_weights_only = True\n",
    "        )\n",
    "\n",
    "        history = model.fit(\n",
    "            train_dataset,\n",
    "            validation_data=(test_dataset),\n",
    "            epochs = N_ROUND, callbacks = [model_checkpoint],\n",
    "            verbose = 0,\n",
    "        )\n",
    "        progress = pd.DataFrame(history.history)\n",
    "                        \n",
    "        del (\n",
    "            train_x_num, train_y, test_x_num, test_y, model_checkpoint, \n",
    "            history, model, time_id_fold, train_dataset,\n",
    "            test_dataset\n",
    "        )\n",
    "                \n",
    "        gc.collect()\n",
    "        \n",
    "        progress_list.append(progress)"
   ]
  },
  {
   "cell_type": "markdown",
   "id": "74054b0e",
   "metadata": {
    "papermill": {
     "duration": 0.026371,
     "end_time": "2022-04-09T18:17:40.773957",
     "exception": false,
     "start_time": "2022-04-09T18:17:40.747586",
     "status": "completed"
    },
    "tags": []
   },
   "source": [
    "# save dataset and make prediction with best epoch"
   ]
  },
  {
   "cell_type": "code",
   "execution_count": 15,
   "id": "3d14b5cb",
   "metadata": {
    "execution": {
     "iopub.execute_input": "2022-04-09T18:17:40.833794Z",
     "iopub.status.busy": "2022-04-09T18:17:40.832628Z",
     "iopub.status.idle": "2022-04-09T18:17:41.160634Z",
     "shell.execute_reply": "2022-04-09T18:17:41.161275Z",
     "shell.execute_reply.started": "2022-04-09T16:22:13.991573Z"
    },
    "papermill": {
     "duration": 0.361143,
     "end_time": "2022-04-09T18:17:41.161487",
     "exception": false,
     "start_time": "2022-04-09T18:17:40.800344",
     "status": "completed"
    },
    "tags": []
   },
   "outputs": [
    {
     "data": {
      "text/plain": [
       "21"
      ]
     },
     "execution_count": 15,
     "metadata": {},
     "output_type": "execute_result"
    }
   ],
   "source": [
    "gc.collect()"
   ]
  },
  {
   "cell_type": "code",
   "execution_count": 16,
   "id": "3c213796",
   "metadata": {
    "execution": {
     "iopub.execute_input": "2022-04-09T18:17:41.221875Z",
     "iopub.status.busy": "2022-04-09T18:17:41.221099Z",
     "iopub.status.idle": "2022-04-09T18:17:41.567944Z",
     "shell.execute_reply": "2022-04-09T18:17:41.567351Z",
     "shell.execute_reply.started": "2022-04-09T16:22:14.256073Z"
    },
    "papermill": {
     "duration": 0.378385,
     "end_time": "2022-04-09T18:17:41.568101",
     "exception": false,
     "start_time": "2022-04-09T18:17:41.189716",
     "status": "completed"
    },
    "tags": []
   },
   "outputs": [
    {
     "name": "stdout",
     "output_type": "stream",
     "text": [
      "Best epoch: 54, CV-Corr: 0.134, CV-Loss: 0.832; CV-ae Loss: 0.831\n"
     ]
    },
    {
     "data": {
      "text/plain": [
       "0"
      ]
     },
     "execution_count": 16,
     "metadata": {},
     "output_type": "execute_result"
    }
   ],
   "source": [
    "progress_dict = {\n",
    "        'time': range(N_ROUND),\n",
    "    }\n",
    "progress_dict.update(\n",
    "        {\n",
    "            f'corr_fold_{i}': progress_list[i]['val_output_tfp_correlation'].values\n",
    "            for i in range(N_FOLD)\n",
    "        }\n",
    "    )\n",
    "progress_dict.update(\n",
    "        {\n",
    "            f'loss_fold_{i}': progress_list[i]['val_output_loss'].values\n",
    "            for i in range(N_FOLD)\n",
    "        }\n",
    "    )\n",
    "progress_dict.update(\n",
    "        {\n",
    "            f'loss_ae_fold_{i}': progress_list[i]['val_ae_output_loss'].values\n",
    "            for i in range(N_FOLD)\n",
    "        }\n",
    "    )\n",
    "\n",
    "\n",
    "progress_df = pd.DataFrame(\n",
    "    progress_dict\n",
    ")\n",
    "\n",
    "progress_df['average_corr'] = progress_df.loc[:, ['corr_fold_' in x for x in progress_df.columns]].mean(axis =1)\n",
    "progress_df['average_loss'] = progress_df.loc[:, ['loss_fold_' in x for x in progress_df.columns]].mean(axis =1)\n",
    "progress_df['average_ae_loss'] = progress_df.loc[:, ['loss_ae_fold_' in x for x in progress_df.columns]].mean(axis =1)\n",
    "\n",
    "best_epoch = int(progress_df['average_corr'].argmax())\n",
    "best_score = progress_df['average_corr'].max()\n",
    "best_loss = progress_df.loc[best_epoch, 'average_loss']\n",
    "best_ae_loss = progress_df.loc[best_epoch, 'average_ae_loss']\n",
    "\n",
    "print(f'Best epoch: {best_epoch}, CV-Corr: {best_score:.3f}, CV-Loss: {best_loss:.3f}; CV-ae Loss: {best_ae_loss:.3f}')\n",
    "\n",
    "best_result = {\n",
    "    'best_epoch': best_epoch+1,\n",
    "    'best_score': best_score,\n",
    "}\n",
    "\n",
    "with open('best_result.pkl', 'wb') as file:\n",
    "    pickle.dump(best_result, file)\n",
    "\n",
    "gc.collect()"
   ]
  },
  {
   "cell_type": "markdown",
   "id": "6a993871",
   "metadata": {
    "papermill": {
     "duration": 0.026646,
     "end_time": "2022-04-09T18:17:41.622488",
     "exception": false,
     "start_time": "2022-04-09T18:17:41.595842",
     "status": "completed"
    },
    "tags": []
   },
   "source": [
    "# OOF Prediction"
   ]
  },
  {
   "cell_type": "code",
   "execution_count": 17,
   "id": "b3284f28",
   "metadata": {
    "execution": {
     "iopub.execute_input": "2022-04-09T18:17:41.681849Z",
     "iopub.status.busy": "2022-04-09T18:17:41.680830Z",
     "iopub.status.idle": "2022-04-09T18:17:44.274333Z",
     "shell.execute_reply": "2022-04-09T18:17:44.273624Z",
     "shell.execute_reply.started": "2022-04-09T16:22:14.524950Z"
    },
    "papermill": {
     "duration": 2.624797,
     "end_time": "2022-04-09T18:17:44.274564",
     "exception": false,
     "start_time": "2022-04-09T18:17:41.649767",
     "status": "completed"
    },
    "tags": []
   },
   "outputs": [],
   "source": [
    "def get_model_weights(fold, epoch, strategy):\n",
    "    length_number = len(str(best_epoch))\n",
    "    epoch_path = '0'*(3-length_number) + str(best_epoch+1)\n",
    "    model = create_ae_mlp(\n",
    "        **PARAMS, steps=STEPS_PER_EPOCH,\n",
    "        metrics={'output': tfp_correlation},\n",
    "    )\n",
    "    model.load_weights(f\"checkpoint/{epoch_path}_model_fold_{fold}.hdf5\")\n",
    "    return model\n",
    "\n",
    "model_list = [\n",
    "    get_model_weights(fold, best_result['best_epoch'], strategy) for fold in range(N_FOLD)\n",
    "]"
   ]
  },
  {
   "cell_type": "code",
   "execution_count": 18,
   "id": "8a4ea950",
   "metadata": {
    "execution": {
     "iopub.execute_input": "2022-04-09T18:17:44.345987Z",
     "iopub.status.busy": "2022-04-09T18:17:44.345094Z",
     "iopub.status.idle": "2022-04-09T18:24:08.171462Z",
     "shell.execute_reply": "2022-04-09T18:24:08.172029Z",
     "shell.execute_reply.started": "2022-04-09T16:31:34.714773Z"
    },
    "papermill": {
     "duration": 383.86805,
     "end_time": "2022-04-09T18:24:08.172247",
     "exception": false,
     "start_time": "2022-04-09T18:17:44.304197",
     "status": "completed"
    },
    "tags": []
   },
   "outputs": [
    {
     "name": "stdout",
     "output_type": "stream",
     "text": [
      "Our out of folds mean pearson correlation coefficient is:\n",
      "Primary Model: 0.1328\n",
      "Autoencoder: 0.1284\n",
      "Ensemble: 0.1334\n"
     ]
    }
   ],
   "source": [
    "oof_predictions = np.zeros(data.shape[0])\n",
    "oof_ae_predictions = np.zeros(data.shape[0])\n",
    "oof_add_predictions = np.zeros(data.shape[0])\n",
    "\n",
    "for i, (_, test_index) in enumerate(fold_split):\n",
    "    print(i, end='\\r')\n",
    "    model = model_list[i]\n",
    "\n",
    "    test_x_num = data[ALL_FEATURE].iloc[test_index].to_numpy('float16')\n",
    "    \n",
    "    val_pred = model.predict(test_x_num)\n",
    "    \n",
    "    val_pred_out = val_pred[-1].reshape((-1))\n",
    "    val_pred_ae = val_pred[1].reshape((-1))\n",
    "    \n",
    "    oof_predictions[test_index] = val_pred_out\n",
    "    oof_ae_predictions[test_index] = val_pred_ae\n",
    "    oof_add_predictions[test_index] = (val_pred_out + val_pred_ae)/2\n",
    "    \n",
    "oof_df = pd.DataFrame(\n",
    "    {\n",
    "        'time_id': data['time_id'], 'y_true': data['target'], \n",
    "        'y_pred': oof_predictions, 'y_pred_ae': oof_ae_predictions, 'y_pred_ens': oof_add_predictions \n",
    "    }\n",
    ")\n",
    "\n",
    "# Save out of folds csv for blending\n",
    "oof_df.to_csv('ae_mlp.csv', index = False)\n",
    "\n",
    "score = calculate_corr(oof_df)[0]\n",
    "score_ae = calculate_corr(oof_df, pred_col = 'y_pred_ae')[0]\n",
    "score_ens = calculate_corr(oof_df, pred_col = 'y_pred_ens')[0]\n",
    "\n",
    "print(\n",
    "    f\"\"\"Our out of folds mean pearson correlation coefficient is:\n",
    "Primary Model: {score:.4f}\\nAutoencoder: {score_ae:.4f}\\nEnsemble: {score_ens:.4f}\"\"\"\n",
    ")"
   ]
  },
  {
   "cell_type": "markdown",
   "id": "6ab73919",
   "metadata": {
    "papermill": {
     "duration": 0.028735,
     "end_time": "2022-04-09T18:24:08.230083",
     "exception": false,
     "start_time": "2022-04-09T18:24:08.201348",
     "status": "completed"
    },
    "tags": []
   },
   "source": [
    "# CV score"
   ]
  },
  {
   "cell_type": "code",
   "execution_count": 19,
   "id": "2fbbd643",
   "metadata": {
    "execution": {
     "iopub.execute_input": "2022-04-09T18:24:08.293306Z",
     "iopub.status.busy": "2022-04-09T18:24:08.292613Z",
     "iopub.status.idle": "2022-04-09T18:24:08.304744Z",
     "shell.execute_reply": "2022-04-09T18:24:08.304070Z",
     "shell.execute_reply.started": "2022-04-09T16:37:33.832187Z"
    },
    "papermill": {
     "duration": 0.045727,
     "end_time": "2022-04-09T18:24:08.304955",
     "exception": false,
     "start_time": "2022-04-09T18:24:08.259228",
     "status": "completed"
    },
    "tags": []
   },
   "outputs": [],
   "source": [
    "progress_df.to_csv('result.csv', index=False)"
   ]
  },
  {
   "cell_type": "code",
   "execution_count": 20,
   "id": "b2fbec01",
   "metadata": {
    "execution": {
     "iopub.execute_input": "2022-04-09T18:24:08.369555Z",
     "iopub.status.busy": "2022-04-09T18:24:08.368854Z",
     "iopub.status.idle": "2022-04-09T18:24:09.609120Z",
     "shell.execute_reply": "2022-04-09T18:24:09.609603Z",
     "shell.execute_reply.started": "2022-04-09T16:37:33.839074Z"
    },
    "papermill": {
     "duration": 1.275784,
     "end_time": "2022-04-09T18:24:09.609828",
     "exception": false,
     "start_time": "2022-04-09T18:24:08.334044",
     "status": "completed"
    },
    "tags": []
   },
   "outputs": [
    {
     "data": {
      "text/html": [
       "        <script type=\"text/javascript\">\n",
       "        window.PlotlyConfig = {MathJaxConfig: 'local'};\n",
       "        if (window.MathJax) {MathJax.Hub.Config({SVG: {font: \"STIX-Web\"}});}\n",
       "        if (typeof require !== 'undefined') {\n",
       "        require.undef(\"plotly\");\n",
       "        requirejs.config({\n",
       "            paths: {\n",
       "                'plotly': ['https://cdn.plot.ly/plotly-2.4.2.min']\n",
       "            }\n",
       "        });\n",
       "        require(['plotly'], function(Plotly) {\n",
       "            window._Plotly = Plotly;\n",
       "        });\n",
       "        }\n",
       "        </script>\n",
       "        "
      ]
     },
     "metadata": {},
     "output_type": "display_data"
    },
    {
     "data": {
      "text/html": [
       "<div>                            <div id=\"d9dd5eb5-4e15-49da-a5d3-53251d70c0e1\" class=\"plotly-graph-div\" style=\"height:525px; width:100%;\"></div>            <script type=\"text/javascript\">                require([\"plotly\"], function(Plotly) {                    window.PLOTLYENV=window.PLOTLYENV || {};                                    if (document.getElementById(\"d9dd5eb5-4e15-49da-a5d3-53251d70c0e1\")) {                    Plotly.newPlot(                        \"d9dd5eb5-4e15-49da-a5d3-53251d70c0e1\",                        [{\"hovertemplate\":\"time=%{x}<br>average_corr=%{y}<extra></extra>\",\"legendgroup\":\"\",\"line\":{\"color\":\"#636efa\",\"dash\":\"solid\"},\"marker\":{\"symbol\":\"circle\"},\"mode\":\"lines\",\"name\":\"\",\"orientation\":\"v\",\"showlegend\":false,\"type\":\"scatter\",\"x\":[0,1,2,3,4,5,6,7,8,9,10,11,12,13,14,15,16,17,18,19,20,21,22,23,24,25,26,27,28,29,30,31,32,33,34,35,36,37,38,39,40,41,42,43,44,45,46,47,48,49,50,51,52,53,54,55,56,57,58,59,60,61,62,63,64,65,66,67,68,69,70,71,72,73,74,75,76,77,78,79,80,81,82,83,84,85,86,87,88,89,90,91,92,93,94,95,96,97,98,99],\"xaxis\":\"x\",\"y\":[0.11146812736988068,0.11762073189020157,0.1208519920706749,0.12282169014215469,0.12429722547531127,0.12532244771718978,0.1259709745645523,0.12671522349119185,0.12707097083330154,0.1276437059044838,0.1280156046152115,0.1284265324473381,0.12884032726287842,0.12926245629787445,0.12951290905475615,0.12975430488586426,0.1300320953130722,0.13009318560361863,0.130404269695282,0.13063375204801558,0.13099112659692763,0.13097862154245377,0.1314163014292717,0.13136174976825715,0.1316782146692276,0.13174063116312026,0.1320743218064308,0.13229670375585556,0.13233477920293807,0.13249742984771729,0.132625512778759,0.13282198160886766,0.13290310949087142,0.13307830542325974,0.13318992406129837,0.13336555957794188,0.13341399431228637,0.13341011703014374,0.13358953297138215,0.133538556098938,0.13362981677055358,0.13383568972349166,0.13389039486646653,0.13392433226108552,0.13402824699878693,0.13388060927391052,0.13392802476882934,0.13394756615161896,0.13416436761617662,0.1341835990548134,0.1340137764811516,0.13409029245376586,0.1341582328081131,0.13401627838611602,0.13429972380399705,0.13407170474529267,0.13405689746141433,0.1340392604470253,0.13402271419763565,0.13392295688390732,0.1340773582458496,0.13401890695095062,0.13380217254161836,0.13377794176340102,0.1337850198149681,0.13360987454652787,0.13369834721088408,0.13374847024679185,0.13355121165513992,0.13335758596658706,0.13324149698019028,0.13334947675466538,0.13318312019109727,0.13326973021030425,0.133198182284832,0.1331358015537262,0.13310939222574233,0.13288320004940032,0.13281659185886383,0.13279490321874618,0.13256309628486634,0.13241515606641768,0.13239029049873352,0.1322445660829544,0.13208975940942763,0.13194074630737304,0.13186336308717728,0.13170017004013063,0.1315860390663147,0.1315086603164673,0.13141807317733764,0.13111685663461686,0.1309703305363655,0.13092077821493148,0.13071959614753723,0.13049080222845078,0.1303551733493805,0.13016262650489807,0.12998210787773132,0.12990545332431794],\"yaxis\":\"y\"}],                        {\"legend\":{\"tracegroupgap\":0},\"template\":{\"data\":{\"bar\":[{\"error_x\":{\"color\":\"#2a3f5f\"},\"error_y\":{\"color\":\"#2a3f5f\"},\"marker\":{\"line\":{\"color\":\"white\",\"width\":0.5},\"pattern\":{\"fillmode\":\"overlay\",\"size\":10,\"solidity\":0.2}},\"type\":\"bar\"}],\"barpolar\":[{\"marker\":{\"line\":{\"color\":\"white\",\"width\":0.5},\"pattern\":{\"fillmode\":\"overlay\",\"size\":10,\"solidity\":0.2}},\"type\":\"barpolar\"}],\"carpet\":[{\"aaxis\":{\"endlinecolor\":\"#2a3f5f\",\"gridcolor\":\"#C8D4E3\",\"linecolor\":\"#C8D4E3\",\"minorgridcolor\":\"#C8D4E3\",\"startlinecolor\":\"#2a3f5f\"},\"baxis\":{\"endlinecolor\":\"#2a3f5f\",\"gridcolor\":\"#C8D4E3\",\"linecolor\":\"#C8D4E3\",\"minorgridcolor\":\"#C8D4E3\",\"startlinecolor\":\"#2a3f5f\"},\"type\":\"carpet\"}],\"choropleth\":[{\"colorbar\":{\"outlinewidth\":0,\"ticks\":\"\"},\"type\":\"choropleth\"}],\"contour\":[{\"colorbar\":{\"outlinewidth\":0,\"ticks\":\"\"},\"colorscale\":[[0.0,\"#0d0887\"],[0.1111111111111111,\"#46039f\"],[0.2222222222222222,\"#7201a8\"],[0.3333333333333333,\"#9c179e\"],[0.4444444444444444,\"#bd3786\"],[0.5555555555555556,\"#d8576b\"],[0.6666666666666666,\"#ed7953\"],[0.7777777777777778,\"#fb9f3a\"],[0.8888888888888888,\"#fdca26\"],[1.0,\"#f0f921\"]],\"type\":\"contour\"}],\"contourcarpet\":[{\"colorbar\":{\"outlinewidth\":0,\"ticks\":\"\"},\"type\":\"contourcarpet\"}],\"heatmap\":[{\"colorbar\":{\"outlinewidth\":0,\"ticks\":\"\"},\"colorscale\":[[0.0,\"#0d0887\"],[0.1111111111111111,\"#46039f\"],[0.2222222222222222,\"#7201a8\"],[0.3333333333333333,\"#9c179e\"],[0.4444444444444444,\"#bd3786\"],[0.5555555555555556,\"#d8576b\"],[0.6666666666666666,\"#ed7953\"],[0.7777777777777778,\"#fb9f3a\"],[0.8888888888888888,\"#fdca26\"],[1.0,\"#f0f921\"]],\"type\":\"heatmap\"}],\"heatmapgl\":[{\"colorbar\":{\"outlinewidth\":0,\"ticks\":\"\"},\"colorscale\":[[0.0,\"#0d0887\"],[0.1111111111111111,\"#46039f\"],[0.2222222222222222,\"#7201a8\"],[0.3333333333333333,\"#9c179e\"],[0.4444444444444444,\"#bd3786\"],[0.5555555555555556,\"#d8576b\"],[0.6666666666666666,\"#ed7953\"],[0.7777777777777778,\"#fb9f3a\"],[0.8888888888888888,\"#fdca26\"],[1.0,\"#f0f921\"]],\"type\":\"heatmapgl\"}],\"histogram\":[{\"marker\":{\"pattern\":{\"fillmode\":\"overlay\",\"size\":10,\"solidity\":0.2}},\"type\":\"histogram\"}],\"histogram2d\":[{\"colorbar\":{\"outlinewidth\":0,\"ticks\":\"\"},\"colorscale\":[[0.0,\"#0d0887\"],[0.1111111111111111,\"#46039f\"],[0.2222222222222222,\"#7201a8\"],[0.3333333333333333,\"#9c179e\"],[0.4444444444444444,\"#bd3786\"],[0.5555555555555556,\"#d8576b\"],[0.6666666666666666,\"#ed7953\"],[0.7777777777777778,\"#fb9f3a\"],[0.8888888888888888,\"#fdca26\"],[1.0,\"#f0f921\"]],\"type\":\"histogram2d\"}],\"histogram2dcontour\":[{\"colorbar\":{\"outlinewidth\":0,\"ticks\":\"\"},\"colorscale\":[[0.0,\"#0d0887\"],[0.1111111111111111,\"#46039f\"],[0.2222222222222222,\"#7201a8\"],[0.3333333333333333,\"#9c179e\"],[0.4444444444444444,\"#bd3786\"],[0.5555555555555556,\"#d8576b\"],[0.6666666666666666,\"#ed7953\"],[0.7777777777777778,\"#fb9f3a\"],[0.8888888888888888,\"#fdca26\"],[1.0,\"#f0f921\"]],\"type\":\"histogram2dcontour\"}],\"mesh3d\":[{\"colorbar\":{\"outlinewidth\":0,\"ticks\":\"\"},\"type\":\"mesh3d\"}],\"parcoords\":[{\"line\":{\"colorbar\":{\"outlinewidth\":0,\"ticks\":\"\"}},\"type\":\"parcoords\"}],\"pie\":[{\"automargin\":true,\"type\":\"pie\"}],\"scatter\":[{\"marker\":{\"colorbar\":{\"outlinewidth\":0,\"ticks\":\"\"}},\"type\":\"scatter\"}],\"scatter3d\":[{\"line\":{\"colorbar\":{\"outlinewidth\":0,\"ticks\":\"\"}},\"marker\":{\"colorbar\":{\"outlinewidth\":0,\"ticks\":\"\"}},\"type\":\"scatter3d\"}],\"scattercarpet\":[{\"marker\":{\"colorbar\":{\"outlinewidth\":0,\"ticks\":\"\"}},\"type\":\"scattercarpet\"}],\"scattergeo\":[{\"marker\":{\"colorbar\":{\"outlinewidth\":0,\"ticks\":\"\"}},\"type\":\"scattergeo\"}],\"scattergl\":[{\"marker\":{\"colorbar\":{\"outlinewidth\":0,\"ticks\":\"\"}},\"type\":\"scattergl\"}],\"scattermapbox\":[{\"marker\":{\"colorbar\":{\"outlinewidth\":0,\"ticks\":\"\"}},\"type\":\"scattermapbox\"}],\"scatterpolar\":[{\"marker\":{\"colorbar\":{\"outlinewidth\":0,\"ticks\":\"\"}},\"type\":\"scatterpolar\"}],\"scatterpolargl\":[{\"marker\":{\"colorbar\":{\"outlinewidth\":0,\"ticks\":\"\"}},\"type\":\"scatterpolargl\"}],\"scatterternary\":[{\"marker\":{\"colorbar\":{\"outlinewidth\":0,\"ticks\":\"\"}},\"type\":\"scatterternary\"}],\"surface\":[{\"colorbar\":{\"outlinewidth\":0,\"ticks\":\"\"},\"colorscale\":[[0.0,\"#0d0887\"],[0.1111111111111111,\"#46039f\"],[0.2222222222222222,\"#7201a8\"],[0.3333333333333333,\"#9c179e\"],[0.4444444444444444,\"#bd3786\"],[0.5555555555555556,\"#d8576b\"],[0.6666666666666666,\"#ed7953\"],[0.7777777777777778,\"#fb9f3a\"],[0.8888888888888888,\"#fdca26\"],[1.0,\"#f0f921\"]],\"type\":\"surface\"}],\"table\":[{\"cells\":{\"fill\":{\"color\":\"#EBF0F8\"},\"line\":{\"color\":\"white\"}},\"header\":{\"fill\":{\"color\":\"#C8D4E3\"},\"line\":{\"color\":\"white\"}},\"type\":\"table\"}]},\"layout\":{\"annotationdefaults\":{\"arrowcolor\":\"#2a3f5f\",\"arrowhead\":0,\"arrowwidth\":1},\"autotypenumbers\":\"strict\",\"coloraxis\":{\"colorbar\":{\"outlinewidth\":0,\"ticks\":\"\"}},\"colorscale\":{\"diverging\":[[0,\"#8e0152\"],[0.1,\"#c51b7d\"],[0.2,\"#de77ae\"],[0.3,\"#f1b6da\"],[0.4,\"#fde0ef\"],[0.5,\"#f7f7f7\"],[0.6,\"#e6f5d0\"],[0.7,\"#b8e186\"],[0.8,\"#7fbc41\"],[0.9,\"#4d9221\"],[1,\"#276419\"]],\"sequential\":[[0.0,\"#0d0887\"],[0.1111111111111111,\"#46039f\"],[0.2222222222222222,\"#7201a8\"],[0.3333333333333333,\"#9c179e\"],[0.4444444444444444,\"#bd3786\"],[0.5555555555555556,\"#d8576b\"],[0.6666666666666666,\"#ed7953\"],[0.7777777777777778,\"#fb9f3a\"],[0.8888888888888888,\"#fdca26\"],[1.0,\"#f0f921\"]],\"sequentialminus\":[[0.0,\"#0d0887\"],[0.1111111111111111,\"#46039f\"],[0.2222222222222222,\"#7201a8\"],[0.3333333333333333,\"#9c179e\"],[0.4444444444444444,\"#bd3786\"],[0.5555555555555556,\"#d8576b\"],[0.6666666666666666,\"#ed7953\"],[0.7777777777777778,\"#fb9f3a\"],[0.8888888888888888,\"#fdca26\"],[1.0,\"#f0f921\"]]},\"colorway\":[\"#636efa\",\"#EF553B\",\"#00cc96\",\"#ab63fa\",\"#FFA15A\",\"#19d3f3\",\"#FF6692\",\"#B6E880\",\"#FF97FF\",\"#FECB52\"],\"font\":{\"color\":\"#2a3f5f\"},\"geo\":{\"bgcolor\":\"white\",\"lakecolor\":\"white\",\"landcolor\":\"white\",\"showlakes\":true,\"showland\":true,\"subunitcolor\":\"#C8D4E3\"},\"hoverlabel\":{\"align\":\"left\"},\"hovermode\":\"closest\",\"mapbox\":{\"style\":\"light\"},\"paper_bgcolor\":\"white\",\"plot_bgcolor\":\"white\",\"polar\":{\"angularaxis\":{\"gridcolor\":\"#EBF0F8\",\"linecolor\":\"#EBF0F8\",\"ticks\":\"\"},\"bgcolor\":\"white\",\"radialaxis\":{\"gridcolor\":\"#EBF0F8\",\"linecolor\":\"#EBF0F8\",\"ticks\":\"\"}},\"scene\":{\"xaxis\":{\"backgroundcolor\":\"white\",\"gridcolor\":\"#DFE8F3\",\"gridwidth\":2,\"linecolor\":\"#EBF0F8\",\"showbackground\":true,\"ticks\":\"\",\"zerolinecolor\":\"#EBF0F8\"},\"yaxis\":{\"backgroundcolor\":\"white\",\"gridcolor\":\"#DFE8F3\",\"gridwidth\":2,\"linecolor\":\"#EBF0F8\",\"showbackground\":true,\"ticks\":\"\",\"zerolinecolor\":\"#EBF0F8\"},\"zaxis\":{\"backgroundcolor\":\"white\",\"gridcolor\":\"#DFE8F3\",\"gridwidth\":2,\"linecolor\":\"#EBF0F8\",\"showbackground\":true,\"ticks\":\"\",\"zerolinecolor\":\"#EBF0F8\"}},\"shapedefaults\":{\"line\":{\"color\":\"#2a3f5f\"}},\"ternary\":{\"aaxis\":{\"gridcolor\":\"#DFE8F3\",\"linecolor\":\"#A2B1C6\",\"ticks\":\"\"},\"baxis\":{\"gridcolor\":\"#DFE8F3\",\"linecolor\":\"#A2B1C6\",\"ticks\":\"\"},\"bgcolor\":\"white\",\"caxis\":{\"gridcolor\":\"#DFE8F3\",\"linecolor\":\"#A2B1C6\",\"ticks\":\"\"}},\"title\":{\"x\":0.05},\"xaxis\":{\"automargin\":true,\"gridcolor\":\"#EBF0F8\",\"linecolor\":\"#EBF0F8\",\"ticks\":\"\",\"title\":{\"standoff\":15},\"zerolinecolor\":\"#EBF0F8\",\"zerolinewidth\":2},\"yaxis\":{\"automargin\":true,\"gridcolor\":\"#EBF0F8\",\"linecolor\":\"#EBF0F8\",\"ticks\":\"\",\"title\":{\"standoff\":15},\"zerolinecolor\":\"#EBF0F8\",\"zerolinewidth\":2}}},\"title\":{\"text\":\"average_corr\"},\"xaxis\":{\"anchor\":\"y\",\"domain\":[0.0,1.0],\"title\":{\"text\":\"time\"}},\"yaxis\":{\"anchor\":\"x\",\"domain\":[0.0,1.0],\"title\":{\"text\":\"average_corr\"}}},                        {\"responsive\": true}                    ).then(function(){\n",
       "                            \n",
       "var gd = document.getElementById('d9dd5eb5-4e15-49da-a5d3-53251d70c0e1');\n",
       "var x = new MutationObserver(function (mutations, observer) {{\n",
       "        var display = window.getComputedStyle(gd).display;\n",
       "        if (!display || display === 'none') {{\n",
       "            console.log([gd, 'removed!']);\n",
       "            Plotly.purge(gd);\n",
       "            observer.disconnect();\n",
       "        }}\n",
       "}});\n",
       "\n",
       "// Listen for the removal of the full notebook cells\n",
       "var notebookContainer = gd.closest('#notebook-container');\n",
       "if (notebookContainer) {{\n",
       "    x.observe(notebookContainer, {childList: true});\n",
       "}}\n",
       "\n",
       "// Listen for the clearing of the current output cell\n",
       "var outputEl = gd.closest('.output');\n",
       "if (outputEl) {{\n",
       "    x.observe(outputEl, {childList: true});\n",
       "}}\n",
       "\n",
       "                        })                };                });            </script>        </div>"
      ]
     },
     "metadata": {},
     "output_type": "display_data"
    },
    {
     "data": {
      "text/html": [
       "<div>                            <div id=\"71628131-eedf-4dcc-82b6-545a72734ab0\" class=\"plotly-graph-div\" style=\"height:525px; width:100%;\"></div>            <script type=\"text/javascript\">                require([\"plotly\"], function(Plotly) {                    window.PLOTLYENV=window.PLOTLYENV || {};                                    if (document.getElementById(\"71628131-eedf-4dcc-82b6-545a72734ab0\")) {                    Plotly.newPlot(                        \"71628131-eedf-4dcc-82b6-545a72734ab0\",                        [{\"hovertemplate\":\"time=%{x}<br>average_loss=%{y}<extra></extra>\",\"legendgroup\":\"\",\"line\":{\"color\":\"#636efa\",\"dash\":\"solid\"},\"marker\":{\"symbol\":\"circle\"},\"mode\":\"lines\",\"name\":\"\",\"orientation\":\"v\",\"showlegend\":false,\"type\":\"scatter\",\"x\":[0,1,2,3,4,5,6,7,8,9,10,11,12,13,14,15,16,17,18,19,20,21,22,23,24,25,26,27,28,29,30,31,32,33,34,35,36,37,38,39,40,41,42,43,44,45,46,47,48,49,50,51,52,53,54,55,56,57,58,59,60,61,62,63,64,65,66,67,68,69,70,71,72,73,74,75,76,77,78,79,80,81,82,83,84,85,86,87,88,89,90,91,92,93,94,95,96,97,98,99],\"xaxis\":\"x\",\"y\":[0.8359697699546814,0.833984112739563,0.8332722425460816,0.8328401923179627,0.8325243473052979,0.8323150277137756,0.8321580767631531,0.8319972515106201,0.8319298386573791,0.8318262100219727,0.8317867159843445,0.8317081212997437,0.831640100479126,0.8315485119819641,0.8315144419670105,0.8314996480941772,0.8314556241035461,0.831474494934082,0.8314446449279785,0.8314260244369507,0.831334936618805,0.8313820004463196,0.8313066601753235,0.831352436542511,0.8312945365905762,0.8313138008117675,0.8312119841575623,0.8311959028244018,0.8312148213386535,0.8312124371528625,0.8311873435974121,0.8311694502830506,0.8311389327049256,0.8311299443244934,0.8311318159103394,0.8311352014541626,0.8311516404151916,0.8311447501182556,0.8311444520950317,0.831154465675354,0.831195342540741,0.8311699867248535,0.8312257647514343,0.8313157558441162,0.8313076972961426,0.8314250588417054,0.8314226984977722,0.8315232276916504,0.8315111398696899,0.8315107822418213,0.8316310286521912,0.8316518902778626,0.8316749095916748,0.8318852066993714,0.8318264603614807,0.8319775223731994,0.8319904327392578,0.8320293664932251,0.8321548342704773,0.8323049068450927,0.8322609901428223,0.8322627425193787,0.8324638366699219,0.8325525164604187,0.8326237797737122,0.8326270103454589,0.8326618909835816,0.8327437520027161,0.8327710628509521,0.8329521775245666,0.8330151438713074,0.8330662488937378,0.8331428170204163,0.8330828785896301,0.8330858707427978,0.8332319259643555,0.8333330988883972,0.8334515213966369,0.8335946917533874,0.8334732413291931,0.8336932778358459,0.8337677836418151,0.8338209748268127,0.8339157342910767,0.8338738560676575,0.8340274333953858,0.8340373635292053,0.8341411352157593,0.8341186165809631,0.8341076970100403,0.8343135714530945,0.8343761444091797,0.8345004200935364,0.8345402956008912,0.83466717004776,0.8347809433937072,0.8349077939987183,0.8350431203842164,0.8351382493972779,0.8351545929908752],\"yaxis\":\"y\"}],                        {\"legend\":{\"tracegroupgap\":0},\"template\":{\"data\":{\"bar\":[{\"error_x\":{\"color\":\"#2a3f5f\"},\"error_y\":{\"color\":\"#2a3f5f\"},\"marker\":{\"line\":{\"color\":\"white\",\"width\":0.5},\"pattern\":{\"fillmode\":\"overlay\",\"size\":10,\"solidity\":0.2}},\"type\":\"bar\"}],\"barpolar\":[{\"marker\":{\"line\":{\"color\":\"white\",\"width\":0.5},\"pattern\":{\"fillmode\":\"overlay\",\"size\":10,\"solidity\":0.2}},\"type\":\"barpolar\"}],\"carpet\":[{\"aaxis\":{\"endlinecolor\":\"#2a3f5f\",\"gridcolor\":\"#C8D4E3\",\"linecolor\":\"#C8D4E3\",\"minorgridcolor\":\"#C8D4E3\",\"startlinecolor\":\"#2a3f5f\"},\"baxis\":{\"endlinecolor\":\"#2a3f5f\",\"gridcolor\":\"#C8D4E3\",\"linecolor\":\"#C8D4E3\",\"minorgridcolor\":\"#C8D4E3\",\"startlinecolor\":\"#2a3f5f\"},\"type\":\"carpet\"}],\"choropleth\":[{\"colorbar\":{\"outlinewidth\":0,\"ticks\":\"\"},\"type\":\"choropleth\"}],\"contour\":[{\"colorbar\":{\"outlinewidth\":0,\"ticks\":\"\"},\"colorscale\":[[0.0,\"#0d0887\"],[0.1111111111111111,\"#46039f\"],[0.2222222222222222,\"#7201a8\"],[0.3333333333333333,\"#9c179e\"],[0.4444444444444444,\"#bd3786\"],[0.5555555555555556,\"#d8576b\"],[0.6666666666666666,\"#ed7953\"],[0.7777777777777778,\"#fb9f3a\"],[0.8888888888888888,\"#fdca26\"],[1.0,\"#f0f921\"]],\"type\":\"contour\"}],\"contourcarpet\":[{\"colorbar\":{\"outlinewidth\":0,\"ticks\":\"\"},\"type\":\"contourcarpet\"}],\"heatmap\":[{\"colorbar\":{\"outlinewidth\":0,\"ticks\":\"\"},\"colorscale\":[[0.0,\"#0d0887\"],[0.1111111111111111,\"#46039f\"],[0.2222222222222222,\"#7201a8\"],[0.3333333333333333,\"#9c179e\"],[0.4444444444444444,\"#bd3786\"],[0.5555555555555556,\"#d8576b\"],[0.6666666666666666,\"#ed7953\"],[0.7777777777777778,\"#fb9f3a\"],[0.8888888888888888,\"#fdca26\"],[1.0,\"#f0f921\"]],\"type\":\"heatmap\"}],\"heatmapgl\":[{\"colorbar\":{\"outlinewidth\":0,\"ticks\":\"\"},\"colorscale\":[[0.0,\"#0d0887\"],[0.1111111111111111,\"#46039f\"],[0.2222222222222222,\"#7201a8\"],[0.3333333333333333,\"#9c179e\"],[0.4444444444444444,\"#bd3786\"],[0.5555555555555556,\"#d8576b\"],[0.6666666666666666,\"#ed7953\"],[0.7777777777777778,\"#fb9f3a\"],[0.8888888888888888,\"#fdca26\"],[1.0,\"#f0f921\"]],\"type\":\"heatmapgl\"}],\"histogram\":[{\"marker\":{\"pattern\":{\"fillmode\":\"overlay\",\"size\":10,\"solidity\":0.2}},\"type\":\"histogram\"}],\"histogram2d\":[{\"colorbar\":{\"outlinewidth\":0,\"ticks\":\"\"},\"colorscale\":[[0.0,\"#0d0887\"],[0.1111111111111111,\"#46039f\"],[0.2222222222222222,\"#7201a8\"],[0.3333333333333333,\"#9c179e\"],[0.4444444444444444,\"#bd3786\"],[0.5555555555555556,\"#d8576b\"],[0.6666666666666666,\"#ed7953\"],[0.7777777777777778,\"#fb9f3a\"],[0.8888888888888888,\"#fdca26\"],[1.0,\"#f0f921\"]],\"type\":\"histogram2d\"}],\"histogram2dcontour\":[{\"colorbar\":{\"outlinewidth\":0,\"ticks\":\"\"},\"colorscale\":[[0.0,\"#0d0887\"],[0.1111111111111111,\"#46039f\"],[0.2222222222222222,\"#7201a8\"],[0.3333333333333333,\"#9c179e\"],[0.4444444444444444,\"#bd3786\"],[0.5555555555555556,\"#d8576b\"],[0.6666666666666666,\"#ed7953\"],[0.7777777777777778,\"#fb9f3a\"],[0.8888888888888888,\"#fdca26\"],[1.0,\"#f0f921\"]],\"type\":\"histogram2dcontour\"}],\"mesh3d\":[{\"colorbar\":{\"outlinewidth\":0,\"ticks\":\"\"},\"type\":\"mesh3d\"}],\"parcoords\":[{\"line\":{\"colorbar\":{\"outlinewidth\":0,\"ticks\":\"\"}},\"type\":\"parcoords\"}],\"pie\":[{\"automargin\":true,\"type\":\"pie\"}],\"scatter\":[{\"marker\":{\"colorbar\":{\"outlinewidth\":0,\"ticks\":\"\"}},\"type\":\"scatter\"}],\"scatter3d\":[{\"line\":{\"colorbar\":{\"outlinewidth\":0,\"ticks\":\"\"}},\"marker\":{\"colorbar\":{\"outlinewidth\":0,\"ticks\":\"\"}},\"type\":\"scatter3d\"}],\"scattercarpet\":[{\"marker\":{\"colorbar\":{\"outlinewidth\":0,\"ticks\":\"\"}},\"type\":\"scattercarpet\"}],\"scattergeo\":[{\"marker\":{\"colorbar\":{\"outlinewidth\":0,\"ticks\":\"\"}},\"type\":\"scattergeo\"}],\"scattergl\":[{\"marker\":{\"colorbar\":{\"outlinewidth\":0,\"ticks\":\"\"}},\"type\":\"scattergl\"}],\"scattermapbox\":[{\"marker\":{\"colorbar\":{\"outlinewidth\":0,\"ticks\":\"\"}},\"type\":\"scattermapbox\"}],\"scatterpolar\":[{\"marker\":{\"colorbar\":{\"outlinewidth\":0,\"ticks\":\"\"}},\"type\":\"scatterpolar\"}],\"scatterpolargl\":[{\"marker\":{\"colorbar\":{\"outlinewidth\":0,\"ticks\":\"\"}},\"type\":\"scatterpolargl\"}],\"scatterternary\":[{\"marker\":{\"colorbar\":{\"outlinewidth\":0,\"ticks\":\"\"}},\"type\":\"scatterternary\"}],\"surface\":[{\"colorbar\":{\"outlinewidth\":0,\"ticks\":\"\"},\"colorscale\":[[0.0,\"#0d0887\"],[0.1111111111111111,\"#46039f\"],[0.2222222222222222,\"#7201a8\"],[0.3333333333333333,\"#9c179e\"],[0.4444444444444444,\"#bd3786\"],[0.5555555555555556,\"#d8576b\"],[0.6666666666666666,\"#ed7953\"],[0.7777777777777778,\"#fb9f3a\"],[0.8888888888888888,\"#fdca26\"],[1.0,\"#f0f921\"]],\"type\":\"surface\"}],\"table\":[{\"cells\":{\"fill\":{\"color\":\"#EBF0F8\"},\"line\":{\"color\":\"white\"}},\"header\":{\"fill\":{\"color\":\"#C8D4E3\"},\"line\":{\"color\":\"white\"}},\"type\":\"table\"}]},\"layout\":{\"annotationdefaults\":{\"arrowcolor\":\"#2a3f5f\",\"arrowhead\":0,\"arrowwidth\":1},\"autotypenumbers\":\"strict\",\"coloraxis\":{\"colorbar\":{\"outlinewidth\":0,\"ticks\":\"\"}},\"colorscale\":{\"diverging\":[[0,\"#8e0152\"],[0.1,\"#c51b7d\"],[0.2,\"#de77ae\"],[0.3,\"#f1b6da\"],[0.4,\"#fde0ef\"],[0.5,\"#f7f7f7\"],[0.6,\"#e6f5d0\"],[0.7,\"#b8e186\"],[0.8,\"#7fbc41\"],[0.9,\"#4d9221\"],[1,\"#276419\"]],\"sequential\":[[0.0,\"#0d0887\"],[0.1111111111111111,\"#46039f\"],[0.2222222222222222,\"#7201a8\"],[0.3333333333333333,\"#9c179e\"],[0.4444444444444444,\"#bd3786\"],[0.5555555555555556,\"#d8576b\"],[0.6666666666666666,\"#ed7953\"],[0.7777777777777778,\"#fb9f3a\"],[0.8888888888888888,\"#fdca26\"],[1.0,\"#f0f921\"]],\"sequentialminus\":[[0.0,\"#0d0887\"],[0.1111111111111111,\"#46039f\"],[0.2222222222222222,\"#7201a8\"],[0.3333333333333333,\"#9c179e\"],[0.4444444444444444,\"#bd3786\"],[0.5555555555555556,\"#d8576b\"],[0.6666666666666666,\"#ed7953\"],[0.7777777777777778,\"#fb9f3a\"],[0.8888888888888888,\"#fdca26\"],[1.0,\"#f0f921\"]]},\"colorway\":[\"#636efa\",\"#EF553B\",\"#00cc96\",\"#ab63fa\",\"#FFA15A\",\"#19d3f3\",\"#FF6692\",\"#B6E880\",\"#FF97FF\",\"#FECB52\"],\"font\":{\"color\":\"#2a3f5f\"},\"geo\":{\"bgcolor\":\"white\",\"lakecolor\":\"white\",\"landcolor\":\"white\",\"showlakes\":true,\"showland\":true,\"subunitcolor\":\"#C8D4E3\"},\"hoverlabel\":{\"align\":\"left\"},\"hovermode\":\"closest\",\"mapbox\":{\"style\":\"light\"},\"paper_bgcolor\":\"white\",\"plot_bgcolor\":\"white\",\"polar\":{\"angularaxis\":{\"gridcolor\":\"#EBF0F8\",\"linecolor\":\"#EBF0F8\",\"ticks\":\"\"},\"bgcolor\":\"white\",\"radialaxis\":{\"gridcolor\":\"#EBF0F8\",\"linecolor\":\"#EBF0F8\",\"ticks\":\"\"}},\"scene\":{\"xaxis\":{\"backgroundcolor\":\"white\",\"gridcolor\":\"#DFE8F3\",\"gridwidth\":2,\"linecolor\":\"#EBF0F8\",\"showbackground\":true,\"ticks\":\"\",\"zerolinecolor\":\"#EBF0F8\"},\"yaxis\":{\"backgroundcolor\":\"white\",\"gridcolor\":\"#DFE8F3\",\"gridwidth\":2,\"linecolor\":\"#EBF0F8\",\"showbackground\":true,\"ticks\":\"\",\"zerolinecolor\":\"#EBF0F8\"},\"zaxis\":{\"backgroundcolor\":\"white\",\"gridcolor\":\"#DFE8F3\",\"gridwidth\":2,\"linecolor\":\"#EBF0F8\",\"showbackground\":true,\"ticks\":\"\",\"zerolinecolor\":\"#EBF0F8\"}},\"shapedefaults\":{\"line\":{\"color\":\"#2a3f5f\"}},\"ternary\":{\"aaxis\":{\"gridcolor\":\"#DFE8F3\",\"linecolor\":\"#A2B1C6\",\"ticks\":\"\"},\"baxis\":{\"gridcolor\":\"#DFE8F3\",\"linecolor\":\"#A2B1C6\",\"ticks\":\"\"},\"bgcolor\":\"white\",\"caxis\":{\"gridcolor\":\"#DFE8F3\",\"linecolor\":\"#A2B1C6\",\"ticks\":\"\"}},\"title\":{\"x\":0.05},\"xaxis\":{\"automargin\":true,\"gridcolor\":\"#EBF0F8\",\"linecolor\":\"#EBF0F8\",\"ticks\":\"\",\"title\":{\"standoff\":15},\"zerolinecolor\":\"#EBF0F8\",\"zerolinewidth\":2},\"yaxis\":{\"automargin\":true,\"gridcolor\":\"#EBF0F8\",\"linecolor\":\"#EBF0F8\",\"ticks\":\"\",\"title\":{\"standoff\":15},\"zerolinecolor\":\"#EBF0F8\",\"zerolinewidth\":2}}},\"title\":{\"text\":\"average_loss\"},\"xaxis\":{\"anchor\":\"y\",\"domain\":[0.0,1.0],\"title\":{\"text\":\"time\"}},\"yaxis\":{\"anchor\":\"x\",\"domain\":[0.0,1.0],\"title\":{\"text\":\"average_loss\"}}},                        {\"responsive\": true}                    ).then(function(){\n",
       "                            \n",
       "var gd = document.getElementById('71628131-eedf-4dcc-82b6-545a72734ab0');\n",
       "var x = new MutationObserver(function (mutations, observer) {{\n",
       "        var display = window.getComputedStyle(gd).display;\n",
       "        if (!display || display === 'none') {{\n",
       "            console.log([gd, 'removed!']);\n",
       "            Plotly.purge(gd);\n",
       "            observer.disconnect();\n",
       "        }}\n",
       "}});\n",
       "\n",
       "// Listen for the removal of the full notebook cells\n",
       "var notebookContainer = gd.closest('#notebook-container');\n",
       "if (notebookContainer) {{\n",
       "    x.observe(notebookContainer, {childList: true});\n",
       "}}\n",
       "\n",
       "// Listen for the clearing of the current output cell\n",
       "var outputEl = gd.closest('.output');\n",
       "if (outputEl) {{\n",
       "    x.observe(outputEl, {childList: true});\n",
       "}}\n",
       "\n",
       "                        })                };                });            </script>        </div>"
      ]
     },
     "metadata": {},
     "output_type": "display_data"
    },
    {
     "data": {
      "text/html": [
       "<div>                            <div id=\"cc2776e6-0911-4237-8ee1-976192313c6f\" class=\"plotly-graph-div\" style=\"height:525px; width:100%;\"></div>            <script type=\"text/javascript\">                require([\"plotly\"], function(Plotly) {                    window.PLOTLYENV=window.PLOTLYENV || {};                                    if (document.getElementById(\"cc2776e6-0911-4237-8ee1-976192313c6f\")) {                    Plotly.newPlot(                        \"cc2776e6-0911-4237-8ee1-976192313c6f\",                        [{\"hovertemplate\":\"time=%{x}<br>average_ae_loss=%{y}<extra></extra>\",\"legendgroup\":\"\",\"line\":{\"color\":\"#636efa\",\"dash\":\"solid\"},\"marker\":{\"symbol\":\"circle\"},\"mode\":\"lines\",\"name\":\"\",\"orientation\":\"v\",\"showlegend\":false,\"type\":\"scatter\",\"x\":[0,1,2,3,4,5,6,7,8,9,10,11,12,13,14,15,16,17,18,19,20,21,22,23,24,25,26,27,28,29,30,31,32,33,34,35,36,37,38,39,40,41,42,43,44,45,46,47,48,49,50,51,52,53,54,55,56,57,58,59,60,61,62,63,64,65,66,67,68,69,70,71,72,73,74,75,76,77,78,79,80,81,82,83,84,85,86,87,88,89,90,91,92,93,94,95,96,97,98,99],\"xaxis\":\"x\",\"y\":[0.8355657935142518,0.8332967042922974,0.8325984954833985,0.832283616065979,0.8321367740631104,0.832005500793457,0.8319189071655273,0.8318627715110779,0.8317996501922608,0.8317435145378113,0.831707763671875,0.8316649317741394,0.8316226959228515,0.83158860206604,0.8315567016601563,0.831501042842865,0.8314677000045776,0.8314244031906128,0.8314025282859803,0.831372606754303,0.8313453674316407,0.8312950491905212,0.8312762260437012,0.8312309503555297,0.8312377095222473,0.831214439868927,0.8311665177345275,0.8311551809310913,0.8311558485031127,0.8311046600341797,0.8310733675956726,0.8310772538185119,0.83106027841568,0.8310342907905579,0.831037175655365,0.8310015082359314,0.8309674024581909,0.8309829592704773,0.8309874296188354,0.8309453129768372,0.8309225678443909,0.8309043407440185,0.8309067249298095,0.8308940768241883,0.8308864116668702,0.8308764219284057,0.8308569073677063,0.8308676600456237,0.8308543801307678,0.8308263063430786,0.8308387517929077,0.8308120489120483,0.8308337092399597,0.8308056473731995,0.830787193775177,0.8307987332344056,0.8307832717895508,0.8308029413223267,0.8307697534561157,0.8307477355003356,0.8307628273963928,0.8307714700698853,0.8307643294334411,0.8307932853698731,0.830773389339447,0.8307702541351318,0.8307599782943725,0.8307764768600464,0.8307582020759583,0.8307537913322449,0.8307690501213074,0.8307660341262817,0.8307639718055725,0.8307550430297852,0.830766475200653,0.8307620763778687,0.8307820916175842,0.8307966709136962,0.830793833732605,0.8307816028594971,0.8307801723480225,0.830777394771576,0.8307915568351746,0.830837082862854,0.8308157563209534,0.8308168172836303,0.8308445334434509,0.830834436416626,0.8308476209640503,0.8308421015739441,0.8308355808258057,0.8308844685554504,0.8309002637863159,0.8308683276176453,0.8308968782424927,0.830899441242218,0.8309065103530884,0.8309539079666137,0.8309396386146546,0.8309632301330566],\"yaxis\":\"y\"}],                        {\"legend\":{\"tracegroupgap\":0},\"template\":{\"data\":{\"bar\":[{\"error_x\":{\"color\":\"#2a3f5f\"},\"error_y\":{\"color\":\"#2a3f5f\"},\"marker\":{\"line\":{\"color\":\"white\",\"width\":0.5},\"pattern\":{\"fillmode\":\"overlay\",\"size\":10,\"solidity\":0.2}},\"type\":\"bar\"}],\"barpolar\":[{\"marker\":{\"line\":{\"color\":\"white\",\"width\":0.5},\"pattern\":{\"fillmode\":\"overlay\",\"size\":10,\"solidity\":0.2}},\"type\":\"barpolar\"}],\"carpet\":[{\"aaxis\":{\"endlinecolor\":\"#2a3f5f\",\"gridcolor\":\"#C8D4E3\",\"linecolor\":\"#C8D4E3\",\"minorgridcolor\":\"#C8D4E3\",\"startlinecolor\":\"#2a3f5f\"},\"baxis\":{\"endlinecolor\":\"#2a3f5f\",\"gridcolor\":\"#C8D4E3\",\"linecolor\":\"#C8D4E3\",\"minorgridcolor\":\"#C8D4E3\",\"startlinecolor\":\"#2a3f5f\"},\"type\":\"carpet\"}],\"choropleth\":[{\"colorbar\":{\"outlinewidth\":0,\"ticks\":\"\"},\"type\":\"choropleth\"}],\"contour\":[{\"colorbar\":{\"outlinewidth\":0,\"ticks\":\"\"},\"colorscale\":[[0.0,\"#0d0887\"],[0.1111111111111111,\"#46039f\"],[0.2222222222222222,\"#7201a8\"],[0.3333333333333333,\"#9c179e\"],[0.4444444444444444,\"#bd3786\"],[0.5555555555555556,\"#d8576b\"],[0.6666666666666666,\"#ed7953\"],[0.7777777777777778,\"#fb9f3a\"],[0.8888888888888888,\"#fdca26\"],[1.0,\"#f0f921\"]],\"type\":\"contour\"}],\"contourcarpet\":[{\"colorbar\":{\"outlinewidth\":0,\"ticks\":\"\"},\"type\":\"contourcarpet\"}],\"heatmap\":[{\"colorbar\":{\"outlinewidth\":0,\"ticks\":\"\"},\"colorscale\":[[0.0,\"#0d0887\"],[0.1111111111111111,\"#46039f\"],[0.2222222222222222,\"#7201a8\"],[0.3333333333333333,\"#9c179e\"],[0.4444444444444444,\"#bd3786\"],[0.5555555555555556,\"#d8576b\"],[0.6666666666666666,\"#ed7953\"],[0.7777777777777778,\"#fb9f3a\"],[0.8888888888888888,\"#fdca26\"],[1.0,\"#f0f921\"]],\"type\":\"heatmap\"}],\"heatmapgl\":[{\"colorbar\":{\"outlinewidth\":0,\"ticks\":\"\"},\"colorscale\":[[0.0,\"#0d0887\"],[0.1111111111111111,\"#46039f\"],[0.2222222222222222,\"#7201a8\"],[0.3333333333333333,\"#9c179e\"],[0.4444444444444444,\"#bd3786\"],[0.5555555555555556,\"#d8576b\"],[0.6666666666666666,\"#ed7953\"],[0.7777777777777778,\"#fb9f3a\"],[0.8888888888888888,\"#fdca26\"],[1.0,\"#f0f921\"]],\"type\":\"heatmapgl\"}],\"histogram\":[{\"marker\":{\"pattern\":{\"fillmode\":\"overlay\",\"size\":10,\"solidity\":0.2}},\"type\":\"histogram\"}],\"histogram2d\":[{\"colorbar\":{\"outlinewidth\":0,\"ticks\":\"\"},\"colorscale\":[[0.0,\"#0d0887\"],[0.1111111111111111,\"#46039f\"],[0.2222222222222222,\"#7201a8\"],[0.3333333333333333,\"#9c179e\"],[0.4444444444444444,\"#bd3786\"],[0.5555555555555556,\"#d8576b\"],[0.6666666666666666,\"#ed7953\"],[0.7777777777777778,\"#fb9f3a\"],[0.8888888888888888,\"#fdca26\"],[1.0,\"#f0f921\"]],\"type\":\"histogram2d\"}],\"histogram2dcontour\":[{\"colorbar\":{\"outlinewidth\":0,\"ticks\":\"\"},\"colorscale\":[[0.0,\"#0d0887\"],[0.1111111111111111,\"#46039f\"],[0.2222222222222222,\"#7201a8\"],[0.3333333333333333,\"#9c179e\"],[0.4444444444444444,\"#bd3786\"],[0.5555555555555556,\"#d8576b\"],[0.6666666666666666,\"#ed7953\"],[0.7777777777777778,\"#fb9f3a\"],[0.8888888888888888,\"#fdca26\"],[1.0,\"#f0f921\"]],\"type\":\"histogram2dcontour\"}],\"mesh3d\":[{\"colorbar\":{\"outlinewidth\":0,\"ticks\":\"\"},\"type\":\"mesh3d\"}],\"parcoords\":[{\"line\":{\"colorbar\":{\"outlinewidth\":0,\"ticks\":\"\"}},\"type\":\"parcoords\"}],\"pie\":[{\"automargin\":true,\"type\":\"pie\"}],\"scatter\":[{\"marker\":{\"colorbar\":{\"outlinewidth\":0,\"ticks\":\"\"}},\"type\":\"scatter\"}],\"scatter3d\":[{\"line\":{\"colorbar\":{\"outlinewidth\":0,\"ticks\":\"\"}},\"marker\":{\"colorbar\":{\"outlinewidth\":0,\"ticks\":\"\"}},\"type\":\"scatter3d\"}],\"scattercarpet\":[{\"marker\":{\"colorbar\":{\"outlinewidth\":0,\"ticks\":\"\"}},\"type\":\"scattercarpet\"}],\"scattergeo\":[{\"marker\":{\"colorbar\":{\"outlinewidth\":0,\"ticks\":\"\"}},\"type\":\"scattergeo\"}],\"scattergl\":[{\"marker\":{\"colorbar\":{\"outlinewidth\":0,\"ticks\":\"\"}},\"type\":\"scattergl\"}],\"scattermapbox\":[{\"marker\":{\"colorbar\":{\"outlinewidth\":0,\"ticks\":\"\"}},\"type\":\"scattermapbox\"}],\"scatterpolar\":[{\"marker\":{\"colorbar\":{\"outlinewidth\":0,\"ticks\":\"\"}},\"type\":\"scatterpolar\"}],\"scatterpolargl\":[{\"marker\":{\"colorbar\":{\"outlinewidth\":0,\"ticks\":\"\"}},\"type\":\"scatterpolargl\"}],\"scatterternary\":[{\"marker\":{\"colorbar\":{\"outlinewidth\":0,\"ticks\":\"\"}},\"type\":\"scatterternary\"}],\"surface\":[{\"colorbar\":{\"outlinewidth\":0,\"ticks\":\"\"},\"colorscale\":[[0.0,\"#0d0887\"],[0.1111111111111111,\"#46039f\"],[0.2222222222222222,\"#7201a8\"],[0.3333333333333333,\"#9c179e\"],[0.4444444444444444,\"#bd3786\"],[0.5555555555555556,\"#d8576b\"],[0.6666666666666666,\"#ed7953\"],[0.7777777777777778,\"#fb9f3a\"],[0.8888888888888888,\"#fdca26\"],[1.0,\"#f0f921\"]],\"type\":\"surface\"}],\"table\":[{\"cells\":{\"fill\":{\"color\":\"#EBF0F8\"},\"line\":{\"color\":\"white\"}},\"header\":{\"fill\":{\"color\":\"#C8D4E3\"},\"line\":{\"color\":\"white\"}},\"type\":\"table\"}]},\"layout\":{\"annotationdefaults\":{\"arrowcolor\":\"#2a3f5f\",\"arrowhead\":0,\"arrowwidth\":1},\"autotypenumbers\":\"strict\",\"coloraxis\":{\"colorbar\":{\"outlinewidth\":0,\"ticks\":\"\"}},\"colorscale\":{\"diverging\":[[0,\"#8e0152\"],[0.1,\"#c51b7d\"],[0.2,\"#de77ae\"],[0.3,\"#f1b6da\"],[0.4,\"#fde0ef\"],[0.5,\"#f7f7f7\"],[0.6,\"#e6f5d0\"],[0.7,\"#b8e186\"],[0.8,\"#7fbc41\"],[0.9,\"#4d9221\"],[1,\"#276419\"]],\"sequential\":[[0.0,\"#0d0887\"],[0.1111111111111111,\"#46039f\"],[0.2222222222222222,\"#7201a8\"],[0.3333333333333333,\"#9c179e\"],[0.4444444444444444,\"#bd3786\"],[0.5555555555555556,\"#d8576b\"],[0.6666666666666666,\"#ed7953\"],[0.7777777777777778,\"#fb9f3a\"],[0.8888888888888888,\"#fdca26\"],[1.0,\"#f0f921\"]],\"sequentialminus\":[[0.0,\"#0d0887\"],[0.1111111111111111,\"#46039f\"],[0.2222222222222222,\"#7201a8\"],[0.3333333333333333,\"#9c179e\"],[0.4444444444444444,\"#bd3786\"],[0.5555555555555556,\"#d8576b\"],[0.6666666666666666,\"#ed7953\"],[0.7777777777777778,\"#fb9f3a\"],[0.8888888888888888,\"#fdca26\"],[1.0,\"#f0f921\"]]},\"colorway\":[\"#636efa\",\"#EF553B\",\"#00cc96\",\"#ab63fa\",\"#FFA15A\",\"#19d3f3\",\"#FF6692\",\"#B6E880\",\"#FF97FF\",\"#FECB52\"],\"font\":{\"color\":\"#2a3f5f\"},\"geo\":{\"bgcolor\":\"white\",\"lakecolor\":\"white\",\"landcolor\":\"white\",\"showlakes\":true,\"showland\":true,\"subunitcolor\":\"#C8D4E3\"},\"hoverlabel\":{\"align\":\"left\"},\"hovermode\":\"closest\",\"mapbox\":{\"style\":\"light\"},\"paper_bgcolor\":\"white\",\"plot_bgcolor\":\"white\",\"polar\":{\"angularaxis\":{\"gridcolor\":\"#EBF0F8\",\"linecolor\":\"#EBF0F8\",\"ticks\":\"\"},\"bgcolor\":\"white\",\"radialaxis\":{\"gridcolor\":\"#EBF0F8\",\"linecolor\":\"#EBF0F8\",\"ticks\":\"\"}},\"scene\":{\"xaxis\":{\"backgroundcolor\":\"white\",\"gridcolor\":\"#DFE8F3\",\"gridwidth\":2,\"linecolor\":\"#EBF0F8\",\"showbackground\":true,\"ticks\":\"\",\"zerolinecolor\":\"#EBF0F8\"},\"yaxis\":{\"backgroundcolor\":\"white\",\"gridcolor\":\"#DFE8F3\",\"gridwidth\":2,\"linecolor\":\"#EBF0F8\",\"showbackground\":true,\"ticks\":\"\",\"zerolinecolor\":\"#EBF0F8\"},\"zaxis\":{\"backgroundcolor\":\"white\",\"gridcolor\":\"#DFE8F3\",\"gridwidth\":2,\"linecolor\":\"#EBF0F8\",\"showbackground\":true,\"ticks\":\"\",\"zerolinecolor\":\"#EBF0F8\"}},\"shapedefaults\":{\"line\":{\"color\":\"#2a3f5f\"}},\"ternary\":{\"aaxis\":{\"gridcolor\":\"#DFE8F3\",\"linecolor\":\"#A2B1C6\",\"ticks\":\"\"},\"baxis\":{\"gridcolor\":\"#DFE8F3\",\"linecolor\":\"#A2B1C6\",\"ticks\":\"\"},\"bgcolor\":\"white\",\"caxis\":{\"gridcolor\":\"#DFE8F3\",\"linecolor\":\"#A2B1C6\",\"ticks\":\"\"}},\"title\":{\"x\":0.05},\"xaxis\":{\"automargin\":true,\"gridcolor\":\"#EBF0F8\",\"linecolor\":\"#EBF0F8\",\"ticks\":\"\",\"title\":{\"standoff\":15},\"zerolinecolor\":\"#EBF0F8\",\"zerolinewidth\":2},\"yaxis\":{\"automargin\":true,\"gridcolor\":\"#EBF0F8\",\"linecolor\":\"#EBF0F8\",\"ticks\":\"\",\"title\":{\"standoff\":15},\"zerolinecolor\":\"#EBF0F8\",\"zerolinewidth\":2}}},\"title\":{\"text\":\"average_ae_loss\"},\"xaxis\":{\"anchor\":\"y\",\"domain\":[0.0,1.0],\"title\":{\"text\":\"time\"}},\"yaxis\":{\"anchor\":\"x\",\"domain\":[0.0,1.0],\"title\":{\"text\":\"average_ae_loss\"}}},                        {\"responsive\": true}                    ).then(function(){\n",
       "                            \n",
       "var gd = document.getElementById('cc2776e6-0911-4237-8ee1-976192313c6f');\n",
       "var x = new MutationObserver(function (mutations, observer) {{\n",
       "        var display = window.getComputedStyle(gd).display;\n",
       "        if (!display || display === 'none') {{\n",
       "            console.log([gd, 'removed!']);\n",
       "            Plotly.purge(gd);\n",
       "            observer.disconnect();\n",
       "        }}\n",
       "}});\n",
       "\n",
       "// Listen for the removal of the full notebook cells\n",
       "var notebookContainer = gd.closest('#notebook-container');\n",
       "if (notebookContainer) {{\n",
       "    x.observe(notebookContainer, {childList: true});\n",
       "}}\n",
       "\n",
       "// Listen for the clearing of the current output cell\n",
       "var outputEl = gd.closest('.output');\n",
       "if (outputEl) {{\n",
       "    x.observe(outputEl, {childList: true});\n",
       "}}\n",
       "\n",
       "                        })                };                });            </script>        </div>"
      ]
     },
     "metadata": {},
     "output_type": "display_data"
    }
   ],
   "source": [
    "for col in ['average_corr', 'average_loss', 'average_ae_loss']:\n",
    "    fig = px.line(\n",
    "        progress_df, x=\"time\", y=col, \n",
    "        title=col, template='plotly_white'\n",
    "    )\n",
    "\n",
    "    fig.show()"
   ]
  }
 ],
 "metadata": {
  "kernelspec": {
   "display_name": "Python 3",
   "language": "python",
   "name": "python3"
  },
  "language_info": {
   "codemirror_mode": {
    "name": "ipython",
    "version": 3
   },
   "file_extension": ".py",
   "mimetype": "text/x-python",
   "name": "python",
   "nbconvert_exporter": "python",
   "pygments_lexer": "ipython3",
   "version": "3.7.10"
  },
  "papermill": {
   "default_parameters": {},
   "duration": 5901.779497,
   "end_time": "2022-04-09T18:24:12.433959",
   "environment_variables": {},
   "exception": null,
   "input_path": "__notebook__.ipynb",
   "output_path": "__notebook__.ipynb",
   "parameters": {},
   "start_time": "2022-04-09T16:45:50.654462",
   "version": "2.3.3"
  }
 },
 "nbformat": 4,
 "nbformat_minor": 5
}
