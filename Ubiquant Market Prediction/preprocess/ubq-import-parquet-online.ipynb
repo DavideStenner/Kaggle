{
 "cells": [
  {
   "cell_type": "code",
   "execution_count": 1,
   "id": "39af5ffc",
   "metadata": {
    "_cell_guid": "b1076dfc-b9ad-4769-8c92-a6c4dae69d19",
    "_uuid": "8f2839f25d086af736a60e9eeb907d3b93b6e0e5",
    "execution": {
     "iopub.execute_input": "2022-04-15T07:35:49.593210Z",
     "iopub.status.busy": "2022-04-15T07:35:49.592450Z",
     "iopub.status.idle": "2022-04-15T07:35:57.802368Z",
     "shell.execute_reply": "2022-04-15T07:35:57.801575Z"
    },
    "papermill": {
     "duration": 8.223005,
     "end_time": "2022-04-15T07:35:57.804870",
     "exception": false,
     "start_time": "2022-04-15T07:35:49.581865",
     "status": "completed"
    },
    "tags": []
   },
   "outputs": [
    {
     "data": {
      "text/html": [
       "<style type='text/css'>\n",
       ".datatable table.frame { margin-bottom: 0; }\n",
       ".datatable table.frame thead { border-bottom: none; }\n",
       ".datatable table.frame tr.coltypes td {  color: #FFFFFF;  line-height: 6px;  padding: 0 0.5em;}\n",
       ".datatable .bool    { background: #DDDD99; }\n",
       ".datatable .object  { background: #565656; }\n",
       ".datatable .int     { background: #5D9E5D; }\n",
       ".datatable .float   { background: #4040CC; }\n",
       ".datatable .str     { background: #CC4040; }\n",
       ".datatable .time    { background: #40CC40; }\n",
       ".datatable .row_index {  background: var(--jp-border-color3);  border-right: 1px solid var(--jp-border-color0);  color: var(--jp-ui-font-color3);  font-size: 9px;}\n",
       ".datatable .frame tbody td { text-align: left; }\n",
       ".datatable .frame tr.coltypes .row_index {  background: var(--jp-border-color0);}\n",
       ".datatable th:nth-child(2) { padding-left: 12px; }\n",
       ".datatable .hellipsis {  color: var(--jp-cell-editor-border-color);}\n",
       ".datatable .vellipsis {  background: var(--jp-layout-color0);  color: var(--jp-cell-editor-border-color);}\n",
       ".datatable .na {  color: var(--jp-cell-editor-border-color);  font-size: 80%;}\n",
       ".datatable .sp {  opacity: 0.25;}\n",
       ".datatable .footer { font-size: 9px; }\n",
       ".datatable .frame_dimensions {  background: var(--jp-border-color3);  border-top: 1px solid var(--jp-border-color0);  color: var(--jp-ui-font-color3);  display: inline-block;  opacity: 0.6;  padding: 1px 10px 1px 5px;}\n",
       "</style>\n"
      ],
      "text/plain": [
       "<IPython.core.display.HTML object>"
      ]
     },
     "metadata": {},
     "output_type": "display_data"
    }
   ],
   "source": [
    "import pandas as pd\n",
    "import numpy as np\n",
    "import os\n",
    "import gc\n",
    "\n",
    "from ubq_utilities import (\n",
    "    TIME_COL,\n",
    "    STARTING_FEATURE_NAME, TARGET_COL, STARTING_NUMERIC_FEAT_NAME,\n",
    "    RANDOM_STATE,\n",
    ")\n",
    "\n",
    "path_data = '../input/ubiquant-market-prediction'"
   ]
  },
  {
   "cell_type": "code",
   "execution_count": 2,
   "id": "cb72bb37",
   "metadata": {
    "execution": {
     "iopub.execute_input": "2022-04-15T07:35:57.824774Z",
     "iopub.status.busy": "2022-04-15T07:35:57.824195Z",
     "iopub.status.idle": "2022-04-15T07:42:47.563241Z",
     "shell.execute_reply": "2022-04-15T07:42:47.562124Z"
    },
    "papermill": {
     "duration": 409.751987,
     "end_time": "2022-04-15T07:42:47.566166",
     "exception": false,
     "start_time": "2022-04-15T07:35:57.814179",
     "status": "completed"
    },
    "tags": []
   },
   "outputs": [
    {
     "name": "stdout",
     "output_type": "stream",
     "text": [
      "Import train\n",
      "\n"
     ]
    }
   ],
   "source": [
    "#get dtype mapping\n",
    "column_training = pd.read_csv(os.path.join(path_data, 'train.csv'), nrows = 1).columns\n",
    "dtype_mapping = {\n",
    "    x: 'int32'\n",
    "        if x == TIME_COL \n",
    "    else 'float16' \n",
    "    for x in column_training\n",
    "    if x not in ('investment_id', 'row_id')\n",
    "}\n",
    "\n",
    "print('Import train\\n')\n",
    "#read train file\n",
    "train = pd.read_csv(\n",
    "    os.path.join(path_data, 'train.csv'), usecols = dtype_mapping.keys(), dtype = dtype_mapping\n",
    ")"
   ]
  },
  {
   "cell_type": "code",
   "execution_count": 3,
   "id": "561981dc",
   "metadata": {
    "execution": {
     "iopub.execute_input": "2022-04-15T07:42:47.585791Z",
     "iopub.status.busy": "2022-04-15T07:42:47.585524Z",
     "iopub.status.idle": "2022-04-15T07:42:47.789195Z",
     "shell.execute_reply": "2022-04-15T07:42:47.788314Z"
    },
    "papermill": {
     "duration": 0.215862,
     "end_time": "2022-04-15T07:42:47.791407",
     "exception": false,
     "start_time": "2022-04-15T07:42:47.575545",
     "status": "completed"
    },
    "tags": []
   },
   "outputs": [
    {
     "data": {
      "text/plain": [
       "43"
      ]
     },
     "execution_count": 3,
     "metadata": {},
     "output_type": "execute_result"
    }
   ],
   "source": [
    "gc.collect()"
   ]
  },
  {
   "cell_type": "code",
   "execution_count": 4,
   "id": "3da74377",
   "metadata": {
    "execution": {
     "iopub.execute_input": "2022-04-15T07:42:47.811404Z",
     "iopub.status.busy": "2022-04-15T07:42:47.810973Z",
     "iopub.status.idle": "2022-04-15T07:46:18.966742Z",
     "shell.execute_reply": "2022-04-15T07:46:18.965845Z"
    },
    "papermill": {
     "duration": 211.188169,
     "end_time": "2022-04-15T07:46:18.988664",
     "exception": false,
     "start_time": "2022-04-15T07:42:47.800495",
     "status": "completed"
    },
    "tags": []
   },
   "outputs": [
    {
     "name": "stdout",
     "output_type": "stream",
     "text": [
      "<class 'pandas.core.frame.DataFrame'>\n",
      "RangeIndex: 3141410 entries, 0 to 3141409\n",
      "Columns: 307 entries, time_id to all_quantile_90\n",
      "dtypes: float16(306), int32(1)\n",
      "memory usage: 1.8 GB\n"
     ]
    }
   ],
   "source": [
    "gc.collect()\n",
    "\n",
    "train['all_mean'] = train[STARTING_NUMERIC_FEAT_NAME].mean(axis=1).astype(np.float16)\n",
    "gc.collect()\n",
    "\n",
    "train['all_std'] = train[STARTING_NUMERIC_FEAT_NAME].std(axis=1).astype(np.float16)\n",
    "gc.collect()\n",
    "\n",
    "train['all_quantile_10'] = train[STARTING_NUMERIC_FEAT_NAME].quantile(q=0.1, axis=1).astype(np.float16)\n",
    "gc.collect()\n",
    "\n",
    "train['all_quantile_50'] = train[STARTING_NUMERIC_FEAT_NAME].quantile(q=0.5, axis=1).astype(np.float16)\n",
    "gc.collect()\n",
    "\n",
    "train['all_quantile_90'] = train[STARTING_NUMERIC_FEAT_NAME].quantile(q=0.9, axis=1).astype(np.float16)\n",
    "gc.collect()\n",
    "\n",
    "train.info()"
   ]
  },
  {
   "cell_type": "code",
   "execution_count": 5,
   "id": "5e0c8b63",
   "metadata": {
    "execution": {
     "iopub.execute_input": "2022-04-15T07:46:19.011520Z",
     "iopub.status.busy": "2022-04-15T07:46:19.010844Z",
     "iopub.status.idle": "2022-04-15T07:46:19.208360Z",
     "shell.execute_reply": "2022-04-15T07:46:19.207231Z"
    },
    "papermill": {
     "duration": 0.211777,
     "end_time": "2022-04-15T07:46:19.210871",
     "exception": false,
     "start_time": "2022-04-15T07:46:18.999094",
     "status": "completed"
    },
    "tags": []
   },
   "outputs": [
    {
     "data": {
      "text/plain": [
       "21"
      ]
     },
     "execution_count": 5,
     "metadata": {},
     "output_type": "execute_result"
    }
   ],
   "source": [
    "gc.collect()"
   ]
  },
  {
   "cell_type": "code",
   "execution_count": 6,
   "id": "db42670d",
   "metadata": {
    "execution": {
     "iopub.execute_input": "2022-04-15T07:46:19.233795Z",
     "iopub.status.busy": "2022-04-15T07:46:19.233497Z",
     "iopub.status.idle": "2022-04-15T07:46:22.946105Z",
     "shell.execute_reply": "2022-04-15T07:46:22.944879Z"
    },
    "papermill": {
     "duration": 3.727516,
     "end_time": "2022-04-15T07:46:22.949281",
     "exception": false,
     "start_time": "2022-04-15T07:46:19.221765",
     "status": "completed"
    },
    "tags": []
   },
   "outputs": [],
   "source": [
    "train.to_pickle('train.pkl')"
   ]
  }
 ],
 "metadata": {
  "kernelspec": {
   "display_name": "Python 3",
   "language": "python",
   "name": "python3"
  },
  "language_info": {
   "codemirror_mode": {
    "name": "ipython",
    "version": 3
   },
   "file_extension": ".py",
   "mimetype": "text/x-python",
   "name": "python",
   "nbconvert_exporter": "python",
   "pygments_lexer": "ipython3",
   "version": "3.7.12"
  },
  "papermill": {
   "default_parameters": {},
   "duration": 646.786538,
   "end_time": "2022-04-15T07:46:26.525728",
   "environment_variables": {},
   "exception": null,
   "input_path": "__notebook__.ipynb",
   "output_path": "__notebook__.ipynb",
   "parameters": {},
   "start_time": "2022-04-15T07:35:39.739190",
   "version": "2.3.4"
  }
 },
 "nbformat": 4,
 "nbformat_minor": 5
}
