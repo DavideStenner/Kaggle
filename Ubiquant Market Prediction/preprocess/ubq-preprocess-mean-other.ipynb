{
 "cells": [
  {
   "cell_type": "code",
   "execution_count": 1,
   "id": "f440868a",
   "metadata": {
    "_cell_guid": "c8bfdfbf-8c2f-4a87-925a-fdb63c8683a7",
    "_uuid": "adc5b717-14a4-41bc-a886-75c5b12c68f3",
    "collapsed": false,
    "execution": {
     "iopub.execute_input": "2022-03-28T15:20:01.912368Z",
     "iopub.status.busy": "2022-03-28T15:20:01.911405Z",
     "iopub.status.idle": "2022-03-28T15:20:04.159274Z",
     "shell.execute_reply": "2022-03-28T15:20:04.158531Z",
     "shell.execute_reply.started": "2022-03-28T12:37:21.385655Z"
    },
    "jupyter": {
     "outputs_hidden": false
    },
    "papermill": {
     "duration": 2.269718,
     "end_time": "2022-03-28T15:20:04.159447",
     "exception": false,
     "start_time": "2022-03-28T15:20:01.889729",
     "status": "completed"
    },
    "tags": []
   },
   "outputs": [
    {
     "data": {
      "text/html": [
       "<style type='text/css'>\n",
       ".datatable table.frame { margin-bottom: 0; }\n",
       ".datatable table.frame thead { border-bottom: none; }\n",
       ".datatable table.frame tr.coltypes td {  color: #FFFFFF;  line-height: 6px;  padding: 0 0.5em;}\n",
       ".datatable .bool    { background: #DDDD99; }\n",
       ".datatable .object  { background: #565656; }\n",
       ".datatable .int     { background: #5D9E5D; }\n",
       ".datatable .float   { background: #4040CC; }\n",
       ".datatable .str     { background: #CC4040; }\n",
       ".datatable .time    { background: #40CC40; }\n",
       ".datatable .row_index {  background: var(--jp-border-color3);  border-right: 1px solid var(--jp-border-color0);  color: var(--jp-ui-font-color3);  font-size: 9px;}\n",
       ".datatable .frame tbody td { text-align: left; }\n",
       ".datatable .frame tr.coltypes .row_index {  background: var(--jp-border-color0);}\n",
       ".datatable th:nth-child(2) { padding-left: 12px; }\n",
       ".datatable .hellipsis {  color: var(--jp-cell-editor-border-color);}\n",
       ".datatable .vellipsis {  background: var(--jp-layout-color0);  color: var(--jp-cell-editor-border-color);}\n",
       ".datatable .na {  color: var(--jp-cell-editor-border-color);  font-size: 80%;}\n",
       ".datatable .sp {  opacity: 0.25;}\n",
       ".datatable .footer { font-size: 9px; }\n",
       ".datatable .frame_dimensions {  background: var(--jp-border-color3);  border-top: 1px solid var(--jp-border-color0);  color: var(--jp-ui-font-color3);  display: inline-block;  opacity: 0.6;  padding: 1px 10px 1px 5px;}\n",
       "</style>\n"
      ],
      "text/plain": [
       "<IPython.core.display.HTML object>"
      ]
     },
     "metadata": {},
     "output_type": "display_data"
    }
   ],
   "source": [
    "import pandas as pd\n",
    "import numpy as np\n",
    "import os\n",
    "import gc\n",
    "import pickle\n",
    "from sklearn.model_selection import StratifiedKFold\n",
    "\n",
    "from ubq_utilities import (\n",
    "    get_time_series_cross_val_splits, FOLD_NAME, \n",
    "    N_FOLD, MIN_TIME_TO_USE, EMBARGO, TIME_COL,\n",
    "    STARTING_FEATURE_NAME, TARGET_COL, SUBSAMPLE, STARTING_NUMERIC_FEAT_NAME,\n",
    "    RANDOM_STATE, SUBSAMPLE_FOLD,\n",
    ")\n",
    "\n",
    "TOP_N=100\n",
    "path_data = '../input/ubq-import'"
   ]
  },
  {
   "cell_type": "code",
   "execution_count": 2,
   "id": "f9f4c99b",
   "metadata": {
    "execution": {
     "iopub.execute_input": "2022-03-28T15:20:04.190170Z",
     "iopub.status.busy": "2022-03-28T15:20:04.189517Z",
     "iopub.status.idle": "2022-03-28T15:20:49.078080Z",
     "shell.execute_reply": "2022-03-28T15:20:49.079039Z",
     "shell.execute_reply.started": "2022-03-28T12:37:23.463088Z"
    },
    "papermill": {
     "duration": 44.906878,
     "end_time": "2022-03-28T15:20:49.079449",
     "exception": false,
     "start_time": "2022-03-28T15:20:04.172571",
     "status": "completed"
    },
    "tags": []
   },
   "outputs": [
    {
     "data": {
      "text/plain": [
       "30"
      ]
     },
     "execution_count": 2,
     "metadata": {},
     "output_type": "execute_result"
    }
   ],
   "source": [
    "train = pd.read_parquet(os.path.join(path_data, 'train.parquet'))\n",
    "gc.collect()"
   ]
  },
  {
   "cell_type": "code",
   "execution_count": 3,
   "id": "d38d9b72",
   "metadata": {
    "execution": {
     "iopub.execute_input": "2022-03-28T15:20:49.108888Z",
     "iopub.status.busy": "2022-03-28T15:20:49.108199Z",
     "iopub.status.idle": "2022-03-28T15:20:49.232338Z",
     "shell.execute_reply": "2022-03-28T15:20:49.231851Z",
     "shell.execute_reply.started": "2022-03-28T12:37:57.949263Z"
    },
    "papermill": {
     "duration": 0.139655,
     "end_time": "2022-03-28T15:20:49.232493",
     "exception": false,
     "start_time": "2022-03-28T15:20:49.092838",
     "status": "completed"
    },
    "tags": []
   },
   "outputs": [
    {
     "data": {
      "text/plain": [
       "21"
      ]
     },
     "execution_count": 3,
     "metadata": {},
     "output_type": "execute_result"
    }
   ],
   "source": [
    "gc.collect()"
   ]
  },
  {
   "cell_type": "code",
   "execution_count": 4,
   "id": "2310ca99",
   "metadata": {
    "execution": {
     "iopub.execute_input": "2022-03-28T15:20:49.269294Z",
     "iopub.status.busy": "2022-03-28T15:20:49.268289Z",
     "iopub.status.idle": "2022-03-28T15:20:49.297708Z",
     "shell.execute_reply": "2022-03-28T15:20:49.298178Z",
     "shell.execute_reply.started": "2022-03-28T12:37:58.118796Z"
    },
    "papermill": {
     "duration": 0.053267,
     "end_time": "2022-03-28T15:20:49.298383",
     "exception": false,
     "start_time": "2022-03-28T15:20:49.245116",
     "status": "completed"
    },
    "tags": []
   },
   "outputs": [
    {
     "name": "stdout",
     "output_type": "stream",
     "text": [
      "Number of step per fold: 370\n",
      "Number of step cleared with embargo: 50\n"
     ]
    }
   ],
   "source": [
    "print(f\"Number of step per fold: {(train['time_id'].nunique()-MIN_TIME_TO_USE)//N_FOLD}\")\n",
    "print(f\"Number of step cleared with embargo: {EMBARGO}\")"
   ]
  },
  {
   "cell_type": "code",
   "execution_count": 5,
   "id": "0146dfda",
   "metadata": {
    "execution": {
     "iopub.execute_input": "2022-03-28T15:20:49.328128Z",
     "iopub.status.busy": "2022-03-28T15:20:49.327481Z",
     "iopub.status.idle": "2022-03-28T15:20:49.455242Z",
     "shell.execute_reply": "2022-03-28T15:20:49.454662Z",
     "shell.execute_reply.started": "2022-03-28T12:37:58.15168Z"
    },
    "papermill": {
     "duration": 0.143958,
     "end_time": "2022-03-28T15:20:49.455381",
     "exception": false,
     "start_time": "2022-03-28T15:20:49.311423",
     "status": "completed"
    },
    "tags": []
   },
   "outputs": [
    {
     "data": {
      "text/plain": [
       "42"
      ]
     },
     "execution_count": 5,
     "metadata": {},
     "output_type": "execute_result"
    }
   ],
   "source": [
    "gc.collect()"
   ]
  },
  {
   "cell_type": "code",
   "execution_count": 6,
   "id": "a031c2ec",
   "metadata": {
    "execution": {
     "iopub.execute_input": "2022-03-28T15:20:49.487791Z",
     "iopub.status.busy": "2022-03-28T15:20:49.487194Z",
     "iopub.status.idle": "2022-03-28T15:24:03.101913Z",
     "shell.execute_reply": "2022-03-28T15:24:03.102411Z",
     "shell.execute_reply.started": "2022-03-28T12:37:58.332679Z"
    },
    "papermill": {
     "duration": 193.633286,
     "end_time": "2022-03-28T15:24:03.102625",
     "exception": false,
     "start_time": "2022-03-28T15:20:49.469339",
     "status": "completed"
    },
    "tags": []
   },
   "outputs": [
    {
     "data": {
      "text/plain": [
       "0"
      ]
     },
     "execution_count": 6,
     "metadata": {},
     "output_type": "execute_result"
    }
   ],
   "source": [
    "train_16 = train.copy()\n",
    "train_16[STARTING_NUMERIC_FEAT_NAME+[TARGET_COL]] = train_16[STARTING_NUMERIC_FEAT_NAME+[TARGET_COL]].to_numpy(dtype='float16')\n",
    "gc.collect()"
   ]
  },
  {
   "cell_type": "code",
   "execution_count": 7,
   "id": "b84fbb12",
   "metadata": {
    "execution": {
     "iopub.execute_input": "2022-03-28T15:24:03.132945Z",
     "iopub.status.busy": "2022-03-28T15:24:03.132200Z",
     "iopub.status.idle": "2022-03-28T15:24:03.300194Z",
     "shell.execute_reply": "2022-03-28T15:24:03.299717Z",
     "shell.execute_reply.started": "2022-03-28T12:41:20.259771Z"
    },
    "papermill": {
     "duration": 0.184197,
     "end_time": "2022-03-28T15:24:03.300334",
     "exception": false,
     "start_time": "2022-03-28T15:24:03.116137",
     "status": "completed"
    },
    "tags": []
   },
   "outputs": [
    {
     "data": {
      "text/plain": [
       "21"
      ]
     },
     "execution_count": 7,
     "metadata": {},
     "output_type": "execute_result"
    }
   ],
   "source": [
    "del train\n",
    "gc.collect()"
   ]
  },
  {
   "cell_type": "code",
   "execution_count": 8,
   "id": "e3ce7a3d",
   "metadata": {
    "execution": {
     "iopub.execute_input": "2022-03-28T15:24:03.337213Z",
     "iopub.status.busy": "2022-03-28T15:24:03.336307Z",
     "iopub.status.idle": "2022-03-28T15:24:08.481000Z",
     "shell.execute_reply": "2022-03-28T15:24:08.481576Z",
     "shell.execute_reply.started": "2022-03-28T12:41:20.465649Z"
    },
    "papermill": {
     "duration": 5.167586,
     "end_time": "2022-03-28T15:24:08.481829",
     "exception": false,
     "start_time": "2022-03-28T15:24:03.314243",
     "status": "completed"
    },
    "tags": []
   },
   "outputs": [
    {
     "name": "stdout",
     "output_type": "stream",
     "text": [
      "Saving float16\n"
     ]
    }
   ],
   "source": [
    "print('Saving float16')\n",
    "train_16.to_pickle('train_16.pkl')"
   ]
  },
  {
   "cell_type": "code",
   "execution_count": 9,
   "id": "b4225ffa",
   "metadata": {
    "execution": {
     "iopub.execute_input": "2022-03-28T15:24:12.024152Z",
     "iopub.status.busy": "2022-03-28T15:24:12.022664Z",
     "iopub.status.idle": "2022-03-28T15:26:23.258217Z",
     "shell.execute_reply": "2022-03-28T15:26:23.258750Z",
     "shell.execute_reply.started": "2022-03-28T12:41:29.622973Z"
    },
    "papermill": {
     "duration": 131.793481,
     "end_time": "2022-03-28T15:26:23.259033",
     "exception": false,
     "start_time": "2022-03-28T15:24:11.465552",
     "status": "completed"
    },
    "tags": []
   },
   "outputs": [
    {
     "data": {
      "text/plain": [
       "0"
      ]
     },
     "execution_count": 9,
     "metadata": {},
     "output_type": "execute_result"
    }
   ],
   "source": [
    "all_feature_corrs_split = train_16.groupby(TIME_COL).apply(\n",
    "        lambda x: x[STARTING_NUMERIC_FEAT_NAME].corrwith(x[TARGET_COL])\n",
    ")\n",
    "\n",
    "#find best corr sharp feature with target on time id\n",
    "sorted_corr_sharp_split = all_feature_corrs_split.mean().abs()\n",
    "sorted_corr_sharp_split.sort_values(ascending = False, inplace = True)\n",
    "gc.collect()"
   ]
  },
  {
   "cell_type": "code",
   "execution_count": 10,
   "id": "35ad12f2",
   "metadata": {
    "execution": {
     "iopub.execute_input": "2022-03-28T15:26:23.413889Z",
     "iopub.status.busy": "2022-03-28T15:26:23.413253Z",
     "iopub.status.idle": "2022-03-28T15:26:23.415936Z",
     "shell.execute_reply": "2022-03-28T15:26:23.416441Z",
     "shell.execute_reply.started": "2022-03-28T12:43:45.834819Z"
    },
    "papermill": {
     "duration": 0.142923,
     "end_time": "2022-03-28T15:26:23.416624",
     "exception": false,
     "start_time": "2022-03-28T15:26:23.273701",
     "status": "completed"
    },
    "tags": []
   },
   "outputs": [
    {
     "data": {
      "text/plain": [
       "21"
      ]
     },
     "execution_count": 10,
     "metadata": {},
     "output_type": "execute_result"
    }
   ],
   "source": [
    "best_feature=sorted_corr_sharp_split.index[:TOP_N]\n",
    "gc.collect()"
   ]
  },
  {
   "cell_type": "code",
   "execution_count": 11,
   "id": "25c39ba3",
   "metadata": {
    "execution": {
     "iopub.execute_input": "2022-03-28T15:26:23.453593Z",
     "iopub.status.busy": "2022-03-28T15:26:23.452852Z",
     "iopub.status.idle": "2022-03-28T15:26:38.581252Z",
     "shell.execute_reply": "2022-03-28T15:26:38.580741Z",
     "shell.execute_reply.started": "2022-03-28T12:43:46.001562Z"
    },
    "papermill": {
     "duration": 15.149963,
     "end_time": "2022-03-28T15:26:38.581389",
     "exception": false,
     "start_time": "2022-03-28T15:26:23.431426",
     "status": "completed"
    },
    "tags": []
   },
   "outputs": [
    {
     "name": "stdout",
     "output_type": "stream",
     "text": [
      "97\r"
     ]
    },
    {
     "name": "stderr",
     "output_type": "stream",
     "text": [
      "/opt/conda/lib/python3.7/site-packages/ipykernel_launcher.py:5: PerformanceWarning: DataFrame is highly fragmented.  This is usually the result of calling `frame.insert` many times, which has poor performance.  Consider joining all columns at once using pd.concat(axis=1) instead.  To get a de-fragmented frame, use `newframe = frame.copy()`\n",
      "  \"\"\"\n"
     ]
    },
    {
     "name": "stdout",
     "output_type": "stream",
     "text": [
      "99\r"
     ]
    },
    {
     "data": {
      "text/plain": [
       "0"
      ]
     },
     "execution_count": 11,
     "metadata": {},
     "output_type": "execute_result"
    }
   ],
   "source": [
    "other_features=[]\n",
    "for i, col in enumerate(best_feature):\n",
    "    print(i, end=\"\\r\")\n",
    "    mapper_mean = train_16.groupby(['time_id'])[col].mean().to_dict()\n",
    "    train_16[f'time_id_{col}_mean'] = train_16['time_id'].map(mapper_mean)\n",
    "    train_16[f'time_id_{col}_mean'] = train_16[f'time_id_{col}_mean'].astype(np.float16)\n",
    "    other_features.append(f'time_id_{col}_mean')\n",
    "        \n",
    "gc.collect()"
   ]
  },
  {
   "cell_type": "code",
   "execution_count": 12,
   "id": "9a18700e",
   "metadata": {
    "execution": {
     "iopub.execute_input": "2022-03-28T15:26:38.647568Z",
     "iopub.status.busy": "2022-03-28T15:26:38.646942Z",
     "iopub.status.idle": "2022-03-28T15:31:02.143398Z",
     "shell.execute_reply": "2022-03-28T15:31:02.143983Z",
     "shell.execute_reply.started": "2022-03-28T12:49:49.247001Z"
    },
    "papermill": {
     "duration": 263.533058,
     "end_time": "2022-03-28T15:31:02.144198",
     "exception": false,
     "start_time": "2022-03-28T15:26:38.611140",
     "status": "completed"
    },
    "tags": []
   },
   "outputs": [],
   "source": [
    "train_16['all_mean'] = train_16[STARTING_NUMERIC_FEAT_NAME].mean(axis=1)\n",
    "train_16['all_std'] = train_16[STARTING_NUMERIC_FEAT_NAME].std(axis=1)\n",
    "train_16['all_quantile_10'] = train_16[STARTING_NUMERIC_FEAT_NAME].quantile(q=0.1, axis=1)\n",
    "train_16['all_quantile_50'] = train_16[STARTING_NUMERIC_FEAT_NAME].quantile(q=0.5, axis=1)\n",
    "train_16['all_quantile_90'] = train_16[STARTING_NUMERIC_FEAT_NAME].quantile(q=0.9, axis=1)\n",
    "\n",
    "other_features += ['all_mean', 'all_std', 'all_quantile_10', 'all_quantile_50', 'all_quantile_90']"
   ]
  },
  {
   "cell_type": "code",
   "execution_count": 13,
   "id": "e6d19add",
   "metadata": {
    "execution": {
     "iopub.execute_input": "2022-03-28T15:31:02.210101Z",
     "iopub.status.busy": "2022-03-28T15:31:02.209028Z",
     "iopub.status.idle": "2022-03-28T15:31:12.448827Z",
     "shell.execute_reply": "2022-03-28T15:31:12.449650Z",
     "shell.execute_reply.started": "2022-03-28T12:47:18.820869Z"
    },
    "papermill": {
     "duration": 10.275218,
     "end_time": "2022-03-28T15:31:12.449889",
     "exception": false,
     "start_time": "2022-03-28T15:31:02.174671",
     "status": "completed"
    },
    "tags": []
   },
   "outputs": [
    {
     "name": "stdout",
     "output_type": "stream",
     "text": [
      "Saving float16 with FE\n"
     ]
    }
   ],
   "source": [
    "print('Saving float16 with FE')\n",
    "train_16.to_pickle('train_16_fe.pkl')"
   ]
  },
  {
   "cell_type": "code",
   "execution_count": 14,
   "id": "8fbc346e",
   "metadata": {
    "execution": {
     "iopub.execute_input": "2022-03-28T15:31:18.364128Z",
     "iopub.status.busy": "2022-03-28T15:31:18.363217Z",
     "iopub.status.idle": "2022-03-28T15:31:18.368038Z",
     "shell.execute_reply": "2022-03-28T15:31:18.367390Z",
     "shell.execute_reply.started": "2022-03-28T12:48:02.994788Z"
    },
    "papermill": {
     "duration": 0.420429,
     "end_time": "2022-03-28T15:31:18.368230",
     "exception": false,
     "start_time": "2022-03-28T15:31:17.947801",
     "status": "completed"
    },
    "tags": []
   },
   "outputs": [],
   "source": [
    "ALL_FEATURE = STARTING_NUMERIC_FEAT_NAME + other_features\n",
    "\n",
    "with open('ALL_FEATURE.pkl', 'wb') as file:\n",
    "    pickle.dump(ALL_FEATURE, file)\n",
    "    \n",
    "with open('other_features.pkl', 'wb') as file:\n",
    "    pickle.dump(other_features, file)"
   ]
  }
 ],
 "metadata": {
  "kernelspec": {
   "display_name": "Python 3",
   "language": "python",
   "name": "python3"
  },
  "language_info": {
   "codemirror_mode": {
    "name": "ipython",
    "version": 3
   },
   "file_extension": ".py",
   "mimetype": "text/x-python",
   "name": "python",
   "nbconvert_exporter": "python",
   "pygments_lexer": "ipython3",
   "version": "3.7.12"
  },
  "papermill": {
   "default_parameters": {},
   "duration": 686.682156,
   "end_time": "2022-03-28T15:31:19.497441",
   "environment_variables": {},
   "exception": null,
   "input_path": "__notebook__.ipynb",
   "output_path": "__notebook__.ipynb",
   "parameters": {},
   "start_time": "2022-03-28T15:19:52.815285",
   "version": "2.3.3"
  }
 },
 "nbformat": 4,
 "nbformat_minor": 5
}
