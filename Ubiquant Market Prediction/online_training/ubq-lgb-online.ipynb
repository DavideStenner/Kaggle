{
 "cells": [
  {
   "cell_type": "code",
   "execution_count": 1,
   "id": "16b642d7",
   "metadata": {
    "_cell_guid": "b1076dfc-b9ad-4769-8c92-a6c4dae69d19",
    "_uuid": "8f2839f25d086af736a60e9eeb907d3b93b6e0e5",
    "execution": {
     "iopub.execute_input": "2022-04-17T18:20:59.419287Z",
     "iopub.status.busy": "2022-04-17T18:20:59.418906Z",
     "iopub.status.idle": "2022-04-17T18:21:07.032847Z",
     "shell.execute_reply": "2022-04-17T18:21:07.031979Z"
    },
    "papermill": {
     "duration": 7.639632,
     "end_time": "2022-04-17T18:21:07.035431",
     "exception": false,
     "start_time": "2022-04-17T18:20:59.395799",
     "status": "completed"
    },
    "tags": []
   },
   "outputs": [
    {
     "data": {
      "text/html": [
       "<style type='text/css'>\n",
       ".datatable table.frame { margin-bottom: 0; }\n",
       ".datatable table.frame thead { border-bottom: none; }\n",
       ".datatable table.frame tr.coltypes td {  color: #FFFFFF;  line-height: 6px;  padding: 0 0.5em;}\n",
       ".datatable .bool    { background: #DDDD99; }\n",
       ".datatable .object  { background: #565656; }\n",
       ".datatable .int     { background: #5D9E5D; }\n",
       ".datatable .float   { background: #4040CC; }\n",
       ".datatable .str     { background: #CC4040; }\n",
       ".datatable .time    { background: #40CC40; }\n",
       ".datatable .row_index {  background: var(--jp-border-color3);  border-right: 1px solid var(--jp-border-color0);  color: var(--jp-ui-font-color3);  font-size: 9px;}\n",
       ".datatable .frame tbody td { text-align: left; }\n",
       ".datatable .frame tr.coltypes .row_index {  background: var(--jp-border-color0);}\n",
       ".datatable th:nth-child(2) { padding-left: 12px; }\n",
       ".datatable .hellipsis {  color: var(--jp-cell-editor-border-color);}\n",
       ".datatable .vellipsis {  background: var(--jp-layout-color0);  color: var(--jp-cell-editor-border-color);}\n",
       ".datatable .na {  color: var(--jp-cell-editor-border-color);  font-size: 80%;}\n",
       ".datatable .sp {  opacity: 0.25;}\n",
       ".datatable .footer { font-size: 9px; }\n",
       ".datatable .frame_dimensions {  background: var(--jp-border-color3);  border-top: 1px solid var(--jp-border-color0);  color: var(--jp-ui-font-color3);  display: inline-block;  opacity: 0.6;  padding: 1px 10px 1px 5px;}\n",
       "</style>\n"
      ],
      "text/plain": [
       "<IPython.core.display.HTML object>"
      ]
     },
     "metadata": {},
     "output_type": "display_data"
    }
   ],
   "source": [
    "import pandas as pd\n",
    "import numpy as np\n",
    "import os\n",
    "import gc\n",
    "import pickle\n",
    "import lightgbm as lgb\n",
    "import re\n",
    "from typing import Tuple\n",
    "from scipy.stats import pearsonr\n",
    "import multiprocessing as mp\n",
    "import ubiquant\n",
    "\n",
    "from ubq_utilities import (\n",
    "    TIME_COL,\n",
    "    STARTING_FEATURE_NAME, TARGET_COL, STARTING_NUMERIC_FEAT_NAME,\n",
    "    RANDOM_STATE, get_time_series_cross_val_splits\n",
    ")\n",
    "\n",
    "TOP_N=100\n",
    "N_ROUND = 1200\n",
    "N_FOLD = 5\n",
    "\n",
    "path_data = '../input/ubiquant-market-prediction'\n",
    "path_old_data = '../input/ubq-import-parquet-online'\n",
    "\n",
    "env = ubiquant.make_env()   # initialize the environment"
   ]
  },
  {
   "cell_type": "code",
   "execution_count": 2,
   "id": "e52f0686",
   "metadata": {
    "execution": {
     "iopub.execute_input": "2022-04-17T18:21:07.080268Z",
     "iopub.status.busy": "2022-04-17T18:21:07.079936Z",
     "iopub.status.idle": "2022-04-17T18:21:07.088752Z",
     "shell.execute_reply": "2022-04-17T18:21:07.087958Z"
    },
    "papermill": {
     "duration": 0.033542,
     "end_time": "2022-04-17T18:21:07.090551",
     "exception": false,
     "start_time": "2022-04-17T18:21:07.057009",
     "status": "completed"
    },
    "tags": []
   },
   "outputs": [],
   "source": [
    "def get_time_to_corr(data):\n",
    "    size_per_time = data.groupby(TIME_COL)[['f_0']].count().reset_index()\n",
    "    size_per_time.sort_values(TIME_COL, ascending=False, inplace=True)\n",
    "    size_per_time = size_per_time[size_per_time['f_0'] > 31].reset_index(drop=True)\n",
    "    \n",
    "    max_time_used = min(1000, size_per_time.shape[0])\n",
    "    time_to_corr = size_per_time.loc[:max_time_used, TIME_COL].tolist()\n",
    "    return time_to_corr\n",
    "\n",
    "def get_top_n_corr(data):\n",
    "    time_to_corr = get_time_to_corr(data)\n",
    "    \n",
    "    data = data.loc[data[TIME_COL].isin(time_to_corr), :].reset_index(drop=True)\n",
    "    \n",
    "    all_feature_corrs_split = data.groupby(TIME_COL).apply(\n",
    "            lambda x: x[STARTING_NUMERIC_FEAT_NAME].corrwith(x[TARGET_COL])\n",
    "    )\n",
    "\n",
    "    #find best corr sharp feature with target on time id\n",
    "    sorted_corr_split = all_feature_corrs_split.mean().abs()\n",
    "    sorted_corr_split.sort_values(ascending = False, inplace = True)\n",
    "\n",
    "    best_feature=sorted_corr_split.index[:TOP_N]\n",
    "    return best_feature\n"
   ]
  },
  {
   "cell_type": "code",
   "execution_count": 3,
   "id": "b2a7eb66",
   "metadata": {
    "execution": {
     "iopub.execute_input": "2022-04-17T18:21:07.134456Z",
     "iopub.status.busy": "2022-04-17T18:21:07.133631Z",
     "iopub.status.idle": "2022-04-17T18:21:07.141032Z",
     "shell.execute_reply": "2022-04-17T18:21:07.140254Z"
    },
    "papermill": {
     "duration": 0.031541,
     "end_time": "2022-04-17T18:21:07.143100",
     "exception": false,
     "start_time": "2022-04-17T18:21:07.111559",
     "status": "completed"
    },
    "tags": []
   },
   "outputs": [],
   "source": [
    "def preprocess_train_dataset(data, best_feature):\n",
    "    \n",
    "    time_features=[]\n",
    "    for i, col in enumerate(best_feature):\n",
    "        print(i, end=\"\\r\")\n",
    "        mapper_mean = data.groupby(['time_id'])[col].mean().to_dict()\n",
    "        data[f'time_id_{col}_mean'] = data['time_id'].map(mapper_mean)\n",
    "        data[f'time_id_{col}_mean'] = data[f'time_id_{col}_mean'].astype(np.float16)\n",
    "        time_features.append(f'time_id_{col}_mean')\n",
    "\n",
    "    gc.collect()\n",
    "    \n",
    "    aggregate_features = ['all_mean', 'all_std', 'all_quantile_10', 'all_quantile_50', 'all_quantile_90']\n",
    "    \n",
    "    return data, time_features, aggregate_features"
   ]
  },
  {
   "cell_type": "code",
   "execution_count": 4,
   "id": "63119556",
   "metadata": {
    "execution": {
     "iopub.execute_input": "2022-04-17T18:21:07.185388Z",
     "iopub.status.busy": "2022-04-17T18:21:07.185106Z",
     "iopub.status.idle": "2022-04-17T18:21:07.191713Z",
     "shell.execute_reply": "2022-04-17T18:21:07.190902Z"
    },
    "papermill": {
     "duration": 0.030024,
     "end_time": "2022-04-17T18:21:07.193709",
     "exception": false,
     "start_time": "2022-04-17T18:21:07.163685",
     "status": "completed"
    },
    "tags": []
   },
   "outputs": [],
   "source": [
    "def get_flat_features(data):\n",
    "    data['all_mean'] = data[STARTING_NUMERIC_FEAT_NAME].mean(axis=1).astype(np.float16)\n",
    "    data['all_std'] = data[STARTING_NUMERIC_FEAT_NAME].std(axis=1).astype(np.float16)\n",
    "    data['all_quantile_10'] = data[STARTING_NUMERIC_FEAT_NAME].quantile(q=0.1, axis=1).astype(np.float16)\n",
    "    data['all_quantile_50'] = data[STARTING_NUMERIC_FEAT_NAME].quantile(q=0.5, axis=1).astype(np.float16)\n",
    "    data['all_quantile_90'] = data[STARTING_NUMERIC_FEAT_NAME].quantile(q=0.9, axis=1).astype(np.float16)\n",
    "\n",
    "    return data"
   ]
  },
  {
   "cell_type": "code",
   "execution_count": 5,
   "id": "3748994e",
   "metadata": {
    "execution": {
     "iopub.execute_input": "2022-04-17T18:21:07.236944Z",
     "iopub.status.busy": "2022-04-17T18:21:07.236658Z",
     "iopub.status.idle": "2022-04-17T18:21:07.290516Z",
     "shell.execute_reply": "2022-04-17T18:21:07.289618Z"
    },
    "papermill": {
     "duration": 0.078419,
     "end_time": "2022-04-17T18:21:07.292786",
     "exception": false,
     "start_time": "2022-04-17T18:21:07.214367",
     "status": "completed"
    },
    "tags": []
   },
   "outputs": [],
   "source": [
    "def change_type_mapping(data, mapping):\n",
    "    for col in data.columns:\n",
    "        data[col] = data[col].astype(mapping[col])\n",
    "    \n",
    "    return data\n",
    "\n",
    "def get_fold(data, embargo=50, cv=N_FOLD, min_time_to_use=0, percent_split=True):\n",
    "    \n",
    "    fold_embargo_zip = get_time_series_cross_val_splits(\n",
    "        data, cv=cv, embargo=embargo, min_time_to_use=min_time_to_use,\n",
    "        percent_split=percent_split\n",
    "    )\n",
    "\n",
    "    fold_split = [\n",
    "        [\n",
    "            np.where(data[TIME_COL].isin(train_index))[0], \n",
    "            np.where(data[TIME_COL].isin(test_index))[0]\n",
    "        ]\n",
    "        for train_index, test_index in fold_embargo_zip\n",
    "    ]\n",
    "    \n",
    "    return fold_split\n",
    "\n",
    "def save_base_dataset(top_n=100):\n",
    "        \n",
    "    #get dtype mapping\n",
    "    column_training = pd.read_csv(os.path.join(path_data, 'train.csv'), nrows = 1).columns\n",
    "    dtype_mapping = {\n",
    "        x: 'int32'\n",
    "            if x == TIME_COL \n",
    "        else 'float16' \n",
    "        for x in column_training\n",
    "        if x not in ('investment_id', 'row_id')\n",
    "    }\n",
    "    \n",
    "    print('Import online\\n')\n",
    "    #read online file\n",
    "    online_train = pd.read_csv(\n",
    "        os.path.join(path_data, 'supplemental_train.csv'), \n",
    "        usecols = dtype_mapping.keys(), dtype = dtype_mapping,\n",
    "        chunksize=50000\n",
    "    )\n",
    "    \n",
    "    print('Saving chunks\\n')\n",
    "    count_file = 0\n",
    "    for i, online_df in enumerate(online_train):\n",
    "        print(i, end=\"\\r\")\n",
    "        online_df = get_flat_features(online_df)\n",
    "        online_df.to_pickle(f'online_df_{i}.pkl')\n",
    "        count_file +=1\n",
    "        del online_df\n",
    "        gc.collect()\n",
    "    \n",
    "    print('Appending chunks\\n')\n",
    "    for file in range(count_file):\n",
    "        s_train = pd.read_pickle(f'online_df_{file}.pkl')\n",
    "        if file == 0:\n",
    "            online_train = s_train\n",
    "        else:\n",
    "            online_train=pd.concat([online_train,s_train])\n",
    "        del s_train\n",
    "        !rm online_df_{file}.pkl\n",
    "    \n",
    "    gc.collect()\n",
    "\n",
    "    gc.collect()\n",
    "    print('Reading old train\\n')\n",
    "    train = pd.read_pickle(os.path.join(path_old_data, 'train.pkl'))\n",
    "    \n",
    "    print('Append all\\n')\n",
    "    train = train.append(online_train)\n",
    "    train.reset_index(drop=True, inplace=True)\n",
    "    \n",
    "    del online_train\n",
    "    gc.collect()\n",
    "\n",
    "    print('get top n\\n')\n",
    "    best_feature = get_top_n_corr(train)\n",
    "    \n",
    "    gc.collect()\n",
    "  \n",
    "    print('preprocess\\n')\n",
    "    train, time_features, aggregate_features = preprocess_train_dataset(train, best_feature)\n",
    "    gc.collect()\n",
    "\n",
    "    used_feature = STARTING_NUMERIC_FEAT_NAME + time_features + aggregate_features\n",
    "    \n",
    "    train.to_pickle('appended.pkl')\n",
    "    \n",
    "    del train\n",
    "    gc.collect()\n",
    "    \n",
    "    with open('used_feature.pkl', 'wb') as file:\n",
    "        pickle.dump(used_feature, file)\n",
    "        \n",
    "def get_dataset(top_n=100):\n",
    "    with open('used_feature.pkl', 'rb') as file:\n",
    "        used_feature = pickle.load(file)\n",
    "        \n",
    "    train = pd.read_pickle('appended.pkl')\n",
    "    !rm appended.pkl\n",
    "    \n",
    "    fold_split = get_fold(train)\n",
    "    \n",
    "    for i, (train_index, test_index) in enumerate(fold_split):\n",
    "        print(f'Train shape: {len(train_index)}; Test shape: {len(test_index)}')\n",
    "        print(f'Saving np dataset {i}', end='\\r')\n",
    "        \n",
    "        train_x_num = train[used_feature].iloc[train_index].to_numpy('float16')\n",
    "        train_y = train[TARGET_COL].iloc[train_index].to_numpy('float16')\n",
    "        \n",
    "        gc.collect()\n",
    "        # save that dataset to a file\n",
    "       \n",
    "        with open(f'train_x_{i}.npy', 'wb') as file:\n",
    "            np.save(file, train_x_num)\n",
    "            \n",
    "        with open(f'train_y_{i}.npy', 'wb') as file:\n",
    "            np.save(file, train_y)\n",
    "                \n",
    "        del train_x_num, train_y\n",
    "        gc.collect()\n",
    "        \n",
    "        test_x_num = train[used_feature].iloc[test_index].to_numpy('float16')\n",
    "        test_y = train[TARGET_COL].iloc[test_index].to_numpy('float16')\n",
    "        \n",
    "        gc.collect()\n",
    "\n",
    "        with open(f'valid_x_{i}.npy', 'wb') as file:\n",
    "            np.save(file, test_x_num)\n",
    "            \n",
    "        with open(f'valid_y_{i}.npy', 'wb') as file:\n",
    "            np.save(file, test_y)\n",
    "\n",
    "        del test_x_num, test_y\n",
    "        gc.collect()"
   ]
  },
  {
   "cell_type": "code",
   "execution_count": 6,
   "id": "082523c0",
   "metadata": {
    "execution": {
     "iopub.execute_input": "2022-04-17T18:21:07.336394Z",
     "iopub.status.busy": "2022-04-17T18:21:07.335934Z",
     "iopub.status.idle": "2022-04-17T18:26:33.507522Z",
     "shell.execute_reply": "2022-04-17T18:26:33.506867Z"
    },
    "papermill": {
     "duration": 328.58004,
     "end_time": "2022-04-17T18:26:35.893852",
     "exception": false,
     "start_time": "2022-04-17T18:21:07.313812",
     "status": "completed"
    },
    "tags": []
   },
   "outputs": [
    {
     "name": "stdout",
     "output_type": "stream",
     "text": [
      "Import online\n",
      "\n",
      "Saving chunks\n",
      "\n",
      "Appending chunks\n",
      "\n",
      "Reading old train\n",
      "\n",
      "Append all\n",
      "\n",
      "get top n\n",
      "\n",
      "preprocess\n",
      "\n",
      "98\r"
     ]
    },
    {
     "name": "stderr",
     "output_type": "stream",
     "text": [
      "/opt/conda/lib/python3.7/site-packages/ipykernel_launcher.py:7: PerformanceWarning: DataFrame is highly fragmented.  This is usually the result of calling `frame.insert` many times, which has poor performance.  Consider joining all columns at once using pd.concat(axis=1) instead.  To get a de-fragmented frame, use `newframe = frame.copy()`\n",
      "  import sys\n"
     ]
    },
    {
     "name": "stdout",
     "output_type": "stream",
     "text": [
      "99\r"
     ]
    },
    {
     "data": {
      "text/plain": [
       "43"
      ]
     },
     "execution_count": 6,
     "metadata": {},
     "output_type": "execute_result"
    }
   ],
   "source": [
    "#spawn process to realase memory at the end\n",
    "proc = mp.Process(target=save_base_dataset)\n",
    "proc.start()\n",
    "proc.join()\n",
    "\n",
    "gc.collect()"
   ]
  },
  {
   "cell_type": "code",
   "execution_count": 7,
   "id": "4b0b9a6a",
   "metadata": {
    "execution": {
     "iopub.execute_input": "2022-04-17T18:26:36.218860Z",
     "iopub.status.busy": "2022-04-17T18:26:36.218278Z",
     "iopub.status.idle": "2022-04-17T18:29:18.713174Z",
     "shell.execute_reply": "2022-04-17T18:29:18.712293Z"
    },
    "papermill": {
     "duration": 162.731781,
     "end_time": "2022-04-17T18:29:18.835706",
     "exception": false,
     "start_time": "2022-04-17T18:26:36.103925",
     "status": "completed"
    },
    "tags": []
   },
   "outputs": [
    {
     "name": "stdout",
     "output_type": "stream",
     "text": [
      "Train shape: 3173178; Test shape: 817600\n",
      "Train shape: 2996425; Test shape: 818756\n",
      "Train shape: 2950713; Test shape: 822160\n",
      "Train shape: 2918437; Test shape: 820871\n",
      "Train shape: 3088295; Test shape: 817337\n",
      "Saving np dataset 4\r"
     ]
    },
    {
     "data": {
      "text/plain": [
       "21"
      ]
     },
     "execution_count": 7,
     "metadata": {},
     "output_type": "execute_result"
    }
   ],
   "source": [
    "#spawn process to realase memory at the end\n",
    "proc = mp.Process(target=get_dataset)\n",
    "proc.start()\n",
    "proc.join()\n",
    "\n",
    "gc.collect()"
   ]
  },
  {
   "cell_type": "code",
   "execution_count": 8,
   "id": "77284c08",
   "metadata": {
    "execution": {
     "iopub.execute_input": "2022-04-17T18:29:19.077503Z",
     "iopub.status.busy": "2022-04-17T18:29:19.077191Z",
     "iopub.status.idle": "2022-04-17T18:29:19.082947Z",
     "shell.execute_reply": "2022-04-17T18:29:19.082366Z"
    },
    "papermill": {
     "duration": 0.130282,
     "end_time": "2022-04-17T18:29:19.084848",
     "exception": false,
     "start_time": "2022-04-17T18:29:18.954566",
     "status": "completed"
    },
    "tags": []
   },
   "outputs": [],
   "source": [
    "with open('used_feature.pkl', 'rb') as file:\n",
    "    used_feature = pickle.load(file)"
   ]
  },
  {
   "cell_type": "code",
   "execution_count": 9,
   "id": "155bdec5",
   "metadata": {
    "execution": {
     "iopub.execute_input": "2022-04-17T18:29:19.323381Z",
     "iopub.status.busy": "2022-04-17T18:29:19.322879Z",
     "iopub.status.idle": "2022-04-17T18:29:19.328148Z",
     "shell.execute_reply": "2022-04-17T18:29:19.327633Z"
    },
    "papermill": {
     "duration": 0.127212,
     "end_time": "2022-04-17T18:29:19.330060",
     "exception": false,
     "start_time": "2022-04-17T18:29:19.202848",
     "status": "completed"
    },
    "tags": []
   },
   "outputs": [],
   "source": [
    "time_col_list = [re.search('time_id_(.*)_mean', x).group(1) for x in used_feature if 'time_id_' in x]"
   ]
  },
  {
   "cell_type": "code",
   "execution_count": 10,
   "id": "ba504d9d",
   "metadata": {
    "execution": {
     "iopub.execute_input": "2022-04-17T18:29:19.567609Z",
     "iopub.status.busy": "2022-04-17T18:29:19.567312Z",
     "iopub.status.idle": "2022-04-17T18:29:19.753514Z",
     "shell.execute_reply": "2022-04-17T18:29:19.752547Z"
    },
    "papermill": {
     "duration": 0.306668,
     "end_time": "2022-04-17T18:29:19.755555",
     "exception": false,
     "start_time": "2022-04-17T18:29:19.448887",
     "status": "completed"
    },
    "tags": []
   },
   "outputs": [
    {
     "data": {
      "text/plain": [
       "63"
      ]
     },
     "execution_count": 10,
     "metadata": {},
     "output_type": "execute_result"
    }
   ],
   "source": [
    "gc.collect()"
   ]
  },
  {
   "cell_type": "code",
   "execution_count": 11,
   "id": "8035f6d6",
   "metadata": {
    "execution": {
     "iopub.execute_input": "2022-04-17T18:29:19.998768Z",
     "iopub.status.busy": "2022-04-17T18:29:19.998169Z",
     "iopub.status.idle": "2022-04-17T18:29:20.008124Z",
     "shell.execute_reply": "2022-04-17T18:29:20.007519Z"
    },
    "papermill": {
     "duration": 0.132875,
     "end_time": "2022-04-17T18:29:20.010003",
     "exception": false,
     "start_time": "2022-04-17T18:29:19.877128",
     "status": "completed"
    },
    "tags": []
   },
   "outputs": [],
   "source": [
    "def inference_preprocess(data, time_col_list=time_col_list):\n",
    "    data['time_id'] = data['row_id'].str[0:4].astype(np.int32)\n",
    "    for col in time_col_list:\n",
    "        mapper_mean = data.groupby(['time_id'])[col].mean().to_dict()\n",
    "        data[f'time_id_{col}_mean'] = data['time_id'].map(mapper_mean)\n",
    "        data[f'time_id_{col}_mean'] = data[f'time_id_{col}_mean'].astype(np.float16)\n",
    "    \n",
    "    data['all_mean'] = data[STARTING_NUMERIC_FEAT_NAME].mean(axis=1).astype(np.float16)\n",
    "    data['all_std'] = data[STARTING_NUMERIC_FEAT_NAME].std(axis=1).astype(np.float16)\n",
    "    data['all_quantile_10'] = data[STARTING_NUMERIC_FEAT_NAME].quantile(q=0.1, axis=1).astype(np.float16)\n",
    "    data['all_quantile_50'] = data[STARTING_NUMERIC_FEAT_NAME].quantile(q=0.5, axis=1).astype(np.float16)\n",
    "    data['all_quantile_90'] = data[STARTING_NUMERIC_FEAT_NAME].quantile(q=0.9, axis=1).astype(np.float16)\n",
    "\n",
    "    return data\n"
   ]
  },
  {
   "cell_type": "code",
   "execution_count": 12,
   "id": "055c2d4c",
   "metadata": {
    "execution": {
     "iopub.execute_input": "2022-04-17T18:29:20.250346Z",
     "iopub.status.busy": "2022-04-17T18:29:20.249840Z",
     "iopub.status.idle": "2022-04-17T18:29:20.255100Z",
     "shell.execute_reply": "2022-04-17T18:29:20.254352Z"
    },
    "papermill": {
     "duration": 0.127818,
     "end_time": "2022-04-17T18:29:20.256987",
     "exception": false,
     "start_time": "2022-04-17T18:29:20.129169",
     "status": "completed"
    },
    "tags": []
   },
   "outputs": [],
   "source": [
    "PARAMS_LGB = {\n",
    "    'tree_learner': 'voting',\n",
    "    'boosting_type': 'gbdt',\n",
    "    'objective': 'regression',\n",
    "    'n_jobs': -1,\n",
    "    'num_leaves': 2**8,\n",
    "    'learning_rate': 0.05,\n",
    "    'feature_fraction': 0.75,\n",
    "    'bagging_freq': 5,\n",
    "    'bagging_fraction': 0.80,\n",
    "    'lambda_l2': 1,\n",
    "    'verbosity': -1\n",
    "}\n"
   ]
  },
  {
   "cell_type": "code",
   "execution_count": 13,
   "id": "4b6eeb8b",
   "metadata": {
    "execution": {
     "iopub.execute_input": "2022-04-17T18:29:20.497581Z",
     "iopub.status.busy": "2022-04-17T18:29:20.497121Z",
     "iopub.status.idle": "2022-04-17T18:29:20.509577Z",
     "shell.execute_reply": "2022-04-17T18:29:20.509039Z"
    },
    "papermill": {
     "duration": 0.134962,
     "end_time": "2022-04-17T18:29:20.511334",
     "exception": false,
     "start_time": "2022-04-17T18:29:20.376372",
     "status": "completed"
    },
    "tags": []
   },
   "outputs": [],
   "source": [
    "def corr_sharpe_lgb(\n",
    "    y_pred: np.array, dtrain: lgb.Dataset, \n",
    ") -> Tuple[str, float, bool]:\n",
    "    \"\"\"\n",
    "    Pearson correlation coefficient metric\n",
    "    \"\"\"\n",
    "    y_true = dtrain.get_label()\n",
    "\n",
    "    corr = pearsonr(y_true, y_pred)[0]\n",
    "    return 'pearson_corr', corr, True\n",
    "\n",
    "def train_lgb(params = PARAMS_LGB):\n",
    "    model_list = []\n",
    "    progress_list = []\n",
    "    \n",
    "    for i in range(N_FOLD):\n",
    "        print(f'\\n\\nStarting fold {i}\\n\\n\\n')\n",
    "\n",
    "        train_x_num, train_y = np.load(f'train_x_{i}.npy'), np.load(f'train_y_{i}.npy')\n",
    "        test_x_num, test_y = np.load(f'valid_x_{i}.npy'), np.load(f'valid_y_{i}.npy')\n",
    "        \n",
    "        train_matrix = lgb.Dataset(train_x_num, train_y)\n",
    "        test_matrix = lgb.Dataset(test_x_num, test_y)\n",
    "\n",
    "        del train_x_num, train_y, test_x_num, test_y\n",
    "\n",
    "        gc.collect()\n",
    "\n",
    "        progress = {}\n",
    "\n",
    "        callbacks_list = [\n",
    "            lgb.record_evaluation(progress),\n",
    "            lgb.log_evaluation(period=50, show_stdv=False)\n",
    "        ]\n",
    "\n",
    "        model = lgb.train(\n",
    "                    params=PARAMS_LGB,\n",
    "                    train_set=train_matrix, \n",
    "                    num_boost_round=N_ROUND,\n",
    "                    valid_sets=[test_matrix],\n",
    "                    valid_names=['valid'],\n",
    "                    callbacks=callbacks_list,\n",
    "                    feval=corr_sharpe_lgb,\n",
    "                )\n",
    "        \n",
    "        model.save_model(f'lgb_{i}.txt')\n",
    "\n",
    "        model_list.append(model)\n",
    "        progress_list.append(progress)\n",
    "\n",
    "        del (\n",
    "            train_matrix, test_matrix\n",
    "        )\n",
    "        gc.collect()\n",
    "    \n",
    "    with open('model_list_lgb.pkl', 'wb') as file:\n",
    "        pickle.dump(model_list, file)\n",
    "\n",
    "    with open('progress_list_lgb.pkl', 'wb') as file:\n",
    "        pickle.dump(progress_list, file)"
   ]
  },
  {
   "cell_type": "code",
   "execution_count": 14,
   "id": "9ea9acf4",
   "metadata": {
    "execution": {
     "iopub.execute_input": "2022-04-17T18:29:20.747455Z",
     "iopub.status.busy": "2022-04-17T18:29:20.747022Z",
     "iopub.status.idle": "2022-04-17T18:29:20.929251Z",
     "shell.execute_reply": "2022-04-17T18:29:20.928323Z"
    },
    "papermill": {
     "duration": 0.302692,
     "end_time": "2022-04-17T18:29:20.931197",
     "exception": false,
     "start_time": "2022-04-17T18:29:20.628505",
     "status": "completed"
    },
    "tags": []
   },
   "outputs": [
    {
     "data": {
      "text/plain": [
       "21"
      ]
     },
     "execution_count": 14,
     "metadata": {},
     "output_type": "execute_result"
    }
   ],
   "source": [
    "gc.collect()"
   ]
  },
  {
   "cell_type": "code",
   "execution_count": 15,
   "id": "18e2b775",
   "metadata": {
    "execution": {
     "iopub.execute_input": "2022-04-17T18:29:21.187465Z",
     "iopub.status.busy": "2022-04-17T18:29:21.187092Z",
     "iopub.status.idle": "2022-04-17T21:47:12.487205Z",
     "shell.execute_reply": "2022-04-17T21:47:12.486248Z"
    },
    "papermill": {
     "duration": 11871.437318,
     "end_time": "2022-04-17T21:47:12.491000",
     "exception": false,
     "start_time": "2022-04-17T18:29:21.053682",
     "status": "completed"
    },
    "tags": []
   },
   "outputs": [
    {
     "name": "stdout",
     "output_type": "stream",
     "text": [
      "\n",
      "\n",
      "Starting fold 0\n",
      "\n",
      "\n",
      "\n",
      "[50]\tvalid's l2: 0.763786\tvalid's pearson_corr: 0.219715\n",
      "[100]\tvalid's l2: 0.762636\tvalid's pearson_corr: 0.223352\n",
      "[150]\tvalid's l2: 0.762338\tvalid's pearson_corr: 0.224723\n",
      "[200]\tvalid's l2: 0.762293\tvalid's pearson_corr: 0.225506\n",
      "[250]\tvalid's l2: 0.762593\tvalid's pearson_corr: 0.225455\n",
      "[300]\tvalid's l2: 0.76283\tvalid's pearson_corr: 0.225284\n",
      "[350]\tvalid's l2: 0.762957\tvalid's pearson_corr: 0.225177\n",
      "[400]\tvalid's l2: 0.763232\tvalid's pearson_corr: 0.224926\n",
      "[450]\tvalid's l2: 0.763644\tvalid's pearson_corr: 0.224203\n",
      "[500]\tvalid's l2: 0.763755\tvalid's pearson_corr: 0.224196\n",
      "[550]\tvalid's l2: 0.76405\tvalid's pearson_corr: 0.223733\n",
      "[600]\tvalid's l2: 0.764196\tvalid's pearson_corr: 0.223619\n",
      "[650]\tvalid's l2: 0.764406\tvalid's pearson_corr: 0.223316\n",
      "[700]\tvalid's l2: 0.764531\tvalid's pearson_corr: 0.223148\n",
      "[750]\tvalid's l2: 0.764691\tvalid's pearson_corr: 0.223038\n",
      "[800]\tvalid's l2: 0.764906\tvalid's pearson_corr: 0.222671\n",
      "[850]\tvalid's l2: 0.765048\tvalid's pearson_corr: 0.222501\n",
      "[900]\tvalid's l2: 0.765179\tvalid's pearson_corr: 0.222316\n",
      "[950]\tvalid's l2: 0.765391\tvalid's pearson_corr: 0.222037\n",
      "[1000]\tvalid's l2: 0.765633\tvalid's pearson_corr: 0.221702\n",
      "[1050]\tvalid's l2: 0.765793\tvalid's pearson_corr: 0.221527\n",
      "[1100]\tvalid's l2: 0.766021\tvalid's pearson_corr: 0.221193\n",
      "[1150]\tvalid's l2: 0.766142\tvalid's pearson_corr: 0.221065\n",
      "[1200]\tvalid's l2: 0.766343\tvalid's pearson_corr: 0.220803\n",
      "\n",
      "\n",
      "Starting fold 1\n",
      "\n",
      "\n",
      "\n",
      "[50]\tvalid's l2: 0.73708\tvalid's pearson_corr: 0.233372\n",
      "[100]\tvalid's l2: 0.73503\tvalid's pearson_corr: 0.236361\n",
      "[150]\tvalid's l2: 0.73453\tvalid's pearson_corr: 0.237696\n",
      "[200]\tvalid's l2: 0.734915\tvalid's pearson_corr: 0.236733\n",
      "[250]\tvalid's l2: 0.735363\tvalid's pearson_corr: 0.235721\n",
      "[300]\tvalid's l2: 0.736009\tvalid's pearson_corr: 0.234379\n",
      "[350]\tvalid's l2: 0.736602\tvalid's pearson_corr: 0.233141\n",
      "[400]\tvalid's l2: 0.736938\tvalid's pearson_corr: 0.232493\n",
      "[450]\tvalid's l2: 0.737566\tvalid's pearson_corr: 0.231054\n",
      "[500]\tvalid's l2: 0.738079\tvalid's pearson_corr: 0.229913\n",
      "[550]\tvalid's l2: 0.73867\tvalid's pearson_corr: 0.228654\n",
      "[600]\tvalid's l2: 0.738981\tvalid's pearson_corr: 0.22813\n",
      "[650]\tvalid's l2: 0.739457\tvalid's pearson_corr: 0.227244\n",
      "[700]\tvalid's l2: 0.739735\tvalid's pearson_corr: 0.226593\n",
      "[750]\tvalid's l2: 0.740065\tvalid's pearson_corr: 0.226007\n",
      "[800]\tvalid's l2: 0.740445\tvalid's pearson_corr: 0.225241\n",
      "[850]\tvalid's l2: 0.740785\tvalid's pearson_corr: 0.224505\n",
      "[900]\tvalid's l2: 0.741103\tvalid's pearson_corr: 0.223963\n",
      "[950]\tvalid's l2: 0.741682\tvalid's pearson_corr: 0.222887\n",
      "[1000]\tvalid's l2: 0.742136\tvalid's pearson_corr: 0.222106\n",
      "[1050]\tvalid's l2: 0.742586\tvalid's pearson_corr: 0.221311\n",
      "[1100]\tvalid's l2: 0.742823\tvalid's pearson_corr: 0.220839\n",
      "[1150]\tvalid's l2: 0.743395\tvalid's pearson_corr: 0.2198\n",
      "[1200]\tvalid's l2: 0.743828\tvalid's pearson_corr: 0.219047\n",
      "\n",
      "\n",
      "Starting fold 2\n",
      "\n",
      "\n",
      "\n",
      "[50]\tvalid's l2: 0.78032\tvalid's pearson_corr: 0.19126\n",
      "[100]\tvalid's l2: 0.779256\tvalid's pearson_corr: 0.19487\n",
      "[150]\tvalid's l2: 0.778619\tvalid's pearson_corr: 0.197374\n",
      "[200]\tvalid's l2: 0.777799\tvalid's pearson_corr: 0.20003\n",
      "[250]\tvalid's l2: 0.777712\tvalid's pearson_corr: 0.200669\n",
      "[300]\tvalid's l2: 0.777696\tvalid's pearson_corr: 0.201007\n",
      "[350]\tvalid's l2: 0.777746\tvalid's pearson_corr: 0.201223\n",
      "[400]\tvalid's l2: 0.77793\tvalid's pearson_corr: 0.200897\n",
      "[450]\tvalid's l2: 0.778233\tvalid's pearson_corr: 0.200409\n",
      "[500]\tvalid's l2: 0.778297\tvalid's pearson_corr: 0.200472\n",
      "[550]\tvalid's l2: 0.778435\tvalid's pearson_corr: 0.200326\n",
      "[600]\tvalid's l2: 0.778594\tvalid's pearson_corr: 0.199977\n",
      "[650]\tvalid's l2: 0.778754\tvalid's pearson_corr: 0.199689\n",
      "[700]\tvalid's l2: 0.778946\tvalid's pearson_corr: 0.199408\n",
      "[750]\tvalid's l2: 0.779051\tvalid's pearson_corr: 0.199339\n",
      "[800]\tvalid's l2: 0.7792\tvalid's pearson_corr: 0.199134\n",
      "[850]\tvalid's l2: 0.77933\tvalid's pearson_corr: 0.198917\n",
      "[900]\tvalid's l2: 0.779448\tvalid's pearson_corr: 0.19889\n",
      "[950]\tvalid's l2: 0.779605\tvalid's pearson_corr: 0.198663\n",
      "[1000]\tvalid's l2: 0.779813\tvalid's pearson_corr: 0.1983\n",
      "[1050]\tvalid's l2: 0.779856\tvalid's pearson_corr: 0.198262\n",
      "[1100]\tvalid's l2: 0.779914\tvalid's pearson_corr: 0.198296\n",
      "[1150]\tvalid's l2: 0.780216\tvalid's pearson_corr: 0.197797\n",
      "[1200]\tvalid's l2: 0.780338\tvalid's pearson_corr: 0.197603\n",
      "\n",
      "\n",
      "Starting fold 3\n",
      "\n",
      "\n",
      "\n",
      "[50]\tvalid's l2: 0.770505\tvalid's pearson_corr: 0.189932\n",
      "[100]\tvalid's l2: 0.769231\tvalid's pearson_corr: 0.192835\n",
      "[150]\tvalid's l2: 0.768522\tvalid's pearson_corr: 0.195063\n",
      "[200]\tvalid's l2: 0.768493\tvalid's pearson_corr: 0.195288\n",
      "[250]\tvalid's l2: 0.768837\tvalid's pearson_corr: 0.19462\n",
      "[300]\tvalid's l2: 0.769214\tvalid's pearson_corr: 0.193858\n",
      "[350]\tvalid's l2: 0.770048\tvalid's pearson_corr: 0.191886\n",
      "[400]\tvalid's l2: 0.770407\tvalid's pearson_corr: 0.191291\n",
      "[450]\tvalid's l2: 0.770929\tvalid's pearson_corr: 0.190273\n",
      "[500]\tvalid's l2: 0.771314\tvalid's pearson_corr: 0.189564\n",
      "[550]\tvalid's l2: 0.771845\tvalid's pearson_corr: 0.188557\n",
      "[600]\tvalid's l2: 0.772405\tvalid's pearson_corr: 0.18744\n",
      "[650]\tvalid's l2: 0.772769\tvalid's pearson_corr: 0.186844\n",
      "[700]\tvalid's l2: 0.773203\tvalid's pearson_corr: 0.185971\n",
      "[750]\tvalid's l2: 0.773634\tvalid's pearson_corr: 0.185231\n",
      "[800]\tvalid's l2: 0.774252\tvalid's pearson_corr: 0.184063\n",
      "[850]\tvalid's l2: 0.774727\tvalid's pearson_corr: 0.183282\n",
      "[900]\tvalid's l2: 0.7751\tvalid's pearson_corr: 0.182698\n",
      "[950]\tvalid's l2: 0.77556\tvalid's pearson_corr: 0.181851\n",
      "[1000]\tvalid's l2: 0.775887\tvalid's pearson_corr: 0.181335\n",
      "[1050]\tvalid's l2: 0.776379\tvalid's pearson_corr: 0.180481\n",
      "[1100]\tvalid's l2: 0.776758\tvalid's pearson_corr: 0.179869\n",
      "[1150]\tvalid's l2: 0.777054\tvalid's pearson_corr: 0.179443\n",
      "[1200]\tvalid's l2: 0.777409\tvalid's pearson_corr: 0.178956\n",
      "\n",
      "\n",
      "Starting fold 4\n",
      "\n",
      "\n",
      "\n",
      "[50]\tvalid's l2: 0.25407\tvalid's pearson_corr: 0.414297\n",
      "[100]\tvalid's l2: 0.252676\tvalid's pearson_corr: 0.415227\n",
      "[150]\tvalid's l2: 0.252556\tvalid's pearson_corr: 0.415679\n",
      "[200]\tvalid's l2: 0.252458\tvalid's pearson_corr: 0.416118\n",
      "[250]\tvalid's l2: 0.252522\tvalid's pearson_corr: 0.415938\n",
      "[300]\tvalid's l2: 0.252583\tvalid's pearson_corr: 0.415731\n",
      "[350]\tvalid's l2: 0.25271\tvalid's pearson_corr: 0.415299\n",
      "[400]\tvalid's l2: 0.252829\tvalid's pearson_corr: 0.414911\n",
      "[450]\tvalid's l2: 0.252904\tvalid's pearson_corr: 0.414624\n",
      "[500]\tvalid's l2: 0.252949\tvalid's pearson_corr: 0.414513\n",
      "[550]\tvalid's l2: 0.252931\tvalid's pearson_corr: 0.414686\n",
      "[600]\tvalid's l2: 0.253089\tvalid's pearson_corr: 0.414072\n",
      "[650]\tvalid's l2: 0.253163\tvalid's pearson_corr: 0.413796\n",
      "[700]\tvalid's l2: 0.253242\tvalid's pearson_corr: 0.413482\n",
      "[750]\tvalid's l2: 0.253312\tvalid's pearson_corr: 0.413247\n",
      "[800]\tvalid's l2: 0.253449\tvalid's pearson_corr: 0.412748\n",
      "[850]\tvalid's l2: 0.253489\tvalid's pearson_corr: 0.412585\n",
      "[900]\tvalid's l2: 0.253534\tvalid's pearson_corr: 0.412392\n",
      "[950]\tvalid's l2: 0.253573\tvalid's pearson_corr: 0.412234\n",
      "[1000]\tvalid's l2: 0.253661\tvalid's pearson_corr: 0.411971\n",
      "[1050]\tvalid's l2: 0.253715\tvalid's pearson_corr: 0.411744\n",
      "[1100]\tvalid's l2: 0.253789\tvalid's pearson_corr: 0.411453\n",
      "[1150]\tvalid's l2: 0.25383\tvalid's pearson_corr: 0.411296\n",
      "[1200]\tvalid's l2: 0.253858\tvalid's pearson_corr: 0.411231\n"
     ]
    },
    {
     "data": {
      "text/plain": [
       "21"
      ]
     },
     "execution_count": 15,
     "metadata": {},
     "output_type": "execute_result"
    }
   ],
   "source": [
    "#spawn process to realase memory at the end\n",
    "proc = mp.Process(target=train_lgb)\n",
    "proc.start()\n",
    "proc.join()\n",
    "\n",
    "gc.collect()"
   ]
  },
  {
   "cell_type": "markdown",
   "id": "c33455d4",
   "metadata": {
    "papermill": {
     "duration": 0.211122,
     "end_time": "2022-04-17T21:47:12.917231",
     "exception": false,
     "start_time": "2022-04-17T21:47:12.706109",
     "status": "completed"
    },
    "tags": []
   },
   "source": [
    "# Find best epoch"
   ]
  },
  {
   "cell_type": "code",
   "execution_count": 16,
   "id": "23520d21",
   "metadata": {
    "execution": {
     "iopub.execute_input": "2022-04-17T21:47:13.342338Z",
     "iopub.status.busy": "2022-04-17T21:47:13.341990Z",
     "iopub.status.idle": "2022-04-17T21:47:14.380097Z",
     "shell.execute_reply": "2022-04-17T21:47:14.379221Z"
    },
    "papermill": {
     "duration": 1.253817,
     "end_time": "2022-04-17T21:47:14.382899",
     "exception": false,
     "start_time": "2022-04-17T21:47:13.129082",
     "status": "completed"
    },
    "tags": []
   },
   "outputs": [],
   "source": [
    "with open('model_list_lgb.pkl', 'rb') as file:\n",
    "    model_list_lgb = pickle.load(file)\n",
    "\n",
    "with open('progress_list_lgb.pkl', 'rb') as file:\n",
    "    progress_list_lgb = pickle.load(file)"
   ]
  },
  {
   "cell_type": "code",
   "execution_count": 17,
   "id": "a452b1a9",
   "metadata": {
    "execution": {
     "iopub.execute_input": "2022-04-17T21:47:14.826989Z",
     "iopub.status.busy": "2022-04-17T21:47:14.826659Z",
     "iopub.status.idle": "2022-04-17T21:47:15.041909Z",
     "shell.execute_reply": "2022-04-17T21:47:15.040754Z"
    },
    "papermill": {
     "duration": 0.438932,
     "end_time": "2022-04-17T21:47:15.044122",
     "exception": false,
     "start_time": "2022-04-17T21:47:14.605190",
     "status": "completed"
    },
    "tags": []
   },
   "outputs": [
    {
     "name": "stdout",
     "output_type": "stream",
     "text": [
      "Best epoch: 209, CV-Corr: 0.255\n"
     ]
    },
    {
     "data": {
      "text/plain": [
       "0"
      ]
     },
     "execution_count": 17,
     "metadata": {},
     "output_type": "execute_result"
    }
   ],
   "source": [
    "progress_dict_lgb = {\n",
    "        'time': range(N_ROUND),\n",
    "    }\n",
    "progress_dict_lgb.update(\n",
    "        {\n",
    "            f'corr_fold_{i}': progress_list_lgb[i]['valid']['pearson_corr']\n",
    "            for i in range(N_FOLD)\n",
    "        }\n",
    "    )\n",
    "\n",
    "progress_df_lgb = pd.DataFrame(\n",
    "    progress_dict_lgb\n",
    ")\n",
    "\n",
    "progress_df_lgb['average_corr'] = progress_df_lgb.loc[:, ['corr' in x for x in progress_df_lgb.columns]].mean(axis =1)\n",
    "\n",
    "best_epoch_lgb = int(progress_df_lgb['average_corr'].argmax())\n",
    "best_score_lgb = progress_df_lgb['average_corr'].max()\n",
    "\n",
    "print(f'Best epoch: {best_epoch_lgb}, CV-Corr: {best_score_lgb:.3f}')\n",
    "\n",
    "best_result_lgb = {\n",
    "    'best_epoch': best_epoch_lgb+1,\n",
    "    'best_score': best_score_lgb\n",
    "}\n",
    "\n",
    "gc.collect()\n"
   ]
  },
  {
   "cell_type": "code",
   "execution_count": 18,
   "id": "1aecbcbc",
   "metadata": {
    "execution": {
     "iopub.execute_input": "2022-04-17T21:47:15.468687Z",
     "iopub.status.busy": "2022-04-17T21:47:15.467788Z",
     "iopub.status.idle": "2022-04-17T21:47:16.348378Z",
     "shell.execute_reply": "2022-04-17T21:47:16.347483Z"
    },
    "papermill": {
     "duration": 1.094971,
     "end_time": "2022-04-17T21:47:16.350979",
     "exception": false,
     "start_time": "2022-04-17T21:47:15.256008",
     "status": "completed"
    },
    "tags": []
   },
   "outputs": [
    {
     "name": "stdout",
     "output_type": "stream",
     "text": [
      "This version of the API is not optimized and should not be used to estimate the runtime of your code on the hidden test set.\n"
     ]
    },
    {
     "name": "stderr",
     "output_type": "stream",
     "text": [
      "/opt/conda/lib/python3.7/site-packages/ipykernel_launcher.py:5: PerformanceWarning: DataFrame is highly fragmented.  This is usually the result of calling `frame.insert` many times, which has poor performance.  Consider joining all columns at once using pd.concat(axis=1) instead.  To get a de-fragmented frame, use `newframe = frame.copy()`\n",
      "  \"\"\"\n"
     ]
    }
   ],
   "source": [
    "iter_test = env.iter_test()    # an iterator which loops over the test set and sample submission\n",
    "for (test_df, sample_prediction_df) in iter_test:\n",
    "    test_values = inference_preprocess(test_df)[used_feature].to_numpy(dtype='float16')\n",
    "    \n",
    "    pred = [\n",
    "        np.reshape(model.predict(test_values, num_iteration = best_result_lgb['best_epoch']), (-1)) for model in model_list_lgb\n",
    "    ]\n",
    "\n",
    "    pred_blend = np.stack(pred).mean(axis=0)\n",
    "\n",
    "\n",
    "    sample_prediction_df['target'] = pred_blend  # make your predictions here\n",
    "    env.predict(sample_prediction_df)   # register your predictions\n"
   ]
  }
 ],
 "metadata": {
  "kernelspec": {
   "display_name": "Python 3",
   "language": "python",
   "name": "python3"
  },
  "language_info": {
   "codemirror_mode": {
    "name": "ipython",
    "version": 3
   },
   "file_extension": ".py",
   "mimetype": "text/x-python",
   "name": "python",
   "nbconvert_exporter": "python",
   "pygments_lexer": "ipython3",
   "version": "3.7.12"
  },
  "papermill": {
   "default_parameters": {},
   "duration": 12389.491491,
   "end_time": "2022-04-17T21:47:19.584355",
   "environment_variables": {},
   "exception": null,
   "input_path": "__notebook__.ipynb",
   "output_path": "__notebook__.ipynb",
   "parameters": {},
   "start_time": "2022-04-17T18:20:50.092864",
   "version": "2.3.4"
  }
 },
 "nbformat": 4,
 "nbformat_minor": 5
}
