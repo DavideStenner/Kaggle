{
 "cells": [
  {
   "cell_type": "code",
   "execution_count": 1,
   "id": "08299f7d",
   "metadata": {
    "_cell_guid": "b1076dfc-b9ad-4769-8c92-a6c4dae69d19",
    "_uuid": "8f2839f25d086af736a60e9eeb907d3b93b6e0e5",
    "execution": {
     "iopub.execute_input": "2021-10-18T09:27:25.640562Z",
     "iopub.status.busy": "2021-10-18T09:27:25.639036Z",
     "iopub.status.idle": "2021-10-18T09:27:26.514940Z",
     "shell.execute_reply": "2021-10-18T09:27:26.513873Z",
     "shell.execute_reply.started": "2021-10-18T08:05:19.754366Z"
    },
    "papermill": {
     "duration": 0.891886,
     "end_time": "2021-10-18T09:27:26.515094",
     "exception": false,
     "start_time": "2021-10-18T09:27:25.623208",
     "status": "completed"
    },
    "tags": []
   },
   "outputs": [],
   "source": [
    "import pandas as pd\n",
    "import numpy as np\n",
    "import os\n",
    "import gc\n",
    "from tqdm.notebook import tqdm\n",
    "from sklearn.model_selection import StratifiedKFold\n",
    "import pickle\n",
    "\n",
    "from utilities import (\n",
    "    RANDOM_STATE, TARGET_COL, CAT_TRESHOLD, N_FOLD, FOLD_STRAT_NAME, REDUCED_FOLD_NAME,\n",
    "    reduce_mem_usage_sd\n",
    ")\n",
    "    \n",
    "MAX_BINS = 256\n",
    "INPUT_PATH = '../input/tabular-playground-series-oct-2021'"
   ]
  },
  {
   "cell_type": "code",
   "execution_count": 2,
   "id": "42bc2c2b",
   "metadata": {
    "execution": {
     "iopub.execute_input": "2021-10-18T09:27:26.539368Z",
     "iopub.status.busy": "2021-10-18T09:27:26.538853Z",
     "iopub.status.idle": "2021-10-18T09:28:25.556530Z",
     "shell.execute_reply": "2021-10-18T09:28:25.556017Z",
     "shell.execute_reply.started": "2021-10-18T08:04:07.233122Z"
    },
    "papermill": {
     "duration": 59.030505,
     "end_time": "2021-10-18T09:28:25.556680",
     "exception": false,
     "start_time": "2021-10-18T09:27:26.526175",
     "status": "completed"
    },
    "tags": []
   },
   "outputs": [],
   "source": [
    "train = pd.read_csv(\n",
    "    os.path.join(INPUT_PATH, 'train.csv')\n",
    ").drop('id', axis = 1)"
   ]
  },
  {
   "cell_type": "code",
   "execution_count": 3,
   "id": "fd90a5c9",
   "metadata": {
    "execution": {
     "iopub.execute_input": "2021-10-18T09:28:25.579306Z",
     "iopub.status.busy": "2021-10-18T09:28:25.578807Z",
     "iopub.status.idle": "2021-10-18T09:28:53.244959Z",
     "shell.execute_reply": "2021-10-18T09:28:53.244301Z",
     "shell.execute_reply.started": "2021-10-18T08:04:41.770436Z"
    },
    "papermill": {
     "duration": 27.678849,
     "end_time": "2021-10-18T09:28:53.245114",
     "exception": false,
     "start_time": "2021-10-18T09:28:25.566265",
     "status": "completed"
    },
    "tags": []
   },
   "outputs": [],
   "source": [
    "test = pd.read_csv(\n",
    "    os.path.join(INPUT_PATH, 'test.csv')\n",
    ").drop('id', axis = 1)"
   ]
  },
  {
   "cell_type": "markdown",
   "id": "12d3807a",
   "metadata": {
    "papermill": {
     "duration": 0.009069,
     "end_time": "2021-10-18T09:28:53.263914",
     "exception": false,
     "start_time": "2021-10-18T09:28:53.254845",
     "status": "completed"
    },
    "tags": []
   },
   "source": [
    "# Feature Engineering"
   ]
  },
  {
   "cell_type": "code",
   "execution_count": 4,
   "id": "f2596f54",
   "metadata": {
    "execution": {
     "iopub.execute_input": "2021-10-18T09:28:53.291828Z",
     "iopub.status.busy": "2021-10-18T09:28:53.291010Z",
     "iopub.status.idle": "2021-10-18T09:28:59.955134Z",
     "shell.execute_reply": "2021-10-18T09:28:59.954649Z",
     "shell.execute_reply.started": "2021-10-18T08:04:57.287136Z"
    },
    "papermill": {
     "duration": 6.682363,
     "end_time": "2021-10-18T09:28:59.955282",
     "exception": false,
     "start_time": "2021-10-18T09:28:53.272919",
     "status": "completed"
    },
    "tags": []
   },
   "outputs": [
    {
     "data": {
      "text/plain": [
       "0"
      ]
     },
     "execution_count": 4,
     "metadata": {},
     "output_type": "execute_result"
    }
   ],
   "source": [
    "FEATURE = [x for x in train.columns if x != TARGET_COL]\n",
    "CAT_COL = [x for x in FEATURE if train[x].nunique()<= CAT_TRESHOLD]\n",
    "\n",
    "NUMERIC_COL = [x for x in FEATURE if x not in CAT_COL]\n",
    "\n",
    "gc.collect()"
   ]
  },
  {
   "cell_type": "code",
   "execution_count": 5,
   "id": "1010cf3a",
   "metadata": {
    "execution": {
     "iopub.execute_input": "2021-10-18T09:28:59.981732Z",
     "iopub.status.busy": "2021-10-18T09:28:59.980338Z",
     "iopub.status.idle": "2021-10-18T09:30:57.360195Z",
     "shell.execute_reply": "2021-10-18T09:30:57.360599Z",
     "shell.execute_reply.started": "2021-10-18T08:05:22.138433Z"
    },
    "papermill": {
     "duration": 117.395287,
     "end_time": "2021-10-18T09:30:57.360766",
     "exception": false,
     "start_time": "2021-10-18T09:28:59.965479",
     "status": "completed"
    },
    "tags": []
   },
   "outputs": [
    {
     "data": {
      "application/vnd.jupyter.widget-view+json": {
       "model_id": "8e1143b443064f7a9bd647cacfafb750",
       "version_major": 2,
       "version_minor": 0
      },
      "text/plain": [
       "  0%|          | 0/240 [00:00<?, ?it/s]"
      ]
     },
     "metadata": {},
     "output_type": "display_data"
    },
    {
     "name": "stdout",
     "output_type": "stream",
     "text": [
      "CPU times: user 57.8 s, sys: 58.2 s, total: 1min 55s\n",
      "Wall time: 1min 57s\n"
     ]
    },
    {
     "data": {
      "text/html": [
       "<div>\n",
       "<style scoped>\n",
       "    .dataframe tbody tr th:only-of-type {\n",
       "        vertical-align: middle;\n",
       "    }\n",
       "\n",
       "    .dataframe tbody tr th {\n",
       "        vertical-align: top;\n",
       "    }\n",
       "\n",
       "    .dataframe thead th {\n",
       "        text-align: right;\n",
       "    }\n",
       "</style>\n",
       "<table border=\"1\" class=\"dataframe\">\n",
       "  <thead>\n",
       "    <tr style=\"text-align: right;\">\n",
       "      <th></th>\n",
       "      <th>f0</th>\n",
       "      <th>f1</th>\n",
       "      <th>f2</th>\n",
       "      <th>f3</th>\n",
       "      <th>f4</th>\n",
       "      <th>f5</th>\n",
       "      <th>f6</th>\n",
       "      <th>f7</th>\n",
       "      <th>f8</th>\n",
       "      <th>f9</th>\n",
       "      <th>...</th>\n",
       "      <th>f276</th>\n",
       "      <th>f277</th>\n",
       "      <th>f278</th>\n",
       "      <th>f279</th>\n",
       "      <th>f280</th>\n",
       "      <th>f281</th>\n",
       "      <th>f282</th>\n",
       "      <th>f283</th>\n",
       "      <th>f284</th>\n",
       "      <th>target</th>\n",
       "    </tr>\n",
       "  </thead>\n",
       "  <tbody>\n",
       "    <tr>\n",
       "      <th>0</th>\n",
       "      <td>52</td>\n",
       "      <td>105</td>\n",
       "      <td>45</td>\n",
       "      <td>57</td>\n",
       "      <td>108</td>\n",
       "      <td>121</td>\n",
       "      <td>105</td>\n",
       "      <td>156</td>\n",
       "      <td>136</td>\n",
       "      <td>37</td>\n",
       "      <td>...</td>\n",
       "      <td>0</td>\n",
       "      <td>1</td>\n",
       "      <td>0</td>\n",
       "      <td>0</td>\n",
       "      <td>0</td>\n",
       "      <td>0</td>\n",
       "      <td>0</td>\n",
       "      <td>0</td>\n",
       "      <td>0</td>\n",
       "      <td>1</td>\n",
       "    </tr>\n",
       "    <tr>\n",
       "      <th>1</th>\n",
       "      <td>46</td>\n",
       "      <td>121</td>\n",
       "      <td>3</td>\n",
       "      <td>54</td>\n",
       "      <td>158</td>\n",
       "      <td>113</td>\n",
       "      <td>58</td>\n",
       "      <td>175</td>\n",
       "      <td>72</td>\n",
       "      <td>61</td>\n",
       "      <td>...</td>\n",
       "      <td>0</td>\n",
       "      <td>1</td>\n",
       "      <td>0</td>\n",
       "      <td>0</td>\n",
       "      <td>0</td>\n",
       "      <td>0</td>\n",
       "      <td>0</td>\n",
       "      <td>0</td>\n",
       "      <td>0</td>\n",
       "      <td>1</td>\n",
       "    </tr>\n",
       "    <tr>\n",
       "      <th>2</th>\n",
       "      <td>46</td>\n",
       "      <td>78</td>\n",
       "      <td>83</td>\n",
       "      <td>53</td>\n",
       "      <td>155</td>\n",
       "      <td>79</td>\n",
       "      <td>126</td>\n",
       "      <td>192</td>\n",
       "      <td>137</td>\n",
       "      <td>73</td>\n",
       "      <td>...</td>\n",
       "      <td>0</td>\n",
       "      <td>0</td>\n",
       "      <td>0</td>\n",
       "      <td>1</td>\n",
       "      <td>1</td>\n",
       "      <td>0</td>\n",
       "      <td>0</td>\n",
       "      <td>0</td>\n",
       "      <td>0</td>\n",
       "      <td>1</td>\n",
       "    </tr>\n",
       "    <tr>\n",
       "      <th>3</th>\n",
       "      <td>46</td>\n",
       "      <td>126</td>\n",
       "      <td>2</td>\n",
       "      <td>57</td>\n",
       "      <td>194</td>\n",
       "      <td>112</td>\n",
       "      <td>110</td>\n",
       "      <td>198</td>\n",
       "      <td>123</td>\n",
       "      <td>66</td>\n",
       "      <td>...</td>\n",
       "      <td>0</td>\n",
       "      <td>0</td>\n",
       "      <td>0</td>\n",
       "      <td>0</td>\n",
       "      <td>1</td>\n",
       "      <td>0</td>\n",
       "      <td>0</td>\n",
       "      <td>0</td>\n",
       "      <td>0</td>\n",
       "      <td>1</td>\n",
       "    </tr>\n",
       "    <tr>\n",
       "      <th>4</th>\n",
       "      <td>45</td>\n",
       "      <td>126</td>\n",
       "      <td>3</td>\n",
       "      <td>140</td>\n",
       "      <td>160</td>\n",
       "      <td>143</td>\n",
       "      <td>29</td>\n",
       "      <td>143</td>\n",
       "      <td>19</td>\n",
       "      <td>40</td>\n",
       "      <td>...</td>\n",
       "      <td>0</td>\n",
       "      <td>1</td>\n",
       "      <td>1</td>\n",
       "      <td>0</td>\n",
       "      <td>1</td>\n",
       "      <td>0</td>\n",
       "      <td>0</td>\n",
       "      <td>1</td>\n",
       "      <td>0</td>\n",
       "      <td>1</td>\n",
       "    </tr>\n",
       "  </tbody>\n",
       "</table>\n",
       "<p>5 rows × 286 columns</p>\n",
       "</div>"
      ],
      "text/plain": [
       "   f0   f1  f2   f3   f4   f5   f6   f7   f8  f9  ... f276 f277 f278 f279  \\\n",
       "0  52  105  45   57  108  121  105  156  136  37  ...    0    1    0    0   \n",
       "1  46  121   3   54  158  113   58  175   72  61  ...    0    1    0    0   \n",
       "2  46   78  83   53  155   79  126  192  137  73  ...    0    0    0    1   \n",
       "3  46  126   2   57  194  112  110  198  123  66  ...    0    0    0    0   \n",
       "4  45  126   3  140  160  143   29  143   19  40  ...    0    1    1    0   \n",
       "\n",
       "  f280 f281 f282 f283 f284 target  \n",
       "0    0    0    0    0    0      1  \n",
       "1    0    0    0    0    0      1  \n",
       "2    1    0    0    0    0      1  \n",
       "3    1    0    0    0    0      1  \n",
       "4    1    0    0    1    0      1  \n",
       "\n",
       "[5 rows x 286 columns]"
      ]
     },
     "execution_count": 5,
     "metadata": {},
     "output_type": "execute_result"
    }
   ],
   "source": [
    "%%time\n",
    "\n",
    "n = 0\n",
    "bins_list = []\n",
    "\n",
    "bins_list.append(-np.inf)\n",
    "\n",
    "for i in range(1,MAX_BINS):\n",
    "    n += 1./MAX_BINS\n",
    "    bins_list.append(n)\n",
    "\n",
    "bins_list.append(np.inf)\n",
    "\n",
    "labels = [i for i in range(MAX_BINS)]\n",
    "\n",
    "for col in tqdm(NUMERIC_COL):\n",
    "    train[col] = pd.cut(train[col], bins=bins_list, labels=labels).values\n",
    "    test[col] = pd.cut(test[col], bins=bins_list, labels=labels).values\n",
    "    \n",
    "train.head()\n"
   ]
  },
  {
   "cell_type": "code",
   "execution_count": 6,
   "id": "d98ca3f6",
   "metadata": {
    "execution": {
     "iopub.execute_input": "2021-10-18T09:30:57.389087Z",
     "iopub.status.busy": "2021-10-18T09:30:57.388541Z",
     "iopub.status.idle": "2021-10-18T09:31:13.170774Z",
     "shell.execute_reply": "2021-10-18T09:31:13.170299Z",
     "shell.execute_reply.started": "2021-10-18T08:10:00.634139Z"
    },
    "papermill": {
     "duration": 15.799343,
     "end_time": "2021-10-18T09:31:13.170904",
     "exception": false,
     "start_time": "2021-10-18T09:30:57.371561",
     "status": "completed"
    },
    "tags": []
   },
   "outputs": [
    {
     "data": {
      "text/plain": [
       "0"
      ]
     },
     "execution_count": 6,
     "metadata": {},
     "output_type": "execute_result"
    }
   ],
   "source": [
    "for col in FEATURE:\n",
    "    train[col] = train[col].astype(np.int32)\n",
    "    test[col] = test[col].astype(np.int32)\n",
    "    \n",
    "    train_un = np.sort(np.unique(train[col]))\n",
    "    test_un = np.sort(np.unique(test[col]))\n",
    "    \n",
    "    assert (np.isnan(test_un).mean() == 0.) & (np.isnan(train_un).mean() == 0.)\n",
    "    \n",
    "    #every integer\n",
    "    assert all(isinstance(x, (int, np.int32, np.int64)) for x in train_un)\n",
    "    assert all(isinstance(x, (int, np.int32, np.int64)) for x in test_un)\n",
    "\n",
    "gc.collect()"
   ]
  },
  {
   "cell_type": "markdown",
   "id": "99d6f533",
   "metadata": {
    "papermill": {
     "duration": 0.010912,
     "end_time": "2021-10-18T09:31:13.192710",
     "exception": false,
     "start_time": "2021-10-18T09:31:13.181798",
     "status": "completed"
    },
    "tags": []
   },
   "source": [
    "# Fold"
   ]
  },
  {
   "cell_type": "code",
   "execution_count": 7,
   "id": "22073977",
   "metadata": {
    "execution": {
     "iopub.execute_input": "2021-10-18T09:31:13.220464Z",
     "iopub.status.busy": "2021-10-18T09:31:13.219912Z",
     "iopub.status.idle": "2021-10-18T09:31:14.442989Z",
     "shell.execute_reply": "2021-10-18T09:31:14.442538Z",
     "shell.execute_reply.started": "2021-10-18T08:11:27.936334Z"
    },
    "papermill": {
     "duration": 1.238898,
     "end_time": "2021-10-18T09:31:14.443119",
     "exception": false,
     "start_time": "2021-10-18T09:31:13.204221",
     "status": "completed"
    },
    "tags": []
   },
   "outputs": [
    {
     "name": "stderr",
     "output_type": "stream",
     "text": [
      "/opt/conda/lib/python3.7/site-packages/ipykernel_launcher.py:3: PerformanceWarning: DataFrame is highly fragmented.  This is usually the result of calling `frame.insert` many times, which has poor performance.  Consider joining all columns at once using pd.concat(axis=1) instead.  To get a de-fragmented frame, use `newframe = frame.copy()`\n",
      "  This is separate from the ipykernel package so we can avoid doing imports until\n"
     ]
    }
   ],
   "source": [
    "#DEFINE FOLD\n",
    "strat_fold = StratifiedKFold(n_splits = N_FOLD, random_state = RANDOM_STATE, shuffle = True)\n",
    "train[FOLD_STRAT_NAME] = -1\n",
    "\n",
    "for i, (train_index, test_index) in enumerate(strat_fold.split(train[FEATURE], train[TARGET_COL])):\n",
    "    train.loc[test_index, FOLD_STRAT_NAME] = i"
   ]
  },
  {
   "cell_type": "markdown",
   "id": "99e05e5e",
   "metadata": {
    "papermill": {
     "duration": 0.010867,
     "end_time": "2021-10-18T09:31:14.465287",
     "exception": false,
     "start_time": "2021-10-18T09:31:14.454420",
     "status": "completed"
    },
    "tags": []
   },
   "source": [
    "# Reduced FOLD"
   ]
  },
  {
   "cell_type": "code",
   "execution_count": 8,
   "id": "e41cf871",
   "metadata": {
    "execution": {
     "iopub.execute_input": "2021-10-18T09:31:14.494885Z",
     "iopub.status.busy": "2021-10-18T09:31:14.492548Z",
     "iopub.status.idle": "2021-10-18T09:31:15.040173Z",
     "shell.execute_reply": "2021-10-18T09:31:15.039692Z",
     "shell.execute_reply.started": "2021-10-18T08:11:31.248951Z"
    },
    "papermill": {
     "duration": 0.564007,
     "end_time": "2021-10-18T09:31:15.040308",
     "exception": false,
     "start_time": "2021-10-18T09:31:14.476301",
     "status": "completed"
    },
    "tags": []
   },
   "outputs": [],
   "source": [
    "#DEFINE FOLD\n",
    "strat_fold = StratifiedKFold(n_splits = N_FOLD * 4, random_state = RANDOM_STATE, shuffle = True)\n",
    "train[REDUCED_FOLD_NAME] = -1\n",
    "\n",
    "for i, (train_index, test_index) in enumerate(strat_fold.split(train[FEATURE], train[TARGET_COL])):\n",
    "    \n",
    "    #train\n",
    "    if i <= 1:\n",
    "        train.loc[test_index, REDUCED_FOLD_NAME] = 0\n",
    "        \n",
    "    #test\n",
    "    if (i == 2):\n",
    "        train.loc[test_index, REDUCED_FOLD_NAME] = 1"
   ]
  },
  {
   "cell_type": "markdown",
   "id": "81517f1a",
   "metadata": {
    "papermill": {
     "duration": 0.011407,
     "end_time": "2021-10-18T09:31:15.064284",
     "exception": false,
     "start_time": "2021-10-18T09:31:15.052877",
     "status": "completed"
    },
    "tags": []
   },
   "source": [
    "# Save unscaled data as pickle"
   ]
  },
  {
   "cell_type": "code",
   "execution_count": 9,
   "id": "e1d4cd15",
   "metadata": {
    "execution": {
     "iopub.execute_input": "2021-10-18T09:31:15.929078Z",
     "iopub.status.busy": "2021-10-18T09:31:15.928090Z",
     "iopub.status.idle": "2021-10-18T09:31:17.910959Z",
     "shell.execute_reply": "2021-10-18T09:31:17.912172Z",
     "shell.execute_reply.started": "2021-10-18T08:11:38.842522Z"
    },
    "papermill": {
     "duration": 2.83675,
     "end_time": "2021-10-18T09:31:17.912431",
     "exception": false,
     "start_time": "2021-10-18T09:31:15.075681",
     "status": "completed"
    },
    "tags": []
   },
   "outputs": [
    {
     "data": {
      "text/plain": [
       "0"
      ]
     },
     "execution_count": 9,
     "metadata": {},
     "output_type": "execute_result"
    }
   ],
   "source": [
    "train.to_pickle('train_unscaled.pkl')\n",
    "test.to_pickle('test_unscaled.pkl')\n",
    "\n",
    "gc.collect()"
   ]
  },
  {
   "cell_type": "code",
   "execution_count": 10,
   "id": "d4e8f995",
   "metadata": {
    "execution": {
     "iopub.execute_input": "2021-10-18T09:31:17.993709Z",
     "iopub.status.busy": "2021-10-18T09:31:17.990748Z",
     "iopub.status.idle": "2021-10-18T09:31:17.994628Z",
     "shell.execute_reply": "2021-10-18T09:31:17.991893Z",
     "shell.execute_reply.started": "2021-10-18T08:11:47.543686Z"
    },
    "papermill": {
     "duration": 0.057738,
     "end_time": "2021-10-18T09:31:17.994853",
     "exception": false,
     "start_time": "2021-10-18T09:31:17.937115",
     "status": "completed"
    },
    "tags": []
   },
   "outputs": [],
   "source": [
    "feature_dic = {\n",
    "    'feature': FEATURE,\n",
    "    'categorical' : CAT_COL,\n",
    "    'numerical': NUMERIC_COL\n",
    "}\n",
    "\n",
    "with open('feature_dic.pkl', 'wb') as file_name:\n",
    "    pickle.dump(feature_dic, file_name)"
   ]
  }
 ],
 "metadata": {
  "kernelspec": {
   "display_name": "Python 3",
   "language": "python",
   "name": "python3"
  },
  "language_info": {
   "codemirror_mode": {
    "name": "ipython",
    "version": 3
   },
   "file_extension": ".py",
   "mimetype": "text/x-python",
   "name": "python",
   "nbconvert_exporter": "python",
   "pygments_lexer": "ipython3",
   "version": "3.7.10"
  },
  "papermill": {
   "default_parameters": {},
   "duration": 241.065954,
   "end_time": "2021-10-18T09:31:18.961060",
   "environment_variables": {},
   "exception": null,
   "input_path": "__notebook__.ipynb",
   "output_path": "__notebook__.ipynb",
   "parameters": {},
   "start_time": "2021-10-18T09:27:17.895106",
   "version": "2.3.3"
  },
  "widgets": {
   "application/vnd.jupyter.widget-state+json": {
    "state": {
     "128fe022e4bf4158ae2a159aec0f1dab": {
      "model_module": "@jupyter-widgets/controls",
      "model_module_version": "1.5.0",
      "model_name": "HTMLModel",
      "state": {
       "_dom_classes": [],
       "_model_module": "@jupyter-widgets/controls",
       "_model_module_version": "1.5.0",
       "_model_name": "HTMLModel",
       "_view_count": null,
       "_view_module": "@jupyter-widgets/controls",
       "_view_module_version": "1.5.0",
       "_view_name": "HTMLView",
       "description": "",
       "description_tooltip": null,
       "layout": "IPY_MODEL_43d90e7505ba4ceaadb31d471dd307d7",
       "placeholder": "​",
       "style": "IPY_MODEL_f0da71412f4b4b2d80bbc5ed338d6889",
       "value": "100%"
      }
     },
     "13b04c8ca0314447a2d889e4474b50b2": {
      "model_module": "@jupyter-widgets/controls",
      "model_module_version": "1.5.0",
      "model_name": "ProgressStyleModel",
      "state": {
       "_model_module": "@jupyter-widgets/controls",
       "_model_module_version": "1.5.0",
       "_model_name": "ProgressStyleModel",
       "_view_count": null,
       "_view_module": "@jupyter-widgets/base",
       "_view_module_version": "1.2.0",
       "_view_name": "StyleView",
       "bar_color": null,
       "description_width": ""
      }
     },
     "43d90e7505ba4ceaadb31d471dd307d7": {
      "model_module": "@jupyter-widgets/base",
      "model_module_version": "1.2.0",
      "model_name": "LayoutModel",
      "state": {
       "_model_module": "@jupyter-widgets/base",
       "_model_module_version": "1.2.0",
       "_model_name": "LayoutModel",
       "_view_count": null,
       "_view_module": "@jupyter-widgets/base",
       "_view_module_version": "1.2.0",
       "_view_name": "LayoutView",
       "align_content": null,
       "align_items": null,
       "align_self": null,
       "border": null,
       "bottom": null,
       "display": null,
       "flex": null,
       "flex_flow": null,
       "grid_area": null,
       "grid_auto_columns": null,
       "grid_auto_flow": null,
       "grid_auto_rows": null,
       "grid_column": null,
       "grid_gap": null,
       "grid_row": null,
       "grid_template_areas": null,
       "grid_template_columns": null,
       "grid_template_rows": null,
       "height": null,
       "justify_content": null,
       "justify_items": null,
       "left": null,
       "margin": null,
       "max_height": null,
       "max_width": null,
       "min_height": null,
       "min_width": null,
       "object_fit": null,
       "object_position": null,
       "order": null,
       "overflow": null,
       "overflow_x": null,
       "overflow_y": null,
       "padding": null,
       "right": null,
       "top": null,
       "visibility": null,
       "width": null
      }
     },
     "5dcc7fd0c0614bc6bc51f60f259d9b27": {
      "model_module": "@jupyter-widgets/controls",
      "model_module_version": "1.5.0",
      "model_name": "FloatProgressModel",
      "state": {
       "_dom_classes": [],
       "_model_module": "@jupyter-widgets/controls",
       "_model_module_version": "1.5.0",
       "_model_name": "FloatProgressModel",
       "_view_count": null,
       "_view_module": "@jupyter-widgets/controls",
       "_view_module_version": "1.5.0",
       "_view_name": "ProgressView",
       "bar_style": "success",
       "description": "",
       "description_tooltip": null,
       "layout": "IPY_MODEL_cda36f5bcced4759ac2257e85896b8cf",
       "max": 240.0,
       "min": 0.0,
       "orientation": "horizontal",
       "style": "IPY_MODEL_13b04c8ca0314447a2d889e4474b50b2",
       "value": 240.0
      }
     },
     "6e5a5b68e0d845008432d8468e6e415d": {
      "model_module": "@jupyter-widgets/base",
      "model_module_version": "1.2.0",
      "model_name": "LayoutModel",
      "state": {
       "_model_module": "@jupyter-widgets/base",
       "_model_module_version": "1.2.0",
       "_model_name": "LayoutModel",
       "_view_count": null,
       "_view_module": "@jupyter-widgets/base",
       "_view_module_version": "1.2.0",
       "_view_name": "LayoutView",
       "align_content": null,
       "align_items": null,
       "align_self": null,
       "border": null,
       "bottom": null,
       "display": null,
       "flex": null,
       "flex_flow": null,
       "grid_area": null,
       "grid_auto_columns": null,
       "grid_auto_flow": null,
       "grid_auto_rows": null,
       "grid_column": null,
       "grid_gap": null,
       "grid_row": null,
       "grid_template_areas": null,
       "grid_template_columns": null,
       "grid_template_rows": null,
       "height": null,
       "justify_content": null,
       "justify_items": null,
       "left": null,
       "margin": null,
       "max_height": null,
       "max_width": null,
       "min_height": null,
       "min_width": null,
       "object_fit": null,
       "object_position": null,
       "order": null,
       "overflow": null,
       "overflow_x": null,
       "overflow_y": null,
       "padding": null,
       "right": null,
       "top": null,
       "visibility": null,
       "width": null
      }
     },
     "8e1143b443064f7a9bd647cacfafb750": {
      "model_module": "@jupyter-widgets/controls",
      "model_module_version": "1.5.0",
      "model_name": "HBoxModel",
      "state": {
       "_dom_classes": [],
       "_model_module": "@jupyter-widgets/controls",
       "_model_module_version": "1.5.0",
       "_model_name": "HBoxModel",
       "_view_count": null,
       "_view_module": "@jupyter-widgets/controls",
       "_view_module_version": "1.5.0",
       "_view_name": "HBoxView",
       "box_style": "",
       "children": [
        "IPY_MODEL_128fe022e4bf4158ae2a159aec0f1dab",
        "IPY_MODEL_5dcc7fd0c0614bc6bc51f60f259d9b27",
        "IPY_MODEL_bb88132411c2497eb5758d59cc3a7b5c"
       ],
       "layout": "IPY_MODEL_ac3ce20cac0c403fb3e0aea498ab650a"
      }
     },
     "ac3ce20cac0c403fb3e0aea498ab650a": {
      "model_module": "@jupyter-widgets/base",
      "model_module_version": "1.2.0",
      "model_name": "LayoutModel",
      "state": {
       "_model_module": "@jupyter-widgets/base",
       "_model_module_version": "1.2.0",
       "_model_name": "LayoutModel",
       "_view_count": null,
       "_view_module": "@jupyter-widgets/base",
       "_view_module_version": "1.2.0",
       "_view_name": "LayoutView",
       "align_content": null,
       "align_items": null,
       "align_self": null,
       "border": null,
       "bottom": null,
       "display": null,
       "flex": null,
       "flex_flow": null,
       "grid_area": null,
       "grid_auto_columns": null,
       "grid_auto_flow": null,
       "grid_auto_rows": null,
       "grid_column": null,
       "grid_gap": null,
       "grid_row": null,
       "grid_template_areas": null,
       "grid_template_columns": null,
       "grid_template_rows": null,
       "height": null,
       "justify_content": null,
       "justify_items": null,
       "left": null,
       "margin": null,
       "max_height": null,
       "max_width": null,
       "min_height": null,
       "min_width": null,
       "object_fit": null,
       "object_position": null,
       "order": null,
       "overflow": null,
       "overflow_x": null,
       "overflow_y": null,
       "padding": null,
       "right": null,
       "top": null,
       "visibility": null,
       "width": null
      }
     },
     "bb88132411c2497eb5758d59cc3a7b5c": {
      "model_module": "@jupyter-widgets/controls",
      "model_module_version": "1.5.0",
      "model_name": "HTMLModel",
      "state": {
       "_dom_classes": [],
       "_model_module": "@jupyter-widgets/controls",
       "_model_module_version": "1.5.0",
       "_model_name": "HTMLModel",
       "_view_count": null,
       "_view_module": "@jupyter-widgets/controls",
       "_view_module_version": "1.5.0",
       "_view_name": "HTMLView",
       "description": "",
       "description_tooltip": null,
       "layout": "IPY_MODEL_6e5a5b68e0d845008432d8468e6e415d",
       "placeholder": "​",
       "style": "IPY_MODEL_df64cea51d7d4372b2a902f3d434d197",
       "value": " 240/240 [01:57&lt;00:00, 10.17it/s]"
      }
     },
     "cda36f5bcced4759ac2257e85896b8cf": {
      "model_module": "@jupyter-widgets/base",
      "model_module_version": "1.2.0",
      "model_name": "LayoutModel",
      "state": {
       "_model_module": "@jupyter-widgets/base",
       "_model_module_version": "1.2.0",
       "_model_name": "LayoutModel",
       "_view_count": null,
       "_view_module": "@jupyter-widgets/base",
       "_view_module_version": "1.2.0",
       "_view_name": "LayoutView",
       "align_content": null,
       "align_items": null,
       "align_self": null,
       "border": null,
       "bottom": null,
       "display": null,
       "flex": null,
       "flex_flow": null,
       "grid_area": null,
       "grid_auto_columns": null,
       "grid_auto_flow": null,
       "grid_auto_rows": null,
       "grid_column": null,
       "grid_gap": null,
       "grid_row": null,
       "grid_template_areas": null,
       "grid_template_columns": null,
       "grid_template_rows": null,
       "height": null,
       "justify_content": null,
       "justify_items": null,
       "left": null,
       "margin": null,
       "max_height": null,
       "max_width": null,
       "min_height": null,
       "min_width": null,
       "object_fit": null,
       "object_position": null,
       "order": null,
       "overflow": null,
       "overflow_x": null,
       "overflow_y": null,
       "padding": null,
       "right": null,
       "top": null,
       "visibility": null,
       "width": null
      }
     },
     "df64cea51d7d4372b2a902f3d434d197": {
      "model_module": "@jupyter-widgets/controls",
      "model_module_version": "1.5.0",
      "model_name": "DescriptionStyleModel",
      "state": {
       "_model_module": "@jupyter-widgets/controls",
       "_model_module_version": "1.5.0",
       "_model_name": "DescriptionStyleModel",
       "_view_count": null,
       "_view_module": "@jupyter-widgets/base",
       "_view_module_version": "1.2.0",
       "_view_name": "StyleView",
       "description_width": ""
      }
     },
     "f0da71412f4b4b2d80bbc5ed338d6889": {
      "model_module": "@jupyter-widgets/controls",
      "model_module_version": "1.5.0",
      "model_name": "DescriptionStyleModel",
      "state": {
       "_model_module": "@jupyter-widgets/controls",
       "_model_module_version": "1.5.0",
       "_model_name": "DescriptionStyleModel",
       "_view_count": null,
       "_view_module": "@jupyter-widgets/base",
       "_view_module_version": "1.2.0",
       "_view_name": "StyleView",
       "description_width": ""
      }
     }
    },
    "version_major": 2,
    "version_minor": 0
   }
  }
 },
 "nbformat": 4,
 "nbformat_minor": 5
}
