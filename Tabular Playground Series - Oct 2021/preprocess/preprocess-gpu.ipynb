{
 "cells": [
  {
   "cell_type": "code",
   "execution_count": 1,
   "id": "0b5e6e4a",
   "metadata": {
    "_cell_guid": "b1076dfc-b9ad-4769-8c92-a6c4dae69d19",
    "_uuid": "8f2839f25d086af736a60e9eeb907d3b93b6e0e5",
    "execution": {
     "iopub.execute_input": "2021-10-18T07:13:51.066569Z",
     "iopub.status.busy": "2021-10-18T07:13:51.065900Z",
     "iopub.status.idle": "2021-10-18T07:13:51.837134Z",
     "shell.execute_reply": "2021-10-18T07:13:51.836453Z",
     "shell.execute_reply.started": "2021-10-17T06:42:16.348895Z"
    },
    "papermill": {
     "duration": 0.867834,
     "end_time": "2021-10-18T07:13:51.837288",
     "exception": false,
     "start_time": "2021-10-18T07:13:50.969454",
     "status": "completed"
    },
    "tags": []
   },
   "outputs": [],
   "source": [
    "import pandas as pd\n",
    "import numpy as np\n",
    "import os\n",
    "import gc\n",
    "from tqdm.notebook import tqdm\n",
    "from sklearn.model_selection import StratifiedKFold\n",
    "import pickle\n",
    "\n",
    "from utilities import (\n",
    "    RANDOM_STATE, TARGET_COL, CAT_TRESHOLD, N_FOLD, FOLD_STRAT_NAME, REDUCED_FOLD_NAME,\n",
    "    reduce_mem_usage_sd\n",
    ")\n",
    "    \n",
    "\n",
    "INPUT_PATH = '../input/tabular-playground-series-oct-2021'"
   ]
  },
  {
   "cell_type": "code",
   "execution_count": 2,
   "id": "7eb4d774",
   "metadata": {
    "execution": {
     "iopub.execute_input": "2021-10-18T07:13:51.867360Z",
     "iopub.status.busy": "2021-10-18T07:13:51.866804Z",
     "iopub.status.idle": "2021-10-18T07:14:53.503382Z",
     "shell.execute_reply": "2021-10-18T07:14:53.502426Z",
     "shell.execute_reply.started": "2021-10-17T06:42:17.463201Z"
    },
    "papermill": {
     "duration": 61.65307,
     "end_time": "2021-10-18T07:14:53.503521",
     "exception": false,
     "start_time": "2021-10-18T07:13:51.850451",
     "status": "completed"
    },
    "tags": []
   },
   "outputs": [],
   "source": [
    "train = pd.read_csv(\n",
    "    os.path.join(INPUT_PATH, 'train.csv')\n",
    ").drop('id', axis = 1)"
   ]
  },
  {
   "cell_type": "code",
   "execution_count": 3,
   "id": "2ac04975",
   "metadata": {
    "execution": {
     "iopub.execute_input": "2021-10-18T07:14:53.534686Z",
     "iopub.status.busy": "2021-10-18T07:14:53.534189Z",
     "iopub.status.idle": "2021-10-18T07:15:23.928478Z",
     "shell.execute_reply": "2021-10-18T07:15:23.929600Z",
     "shell.execute_reply.started": "2021-10-17T06:43:30.01504Z"
    },
    "papermill": {
     "duration": 30.412435,
     "end_time": "2021-10-18T07:15:23.929834",
     "exception": false,
     "start_time": "2021-10-18T07:14:53.517399",
     "status": "completed"
    },
    "tags": []
   },
   "outputs": [],
   "source": [
    "test = pd.read_csv(\n",
    "    os.path.join(INPUT_PATH, 'test.csv')\n",
    ").drop('id', axis = 1)"
   ]
  },
  {
   "cell_type": "markdown",
   "id": "bdfb143e",
   "metadata": {
    "papermill": {
     "duration": 0.021087,
     "end_time": "2021-10-18T07:15:23.973255",
     "exception": false,
     "start_time": "2021-10-18T07:15:23.952168",
     "status": "completed"
    },
    "tags": []
   },
   "source": [
    "# Feature Engineering"
   ]
  },
  {
   "cell_type": "code",
   "execution_count": 4,
   "id": "8e3d0f99",
   "metadata": {
    "execution": {
     "iopub.execute_input": "2021-10-18T07:15:24.022854Z",
     "iopub.status.busy": "2021-10-18T07:15:24.022093Z",
     "iopub.status.idle": "2021-10-18T07:15:31.707233Z",
     "shell.execute_reply": "2021-10-18T07:15:31.707603Z",
     "shell.execute_reply.started": "2021-10-17T06:44:06.910892Z"
    },
    "papermill": {
     "duration": 7.713588,
     "end_time": "2021-10-18T07:15:31.707763",
     "exception": false,
     "start_time": "2021-10-18T07:15:23.994175",
     "status": "completed"
    },
    "tags": []
   },
   "outputs": [
    {
     "data": {
      "text/plain": [
       "0"
      ]
     },
     "execution_count": 4,
     "metadata": {},
     "output_type": "execute_result"
    }
   ],
   "source": [
    "FEATURE = [x for x in train.columns if x != TARGET_COL]\n",
    "CAT_COL = [x for x in FEATURE if train[x].nunique()<= CAT_TRESHOLD]\n",
    "\n",
    "NUMERIC_COL = [x for x in FEATURE if x not in CAT_COL]\n",
    "\n",
    "gc.collect()"
   ]
  },
  {
   "cell_type": "code",
   "execution_count": 5,
   "id": "5cdf74a0",
   "metadata": {
    "execution": {
     "iopub.execute_input": "2021-10-18T07:15:32.355539Z",
     "iopub.status.busy": "2021-10-18T07:15:32.353758Z",
     "iopub.status.idle": "2021-10-18T07:16:00.793328Z",
     "shell.execute_reply": "2021-10-18T07:16:00.792833Z",
     "shell.execute_reply.started": "2021-10-17T06:44:17.670767Z"
    },
    "papermill": {
     "duration": 29.072681,
     "end_time": "2021-10-18T07:16:00.793468",
     "exception": false,
     "start_time": "2021-10-18T07:15:31.720787",
     "status": "completed"
    },
    "tags": []
   },
   "outputs": [],
   "source": [
    "#add row information for numeric, cat and all\n",
    "for dataset in [train, test]:\n",
    "\n",
    "    dataset['all_std'] = dataset[FEATURE].std(axis=1).astype(np.float32)\n",
    "    dataset['all_mean'] = dataset[FEATURE].mean(axis=1).astype(np.float32)\n",
    "    dataset['all_median'] = dataset[FEATURE].median(axis=1).astype(np.float32)\n",
    "\n",
    "    gc.collect()\n",
    "\n",
    "    dataset['numeric_std'] = dataset[NUMERIC_COL].std(axis=1).astype(np.float32)\n",
    "    dataset['numeric_mean'] = dataset[NUMERIC_COL].mean(axis=1).astype(np.float32)\n",
    "    dataset['numeric_median'] = dataset[NUMERIC_COL].median(axis=1).astype(np.float32)\n",
    "\n",
    "    gc.collect()\n",
    "\n",
    "    dataset['cat_std'] = dataset[CAT_COL].std(axis=1).astype(np.float32)\n",
    "    dataset['cat_mean'] = dataset[CAT_COL].mean(axis=1).astype(np.float32)\n",
    "    dataset['cat_median'] = dataset[CAT_COL].median(axis=1).astype(np.float32)\n",
    "\n",
    "    dataset = dataset.dropna(axis = 1)\n",
    "    gc.collect()\n",
    "\n",
    "not_cat_col = [\n",
    "    'all_std', 'all_mean', 'all_median',\n",
    "    'numeric_std', 'numeric_mean', 'numeric_median',\n",
    "    'cat_std', 'cat_mean', 'cat_median',\n",
    "]"
   ]
  },
  {
   "cell_type": "code",
   "execution_count": 6,
   "id": "48963f1a",
   "metadata": {
    "execution": {
     "iopub.execute_input": "2021-10-18T07:16:00.825454Z",
     "iopub.status.busy": "2021-10-18T07:16:00.824601Z",
     "iopub.status.idle": "2021-10-18T07:16:08.987573Z",
     "shell.execute_reply": "2021-10-18T07:16:08.987147Z",
     "shell.execute_reply.started": "2021-10-17T06:45:00.578815Z"
    },
    "papermill": {
     "duration": 8.180689,
     "end_time": "2021-10-18T07:16:08.987696",
     "exception": false,
     "start_time": "2021-10-18T07:16:00.807007",
     "status": "completed"
    },
    "tags": []
   },
   "outputs": [
    {
     "data": {
      "text/plain": [
       "0"
      ]
     },
     "execution_count": 6,
     "metadata": {},
     "output_type": "execute_result"
    }
   ],
   "source": [
    "FEATURE = [x for x in train.columns if x != TARGET_COL]\n",
    "CAT_COL = [x for x in FEATURE if (train[x].nunique()<= CAT_TRESHOLD) & (x not in not_cat_col)]\n",
    "\n",
    "NUMERIC_COL = [x for x in FEATURE if x not in CAT_COL]\n",
    "\n",
    "gc.collect()"
   ]
  },
  {
   "cell_type": "code",
   "execution_count": 7,
   "id": "8916bbd8",
   "metadata": {
    "execution": {
     "iopub.execute_input": "2021-10-18T07:16:09.020577Z",
     "iopub.status.busy": "2021-10-18T07:16:09.019818Z",
     "iopub.status.idle": "2021-10-18T07:16:10.199190Z",
     "shell.execute_reply": "2021-10-18T07:16:10.199596Z",
     "shell.execute_reply.started": "2021-10-17T06:48:20.751678Z"
    },
    "papermill": {
     "duration": 1.198837,
     "end_time": "2021-10-18T07:16:10.199740",
     "exception": false,
     "start_time": "2021-10-18T07:16:09.000903",
     "status": "completed"
    },
    "tags": []
   },
   "outputs": [
    {
     "data": {
      "text/plain": [
       "0"
      ]
     },
     "execution_count": 7,
     "metadata": {},
     "output_type": "execute_result"
    }
   ],
   "source": [
    "for col in CAT_COL:\n",
    "    train_un = np.sort(np.unique(train[col]))\n",
    "    test_un = np.sort(np.unique(test[col]))\n",
    "    \n",
    "    assert np.any(train_un == test_un)\n",
    "    \n",
    "    #every integer\n",
    "    assert all(isinstance(x, (int, np.int32, np.int64)) for x in train_un)\n",
    "    assert all(isinstance(x, (int, np.int32, np.int64)) for x in test_un)\n",
    "\n",
    "gc.collect()"
   ]
  },
  {
   "cell_type": "code",
   "execution_count": 8,
   "id": "25b47f02",
   "metadata": {
    "execution": {
     "iopub.execute_input": "2021-10-18T07:16:10.239314Z",
     "iopub.status.busy": "2021-10-18T07:16:10.238760Z",
     "iopub.status.idle": "2021-10-18T07:18:15.889338Z",
     "shell.execute_reply": "2021-10-18T07:18:15.888798Z",
     "shell.execute_reply.started": "2021-10-14T10:29:52.662778Z"
    },
    "papermill": {
     "duration": 125.67628,
     "end_time": "2021-10-18T07:18:15.889488",
     "exception": false,
     "start_time": "2021-10-18T07:16:10.213208",
     "status": "completed"
    },
    "tags": []
   },
   "outputs": [
    {
     "data": {
      "application/vnd.jupyter.widget-view+json": {
       "model_id": "0dd97d539bc041eda41fae88d82cbfd5",
       "version_major": 2,
       "version_minor": 0
      },
      "text/plain": [
       "  0%|          | 0/295 [00:00<?, ?it/s]"
      ]
     },
     "metadata": {},
     "output_type": "display_data"
    },
    {
     "name": "stdout",
     "output_type": "stream",
     "text": [
      "Mem. usage decreased from 2216.34 Mb to 987.05 Mb (55.5% reduction)\n"
     ]
    }
   ],
   "source": [
    "#calculate new mapping dic\n",
    "train = reduce_mem_usage_sd(train)\n",
    "\n",
    "dtype_mapping = train.dtypes.to_dict()\n",
    "dtype_mapping = {x: y for x, y in dtype_mapping.items() if x in FEATURE}\n",
    "\n",
    "gc.collect()\n",
    "\n",
    "test = test.astype(dtype_mapping)"
   ]
  },
  {
   "cell_type": "markdown",
   "id": "0bce0a70",
   "metadata": {
    "papermill": {
     "duration": 0.014127,
     "end_time": "2021-10-18T07:18:15.918303",
     "exception": false,
     "start_time": "2021-10-18T07:18:15.904176",
     "status": "completed"
    },
    "tags": []
   },
   "source": [
    "# Fold"
   ]
  },
  {
   "cell_type": "code",
   "execution_count": 9,
   "id": "98d971c9",
   "metadata": {
    "execution": {
     "iopub.execute_input": "2021-10-18T07:18:15.952257Z",
     "iopub.status.busy": "2021-10-18T07:18:15.951445Z",
     "iopub.status.idle": "2021-10-18T07:18:17.048878Z",
     "shell.execute_reply": "2021-10-18T07:18:17.048369Z",
     "shell.execute_reply.started": "2021-10-14T10:33:30.281333Z"
    },
    "papermill": {
     "duration": 1.116685,
     "end_time": "2021-10-18T07:18:17.049021",
     "exception": false,
     "start_time": "2021-10-18T07:18:15.932336",
     "status": "completed"
    },
    "tags": []
   },
   "outputs": [],
   "source": [
    "#DEFINE FOLD\n",
    "strat_fold = StratifiedKFold(n_splits = N_FOLD, random_state = RANDOM_STATE, shuffle = True)\n",
    "train[FOLD_STRAT_NAME] = -1\n",
    "\n",
    "for i, (train_index, test_index) in enumerate(strat_fold.split(train[FEATURE], train[TARGET_COL])):\n",
    "    train.loc[test_index, FOLD_STRAT_NAME] = i"
   ]
  },
  {
   "cell_type": "markdown",
   "id": "d0c341c1",
   "metadata": {
    "papermill": {
     "duration": 0.014475,
     "end_time": "2021-10-18T07:18:17.078154",
     "exception": false,
     "start_time": "2021-10-18T07:18:17.063679",
     "status": "completed"
    },
    "tags": []
   },
   "source": [
    "# Reduced FOLD"
   ]
  },
  {
   "cell_type": "code",
   "execution_count": 10,
   "id": "77156319",
   "metadata": {
    "execution": {
     "iopub.execute_input": "2021-10-18T07:18:17.112644Z",
     "iopub.status.busy": "2021-10-18T07:18:17.111838Z",
     "iopub.status.idle": "2021-10-18T07:18:17.616180Z",
     "shell.execute_reply": "2021-10-18T07:18:17.615689Z",
     "shell.execute_reply.started": "2021-10-14T10:33:32.187253Z"
    },
    "papermill": {
     "duration": 0.524137,
     "end_time": "2021-10-18T07:18:17.616324",
     "exception": false,
     "start_time": "2021-10-18T07:18:17.092187",
     "status": "completed"
    },
    "tags": []
   },
   "outputs": [],
   "source": [
    "#DEFINE FOLD\n",
    "strat_fold = StratifiedKFold(n_splits = N_FOLD * 4, random_state = RANDOM_STATE, shuffle = True)\n",
    "train[REDUCED_FOLD_NAME] = -1\n",
    "\n",
    "for i, (train_index, test_index) in enumerate(strat_fold.split(train[FEATURE], train[TARGET_COL])):\n",
    "    \n",
    "    #train\n",
    "    if i <= 1:\n",
    "        train.loc[test_index, REDUCED_FOLD_NAME] = 0\n",
    "        \n",
    "    #test\n",
    "    if (i == 2):\n",
    "        train.loc[test_index, REDUCED_FOLD_NAME] = 1"
   ]
  },
  {
   "cell_type": "markdown",
   "id": "93f6e0b3",
   "metadata": {
    "papermill": {
     "duration": 0.01374,
     "end_time": "2021-10-18T07:18:17.644460",
     "exception": false,
     "start_time": "2021-10-18T07:18:17.630720",
     "status": "completed"
    },
    "tags": []
   },
   "source": [
    "# Save unscaled data as pickle"
   ]
  },
  {
   "cell_type": "code",
   "execution_count": 11,
   "id": "703f8156",
   "metadata": {
    "execution": {
     "iopub.execute_input": "2021-10-18T07:18:17.680948Z",
     "iopub.status.busy": "2021-10-18T07:18:17.680007Z",
     "iopub.status.idle": "2021-10-18T07:18:20.990025Z",
     "shell.execute_reply": "2021-10-18T07:18:20.990511Z",
     "shell.execute_reply.started": "2021-10-14T10:33:33.075707Z"
    },
    "papermill": {
     "duration": 3.332041,
     "end_time": "2021-10-18T07:18:20.990681",
     "exception": false,
     "start_time": "2021-10-18T07:18:17.658640",
     "status": "completed"
    },
    "tags": []
   },
   "outputs": [
    {
     "data": {
      "text/plain": [
       "63"
      ]
     },
     "execution_count": 11,
     "metadata": {},
     "output_type": "execute_result"
    }
   ],
   "source": [
    "train.to_pickle('train_unscaled.pkl')\n",
    "test.to_pickle('test_unscaled.pkl')\n",
    "\n",
    "gc.collect()"
   ]
  },
  {
   "cell_type": "markdown",
   "id": "ace2e579",
   "metadata": {
    "papermill": {
     "duration": 0.086605,
     "end_time": "2021-10-18T07:18:21.093985",
     "exception": false,
     "start_time": "2021-10-18T07:18:21.007380",
     "status": "completed"
    },
    "tags": []
   },
   "source": [
    "# Scale train - test and save"
   ]
  },
  {
   "cell_type": "code",
   "execution_count": 12,
   "id": "0149c28b",
   "metadata": {
    "execution": {
     "iopub.execute_input": "2021-10-18T07:18:21.158248Z",
     "iopub.status.busy": "2021-10-18T07:18:21.157601Z",
     "iopub.status.idle": "2021-10-18T07:18:52.539402Z",
     "shell.execute_reply": "2021-10-18T07:18:52.540853Z",
     "shell.execute_reply.started": "2021-10-14T10:34:22.03789Z"
    },
    "papermill": {
     "duration": 31.43016,
     "end_time": "2021-10-18T07:18:52.541182",
     "exception": false,
     "start_time": "2021-10-18T07:18:21.111022",
     "status": "completed"
    },
    "tags": []
   },
   "outputs": [
    {
     "data": {
      "application/vnd.jupyter.widget-view+json": {
       "model_id": "bdfda87a668e4d619a511b063b1ae7ca",
       "version_major": 2,
       "version_minor": 0
      },
      "text/plain": [
       "  0%|          | 0/294 [00:00<?, ?it/s]"
      ]
     },
     "metadata": {},
     "output_type": "display_data"
    }
   ],
   "source": [
    "#cycle for memory issue\n",
    "\n",
    "for col in tqdm(FEATURE):\n",
    "    train[col] = train[col].astype(np.float32)\n",
    "    test[col] = test[col].astype(np.float32)\n",
    "\n",
    "    mean_col, std_col = train[col].mean(), train[col].std()\n",
    "    \n",
    "    train[col] = ((train[col] - mean_col)/(std_col)).astype(np.float32)\n",
    "    test[col] = ((test[col] - mean_col)/(std_col)).astype(np.float32)\n",
    "    \n",
    "    gc.collect()"
   ]
  },
  {
   "cell_type": "code",
   "execution_count": 13,
   "id": "c8635d1a",
   "metadata": {
    "execution": {
     "iopub.execute_input": "2021-10-18T07:18:52.615884Z",
     "iopub.status.busy": "2021-10-18T07:18:52.615105Z",
     "iopub.status.idle": "2021-10-18T07:18:56.012518Z",
     "shell.execute_reply": "2021-10-18T07:18:56.012952Z",
     "shell.execute_reply.started": "2021-10-13T07:22:47.334368Z"
    },
    "papermill": {
     "duration": 3.4387,
     "end_time": "2021-10-18T07:18:56.013156",
     "exception": false,
     "start_time": "2021-10-18T07:18:52.574456",
     "status": "completed"
    },
    "tags": []
   },
   "outputs": [
    {
     "data": {
      "text/plain": [
       "0"
      ]
     },
     "execution_count": 13,
     "metadata": {},
     "output_type": "execute_result"
    }
   ],
   "source": [
    "# train\n",
    "train.to_pickle('train_scaled.pkl')\n",
    "test.to_pickle('test_scaled.pkl')\n",
    "\n",
    "gc.collect()"
   ]
  },
  {
   "cell_type": "markdown",
   "id": "62eb614d",
   "metadata": {
    "papermill": {
     "duration": 0.016274,
     "end_time": "2021-10-18T07:18:56.047221",
     "exception": false,
     "start_time": "2021-10-18T07:18:56.030947",
     "status": "completed"
    },
    "tags": []
   },
   "source": [
    "# SAVE FEATURE LIST"
   ]
  },
  {
   "cell_type": "code",
   "execution_count": 14,
   "id": "601d4d08",
   "metadata": {
    "execution": {
     "iopub.execute_input": "2021-10-18T07:18:56.085424Z",
     "iopub.status.busy": "2021-10-18T07:18:56.084656Z",
     "iopub.status.idle": "2021-10-18T07:18:56.087592Z",
     "shell.execute_reply": "2021-10-18T07:18:56.087139Z",
     "shell.execute_reply.started": "2021-10-13T07:22:54.989513Z"
    },
    "papermill": {
     "duration": 0.024615,
     "end_time": "2021-10-18T07:18:56.087720",
     "exception": false,
     "start_time": "2021-10-18T07:18:56.063105",
     "status": "completed"
    },
    "tags": []
   },
   "outputs": [],
   "source": [
    "feature_dic = {\n",
    "    'feature': FEATURE,\n",
    "    'categorical' : CAT_COL,\n",
    "    'numerical': NUMERIC_COL\n",
    "}\n",
    "\n",
    "with open('feature_dic.pkl', 'wb') as file_name:\n",
    "    pickle.dump(feature_dic, file_name)"
   ]
  }
 ],
 "metadata": {
  "kernelspec": {
   "display_name": "Python 3",
   "language": "python",
   "name": "python3"
  },
  "language_info": {
   "codemirror_mode": {
    "name": "ipython",
    "version": 3
   },
   "file_extension": ".py",
   "mimetype": "text/x-python",
   "name": "python",
   "nbconvert_exporter": "python",
   "pygments_lexer": "ipython3",
   "version": "3.7.10"
  },
  "papermill": {
   "default_parameters": {},
   "duration": 312.729954,
   "end_time": "2021-10-18T07:18:57.328523",
   "environment_variables": {},
   "exception": null,
   "input_path": "__notebook__.ipynb",
   "output_path": "__notebook__.ipynb",
   "parameters": {},
   "start_time": "2021-10-18T07:13:44.598569",
   "version": "2.3.3"
  },
  "widgets": {
   "application/vnd.jupyter.widget-state+json": {
    "state": {
     "0dd97d539bc041eda41fae88d82cbfd5": {
      "model_module": "@jupyter-widgets/controls",
      "model_module_version": "1.5.0",
      "model_name": "HBoxModel",
      "state": {
       "_dom_classes": [],
       "_model_module": "@jupyter-widgets/controls",
       "_model_module_version": "1.5.0",
       "_model_name": "HBoxModel",
       "_view_count": null,
       "_view_module": "@jupyter-widgets/controls",
       "_view_module_version": "1.5.0",
       "_view_name": "HBoxView",
       "box_style": "",
       "children": [
        "IPY_MODEL_ad8501577fee42db84703097dbc90c3b",
        "IPY_MODEL_bb61c312a45c448b9dfe50effd518594",
        "IPY_MODEL_48f2dab0f72b46e281c9561f8237f2f5"
       ],
       "layout": "IPY_MODEL_8874b1789497470e87193c3ea7ad57e4"
      }
     },
     "119ed4797f5e4543b68efa422196c024": {
      "model_module": "@jupyter-widgets/base",
      "model_module_version": "1.2.0",
      "model_name": "LayoutModel",
      "state": {
       "_model_module": "@jupyter-widgets/base",
       "_model_module_version": "1.2.0",
       "_model_name": "LayoutModel",
       "_view_count": null,
       "_view_module": "@jupyter-widgets/base",
       "_view_module_version": "1.2.0",
       "_view_name": "LayoutView",
       "align_content": null,
       "align_items": null,
       "align_self": null,
       "border": null,
       "bottom": null,
       "display": null,
       "flex": null,
       "flex_flow": null,
       "grid_area": null,
       "grid_auto_columns": null,
       "grid_auto_flow": null,
       "grid_auto_rows": null,
       "grid_column": null,
       "grid_gap": null,
       "grid_row": null,
       "grid_template_areas": null,
       "grid_template_columns": null,
       "grid_template_rows": null,
       "height": null,
       "justify_content": null,
       "justify_items": null,
       "left": null,
       "margin": null,
       "max_height": null,
       "max_width": null,
       "min_height": null,
       "min_width": null,
       "object_fit": null,
       "object_position": null,
       "order": null,
       "overflow": null,
       "overflow_x": null,
       "overflow_y": null,
       "padding": null,
       "right": null,
       "top": null,
       "visibility": null,
       "width": null
      }
     },
     "3201a7c715db4536900f3df9147277ca": {
      "model_module": "@jupyter-widgets/base",
      "model_module_version": "1.2.0",
      "model_name": "LayoutModel",
      "state": {
       "_model_module": "@jupyter-widgets/base",
       "_model_module_version": "1.2.0",
       "_model_name": "LayoutModel",
       "_view_count": null,
       "_view_module": "@jupyter-widgets/base",
       "_view_module_version": "1.2.0",
       "_view_name": "LayoutView",
       "align_content": null,
       "align_items": null,
       "align_self": null,
       "border": null,
       "bottom": null,
       "display": null,
       "flex": null,
       "flex_flow": null,
       "grid_area": null,
       "grid_auto_columns": null,
       "grid_auto_flow": null,
       "grid_auto_rows": null,
       "grid_column": null,
       "grid_gap": null,
       "grid_row": null,
       "grid_template_areas": null,
       "grid_template_columns": null,
       "grid_template_rows": null,
       "height": null,
       "justify_content": null,
       "justify_items": null,
       "left": null,
       "margin": null,
       "max_height": null,
       "max_width": null,
       "min_height": null,
       "min_width": null,
       "object_fit": null,
       "object_position": null,
       "order": null,
       "overflow": null,
       "overflow_x": null,
       "overflow_y": null,
       "padding": null,
       "right": null,
       "top": null,
       "visibility": null,
       "width": null
      }
     },
     "48f2dab0f72b46e281c9561f8237f2f5": {
      "model_module": "@jupyter-widgets/controls",
      "model_module_version": "1.5.0",
      "model_name": "HTMLModel",
      "state": {
       "_dom_classes": [],
       "_model_module": "@jupyter-widgets/controls",
       "_model_module_version": "1.5.0",
       "_model_name": "HTMLModel",
       "_view_count": null,
       "_view_module": "@jupyter-widgets/controls",
       "_view_module_version": "1.5.0",
       "_view_name": "HTMLView",
       "description": "",
       "description_tooltip": null,
       "layout": "IPY_MODEL_3201a7c715db4536900f3df9147277ca",
       "placeholder": "​",
       "style": "IPY_MODEL_8205e08aaecb45f69665add4b4a0ee56",
       "value": " 295/295 [02:05&lt;00:00,  7.86it/s]"
      }
     },
     "660958ce38734f0ca64fc03693bcc900": {
      "model_module": "@jupyter-widgets/base",
      "model_module_version": "1.2.0",
      "model_name": "LayoutModel",
      "state": {
       "_model_module": "@jupyter-widgets/base",
       "_model_module_version": "1.2.0",
       "_model_name": "LayoutModel",
       "_view_count": null,
       "_view_module": "@jupyter-widgets/base",
       "_view_module_version": "1.2.0",
       "_view_name": "LayoutView",
       "align_content": null,
       "align_items": null,
       "align_self": null,
       "border": null,
       "bottom": null,
       "display": null,
       "flex": null,
       "flex_flow": null,
       "grid_area": null,
       "grid_auto_columns": null,
       "grid_auto_flow": null,
       "grid_auto_rows": null,
       "grid_column": null,
       "grid_gap": null,
       "grid_row": null,
       "grid_template_areas": null,
       "grid_template_columns": null,
       "grid_template_rows": null,
       "height": null,
       "justify_content": null,
       "justify_items": null,
       "left": null,
       "margin": null,
       "max_height": null,
       "max_width": null,
       "min_height": null,
       "min_width": null,
       "object_fit": null,
       "object_position": null,
       "order": null,
       "overflow": null,
       "overflow_x": null,
       "overflow_y": null,
       "padding": null,
       "right": null,
       "top": null,
       "visibility": null,
       "width": null
      }
     },
     "8205e08aaecb45f69665add4b4a0ee56": {
      "model_module": "@jupyter-widgets/controls",
      "model_module_version": "1.5.0",
      "model_name": "DescriptionStyleModel",
      "state": {
       "_model_module": "@jupyter-widgets/controls",
       "_model_module_version": "1.5.0",
       "_model_name": "DescriptionStyleModel",
       "_view_count": null,
       "_view_module": "@jupyter-widgets/base",
       "_view_module_version": "1.2.0",
       "_view_name": "StyleView",
       "description_width": ""
      }
     },
     "8874b1789497470e87193c3ea7ad57e4": {
      "model_module": "@jupyter-widgets/base",
      "model_module_version": "1.2.0",
      "model_name": "LayoutModel",
      "state": {
       "_model_module": "@jupyter-widgets/base",
       "_model_module_version": "1.2.0",
       "_model_name": "LayoutModel",
       "_view_count": null,
       "_view_module": "@jupyter-widgets/base",
       "_view_module_version": "1.2.0",
       "_view_name": "LayoutView",
       "align_content": null,
       "align_items": null,
       "align_self": null,
       "border": null,
       "bottom": null,
       "display": null,
       "flex": null,
       "flex_flow": null,
       "grid_area": null,
       "grid_auto_columns": null,
       "grid_auto_flow": null,
       "grid_auto_rows": null,
       "grid_column": null,
       "grid_gap": null,
       "grid_row": null,
       "grid_template_areas": null,
       "grid_template_columns": null,
       "grid_template_rows": null,
       "height": null,
       "justify_content": null,
       "justify_items": null,
       "left": null,
       "margin": null,
       "max_height": null,
       "max_width": null,
       "min_height": null,
       "min_width": null,
       "object_fit": null,
       "object_position": null,
       "order": null,
       "overflow": null,
       "overflow_x": null,
       "overflow_y": null,
       "padding": null,
       "right": null,
       "top": null,
       "visibility": null,
       "width": null
      }
     },
     "981da5e9cb1c4a72b93ea05aa5c68536": {
      "model_module": "@jupyter-widgets/controls",
      "model_module_version": "1.5.0",
      "model_name": "HTMLModel",
      "state": {
       "_dom_classes": [],
       "_model_module": "@jupyter-widgets/controls",
       "_model_module_version": "1.5.0",
       "_model_name": "HTMLModel",
       "_view_count": null,
       "_view_module": "@jupyter-widgets/controls",
       "_view_module_version": "1.5.0",
       "_view_name": "HTMLView",
       "description": "",
       "description_tooltip": null,
       "layout": "IPY_MODEL_119ed4797f5e4543b68efa422196c024",
       "placeholder": "​",
       "style": "IPY_MODEL_cc7bc0b2f0d14ed1997505733034cd0d",
       "value": "100%"
      }
     },
     "ab1522a019ce4516998137d51e1bcee4": {
      "model_module": "@jupyter-widgets/controls",
      "model_module_version": "1.5.0",
      "model_name": "DescriptionStyleModel",
      "state": {
       "_model_module": "@jupyter-widgets/controls",
       "_model_module_version": "1.5.0",
       "_model_name": "DescriptionStyleModel",
       "_view_count": null,
       "_view_module": "@jupyter-widgets/base",
       "_view_module_version": "1.2.0",
       "_view_name": "StyleView",
       "description_width": ""
      }
     },
     "ad8501577fee42db84703097dbc90c3b": {
      "model_module": "@jupyter-widgets/controls",
      "model_module_version": "1.5.0",
      "model_name": "HTMLModel",
      "state": {
       "_dom_classes": [],
       "_model_module": "@jupyter-widgets/controls",
       "_model_module_version": "1.5.0",
       "_model_name": "HTMLModel",
       "_view_count": null,
       "_view_module": "@jupyter-widgets/controls",
       "_view_module_version": "1.5.0",
       "_view_name": "HTMLView",
       "description": "",
       "description_tooltip": null,
       "layout": "IPY_MODEL_e6bb77749876465aa93119a59f42ade1",
       "placeholder": "​",
       "style": "IPY_MODEL_b1675eaba41a491f91fe15f5bbbd6828",
       "value": "100%"
      }
     },
     "b1675eaba41a491f91fe15f5bbbd6828": {
      "model_module": "@jupyter-widgets/controls",
      "model_module_version": "1.5.0",
      "model_name": "DescriptionStyleModel",
      "state": {
       "_model_module": "@jupyter-widgets/controls",
       "_model_module_version": "1.5.0",
       "_model_name": "DescriptionStyleModel",
       "_view_count": null,
       "_view_module": "@jupyter-widgets/base",
       "_view_module_version": "1.2.0",
       "_view_name": "StyleView",
       "description_width": ""
      }
     },
     "bb61c312a45c448b9dfe50effd518594": {
      "model_module": "@jupyter-widgets/controls",
      "model_module_version": "1.5.0",
      "model_name": "FloatProgressModel",
      "state": {
       "_dom_classes": [],
       "_model_module": "@jupyter-widgets/controls",
       "_model_module_version": "1.5.0",
       "_model_name": "FloatProgressModel",
       "_view_count": null,
       "_view_module": "@jupyter-widgets/controls",
       "_view_module_version": "1.5.0",
       "_view_name": "ProgressView",
       "bar_style": "success",
       "description": "",
       "description_tooltip": null,
       "layout": "IPY_MODEL_c06769ed550d4ffa84663f3c2d88d8b0",
       "max": 295.0,
       "min": 0.0,
       "orientation": "horizontal",
       "style": "IPY_MODEL_f15a26166dcb4317a63822702eddf702",
       "value": 295.0
      }
     },
     "bdfda87a668e4d619a511b063b1ae7ca": {
      "model_module": "@jupyter-widgets/controls",
      "model_module_version": "1.5.0",
      "model_name": "HBoxModel",
      "state": {
       "_dom_classes": [],
       "_model_module": "@jupyter-widgets/controls",
       "_model_module_version": "1.5.0",
       "_model_name": "HBoxModel",
       "_view_count": null,
       "_view_module": "@jupyter-widgets/controls",
       "_view_module_version": "1.5.0",
       "_view_name": "HBoxView",
       "box_style": "",
       "children": [
        "IPY_MODEL_981da5e9cb1c4a72b93ea05aa5c68536",
        "IPY_MODEL_f6e8aa4ae132412eab341c81d78e3f97",
        "IPY_MODEL_c6d0404d9a8c446299aeaf3e1c23d93a"
       ],
       "layout": "IPY_MODEL_d86fa03ab32d45fdad8c5ad9fc7417f0"
      }
     },
     "c06769ed550d4ffa84663f3c2d88d8b0": {
      "model_module": "@jupyter-widgets/base",
      "model_module_version": "1.2.0",
      "model_name": "LayoutModel",
      "state": {
       "_model_module": "@jupyter-widgets/base",
       "_model_module_version": "1.2.0",
       "_model_name": "LayoutModel",
       "_view_count": null,
       "_view_module": "@jupyter-widgets/base",
       "_view_module_version": "1.2.0",
       "_view_name": "LayoutView",
       "align_content": null,
       "align_items": null,
       "align_self": null,
       "border": null,
       "bottom": null,
       "display": null,
       "flex": null,
       "flex_flow": null,
       "grid_area": null,
       "grid_auto_columns": null,
       "grid_auto_flow": null,
       "grid_auto_rows": null,
       "grid_column": null,
       "grid_gap": null,
       "grid_row": null,
       "grid_template_areas": null,
       "grid_template_columns": null,
       "grid_template_rows": null,
       "height": null,
       "justify_content": null,
       "justify_items": null,
       "left": null,
       "margin": null,
       "max_height": null,
       "max_width": null,
       "min_height": null,
       "min_width": null,
       "object_fit": null,
       "object_position": null,
       "order": null,
       "overflow": null,
       "overflow_x": null,
       "overflow_y": null,
       "padding": null,
       "right": null,
       "top": null,
       "visibility": null,
       "width": null
      }
     },
     "c6d0404d9a8c446299aeaf3e1c23d93a": {
      "model_module": "@jupyter-widgets/controls",
      "model_module_version": "1.5.0",
      "model_name": "HTMLModel",
      "state": {
       "_dom_classes": [],
       "_model_module": "@jupyter-widgets/controls",
       "_model_module_version": "1.5.0",
       "_model_name": "HTMLModel",
       "_view_count": null,
       "_view_module": "@jupyter-widgets/controls",
       "_view_module_version": "1.5.0",
       "_view_name": "HTMLView",
       "description": "",
       "description_tooltip": null,
       "layout": "IPY_MODEL_660958ce38734f0ca64fc03693bcc900",
       "placeholder": "​",
       "style": "IPY_MODEL_ab1522a019ce4516998137d51e1bcee4",
       "value": " 294/294 [00:31&lt;00:00, 10.12it/s]"
      }
     },
     "cc7bc0b2f0d14ed1997505733034cd0d": {
      "model_module": "@jupyter-widgets/controls",
      "model_module_version": "1.5.0",
      "model_name": "DescriptionStyleModel",
      "state": {
       "_model_module": "@jupyter-widgets/controls",
       "_model_module_version": "1.5.0",
       "_model_name": "DescriptionStyleModel",
       "_view_count": null,
       "_view_module": "@jupyter-widgets/base",
       "_view_module_version": "1.2.0",
       "_view_name": "StyleView",
       "description_width": ""
      }
     },
     "d7041fce55bd480298ea009408caf50b": {
      "model_module": "@jupyter-widgets/base",
      "model_module_version": "1.2.0",
      "model_name": "LayoutModel",
      "state": {
       "_model_module": "@jupyter-widgets/base",
       "_model_module_version": "1.2.0",
       "_model_name": "LayoutModel",
       "_view_count": null,
       "_view_module": "@jupyter-widgets/base",
       "_view_module_version": "1.2.0",
       "_view_name": "LayoutView",
       "align_content": null,
       "align_items": null,
       "align_self": null,
       "border": null,
       "bottom": null,
       "display": null,
       "flex": null,
       "flex_flow": null,
       "grid_area": null,
       "grid_auto_columns": null,
       "grid_auto_flow": null,
       "grid_auto_rows": null,
       "grid_column": null,
       "grid_gap": null,
       "grid_row": null,
       "grid_template_areas": null,
       "grid_template_columns": null,
       "grid_template_rows": null,
       "height": null,
       "justify_content": null,
       "justify_items": null,
       "left": null,
       "margin": null,
       "max_height": null,
       "max_width": null,
       "min_height": null,
       "min_width": null,
       "object_fit": null,
       "object_position": null,
       "order": null,
       "overflow": null,
       "overflow_x": null,
       "overflow_y": null,
       "padding": null,
       "right": null,
       "top": null,
       "visibility": null,
       "width": null
      }
     },
     "d86fa03ab32d45fdad8c5ad9fc7417f0": {
      "model_module": "@jupyter-widgets/base",
      "model_module_version": "1.2.0",
      "model_name": "LayoutModel",
      "state": {
       "_model_module": "@jupyter-widgets/base",
       "_model_module_version": "1.2.0",
       "_model_name": "LayoutModel",
       "_view_count": null,
       "_view_module": "@jupyter-widgets/base",
       "_view_module_version": "1.2.0",
       "_view_name": "LayoutView",
       "align_content": null,
       "align_items": null,
       "align_self": null,
       "border": null,
       "bottom": null,
       "display": null,
       "flex": null,
       "flex_flow": null,
       "grid_area": null,
       "grid_auto_columns": null,
       "grid_auto_flow": null,
       "grid_auto_rows": null,
       "grid_column": null,
       "grid_gap": null,
       "grid_row": null,
       "grid_template_areas": null,
       "grid_template_columns": null,
       "grid_template_rows": null,
       "height": null,
       "justify_content": null,
       "justify_items": null,
       "left": null,
       "margin": null,
       "max_height": null,
       "max_width": null,
       "min_height": null,
       "min_width": null,
       "object_fit": null,
       "object_position": null,
       "order": null,
       "overflow": null,
       "overflow_x": null,
       "overflow_y": null,
       "padding": null,
       "right": null,
       "top": null,
       "visibility": null,
       "width": null
      }
     },
     "d9b95ab649a849eba5937d274ecd4da3": {
      "model_module": "@jupyter-widgets/controls",
      "model_module_version": "1.5.0",
      "model_name": "ProgressStyleModel",
      "state": {
       "_model_module": "@jupyter-widgets/controls",
       "_model_module_version": "1.5.0",
       "_model_name": "ProgressStyleModel",
       "_view_count": null,
       "_view_module": "@jupyter-widgets/base",
       "_view_module_version": "1.2.0",
       "_view_name": "StyleView",
       "bar_color": null,
       "description_width": ""
      }
     },
     "e6bb77749876465aa93119a59f42ade1": {
      "model_module": "@jupyter-widgets/base",
      "model_module_version": "1.2.0",
      "model_name": "LayoutModel",
      "state": {
       "_model_module": "@jupyter-widgets/base",
       "_model_module_version": "1.2.0",
       "_model_name": "LayoutModel",
       "_view_count": null,
       "_view_module": "@jupyter-widgets/base",
       "_view_module_version": "1.2.0",
       "_view_name": "LayoutView",
       "align_content": null,
       "align_items": null,
       "align_self": null,
       "border": null,
       "bottom": null,
       "display": null,
       "flex": null,
       "flex_flow": null,
       "grid_area": null,
       "grid_auto_columns": null,
       "grid_auto_flow": null,
       "grid_auto_rows": null,
       "grid_column": null,
       "grid_gap": null,
       "grid_row": null,
       "grid_template_areas": null,
       "grid_template_columns": null,
       "grid_template_rows": null,
       "height": null,
       "justify_content": null,
       "justify_items": null,
       "left": null,
       "margin": null,
       "max_height": null,
       "max_width": null,
       "min_height": null,
       "min_width": null,
       "object_fit": null,
       "object_position": null,
       "order": null,
       "overflow": null,
       "overflow_x": null,
       "overflow_y": null,
       "padding": null,
       "right": null,
       "top": null,
       "visibility": null,
       "width": null
      }
     },
     "f15a26166dcb4317a63822702eddf702": {
      "model_module": "@jupyter-widgets/controls",
      "model_module_version": "1.5.0",
      "model_name": "ProgressStyleModel",
      "state": {
       "_model_module": "@jupyter-widgets/controls",
       "_model_module_version": "1.5.0",
       "_model_name": "ProgressStyleModel",
       "_view_count": null,
       "_view_module": "@jupyter-widgets/base",
       "_view_module_version": "1.2.0",
       "_view_name": "StyleView",
       "bar_color": null,
       "description_width": ""
      }
     },
     "f6e8aa4ae132412eab341c81d78e3f97": {
      "model_module": "@jupyter-widgets/controls",
      "model_module_version": "1.5.0",
      "model_name": "FloatProgressModel",
      "state": {
       "_dom_classes": [],
       "_model_module": "@jupyter-widgets/controls",
       "_model_module_version": "1.5.0",
       "_model_name": "FloatProgressModel",
       "_view_count": null,
       "_view_module": "@jupyter-widgets/controls",
       "_view_module_version": "1.5.0",
       "_view_name": "ProgressView",
       "bar_style": "success",
       "description": "",
       "description_tooltip": null,
       "layout": "IPY_MODEL_d7041fce55bd480298ea009408caf50b",
       "max": 294.0,
       "min": 0.0,
       "orientation": "horizontal",
       "style": "IPY_MODEL_d9b95ab649a849eba5937d274ecd4da3",
       "value": 294.0
      }
     }
    },
    "version_major": 2,
    "version_minor": 0
   }
  }
 },
 "nbformat": 4,
 "nbformat_minor": 5
}
