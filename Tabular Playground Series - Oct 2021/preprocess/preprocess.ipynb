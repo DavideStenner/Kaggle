{
 "cells": [
  {
   "cell_type": "code",
   "execution_count": 1,
   "id": "e2c8eb48",
   "metadata": {
    "_cell_guid": "b1076dfc-b9ad-4769-8c92-a6c4dae69d19",
    "_uuid": "8f2839f25d086af736a60e9eeb907d3b93b6e0e5",
    "execution": {
     "iopub.execute_input": "2021-10-18T07:14:11.865224Z",
     "iopub.status.busy": "2021-10-18T07:14:11.864024Z",
     "iopub.status.idle": "2021-10-18T07:14:12.886047Z",
     "shell.execute_reply": "2021-10-18T07:14:12.884581Z",
     "shell.execute_reply.started": "2021-10-17T06:42:16.348895Z"
    },
    "papermill": {
     "duration": 1.042157,
     "end_time": "2021-10-18T07:14:12.886264",
     "exception": false,
     "start_time": "2021-10-18T07:14:11.844107",
     "status": "completed"
    },
    "tags": []
   },
   "outputs": [],
   "source": [
    "import pandas as pd\n",
    "import numpy as np\n",
    "import os\n",
    "import gc\n",
    "from tqdm.notebook import tqdm\n",
    "from sklearn.model_selection import StratifiedKFold\n",
    "import pickle\n",
    "\n",
    "from utilities import (\n",
    "    RANDOM_STATE, TARGET_COL, CAT_TRESHOLD, N_FOLD, FOLD_STRAT_NAME, REDUCED_FOLD_NAME,\n",
    "    reduce_mem_usage_sd\n",
    ")\n",
    "    \n",
    "\n",
    "INPUT_PATH = '../input/tabular-playground-series-oct-2021'"
   ]
  },
  {
   "cell_type": "code",
   "execution_count": 2,
   "id": "358cddef",
   "metadata": {
    "execution": {
     "iopub.execute_input": "2021-10-18T07:14:12.923254Z",
     "iopub.status.busy": "2021-10-18T07:14:12.922552Z",
     "iopub.status.idle": "2021-10-18T07:15:20.384582Z",
     "shell.execute_reply": "2021-10-18T07:15:20.383875Z",
     "shell.execute_reply.started": "2021-10-17T06:42:17.463201Z"
    },
    "papermill": {
     "duration": 67.48241,
     "end_time": "2021-10-18T07:15:20.384738",
     "exception": false,
     "start_time": "2021-10-18T07:14:12.902328",
     "status": "completed"
    },
    "tags": []
   },
   "outputs": [],
   "source": [
    "train = pd.read_csv(\n",
    "    os.path.join(INPUT_PATH, 'train.csv')\n",
    ").drop('id', axis = 1)"
   ]
  },
  {
   "cell_type": "code",
   "execution_count": 3,
   "id": "d5986f0e",
   "metadata": {
    "execution": {
     "iopub.execute_input": "2021-10-18T07:15:20.420350Z",
     "iopub.status.busy": "2021-10-18T07:15:20.419664Z",
     "iopub.status.idle": "2021-10-18T07:15:51.794298Z",
     "shell.execute_reply": "2021-10-18T07:15:51.792552Z",
     "shell.execute_reply.started": "2021-10-17T06:43:30.01504Z"
    },
    "papermill": {
     "duration": 31.394496,
     "end_time": "2021-10-18T07:15:51.794522",
     "exception": false,
     "start_time": "2021-10-18T07:15:20.400026",
     "status": "completed"
    },
    "tags": []
   },
   "outputs": [],
   "source": [
    "test = pd.read_csv(\n",
    "    os.path.join(INPUT_PATH, 'test.csv')\n",
    ").drop('id', axis = 1)"
   ]
  },
  {
   "cell_type": "markdown",
   "id": "f9e21eab",
   "metadata": {
    "papermill": {
     "duration": 0.017272,
     "end_time": "2021-10-18T07:15:51.834838",
     "exception": false,
     "start_time": "2021-10-18T07:15:51.817566",
     "status": "completed"
    },
    "tags": []
   },
   "source": [
    "# Feature Engineering"
   ]
  },
  {
   "cell_type": "code",
   "execution_count": 4,
   "id": "5d771132",
   "metadata": {
    "execution": {
     "iopub.execute_input": "2021-10-18T07:15:51.883751Z",
     "iopub.status.busy": "2021-10-18T07:15:51.882994Z",
     "iopub.status.idle": "2021-10-18T07:16:01.038067Z",
     "shell.execute_reply": "2021-10-18T07:16:01.037468Z",
     "shell.execute_reply.started": "2021-10-17T06:44:06.910892Z"
    },
    "papermill": {
     "duration": 9.180252,
     "end_time": "2021-10-18T07:16:01.038219",
     "exception": false,
     "start_time": "2021-10-18T07:15:51.857967",
     "status": "completed"
    },
    "tags": []
   },
   "outputs": [
    {
     "data": {
      "text/plain": [
       "0"
      ]
     },
     "execution_count": 4,
     "metadata": {},
     "output_type": "execute_result"
    }
   ],
   "source": [
    "FEATURE = [x for x in train.columns if x != TARGET_COL]\n",
    "CAT_COL = [x for x in FEATURE if train[x].nunique()<= CAT_TRESHOLD]\n",
    "\n",
    "NUMERIC_COL = [x for x in FEATURE if x not in CAT_COL]\n",
    "\n",
    "gc.collect()"
   ]
  },
  {
   "cell_type": "code",
   "execution_count": 5,
   "id": "e1fd6705",
   "metadata": {
    "execution": {
     "iopub.execute_input": "2021-10-18T07:16:01.072203Z",
     "iopub.status.busy": "2021-10-18T07:16:01.071552Z",
     "iopub.status.idle": "2021-10-18T07:16:31.661253Z",
     "shell.execute_reply": "2021-10-18T07:16:31.661709Z",
     "shell.execute_reply.started": "2021-10-17T06:44:17.670767Z"
    },
    "papermill": {
     "duration": 30.608384,
     "end_time": "2021-10-18T07:16:31.661874",
     "exception": false,
     "start_time": "2021-10-18T07:16:01.053490",
     "status": "completed"
    },
    "tags": []
   },
   "outputs": [],
   "source": [
    "#add row information for numeric, cat and all\n",
    "for dataset in [train, test]:\n",
    "\n",
    "    dataset['all_std'] = dataset[FEATURE].std(axis=1).astype(np.float32)\n",
    "    dataset['all_mean'] = dataset[FEATURE].mean(axis=1).astype(np.float32)\n",
    "    dataset['all_median'] = dataset[FEATURE].median(axis=1).astype(np.float32)\n",
    "\n",
    "    gc.collect()\n",
    "\n",
    "    dataset['numeric_std'] = dataset[NUMERIC_COL].std(axis=1).astype(np.float32)\n",
    "    dataset['numeric_mean'] = dataset[NUMERIC_COL].mean(axis=1).astype(np.float32)\n",
    "    dataset['numeric_median'] = dataset[NUMERIC_COL].median(axis=1).astype(np.float32)\n",
    "\n",
    "    gc.collect()\n",
    "\n",
    "    dataset['cat_std'] = dataset[CAT_COL].std(axis=1).astype(np.float32)\n",
    "    dataset['cat_mean'] = dataset[CAT_COL].mean(axis=1).astype(np.float32)\n",
    "    dataset['cat_median'] = dataset[CAT_COL].median(axis=1).astype(np.float32)\n",
    "\n",
    "    dataset = dataset.dropna(axis = 1)\n",
    "    gc.collect()\n",
    "\n",
    "not_cat_col = [\n",
    "    'all_std', 'all_mean', 'all_median',\n",
    "    'numeric_std', 'numeric_mean', 'numeric_median',\n",
    "    'cat_std', 'cat_mean', 'cat_median',\n",
    "]"
   ]
  },
  {
   "cell_type": "code",
   "execution_count": 6,
   "id": "2f3fec0e",
   "metadata": {
    "execution": {
     "iopub.execute_input": "2021-10-18T07:16:31.697483Z",
     "iopub.status.busy": "2021-10-18T07:16:31.696833Z",
     "iopub.status.idle": "2021-10-18T07:16:40.992701Z",
     "shell.execute_reply": "2021-10-18T07:16:40.993177Z",
     "shell.execute_reply.started": "2021-10-17T06:45:00.578815Z"
    },
    "papermill": {
     "duration": 9.314489,
     "end_time": "2021-10-18T07:16:40.993338",
     "exception": false,
     "start_time": "2021-10-18T07:16:31.678849",
     "status": "completed"
    },
    "tags": []
   },
   "outputs": [
    {
     "data": {
      "text/plain": [
       "0"
      ]
     },
     "execution_count": 6,
     "metadata": {},
     "output_type": "execute_result"
    }
   ],
   "source": [
    "FEATURE = [x for x in train.columns if x != TARGET_COL]\n",
    "CAT_COL = [x for x in FEATURE if (train[x].nunique()<= CAT_TRESHOLD) & (x not in not_cat_col)]\n",
    "\n",
    "NUMERIC_COL = [x for x in FEATURE if x not in CAT_COL]\n",
    "\n",
    "gc.collect()"
   ]
  },
  {
   "cell_type": "code",
   "execution_count": 7,
   "id": "171ada5e",
   "metadata": {
    "execution": {
     "iopub.execute_input": "2021-10-18T07:16:41.027961Z",
     "iopub.status.busy": "2021-10-18T07:16:41.027371Z",
     "iopub.status.idle": "2021-10-18T07:16:42.466032Z",
     "shell.execute_reply": "2021-10-18T07:16:42.466542Z",
     "shell.execute_reply.started": "2021-10-17T06:48:20.751678Z"
    },
    "papermill": {
     "duration": 1.4574,
     "end_time": "2021-10-18T07:16:42.466721",
     "exception": false,
     "start_time": "2021-10-18T07:16:41.009321",
     "status": "completed"
    },
    "tags": []
   },
   "outputs": [
    {
     "data": {
      "text/plain": [
       "0"
      ]
     },
     "execution_count": 7,
     "metadata": {},
     "output_type": "execute_result"
    }
   ],
   "source": [
    "for col in CAT_COL:\n",
    "    train_un = np.sort(np.unique(train[col]))\n",
    "    test_un = np.sort(np.unique(test[col]))\n",
    "    \n",
    "    assert np.any(train_un == test_un)\n",
    "    \n",
    "    #every integer\n",
    "    assert all(isinstance(x, (int, np.int32, np.int64)) for x in train_un)\n",
    "    assert all(isinstance(x, (int, np.int32, np.int64)) for x in test_un)\n",
    "\n",
    "gc.collect()"
   ]
  },
  {
   "cell_type": "code",
   "execution_count": 8,
   "id": "856eb75b",
   "metadata": {
    "execution": {
     "iopub.execute_input": "2021-10-18T07:16:42.512823Z",
     "iopub.status.busy": "2021-10-18T07:16:42.512164Z",
     "iopub.status.idle": "2021-10-18T07:19:00.731472Z",
     "shell.execute_reply": "2021-10-18T07:19:00.730865Z",
     "shell.execute_reply.started": "2021-10-14T10:29:52.662778Z"
    },
    "papermill": {
     "duration": 138.248269,
     "end_time": "2021-10-18T07:19:00.731629",
     "exception": false,
     "start_time": "2021-10-18T07:16:42.483360",
     "status": "completed"
    },
    "tags": []
   },
   "outputs": [
    {
     "data": {
      "application/vnd.jupyter.widget-view+json": {
       "model_id": "095ddb4172704919a5e8affada04eb56",
       "version_major": 2,
       "version_minor": 0
      },
      "text/plain": [
       "  0%|          | 0/295 [00:00<?, ?it/s]"
      ]
     },
     "metadata": {},
     "output_type": "display_data"
    },
    {
     "name": "stdout",
     "output_type": "stream",
     "text": [
      "Mem. usage decreased from 2216.34 Mb to 987.05 Mb (55.5% reduction)\n"
     ]
    }
   ],
   "source": [
    "#calculate new mapping dic\n",
    "train = reduce_mem_usage_sd(train)\n",
    "\n",
    "dtype_mapping = train.dtypes.to_dict()\n",
    "dtype_mapping = {x: y for x, y in dtype_mapping.items() if x in FEATURE}\n",
    "\n",
    "gc.collect()\n",
    "\n",
    "test = test.astype(dtype_mapping)"
   ]
  },
  {
   "cell_type": "markdown",
   "id": "ea194147",
   "metadata": {
    "papermill": {
     "duration": 0.016884,
     "end_time": "2021-10-18T07:19:00.766336",
     "exception": false,
     "start_time": "2021-10-18T07:19:00.749452",
     "status": "completed"
    },
    "tags": []
   },
   "source": [
    "# Fold"
   ]
  },
  {
   "cell_type": "code",
   "execution_count": 9,
   "id": "693a76b6",
   "metadata": {
    "execution": {
     "iopub.execute_input": "2021-10-18T07:19:00.811449Z",
     "iopub.status.busy": "2021-10-18T07:19:00.810720Z",
     "iopub.status.idle": "2021-10-18T07:19:01.992572Z",
     "shell.execute_reply": "2021-10-18T07:19:01.993056Z",
     "shell.execute_reply.started": "2021-10-14T10:33:30.281333Z"
    },
    "papermill": {
     "duration": 1.209601,
     "end_time": "2021-10-18T07:19:01.993254",
     "exception": false,
     "start_time": "2021-10-18T07:19:00.783653",
     "status": "completed"
    },
    "tags": []
   },
   "outputs": [
    {
     "name": "stderr",
     "output_type": "stream",
     "text": [
      "/opt/conda/lib/python3.7/site-packages/ipykernel_launcher.py:3: PerformanceWarning: DataFrame is highly fragmented.  This is usually the result of calling `frame.insert` many times, which has poor performance.  Consider joining all columns at once using pd.concat(axis=1) instead.  To get a de-fragmented frame, use `newframe = frame.copy()`\n",
      "  This is separate from the ipykernel package so we can avoid doing imports until\n"
     ]
    }
   ],
   "source": [
    "#DEFINE FOLD\n",
    "strat_fold = StratifiedKFold(n_splits = N_FOLD, random_state = RANDOM_STATE, shuffle = True)\n",
    "train[FOLD_STRAT_NAME] = -1\n",
    "\n",
    "for i, (train_index, test_index) in enumerate(strat_fold.split(train[FEATURE], train[TARGET_COL])):\n",
    "    train.loc[test_index, FOLD_STRAT_NAME] = i"
   ]
  },
  {
   "cell_type": "markdown",
   "id": "a943e1dc",
   "metadata": {
    "papermill": {
     "duration": 0.017483,
     "end_time": "2021-10-18T07:19:02.028732",
     "exception": false,
     "start_time": "2021-10-18T07:19:02.011249",
     "status": "completed"
    },
    "tags": []
   },
   "source": [
    "# Reduced FOLD"
   ]
  },
  {
   "cell_type": "code",
   "execution_count": 10,
   "id": "97231a41",
   "metadata": {
    "execution": {
     "iopub.execute_input": "2021-10-18T07:19:02.070774Z",
     "iopub.status.busy": "2021-10-18T07:19:02.069777Z",
     "iopub.status.idle": "2021-10-18T07:19:02.631218Z",
     "shell.execute_reply": "2021-10-18T07:19:02.631778Z",
     "shell.execute_reply.started": "2021-10-14T10:33:32.187253Z"
    },
    "papermill": {
     "duration": 0.586028,
     "end_time": "2021-10-18T07:19:02.631979",
     "exception": false,
     "start_time": "2021-10-18T07:19:02.045951",
     "status": "completed"
    },
    "tags": []
   },
   "outputs": [],
   "source": [
    "#DEFINE FOLD\n",
    "strat_fold = StratifiedKFold(n_splits = N_FOLD * 4, random_state = RANDOM_STATE, shuffle = True)\n",
    "train[REDUCED_FOLD_NAME] = -1\n",
    "\n",
    "for i, (train_index, test_index) in enumerate(strat_fold.split(train[FEATURE], train[TARGET_COL])):\n",
    "    \n",
    "    #train\n",
    "    if i <= 1:\n",
    "        train.loc[test_index, REDUCED_FOLD_NAME] = 0\n",
    "        \n",
    "    #test\n",
    "    if (i == 2):\n",
    "        train.loc[test_index, REDUCED_FOLD_NAME] = 1"
   ]
  },
  {
   "cell_type": "markdown",
   "id": "b8c6a016",
   "metadata": {
    "papermill": {
     "duration": 0.016943,
     "end_time": "2021-10-18T07:19:02.666843",
     "exception": false,
     "start_time": "2021-10-18T07:19:02.649900",
     "status": "completed"
    },
    "tags": []
   },
   "source": [
    "# Save unscaled data as pickle"
   ]
  },
  {
   "cell_type": "code",
   "execution_count": 11,
   "id": "bb754390",
   "metadata": {
    "execution": {
     "iopub.execute_input": "2021-10-18T07:19:02.707311Z",
     "iopub.status.busy": "2021-10-18T07:19:02.706653Z",
     "iopub.status.idle": "2021-10-18T07:19:05.072680Z",
     "shell.execute_reply": "2021-10-18T07:19:05.071807Z",
     "shell.execute_reply.started": "2021-10-14T10:33:33.075707Z"
    },
    "papermill": {
     "duration": 2.388811,
     "end_time": "2021-10-18T07:19:05.072902",
     "exception": false,
     "start_time": "2021-10-18T07:19:02.684091",
     "status": "completed"
    },
    "tags": []
   },
   "outputs": [
    {
     "data": {
      "text/plain": [
       "0"
      ]
     },
     "execution_count": 11,
     "metadata": {},
     "output_type": "execute_result"
    }
   ],
   "source": [
    "train.to_pickle('train_unscaled.pkl')\n",
    "test.to_pickle('test_unscaled.pkl')\n",
    "\n",
    "gc.collect()"
   ]
  },
  {
   "cell_type": "markdown",
   "id": "c99c2d66",
   "metadata": {
    "papermill": {
     "duration": 0.040343,
     "end_time": "2021-10-18T07:19:05.140521",
     "exception": false,
     "start_time": "2021-10-18T07:19:05.100178",
     "status": "completed"
    },
    "tags": []
   },
   "source": [
    "# Scale train - test and save"
   ]
  },
  {
   "cell_type": "code",
   "execution_count": 12,
   "id": "e9434f49",
   "metadata": {
    "execution": {
     "iopub.execute_input": "2021-10-18T07:19:05.353187Z",
     "iopub.status.busy": "2021-10-18T07:19:05.332123Z",
     "iopub.status.idle": "2021-10-18T07:19:39.846942Z",
     "shell.execute_reply": "2021-10-18T07:19:39.846430Z",
     "shell.execute_reply.started": "2021-10-14T10:34:22.03789Z"
    },
    "papermill": {
     "duration": 34.613625,
     "end_time": "2021-10-18T07:19:39.847107",
     "exception": false,
     "start_time": "2021-10-18T07:19:05.233482",
     "status": "completed"
    },
    "tags": []
   },
   "outputs": [
    {
     "data": {
      "application/vnd.jupyter.widget-view+json": {
       "model_id": "3ce2553ba8e8452fafc6ffea8f67d8e6",
       "version_major": 2,
       "version_minor": 0
      },
      "text/plain": [
       "  0%|          | 0/294 [00:00<?, ?it/s]"
      ]
     },
     "metadata": {},
     "output_type": "display_data"
    }
   ],
   "source": [
    "#cycle for memory issue\n",
    "\n",
    "for col in tqdm(FEATURE):\n",
    "    train[col] = train[col].astype(np.float32)\n",
    "    test[col] = test[col].astype(np.float32)\n",
    "\n",
    "    mean_col, std_col = train[col].mean(), train[col].std()\n",
    "    \n",
    "    train[col] = ((train[col] - mean_col)/(std_col)).astype(np.float32)\n",
    "    test[col] = ((test[col] - mean_col)/(std_col)).astype(np.float32)\n",
    "    \n",
    "    gc.collect()"
   ]
  },
  {
   "cell_type": "code",
   "execution_count": 13,
   "id": "a2b606a2",
   "metadata": {
    "execution": {
     "iopub.execute_input": "2021-10-18T07:19:39.887914Z",
     "iopub.status.busy": "2021-10-18T07:19:39.886505Z",
     "iopub.status.idle": "2021-10-18T07:19:42.580695Z",
     "shell.execute_reply": "2021-10-18T07:19:42.581437Z",
     "shell.execute_reply.started": "2021-10-13T07:22:47.334368Z"
    },
    "papermill": {
     "duration": 2.716574,
     "end_time": "2021-10-18T07:19:42.581685",
     "exception": false,
     "start_time": "2021-10-18T07:19:39.865111",
     "status": "completed"
    },
    "tags": []
   },
   "outputs": [
    {
     "data": {
      "text/plain": [
       "0"
      ]
     },
     "execution_count": 13,
     "metadata": {},
     "output_type": "execute_result"
    }
   ],
   "source": [
    "# train\n",
    "train.to_pickle('train_scaled.pkl')\n",
    "test.to_pickle('test_scaled.pkl')\n",
    "\n",
    "gc.collect()"
   ]
  },
  {
   "cell_type": "markdown",
   "id": "8bf37c5a",
   "metadata": {
    "papermill": {
     "duration": 0.080187,
     "end_time": "2021-10-18T07:19:42.728483",
     "exception": false,
     "start_time": "2021-10-18T07:19:42.648296",
     "status": "completed"
    },
    "tags": []
   },
   "source": [
    "# SAVE FEATURE LIST"
   ]
  },
  {
   "cell_type": "code",
   "execution_count": 14,
   "id": "8da86fc3",
   "metadata": {
    "execution": {
     "iopub.execute_input": "2021-10-18T07:19:42.916553Z",
     "iopub.status.busy": "2021-10-18T07:19:42.915449Z",
     "iopub.status.idle": "2021-10-18T07:19:42.918262Z",
     "shell.execute_reply": "2021-10-18T07:19:42.917470Z",
     "shell.execute_reply.started": "2021-10-13T07:22:54.989513Z"
    },
    "papermill": {
     "duration": 0.104626,
     "end_time": "2021-10-18T07:19:42.918499",
     "exception": false,
     "start_time": "2021-10-18T07:19:42.813873",
     "status": "completed"
    },
    "tags": []
   },
   "outputs": [],
   "source": [
    "feature_dic = {\n",
    "    'feature': FEATURE,\n",
    "    'categorical' : CAT_COL,\n",
    "    'numerical': NUMERIC_COL\n",
    "}\n",
    "\n",
    "with open('feature_dic.pkl', 'wb') as file_name:\n",
    "    pickle.dump(feature_dic, file_name)"
   ]
  }
 ],
 "metadata": {
  "kernelspec": {
   "display_name": "Python 3",
   "language": "python",
   "name": "python3"
  },
  "language_info": {
   "codemirror_mode": {
    "name": "ipython",
    "version": 3
   },
   "file_extension": ".py",
   "mimetype": "text/x-python",
   "name": "python",
   "nbconvert_exporter": "python",
   "pygments_lexer": "ipython3",
   "version": "3.7.10"
  },
  "papermill": {
   "default_parameters": {},
   "duration": 340.867611,
   "end_time": "2021-10-18T07:19:44.563755",
   "environment_variables": {},
   "exception": null,
   "input_path": "__notebook__.ipynb",
   "output_path": "__notebook__.ipynb",
   "parameters": {},
   "start_time": "2021-10-18T07:14:03.696144",
   "version": "2.3.3"
  },
  "widgets": {
   "application/vnd.jupyter.widget-state+json": {
    "state": {
     "095ddb4172704919a5e8affada04eb56": {
      "model_module": "@jupyter-widgets/controls",
      "model_module_version": "1.5.0",
      "model_name": "HBoxModel",
      "state": {
       "_dom_classes": [],
       "_model_module": "@jupyter-widgets/controls",
       "_model_module_version": "1.5.0",
       "_model_name": "HBoxModel",
       "_view_count": null,
       "_view_module": "@jupyter-widgets/controls",
       "_view_module_version": "1.5.0",
       "_view_name": "HBoxView",
       "box_style": "",
       "children": [
        "IPY_MODEL_869bf3b913c84ffb80143e533e176343",
        "IPY_MODEL_b0f10ccbc00a4c25a5c54ffcf31c9d67",
        "IPY_MODEL_f9e435dfe35549aeaa1528c59c634a88"
       ],
       "layout": "IPY_MODEL_b3ee86df9a0c48d8ad1f9f197bc4587b"
      }
     },
     "12aaa4701a054d05ba79f8bd8e173225": {
      "model_module": "@jupyter-widgets/controls",
      "model_module_version": "1.5.0",
      "model_name": "FloatProgressModel",
      "state": {
       "_dom_classes": [],
       "_model_module": "@jupyter-widgets/controls",
       "_model_module_version": "1.5.0",
       "_model_name": "FloatProgressModel",
       "_view_count": null,
       "_view_module": "@jupyter-widgets/controls",
       "_view_module_version": "1.5.0",
       "_view_name": "ProgressView",
       "bar_style": "success",
       "description": "",
       "description_tooltip": null,
       "layout": "IPY_MODEL_5e0d6976b1bc451199a81d6c445d6eb4",
       "max": 294.0,
       "min": 0.0,
       "orientation": "horizontal",
       "style": "IPY_MODEL_c73757b709764a05ad45ed92d4bde839",
       "value": 294.0
      }
     },
     "1ccbd9cb394f42f48b3e7fff5dab8f35": {
      "model_module": "@jupyter-widgets/base",
      "model_module_version": "1.2.0",
      "model_name": "LayoutModel",
      "state": {
       "_model_module": "@jupyter-widgets/base",
       "_model_module_version": "1.2.0",
       "_model_name": "LayoutModel",
       "_view_count": null,
       "_view_module": "@jupyter-widgets/base",
       "_view_module_version": "1.2.0",
       "_view_name": "LayoutView",
       "align_content": null,
       "align_items": null,
       "align_self": null,
       "border": null,
       "bottom": null,
       "display": null,
       "flex": null,
       "flex_flow": null,
       "grid_area": null,
       "grid_auto_columns": null,
       "grid_auto_flow": null,
       "grid_auto_rows": null,
       "grid_column": null,
       "grid_gap": null,
       "grid_row": null,
       "grid_template_areas": null,
       "grid_template_columns": null,
       "grid_template_rows": null,
       "height": null,
       "justify_content": null,
       "justify_items": null,
       "left": null,
       "margin": null,
       "max_height": null,
       "max_width": null,
       "min_height": null,
       "min_width": null,
       "object_fit": null,
       "object_position": null,
       "order": null,
       "overflow": null,
       "overflow_x": null,
       "overflow_y": null,
       "padding": null,
       "right": null,
       "top": null,
       "visibility": null,
       "width": null
      }
     },
     "1fe4942ae8584bfb9b1c6ca72205731c": {
      "model_module": "@jupyter-widgets/controls",
      "model_module_version": "1.5.0",
      "model_name": "DescriptionStyleModel",
      "state": {
       "_model_module": "@jupyter-widgets/controls",
       "_model_module_version": "1.5.0",
       "_model_name": "DescriptionStyleModel",
       "_view_count": null,
       "_view_module": "@jupyter-widgets/base",
       "_view_module_version": "1.2.0",
       "_view_name": "StyleView",
       "description_width": ""
      }
     },
     "21054cc5182c43e59e245e6ca37d8cf4": {
      "model_module": "@jupyter-widgets/base",
      "model_module_version": "1.2.0",
      "model_name": "LayoutModel",
      "state": {
       "_model_module": "@jupyter-widgets/base",
       "_model_module_version": "1.2.0",
       "_model_name": "LayoutModel",
       "_view_count": null,
       "_view_module": "@jupyter-widgets/base",
       "_view_module_version": "1.2.0",
       "_view_name": "LayoutView",
       "align_content": null,
       "align_items": null,
       "align_self": null,
       "border": null,
       "bottom": null,
       "display": null,
       "flex": null,
       "flex_flow": null,
       "grid_area": null,
       "grid_auto_columns": null,
       "grid_auto_flow": null,
       "grid_auto_rows": null,
       "grid_column": null,
       "grid_gap": null,
       "grid_row": null,
       "grid_template_areas": null,
       "grid_template_columns": null,
       "grid_template_rows": null,
       "height": null,
       "justify_content": null,
       "justify_items": null,
       "left": null,
       "margin": null,
       "max_height": null,
       "max_width": null,
       "min_height": null,
       "min_width": null,
       "object_fit": null,
       "object_position": null,
       "order": null,
       "overflow": null,
       "overflow_x": null,
       "overflow_y": null,
       "padding": null,
       "right": null,
       "top": null,
       "visibility": null,
       "width": null
      }
     },
     "3ce2553ba8e8452fafc6ffea8f67d8e6": {
      "model_module": "@jupyter-widgets/controls",
      "model_module_version": "1.5.0",
      "model_name": "HBoxModel",
      "state": {
       "_dom_classes": [],
       "_model_module": "@jupyter-widgets/controls",
       "_model_module_version": "1.5.0",
       "_model_name": "HBoxModel",
       "_view_count": null,
       "_view_module": "@jupyter-widgets/controls",
       "_view_module_version": "1.5.0",
       "_view_name": "HBoxView",
       "box_style": "",
       "children": [
        "IPY_MODEL_5615d80e61724d0883935092745350fa",
        "IPY_MODEL_12aaa4701a054d05ba79f8bd8e173225",
        "IPY_MODEL_ffd846a1d52a4ab1846666e39355e24e"
       ],
       "layout": "IPY_MODEL_eefdbfb0e31549ed871c8378ed53e580"
      }
     },
     "40af5e88c22f4723a8c5d3a2d7711053": {
      "model_module": "@jupyter-widgets/base",
      "model_module_version": "1.2.0",
      "model_name": "LayoutModel",
      "state": {
       "_model_module": "@jupyter-widgets/base",
       "_model_module_version": "1.2.0",
       "_model_name": "LayoutModel",
       "_view_count": null,
       "_view_module": "@jupyter-widgets/base",
       "_view_module_version": "1.2.0",
       "_view_name": "LayoutView",
       "align_content": null,
       "align_items": null,
       "align_self": null,
       "border": null,
       "bottom": null,
       "display": null,
       "flex": null,
       "flex_flow": null,
       "grid_area": null,
       "grid_auto_columns": null,
       "grid_auto_flow": null,
       "grid_auto_rows": null,
       "grid_column": null,
       "grid_gap": null,
       "grid_row": null,
       "grid_template_areas": null,
       "grid_template_columns": null,
       "grid_template_rows": null,
       "height": null,
       "justify_content": null,
       "justify_items": null,
       "left": null,
       "margin": null,
       "max_height": null,
       "max_width": null,
       "min_height": null,
       "min_width": null,
       "object_fit": null,
       "object_position": null,
       "order": null,
       "overflow": null,
       "overflow_x": null,
       "overflow_y": null,
       "padding": null,
       "right": null,
       "top": null,
       "visibility": null,
       "width": null
      }
     },
     "5615d80e61724d0883935092745350fa": {
      "model_module": "@jupyter-widgets/controls",
      "model_module_version": "1.5.0",
      "model_name": "HTMLModel",
      "state": {
       "_dom_classes": [],
       "_model_module": "@jupyter-widgets/controls",
       "_model_module_version": "1.5.0",
       "_model_name": "HTMLModel",
       "_view_count": null,
       "_view_module": "@jupyter-widgets/controls",
       "_view_module_version": "1.5.0",
       "_view_name": "HTMLView",
       "description": "",
       "description_tooltip": null,
       "layout": "IPY_MODEL_1ccbd9cb394f42f48b3e7fff5dab8f35",
       "placeholder": "​",
       "style": "IPY_MODEL_e9df9d77f19e4bdd90af4300510c90ee",
       "value": "100%"
      }
     },
     "5e0d6976b1bc451199a81d6c445d6eb4": {
      "model_module": "@jupyter-widgets/base",
      "model_module_version": "1.2.0",
      "model_name": "LayoutModel",
      "state": {
       "_model_module": "@jupyter-widgets/base",
       "_model_module_version": "1.2.0",
       "_model_name": "LayoutModel",
       "_view_count": null,
       "_view_module": "@jupyter-widgets/base",
       "_view_module_version": "1.2.0",
       "_view_name": "LayoutView",
       "align_content": null,
       "align_items": null,
       "align_self": null,
       "border": null,
       "bottom": null,
       "display": null,
       "flex": null,
       "flex_flow": null,
       "grid_area": null,
       "grid_auto_columns": null,
       "grid_auto_flow": null,
       "grid_auto_rows": null,
       "grid_column": null,
       "grid_gap": null,
       "grid_row": null,
       "grid_template_areas": null,
       "grid_template_columns": null,
       "grid_template_rows": null,
       "height": null,
       "justify_content": null,
       "justify_items": null,
       "left": null,
       "margin": null,
       "max_height": null,
       "max_width": null,
       "min_height": null,
       "min_width": null,
       "object_fit": null,
       "object_position": null,
       "order": null,
       "overflow": null,
       "overflow_x": null,
       "overflow_y": null,
       "padding": null,
       "right": null,
       "top": null,
       "visibility": null,
       "width": null
      }
     },
     "869bf3b913c84ffb80143e533e176343": {
      "model_module": "@jupyter-widgets/controls",
      "model_module_version": "1.5.0",
      "model_name": "HTMLModel",
      "state": {
       "_dom_classes": [],
       "_model_module": "@jupyter-widgets/controls",
       "_model_module_version": "1.5.0",
       "_model_name": "HTMLModel",
       "_view_count": null,
       "_view_module": "@jupyter-widgets/controls",
       "_view_module_version": "1.5.0",
       "_view_name": "HTMLView",
       "description": "",
       "description_tooltip": null,
       "layout": "IPY_MODEL_40af5e88c22f4723a8c5d3a2d7711053",
       "placeholder": "​",
       "style": "IPY_MODEL_e40ee98e72984146b01ee84e1a151b08",
       "value": "100%"
      }
     },
     "9a40d03244d04e9ca94391341e0974c0": {
      "model_module": "@jupyter-widgets/base",
      "model_module_version": "1.2.0",
      "model_name": "LayoutModel",
      "state": {
       "_model_module": "@jupyter-widgets/base",
       "_model_module_version": "1.2.0",
       "_model_name": "LayoutModel",
       "_view_count": null,
       "_view_module": "@jupyter-widgets/base",
       "_view_module_version": "1.2.0",
       "_view_name": "LayoutView",
       "align_content": null,
       "align_items": null,
       "align_self": null,
       "border": null,
       "bottom": null,
       "display": null,
       "flex": null,
       "flex_flow": null,
       "grid_area": null,
       "grid_auto_columns": null,
       "grid_auto_flow": null,
       "grid_auto_rows": null,
       "grid_column": null,
       "grid_gap": null,
       "grid_row": null,
       "grid_template_areas": null,
       "grid_template_columns": null,
       "grid_template_rows": null,
       "height": null,
       "justify_content": null,
       "justify_items": null,
       "left": null,
       "margin": null,
       "max_height": null,
       "max_width": null,
       "min_height": null,
       "min_width": null,
       "object_fit": null,
       "object_position": null,
       "order": null,
       "overflow": null,
       "overflow_x": null,
       "overflow_y": null,
       "padding": null,
       "right": null,
       "top": null,
       "visibility": null,
       "width": null
      }
     },
     "b0f10ccbc00a4c25a5c54ffcf31c9d67": {
      "model_module": "@jupyter-widgets/controls",
      "model_module_version": "1.5.0",
      "model_name": "FloatProgressModel",
      "state": {
       "_dom_classes": [],
       "_model_module": "@jupyter-widgets/controls",
       "_model_module_version": "1.5.0",
       "_model_name": "FloatProgressModel",
       "_view_count": null,
       "_view_module": "@jupyter-widgets/controls",
       "_view_module_version": "1.5.0",
       "_view_name": "ProgressView",
       "bar_style": "success",
       "description": "",
       "description_tooltip": null,
       "layout": "IPY_MODEL_21054cc5182c43e59e245e6ca37d8cf4",
       "max": 295.0,
       "min": 0.0,
       "orientation": "horizontal",
       "style": "IPY_MODEL_c4f1c40787e540128d175c5237ceafa0",
       "value": 295.0
      }
     },
     "b3ee86df9a0c48d8ad1f9f197bc4587b": {
      "model_module": "@jupyter-widgets/base",
      "model_module_version": "1.2.0",
      "model_name": "LayoutModel",
      "state": {
       "_model_module": "@jupyter-widgets/base",
       "_model_module_version": "1.2.0",
       "_model_name": "LayoutModel",
       "_view_count": null,
       "_view_module": "@jupyter-widgets/base",
       "_view_module_version": "1.2.0",
       "_view_name": "LayoutView",
       "align_content": null,
       "align_items": null,
       "align_self": null,
       "border": null,
       "bottom": null,
       "display": null,
       "flex": null,
       "flex_flow": null,
       "grid_area": null,
       "grid_auto_columns": null,
       "grid_auto_flow": null,
       "grid_auto_rows": null,
       "grid_column": null,
       "grid_gap": null,
       "grid_row": null,
       "grid_template_areas": null,
       "grid_template_columns": null,
       "grid_template_rows": null,
       "height": null,
       "justify_content": null,
       "justify_items": null,
       "left": null,
       "margin": null,
       "max_height": null,
       "max_width": null,
       "min_height": null,
       "min_width": null,
       "object_fit": null,
       "object_position": null,
       "order": null,
       "overflow": null,
       "overflow_x": null,
       "overflow_y": null,
       "padding": null,
       "right": null,
       "top": null,
       "visibility": null,
       "width": null
      }
     },
     "c4f1c40787e540128d175c5237ceafa0": {
      "model_module": "@jupyter-widgets/controls",
      "model_module_version": "1.5.0",
      "model_name": "ProgressStyleModel",
      "state": {
       "_model_module": "@jupyter-widgets/controls",
       "_model_module_version": "1.5.0",
       "_model_name": "ProgressStyleModel",
       "_view_count": null,
       "_view_module": "@jupyter-widgets/base",
       "_view_module_version": "1.2.0",
       "_view_name": "StyleView",
       "bar_color": null,
       "description_width": ""
      }
     },
     "c73757b709764a05ad45ed92d4bde839": {
      "model_module": "@jupyter-widgets/controls",
      "model_module_version": "1.5.0",
      "model_name": "ProgressStyleModel",
      "state": {
       "_model_module": "@jupyter-widgets/controls",
       "_model_module_version": "1.5.0",
       "_model_name": "ProgressStyleModel",
       "_view_count": null,
       "_view_module": "@jupyter-widgets/base",
       "_view_module_version": "1.2.0",
       "_view_name": "StyleView",
       "bar_color": null,
       "description_width": ""
      }
     },
     "e40ee98e72984146b01ee84e1a151b08": {
      "model_module": "@jupyter-widgets/controls",
      "model_module_version": "1.5.0",
      "model_name": "DescriptionStyleModel",
      "state": {
       "_model_module": "@jupyter-widgets/controls",
       "_model_module_version": "1.5.0",
       "_model_name": "DescriptionStyleModel",
       "_view_count": null,
       "_view_module": "@jupyter-widgets/base",
       "_view_module_version": "1.2.0",
       "_view_name": "StyleView",
       "description_width": ""
      }
     },
     "e9df9d77f19e4bdd90af4300510c90ee": {
      "model_module": "@jupyter-widgets/controls",
      "model_module_version": "1.5.0",
      "model_name": "DescriptionStyleModel",
      "state": {
       "_model_module": "@jupyter-widgets/controls",
       "_model_module_version": "1.5.0",
       "_model_name": "DescriptionStyleModel",
       "_view_count": null,
       "_view_module": "@jupyter-widgets/base",
       "_view_module_version": "1.2.0",
       "_view_name": "StyleView",
       "description_width": ""
      }
     },
     "eefdbfb0e31549ed871c8378ed53e580": {
      "model_module": "@jupyter-widgets/base",
      "model_module_version": "1.2.0",
      "model_name": "LayoutModel",
      "state": {
       "_model_module": "@jupyter-widgets/base",
       "_model_module_version": "1.2.0",
       "_model_name": "LayoutModel",
       "_view_count": null,
       "_view_module": "@jupyter-widgets/base",
       "_view_module_version": "1.2.0",
       "_view_name": "LayoutView",
       "align_content": null,
       "align_items": null,
       "align_self": null,
       "border": null,
       "bottom": null,
       "display": null,
       "flex": null,
       "flex_flow": null,
       "grid_area": null,
       "grid_auto_columns": null,
       "grid_auto_flow": null,
       "grid_auto_rows": null,
       "grid_column": null,
       "grid_gap": null,
       "grid_row": null,
       "grid_template_areas": null,
       "grid_template_columns": null,
       "grid_template_rows": null,
       "height": null,
       "justify_content": null,
       "justify_items": null,
       "left": null,
       "margin": null,
       "max_height": null,
       "max_width": null,
       "min_height": null,
       "min_width": null,
       "object_fit": null,
       "object_position": null,
       "order": null,
       "overflow": null,
       "overflow_x": null,
       "overflow_y": null,
       "padding": null,
       "right": null,
       "top": null,
       "visibility": null,
       "width": null
      }
     },
     "f0e2bb2bf15b42178be7ed597b6dce4a": {
      "model_module": "@jupyter-widgets/base",
      "model_module_version": "1.2.0",
      "model_name": "LayoutModel",
      "state": {
       "_model_module": "@jupyter-widgets/base",
       "_model_module_version": "1.2.0",
       "_model_name": "LayoutModel",
       "_view_count": null,
       "_view_module": "@jupyter-widgets/base",
       "_view_module_version": "1.2.0",
       "_view_name": "LayoutView",
       "align_content": null,
       "align_items": null,
       "align_self": null,
       "border": null,
       "bottom": null,
       "display": null,
       "flex": null,
       "flex_flow": null,
       "grid_area": null,
       "grid_auto_columns": null,
       "grid_auto_flow": null,
       "grid_auto_rows": null,
       "grid_column": null,
       "grid_gap": null,
       "grid_row": null,
       "grid_template_areas": null,
       "grid_template_columns": null,
       "grid_template_rows": null,
       "height": null,
       "justify_content": null,
       "justify_items": null,
       "left": null,
       "margin": null,
       "max_height": null,
       "max_width": null,
       "min_height": null,
       "min_width": null,
       "object_fit": null,
       "object_position": null,
       "order": null,
       "overflow": null,
       "overflow_x": null,
       "overflow_y": null,
       "padding": null,
       "right": null,
       "top": null,
       "visibility": null,
       "width": null
      }
     },
     "f93595cf63e84dffa575361713f419df": {
      "model_module": "@jupyter-widgets/controls",
      "model_module_version": "1.5.0",
      "model_name": "DescriptionStyleModel",
      "state": {
       "_model_module": "@jupyter-widgets/controls",
       "_model_module_version": "1.5.0",
       "_model_name": "DescriptionStyleModel",
       "_view_count": null,
       "_view_module": "@jupyter-widgets/base",
       "_view_module_version": "1.2.0",
       "_view_name": "StyleView",
       "description_width": ""
      }
     },
     "f9e435dfe35549aeaa1528c59c634a88": {
      "model_module": "@jupyter-widgets/controls",
      "model_module_version": "1.5.0",
      "model_name": "HTMLModel",
      "state": {
       "_dom_classes": [],
       "_model_module": "@jupyter-widgets/controls",
       "_model_module_version": "1.5.0",
       "_model_name": "HTMLModel",
       "_view_count": null,
       "_view_module": "@jupyter-widgets/controls",
       "_view_module_version": "1.5.0",
       "_view_name": "HTMLView",
       "description": "",
       "description_tooltip": null,
       "layout": "IPY_MODEL_f0e2bb2bf15b42178be7ed597b6dce4a",
       "placeholder": "​",
       "style": "IPY_MODEL_1fe4942ae8584bfb9b1c6ca72205731c",
       "value": " 295/295 [02:17&lt;00:00,  6.50it/s]"
      }
     },
     "ffd846a1d52a4ab1846666e39355e24e": {
      "model_module": "@jupyter-widgets/controls",
      "model_module_version": "1.5.0",
      "model_name": "HTMLModel",
      "state": {
       "_dom_classes": [],
       "_model_module": "@jupyter-widgets/controls",
       "_model_module_version": "1.5.0",
       "_model_name": "HTMLModel",
       "_view_count": null,
       "_view_module": "@jupyter-widgets/controls",
       "_view_module_version": "1.5.0",
       "_view_name": "HTMLView",
       "description": "",
       "description_tooltip": null,
       "layout": "IPY_MODEL_9a40d03244d04e9ca94391341e0974c0",
       "placeholder": "​",
       "style": "IPY_MODEL_f93595cf63e84dffa575361713f419df",
       "value": " 294/294 [00:34&lt;00:00,  8.53it/s]"
      }
     }
    },
    "version_major": 2,
    "version_minor": 0
   }
  }
 },
 "nbformat": 4,
 "nbformat_minor": 5
}
