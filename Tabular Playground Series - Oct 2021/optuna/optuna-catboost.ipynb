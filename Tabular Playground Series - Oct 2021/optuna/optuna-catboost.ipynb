{
 "cells": [
  {
   "cell_type": "code",
   "execution_count": 1,
   "id": "a18772b7",
   "metadata": {
    "_cell_guid": "b1076dfc-b9ad-4769-8c92-a6c4dae69d19",
    "_uuid": "8f2839f25d086af736a60e9eeb907d3b93b6e0e5",
    "execution": {
     "iopub.execute_input": "2021-10-21T09:15:31.631959Z",
     "iopub.status.busy": "2021-10-21T09:15:31.630472Z",
     "iopub.status.idle": "2021-10-21T09:15:33.358142Z",
     "shell.execute_reply": "2021-10-21T09:15:33.358650Z",
     "shell.execute_reply.started": "2021-10-21T09:06:40.676542Z"
    },
    "papermill": {
     "duration": 1.742909,
     "end_time": "2021-10-21T09:15:33.358931",
     "exception": false,
     "start_time": "2021-10-21T09:15:31.616022",
     "status": "completed"
    },
    "tags": []
   },
   "outputs": [],
   "source": [
    "import pandas as pd\n",
    "import numpy as np\n",
    "import catboost as cb\n",
    "import optuna\n",
    "import pickle\n",
    "import os\n",
    "import gc\n",
    "from sklearn.preprocessing import MinMaxScaler\n",
    "from matplotlib import pyplot as plt\n",
    "import seaborn as sns\n",
    "import time\n",
    "import json\n",
    "import optuna\n",
    "from sklearn.model_selection import train_test_split\n",
    "from sklearn.metrics import roc_auc_score\n",
    "\n",
    "from utilities import (\n",
    "    RANDOM_STATE, TARGET_COL, N_FOLD,\n",
    ")\n",
    "\n",
    "INPUT_PATH = '../input/tabular-playground-series-oct-2021'\n",
    "PATH_NOTEBOOK = '../input/preprocess-gpu'"
   ]
  },
  {
   "cell_type": "code",
   "execution_count": 2,
   "id": "3678d8b6",
   "metadata": {
    "execution": {
     "iopub.execute_input": "2021-10-21T09:15:33.379524Z",
     "iopub.status.busy": "2021-10-21T09:15:33.378905Z",
     "iopub.status.idle": "2021-10-21T09:15:44.691200Z",
     "shell.execute_reply": "2021-10-21T09:15:44.690725Z",
     "shell.execute_reply.started": "2021-10-21T09:06:42.271503Z"
    },
    "papermill": {
     "duration": 11.323997,
     "end_time": "2021-10-21T09:15:44.691359",
     "exception": false,
     "start_time": "2021-10-21T09:15:33.367362",
     "status": "completed"
    },
    "tags": []
   },
   "outputs": [],
   "source": [
    "train = pd.read_pickle(\n",
    "    os.path.join(PATH_NOTEBOOK, 'train_unscaled.pkl')\n",
    ")"
   ]
  },
  {
   "cell_type": "code",
   "execution_count": 3,
   "id": "072fd0cf",
   "metadata": {
    "execution": {
     "iopub.execute_input": "2021-10-21T09:15:44.711163Z",
     "iopub.status.busy": "2021-10-21T09:15:44.710651Z",
     "iopub.status.idle": "2021-10-21T09:15:44.717835Z",
     "shell.execute_reply": "2021-10-21T09:15:44.718220Z",
     "shell.execute_reply.started": "2021-10-21T09:06:51.698395Z"
    },
    "papermill": {
     "duration": 0.019011,
     "end_time": "2021-10-21T09:15:44.718373",
     "exception": false,
     "start_time": "2021-10-21T09:15:44.699362",
     "status": "completed"
    },
    "tags": []
   },
   "outputs": [],
   "source": [
    "with open(os.path.join(PATH_NOTEBOOK, 'feature_dic.pkl'), 'rb') as file:\n",
    "    feature_dic = pickle.load(file)"
   ]
  },
  {
   "cell_type": "code",
   "execution_count": 4,
   "id": "d31a060b",
   "metadata": {
    "execution": {
     "iopub.execute_input": "2021-10-21T09:15:44.847672Z",
     "iopub.status.busy": "2021-10-21T09:15:44.845588Z",
     "iopub.status.idle": "2021-10-21T09:15:44.850613Z",
     "shell.execute_reply": "2021-10-21T09:15:44.850038Z",
     "shell.execute_reply.started": "2021-10-21T09:06:51.712834Z"
    },
    "papermill": {
     "duration": 0.124605,
     "end_time": "2021-10-21T09:15:44.850746",
     "exception": false,
     "start_time": "2021-10-21T09:15:44.726141",
     "status": "completed"
    },
    "tags": []
   },
   "outputs": [
    {
     "data": {
      "text/plain": [
       "63"
      ]
     },
     "execution_count": 4,
     "metadata": {},
     "output_type": "execute_result"
    }
   ],
   "source": [
    "#CONSTANT\n",
    "FEATURE = feature_dic['feature']\n",
    "CAT_COL = feature_dic['categorical']\n",
    "NUMERIC_COL = feature_dic['numerical']\n",
    "\n",
    "FOLD_LIST = list(range(N_FOLD))\n",
    "\n",
    "gc.collect()"
   ]
  },
  {
   "cell_type": "code",
   "execution_count": 5,
   "id": "f8b6816a",
   "metadata": {
    "execution": {
     "iopub.execute_input": "2021-10-21T09:15:44.881896Z",
     "iopub.status.busy": "2021-10-21T09:15:44.880671Z",
     "iopub.status.idle": "2021-10-21T09:16:04.423395Z",
     "shell.execute_reply": "2021-10-21T09:16:04.422924Z",
     "shell.execute_reply.started": "2021-10-21T09:06:51.829008Z"
    },
    "papermill": {
     "duration": 19.56364,
     "end_time": "2021-10-21T09:16:04.423529",
     "exception": false,
     "start_time": "2021-10-21T09:15:44.859889",
     "status": "completed"
    },
    "tags": []
   },
   "outputs": [
    {
     "data": {
      "text/plain": [
       "0"
      ]
     },
     "execution_count": 5,
     "metadata": {},
     "output_type": "execute_result"
    }
   ],
   "source": [
    "#train test split for optuna-study\n",
    "train_x, test_x, train_y, test_y = train_test_split(\n",
    "    train[FEATURE], train[TARGET_COL], random_state = RANDOM_STATE, \n",
    "    stratify = train[TARGET_COL], test_size = .75\n",
    ")\n",
    "\n",
    "train_pool = cb.Pool(train_x, label= train_y, cat_features = CAT_COL)\n",
    "valid_pool = cb.Pool(test_x, label= test_y, cat_features = CAT_COL)\n",
    "\n",
    "gc.collect()"
   ]
  },
  {
   "cell_type": "code",
   "execution_count": 6,
   "id": "8e5f07db",
   "metadata": {
    "execution": {
     "iopub.execute_input": "2021-10-21T09:16:04.448424Z",
     "iopub.status.busy": "2021-10-21T09:16:04.447626Z",
     "iopub.status.idle": "2021-10-21T09:16:04.449635Z",
     "shell.execute_reply": "2021-10-21T09:16:04.450016Z",
     "shell.execute_reply.started": "2021-10-21T09:09:51.974784Z"
    },
    "papermill": {
     "duration": 0.017872,
     "end_time": "2021-10-21T09:16:04.450138",
     "exception": false,
     "start_time": "2021-10-21T09:16:04.432266",
     "status": "completed"
    },
    "tags": []
   },
   "outputs": [],
   "source": [
    "def objective(trial):\n",
    "    param = {\n",
    "        'eval_metric': 'AUC',\n",
    "        'loss_function': 'Logloss',\n",
    "        'verbose': 100,\n",
    "        'random_state':RANDOM_STATE,\n",
    "        'task_type' : 'GPU',\n",
    "        'early_stopping_rounds' : 100,\n",
    "        'iterations': 100000,\n",
    "        'learning_rate': .1,\n",
    "        'metric_period': 25,\n",
    "        \"depth\": trial.suggest_int(\"depth\", 4, 8),\n",
    "        \"bagging_temperature\": trial.suggest_float(\"bagging_temperature\", 0, 10),\n",
    "        \"l2_leaf_reg\": trial.suggest_float(\"l2_leaf_reg\", 1, 5),\n",
    "        \"random_strength\": trial.suggest_float(\"random_strength\", .8, 1.2),\n",
    "        \"min_data_in_leaf\": trial.suggest_int(\"min_data_in_leaf\", 1, 32),\n",
    "    }\n",
    "    \n",
    "    model = cb.CatBoostClassifier(**param)\n",
    "    \n",
    "    model.fit(train_pool, eval_set = valid_pool, verbose=False, use_best_model=True)\n",
    "    \n",
    "    pred_prob = model.predict_proba(test_x)[:, 1]\n",
    "    \n",
    "    auc = roc_auc_score(test_y, pred_prob)\n",
    "    return auc"
   ]
  },
  {
   "cell_type": "code",
   "execution_count": 7,
   "id": "3b6312f6",
   "metadata": {
    "execution": {
     "iopub.execute_input": "2021-10-21T09:16:04.469649Z",
     "iopub.status.busy": "2021-10-21T09:16:04.468813Z",
     "iopub.status.idle": "2021-10-21T11:46:05.380306Z",
     "shell.execute_reply": "2021-10-21T11:46:05.381036Z",
     "shell.execute_reply.started": "2021-10-21T09:09:53.163366Z"
    },
    "papermill": {
     "duration": 9000.922889,
     "end_time": "2021-10-21T11:46:05.381264",
     "exception": false,
     "start_time": "2021-10-21T09:16:04.458375",
     "status": "completed"
    },
    "tags": []
   },
   "outputs": [
    {
     "name": "stderr",
     "output_type": "stream",
     "text": [
      "\u001b[32m[I 2021-10-21 09:16:04,470]\u001b[0m A new study created in memory with name: no-name-f2a5ba13-b1db-409f-b40f-534385e71b02\u001b[0m\n",
      "\u001b[32m[I 2021-10-21 09:17:57,268]\u001b[0m Trial 0 finished with value: 0.8546332989332877 and parameters: {'depth': 6, 'bagging_temperature': 1.4699815466953992, 'l2_leaf_reg': 1.5246259396958362, 'random_strength': 1.1396845596416516, 'min_data_in_leaf': 30}. Best is trial 0 with value: 0.8546332989332877.\u001b[0m\n",
      "\u001b[32m[I 2021-10-21 09:19:07,201]\u001b[0m Trial 1 finished with value: 0.851403024643521 and parameters: {'depth': 5, 'bagging_temperature': 5.951806047831038, 'l2_leaf_reg': 3.916624483168183, 'random_strength': 0.9602220376238143, 'min_data_in_leaf': 12}. Best is trial 0 with value: 0.8546332989332877.\u001b[0m\n",
      "\u001b[32m[I 2021-10-21 09:20:41,139]\u001b[0m Trial 2 finished with value: 0.8511696587916453 and parameters: {'depth': 4, 'bagging_temperature': 8.296548490653032, 'l2_leaf_reg': 2.3428972050801473, 'random_strength': 0.9217618517575213, 'min_data_in_leaf': 3}. Best is trial 0 with value: 0.8546332989332877.\u001b[0m\n",
      "\u001b[32m[I 2021-10-21 09:21:39,089]\u001b[0m Trial 3 finished with value: 0.8525496458127493 and parameters: {'depth': 6, 'bagging_temperature': 3.979226214990695, 'l2_leaf_reg': 1.2103018286216627, 'random_strength': 1.006620617465707, 'min_data_in_leaf': 20}. Best is trial 0 with value: 0.8546332989332877.\u001b[0m\n",
      "\u001b[32m[I 2021-10-21 09:23:15,054]\u001b[0m Trial 4 finished with value: 0.8505094592718314 and parameters: {'depth': 5, 'bagging_temperature': 9.33930565149705, 'l2_leaf_reg': 4.56328606424921, 'random_strength': 0.9206284266198674, 'min_data_in_leaf': 17}. Best is trial 0 with value: 0.8546332989332877.\u001b[0m\n",
      "\u001b[32m[I 2021-10-21 09:23:58,735]\u001b[0m Trial 5 finished with value: 0.8534607779067678 and parameters: {'depth': 8, 'bagging_temperature': 1.3155995515742613, 'l2_leaf_reg': 3.372173315458319, 'random_strength': 0.8438793540999112, 'min_data_in_leaf': 29}. Best is trial 0 with value: 0.8546332989332877.\u001b[0m\n",
      "\u001b[32m[I 2021-10-21 09:25:03,668]\u001b[0m Trial 6 finished with value: 0.8530308342696776 and parameters: {'depth': 4, 'bagging_temperature': 4.15871071024294, 'l2_leaf_reg': 4.306499228807881, 'random_strength': 0.8816951103988208, 'min_data_in_leaf': 22}. Best is trial 0 with value: 0.8546332989332877.\u001b[0m\n",
      "\u001b[32m[I 2021-10-21 09:26:14,206]\u001b[0m Trial 7 finished with value: 0.8455004190963451 and parameters: {'depth': 8, 'bagging_temperature': 8.231215925890508, 'l2_leaf_reg': 1.6545861850509098, 'random_strength': 0.8363425580350877, 'min_data_in_leaf': 21}. Best is trial 0 with value: 0.8546332989332877.\u001b[0m\n",
      "\u001b[32m[I 2021-10-21 09:27:04,909]\u001b[0m Trial 8 finished with value: 0.8526629235799235 and parameters: {'depth': 7, 'bagging_temperature': 3.2113417066890237, 'l2_leaf_reg': 1.2346649867288586, 'random_strength': 0.926617781895157, 'min_data_in_leaf': 31}. Best is trial 0 with value: 0.8546332989332877.\u001b[0m\n",
      "\u001b[32m[I 2021-10-21 09:28:10,743]\u001b[0m Trial 9 finished with value: 0.8515405800300141 and parameters: {'depth': 6, 'bagging_temperature': 4.9323492812140035, 'l2_leaf_reg': 2.808216630546397, 'random_strength': 1.1758932017059953, 'min_data_in_leaf': 9}. Best is trial 0 with value: 0.8546332989332877.\u001b[0m\n",
      "\u001b[32m[I 2021-10-21 09:28:51,102]\u001b[0m Trial 10 finished with value: 0.8541013766898917 and parameters: {'depth': 7, 'bagging_temperature': 0.07648794942234627, 'l2_leaf_reg': 2.2204414976622076, 'random_strength': 1.1687304480985552, 'min_data_in_leaf': 28}. Best is trial 0 with value: 0.8546332989332877.\u001b[0m\n",
      "\u001b[32m[I 2021-10-21 09:29:31,204]\u001b[0m Trial 11 finished with value: 0.8540304652773014 and parameters: {'depth': 7, 'bagging_temperature': 0.15272749157900767, 'l2_leaf_reg': 2.0726152960967985, 'random_strength': 1.1917078013225368, 'min_data_in_leaf': 27}. Best is trial 0 with value: 0.8546332989332877.\u001b[0m\n",
      "\u001b[32m[I 2021-10-21 09:30:16,912]\u001b[0m Trial 12 finished with value: 0.8539805172622407 and parameters: {'depth': 7, 'bagging_temperature': 1.8703560605006997, 'l2_leaf_reg': 2.4036137774359045, 'random_strength': 1.1017406513680759, 'min_data_in_leaf': 27}. Best is trial 0 with value: 0.8546332989332877.\u001b[0m\n",
      "\u001b[32m[I 2021-10-21 09:30:57,701]\u001b[0m Trial 13 finished with value: 0.8545143154682934 and parameters: {'depth': 6, 'bagging_temperature': 0.3892822115205591, 'l2_leaf_reg': 1.7551468550267386, 'random_strength': 1.0937716071039012, 'min_data_in_leaf': 32}. Best is trial 0 with value: 0.8546332989332877.\u001b[0m\n",
      "\u001b[32m[I 2021-10-21 09:31:49,061]\u001b[0m Trial 14 finished with value: 0.8546877292636826 and parameters: {'depth': 5, 'bagging_temperature': 2.125822955863893, 'l2_leaf_reg': 1.6483460750467962, 'random_strength': 1.0558735157639394, 'min_data_in_leaf': 32}. Best is trial 14 with value: 0.8546877292636826.\u001b[0m\n",
      "\u001b[32m[I 2021-10-21 09:32:40,665]\u001b[0m Trial 15 finished with value: 0.8544889497910605 and parameters: {'depth': 5, 'bagging_temperature': 2.40902320712766, 'l2_leaf_reg': 2.9952027986101903, 'random_strength': 1.048894443584335, 'min_data_in_leaf': 24}. Best is trial 14 with value: 0.8546877292636826.\u001b[0m\n",
      "\u001b[32m[I 2021-10-21 09:33:52,834]\u001b[0m Trial 16 finished with value: 0.8504519654363278 and parameters: {'depth': 5, 'bagging_temperature': 6.671187062825702, 'l2_leaf_reg': 1.0404172368820221, 'random_strength': 1.1104223578303993, 'min_data_in_leaf': 25}. Best is trial 14 with value: 0.8546877292636826.\u001b[0m\n",
      "\u001b[32m[I 2021-10-21 09:34:46,322]\u001b[0m Trial 17 finished with value: 0.8546408448248418 and parameters: {'depth': 4, 'bagging_temperature': 2.45051678387647, 'l2_leaf_reg': 1.6325760739506474, 'random_strength': 1.0355269847124262, 'min_data_in_leaf': 14}. Best is trial 14 with value: 0.8546877292636826.\u001b[0m\n",
      "\u001b[32m[I 2021-10-21 09:35:42,729]\u001b[0m Trial 18 finished with value: 0.8543195031602978 and parameters: {'depth': 4, 'bagging_temperature': 2.849344088754848, 'l2_leaf_reg': 3.486624746847009, 'random_strength': 1.0377699569484236, 'min_data_in_leaf': 12}. Best is trial 14 with value: 0.8546877292636826.\u001b[0m\n",
      "\u001b[32m[I 2021-10-21 09:36:49,104]\u001b[0m Trial 19 finished with value: 0.853721909281693 and parameters: {'depth': 4, 'bagging_temperature': 3.5963476104499437, 'l2_leaf_reg': 2.644537163344123, 'random_strength': 1.044594939981267, 'min_data_in_leaf': 4}. Best is trial 14 with value: 0.8546877292636826.\u001b[0m\n",
      "\u001b[32m[I 2021-10-21 09:38:00,253]\u001b[0m Trial 20 finished with value: 0.8514633891732851 and parameters: {'depth': 5, 'bagging_temperature': 5.461491144240861, 'l2_leaf_reg': 1.963826095213336, 'random_strength': 0.9727426030977927, 'min_data_in_leaf': 16}. Best is trial 14 with value: 0.8546877292636826.\u001b[0m\n",
      "\u001b[32m[I 2021-10-21 09:38:42,788]\u001b[0m Trial 21 finished with value: 0.854587113488883 and parameters: {'depth': 6, 'bagging_temperature': 1.3683973238625864, 'l2_leaf_reg': 1.4872009477276746, 'random_strength': 1.1384967554396033, 'min_data_in_leaf': 32}. Best is trial 14 with value: 0.8546877292636826.\u001b[0m\n",
      "\u001b[32m[I 2021-10-21 09:39:33,923]\u001b[0m Trial 22 finished with value: 0.8547381843938879 and parameters: {'depth': 5, 'bagging_temperature': 1.9418355044064646, 'l2_leaf_reg': 1.4615338668280413, 'random_strength': 1.0662174827408335, 'min_data_in_leaf': 17}. Best is trial 22 with value: 0.8547381843938879.\u001b[0m\n",
      "\u001b[32m[I 2021-10-21 09:40:27,319]\u001b[0m Trial 23 finished with value: 0.8546803032229082 and parameters: {'depth': 4, 'bagging_temperature': 2.344154436816704, 'l2_leaf_reg': 1.7269044888492182, 'random_strength': 1.0771797710103155, 'min_data_in_leaf': 7}. Best is trial 22 with value: 0.8547381843938879.\u001b[0m\n",
      "\u001b[32m[I 2021-10-21 09:41:31,099]\u001b[0m Trial 24 finished with value: 0.8523586267243278 and parameters: {'depth': 5, 'bagging_temperature': 4.476879901650746, 'l2_leaf_reg': 1.0292984037937285, 'random_strength': 1.0663403863682115, 'min_data_in_leaf': 8}. Best is trial 22 with value: 0.8547381843938879.\u001b[0m\n",
      "\u001b[32m[I 2021-10-21 09:42:16,447]\u001b[0m Trial 25 finished with value: 0.8551379486389877 and parameters: {'depth': 4, 'bagging_temperature': 0.996078562186198, 'l2_leaf_reg': 1.9556906044796443, 'random_strength': 1.0787164610912559, 'min_data_in_leaf': 1}. Best is trial 25 with value: 0.8551379486389877.\u001b[0m\n",
      "\u001b[32m[I 2021-10-21 09:42:59,966]\u001b[0m Trial 26 finished with value: 0.8549160266663386 and parameters: {'depth': 5, 'bagging_temperature': 0.9488148686075297, 'l2_leaf_reg': 2.029913585775928, 'random_strength': 1.0041518137106216, 'min_data_in_leaf': 1}. Best is trial 25 with value: 0.8551379486389877.\u001b[0m\n",
      "\u001b[32m[I 2021-10-21 09:43:46,009]\u001b[0m Trial 27 finished with value: 0.8551722560775341 and parameters: {'depth': 4, 'bagging_temperature': 0.8974505927506247, 'l2_leaf_reg': 2.6395867332511433, 'random_strength': 0.9852649482341408, 'min_data_in_leaf': 1}. Best is trial 27 with value: 0.8551722560775341.\u001b[0m\n",
      "\u001b[32m[I 2021-10-21 09:44:31,392]\u001b[0m Trial 28 finished with value: 0.8551064046306005 and parameters: {'depth': 4, 'bagging_temperature': 0.8158140706754233, 'l2_leaf_reg': 2.628621449620729, 'random_strength': 0.9975416893829463, 'min_data_in_leaf': 1}. Best is trial 27 with value: 0.8551722560775341.\u001b[0m\n",
      "\u001b[32m[I 2021-10-21 09:45:17,505]\u001b[0m Trial 29 finished with value: 0.8550664414356139 and parameters: {'depth': 4, 'bagging_temperature': 0.8266002861112645, 'l2_leaf_reg': 3.396527637857332, 'random_strength': 0.9815238003119889, 'min_data_in_leaf': 1}. Best is trial 27 with value: 0.8551722560775341.\u001b[0m\n",
      "\u001b[32m[I 2021-10-21 09:46:04,516]\u001b[0m Trial 30 finished with value: 0.85510291590198 and parameters: {'depth': 4, 'bagging_temperature': 0.8230791639518712, 'l2_leaf_reg': 2.6209758123602778, 'random_strength': 0.8028637539664547, 'min_data_in_leaf': 4}. Best is trial 27 with value: 0.8551722560775341.\u001b[0m\n",
      "\u001b[32m[I 2021-10-21 09:46:49,996]\u001b[0m Trial 31 finished with value: 0.8551069469386671 and parameters: {'depth': 4, 'bagging_temperature': 0.8558456419478874, 'l2_leaf_reg': 2.7097433080858724, 'random_strength': 0.9461038979208992, 'min_data_in_leaf': 5}. Best is trial 27 with value: 0.8551722560775341.\u001b[0m\n",
      "\u001b[32m[I 2021-10-21 09:47:38,583]\u001b[0m Trial 32 finished with value: 0.8551475174800034 and parameters: {'depth': 4, 'bagging_temperature': 1.3085672400259623, 'l2_leaf_reg': 3.0738686823849073, 'random_strength': 0.944040609302229, 'min_data_in_leaf': 6}. Best is trial 27 with value: 0.8551722560775341.\u001b[0m\n",
      "\u001b[32m[I 2021-10-21 09:48:27,018]\u001b[0m Trial 33 finished with value: 0.8550909947743036 and parameters: {'depth': 4, 'bagging_temperature': 1.600913352680001, 'l2_leaf_reg': 3.1871184983871106, 'random_strength': 0.9487414951315151, 'min_data_in_leaf': 6}. Best is trial 27 with value: 0.8551722560775341.\u001b[0m\n",
      "\u001b[32m[I 2021-10-21 09:49:31,918]\u001b[0m Trial 34 finished with value: 0.8540746316478036 and parameters: {'depth': 4, 'bagging_temperature': 3.206822563645522, 'l2_leaf_reg': 3.7899889654545222, 'random_strength': 0.8994588730757297, 'min_data_in_leaf': 5}. Best is trial 27 with value: 0.8551722560775341.\u001b[0m\n",
      "\u001b[32m[I 2021-10-21 09:50:59,489]\u001b[0m Trial 35 finished with value: 0.8510076774194718 and parameters: {'depth': 4, 'bagging_temperature': 7.004472926164306, 'l2_leaf_reg': 2.913662586198746, 'random_strength': 0.9437649076032203, 'min_data_in_leaf': 11}. Best is trial 27 with value: 0.8551722560775341.\u001b[0m\n",
      "\u001b[32m[I 2021-10-21 09:51:49,768]\u001b[0m Trial 36 finished with value: 0.8551473101980303 and parameters: {'depth': 4, 'bagging_temperature': 1.4314357799592439, 'l2_leaf_reg': 3.7553195865195965, 'random_strength': 0.8832506191281042, 'min_data_in_leaf': 3}. Best is trial 27 with value: 0.8551722560775341.\u001b[0m\n",
      "\u001b[32m[I 2021-10-21 09:52:36,761]\u001b[0m Trial 37 finished with value: 0.8549370526488157 and parameters: {'depth': 5, 'bagging_temperature': 1.4375236534564437, 'l2_leaf_reg': 3.9667340728692024, 'random_strength': 0.8801524183333663, 'min_data_in_leaf': 3}. Best is trial 27 with value: 0.8551722560775341.\u001b[0m\n",
      "\u001b[32m[I 2021-10-21 09:53:33,439]\u001b[0m Trial 38 finished with value: 0.8543402157487019 and parameters: {'depth': 4, 'bagging_temperature': 2.8326592792291514, 'l2_leaf_reg': 4.732960917262853, 'random_strength': 0.8508175404227375, 'min_data_in_leaf': 3}. Best is trial 27 with value: 0.8551722560775341.\u001b[0m\n",
      "\u001b[32m[I 2021-10-21 09:54:14,193]\u001b[0m Trial 39 finished with value: 0.854823491560486 and parameters: {'depth': 5, 'bagging_temperature': 0.44410160569154544, 'l2_leaf_reg': 4.223930285388095, 'random_strength': 0.9022894468572046, 'min_data_in_leaf': 10}. Best is trial 27 with value: 0.8551722560775341.\u001b[0m\n",
      "\u001b[32m[I 2021-10-21 09:55:03,394]\u001b[0m Trial 40 finished with value: 0.8551275156620466 and parameters: {'depth': 4, 'bagging_temperature': 1.4221574323271442, 'l2_leaf_reg': 3.582149866975576, 'random_strength': 1.0189065804971873, 'min_data_in_leaf': 7}. Best is trial 27 with value: 0.8551722560775341.\u001b[0m\n",
      "\u001b[32m[I 2021-10-21 09:55:51,130]\u001b[0m Trial 41 finished with value: 0.8551926005304804 and parameters: {'depth': 4, 'bagging_temperature': 1.3382611217095273, 'l2_leaf_reg': 3.7670456268670325, 'random_strength': 1.0278920161434244, 'min_data_in_leaf': 7}. Best is trial 41 with value: 0.8551926005304804.\u001b[0m\n",
      "\u001b[32m[I 2021-10-21 09:56:33,635]\u001b[0m Trial 42 finished with value: 0.8549335337761672 and parameters: {'depth': 4, 'bagging_temperature': 0.03036341339366999, 'l2_leaf_reg': 3.225153462973337, 'random_strength': 0.984116714371464, 'min_data_in_leaf': 2}. Best is trial 41 with value: 0.8551926005304804.\u001b[0m\n",
      "\u001b[32m[I 2021-10-21 09:57:23,527]\u001b[0m Trial 43 finished with value: 0.8550250290872622 and parameters: {'depth': 4, 'bagging_temperature': 1.7356712432743073, 'l2_leaf_reg': 3.7573828959298696, 'random_strength': 1.0161240495940693, 'min_data_in_leaf': 5}. Best is trial 41 with value: 0.8551926005304804.\u001b[0m\n",
      "\u001b[32m[I 2021-10-21 09:58:11,266]\u001b[0m Trial 44 finished with value: 0.8551666047584319 and parameters: {'depth': 4, 'bagging_temperature': 1.1480394842166322, 'l2_leaf_reg': 4.100127499327576, 'random_strength': 0.8669284705776724, 'min_data_in_leaf': 9}. Best is trial 41 with value: 0.8551926005304804.\u001b[0m\n",
      "\u001b[32m[I 2021-10-21 09:58:59,793]\u001b[0m Trial 45 finished with value: 0.8525103403890493 and parameters: {'depth': 8, 'bagging_temperature': 2.7809162089426396, 'l2_leaf_reg': 4.259489859735985, 'random_strength': 0.862089710893579, 'min_data_in_leaf': 9}. Best is trial 41 with value: 0.8551926005304804.\u001b[0m\n",
      "\u001b[32m[I 2021-10-21 10:00:04,296]\u001b[0m Trial 46 finished with value: 0.8536093324005127 and parameters: {'depth': 4, 'bagging_temperature': 3.6947421240468823, 'l2_leaf_reg': 4.0830714027189074, 'random_strength': 0.8148365292554801, 'min_data_in_leaf': 7}. Best is trial 41 with value: 0.8551926005304804.\u001b[0m\n",
      "\u001b[32m[I 2021-10-21 10:01:39,501]\u001b[0m Trial 47 finished with value: 0.8506936357155839 and parameters: {'depth': 5, 'bagging_temperature': 9.30911980720209, 'l2_leaf_reg': 4.630533579902882, 'random_strength': 0.9204826872890609, 'min_data_in_leaf': 14}. Best is trial 41 with value: 0.8551926005304804.\u001b[0m\n",
      "\u001b[32m[I 2021-10-21 10:02:22,733]\u001b[0m Trial 48 finished with value: 0.854980372767854 and parameters: {'depth': 4, 'bagging_temperature': 0.3246178411972668, 'l2_leaf_reg': 3.1730253314700554, 'random_strength': 0.8848797007171042, 'min_data_in_leaf': 3}. Best is trial 41 with value: 0.8551926005304804.\u001b[0m\n",
      "\u001b[32m[I 2021-10-21 10:03:13,867]\u001b[0m Trial 49 finished with value: 0.8548239955609609 and parameters: {'depth': 5, 'bagging_temperature': 1.8476617379742573, 'l2_leaf_reg': 4.940495004900007, 'random_strength': 0.9294305390531052, 'min_data_in_leaf': 8}. Best is trial 41 with value: 0.8551926005304804.\u001b[0m\n",
      "\u001b[32m[I 2021-10-21 10:04:01,664]\u001b[0m Trial 50 finished with value: 0.8551891996526093 and parameters: {'depth': 4, 'bagging_temperature': 1.2180455069473803, 'l2_leaf_reg': 4.4607355004739855, 'random_strength': 0.9618067716950578, 'min_data_in_leaf': 19}. Best is trial 41 with value: 0.8551926005304804.\u001b[0m\n",
      "\u001b[32m[I 2021-10-21 10:04:49,842]\u001b[0m Trial 51 finished with value: 0.8551180918665011 and parameters: {'depth': 4, 'bagging_temperature': 1.1953935526906412, 'l2_leaf_reg': 4.404121451082688, 'random_strength': 0.9583813433612234, 'min_data_in_leaf': 19}. Best is trial 41 with value: 0.8551926005304804.\u001b[0m\n",
      "\u001b[32m[I 2021-10-21 10:05:33,107]\u001b[0m Trial 52 finished with value: 0.8550425548779972 and parameters: {'depth': 4, 'bagging_temperature': 0.6029507147620506, 'l2_leaf_reg': 4.406574916192711, 'random_strength': 0.8308747462990614, 'min_data_in_leaf': 19}. Best is trial 41 with value: 0.8551926005304804.\u001b[0m\n",
      "\u001b[32m[I 2021-10-21 10:06:27,546]\u001b[0m Trial 53 finished with value: 0.8548669424032027 and parameters: {'depth': 4, 'bagging_temperature': 2.149291979918025, 'l2_leaf_reg': 3.689073586374247, 'random_strength': 0.8612993573110836, 'min_data_in_leaf': 23}. Best is trial 41 with value: 0.8551926005304804.\u001b[0m\n",
      "\u001b[32m[I 2021-10-21 10:07:08,504]\u001b[0m Trial 54 finished with value: 0.8548767900498146 and parameters: {'depth': 4, 'bagging_temperature': 0.004556586198713797, 'l2_leaf_reg': 4.034071441094671, 'random_strength': 0.9713962100868445, 'min_data_in_leaf': 14}. Best is trial 41 with value: 0.8551926005304804.\u001b[0m\n",
      "\u001b[32m[I 2021-10-21 10:07:55,823]\u001b[0m Trial 55 finished with value: 0.8551545272714969 and parameters: {'depth': 4, 'bagging_temperature': 1.2481602769775073, 'l2_leaf_reg': 4.115625370628537, 'random_strength': 0.9085151891423089, 'min_data_in_leaf': 21}. Best is trial 41 with value: 0.8551926005304804.\u001b[0m\n",
      "\u001b[32m[I 2021-10-21 10:08:39,966]\u001b[0m Trial 56 finished with value: 0.8549542781228234 and parameters: {'depth': 5, 'bagging_temperature': 1.184365675788666, 'l2_leaf_reg': 4.845199665772958, 'random_strength': 0.9134461270075378, 'min_data_in_leaf': 21}. Best is trial 41 with value: 0.8551926005304804.\u001b[0m\n",
      "\u001b[32m[I 2021-10-21 10:09:37,729]\u001b[0m Trial 57 finished with value: 0.8545570560383409 and parameters: {'depth': 4, 'bagging_temperature': 2.6256944212834683, 'l2_leaf_reg': 4.518118644742491, 'random_strength': 0.9356947056466167, 'min_data_in_leaf': 19}. Best is trial 41 with value: 0.8551926005304804.\u001b[0m\n",
      "\u001b[32m[I 2021-10-21 10:10:31,907]\u001b[0m Trial 58 finished with value: 0.8538106191679415 and parameters: {'depth': 5, 'bagging_temperature': 3.1769522233752454, 'l2_leaf_reg': 2.4729300655224966, 'random_strength': 0.9603128758913343, 'min_data_in_leaf': 16}. Best is trial 41 with value: 0.8551926005304804.\u001b[0m\n",
      "\u001b[32m[I 2021-10-21 10:11:19,403]\u001b[0m Trial 59 finished with value: 0.8538096281554524 and parameters: {'depth': 7, 'bagging_temperature': 2.211494832842236, 'l2_leaf_reg': 4.1785705911015345, 'random_strength': 1.0198401357418163, 'min_data_in_leaf': 12}. Best is trial 41 with value: 0.8551926005304804.\u001b[0m\n",
      "\u001b[32m[I 2021-10-21 10:11:59,504]\u001b[0m Trial 60 finished with value: 0.8546575666823747 and parameters: {'depth': 6, 'bagging_temperature': 0.5879528490354713, 'l2_leaf_reg': 3.925028254514307, 'random_strength': 0.9061848683448704, 'min_data_in_leaf': 25}. Best is trial 41 with value: 0.8551926005304804.\u001b[0m\n",
      "\u001b[32m[I 2021-10-21 10:12:49,054]\u001b[0m Trial 61 finished with value: 0.8550968748153993 and parameters: {'depth': 4, 'bagging_temperature': 1.6774466386427338, 'l2_leaf_reg': 3.842130168520271, 'random_strength': 0.8819982487906388, 'min_data_in_leaf': 21}. Best is trial 41 with value: 0.8551926005304804.\u001b[0m\n",
      "\u001b[32m[I 2021-10-21 10:13:37,585]\u001b[0m Trial 62 finished with value: 0.8551341593803063 and parameters: {'depth': 4, 'bagging_temperature': 1.1965249998998588, 'l2_leaf_reg': 3.5295328153692775, 'random_strength': 0.9933655837900301, 'min_data_in_leaf': 4}. Best is trial 41 with value: 0.8551926005304804.\u001b[0m\n",
      "\u001b[32m[I 2021-10-21 10:14:27,177]\u001b[0m Trial 63 finished with value: 0.8550370856675107 and parameters: {'depth': 4, 'bagging_temperature': 1.8489619251200407, 'l2_leaf_reg': 4.104002115091525, 'random_strength': 0.8676875626562323, 'min_data_in_leaf': 6}. Best is trial 41 with value: 0.8551926005304804.\u001b[0m\n",
      "\u001b[32m[I 2021-10-21 10:15:12,573]\u001b[0m Trial 64 finished with value: 0.8550817836082916 and parameters: {'depth': 4, 'bagging_temperature': 0.6237452791361835, 'l2_leaf_reg': 2.3003700350946428, 'random_strength': 0.8918760769804692, 'min_data_in_leaf': 18}. Best is trial 41 with value: 0.8551926005304804.\u001b[0m\n",
      "\u001b[32m[I 2021-10-21 10:15:59,986]\u001b[0m Trial 65 finished with value: 0.855171109765343 and parameters: {'depth': 4, 'bagging_temperature': 1.1115786700451893, 'l2_leaf_reg': 3.640769951169816, 'random_strength': 0.967194613897416, 'min_data_in_leaf': 2}. Best is trial 41 with value: 0.8551926005304804.\u001b[0m\n",
      "\u001b[32m[I 2021-10-21 10:16:43,781]\u001b[0m Trial 66 finished with value: 0.855087256502337 and parameters: {'depth': 4, 'bagging_temperature': 0.33443088643867236, 'l2_leaf_reg': 3.061245452307423, 'random_strength': 0.9602977795118813, 'min_data_in_leaf': 22}. Best is trial 41 with value: 0.8551926005304804.\u001b[0m\n",
      "\u001b[32m[I 2021-10-21 10:17:31,407]\u001b[0m Trial 67 finished with value: 0.8551174313787675 and parameters: {'depth': 4, 'bagging_temperature': 1.034389774168708, 'l2_leaf_reg': 3.3664177256172847, 'random_strength': 0.9753223560319977, 'min_data_in_leaf': 2}. Best is trial 41 with value: 0.8551926005304804.\u001b[0m\n",
      "\u001b[32m[I 2021-10-21 10:18:22,292]\u001b[0m Trial 68 finished with value: 0.8549298942349599 and parameters: {'depth': 4, 'bagging_temperature': 1.9827547001259935, 'l2_leaf_reg': 4.415151397814505, 'random_strength': 1.0275060553426758, 'min_data_in_leaf': 9}. Best is trial 41 with value: 0.8551926005304804.\u001b[0m\n",
      "\u001b[32m[I 2021-10-21 10:19:43,382]\u001b[0m Trial 69 finished with value: 0.8517081387301088 and parameters: {'depth': 4, 'bagging_temperature': 6.074214984261845, 'l2_leaf_reg': 2.886165517493385, 'random_strength': 0.9885104408701695, 'min_data_in_leaf': 15}. Best is trial 41 with value: 0.8551926005304804.\u001b[0m\n",
      "\u001b[32m[I 2021-10-21 10:20:32,888]\u001b[0m Trial 70 finished with value: 0.8545831770442853 and parameters: {'depth': 5, 'bagging_temperature': 2.253054859845688, 'l2_leaf_reg': 3.6389922370094165, 'random_strength': 0.9510229253553075, 'min_data_in_leaf': 6}. Best is trial 41 with value: 0.8551926005304804.\u001b[0m\n",
      "\u001b[32m[I 2021-10-21 10:21:21,135]\u001b[0m Trial 71 finished with value: 0.8551277294862483 and parameters: {'depth': 4, 'bagging_temperature': 1.3616622831266036, 'l2_leaf_reg': 3.9371186735479635, 'random_strength': 1.0051272188848805, 'min_data_in_leaf': 2}. Best is trial 41 with value: 0.8551926005304804.\u001b[0m\n",
      "\u001b[32m[I 2021-10-21 10:22:10,784]\u001b[0m Trial 72 finished with value: 0.8550846892181404 and parameters: {'depth': 4, 'bagging_temperature': 1.590016861609207, 'l2_leaf_reg': 3.412339869023145, 'random_strength': 0.9297916771181312, 'min_data_in_leaf': 4}. Best is trial 41 with value: 0.8551926005304804.\u001b[0m\n",
      "\u001b[32m[I 2021-10-21 10:22:56,217]\u001b[0m Trial 73 finished with value: 0.8550927152665911 and parameters: {'depth': 4, 'bagging_temperature': 1.0324553913209908, 'l2_leaf_reg': 3.724613754120431, 'random_strength': 0.9386347484166871, 'min_data_in_leaf': 3}. Best is trial 41 with value: 0.8551926005304804.\u001b[0m\n",
      "\u001b[32m[I 2021-10-21 10:23:38,943]\u001b[0m Trial 74 finished with value: 0.855027363325906 and parameters: {'depth': 4, 'bagging_temperature': 0.6707018915033539, 'l2_leaf_reg': 3.867384187275491, 'random_strength': 0.9108185435186557, 'min_data_in_leaf': 2}. Best is trial 41 with value: 0.8551926005304804.\u001b[0m\n",
      "\u001b[32m[I 2021-10-21 10:24:21,370]\u001b[0m Trial 75 finished with value: 0.8549160572370341 and parameters: {'depth': 4, 'bagging_temperature': 0.29689878968763417, 'l2_leaf_reg': 3.298065468183307, 'random_strength': 0.8714437048545967, 'min_data_in_leaf': 5}. Best is trial 41 with value: 0.8551926005304804.\u001b[0m\n",
      "\u001b[32m[I 2021-10-21 10:25:26,506]\u001b[0m Trial 76 finished with value: 0.8524467734953791 and parameters: {'depth': 4, 'bagging_temperature': 4.70322188204039, 'l2_leaf_reg': 2.4797700356040124, 'random_strength': 0.8461984943530403, 'min_data_in_leaf': 8}. Best is trial 41 with value: 0.8551926005304804.\u001b[0m\n",
      "\u001b[32m[I 2021-10-21 10:26:15,833]\u001b[0m Trial 77 finished with value: 0.8552016658190216 and parameters: {'depth': 4, 'bagging_temperature': 1.4005720157052057, 'l2_leaf_reg': 2.7692656920601277, 'random_strength': 0.8955766202947183, 'min_data_in_leaf': 1}. Best is trial 77 with value: 0.8552016658190216.\u001b[0m\n",
      "\u001b[32m[I 2021-10-21 10:26:59,359]\u001b[0m Trial 78 finished with value: 0.8549979708217681 and parameters: {'depth': 5, 'bagging_temperature': 0.9788320113693841, 'l2_leaf_reg': 2.7295698700216833, 'random_strength': 0.9199086511412102, 'min_data_in_leaf': 1}. Best is trial 77 with value: 0.8552016658190216.\u001b[0m\n",
      "\u001b[32m[I 2021-10-21 10:27:57,000]\u001b[0m Trial 79 finished with value: 0.8546781829151326 and parameters: {'depth': 4, 'bagging_temperature': 2.5077705444626615, 'l2_leaf_reg': 2.153733869888834, 'random_strength': 0.9747706819105942, 'min_data_in_leaf': 20}. Best is trial 77 with value: 0.8552016658190216.\u001b[0m\n",
      "\u001b[32m[I 2021-10-21 10:29:30,475]\u001b[0m Trial 80 finished with value: 0.8511299707471403 and parameters: {'depth': 4, 'bagging_temperature': 7.414195705145232, 'l2_leaf_reg': 2.9700984336045684, 'random_strength': 0.8925612706081804, 'min_data_in_leaf': 18}. Best is trial 77 with value: 0.8552016658190216.\u001b[0m\n",
      "\u001b[32m[I 2021-10-21 10:30:19,642]\u001b[0m Trial 81 finished with value: 0.8551427432177274 and parameters: {'depth': 4, 'bagging_temperature': 1.5185208372870678, 'l2_leaf_reg': 3.0702729447063533, 'random_strength': 0.8357107778530041, 'min_data_in_leaf': 4}. Best is trial 77 with value: 0.8552016658190216.\u001b[0m\n",
      "\u001b[32m[I 2021-10-21 10:31:07,806]\u001b[0m Trial 82 finished with value: 0.8551751070668869 and parameters: {'depth': 4, 'bagging_temperature': 1.2871272055227125, 'l2_leaf_reg': 4.326485095798361, 'random_strength': 0.9004253436162015, 'min_data_in_leaf': 1}. Best is trial 77 with value: 0.8552016658190216.\u001b[0m\n",
      "\u001b[32m[I 2021-10-21 10:31:58,058]\u001b[0m Trial 83 finished with value: 0.8549530834052532 and parameters: {'depth': 4, 'bagging_temperature': 1.9390253053450857, 'l2_leaf_reg': 4.349020366196385, 'random_strength': 0.9553422179086166, 'min_data_in_leaf': 1}. Best is trial 77 with value: 0.8552016658190216.\u001b[0m\n",
      "\u001b[32m[I 2021-10-21 10:32:45,978]\u001b[0m Trial 84 finished with value: 0.855172486292862 and parameters: {'depth': 4, 'bagging_temperature': 1.225750870543505, 'l2_leaf_reg': 4.525818672713232, 'random_strength': 0.9663891864227634, 'min_data_in_leaf': 2}. Best is trial 77 with value: 0.8552016658190216.\u001b[0m\n",
      "\u001b[32m[I 2021-10-21 10:33:33,203]\u001b[0m Trial 85 finished with value: 0.8551226089552014 and parameters: {'depth': 4, 'bagging_temperature': 0.7794000500576332, 'l2_leaf_reg': 4.596049096155909, 'random_strength': 1.0387192816012525, 'min_data_in_leaf': 2}. Best is trial 77 with value: 0.8552016658190216.\u001b[0m\n",
      "\u001b[32m[I 2021-10-21 10:34:20,512]\u001b[0m Trial 86 finished with value: 0.8551074094031025 and parameters: {'depth': 4, 'bagging_temperature': 1.195293948226288, 'l2_leaf_reg': 4.501749167902976, 'random_strength': 0.9970390363496627, 'min_data_in_leaf': 1}. Best is trial 77 with value: 0.8552016658190216.\u001b[0m\n",
      "\u001b[32m[I 2021-10-21 10:35:06,167]\u001b[0m Trial 87 finished with value: 0.8533767901583018 and parameters: {'depth': 8, 'bagging_temperature': 1.641547191710432, 'l2_leaf_reg': 4.685603353779138, 'random_strength': 0.9657800170216865, 'min_data_in_leaf': 2}. Best is trial 77 with value: 0.8552016658190216.\u001b[0m\n",
      "\u001b[32m[I 2021-10-21 10:35:49,408]\u001b[0m Trial 88 finished with value: 0.8550461441862679 and parameters: {'depth': 4, 'bagging_temperature': 0.49967525305202193, 'l2_leaf_reg': 4.221700677455223, 'random_strength': 1.0151497339871065, 'min_data_in_leaf': 4}. Best is trial 77 with value: 0.8552016658190216.\u001b[0m\n",
      "\u001b[32m[I 2021-10-21 10:36:30,337]\u001b[0m Trial 89 finished with value: 0.8550640270546725 and parameters: {'depth': 4, 'bagging_temperature': 0.23307876535041183, 'l2_leaf_reg': 4.140665730459009, 'random_strength': 0.8960473389251462, 'min_data_in_leaf': 3}. Best is trial 77 with value: 0.8552016658190216.\u001b[0m\n",
      "\u001b[32m[I 2021-10-21 10:37:16,168]\u001b[0m Trial 90 finished with value: 0.853892016144189 and parameters: {'depth': 7, 'bagging_temperature': 2.0958947458950927, 'l2_leaf_reg': 4.818121370033398, 'random_strength': 0.853875718720499, 'min_data_in_leaf': 1}. Best is trial 77 with value: 0.8552016658190216.\u001b[0m\n",
      "\u001b[32m[I 2021-10-21 10:38:05,217]\u001b[0m Trial 91 finished with value: 0.8551931341558721 and parameters: {'depth': 4, 'bagging_temperature': 1.3944944925338139, 'l2_leaf_reg': 4.009524523108345, 'random_strength': 0.940802227106046, 'min_data_in_leaf': 5}. Best is trial 77 with value: 0.8552016658190216.\u001b[0m\n",
      "\u001b[32m[I 2021-10-21 10:38:51,759]\u001b[0m Trial 92 finished with value: 0.8551369912549744 and parameters: {'depth': 4, 'bagging_temperature': 1.0036868226282256, 'l2_leaf_reg': 4.032656249711104, 'random_strength': 0.9371050149011589, 'min_data_in_leaf': 5}. Best is trial 77 with value: 0.8552016658190216.\u001b[0m\n",
      "\u001b[32m[I 2021-10-21 10:39:40,446]\u001b[0m Trial 93 finished with value: 0.855171638711619 and parameters: {'depth': 4, 'bagging_temperature': 1.3064922629010436, 'l2_leaf_reg': 4.2991381246410105, 'random_strength': 0.9827046774967912, 'min_data_in_leaf': 7}. Best is trial 77 with value: 0.8552016658190216.\u001b[0m\n",
      "\u001b[32m[I 2021-10-21 10:40:25,750]\u001b[0m Trial 94 finished with value: 0.8551769327823848 and parameters: {'depth': 4, 'bagging_temperature': 0.7969365542246566, 'l2_leaf_reg': 4.317868494979665, 'random_strength': 1.0087306390827637, 'min_data_in_leaf': 6}. Best is trial 77 with value: 0.8552016658190216.\u001b[0m\n",
      "\u001b[32m[I 2021-10-21 10:41:13,516]\u001b[0m Trial 95 finished with value: 0.8550841971785655 and parameters: {'depth': 4, 'bagging_temperature': 1.4920980456112463, 'l2_leaf_reg': 4.458145423646654, 'random_strength': 0.9833258441836331, 'min_data_in_leaf': 6}. Best is trial 77 with value: 0.8552016658190216.\u001b[0m\n",
      "\u001b[32m[I 2021-10-21 10:41:58,686]\u001b[0m Trial 96 finished with value: 0.8551216999267892 and parameters: {'depth': 4, 'bagging_temperature': 0.7435261619496601, 'l2_leaf_reg': 4.309162354943062, 'random_strength': 1.0095554224081857, 'min_data_in_leaf': 7}. Best is trial 77 with value: 0.8552016658190216.\u001b[0m\n",
      "\u001b[32m[I 2021-10-21 10:42:49,211]\u001b[0m Trial 97 finished with value: 0.8550743245292637 and parameters: {'depth': 4, 'bagging_temperature': 1.720416677704899, 'l2_leaf_reg': 4.33444470166096, 'random_strength': 1.0268802214194754, 'min_data_in_leaf': 4}. Best is trial 77 with value: 0.8552016658190216.\u001b[0m\n",
      "\u001b[32m[I 2021-10-21 10:43:31,961]\u001b[0m Trial 98 finished with value: 0.8551409371431369 and parameters: {'depth': 4, 'bagging_temperature': 0.49183072928003924, 'l2_leaf_reg': 2.542602668467505, 'random_strength': 0.9672796146684302, 'min_data_in_leaf': 2}. Best is trial 77 with value: 0.8552016658190216.\u001b[0m\n",
      "\u001b[32m[I 2021-10-21 10:44:18,118]\u001b[0m Trial 99 finished with value: 0.8551479765951027 and parameters: {'depth': 4, 'bagging_temperature': 0.8258355111469604, 'l2_leaf_reg': 4.546472032732928, 'random_strength': 1.0494604901602833, 'min_data_in_leaf': 3}. Best is trial 77 with value: 0.8552016658190216.\u001b[0m\n",
      "\u001b[32m[I 2021-10-21 10:45:04,763]\u001b[0m Trial 100 finished with value: 0.8549546111933594 and parameters: {'depth': 5, 'bagging_temperature': 1.3768417009930467, 'l2_leaf_reg': 4.2730956886061575, 'random_strength': 0.9921239914237097, 'min_data_in_leaf': 5}. Best is trial 77 with value: 0.8552016658190216.\u001b[0m\n",
      "\u001b[32m[I 2021-10-21 10:45:53,831]\u001b[0m Trial 101 finished with value: 0.8550762881080025 and parameters: {'depth': 4, 'bagging_temperature': 1.7437913140061212, 'l2_leaf_reg': 4.003555250416351, 'random_strength': 0.9795070314131291, 'min_data_in_leaf': 10}. Best is trial 77 with value: 0.8552016658190216.\u001b[0m\n",
      "\u001b[32m[I 2021-10-21 10:46:42,156]\u001b[0m Trial 102 finished with value: 0.8551781891533465 and parameters: {'depth': 4, 'bagging_temperature': 1.2670967498559096, 'l2_leaf_reg': 2.7959168116298088, 'random_strength': 1.0037999355875826, 'min_data_in_leaf': 9}. Best is trial 77 with value: 0.8552016658190216.\u001b[0m\n",
      "\u001b[32m[I 2021-10-21 10:47:29,093]\u001b[0m Trial 103 finished with value: 0.8551493598710729 and parameters: {'depth': 4, 'bagging_temperature': 0.9121927846920879, 'l2_leaf_reg': 2.7886476765098327, 'random_strength': 1.009015997268175, 'min_data_in_leaf': 8}. Best is trial 77 with value: 0.8552016658190216.\u001b[0m\n",
      "\u001b[32m[I 2021-10-21 10:48:16,498]\u001b[0m Trial 104 finished with value: 0.855162290877034 and parameters: {'depth': 4, 'bagging_temperature': 1.2716940104881536, 'l2_leaf_reg': 4.753910341667524, 'random_strength': 1.0279507306355071, 'min_data_in_leaf': 7}. Best is trial 77 with value: 0.8552016658190216.\u001b[0m\n",
      "\u001b[32m[I 2021-10-21 10:49:07,012]\u001b[0m Trial 105 finished with value: 0.8549058768896645 and parameters: {'depth': 4, 'bagging_temperature': 1.9582333972554498, 'l2_leaf_reg': 2.8345394087201243, 'random_strength': 0.9979621299234369, 'min_data_in_leaf': 3}. Best is trial 77 with value: 0.8552016658190216.\u001b[0m\n",
      "\u001b[32m[I 2021-10-21 10:50:40,524]\u001b[0m Trial 106 finished with value: 0.8510688794326915 and parameters: {'depth': 4, 'bagging_temperature': 9.826878542778433, 'l2_leaf_reg': 2.5841167445337256, 'random_strength': 0.9846460089526842, 'min_data_in_leaf': 6}. Best is trial 77 with value: 0.8552016658190216.\u001b[0m\n",
      "\u001b[32m[I 2021-10-21 10:51:23,315]\u001b[0m Trial 107 finished with value: 0.8549337352981347 and parameters: {'depth': 4, 'bagging_temperature': 0.17568752521778674, 'l2_leaf_reg': 4.958642290679493, 'random_strength': 0.9643772976970132, 'min_data_in_leaf': 10}. Best is trial 77 with value: 0.8552016658190216.\u001b[0m\n",
      "\u001b[32m[I 2021-10-21 10:52:28,231]\u001b[0m Trial 108 finished with value: 0.8530138700368052 and parameters: {'depth': 4, 'bagging_temperature': 4.176435666560674, 'l2_leaf_reg': 4.634124610526914, 'random_strength': 1.0607366617528278, 'min_data_in_leaf': 1}. Best is trial 77 with value: 0.8552016658190216.\u001b[0m\n",
      "\u001b[32m[I 2021-10-21 10:53:17,886]\u001b[0m Trial 109 finished with value: 0.8551463585669115 and parameters: {'depth': 4, 'bagging_temperature': 1.505701528168493, 'l2_leaf_reg': 4.201077843387645, 'random_strength': 0.972503354078237, 'min_data_in_leaf': 2}. Best is trial 77 with value: 0.8552016658190216.\u001b[0m\n",
      "\u001b[32m[I 2021-10-21 10:54:05,023]\u001b[0m Trial 110 finished with value: 0.8551387779019912 and parameters: {'depth': 4, 'bagging_temperature': 1.1131172351928895, 'l2_leaf_reg': 2.688280266827059, 'random_strength': 1.0028474905754519, 'min_data_in_leaf': 7}. Best is trial 77 with value: 0.8552016658190216.\u001b[0m\n",
      "\u001b[32m[I 2021-10-21 10:54:52,591]\u001b[0m Trial 111 finished with value: 0.8551203021014724 and parameters: {'depth': 4, 'bagging_temperature': 1.0996164022748818, 'l2_leaf_reg': 3.8505681783171575, 'random_strength': 0.9484183394122625, 'min_data_in_leaf': 11}. Best is trial 77 with value: 0.8552016658190216.\u001b[0m\n",
      "\u001b[32m[I 2021-10-21 10:55:37,574]\u001b[0m Trial 112 finished with value: 0.8550352599733462 and parameters: {'depth': 4, 'bagging_temperature': 0.6332806550762178, 'l2_leaf_reg': 2.3333086284719458, 'random_strength': 0.8734431210246355, 'min_data_in_leaf': 8}. Best is trial 77 with value: 0.8552016658190216.\u001b[0m\n",
      "\u001b[32m[I 2021-10-21 10:56:25,346]\u001b[0m Trial 113 finished with value: 0.8551895309595883 and parameters: {'depth': 4, 'bagging_temperature': 1.3589037042967105, 'l2_leaf_reg': 4.089435677873349, 'random_strength': 0.9225077389855477, 'min_data_in_leaf': 5}. Best is trial 77 with value: 0.8552016658190216.\u001b[0m\n",
      "\u001b[32m[I 2021-10-21 10:57:18,209]\u001b[0m Trial 114 finished with value: 0.8546626213004705 and parameters: {'depth': 4, 'bagging_temperature': 2.4365285724793813, 'l2_leaf_reg': 4.433755992243512, 'random_strength': 0.9230153608173216, 'min_data_in_leaf': 5}. Best is trial 77 with value: 0.8552016658190216.\u001b[0m\n",
      "\u001b[32m[I 2021-10-21 10:58:06,076]\u001b[0m Trial 115 finished with value: 0.8551429688961621 and parameters: {'depth': 4, 'bagging_temperature': 0.8727867494779101, 'l2_leaf_reg': 4.3602734551793905, 'random_strength': 0.9563861499141658, 'min_data_in_leaf': 4}. Best is trial 77 with value: 0.8552016658190216.\u001b[0m\n",
      "\u001b[32m[I 2021-10-21 10:58:55,806]\u001b[0m Trial 116 finished with value: 0.8551516478447838 and parameters: {'depth': 4, 'bagging_temperature': 1.3565933690598855, 'l2_leaf_reg': 3.634795733078313, 'random_strength': 0.915490720992893, 'min_data_in_leaf': 3}. Best is trial 77 with value: 0.8552016658190216.\u001b[0m\n",
      "\u001b[32m[I 2021-10-21 10:59:45,749]\u001b[0m Trial 117 finished with value: 0.8550532318587237 and parameters: {'depth': 4, 'bagging_temperature': 1.750549430093484, 'l2_leaf_reg': 3.973541452904846, 'random_strength': 0.9377403290174424, 'min_data_in_leaf': 29}. Best is trial 77 with value: 0.8552016658190216.\u001b[0m\n",
      "\u001b[32m[I 2021-10-21 11:00:36,434]\u001b[0m Trial 118 finished with value: 0.8549539706025336 and parameters: {'depth': 4, 'bagging_temperature': 2.030733506866465, 'l2_leaf_reg': 4.148759430480126, 'random_strength': 0.9429119268795865, 'min_data_in_leaf': 7}. Best is trial 77 with value: 0.8552016658190216.\u001b[0m\n",
      "\u001b[32m[I 2021-10-21 11:01:17,390]\u001b[0m Trial 119 finished with value: 0.8548148649283579 and parameters: {'depth': 5, 'bagging_temperature': 0.4249717475750563, 'l2_leaf_reg': 2.91079820390725, 'random_strength': 0.9897813633476837, 'min_data_in_leaf': 6}. Best is trial 77 with value: 0.8552016658190216.\u001b[0m\n",
      "\u001b[32m[I 2021-10-21 11:02:36,819]\u001b[0m Trial 120 finished with value: 0.8521008052831879 and parameters: {'depth': 4, 'bagging_temperature': 5.146100214236128, 'l2_leaf_reg': 4.512790658290412, 'random_strength': 0.9301838770578907, 'min_data_in_leaf': 1}. Best is trial 77 with value: 0.8552016658190216.\u001b[0m\n",
      "\u001b[32m[I 2021-10-21 11:03:23,852]\u001b[0m Trial 121 finished with value: 0.8551664618960747 and parameters: {'depth': 4, 'bagging_temperature': 1.180839211925256, 'l2_leaf_reg': 4.090613882199754, 'random_strength': 0.9032888961980544, 'min_data_in_leaf': 5}. Best is trial 77 with value: 0.8552016658190216.\u001b[0m\n",
      "\u001b[32m[I 2021-10-21 11:04:13,307]\u001b[0m Trial 122 finished with value: 0.8551771726403888 and parameters: {'depth': 4, 'bagging_temperature': 1.4696085015807578, 'l2_leaf_reg': 4.227773198272648, 'random_strength': 1.1303202267053787, 'min_data_in_leaf': 9}. Best is trial 77 with value: 0.8552016658190216.\u001b[0m\n",
      "\u001b[32m[I 2021-10-21 11:05:00,587]\u001b[0m Trial 123 finished with value: 0.8550987889860917 and parameters: {'depth': 4, 'bagging_temperature': 1.546697638576011, 'l2_leaf_reg': 4.264864224967167, 'random_strength': 1.1520021215085134, 'min_data_in_leaf': 8}. Best is trial 77 with value: 0.8552016658190216.\u001b[0m\n",
      "\u001b[32m[I 2021-10-21 11:05:48,591]\u001b[0m Trial 124 finished with value: 0.8551263799027544 and parameters: {'depth': 4, 'bagging_temperature': 1.3503321922655138, 'l2_leaf_reg': 2.758778715704186, 'random_strength': 1.1282428626322263, 'min_data_in_leaf': 2}. Best is trial 77 with value: 0.8552016658190216.\u001b[0m\n",
      "\u001b[32m[I 2021-10-21 11:06:31,943]\u001b[0m Trial 125 finished with value: 0.8547696289532927 and parameters: {'depth': 6, 'bagging_temperature': 0.9459914099699103, 'l2_leaf_reg': 4.228347654022761, 'random_strength': 1.1778553183866758, 'min_data_in_leaf': 9}. Best is trial 77 with value: 0.8552016658190216.\u001b[0m\n",
      "\u001b[32m[I 2021-10-21 11:07:21,547]\u001b[0m Trial 126 finished with value: 0.8551398457287751 and parameters: {'depth': 4, 'bagging_temperature': 1.6184762371411467, 'l2_leaf_reg': 4.455563661415876, 'random_strength': 0.95379652765497, 'min_data_in_leaf': 12}. Best is trial 77 with value: 0.8552016658190216.\u001b[0m\n",
      "\u001b[32m[I 2021-10-21 11:08:07,640]\u001b[0m Trial 127 finished with value: 0.855052639573721 and parameters: {'depth': 4, 'bagging_temperature': 0.7297510306648356, 'l2_leaf_reg': 3.9034047061953028, 'random_strength': 0.9785265883732438, 'min_data_in_leaf': 10}. Best is trial 77 with value: 0.8552016658190216.\u001b[0m\n",
      "\u001b[32m[I 2021-10-21 11:09:03,761]\u001b[0m Trial 128 finished with value: 0.8547315504107484 and parameters: {'depth': 4, 'bagging_temperature': 2.3149667629754815, 'l2_leaf_reg': 4.049857238351463, 'random_strength': 1.105020329368534, 'min_data_in_leaf': 6}. Best is trial 77 with value: 0.8552016658190216.\u001b[0m\n",
      "\u001b[32m[I 2021-10-21 11:09:52,885]\u001b[0m Trial 129 finished with value: 0.8550727479020004 and parameters: {'depth': 4, 'bagging_temperature': 1.8254974216081084, 'l2_leaf_reg': 4.572237435796868, 'random_strength': 1.0790580444226794, 'min_data_in_leaf': 13}. Best is trial 77 with value: 0.8552016658190216.\u001b[0m\n",
      "\u001b[32m[I 2021-10-21 11:10:40,266]\u001b[0m Trial 130 finished with value: 0.8551792883543821 and parameters: {'depth': 4, 'bagging_temperature': 1.0992857956139157, 'l2_leaf_reg': 4.369845663065296, 'random_strength': 0.9674395316329757, 'min_data_in_leaf': 11}. Best is trial 77 with value: 0.8552016658190216.\u001b[0m\n",
      "\u001b[32m[I 2021-10-21 11:11:25,554]\u001b[0m Trial 131 finished with value: 0.8551207679934668 and parameters: {'depth': 4, 'bagging_temperature': 1.037853534274816, 'l2_leaf_reg': 4.364966944801286, 'random_strength': 0.9655963349694452, 'min_data_in_leaf': 9}. Best is trial 77 with value: 0.8552016658190216.\u001b[0m\n",
      "\u001b[32m[I 2021-10-21 11:12:13,795]\u001b[0m Trial 132 finished with value: 0.8551643593376493 and parameters: {'depth': 4, 'bagging_temperature': 1.3193287174584822, 'l2_leaf_reg': 4.297554311049811, 'random_strength': 0.9693166056401512, 'min_data_in_leaf': 1}. Best is trial 77 with value: 0.8552016658190216.\u001b[0m\n",
      "\u001b[32m[I 2021-10-21 11:12:56,500]\u001b[0m Trial 133 finished with value: 0.8550342239332589 and parameters: {'depth': 4, 'bagging_temperature': 0.6025652557426666, 'l2_leaf_reg': 4.161189019207286, 'random_strength': 0.9848397084894105, 'min_data_in_leaf': 9}. Best is trial 77 with value: 0.8552016658190216.\u001b[0m\n",
      "\u001b[32m[I 2021-10-21 11:13:43,679]\u001b[0m Trial 134 finished with value: 0.8551218024691081 and parameters: {'depth': 4, 'bagging_temperature': 1.1351310171079707, 'l2_leaf_reg': 4.404324784967466, 'random_strength': 1.1243733687579225, 'min_data_in_leaf': 17}. Best is trial 77 with value: 0.8552016658190216.\u001b[0m\n",
      "\u001b[32m[I 2021-10-21 11:14:34,246]\u001b[0m Trial 135 finished with value: 0.8552125363928194 and parameters: {'depth': 4, 'bagging_temperature': 1.4494792059144108, 'l2_leaf_reg': 2.651210554828164, 'random_strength': 0.9295353692888646, 'min_data_in_leaf': 8}. Best is trial 135 with value: 0.8552125363928194.\u001b[0m\n",
      "\u001b[32m[I 2021-10-21 11:15:23,793]\u001b[0m Trial 136 finished with value: 0.8551497979017075 and parameters: {'depth': 4, 'bagging_temperature': 1.5122703414139318, 'l2_leaf_reg': 2.6628107537915806, 'random_strength': 0.9293069054134109, 'min_data_in_leaf': 7}. Best is trial 135 with value: 0.8552125363928194.\u001b[0m\n",
      "\u001b[32m[I 2021-10-21 11:16:15,103]\u001b[0m Trial 137 finished with value: 0.8547957446330096 and parameters: {'depth': 4, 'bagging_temperature': 2.1277124182533003, 'l2_leaf_reg': 2.483856959703801, 'random_strength': 0.9186308216646591, 'min_data_in_leaf': 8}. Best is trial 135 with value: 0.8552125363928194.\u001b[0m\n",
      "\u001b[32m[I 2021-10-21 11:16:58,050]\u001b[0m Trial 138 finished with value: 0.8551085296886026 and parameters: {'depth': 4, 'bagging_temperature': 0.8118952121843834, 'l2_leaf_reg': 2.9792794812658445, 'random_strength': 1.1956252908053016, 'min_data_in_leaf': 11}. Best is trial 135 with value: 0.8552125363928194.\u001b[0m\n",
      "\u001b[32m[I 2021-10-21 11:18:45,165]\u001b[0m Trial 139 finished with value: 0.851221023106707 and parameters: {'depth': 4, 'bagging_temperature': 8.605885449594663, 'l2_leaf_reg': 2.833500573609504, 'random_strength': 0.9437080738511541, 'min_data_in_leaf': 7}. Best is trial 135 with value: 0.8552125363928194.\u001b[0m\n",
      "\u001b[32m[I 2021-10-21 11:19:35,146]\u001b[0m Trial 140 finished with value: 0.8551503319608774 and parameters: {'depth': 4, 'bagging_temperature': 1.623204019168021, 'l2_leaf_reg': 4.665589100158346, 'random_strength': 0.8932068209395537, 'min_data_in_leaf': 10}. Best is trial 135 with value: 0.8552125363928194.\u001b[0m\n",
      "\u001b[32m[I 2021-10-21 11:20:22,577]\u001b[0m Trial 141 finished with value: 0.8550909868525184 and parameters: {'depth': 4, 'bagging_temperature': 1.2758871085805032, 'l2_leaf_reg': 2.6405671534173893, 'random_strength': 0.9522138859246879, 'min_data_in_leaf': 8}. Best is trial 135 with value: 0.8552125363928194.\u001b[0m\n",
      "\u001b[32m[I 2021-10-21 11:21:07,765]\u001b[0m Trial 142 finished with value: 0.85509999119878 and parameters: {'depth': 4, 'bagging_temperature': 0.9407087342174976, 'l2_leaf_reg': 2.391243631725344, 'random_strength': 0.9943109625232602, 'min_data_in_leaf': 3}. Best is trial 135 with value: 0.8552125363928194.\u001b[0m\n",
      "\u001b[32m[I 2021-10-21 11:21:59,434]\u001b[0m Trial 143 finished with value: 0.8549803365367087 and parameters: {'depth': 4, 'bagging_temperature': 1.895998572016931, 'l2_leaf_reg': 3.794145134157433, 'random_strength': 0.9602155361057951, 'min_data_in_leaf': 4}. Best is trial 135 with value: 0.8552125363928194.\u001b[0m\n",
      "\u001b[32m[I 2021-10-21 11:22:49,550]\u001b[0m Trial 144 finished with value: 0.8552043354037592 and parameters: {'depth': 4, 'bagging_temperature': 1.4197788494876793, 'l2_leaf_reg': 2.554850881723407, 'random_strength': 0.9089727464324187, 'min_data_in_leaf': 2}. Best is trial 135 with value: 0.8552125363928194.\u001b[0m\n",
      "\u001b[32m[I 2021-10-21 11:23:36,926]\u001b[0m Trial 145 finished with value: 0.8551270779158565 and parameters: {'depth': 4, 'bagging_temperature': 1.4198275764955353, 'l2_leaf_reg': 2.503083125281839, 'random_strength': 0.9092416343628246, 'min_data_in_leaf': 6}. Best is trial 135 with value: 0.8552125363928194.\u001b[0m\n",
      "\u001b[32m[I 2021-10-21 11:24:25,422]\u001b[0m Trial 146 finished with value: 0.8550473618869707 and parameters: {'depth': 4, 'bagging_temperature': 1.7587209039867688, 'l2_leaf_reg': 2.5699763681656536, 'random_strength': 0.9006494050448716, 'min_data_in_leaf': 1}. Best is trial 135 with value: 0.8552125363928194.\u001b[0m\n",
      "\u001b[32m[I 2021-10-21 11:25:15,087]\u001b[0m Trial 147 finished with value: 0.8551327593932094 and parameters: {'depth': 4, 'bagging_temperature': 1.2543085345442093, 'l2_leaf_reg': 2.180158313601987, 'random_strength': 0.8883882167647419, 'min_data_in_leaf': 5}. Best is trial 135 with value: 0.8552125363928194.\u001b[0m\n",
      "\u001b[32m[I 2021-10-21 11:26:32,862]\u001b[0m Trial 148 finished with value: 0.8517850158087642 and parameters: {'depth': 4, 'bagging_temperature': 5.853438785671388, 'l2_leaf_reg': 2.735108705036327, 'random_strength': 1.0889446165642735, 'min_data_in_leaf': 2}. Best is trial 135 with value: 0.8552125363928194.\u001b[0m\n",
      "\u001b[32m[I 2021-10-21 11:27:19,933]\u001b[0m Trial 149 finished with value: 0.8550742229540568 and parameters: {'depth': 4, 'bagging_temperature': 1.5115313773247703, 'l2_leaf_reg': 4.483463513773412, 'random_strength': 0.9328638010090498, 'min_data_in_leaf': 8}. Best is trial 135 with value: 0.8552125363928194.\u001b[0m\n",
      "\u001b[32m[I 2021-10-21 11:28:00,955]\u001b[0m Trial 150 finished with value: 0.8550496948313911 and parameters: {'depth': 4, 'bagging_temperature': 0.3958846433934915, 'l2_leaf_reg': 2.265148766064557, 'random_strength': 0.9247727024744806, 'min_data_in_leaf': 9}. Best is trial 135 with value: 0.8552125363928194.\u001b[0m\n",
      "\u001b[32m[I 2021-10-21 11:28:44,553]\u001b[0m Trial 151 finished with value: 0.8551329630271791 and parameters: {'depth': 4, 'bagging_temperature': 1.0846431962028042, 'l2_leaf_reg': 4.28707901683427, 'random_strength': 0.9751833387590129, 'min_data_in_leaf': 3}. Best is trial 135 with value: 0.8552125363928194.\u001b[0m\n",
      "\u001b[32m[I 2021-10-21 11:29:30,903]\u001b[0m Trial 152 finished with value: 0.8551405720227927 and parameters: {'depth': 4, 'bagging_temperature': 0.8589598233858593, 'l2_leaf_reg': 4.202909776070778, 'random_strength': 1.0146641539127899, 'min_data_in_leaf': 2}. Best is trial 135 with value: 0.8552125363928194.\u001b[0m\n",
      "\u001b[32m[I 2021-10-21 11:30:17,065]\u001b[0m Trial 153 finished with value: 0.8551895523000527 and parameters: {'depth': 4, 'bagging_temperature': 1.0964705670820438, 'l2_leaf_reg': 2.6113406014346348, 'random_strength': 0.9126097936757837, 'min_data_in_leaf': 1}. Best is trial 135 with value: 0.8552125363928194.\u001b[0m\n",
      "\u001b[32m[I 2021-10-21 11:31:00,665]\u001b[0m Trial 154 finished with value: 0.8550046080049105 and parameters: {'depth': 4, 'bagging_temperature': 0.6378443076982899, 'l2_leaf_reg': 2.402480095269553, 'random_strength': 0.9204922636046106, 'min_data_in_leaf': 1}. Best is trial 135 with value: 0.8552125363928194.\u001b[0m\n",
      "\u001b[32m[I 2021-10-21 11:31:44,748]\u001b[0m Trial 155 finished with value: 0.8546413542653218 and parameters: {'depth': 6, 'bagging_temperature': 1.3783003113495038, 'l2_leaf_reg': 2.834155074973516, 'random_strength': 0.9102132163051071, 'min_data_in_leaf': 2}. Best is trial 135 with value: 0.8552125363928194.\u001b[0m\n",
      "\u001b[32m[I 2021-10-21 11:32:29,646]\u001b[0m Trial 156 finished with value: 0.8551064114572735 and parameters: {'depth': 4, 'bagging_temperature': 1.0250969217945483, 'l2_leaf_reg': 2.5984489579034094, 'random_strength': 0.9018922650435963, 'min_data_in_leaf': 6}. Best is trial 135 with value: 0.8552125363928194.\u001b[0m\n",
      "\u001b[32m[I 2021-10-21 11:33:18,818]\u001b[0m Trial 157 finished with value: 0.8549700811954907 and parameters: {'depth': 4, 'bagging_temperature': 1.8361198666719454, 'l2_leaf_reg': 2.718601996273325, 'random_strength': 0.9447921953232683, 'min_data_in_leaf': 1}. Best is trial 135 with value: 0.8552125363928194.\u001b[0m\n",
      "\u001b[32m[I 2021-10-21 11:34:07,721]\u001b[0m Trial 158 finished with value: 0.8551669393365248 and parameters: {'depth': 4, 'bagging_temperature': 1.6448929187687795, 'l2_leaf_reg': 4.588917392695315, 'random_strength': 0.8777042605766149, 'min_data_in_leaf': 4}. Best is trial 135 with value: 0.8552125363928194.\u001b[0m\n",
      "\u001b[32m[I 2021-10-21 11:34:54,762]\u001b[0m Trial 159 finished with value: 0.8551278794810561 and parameters: {'depth': 4, 'bagging_temperature': 1.2512603907986626, 'l2_leaf_reg': 2.9342716811868828, 'random_strength': 1.0049581770275746, 'min_data_in_leaf': 20}. Best is trial 135 with value: 0.8552125363928194.\u001b[0m\n",
      "\u001b[32m[I 2021-10-21 11:35:39,982]\u001b[0m Trial 160 finished with value: 0.8551189659082135 and parameters: {'depth': 4, 'bagging_temperature': 0.7573959291735461, 'l2_leaf_reg': 4.387388103196098, 'random_strength': 0.9148990667390242, 'min_data_in_leaf': 5}. Best is trial 135 with value: 0.8552125363928194.\u001b[0m\n",
      "\u001b[32m[I 2021-10-21 11:36:28,329]\u001b[0m Trial 161 finished with value: 0.8551031119626092 and parameters: {'depth': 4, 'bagging_temperature': 1.07923836484487, 'l2_leaf_reg': 1.314502723173509, 'random_strength': 0.9793636044314772, 'min_data_in_leaf': 2}. Best is trial 135 with value: 0.8552125363928194.\u001b[0m\n",
      "\u001b[32m[I 2021-10-21 11:37:17,730]\u001b[0m Trial 162 finished with value: 0.8551640221853317 and parameters: {'depth': 4, 'bagging_temperature': 1.5059669384347583, 'l2_leaf_reg': 4.070545085065323, 'random_strength': 0.9999057904416945, 'min_data_in_leaf': 1}. Best is trial 135 with value: 0.8552125363928194.\u001b[0m\n",
      "\u001b[32m[I 2021-10-21 11:38:04,916]\u001b[0m Trial 163 finished with value: 0.8551456604898093 and parameters: {'depth': 4, 'bagging_temperature': 1.1877729482542365, 'l2_leaf_reg': 3.988393944854248, 'random_strength': 0.9609689465379654, 'min_data_in_leaf': 3}. Best is trial 135 with value: 0.8552125363928194.\u001b[0m\n",
      "\u001b[32m[I 2021-10-21 11:38:52,091]\u001b[0m Trial 164 finished with value: 0.8551604468290742 and parameters: {'depth': 4, 'bagging_temperature': 0.9662311075819259, 'l2_leaf_reg': 2.65542850578164, 'random_strength': 0.9711433448936184, 'min_data_in_leaf': 2}. Best is trial 135 with value: 0.8552125363928194.\u001b[0m\n",
      "\u001b[32m[I 2021-10-21 11:39:42,005]\u001b[0m Trial 165 finished with value: 0.8551344064205391 and parameters: {'depth': 4, 'bagging_temperature': 1.4697405408989028, 'l2_leaf_reg': 2.446380671866819, 'random_strength': 0.9365509566383743, 'min_data_in_leaf': 11}. Best is trial 135 with value: 0.8552125363928194.\u001b[0m\n",
      "\u001b[32m[I 2021-10-21 11:40:24,725]\u001b[0m Trial 166 finished with value: 0.8550354311663964 and parameters: {'depth': 4, 'bagging_temperature': 0.4950068460713562, 'l2_leaf_reg': 4.309796539385783, 'random_strength': 0.9863407907092242, 'min_data_in_leaf': 7}. Best is trial 135 with value: 0.8552125363928194.\u001b[0m\n",
      "\u001b[32m[I 2021-10-21 11:41:11,884]\u001b[0m Trial 167 finished with value: 0.8551132101552349 and parameters: {'depth': 4, 'bagging_temperature': 0.7559456795734685, 'l2_leaf_reg': 4.189223957257999, 'random_strength': 0.9500765369184528, 'min_data_in_leaf': 15}. Best is trial 135 with value: 0.8552125363928194.\u001b[0m\n",
      "\u001b[32m[I 2021-10-21 11:42:01,482]\u001b[0m Trial 168 finished with value: 0.8550675171699611 and parameters: {'depth': 4, 'bagging_temperature': 1.694598904653395, 'l2_leaf_reg': 3.465605220181228, 'random_strength': 0.9279092498970477, 'min_data_in_leaf': 3}. Best is trial 135 with value: 0.8552125363928194.\u001b[0m\n",
      "\u001b[32m[I 2021-10-21 11:42:49,798]\u001b[0m Trial 169 finished with value: 0.8551331427180152 and parameters: {'depth': 4, 'bagging_temperature': 1.329784051653769, 'l2_leaf_reg': 2.5614247678655135, 'random_strength': 1.1582064972511272, 'min_data_in_leaf': 1}. Best is trial 135 with value: 0.8552125363928194.\u001b[0m\n",
      "\u001b[32m[I 2021-10-21 11:43:40,563]\u001b[0m Trial 170 finished with value: 0.8549347720137781 and parameters: {'depth': 4, 'bagging_temperature': 1.967258412197015, 'l2_leaf_reg': 2.7819065008645834, 'random_strength': 0.8975312424740628, 'min_data_in_leaf': 18}. Best is trial 135 with value: 0.8552125363928194.\u001b[0m\n",
      "\u001b[32m[I 2021-10-21 11:44:29,753]\u001b[0m Trial 171 finished with value: 0.8550509525819094 and parameters: {'depth': 4, 'bagging_temperature': 1.6588623538143563, 'l2_leaf_reg': 4.7580413380701625, 'random_strength': 1.0251346231155736, 'min_data_in_leaf': 4}. Best is trial 135 with value: 0.8552125363928194.\u001b[0m\n",
      "\u001b[32m[I 2021-10-21 11:45:17,154]\u001b[0m Trial 172 finished with value: 0.8551988142536682 and parameters: {'depth': 4, 'bagging_temperature': 1.196533911674597, 'l2_leaf_reg': 4.497342983389226, 'random_strength': 0.8787623111559718, 'min_data_in_leaf': 4}. Best is trial 135 with value: 0.8552125363928194.\u001b[0m\n",
      "\u001b[32m[I 2021-10-21 11:46:05,281]\u001b[0m Trial 173 finished with value: 0.8552217566681732 and parameters: {'depth': 4, 'bagging_temperature': 1.1418824362276156, 'l2_leaf_reg': 4.509209960369067, 'random_strength': 0.8823223562163118, 'min_data_in_leaf': 5}. Best is trial 173 with value: 0.8552217566681732.\u001b[0m\n"
     ]
    }
   ],
   "source": [
    "study = optuna.create_study(\n",
    "    pruner=optuna.pruners.MedianPruner(n_warmup_steps = 100, n_startup_trials = 30, n_min_trials = 10), direction=\"maximize\"\n",
    ")\n",
    "study.optimize(objective, timeout=3600 * 2.5)"
   ]
  },
  {
   "cell_type": "code",
   "execution_count": 8,
   "id": "f703149d",
   "metadata": {
    "execution": {
     "iopub.execute_input": "2021-10-21T11:46:05.540927Z",
     "iopub.status.busy": "2021-10-21T11:46:05.539349Z",
     "iopub.status.idle": "2021-10-21T11:46:05.543067Z",
     "shell.execute_reply": "2021-10-21T11:46:05.542603Z",
     "shell.execute_reply.started": "2021-10-21T09:13:52.825702Z"
    },
    "papermill": {
     "duration": 0.071379,
     "end_time": "2021-10-21T11:46:05.543192",
     "exception": false,
     "start_time": "2021-10-21T11:46:05.471813",
     "status": "completed"
    },
    "tags": []
   },
   "outputs": [
    {
     "name": "stdout",
     "output_type": "stream",
     "text": [
      "[0.8552217566681732]\n"
     ]
    }
   ],
   "source": [
    "best_score = study.best_trial.values\n",
    "print(best_score)"
   ]
  },
  {
   "cell_type": "code",
   "execution_count": 9,
   "id": "41122933",
   "metadata": {
    "execution": {
     "iopub.execute_input": "2021-10-21T11:46:05.656921Z",
     "iopub.status.busy": "2021-10-21T11:46:05.655384Z",
     "iopub.status.idle": "2021-10-21T11:46:05.658966Z",
     "shell.execute_reply": "2021-10-21T11:46:05.658519Z",
     "shell.execute_reply.started": "2021-10-21T09:13:53.511805Z"
    },
    "papermill": {
     "duration": 0.061227,
     "end_time": "2021-10-21T11:46:05.659071",
     "exception": false,
     "start_time": "2021-10-21T11:46:05.597844",
     "status": "completed"
    },
    "tags": []
   },
   "outputs": [
    {
     "name": "stdout",
     "output_type": "stream",
     "text": [
      "{'depth': 4, 'bagging_temperature': 1.1418824362276156, 'l2_leaf_reg': 4.509209960369067, 'random_strength': 0.8823223562163118, 'min_data_in_leaf': 5}\n"
     ]
    }
   ],
   "source": [
    "final_params = study.best_trial.params\n",
    "print(final_params)"
   ]
  },
  {
   "cell_type": "code",
   "execution_count": 10,
   "id": "9f7297ae",
   "metadata": {
    "execution": {
     "iopub.execute_input": "2021-10-21T11:46:05.772390Z",
     "iopub.status.busy": "2021-10-21T11:46:05.771803Z",
     "iopub.status.idle": "2021-10-21T11:46:05.774962Z",
     "shell.execute_reply": "2021-10-21T11:46:05.775398Z",
     "shell.execute_reply.started": "2021-10-21T09:13:55.025800Z"
    },
    "papermill": {
     "duration": 0.061842,
     "end_time": "2021-10-21T11:46:05.775525",
     "exception": false,
     "start_time": "2021-10-21T11:46:05.713683",
     "status": "completed"
    },
    "tags": []
   },
   "outputs": [],
   "source": [
    "with open(\"final_cb_param.pkl\", \"wb\") as file_name:\n",
    "    pickle.dump(final_params, file_name)\n"
   ]
  }
 ],
 "metadata": {
  "kernelspec": {
   "display_name": "Python 3",
   "language": "python",
   "name": "python3"
  },
  "language_info": {
   "codemirror_mode": {
    "name": "ipython",
    "version": 3
   },
   "file_extension": ".py",
   "mimetype": "text/x-python",
   "name": "python",
   "nbconvert_exporter": "python",
   "pygments_lexer": "ipython3",
   "version": "3.7.10"
  },
  "papermill": {
   "default_parameters": {},
   "duration": 9042.5268,
   "end_time": "2021-10-21T11:46:06.555156",
   "environment_variables": {},
   "exception": null,
   "input_path": "__notebook__.ipynb",
   "output_path": "__notebook__.ipynb",
   "parameters": {},
   "start_time": "2021-10-21T09:15:24.028356",
   "version": "2.3.3"
  }
 },
 "nbformat": 4,
 "nbformat_minor": 5
}
