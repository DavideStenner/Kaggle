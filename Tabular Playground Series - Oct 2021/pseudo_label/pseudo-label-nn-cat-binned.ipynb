{
 "cells": [
  {
   "cell_type": "code",
   "execution_count": 1,
   "id": "7404b8c9",
   "metadata": {
    "_cell_guid": "b1076dfc-b9ad-4769-8c92-a6c4dae69d19",
    "_uuid": "8f2839f25d086af736a60e9eeb907d3b93b6e0e5",
    "execution": {
     "iopub.execute_input": "2021-10-25T06:30:31.967156Z",
     "iopub.status.busy": "2021-10-25T06:30:31.966346Z",
     "iopub.status.idle": "2021-10-25T06:30:34.619045Z",
     "shell.execute_reply": "2021-10-25T06:30:34.618395Z",
     "shell.execute_reply.started": "2021-10-21T19:30:26.68332Z"
    },
    "papermill": {
     "duration": 2.6841,
     "end_time": "2021-10-25T06:30:34.619199",
     "exception": false,
     "start_time": "2021-10-25T06:30:31.935099",
     "status": "completed"
    },
    "tags": []
   },
   "outputs": [],
   "source": [
    "import pandas as pd\n",
    "import numpy as np\n",
    "import pickle\n",
    "import os\n",
    "import gc\n",
    "import seaborn as sns\n",
    "import torch\n",
    "from torch import nn\n",
    "import torch.optim as optim\n",
    "import torch.nn.functional as F\n",
    "from sklearn.metrics import roc_auc_score\n",
    "from tqdm.notebook import tqdm\n",
    "from sklearn.model_selection import StratifiedKFold\n",
    "\n",
    "from utilities import (\n",
    "    RANDOM_STATE, TARGET_COL, N_FOLD, FOLD_STRAT_NAME,\n",
    "    EPOCHS, BATCH_SIZE, \n",
    "    EARLY_STOPPING_STEPS, EARLY_STOP\n",
    ")\n",
    "\n",
    "from nn_utilities import (\n",
    "    seed_everything, run_training_model_fix, inference_fn\n",
    ")\n",
    "\n",
    "DEVICE = ('cuda' if torch.cuda.is_available() else 'cpu')\n",
    "\n",
    "INPUT_PATH = '../input/tabular-playground-series-oct-2021'\n",
    "PATH_NOTEBOOK = '../input/preprocess-category-gpu'"
   ]
  },
  {
   "cell_type": "code",
   "execution_count": 2,
   "id": "d6b33964",
   "metadata": {
    "execution": {
     "iopub.execute_input": "2021-10-25T06:30:34.712449Z",
     "iopub.status.busy": "2021-10-25T06:30:34.711596Z",
     "iopub.status.idle": "2021-10-25T06:30:34.713460Z",
     "shell.execute_reply": "2021-10-25T06:30:34.713900Z",
     "shell.execute_reply.started": "2021-10-21T19:30:28.956189Z"
    },
    "papermill": {
     "duration": 0.077136,
     "end_time": "2021-10-25T06:30:34.714036",
     "exception": false,
     "start_time": "2021-10-25T06:30:34.636900",
     "status": "completed"
    },
    "tags": []
   },
   "outputs": [],
   "source": [
    "TEST_PATH = [\n",
    "#     '../input/xgboost-tuned',\n",
    "#     '../input/lightgbm-tuned',\n",
    "#     '../input/catboost-benchmark',\n",
    "    '../input/nn-cat-binned',\n",
    "]"
   ]
  },
  {
   "cell_type": "code",
   "execution_count": 3,
   "id": "598e89ed",
   "metadata": {
    "execution": {
     "iopub.execute_input": "2021-10-25T06:30:34.748854Z",
     "iopub.status.busy": "2021-10-25T06:30:34.748189Z",
     "iopub.status.idle": "2021-10-25T06:30:48.662282Z",
     "shell.execute_reply": "2021-10-25T06:30:48.662701Z",
     "shell.execute_reply.started": "2021-10-21T19:30:30.925009Z"
    },
    "papermill": {
     "duration": 13.933595,
     "end_time": "2021-10-25T06:30:48.662894",
     "exception": false,
     "start_time": "2021-10-25T06:30:34.729299",
     "status": "completed"
    },
    "tags": []
   },
   "outputs": [],
   "source": [
    "train = pd.read_pickle(os.path.join(PATH_NOTEBOOK, 'train_unscaled.pkl'))"
   ]
  },
  {
   "cell_type": "code",
   "execution_count": 4,
   "id": "6602bef2",
   "metadata": {
    "execution": {
     "iopub.execute_input": "2021-10-25T06:30:48.697188Z",
     "iopub.status.busy": "2021-10-25T06:30:48.696626Z",
     "iopub.status.idle": "2021-10-25T06:30:54.215530Z",
     "shell.execute_reply": "2021-10-25T06:30:54.216028Z",
     "shell.execute_reply.started": "2021-10-21T19:30:41.489778Z"
    },
    "papermill": {
     "duration": 5.538069,
     "end_time": "2021-10-25T06:30:54.216193",
     "exception": false,
     "start_time": "2021-10-25T06:30:48.678124",
     "status": "completed"
    },
    "tags": []
   },
   "outputs": [],
   "source": [
    "test = pd.read_pickle(\n",
    "    os.path.join(PATH_NOTEBOOK, 'test_unscaled.pkl')\n",
    ")"
   ]
  },
  {
   "cell_type": "code",
   "execution_count": 5,
   "id": "4de83bf4",
   "metadata": {
    "execution": {
     "iopub.execute_input": "2021-10-25T06:30:54.250739Z",
     "iopub.status.busy": "2021-10-25T06:30:54.250208Z",
     "iopub.status.idle": "2021-10-25T06:30:54.265748Z",
     "shell.execute_reply": "2021-10-25T06:30:54.265262Z",
     "shell.execute_reply.started": "2021-10-21T19:30:45.37005Z"
    },
    "papermill": {
     "duration": 0.034226,
     "end_time": "2021-10-25T06:30:54.265887",
     "exception": false,
     "start_time": "2021-10-25T06:30:54.231661",
     "status": "completed"
    },
    "tags": []
   },
   "outputs": [],
   "source": [
    "with open(os.path.join(PATH_NOTEBOOK, 'feature_dic.pkl'), 'rb') as file:\n",
    "    feature_dic = pickle.load(file)"
   ]
  },
  {
   "cell_type": "code",
   "execution_count": 6,
   "id": "86c2e241",
   "metadata": {
    "execution": {
     "iopub.execute_input": "2021-10-25T06:30:54.410920Z",
     "iopub.status.busy": "2021-10-25T06:30:54.409211Z",
     "iopub.status.idle": "2021-10-25T06:30:54.413602Z",
     "shell.execute_reply": "2021-10-25T06:30:54.413146Z",
     "shell.execute_reply.started": "2021-10-21T19:30:45.383197Z"
    },
    "papermill": {
     "duration": 0.132508,
     "end_time": "2021-10-25T06:30:54.413747",
     "exception": false,
     "start_time": "2021-10-25T06:30:54.281239",
     "status": "completed"
    },
    "tags": []
   },
   "outputs": [
    {
     "data": {
      "text/plain": [
       "42"
      ]
     },
     "execution_count": 6,
     "metadata": {},
     "output_type": "execute_result"
    }
   ],
   "source": [
    "#CONSTANT\n",
    "FEATURE = feature_dic['feature']\n",
    "CAT_COL = feature_dic['categorical']\n",
    "NUMERIC_COL = feature_dic['numerical']\n",
    "\n",
    "FOLD_LIST = list(range(N_FOLD))\n",
    "\n",
    "gc.collect()"
   ]
  },
  {
   "cell_type": "code",
   "execution_count": 7,
   "id": "5a90fa38",
   "metadata": {
    "execution": {
     "iopub.execute_input": "2021-10-25T06:30:54.452759Z",
     "iopub.status.busy": "2021-10-25T06:30:54.451868Z",
     "iopub.status.idle": "2021-10-25T06:30:56.328056Z",
     "shell.execute_reply": "2021-10-25T06:30:56.328562Z",
     "shell.execute_reply.started": "2021-10-21T19:30:45.500948Z"
    },
    "papermill": {
     "duration": 1.898763,
     "end_time": "2021-10-25T06:30:56.328728",
     "exception": false,
     "start_time": "2021-10-25T06:30:54.429965",
     "status": "completed"
    },
    "tags": []
   },
   "outputs": [
    {
     "data": {
      "application/vnd.jupyter.widget-view+json": {
       "model_id": "f6ab01933e8e4f9690fd3421adf7d9f8",
       "version_major": 2,
       "version_minor": 0
      },
      "text/plain": [
       "0it [00:00, ?it/s]"
      ]
     },
     "metadata": {},
     "output_type": "display_data"
    }
   ],
   "source": [
    "for i, path in tqdm(enumerate(TEST_PATH)):\n",
    "\n",
    "    sub = pd.read_csv(\n",
    "        os.path.join(path, 'submission.csv')\n",
    "    )\n",
    "    \n",
    "    sub['target_fold'] = (sub['target']>=.5).astype(int)\n",
    "\n",
    "    #DEFINE FOLD same as PREPROCESS\n",
    "    strat_fold = StratifiedKFold(n_splits = N_FOLD, random_state = RANDOM_STATE, shuffle = True)\n",
    "    sub[FOLD_STRAT_NAME] = -1\n",
    "\n",
    "    for j, (_, test_index) in enumerate(strat_fold.split(sub, sub['target_fold'])):\n",
    "        sub.loc[test_index, FOLD_STRAT_NAME] = j\n",
    "\n",
    "    pseudo_test = pd.concat([test, sub[[FOLD_STRAT_NAME, 'target']]], axis = 1)\n",
    "    train = pd.concat([train, pseudo_test], axis = 0)\n",
    "\n",
    "    gc.collect()"
   ]
  },
  {
   "cell_type": "code",
   "execution_count": 8,
   "id": "cd8b3b58",
   "metadata": {
    "execution": {
     "iopub.execute_input": "2021-10-25T06:30:56.514000Z",
     "iopub.status.busy": "2021-10-25T06:30:56.513368Z",
     "iopub.status.idle": "2021-10-25T06:30:56.519033Z",
     "shell.execute_reply": "2021-10-25T06:30:56.518297Z",
     "shell.execute_reply.started": "2021-10-21T19:30:50.373863Z"
    },
    "papermill": {
     "duration": 0.16313,
     "end_time": "2021-10-25T06:30:56.519160",
     "exception": false,
     "start_time": "2021-10-25T06:30:56.356030",
     "status": "completed"
    },
    "tags": []
   },
   "outputs": [
    {
     "data": {
      "text/plain": [
       "41"
      ]
     },
     "execution_count": 8,
     "metadata": {},
     "output_type": "execute_result"
    }
   ],
   "source": [
    "del test\n",
    "gc.collect()"
   ]
  },
  {
   "cell_type": "code",
   "execution_count": 9,
   "id": "44f545cf",
   "metadata": {
    "execution": {
     "iopub.execute_input": "2021-10-25T06:30:56.561406Z",
     "iopub.status.busy": "2021-10-25T06:30:56.559856Z",
     "iopub.status.idle": "2021-10-25T06:30:56.562042Z",
     "shell.execute_reply": "2021-10-25T06:30:56.562446Z",
     "shell.execute_reply.started": "2021-10-21T19:30:50.480307Z"
    },
    "papermill": {
     "duration": 0.027225,
     "end_time": "2021-10-25T06:30:56.562572",
     "exception": false,
     "start_time": "2021-10-25T06:30:56.535347",
     "status": "completed"
    },
    "tags": []
   },
   "outputs": [],
   "source": [
    "class TabularDataset:\n",
    "    def __init__(self, numeric_col, cat_col, targets):\n",
    "        self.numeric_col = numeric_col\n",
    "        self.cat_col = cat_col\n",
    "        self.targets = targets\n",
    "\n",
    "    def __len__(self):\n",
    "        return (self.numeric_col.shape[0])\n",
    "    \n",
    "    def __getitem__(self, idx):\n",
    "        dct = {\n",
    "            'x_numeric' : torch.tensor(self.numeric_col[idx, :], dtype=torch.long),\n",
    "            'x_cat' : torch.tensor(self.cat_col[idx, :], dtype=torch.float),\n",
    "            'y' : torch.tensor(self.targets[idx], dtype=torch.float)\n",
    "        }\n",
    "        return dct\n",
    "    \n",
    "class InferenceDataset:\n",
    "    def __init__(self, numeric_col, cat_col):\n",
    "        self.numeric_col = numeric_col\n",
    "        self.cat_col = cat_col\n",
    "        \n",
    "    def __len__(self):\n",
    "        return (self.numeric_col.shape[0])\n",
    "    \n",
    "    def __getitem__(self, idx):\n",
    "        dct = {\n",
    "            'x_numeric' : torch.tensor(self.numeric_col[idx, :], dtype=torch.long),\n",
    "            'x_cat' : torch.tensor(self.cat_col[idx, :], dtype=torch.float),\n",
    "        }\n",
    "        return dct\n"
   ]
  },
  {
   "cell_type": "code",
   "execution_count": 10,
   "id": "8c084a26",
   "metadata": {
    "execution": {
     "iopub.execute_input": "2021-10-25T06:30:56.602228Z",
     "iopub.status.busy": "2021-10-25T06:30:56.601440Z",
     "iopub.status.idle": "2021-10-25T06:30:56.607997Z",
     "shell.execute_reply": "2021-10-25T06:30:56.607554Z",
     "shell.execute_reply.started": "2021-10-21T19:30:50.493408Z"
    },
    "papermill": {
     "duration": 0.029716,
     "end_time": "2021-10-25T06:30:56.608109",
     "exception": false,
     "start_time": "2021-10-25T06:30:56.578393",
     "status": "completed"
    },
    "tags": []
   },
   "outputs": [],
   "source": [
    "def train_fn(model, optimizer, scheduler, criterion, dataloader, device):\n",
    "    model.train()\n",
    "    final_loss = 0\n",
    "    \n",
    "    for data in dataloader:\n",
    "        optimizer.zero_grad()\n",
    "        inputs_numeric, input_cat, targets = data['x_numeric'].to(device), data['x_cat'].to(device), data['y'].to(device).unsqueeze(1)\n",
    "\n",
    "        outputs = model(inputs_numeric, input_cat)\n",
    "        \n",
    "        loss = criterion(outputs, targets)\n",
    "        loss.backward()\n",
    "            \n",
    "        optimizer.step()\n",
    "        scheduler.step()\n",
    "        \n",
    "        final_loss += loss.item()\n",
    "        \n",
    "    final_loss /= len(dataloader)\n",
    "    \n",
    "    return final_loss\n",
    "\n",
    "\n",
    "def valid_fn(model, criterion, dataloader, device):\n",
    "    model.eval()\n",
    "    \n",
    "    final_loss = 0\n",
    "    valid_preds = []\n",
    "    \n",
    "    for data in dataloader:\n",
    "        inputs_numeric, input_cat, targets = data['x_numeric'].to(device), data['x_cat'].to(device), data['y'].to(device).unsqueeze(1)\n",
    "        \n",
    "        outputs = model(inputs_numeric, input_cat)\n",
    "        loss = criterion(outputs, targets)\n",
    "\n",
    "        final_loss += loss.item()\n",
    "        \n",
    "        valid_preds.append(outputs.sigmoid().detach().cpu().numpy())\n",
    "        \n",
    "    final_loss /= len(dataloader)\n",
    "    valid_preds = np.concatenate(valid_preds)\n",
    "    \n",
    "    return final_loss, valid_preds\n",
    "\n",
    "def inference_fn(model, dataloader, device):\n",
    "    model.eval()\n",
    "    preds = []\n",
    "    \n",
    "    for data in dataloader:\n",
    "        inputs_numeric, input_cat = data['x_numeric'].to(device), data['x_cat'].to(device)\n",
    "\n",
    "        with torch.no_grad():\n",
    "            outputs = model(inputs_numeric, input_cat)\n",
    "        \n",
    "        preds.append(outputs.sigmoid().detach().cpu().numpy())\n",
    "        \n",
    "    preds = np.concatenate(preds)\n",
    "    \n",
    "    return preds\n"
   ]
  },
  {
   "cell_type": "code",
   "execution_count": 11,
   "id": "1358a9d7",
   "metadata": {
    "execution": {
     "iopub.execute_input": "2021-10-25T06:30:56.651166Z",
     "iopub.status.busy": "2021-10-25T06:30:56.650416Z",
     "iopub.status.idle": "2021-10-25T06:30:56.652919Z",
     "shell.execute_reply": "2021-10-25T06:30:56.652439Z",
     "shell.execute_reply.started": "2021-10-21T19:30:50.508792Z"
    },
    "papermill": {
     "duration": 0.028947,
     "end_time": "2021-10-25T06:30:56.653030",
     "exception": false,
     "start_time": "2021-10-25T06:30:56.624083",
     "status": "completed"
    },
    "tags": []
   },
   "outputs": [],
   "source": [
    "def run_training(train, valid, fold, model, batch_size, epochs, \n",
    "                 seed, early_stop_step, early_stop, device, learning_rate, weight_decay, verbose= True, save = True):\n",
    "\n",
    "    assert isinstance(train, list) & isinstance(valid, list) & (len(train) == 3) & (len(valid) == 3)\n",
    "    \n",
    "    seed_everything(seed)\n",
    "            \n",
    "    x_train_numeric, x_train_cat, y_train  = train\n",
    "    x_valid_numeric, x_valid_cat, y_valid =  valid\n",
    "    \n",
    "    train_dataset = TabularDataset(x_train_numeric, x_train_cat, y_train)\n",
    "    valid_dataset = TabularDataset(x_valid_numeric, x_valid_cat, y_valid)\n",
    "    \n",
    "    trainloader = torch.utils.data.DataLoader(train_dataset, batch_size=batch_size, shuffle=True)\n",
    "    validloader = torch.utils.data.DataLoader(valid_dataset, batch_size=batch_size, shuffle=False)\n",
    "        \n",
    "    model.to(device)\n",
    "    \n",
    "    optimizer = torch.optim.Adam(model.parameters(), lr=learning_rate, weight_decay=weight_decay)\n",
    "    \n",
    "    scheduler = optim.lr_scheduler.OneCycleLR(optimizer=optimizer, max_lr=learning_rate*10, epochs=epochs, steps_per_epoch=len(trainloader))\n",
    "    \n",
    "    criterion = nn.BCEWithLogitsLoss()\n",
    "    \n",
    "    early_step = 0\n",
    "    \n",
    "    best_loss = np.inf\n",
    "    \n",
    "    for epoch in range(epochs):\n",
    "        \n",
    "        train_loss = train_fn(model, optimizer, scheduler, criterion, trainloader, device)\n",
    "        valid_loss, valid_preds = valid_fn(model, criterion, validloader, device)\n",
    "        \n",
    "        if verbose:\n",
    "            print(f\"EPOCH: {epoch},  train_loss: {train_loss:.4f}, valid_loss: {valid_loss:.4f}\")\n",
    "        \n",
    "        if valid_loss < best_loss:\n",
    "            \n",
    "            best_loss = valid_loss\n",
    "            best_pred = valid_preds\n",
    "            \n",
    "            if save:\n",
    "                torch.save(model.state_dict(), f\"FOLD_{fold}_.pth\")\n",
    "            \n",
    "        elif(early_stop == True):\n",
    "            \n",
    "            early_step += 1\n",
    "            if (early_step >= early_stop_step):\n",
    "                break\n",
    "                \n",
    "    return best_loss, best_pred\n"
   ]
  },
  {
   "cell_type": "markdown",
   "id": "5fde498e",
   "metadata": {
    "papermill": {
     "duration": 0.015532,
     "end_time": "2021-10-25T06:30:56.684328",
     "exception": false,
     "start_time": "2021-10-25T06:30:56.668796",
     "status": "completed"
    },
    "tags": []
   },
   "source": [
    "# TRAIN"
   ]
  },
  {
   "cell_type": "code",
   "execution_count": 12,
   "id": "b05bd297",
   "metadata": {
    "execution": {
     "iopub.execute_input": "2021-10-25T06:30:56.719872Z",
     "iopub.status.busy": "2021-10-25T06:30:56.719333Z",
     "iopub.status.idle": "2021-10-25T06:30:56.722971Z",
     "shell.execute_reply": "2021-10-25T06:30:56.722514Z",
     "shell.execute_reply.started": "2021-10-21T19:30:50.525751Z"
    },
    "papermill": {
     "duration": 0.022935,
     "end_time": "2021-10-25T06:30:56.723079",
     "exception": false,
     "start_time": "2021-10-25T06:30:56.700144",
     "status": "completed"
    },
    "tags": []
   },
   "outputs": [],
   "source": [
    "num_feature = len(FEATURE)"
   ]
  },
  {
   "cell_type": "code",
   "execution_count": 13,
   "id": "34322a0e",
   "metadata": {
    "execution": {
     "iopub.execute_input": "2021-10-25T06:30:56.766855Z",
     "iopub.status.busy": "2021-10-25T06:30:56.766256Z",
     "iopub.status.idle": "2021-10-25T06:30:56.769611Z",
     "shell.execute_reply": "2021-10-25T06:30:56.770025Z",
     "shell.execute_reply.started": "2021-10-21T19:31:23.298202Z"
    },
    "papermill": {
     "duration": 0.031402,
     "end_time": "2021-10-25T06:30:56.770157",
     "exception": false,
     "start_time": "2021-10-25T06:30:56.738755",
     "status": "completed"
    },
    "tags": []
   },
   "outputs": [],
   "source": [
    "class ModelBinned(nn.Module):\n",
    "    def __init__(self, num_cat_features, hidden_size):\n",
    "        super(ModelBinned, self).__init__()\n",
    "        \n",
    "        self.hidden_size = hidden_size\n",
    "        \n",
    "        self.embedding = nn.Sequential(\n",
    "            nn.Embedding(num_embeddings = 256, embedding_dim = 8)\n",
    "        )\n",
    "        self.output_embedding = nn.Sequential(            \n",
    "            nn.Linear(1920, self.hidden_size),\n",
    "            nn.GELU(),\n",
    "        )\n",
    "        \n",
    "        self.layer_embedding = nn.Sequential(\n",
    "            nn.BatchNorm1d(hidden_size),\n",
    "            nn.Dropout(0.2),\n",
    "            nn.Linear(hidden_size, hidden_size),\n",
    "            nn.GELU()\n",
    "        )\n",
    "        \n",
    "        self.layer_categorical = nn.Sequential(\n",
    "            nn.Linear(num_cat_features, hidden_size),\n",
    "            nn.GELU(),\n",
    "            nn.BatchNorm1d(hidden_size),\n",
    "            nn.Linear(hidden_size, hidden_size),\n",
    "            nn.GELU()\n",
    "\n",
    "        )\n",
    "\n",
    "        self.layer_concat = nn.Sequential(\n",
    "            nn.BatchNorm1d(hidden_size * 2),\n",
    "            nn.Dropout(0.2),\n",
    "            nn.Linear(hidden_size * 2, hidden_size * 2),\n",
    "            nn.GELU(),\n",
    "            nn.BatchNorm1d(hidden_size * 2),\n",
    "            nn.Dropout(0.2),\n",
    "            nn.Linear(hidden_size * 2, hidden_size * 2),\n",
    "            nn.GELU()\n",
    "        )\n",
    "        \n",
    "        self.classifier = nn.Sequential(\n",
    "            nn.BatchNorm1d(hidden_size * 2),\n",
    "            nn.Dropout(0.1),\n",
    "            nn.Linear(hidden_size * 2, hidden_size),\n",
    "            nn.GELU(),\n",
    "            nn.BatchNorm1d(hidden_size),\n",
    "            nn.Dropout(0.1),\n",
    "            nn.Linear(hidden_size, 1),\n",
    "\n",
    "      )\n",
    "\n",
    "    def forward(self, x_num, x_cat):\n",
    "        x_num = self.embedding(x_num)\n",
    "\n",
    "        x_num = x_num.reshape(x_num.size(0), -1)\n",
    "        new_size = x_num.size(1)\n",
    "        \n",
    "        x_num = self.output_embedding(x_num)\n",
    "        \n",
    "        numeric = self.layer_embedding(x_num)\n",
    "        cat = self.layer_categorical(x_cat)\n",
    "        \n",
    "        concat = torch.cat((numeric, cat), axis = 1)\n",
    "        concat = self.layer_concat(concat)\n",
    "\n",
    "        output = self.classifier(concat)\n",
    "        \n",
    "        return output\n"
   ]
  },
  {
   "cell_type": "code",
   "execution_count": 14,
   "id": "48be68a6",
   "metadata": {
    "execution": {
     "iopub.execute_input": "2021-10-25T06:30:56.816301Z",
     "iopub.status.busy": "2021-10-25T06:30:56.813579Z",
     "iopub.status.idle": "2021-10-25T08:00:20.982257Z",
     "shell.execute_reply": "2021-10-25T08:00:20.981730Z",
     "shell.execute_reply.started": "2021-10-21T19:35:34.930002Z"
    },
    "papermill": {
     "duration": 5364.196054,
     "end_time": "2021-10-25T08:00:20.982395",
     "exception": false,
     "start_time": "2021-10-25T06:30:56.786341",
     "status": "completed"
    },
    "tags": []
   },
   "outputs": [
    {
     "name": "stdout",
     "output_type": "stream",
     "text": [
      "EPOCH: 0,  train_loss: 0.5319, valid_loss: 0.5098\n",
      "EPOCH: 1,  train_loss: 0.5033, valid_loss: 0.4955\n",
      "EPOCH: 2,  train_loss: 0.4908, valid_loss: 0.4861\n",
      "EPOCH: 3,  train_loss: 0.4819, valid_loss: 0.4799\n",
      "EPOCH: 4,  train_loss: 0.4759, valid_loss: 0.4763\n",
      "EPOCH: 5,  train_loss: 0.4723, valid_loss: 0.4746\n",
      "EPOCH: 6,  train_loss: 0.4707, valid_loss: 0.4733\n",
      "EPOCH: 7,  train_loss: 0.4704, valid_loss: 0.4724\n",
      "EPOCH: 8,  train_loss: 0.4706, valid_loss: 0.4714\n",
      "EPOCH: 9,  train_loss: 0.4711, valid_loss: 0.4705\n",
      "EPOCH: 10,  train_loss: 0.4716, valid_loss: 0.4703\n",
      "EPOCH: 11,  train_loss: 0.4719, valid_loss: 0.4703\n",
      "EPOCH: 12,  train_loss: 0.4721, valid_loss: 0.4745\n",
      "EPOCH: 13,  train_loss: 0.4723, valid_loss: 0.4729\n",
      "EPOCH: 14,  train_loss: 0.4727, valid_loss: 0.4714\n",
      "EPOCH: 15,  train_loss: 0.4731, valid_loss: 0.4730\n",
      "EPOCH: 16,  train_loss: 0.4736, valid_loss: 0.4738\n",
      "EPOCH: 17,  train_loss: 0.4738, valid_loss: 0.4737\n",
      "EPOCH: 18,  train_loss: 0.4743, valid_loss: 0.4731\n",
      "EPOCH: 19,  train_loss: 0.4744, valid_loss: 0.4729\n",
      "EPOCH: 20,  train_loss: 0.4747, valid_loss: 0.4709\n",
      "\n",
      "Fold: 0; Auc: 0.47033\n",
      "\n",
      "--------------------------------------------------\n",
      "\n",
      "\n",
      "\n",
      "\n",
      "EPOCH: 0,  train_loss: 0.5264, valid_loss: 0.5078\n",
      "EPOCH: 1,  train_loss: 0.5010, valid_loss: 0.4952\n",
      "EPOCH: 2,  train_loss: 0.4904, valid_loss: 0.4885\n",
      "EPOCH: 3,  train_loss: 0.4829, valid_loss: 0.4816\n",
      "EPOCH: 4,  train_loss: 0.4768, valid_loss: 0.4770\n",
      "EPOCH: 5,  train_loss: 0.4730, valid_loss: 0.4749\n",
      "EPOCH: 6,  train_loss: 0.4713, valid_loss: 0.4733\n",
      "EPOCH: 7,  train_loss: 0.4707, valid_loss: 0.4730\n",
      "EPOCH: 8,  train_loss: 0.4708, valid_loss: 0.4719\n",
      "EPOCH: 9,  train_loss: 0.4709, valid_loss: 0.4706\n",
      "EPOCH: 10,  train_loss: 0.4711, valid_loss: 0.4723\n",
      "EPOCH: 11,  train_loss: 0.4714, valid_loss: 0.4708\n",
      "EPOCH: 12,  train_loss: 0.4718, valid_loss: 0.4717\n",
      "EPOCH: 13,  train_loss: 0.4721, valid_loss: 0.4720\n",
      "EPOCH: 14,  train_loss: 0.4726, valid_loss: 0.4707\n",
      "EPOCH: 15,  train_loss: 0.4730, valid_loss: 0.4703\n",
      "EPOCH: 16,  train_loss: 0.4733, valid_loss: 0.4711\n",
      "EPOCH: 17,  train_loss: 0.4736, valid_loss: 0.4730\n",
      "EPOCH: 18,  train_loss: 0.4740, valid_loss: 0.4714\n",
      "EPOCH: 19,  train_loss: 0.4745, valid_loss: 0.4724\n",
      "EPOCH: 20,  train_loss: 0.4745, valid_loss: 0.4738\n",
      "\n",
      "Fold: 1; Auc: 0.47033\n",
      "\n",
      "--------------------------------------------------\n",
      "\n",
      "\n",
      "\n",
      "\n",
      "EPOCH: 0,  train_loss: 0.5267, valid_loss: 0.5070\n",
      "EPOCH: 1,  train_loss: 0.5013, valid_loss: 0.4946\n",
      "EPOCH: 2,  train_loss: 0.4907, valid_loss: 0.4872\n",
      "EPOCH: 3,  train_loss: 0.4833, valid_loss: 0.4812\n",
      "EPOCH: 4,  train_loss: 0.4769, valid_loss: 0.4767\n",
      "EPOCH: 5,  train_loss: 0.4731, valid_loss: 0.4741\n",
      "EPOCH: 6,  train_loss: 0.4714, valid_loss: 0.4753\n",
      "EPOCH: 7,  train_loss: 0.4708, valid_loss: 0.4723\n",
      "EPOCH: 8,  train_loss: 0.4712, valid_loss: 0.4724\n",
      "EPOCH: 9,  train_loss: 0.4713, valid_loss: 0.4714\n",
      "EPOCH: 10,  train_loss: 0.4712, valid_loss: 0.4718\n",
      "EPOCH: 11,  train_loss: 0.4714, valid_loss: 0.4712\n",
      "EPOCH: 12,  train_loss: 0.4717, valid_loss: 0.4708\n",
      "EPOCH: 13,  train_loss: 0.4722, valid_loss: 0.4715\n",
      "EPOCH: 14,  train_loss: 0.4724, valid_loss: 0.4720\n",
      "EPOCH: 15,  train_loss: 0.4729, valid_loss: 0.4727\n",
      "EPOCH: 16,  train_loss: 0.4733, valid_loss: 0.4724\n",
      "EPOCH: 17,  train_loss: 0.4738, valid_loss: 0.4718\n",
      "EPOCH: 18,  train_loss: 0.4742, valid_loss: 0.4718\n",
      "EPOCH: 19,  train_loss: 0.4744, valid_loss: 0.4780\n",
      "\n",
      "Fold: 2; Auc: 0.47082\n",
      "\n",
      "--------------------------------------------------\n",
      "\n",
      "\n",
      "\n",
      "\n",
      "EPOCH: 0,  train_loss: 0.5284, valid_loss: 0.5073\n",
      "EPOCH: 1,  train_loss: 0.5020, valid_loss: 0.4952\n",
      "EPOCH: 2,  train_loss: 0.4913, valid_loss: 0.4884\n",
      "EPOCH: 3,  train_loss: 0.4838, valid_loss: 0.4823\n",
      "EPOCH: 4,  train_loss: 0.4781, valid_loss: 0.4789\n",
      "EPOCH: 5,  train_loss: 0.4743, valid_loss: 0.4761\n",
      "EPOCH: 6,  train_loss: 0.4716, valid_loss: 0.4749\n",
      "EPOCH: 7,  train_loss: 0.4705, valid_loss: 0.4744\n",
      "EPOCH: 8,  train_loss: 0.4709, valid_loss: 0.4735\n",
      "EPOCH: 9,  train_loss: 0.4716, valid_loss: 0.4713\n",
      "EPOCH: 10,  train_loss: 0.4718, valid_loss: 0.4710\n",
      "EPOCH: 11,  train_loss: 0.4721, valid_loss: 0.4705\n",
      "EPOCH: 12,  train_loss: 0.4723, valid_loss: 0.4713\n",
      "EPOCH: 13,  train_loss: 0.4724, valid_loss: 0.4704\n",
      "EPOCH: 14,  train_loss: 0.4728, valid_loss: 0.4738\n",
      "EPOCH: 15,  train_loss: 0.4732, valid_loss: 0.4775\n",
      "EPOCH: 16,  train_loss: 0.4736, valid_loss: 0.4728\n",
      "EPOCH: 17,  train_loss: 0.4737, valid_loss: 0.4716\n",
      "EPOCH: 18,  train_loss: 0.4742, valid_loss: 0.4719\n",
      "EPOCH: 19,  train_loss: 0.4745, valid_loss: 0.4738\n",
      "EPOCH: 20,  train_loss: 0.4748, valid_loss: 0.4707\n",
      "EPOCH: 21,  train_loss: 0.4750, valid_loss: 0.4711\n",
      "EPOCH: 22,  train_loss: 0.4751, valid_loss: 0.4735\n",
      "\n",
      "Fold: 3; Auc: 0.47041\n",
      "\n",
      "--------------------------------------------------\n",
      "\n",
      "\n",
      "\n",
      "\n",
      "EPOCH: 0,  train_loss: 0.5269, valid_loss: 0.5072\n",
      "EPOCH: 1,  train_loss: 0.5009, valid_loss: 0.4944\n",
      "EPOCH: 2,  train_loss: 0.4894, valid_loss: 0.4871\n",
      "EPOCH: 3,  train_loss: 0.4822, valid_loss: 0.4817\n",
      "EPOCH: 4,  train_loss: 0.4768, valid_loss: 0.4781\n",
      "EPOCH: 5,  train_loss: 0.4731, valid_loss: 0.4765\n",
      "EPOCH: 6,  train_loss: 0.4717, valid_loss: 0.4753\n",
      "EPOCH: 7,  train_loss: 0.4713, valid_loss: 0.4744\n",
      "EPOCH: 8,  train_loss: 0.4714, valid_loss: 0.4725\n",
      "EPOCH: 9,  train_loss: 0.4717, valid_loss: 0.4737\n",
      "EPOCH: 10,  train_loss: 0.4719, valid_loss: 0.4715\n",
      "EPOCH: 11,  train_loss: 0.4719, valid_loss: 0.4732\n",
      "EPOCH: 12,  train_loss: 0.4721, valid_loss: 0.4710\n",
      "EPOCH: 13,  train_loss: 0.4723, valid_loss: 0.4742\n",
      "EPOCH: 14,  train_loss: 0.4727, valid_loss: 0.4796\n",
      "EPOCH: 15,  train_loss: 0.4730, valid_loss: 0.4715\n",
      "EPOCH: 16,  train_loss: 0.4734, valid_loss: 0.4729\n",
      "EPOCH: 17,  train_loss: 0.4736, valid_loss: 0.4762\n",
      "EPOCH: 18,  train_loss: 0.4740, valid_loss: 0.4812\n",
      "EPOCH: 19,  train_loss: 0.4742, valid_loss: 0.4729\n",
      "EPOCH: 20,  train_loss: 0.4745, valid_loss: 0.4742\n",
      "\n",
      "Fold: 4; Auc: 0.47099\n",
      "\n",
      "--------------------------------------------------\n",
      "\n",
      "\n",
      "\n",
      "\n",
      "CV-Auc: 0.47058\n",
      "\n"
     ]
    }
   ],
   "source": [
    "score = 0\n",
    "model_list = []\n",
    "\n",
    "prediction_df = pd.DataFrame(\n",
    "    {\n",
    "        'fold': train[FOLD_STRAT_NAME],\n",
    "        'prediction': np.zeros((train.shape[0]))\n",
    "    }\n",
    ")\n",
    "\n",
    "for i, fold_ in enumerate(FOLD_LIST):\n",
    "\n",
    "    mask_train = (train[FOLD_STRAT_NAME] != fold_)\n",
    "    mask_test = (train[FOLD_STRAT_NAME] == fold_)\n",
    "    \n",
    "    \n",
    "    train_numeric, train_cat, train_y = train.loc[mask_train, NUMERIC_COL].values, train.loc[mask_train, CAT_COL].values, train.loc[mask_train, TARGET_COL].values\n",
    "    valid_numeric, valid_cat, valid_y = train.loc[mask_test, NUMERIC_COL].values, train.loc[mask_test, CAT_COL].values, train.loc[mask_test, TARGET_COL].values\n",
    "    \n",
    "    model_ff = ModelBinned(num_cat_features = len(CAT_COL), hidden_size = 128)\n",
    "    \n",
    "    score_fold, pred_valid = run_training([train_numeric, train_cat, train_y], [valid_numeric, valid_cat, valid_y], \n",
    "                                        fold = fold_, model = model_ff, batch_size = BATCH_SIZE, epochs = EPOCHS, \n",
    "                                        seed = RANDOM_STATE, early_stop_step = EARLY_STOPPING_STEPS, early_stop = EARLY_STOP, \n",
    "                                        device = DEVICE, learning_rate = 1e-3, weight_decay = 1e-5)\n",
    "\n",
    "    #oof prediction\n",
    "    prediction_df.loc[mask_test, 'prediction'] = pred_valid\n",
    "    \n",
    "    #evaluate score and save model for importance/prediction\n",
    "    score += score_fold/N_FOLD\n",
    "    \n",
    "    print('\\nFold: {}; Auc: {:.5f}\\n'.format(fold_, score_fold))\n",
    "    print('-'*50)\n",
    "    print('\\n\\n\\n')\n",
    "    gc.collect()\n",
    "    \n",
    "print('CV-Auc: {:.5f}\\n'.format(score))"
   ]
  },
  {
   "cell_type": "code",
   "execution_count": 15,
   "id": "04c4a59d",
   "metadata": {
    "execution": {
     "iopub.execute_input": "2021-10-25T08:00:21.183799Z",
     "iopub.status.busy": "2021-10-25T08:00:21.182823Z",
     "iopub.status.idle": "2021-10-25T08:00:21.186334Z",
     "shell.execute_reply": "2021-10-25T08:00:21.186731Z",
     "shell.execute_reply.started": "2021-10-21T19:36:01.98409Z"
    },
    "papermill": {
     "duration": 0.160501,
     "end_time": "2021-10-25T08:00:21.186887",
     "exception": false,
     "start_time": "2021-10-25T08:00:21.026386",
     "status": "completed"
    },
    "tags": []
   },
   "outputs": [
    {
     "data": {
      "text/plain": [
       "21"
      ]
     },
     "execution_count": 15,
     "metadata": {},
     "output_type": "execute_result"
    }
   ],
   "source": [
    "del train\n",
    "gc.collect()"
   ]
  },
  {
   "cell_type": "markdown",
   "id": "48fb4f3c",
   "metadata": {
    "papermill": {
     "duration": 0.043303,
     "end_time": "2021-10-25T08:00:21.273895",
     "exception": false,
     "start_time": "2021-10-25T08:00:21.230592",
     "status": "completed"
    },
    "tags": []
   },
   "source": [
    "# TEST Blending"
   ]
  },
  {
   "cell_type": "code",
   "execution_count": 16,
   "id": "696774db",
   "metadata": {
    "execution": {
     "iopub.execute_input": "2021-10-25T08:00:21.366444Z",
     "iopub.status.busy": "2021-10-25T08:00:21.365813Z",
     "iopub.status.idle": "2021-10-25T08:00:22.073867Z",
     "shell.execute_reply": "2021-10-25T08:00:22.074412Z",
     "shell.execute_reply.started": "2021-10-21T19:36:03.736456Z"
    },
    "papermill": {
     "duration": 0.757084,
     "end_time": "2021-10-25T08:00:22.074596",
     "exception": false,
     "start_time": "2021-10-25T08:00:21.317512",
     "status": "completed"
    },
    "tags": []
   },
   "outputs": [],
   "source": [
    "test = pd.read_pickle(\n",
    "    os.path.join(PATH_NOTEBOOK, 'test_unscaled.pkl')\n",
    ")\n",
    "\n",
    "test_numeric, test_cat = test[NUMERIC_COL].values, test[CAT_COL].values,"
   ]
  },
  {
   "cell_type": "code",
   "execution_count": 17,
   "id": "3c1f48df",
   "metadata": {
    "execution": {
     "iopub.execute_input": "2021-10-25T08:00:22.176559Z",
     "iopub.status.busy": "2021-10-25T08:00:22.175708Z",
     "iopub.status.idle": "2021-10-25T08:01:10.648118Z",
     "shell.execute_reply": "2021-10-25T08:01:10.647128Z",
     "shell.execute_reply.started": "2021-10-21T19:36:05.605877Z"
    },
    "papermill": {
     "duration": 48.526498,
     "end_time": "2021-10-25T08:01:10.648276",
     "exception": false,
     "start_time": "2021-10-25T08:00:22.121778",
     "status": "completed"
    },
    "tags": []
   },
   "outputs": [],
   "source": [
    "pred_test = np.zeros((test.shape[0], 1))\n",
    "\n",
    "for fold_ in FOLD_LIST:\n",
    "    model = ModelBinned(num_cat_features = len(CAT_COL), hidden_size = 128)\n",
    "    \n",
    "    model.load_state_dict(torch.load(f\"FOLD_{fold_}_.pth\"))\n",
    "    model.to(DEVICE)\n",
    "    \n",
    "    test_dataset = InferenceDataset(test_numeric, test_cat)\n",
    "\n",
    "    testloader = torch.utils.data.DataLoader(test_dataset, batch_size=BATCH_SIZE, shuffle=False)\n",
    "\n",
    "    pred = inference_fn(model, testloader, DEVICE)\n",
    "    pred_test += pred/N_FOLD"
   ]
  },
  {
   "cell_type": "markdown",
   "id": "b3dde335",
   "metadata": {
    "papermill": {
     "duration": 0.043723,
     "end_time": "2021-10-25T08:01:10.735811",
     "exception": false,
     "start_time": "2021-10-25T08:01:10.692088",
     "status": "completed"
    },
    "tags": []
   },
   "source": [
    "# SAVE RESULT"
   ]
  },
  {
   "cell_type": "code",
   "execution_count": 18,
   "id": "d18445ad",
   "metadata": {
    "execution": {
     "iopub.execute_input": "2021-10-25T08:01:10.826792Z",
     "iopub.status.busy": "2021-10-25T08:01:10.826121Z",
     "iopub.status.idle": "2021-10-25T08:01:12.579279Z",
     "shell.execute_reply": "2021-10-25T08:01:12.578646Z",
     "shell.execute_reply.started": "2021-10-21T19:36:49.876464Z"
    },
    "papermill": {
     "duration": 1.800397,
     "end_time": "2021-10-25T08:01:12.579436",
     "exception": false,
     "start_time": "2021-10-25T08:01:10.779039",
     "status": "completed"
    },
    "tags": []
   },
   "outputs": [],
   "source": [
    "submission = pd.read_csv(os.path.join(INPUT_PATH, 'sample_submission.csv'))\n",
    "submission['target'] = pred_test\n",
    "\n",
    "submission.to_csv('submission.csv', index = False)"
   ]
  },
  {
   "cell_type": "code",
   "execution_count": 19,
   "id": "1a9979b4",
   "metadata": {
    "execution": {
     "iopub.execute_input": "2021-10-25T08:01:12.672841Z",
     "iopub.status.busy": "2021-10-25T08:01:12.671917Z",
     "iopub.status.idle": "2021-10-25T08:01:17.435917Z",
     "shell.execute_reply": "2021-10-25T08:01:17.435397Z",
     "shell.execute_reply.started": "2021-10-21T19:36:51.783259Z"
    },
    "papermill": {
     "duration": 4.812506,
     "end_time": "2021-10-25T08:01:17.436059",
     "exception": false,
     "start_time": "2021-10-25T08:01:12.623553",
     "status": "completed"
    },
    "tags": []
   },
   "outputs": [],
   "source": [
    "prediction_df.to_csv('oof_prediction', index = False)"
   ]
  }
 ],
 "metadata": {
  "kernelspec": {
   "display_name": "Python 3",
   "language": "python",
   "name": "python3"
  },
  "language_info": {
   "codemirror_mode": {
    "name": "ipython",
    "version": 3
   },
   "file_extension": ".py",
   "mimetype": "text/x-python",
   "name": "python",
   "nbconvert_exporter": "python",
   "pygments_lexer": "ipython3",
   "version": "3.7.10"
  },
  "papermill": {
   "default_parameters": {},
   "duration": 5454.619228,
   "end_time": "2021-10-25T08:01:18.700204",
   "environment_variables": {},
   "exception": null,
   "input_path": "__notebook__.ipynb",
   "output_path": "__notebook__.ipynb",
   "parameters": {},
   "start_time": "2021-10-25T06:30:24.080976",
   "version": "2.3.3"
  },
  "widgets": {
   "application/vnd.jupyter.widget-state+json": {
    "state": {
     "01bb7d17817a4043a8fb13c651d8a104": {
      "model_module": "@jupyter-widgets/base",
      "model_module_version": "1.2.0",
      "model_name": "LayoutModel",
      "state": {
       "_model_module": "@jupyter-widgets/base",
       "_model_module_version": "1.2.0",
       "_model_name": "LayoutModel",
       "_view_count": null,
       "_view_module": "@jupyter-widgets/base",
       "_view_module_version": "1.2.0",
       "_view_name": "LayoutView",
       "align_content": null,
       "align_items": null,
       "align_self": null,
       "border": null,
       "bottom": null,
       "display": null,
       "flex": null,
       "flex_flow": null,
       "grid_area": null,
       "grid_auto_columns": null,
       "grid_auto_flow": null,
       "grid_auto_rows": null,
       "grid_column": null,
       "grid_gap": null,
       "grid_row": null,
       "grid_template_areas": null,
       "grid_template_columns": null,
       "grid_template_rows": null,
       "height": null,
       "justify_content": null,
       "justify_items": null,
       "left": null,
       "margin": null,
       "max_height": null,
       "max_width": null,
       "min_height": null,
       "min_width": null,
       "object_fit": null,
       "object_position": null,
       "order": null,
       "overflow": null,
       "overflow_x": null,
       "overflow_y": null,
       "padding": null,
       "right": null,
       "top": null,
       "visibility": null,
       "width": null
      }
     },
     "365cc381a8514f4bb2c152f8e4992e88": {
      "model_module": "@jupyter-widgets/controls",
      "model_module_version": "1.5.0",
      "model_name": "HTMLModel",
      "state": {
       "_dom_classes": [],
       "_model_module": "@jupyter-widgets/controls",
       "_model_module_version": "1.5.0",
       "_model_name": "HTMLModel",
       "_view_count": null,
       "_view_module": "@jupyter-widgets/controls",
       "_view_module_version": "1.5.0",
       "_view_name": "HTMLView",
       "description": "",
       "description_tooltip": null,
       "layout": "IPY_MODEL_f5a35843f1b548e392ee492a80526b4a",
       "placeholder": "​",
       "style": "IPY_MODEL_80cda0cf73af4f6fb194c26fb68d6769",
       "value": ""
      }
     },
     "5417ce91c4b14b418bfaf526047c43d4": {
      "model_module": "@jupyter-widgets/controls",
      "model_module_version": "1.5.0",
      "model_name": "HTMLModel",
      "state": {
       "_dom_classes": [],
       "_model_module": "@jupyter-widgets/controls",
       "_model_module_version": "1.5.0",
       "_model_name": "HTMLModel",
       "_view_count": null,
       "_view_module": "@jupyter-widgets/controls",
       "_view_module_version": "1.5.0",
       "_view_name": "HTMLView",
       "description": "",
       "description_tooltip": null,
       "layout": "IPY_MODEL_8ff7ff25d3bb4ca09066f797cb212255",
       "placeholder": "​",
       "style": "IPY_MODEL_e8dd39eaf38047c3b4abeecf34bdf074",
       "value": " 1/? [00:01&lt;00:00,  1.87s/it]"
      }
     },
     "583fa9588b624374b61e1fdb0a873c35": {
      "model_module": "@jupyter-widgets/controls",
      "model_module_version": "1.5.0",
      "model_name": "FloatProgressModel",
      "state": {
       "_dom_classes": [],
       "_model_module": "@jupyter-widgets/controls",
       "_model_module_version": "1.5.0",
       "_model_name": "FloatProgressModel",
       "_view_count": null,
       "_view_module": "@jupyter-widgets/controls",
       "_view_module_version": "1.5.0",
       "_view_name": "ProgressView",
       "bar_style": "success",
       "description": "",
       "description_tooltip": null,
       "layout": "IPY_MODEL_78511316bca8404987cbfe31d84b06d5",
       "max": 1.0,
       "min": 0.0,
       "orientation": "horizontal",
       "style": "IPY_MODEL_f807db0d8e374856a060f82cddc2884b",
       "value": 1.0
      }
     },
     "78511316bca8404987cbfe31d84b06d5": {
      "model_module": "@jupyter-widgets/base",
      "model_module_version": "1.2.0",
      "model_name": "LayoutModel",
      "state": {
       "_model_module": "@jupyter-widgets/base",
       "_model_module_version": "1.2.0",
       "_model_name": "LayoutModel",
       "_view_count": null,
       "_view_module": "@jupyter-widgets/base",
       "_view_module_version": "1.2.0",
       "_view_name": "LayoutView",
       "align_content": null,
       "align_items": null,
       "align_self": null,
       "border": null,
       "bottom": null,
       "display": null,
       "flex": null,
       "flex_flow": null,
       "grid_area": null,
       "grid_auto_columns": null,
       "grid_auto_flow": null,
       "grid_auto_rows": null,
       "grid_column": null,
       "grid_gap": null,
       "grid_row": null,
       "grid_template_areas": null,
       "grid_template_columns": null,
       "grid_template_rows": null,
       "height": null,
       "justify_content": null,
       "justify_items": null,
       "left": null,
       "margin": null,
       "max_height": null,
       "max_width": null,
       "min_height": null,
       "min_width": null,
       "object_fit": null,
       "object_position": null,
       "order": null,
       "overflow": null,
       "overflow_x": null,
       "overflow_y": null,
       "padding": null,
       "right": null,
       "top": null,
       "visibility": null,
       "width": "20px"
      }
     },
     "80cda0cf73af4f6fb194c26fb68d6769": {
      "model_module": "@jupyter-widgets/controls",
      "model_module_version": "1.5.0",
      "model_name": "DescriptionStyleModel",
      "state": {
       "_model_module": "@jupyter-widgets/controls",
       "_model_module_version": "1.5.0",
       "_model_name": "DescriptionStyleModel",
       "_view_count": null,
       "_view_module": "@jupyter-widgets/base",
       "_view_module_version": "1.2.0",
       "_view_name": "StyleView",
       "description_width": ""
      }
     },
     "8ff7ff25d3bb4ca09066f797cb212255": {
      "model_module": "@jupyter-widgets/base",
      "model_module_version": "1.2.0",
      "model_name": "LayoutModel",
      "state": {
       "_model_module": "@jupyter-widgets/base",
       "_model_module_version": "1.2.0",
       "_model_name": "LayoutModel",
       "_view_count": null,
       "_view_module": "@jupyter-widgets/base",
       "_view_module_version": "1.2.0",
       "_view_name": "LayoutView",
       "align_content": null,
       "align_items": null,
       "align_self": null,
       "border": null,
       "bottom": null,
       "display": null,
       "flex": null,
       "flex_flow": null,
       "grid_area": null,
       "grid_auto_columns": null,
       "grid_auto_flow": null,
       "grid_auto_rows": null,
       "grid_column": null,
       "grid_gap": null,
       "grid_row": null,
       "grid_template_areas": null,
       "grid_template_columns": null,
       "grid_template_rows": null,
       "height": null,
       "justify_content": null,
       "justify_items": null,
       "left": null,
       "margin": null,
       "max_height": null,
       "max_width": null,
       "min_height": null,
       "min_width": null,
       "object_fit": null,
       "object_position": null,
       "order": null,
       "overflow": null,
       "overflow_x": null,
       "overflow_y": null,
       "padding": null,
       "right": null,
       "top": null,
       "visibility": null,
       "width": null
      }
     },
     "e8dd39eaf38047c3b4abeecf34bdf074": {
      "model_module": "@jupyter-widgets/controls",
      "model_module_version": "1.5.0",
      "model_name": "DescriptionStyleModel",
      "state": {
       "_model_module": "@jupyter-widgets/controls",
       "_model_module_version": "1.5.0",
       "_model_name": "DescriptionStyleModel",
       "_view_count": null,
       "_view_module": "@jupyter-widgets/base",
       "_view_module_version": "1.2.0",
       "_view_name": "StyleView",
       "description_width": ""
      }
     },
     "f5a35843f1b548e392ee492a80526b4a": {
      "model_module": "@jupyter-widgets/base",
      "model_module_version": "1.2.0",
      "model_name": "LayoutModel",
      "state": {
       "_model_module": "@jupyter-widgets/base",
       "_model_module_version": "1.2.0",
       "_model_name": "LayoutModel",
       "_view_count": null,
       "_view_module": "@jupyter-widgets/base",
       "_view_module_version": "1.2.0",
       "_view_name": "LayoutView",
       "align_content": null,
       "align_items": null,
       "align_self": null,
       "border": null,
       "bottom": null,
       "display": null,
       "flex": null,
       "flex_flow": null,
       "grid_area": null,
       "grid_auto_columns": null,
       "grid_auto_flow": null,
       "grid_auto_rows": null,
       "grid_column": null,
       "grid_gap": null,
       "grid_row": null,
       "grid_template_areas": null,
       "grid_template_columns": null,
       "grid_template_rows": null,
       "height": null,
       "justify_content": null,
       "justify_items": null,
       "left": null,
       "margin": null,
       "max_height": null,
       "max_width": null,
       "min_height": null,
       "min_width": null,
       "object_fit": null,
       "object_position": null,
       "order": null,
       "overflow": null,
       "overflow_x": null,
       "overflow_y": null,
       "padding": null,
       "right": null,
       "top": null,
       "visibility": null,
       "width": null
      }
     },
     "f6ab01933e8e4f9690fd3421adf7d9f8": {
      "model_module": "@jupyter-widgets/controls",
      "model_module_version": "1.5.0",
      "model_name": "HBoxModel",
      "state": {
       "_dom_classes": [],
       "_model_module": "@jupyter-widgets/controls",
       "_model_module_version": "1.5.0",
       "_model_name": "HBoxModel",
       "_view_count": null,
       "_view_module": "@jupyter-widgets/controls",
       "_view_module_version": "1.5.0",
       "_view_name": "HBoxView",
       "box_style": "",
       "children": [
        "IPY_MODEL_365cc381a8514f4bb2c152f8e4992e88",
        "IPY_MODEL_583fa9588b624374b61e1fdb0a873c35",
        "IPY_MODEL_5417ce91c4b14b418bfaf526047c43d4"
       ],
       "layout": "IPY_MODEL_01bb7d17817a4043a8fb13c651d8a104"
      }
     },
     "f807db0d8e374856a060f82cddc2884b": {
      "model_module": "@jupyter-widgets/controls",
      "model_module_version": "1.5.0",
      "model_name": "ProgressStyleModel",
      "state": {
       "_model_module": "@jupyter-widgets/controls",
       "_model_module_version": "1.5.0",
       "_model_name": "ProgressStyleModel",
       "_view_count": null,
       "_view_module": "@jupyter-widgets/base",
       "_view_module_version": "1.2.0",
       "_view_name": "StyleView",
       "bar_color": null,
       "description_width": ""
      }
     }
    },
    "version_major": 2,
    "version_minor": 0
   }
  }
 },
 "nbformat": 4,
 "nbformat_minor": 5
}
