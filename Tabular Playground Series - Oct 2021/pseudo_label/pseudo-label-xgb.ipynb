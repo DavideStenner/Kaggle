{
 "cells": [
  {
   "cell_type": "code",
   "execution_count": 1,
   "id": "673d0d53",
   "metadata": {
    "_cell_guid": "b1076dfc-b9ad-4769-8c92-a6c4dae69d19",
    "_uuid": "8f2839f25d086af736a60e9eeb907d3b93b6e0e5",
    "execution": {
     "iopub.execute_input": "2021-10-20T14:15:54.254939Z",
     "iopub.status.busy": "2021-10-20T14:15:54.253757Z",
     "iopub.status.idle": "2021-10-20T14:15:55.397369Z",
     "shell.execute_reply": "2021-10-20T14:15:55.396450Z",
     "shell.execute_reply.started": "2021-10-20T14:10:25.994818Z"
    },
    "papermill": {
     "duration": 1.174853,
     "end_time": "2021-10-20T14:15:55.397562",
     "exception": false,
     "start_time": "2021-10-20T14:15:54.222709",
     "status": "completed"
    },
    "tags": []
   },
   "outputs": [],
   "source": [
    "import pandas as pd\n",
    "import numpy as np\n",
    "import xgboost as xgb\n",
    "import pickle\n",
    "import os\n",
    "import gc\n",
    "from sklearn.preprocessing import MinMaxScaler\n",
    "from matplotlib import pyplot as plt\n",
    "import seaborn as sns\n",
    "from sklearn.model_selection import StratifiedKFold\n",
    "import json\n",
    "\n",
    "from utilities import (\n",
    "    RANDOM_STATE, TARGET_COL, N_FOLD, FOLD_STRAT_NAME,\n",
    ")\n",
    "\n",
    "INPUT_PATH = '../input/tabular-playground-series-oct-2021'\n",
    "PATH_NOTEBOOK = '../input/preprocess-gpu'\n",
    "PATH_PARAM = '../input/optuna-xgboost'\n",
    "\n",
    "TEST_PATH = [\n",
    "    '../input/xgboost-tuned'\n",
    "]"
   ]
  },
  {
   "cell_type": "code",
   "execution_count": 2,
   "id": "e7791402",
   "metadata": {
    "execution": {
     "iopub.execute_input": "2021-10-20T14:15:55.504353Z",
     "iopub.status.busy": "2021-10-20T14:15:55.503305Z",
     "iopub.status.idle": "2021-10-20T14:15:55.539000Z",
     "shell.execute_reply": "2021-10-20T14:15:55.538021Z",
     "shell.execute_reply.started": "2021-10-20T14:06:28.440566Z"
    },
    "papermill": {
     "duration": 0.098023,
     "end_time": "2021-10-20T14:15:55.539264",
     "exception": false,
     "start_time": "2021-10-20T14:15:55.441241",
     "status": "completed"
    },
    "tags": []
   },
   "outputs": [],
   "source": [
    "with open(os.path.join(PATH_NOTEBOOK, 'feature_dic.pkl'), 'rb') as file:\n",
    "    feature_dic = pickle.load(file)\n",
    "    \n",
    "#CONSTANT\n",
    "FEATURE = feature_dic['feature']\n",
    "CAT_COL = feature_dic['categorical']\n",
    "NUMERIC_COL = feature_dic['numerical']"
   ]
  },
  {
   "cell_type": "code",
   "execution_count": 3,
   "id": "9c487975",
   "metadata": {
    "execution": {
     "iopub.execute_input": "2021-10-20T14:15:55.648802Z",
     "iopub.status.busy": "2021-10-20T14:15:55.646964Z",
     "iopub.status.idle": "2021-10-20T14:16:09.796403Z",
     "shell.execute_reply": "2021-10-20T14:16:09.795059Z",
     "shell.execute_reply.started": "2021-10-20T14:06:30.508490Z"
    },
    "papermill": {
     "duration": 14.212168,
     "end_time": "2021-10-20T14:16:09.796567",
     "exception": false,
     "start_time": "2021-10-20T14:15:55.584399",
     "status": "completed"
    },
    "tags": []
   },
   "outputs": [],
   "source": [
    "train = pd.read_pickle(\n",
    "    os.path.join(PATH_NOTEBOOK, 'train_unscaled.pkl')\n",
    ")"
   ]
  },
  {
   "cell_type": "code",
   "execution_count": 4,
   "id": "4073c695",
   "metadata": {
    "execution": {
     "iopub.execute_input": "2021-10-20T14:16:09.838925Z",
     "iopub.status.busy": "2021-10-20T14:16:09.838199Z",
     "iopub.status.idle": "2021-10-20T14:16:10.106569Z",
     "shell.execute_reply": "2021-10-20T14:16:10.105945Z",
     "shell.execute_reply.started": "2021-10-20T14:10:12.808591Z"
    },
    "papermill": {
     "duration": 0.29203,
     "end_time": "2021-10-20T14:16:10.106780",
     "exception": false,
     "start_time": "2021-10-20T14:16:09.814750",
     "status": "completed"
    },
    "tags": []
   },
   "outputs": [],
   "source": [
    "sub = pd.read_csv(\n",
    "    os.path.join(TEST_PATH[0], 'submission.csv')\n",
    ")\n",
    "\n",
    "sub['target_fold'] = (sub['target']>=.5).astype(int)"
   ]
  },
  {
   "cell_type": "code",
   "execution_count": 5,
   "id": "70ed997f",
   "metadata": {
    "execution": {
     "iopub.execute_input": "2021-10-20T14:16:10.148960Z",
     "iopub.status.busy": "2021-10-20T14:16:10.147661Z",
     "iopub.status.idle": "2021-10-20T14:16:10.271971Z",
     "shell.execute_reply": "2021-10-20T14:16:10.271375Z",
     "shell.execute_reply.started": "2021-10-20T14:10:13.192658Z"
    },
    "papermill": {
     "duration": 0.147204,
     "end_time": "2021-10-20T14:16:10.272145",
     "exception": false,
     "start_time": "2021-10-20T14:16:10.124941",
     "status": "completed"
    },
    "tags": []
   },
   "outputs": [],
   "source": [
    "#DEFINE FOLD same as PREPROCESS\n",
    "strat_fold = StratifiedKFold(n_splits = N_FOLD, random_state = RANDOM_STATE, shuffle = True)\n",
    "sub[FOLD_STRAT_NAME] = -1\n",
    "\n",
    "for i, (train_index, test_index) in enumerate(strat_fold.split(sub, sub['target_fold'])):\n",
    "    sub.loc[test_index, FOLD_STRAT_NAME] = i"
   ]
  },
  {
   "cell_type": "code",
   "execution_count": 6,
   "id": "29fff125",
   "metadata": {
    "execution": {
     "iopub.execute_input": "2021-10-20T14:16:10.313811Z",
     "iopub.status.busy": "2021-10-20T14:16:10.313110Z",
     "iopub.status.idle": "2021-10-20T14:16:16.335096Z",
     "shell.execute_reply": "2021-10-20T14:16:16.333995Z",
     "shell.execute_reply.started": "2021-10-20T14:07:09.768387Z"
    },
    "papermill": {
     "duration": 6.044791,
     "end_time": "2021-10-20T14:16:16.335249",
     "exception": false,
     "start_time": "2021-10-20T14:16:10.290458",
     "status": "completed"
    },
    "tags": []
   },
   "outputs": [],
   "source": [
    "test = pd.read_pickle(\n",
    "    os.path.join(PATH_NOTEBOOK, 'test_unscaled.pkl')\n",
    ")"
   ]
  },
  {
   "cell_type": "code",
   "execution_count": 7,
   "id": "25426cbe",
   "metadata": {
    "execution": {
     "iopub.execute_input": "2021-10-20T14:16:16.388017Z",
     "iopub.status.busy": "2021-10-20T14:16:16.386586Z",
     "iopub.status.idle": "2021-10-20T14:16:16.728717Z",
     "shell.execute_reply": "2021-10-20T14:16:16.728024Z",
     "shell.execute_reply.started": "2021-10-20T14:07:17.330371Z"
    },
    "papermill": {
     "duration": 0.375649,
     "end_time": "2021-10-20T14:16:16.728894",
     "exception": false,
     "start_time": "2021-10-20T14:16:16.353245",
     "status": "completed"
    },
    "tags": []
   },
   "outputs": [],
   "source": [
    "test = pd.concat([test, sub[['target', FOLD_STRAT_NAME]]], axis = 1)"
   ]
  },
  {
   "cell_type": "code",
   "execution_count": 8,
   "id": "fca612a6",
   "metadata": {
    "execution": {
     "iopub.execute_input": "2021-10-20T14:16:16.771347Z",
     "iopub.status.busy": "2021-10-20T14:16:16.769962Z",
     "iopub.status.idle": "2021-10-20T14:16:17.940250Z",
     "shell.execute_reply": "2021-10-20T14:16:17.941640Z",
     "shell.execute_reply.started": "2021-10-20T14:07:17.550406Z"
    },
    "papermill": {
     "duration": 1.195025,
     "end_time": "2021-10-20T14:16:17.941951",
     "exception": false,
     "start_time": "2021-10-20T14:16:16.746926",
     "status": "completed"
    },
    "tags": []
   },
   "outputs": [],
   "source": [
    "pl_data = pd.concat([train, test], axis = 0)"
   ]
  },
  {
   "cell_type": "code",
   "execution_count": 9,
   "id": "2bf49dbe",
   "metadata": {
    "execution": {
     "iopub.execute_input": "2021-10-20T14:16:18.017949Z",
     "iopub.status.busy": "2021-10-20T14:16:18.016806Z",
     "iopub.status.idle": "2021-10-20T14:16:18.165431Z",
     "shell.execute_reply": "2021-10-20T14:16:18.166317Z",
     "shell.execute_reply.started": "2021-10-20T14:07:23.253154Z"
    },
    "papermill": {
     "duration": 0.194,
     "end_time": "2021-10-20T14:16:18.166530",
     "exception": false,
     "start_time": "2021-10-20T14:16:17.972530",
     "status": "completed"
    },
    "tags": []
   },
   "outputs": [
    {
     "data": {
      "text/plain": [
       "42"
      ]
     },
     "execution_count": 9,
     "metadata": {},
     "output_type": "execute_result"
    }
   ],
   "source": [
    "FOLD_LIST = list(range(pl_data[FOLD_STRAT_NAME].nunique()))\n",
    "\n",
    "gc.collect()"
   ]
  },
  {
   "cell_type": "markdown",
   "id": "68667705",
   "metadata": {
    "papermill": {
     "duration": 0.01841,
     "end_time": "2021-10-20T14:16:18.203859",
     "exception": false,
     "start_time": "2021-10-20T14:16:18.185449",
     "status": "completed"
    },
    "tags": []
   },
   "source": [
    "# TRAIN"
   ]
  },
  {
   "cell_type": "code",
   "execution_count": 10,
   "id": "228569f0",
   "metadata": {
    "execution": {
     "iopub.execute_input": "2021-10-20T14:16:18.247572Z",
     "iopub.status.busy": "2021-10-20T14:16:18.246623Z",
     "iopub.status.idle": "2021-10-20T14:16:18.266957Z",
     "shell.execute_reply": "2021-10-20T14:16:18.267507Z",
     "shell.execute_reply.started": "2021-10-20T14:10:28.637283Z"
    },
    "papermill": {
     "duration": 0.04541,
     "end_time": "2021-10-20T14:16:18.267732",
     "exception": false,
     "start_time": "2021-10-20T14:16:18.222322",
     "status": "completed"
    },
    "tags": []
   },
   "outputs": [
    {
     "name": "stdout",
     "output_type": "stream",
     "text": [
      "{\n",
      "    \"objective\": \"binary:logistic\",\n",
      "    \"booster\": \"gbtree\",\n",
      "    \"eval_metric\": \"logloss\",\n",
      "    \"tree_method\": \"gpu_hist\",\n",
      "    \"predictor\": \"gpu_predictor\",\n",
      "    \"seed\": 383920,\n",
      "    \"learning_rate\": 0.005,\n",
      "    \"subsample\": 0.8081548613972851,\n",
      "    \"colsample_bytree\": 0.5093883996922348,\n",
      "    \"lambda\": 6.593897401079495,\n",
      "    \"alpha\": 8.220939046693244,\n",
      "    \"max_depth\": 4,\n",
      "    \"gamma\": 0.9917294458236702\n",
      "}\n"
     ]
    }
   ],
   "source": [
    "params = {\n",
    "    'objective': 'binary:logistic',\n",
    "    'booster': 'gbtree',\n",
    "    'eval_metric': 'logloss',\n",
    "    'tree_method': 'gpu_hist',\n",
    "    'predictor': 'gpu_predictor',\n",
    "    'seed': RANDOM_STATE,\n",
    "    \"learning_rate\": .005,\n",
    "}\n",
    "\n",
    "#import lgb optimized parameter (file_name is wrong :()\n",
    "with open(os.path.join(PATH_PARAM, 'final_xgb_param.pkl'), 'rb') as file:\n",
    "    param_xgb_final = pickle.load(file)\n",
    "\n",
    "params.update(param_xgb_final)\n",
    "\n",
    "#pretty print\n",
    "print(json.dumps(params, indent=4))\n"
   ]
  },
  {
   "cell_type": "code",
   "execution_count": 11,
   "id": "a0eb71ec",
   "metadata": {
    "execution": {
     "iopub.execute_input": "2021-10-20T14:16:18.317459Z",
     "iopub.status.busy": "2021-10-20T14:16:18.316366Z",
     "iopub.status.idle": "2021-10-20T17:20:42.666903Z",
     "shell.execute_reply": "2021-10-20T17:20:42.666103Z",
     "shell.execute_reply.started": "2021-10-20T14:13:57.600859Z"
    },
    "papermill": {
     "duration": 11064.381037,
     "end_time": "2021-10-20T17:20:42.667049",
     "exception": false,
     "start_time": "2021-10-20T14:16:18.286012",
     "status": "completed"
    },
    "tags": []
   },
   "outputs": [
    {
     "name": "stdout",
     "output_type": "stream",
     "text": [
      "[0]\tvalid-logloss:0.69285\n",
      "[500]\tvalid-logloss:0.52654\n",
      "[1000]\tvalid-logloss:0.50141\n",
      "[1500]\tvalid-logloss:0.49308\n",
      "[2000]\tvalid-logloss:0.48806\n",
      "[2500]\tvalid-logloss:0.48457\n",
      "[3000]\tvalid-logloss:0.48197\n",
      "[3500]\tvalid-logloss:0.47994\n",
      "[4000]\tvalid-logloss:0.47830\n",
      "[4500]\tvalid-logloss:0.47695\n",
      "[5000]\tvalid-logloss:0.47581\n",
      "[5500]\tvalid-logloss:0.47484\n",
      "[6000]\tvalid-logloss:0.47400\n",
      "[6500]\tvalid-logloss:0.47328\n",
      "[7000]\tvalid-logloss:0.47264\n",
      "[7500]\tvalid-logloss:0.47209\n",
      "[8000]\tvalid-logloss:0.47159\n",
      "[8500]\tvalid-logloss:0.47116\n",
      "[9000]\tvalid-logloss:0.47078\n",
      "[9500]\tvalid-logloss:0.47043\n",
      "[10000]\tvalid-logloss:0.47011\n",
      "[10500]\tvalid-logloss:0.46982\n",
      "[11000]\tvalid-logloss:0.46957\n",
      "[11500]\tvalid-logloss:0.46934\n",
      "[12000]\tvalid-logloss:0.46913\n",
      "[12500]\tvalid-logloss:0.46894\n",
      "[13000]\tvalid-logloss:0.46876\n",
      "[13500]\tvalid-logloss:0.46860\n",
      "[14000]\tvalid-logloss:0.46846\n",
      "[14500]\tvalid-logloss:0.46833\n",
      "[15000]\tvalid-logloss:0.46821\n",
      "[15500]\tvalid-logloss:0.46810\n",
      "[16000]\tvalid-logloss:0.46801\n",
      "[16500]\tvalid-logloss:0.46792\n",
      "[17000]\tvalid-logloss:0.46784\n",
      "[17500]\tvalid-logloss:0.46776\n",
      "[18000]\tvalid-logloss:0.46770\n",
      "[18500]\tvalid-logloss:0.46763\n",
      "[19000]\tvalid-logloss:0.46757\n",
      "[19500]\tvalid-logloss:0.46752\n",
      "[20000]\tvalid-logloss:0.46748\n",
      "[20500]\tvalid-logloss:0.46743\n",
      "[21000]\tvalid-logloss:0.46740\n",
      "[21500]\tvalid-logloss:0.46736\n",
      "[22000]\tvalid-logloss:0.46733\n",
      "[22500]\tvalid-logloss:0.46730\n",
      "[23000]\tvalid-logloss:0.46727\n",
      "[23500]\tvalid-logloss:0.46725\n",
      "[24000]\tvalid-logloss:0.46723\n",
      "[24500]\tvalid-logloss:0.46721\n",
      "[25000]\tvalid-logloss:0.46720\n",
      "[25500]\tvalid-logloss:0.46718\n",
      "[26000]\tvalid-logloss:0.46717\n",
      "[26500]\tvalid-logloss:0.46715\n",
      "[27000]\tvalid-logloss:0.46714\n",
      "[27500]\tvalid-logloss:0.46713\n",
      "[28000]\tvalid-logloss:0.46713\n",
      "[28500]\tvalid-logloss:0.46712\n",
      "[29000]\tvalid-logloss:0.46711\n",
      "[29500]\tvalid-logloss:0.46710\n",
      "[30000]\tvalid-logloss:0.46710\n",
      "[30500]\tvalid-logloss:0.46709\n",
      "[31000]\tvalid-logloss:0.46709\n",
      "[31114]\tvalid-logloss:0.46709\n",
      "\n",
      "Fold: 0; Cross Entropy: 0.46709\n",
      "\n",
      "--------------------------------------------------\n",
      "\n",
      "\n",
      "\n",
      "\n",
      "[0]\tvalid-logloss:0.69285\n",
      "[500]\tvalid-logloss:0.52696\n",
      "[1000]\tvalid-logloss:0.50198\n",
      "[1500]\tvalid-logloss:0.49373\n",
      "[2000]\tvalid-logloss:0.48877\n",
      "[2500]\tvalid-logloss:0.48532\n",
      "[3000]\tvalid-logloss:0.48274\n",
      "[3500]\tvalid-logloss:0.48072\n",
      "[4000]\tvalid-logloss:0.47911\n",
      "[4500]\tvalid-logloss:0.47778\n",
      "[5000]\tvalid-logloss:0.47666\n",
      "[5500]\tvalid-logloss:0.47569\n",
      "[6000]\tvalid-logloss:0.47486\n",
      "[6500]\tvalid-logloss:0.47415\n",
      "[7000]\tvalid-logloss:0.47353\n",
      "[7500]\tvalid-logloss:0.47299\n",
      "[8000]\tvalid-logloss:0.47251\n",
      "[8500]\tvalid-logloss:0.47208\n",
      "[9000]\tvalid-logloss:0.47170\n",
      "[9500]\tvalid-logloss:0.47136\n",
      "[10000]\tvalid-logloss:0.47105\n",
      "[10500]\tvalid-logloss:0.47077\n",
      "[11000]\tvalid-logloss:0.47052\n",
      "[11500]\tvalid-logloss:0.47030\n",
      "[12000]\tvalid-logloss:0.47009\n",
      "[12500]\tvalid-logloss:0.46991\n",
      "[13000]\tvalid-logloss:0.46974\n",
      "[13500]\tvalid-logloss:0.46959\n",
      "[14000]\tvalid-logloss:0.46945\n",
      "[14500]\tvalid-logloss:0.46932\n",
      "[15000]\tvalid-logloss:0.46920\n",
      "[15500]\tvalid-logloss:0.46909\n",
      "[16000]\tvalid-logloss:0.46899\n",
      "[16500]\tvalid-logloss:0.46890\n",
      "[17000]\tvalid-logloss:0.46882\n",
      "[17500]\tvalid-logloss:0.46875\n",
      "[18000]\tvalid-logloss:0.46868\n",
      "[18500]\tvalid-logloss:0.46862\n",
      "[19000]\tvalid-logloss:0.46856\n",
      "[19500]\tvalid-logloss:0.46851\n",
      "[20000]\tvalid-logloss:0.46846\n",
      "[20500]\tvalid-logloss:0.46841\n",
      "[21000]\tvalid-logloss:0.46837\n",
      "[21500]\tvalid-logloss:0.46833\n",
      "[22000]\tvalid-logloss:0.46830\n",
      "[22500]\tvalid-logloss:0.46827\n",
      "[23000]\tvalid-logloss:0.46824\n",
      "[23500]\tvalid-logloss:0.46822\n",
      "[24000]\tvalid-logloss:0.46819\n",
      "[24500]\tvalid-logloss:0.46817\n",
      "[25000]\tvalid-logloss:0.46815\n",
      "[25500]\tvalid-logloss:0.46813\n",
      "[26000]\tvalid-logloss:0.46812\n",
      "[26500]\tvalid-logloss:0.46810\n",
      "[27000]\tvalid-logloss:0.46809\n",
      "[27500]\tvalid-logloss:0.46808\n",
      "[28000]\tvalid-logloss:0.46807\n",
      "[28500]\tvalid-logloss:0.46806\n",
      "[29000]\tvalid-logloss:0.46806\n",
      "[29500]\tvalid-logloss:0.46805\n",
      "[30000]\tvalid-logloss:0.46804\n",
      "[30500]\tvalid-logloss:0.46804\n",
      "[31000]\tvalid-logloss:0.46803\n",
      "[31500]\tvalid-logloss:0.46803\n",
      "[32000]\tvalid-logloss:0.46803\n",
      "[32500]\tvalid-logloss:0.46802\n",
      "[33000]\tvalid-logloss:0.46801\n",
      "[33500]\tvalid-logloss:0.46801\n",
      "[33794]\tvalid-logloss:0.46801\n",
      "\n",
      "Fold: 1; Cross Entropy: 0.46801\n",
      "\n",
      "--------------------------------------------------\n",
      "\n",
      "\n",
      "\n",
      "\n",
      "[0]\tvalid-logloss:0.69285\n",
      "[500]\tvalid-logloss:0.52642\n",
      "[1000]\tvalid-logloss:0.50128\n",
      "[1500]\tvalid-logloss:0.49296\n",
      "[2000]\tvalid-logloss:0.48797\n",
      "[2500]\tvalid-logloss:0.48450\n",
      "[3000]\tvalid-logloss:0.48193\n",
      "[3500]\tvalid-logloss:0.47993\n",
      "[4000]\tvalid-logloss:0.47832\n",
      "[4500]\tvalid-logloss:0.47698\n",
      "[5000]\tvalid-logloss:0.47587\n",
      "[5500]\tvalid-logloss:0.47494\n",
      "[6000]\tvalid-logloss:0.47412\n",
      "[6500]\tvalid-logloss:0.47341\n",
      "[7000]\tvalid-logloss:0.47281\n",
      "[7500]\tvalid-logloss:0.47228\n",
      "[8000]\tvalid-logloss:0.47181\n",
      "[8500]\tvalid-logloss:0.47140\n",
      "[9000]\tvalid-logloss:0.47103\n",
      "[9500]\tvalid-logloss:0.47069\n",
      "[10000]\tvalid-logloss:0.47039\n",
      "[10500]\tvalid-logloss:0.47013\n",
      "[11000]\tvalid-logloss:0.46989\n",
      "[11500]\tvalid-logloss:0.46966\n",
      "[12000]\tvalid-logloss:0.46947\n",
      "[12500]\tvalid-logloss:0.46929\n",
      "[13000]\tvalid-logloss:0.46913\n",
      "[13500]\tvalid-logloss:0.46898\n",
      "[14000]\tvalid-logloss:0.46884\n",
      "[14500]\tvalid-logloss:0.46872\n",
      "[15000]\tvalid-logloss:0.46861\n",
      "[15500]\tvalid-logloss:0.46851\n",
      "[16000]\tvalid-logloss:0.46841\n",
      "[16500]\tvalid-logloss:0.46833\n",
      "[17000]\tvalid-logloss:0.46825\n",
      "[17500]\tvalid-logloss:0.46818\n",
      "[18000]\tvalid-logloss:0.46812\n",
      "[18500]\tvalid-logloss:0.46806\n",
      "[19000]\tvalid-logloss:0.46801\n",
      "[19500]\tvalid-logloss:0.46796\n",
      "[20000]\tvalid-logloss:0.46792\n",
      "[20500]\tvalid-logloss:0.46787\n",
      "[21000]\tvalid-logloss:0.46784\n",
      "[21500]\tvalid-logloss:0.46780\n",
      "[22000]\tvalid-logloss:0.46777\n",
      "[22500]\tvalid-logloss:0.46774\n",
      "[23000]\tvalid-logloss:0.46772\n",
      "[23500]\tvalid-logloss:0.46770\n",
      "[24000]\tvalid-logloss:0.46768\n",
      "[24500]\tvalid-logloss:0.46766\n",
      "[25000]\tvalid-logloss:0.46765\n",
      "[25500]\tvalid-logloss:0.46763\n",
      "[26000]\tvalid-logloss:0.46762\n",
      "[26500]\tvalid-logloss:0.46761\n",
      "[27000]\tvalid-logloss:0.46760\n",
      "[27500]\tvalid-logloss:0.46759\n",
      "[28000]\tvalid-logloss:0.46759\n",
      "[28500]\tvalid-logloss:0.46758\n",
      "[29000]\tvalid-logloss:0.46758\n",
      "[29500]\tvalid-logloss:0.46757\n",
      "[30000]\tvalid-logloss:0.46757\n",
      "[30500]\tvalid-logloss:0.46756\n",
      "[31000]\tvalid-logloss:0.46756\n",
      "[31500]\tvalid-logloss:0.46756\n",
      "[31869]\tvalid-logloss:0.46756\n",
      "\n",
      "Fold: 2; Cross Entropy: 0.46756\n",
      "\n",
      "--------------------------------------------------\n",
      "\n",
      "\n",
      "\n",
      "\n",
      "[0]\tvalid-logloss:0.69285\n",
      "[500]\tvalid-logloss:0.52645\n",
      "[1000]\tvalid-logloss:0.50133\n",
      "[1500]\tvalid-logloss:0.49309\n",
      "[2000]\tvalid-logloss:0.48818\n",
      "[2500]\tvalid-logloss:0.48477\n",
      "[3000]\tvalid-logloss:0.48220\n",
      "[3500]\tvalid-logloss:0.48022\n",
      "[4000]\tvalid-logloss:0.47862\n",
      "[4500]\tvalid-logloss:0.47729\n",
      "[5000]\tvalid-logloss:0.47617\n",
      "[5500]\tvalid-logloss:0.47521\n",
      "[6000]\tvalid-logloss:0.47439\n",
      "[6500]\tvalid-logloss:0.47368\n",
      "[7000]\tvalid-logloss:0.47306\n",
      "[7500]\tvalid-logloss:0.47252\n",
      "[8000]\tvalid-logloss:0.47204\n",
      "[8500]\tvalid-logloss:0.47162\n",
      "[9000]\tvalid-logloss:0.47124\n",
      "[9500]\tvalid-logloss:0.47090\n",
      "[10000]\tvalid-logloss:0.47060\n",
      "[10500]\tvalid-logloss:0.47032\n",
      "[11000]\tvalid-logloss:0.47007\n",
      "[11500]\tvalid-logloss:0.46985\n",
      "[12000]\tvalid-logloss:0.46965\n",
      "[12500]\tvalid-logloss:0.46947\n",
      "[13000]\tvalid-logloss:0.46931\n",
      "[13500]\tvalid-logloss:0.46915\n",
      "[14000]\tvalid-logloss:0.46902\n",
      "[14500]\tvalid-logloss:0.46890\n",
      "[15000]\tvalid-logloss:0.46878\n",
      "[15500]\tvalid-logloss:0.46868\n",
      "[16000]\tvalid-logloss:0.46858\n",
      "[16500]\tvalid-logloss:0.46850\n",
      "[17000]\tvalid-logloss:0.46842\n",
      "[17500]\tvalid-logloss:0.46835\n",
      "[18000]\tvalid-logloss:0.46828\n",
      "[18500]\tvalid-logloss:0.46822\n",
      "[19000]\tvalid-logloss:0.46817\n",
      "[19500]\tvalid-logloss:0.46812\n",
      "[20000]\tvalid-logloss:0.46808\n",
      "[20500]\tvalid-logloss:0.46804\n",
      "[21000]\tvalid-logloss:0.46800\n",
      "[21500]\tvalid-logloss:0.46797\n",
      "[22000]\tvalid-logloss:0.46794\n",
      "[22500]\tvalid-logloss:0.46791\n",
      "[23000]\tvalid-logloss:0.46789\n",
      "[23500]\tvalid-logloss:0.46786\n",
      "[24000]\tvalid-logloss:0.46784\n",
      "[24500]\tvalid-logloss:0.46782\n",
      "[25000]\tvalid-logloss:0.46781\n",
      "[25500]\tvalid-logloss:0.46779\n",
      "[26000]\tvalid-logloss:0.46778\n",
      "[26500]\tvalid-logloss:0.46777\n",
      "[27000]\tvalid-logloss:0.46776\n",
      "[27500]\tvalid-logloss:0.46776\n",
      "[28000]\tvalid-logloss:0.46775\n",
      "[28500]\tvalid-logloss:0.46775\n",
      "[29000]\tvalid-logloss:0.46774\n",
      "[29500]\tvalid-logloss:0.46773\n",
      "[30000]\tvalid-logloss:0.46773\n",
      "[30500]\tvalid-logloss:0.46773\n",
      "[30835]\tvalid-logloss:0.46773\n",
      "\n",
      "Fold: 3; Cross Entropy: 0.46773\n",
      "\n",
      "--------------------------------------------------\n",
      "\n",
      "\n",
      "\n",
      "\n",
      "[0]\tvalid-logloss:0.69285\n",
      "[500]\tvalid-logloss:0.52706\n",
      "[1000]\tvalid-logloss:0.50195\n",
      "[1500]\tvalid-logloss:0.49366\n",
      "[2000]\tvalid-logloss:0.48869\n",
      "[2500]\tvalid-logloss:0.48525\n",
      "[3000]\tvalid-logloss:0.48268\n",
      "[3500]\tvalid-logloss:0.48067\n",
      "[4000]\tvalid-logloss:0.47906\n",
      "[4500]\tvalid-logloss:0.47772\n",
      "[5000]\tvalid-logloss:0.47660\n",
      "[5500]\tvalid-logloss:0.47564\n",
      "[6000]\tvalid-logloss:0.47481\n",
      "[6500]\tvalid-logloss:0.47409\n",
      "[7000]\tvalid-logloss:0.47348\n",
      "[7500]\tvalid-logloss:0.47293\n",
      "[8000]\tvalid-logloss:0.47245\n",
      "[8500]\tvalid-logloss:0.47203\n",
      "[9000]\tvalid-logloss:0.47165\n",
      "[9500]\tvalid-logloss:0.47130\n",
      "[10000]\tvalid-logloss:0.47100\n",
      "[10500]\tvalid-logloss:0.47073\n",
      "[11000]\tvalid-logloss:0.47048\n",
      "[11500]\tvalid-logloss:0.47026\n",
      "[12000]\tvalid-logloss:0.47006\n",
      "[12500]\tvalid-logloss:0.46988\n",
      "[13000]\tvalid-logloss:0.46971\n",
      "[13500]\tvalid-logloss:0.46957\n",
      "[14000]\tvalid-logloss:0.46943\n",
      "[14500]\tvalid-logloss:0.46931\n",
      "[15000]\tvalid-logloss:0.46919\n",
      "[15500]\tvalid-logloss:0.46909\n",
      "[16000]\tvalid-logloss:0.46901\n",
      "[16500]\tvalid-logloss:0.46893\n",
      "[17000]\tvalid-logloss:0.46885\n",
      "[17500]\tvalid-logloss:0.46878\n",
      "[18000]\tvalid-logloss:0.46872\n",
      "[18500]\tvalid-logloss:0.46866\n",
      "[19000]\tvalid-logloss:0.46860\n",
      "[19500]\tvalid-logloss:0.46855\n",
      "[20000]\tvalid-logloss:0.46851\n",
      "[20500]\tvalid-logloss:0.46847\n",
      "[21000]\tvalid-logloss:0.46843\n",
      "[21500]\tvalid-logloss:0.46840\n",
      "[22000]\tvalid-logloss:0.46837\n",
      "[22500]\tvalid-logloss:0.46835\n",
      "[23000]\tvalid-logloss:0.46832\n",
      "[23500]\tvalid-logloss:0.46830\n",
      "[24000]\tvalid-logloss:0.46828\n",
      "[24500]\tvalid-logloss:0.46826\n",
      "[25000]\tvalid-logloss:0.46825\n",
      "[25500]\tvalid-logloss:0.46823\n",
      "[26000]\tvalid-logloss:0.46822\n",
      "[26500]\tvalid-logloss:0.46821\n",
      "[27000]\tvalid-logloss:0.46820\n",
      "[27500]\tvalid-logloss:0.46820\n",
      "[28000]\tvalid-logloss:0.46819\n",
      "[28500]\tvalid-logloss:0.46818\n",
      "[29000]\tvalid-logloss:0.46818\n",
      "[29500]\tvalid-logloss:0.46817\n",
      "[30000]\tvalid-logloss:0.46816\n",
      "[30500]\tvalid-logloss:0.46816\n",
      "[31000]\tvalid-logloss:0.46815\n",
      "[31500]\tvalid-logloss:0.46815\n",
      "[32000]\tvalid-logloss:0.46815\n",
      "[32500]\tvalid-logloss:0.46814\n",
      "[33000]\tvalid-logloss:0.46814\n",
      "[33108]\tvalid-logloss:0.46814\n",
      "\n",
      "Fold: 4; Cross Entropy: 0.46814\n",
      "\n",
      "--------------------------------------------------\n",
      "\n",
      "\n",
      "\n",
      "\n",
      "CV-Cross Entropy: 0.46771\n",
      "\n"
     ]
    }
   ],
   "source": [
    "score = 0\n",
    "model_list = []\n",
    "\n",
    "for i, fold_ in enumerate(FOLD_LIST):\n",
    "\n",
    "    mask_train = (pl_data[FOLD_STRAT_NAME] != fold_)\n",
    "    mask_test = (pl_data[FOLD_STRAT_NAME] == fold_)\n",
    "    \n",
    "    \n",
    "    train_x, train_y = pl_data.loc[mask_train, FEATURE], pl_data.loc[mask_train, TARGET_COL]\n",
    "    test_x, test_y = pl_data.loc[mask_test, FEATURE], pl_data.loc[mask_test, TARGET_COL]\n",
    "\n",
    "    model = xgb.train(params = params ,\n",
    "                      dtrain = xgb.DMatrix(train_x, train_y), num_boost_round = 100000,\n",
    "                      evals =[(xgb.DMatrix(test_x, test_y),'valid')],\n",
    "                      verbose_eval = 500, early_stopping_rounds = 500)\n",
    "    \n",
    "    #evaluate score and save model for importance/prediction\n",
    "    score_fold = model.best_score \n",
    "    score += score_fold/N_FOLD\n",
    "    \n",
    "    model_list.append(model)\n",
    "    \n",
    "    print('\\nFold: {}; Cross Entropy: {:.5f}\\n'.format(fold_, score_fold))\n",
    "    print('-'*50)\n",
    "    print('\\n\\n\\n')\n",
    "    gc.collect()\n",
    "    \n",
    "print('CV-Cross Entropy: {:.5f}\\n'.format(score))"
   ]
  },
  {
   "cell_type": "markdown",
   "id": "f7f8f9a8",
   "metadata": {
    "papermill": {
     "duration": 0.120945,
     "end_time": "2021-10-20T17:20:42.910064",
     "exception": false,
     "start_time": "2021-10-20T17:20:42.789119",
     "status": "completed"
    },
    "tags": []
   },
   "source": [
    "# Feature importance"
   ]
  },
  {
   "cell_type": "code",
   "execution_count": 12,
   "id": "e81e637d",
   "metadata": {
    "execution": {
     "iopub.execute_input": "2021-10-20T17:20:43.165847Z",
     "iopub.status.busy": "2021-10-20T17:20:43.164871Z",
     "iopub.status.idle": "2021-10-20T17:21:29.055268Z",
     "shell.execute_reply": "2021-10-20T17:21:29.055892Z",
     "shell.execute_reply.started": "2021-10-20T14:14:54.141308Z"
    },
    "papermill": {
     "duration": 46.024121,
     "end_time": "2021-10-20T17:21:29.056115",
     "exception": false,
     "start_time": "2021-10-20T17:20:43.031994",
     "status": "completed"
    },
    "tags": []
   },
   "outputs": [],
   "source": [
    "feature_importances = pd.DataFrame()\n",
    "feature_importances['feature'] = FEATURE\n",
    "\n",
    "\n",
    "for fold_, model in enumerate(model_list):\n",
    "    imp_dict = model.get_score(importance_type=\"total_gain\")\n",
    "    imp_temp = [imp_dict[x] if x in imp_dict.keys() else 0 for x in FEATURE]\n",
    "    \n",
    "    feature_importances['fold_{}'.format(fold_ + 1)] = imp_temp"
   ]
  },
  {
   "cell_type": "code",
   "execution_count": 13,
   "id": "395f1bd9",
   "metadata": {
    "execution": {
     "iopub.execute_input": "2021-10-20T17:21:29.322031Z",
     "iopub.status.busy": "2021-10-20T17:21:29.320879Z",
     "iopub.status.idle": "2021-10-20T17:21:30.237611Z",
     "shell.execute_reply": "2021-10-20T17:21:30.237084Z",
     "shell.execute_reply.started": "2021-10-20T14:14:54.167245Z"
    },
    "papermill": {
     "duration": 1.055586,
     "end_time": "2021-10-20T17:21:30.237813",
     "exception": false,
     "start_time": "2021-10-20T17:21:29.182227",
     "status": "completed"
    },
    "tags": []
   },
   "outputs": [
    {
     "data": {
      "text/plain": [
       "Text(0.5, 1.0, '50 TOP feature importance over 5 average')"
      ]
     },
     "execution_count": 13,
     "metadata": {},
     "output_type": "execute_result"
    },
    {
     "data": {
      "image/png": "[encoded data removed]",
      "text/plain": [
       "<Figure size 864x576 with 1 Axes>"
      ]
     },
     "metadata": {
      "needs_background": "light"
     },
     "output_type": "display_data"
    }
   ],
   "source": [
    "scaler = MinMaxScaler(feature_range=(0, 100))\n",
    "\n",
    "average_importance = feature_importances.drop('feature', axis = 1).mean(axis=1)\n",
    "\n",
    "feature_importances['average'] = scaler.fit_transform(X=pd.DataFrame(average_importance))\n",
    "feature_importances = feature_importances.sort_values(by='average', ascending=False)\n",
    "\n",
    "feature_importances[['feature', 'average']].to_csv('feature_importances.csv',index=False)\n",
    "\n",
    "fig = plt.figure(figsize=(12,8))\n",
    "sns.barplot(data=feature_importances.head(50), x='average', y='feature');\n",
    "plt.title(f'50 TOP feature importance over {N_FOLD} average')\n"
   ]
  },
  {
   "cell_type": "markdown",
   "id": "e2ef8bac",
   "metadata": {
    "papermill": {
     "duration": 0.12866,
     "end_time": "2021-10-20T17:21:30.539310",
     "exception": false,
     "start_time": "2021-10-20T17:21:30.410650",
     "status": "completed"
    },
    "tags": []
   },
   "source": [
    "# TEST Blending"
   ]
  },
  {
   "cell_type": "code",
   "execution_count": 14,
   "id": "1b28a552",
   "metadata": {
    "execution": {
     "iopub.execute_input": "2021-10-20T17:21:30.938260Z",
     "iopub.status.busy": "2021-10-20T17:21:30.937290Z",
     "iopub.status.idle": "2021-10-20T17:21:30.941094Z",
     "shell.execute_reply": "2021-10-20T17:21:30.941647Z",
     "shell.execute_reply.started": "2021-10-20T14:14:55.219027Z"
    },
    "papermill": {
     "duration": 0.27352,
     "end_time": "2021-10-20T17:21:30.941875",
     "exception": false,
     "start_time": "2021-10-20T17:21:30.668355",
     "status": "completed"
    },
    "tags": []
   },
   "outputs": [
    {
     "data": {
      "text/plain": [
       "36"
      ]
     },
     "execution_count": 14,
     "metadata": {},
     "output_type": "execute_result"
    }
   ],
   "source": [
    "del train\n",
    "gc.collect()"
   ]
  },
  {
   "cell_type": "code",
   "execution_count": 15,
   "id": "f338e650",
   "metadata": {
    "execution": {
     "iopub.execute_input": "2021-10-20T17:21:31.196225Z",
     "iopub.status.busy": "2021-10-20T17:21:31.195495Z",
     "iopub.status.idle": "2021-10-20T17:21:31.921002Z",
     "shell.execute_reply": "2021-10-20T17:21:31.920104Z",
     "shell.execute_reply.started": "2021-10-20T14:14:55.365416Z"
    },
    "papermill": {
     "duration": 0.853014,
     "end_time": "2021-10-20T17:21:31.921145",
     "exception": false,
     "start_time": "2021-10-20T17:21:31.068131",
     "status": "completed"
    },
    "tags": []
   },
   "outputs": [],
   "source": [
    "test = pd.read_pickle(\n",
    "    os.path.join(PATH_NOTEBOOK, 'test_unscaled.pkl')\n",
    ")"
   ]
  },
  {
   "cell_type": "code",
   "execution_count": 16,
   "id": "2866a4ac",
   "metadata": {
    "execution": {
     "iopub.execute_input": "2021-10-20T17:21:32.186249Z",
     "iopub.status.busy": "2021-10-20T17:21:32.185097Z",
     "iopub.status.idle": "2021-10-20T17:23:08.757916Z",
     "shell.execute_reply": "2021-10-20T17:23:08.757349Z",
     "shell.execute_reply.started": "2021-10-20T14:14:59.570028Z"
    },
    "papermill": {
     "duration": 96.70871,
     "end_time": "2021-10-20T17:23:08.758102",
     "exception": false,
     "start_time": "2021-10-20T17:21:32.049392",
     "status": "completed"
    },
    "tags": []
   },
   "outputs": [],
   "source": [
    "pred_test = np.zeros(test.shape[0])\n",
    "\n",
    "for fold_, model in enumerate(model_list):\n",
    "    pred_test += model.predict(xgb.DMatrix(test))/N_FOLD"
   ]
  },
  {
   "cell_type": "markdown",
   "id": "18e0bfc0",
   "metadata": {
    "papermill": {
     "duration": 0.124041,
     "end_time": "2021-10-20T17:23:09.006645",
     "exception": false,
     "start_time": "2021-10-20T17:23:08.882604",
     "status": "completed"
    },
    "tags": []
   },
   "source": [
    "# SAVE RESULT"
   ]
  },
  {
   "cell_type": "code",
   "execution_count": 17,
   "id": "5d7e072a",
   "metadata": {
    "execution": {
     "iopub.execute_input": "2021-10-20T17:23:09.255019Z",
     "iopub.status.busy": "2021-10-20T17:23:09.254361Z",
     "iopub.status.idle": "2021-10-20T17:23:11.084319Z",
     "shell.execute_reply": "2021-10-20T17:23:11.083194Z",
     "shell.execute_reply.started": "2021-10-20T14:15:12.818415Z"
    },
    "papermill": {
     "duration": 1.956433,
     "end_time": "2021-10-20T17:23:11.084478",
     "exception": false,
     "start_time": "2021-10-20T17:23:09.128045",
     "status": "completed"
    },
    "tags": []
   },
   "outputs": [],
   "source": [
    "submission = pd.read_csv(os.path.join(INPUT_PATH, 'sample_submission.csv'))\n",
    "submission['target'] = pred_test\n",
    "\n",
    "submission.to_csv('submission.csv', index = False)"
   ]
  }
 ],
 "metadata": {
  "kernelspec": {
   "display_name": "Python 3",
   "language": "python",
   "name": "python3"
  },
  "language_info": {
   "codemirror_mode": {
    "name": "ipython",
    "version": 3
   },
   "file_extension": ".py",
   "mimetype": "text/x-python",
   "name": "python",
   "nbconvert_exporter": "python",
   "pygments_lexer": "ipython3",
   "version": "3.7.10"
  },
  "papermill": {
   "default_parameters": {},
   "duration": 11246.916324,
   "end_time": "2021-10-20T17:23:12.046145",
   "environment_variables": {},
   "exception": null,
   "input_path": "__notebook__.ipynb",
   "output_path": "__notebook__.ipynb",
   "parameters": {},
   "start_time": "2021-10-20T14:15:45.129821",
   "version": "2.3.3"
  }
 },
 "nbformat": 4,
 "nbformat_minor": 5
}
