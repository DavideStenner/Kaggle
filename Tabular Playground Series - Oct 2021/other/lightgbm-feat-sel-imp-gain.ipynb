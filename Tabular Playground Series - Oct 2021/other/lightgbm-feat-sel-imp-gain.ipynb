{
 "cells": [
  {
   "cell_type": "code",
   "execution_count": 1,
   "id": "fa131967",
   "metadata": {
    "_cell_guid": "b1076dfc-b9ad-4769-8c92-a6c4dae69d19",
    "_uuid": "8f2839f25d086af736a60e9eeb907d3b93b6e0e5",
    "execution": {
     "iopub.execute_input": "2021-10-11T16:52:02.989413Z",
     "iopub.status.busy": "2021-10-11T16:52:02.988342Z",
     "iopub.status.idle": "2021-10-11T16:52:05.356346Z",
     "shell.execute_reply": "2021-10-11T16:52:05.355223Z",
     "shell.execute_reply.started": "2021-10-08T10:41:35.169733Z"
    },
    "papermill": {
     "duration": 2.408638,
     "end_time": "2021-10-11T16:52:05.356541",
     "exception": false,
     "start_time": "2021-10-11T16:52:02.947903",
     "status": "completed"
    },
    "tags": []
   },
   "outputs": [
    {
     "data": {
      "text/html": [
       "<style type='text/css'>\n",
       ".datatable table.frame { margin-bottom: 0; }\n",
       ".datatable table.frame thead { border-bottom: none; }\n",
       ".datatable table.frame tr.coltypes td {  color: #FFFFFF;  line-height: 6px;  padding: 0 0.5em;}\n",
       ".datatable .bool    { background: #DDDD99; }\n",
       ".datatable .object  { background: #565656; }\n",
       ".datatable .int     { background: #5D9E5D; }\n",
       ".datatable .float   { background: #4040CC; }\n",
       ".datatable .str     { background: #CC4040; }\n",
       ".datatable .time    { background: #40CC40; }\n",
       ".datatable .row_index {  background: var(--jp-border-color3);  border-right: 1px solid var(--jp-border-color0);  color: var(--jp-ui-font-color3);  font-size: 9px;}\n",
       ".datatable .frame tbody td { text-align: left; }\n",
       ".datatable .frame tr.coltypes .row_index {  background: var(--jp-border-color0);}\n",
       ".datatable th:nth-child(2) { padding-left: 12px; }\n",
       ".datatable .hellipsis {  color: var(--jp-cell-editor-border-color);}\n",
       ".datatable .vellipsis {  background: var(--jp-layout-color0);  color: var(--jp-cell-editor-border-color);}\n",
       ".datatable .na {  color: var(--jp-cell-editor-border-color);  font-size: 80%;}\n",
       ".datatable .sp {  opacity: 0.25;}\n",
       ".datatable .footer { font-size: 9px; }\n",
       ".datatable .frame_dimensions {  background: var(--jp-border-color3);  border-top: 1px solid var(--jp-border-color0);  color: var(--jp-ui-font-color3);  display: inline-block;  opacity: 0.6;  padding: 1px 10px 1px 5px;}\n",
       "</style>\n"
      ],
      "text/plain": [
       "<IPython.core.display.HTML object>"
      ]
     },
     "metadata": {},
     "output_type": "display_data"
    }
   ],
   "source": [
    "import pandas as pd\n",
    "import numpy as np\n",
    "import lightgbm as lgb\n",
    "import pickle\n",
    "import os\n",
    "import gc\n",
    "from sklearn.preprocessing import MinMaxScaler\n",
    "from matplotlib import pyplot as plt\n",
    "import seaborn as sns\n",
    "import time\n",
    "\n",
    "from utilities import (\n",
    "    RANDOM_STATE, TARGET_COL, N_FOLD, FOLD_STRAT_NAME, REDUCED_FOLD_NAME,\n",
    "    PARAMS_LGB_BASE\n",
    ")\n",
    "\n",
    "from train import (\n",
    "    train_feat_sel, feat_selection_pipeline\n",
    ")\n",
    "\n",
    "INPUT_PATH = '../input/tabular-playground-series-oct-2021'\n",
    "PATH_NOTEBOOK = '../input/preprocess'"
   ]
  },
  {
   "cell_type": "code",
   "execution_count": 2,
   "id": "60b2fa14",
   "metadata": {
    "execution": {
     "iopub.execute_input": "2021-10-11T16:52:05.398031Z",
     "iopub.status.busy": "2021-10-11T16:52:05.397263Z",
     "iopub.status.idle": "2021-10-11T16:52:17.144834Z",
     "shell.execute_reply": "2021-10-11T16:52:17.144047Z",
     "shell.execute_reply.started": "2021-10-08T10:41:36.429816Z"
    },
    "papermill": {
     "duration": 11.769439,
     "end_time": "2021-10-11T16:52:17.144995",
     "exception": false,
     "start_time": "2021-10-11T16:52:05.375556",
     "status": "completed"
    },
    "tags": []
   },
   "outputs": [],
   "source": [
    "train = pd.read_pickle(\n",
    "    os.path.join(PATH_NOTEBOOK, 'train_unscaled.pkl')\n",
    ")"
   ]
  },
  {
   "cell_type": "code",
   "execution_count": 3,
   "id": "018bfeae",
   "metadata": {
    "execution": {
     "iopub.execute_input": "2021-10-11T16:52:17.186560Z",
     "iopub.status.busy": "2021-10-11T16:52:17.185929Z",
     "iopub.status.idle": "2021-10-11T16:52:17.195061Z",
     "shell.execute_reply": "2021-10-11T16:52:17.194471Z",
     "shell.execute_reply.started": "2021-10-08T10:41:38.158243Z"
    },
    "papermill": {
     "duration": 0.032162,
     "end_time": "2021-10-11T16:52:17.195250",
     "exception": false,
     "start_time": "2021-10-11T16:52:17.163088",
     "status": "completed"
    },
    "tags": []
   },
   "outputs": [],
   "source": [
    "with open(os.path.join(PATH_NOTEBOOK, 'feature_dic.pkl'), 'rb') as file:\n",
    "    feature_dic = pickle.load(file)"
   ]
  },
  {
   "cell_type": "markdown",
   "id": "11723c05",
   "metadata": {
    "papermill": {
     "duration": 0.017601,
     "end_time": "2021-10-11T16:52:17.230799",
     "exception": false,
     "start_time": "2021-10-11T16:52:17.213198",
     "status": "completed"
    },
    "tags": []
   },
   "source": [
    "# IMPORT DEL CLASS LIST"
   ]
  },
  {
   "cell_type": "code",
   "execution_count": 4,
   "id": "09841bde",
   "metadata": {
    "execution": {
     "iopub.execute_input": "2021-10-11T16:52:17.272439Z",
     "iopub.status.busy": "2021-10-11T16:52:17.271602Z",
     "iopub.status.idle": "2021-10-11T16:52:17.299879Z",
     "shell.execute_reply": "2021-10-11T16:52:17.299285Z",
     "shell.execute_reply.started": "2021-10-08T10:41:39.360195Z"
    },
    "papermill": {
     "duration": 0.051522,
     "end_time": "2021-10-11T16:52:17.300055",
     "exception": false,
     "start_time": "2021-10-11T16:52:17.248533",
     "status": "completed"
    },
    "tags": []
   },
   "outputs": [],
   "source": [
    "feat_importance = pd.read_csv('../input/lightgbm-benchmark/feature_importances.csv')\n",
    "\n",
    "#bottom 50 feature\n",
    "possible_del_class = feat_importance.sort_values('average')['feature'].tolist()[:50]"
   ]
  },
  {
   "cell_type": "code",
   "execution_count": 5,
   "id": "63a54261",
   "metadata": {
    "execution": {
     "iopub.execute_input": "2021-10-11T16:52:17.457741Z",
     "iopub.status.busy": "2021-10-11T16:52:17.456866Z",
     "iopub.status.idle": "2021-10-11T16:52:17.461556Z",
     "shell.execute_reply": "2021-10-11T16:52:17.461002Z",
     "shell.execute_reply.started": "2021-10-08T10:41:50.686129Z"
    },
    "papermill": {
     "duration": 0.143403,
     "end_time": "2021-10-11T16:52:17.461743",
     "exception": false,
     "start_time": "2021-10-11T16:52:17.318340",
     "status": "completed"
    },
    "tags": []
   },
   "outputs": [
    {
     "data": {
      "text/plain": [
       "21"
      ]
     },
     "execution_count": 5,
     "metadata": {},
     "output_type": "execute_result"
    }
   ],
   "source": [
    "#CONSTANT\n",
    "FEATURE = feature_dic['feature']\n",
    "CAT_COL = feature_dic['categorical']\n",
    "NUMERIC_COL = feature_dic['numerical']\n",
    "\n",
    "FOLD_LIST = list(range(N_FOLD))\n",
    "\n",
    "gc.collect()"
   ]
  },
  {
   "cell_type": "markdown",
   "id": "be675048",
   "metadata": {
    "papermill": {
     "duration": 0.018459,
     "end_time": "2021-10-11T16:52:17.498720",
     "exception": false,
     "start_time": "2021-10-11T16:52:17.480261",
     "status": "completed"
    },
    "tags": []
   },
   "source": [
    "# FEATURE SELECTION PHASE\n",
    "Iterate over POSSIBLE_DEL_* list and take out 1 feature at time"
   ]
  },
  {
   "cell_type": "code",
   "execution_count": 6,
   "id": "ac04c466",
   "metadata": {
    "execution": {
     "iopub.execute_input": "2021-10-11T16:52:17.542242Z",
     "iopub.status.busy": "2021-10-11T16:52:17.541392Z",
     "iopub.status.idle": "2021-10-11T16:52:17.545364Z",
     "shell.execute_reply": "2021-10-11T16:52:17.545881Z",
     "shell.execute_reply.started": "2021-10-08T10:41:51.129457Z"
    },
    "papermill": {
     "duration": 0.027033,
     "end_time": "2021-10-11T16:52:17.546087",
     "exception": false,
     "start_time": "2021-10-11T16:52:17.519054",
     "status": "completed"
    },
    "tags": []
   },
   "outputs": [
    {
     "data": {
      "text/plain": [
       "50"
      ]
     },
     "execution_count": 6,
     "metadata": {},
     "output_type": "execute_result"
    }
   ],
   "source": [
    "len(possible_del_class)"
   ]
  },
  {
   "cell_type": "code",
   "execution_count": 7,
   "id": "8870befc",
   "metadata": {
    "execution": {
     "iopub.execute_input": "2021-10-11T16:52:17.589038Z",
     "iopub.status.busy": "2021-10-11T16:52:17.588277Z",
     "iopub.status.idle": "2021-10-11T19:13:10.112091Z",
     "shell.execute_reply": "2021-10-11T19:13:10.112835Z",
     "shell.execute_reply.started": "2021-10-08T10:41:52.636895Z"
    },
    "papermill": {
     "duration": 8452.547451,
     "end_time": "2021-10-11T19:13:10.113222",
     "exception": false,
     "start_time": "2021-10-11T16:52:17.565771",
     "status": "completed"
    },
    "tags": []
   },
   "outputs": [
    {
     "name": "stdout",
     "output_type": "stream",
     "text": [
      "\n",
      "\n",
      "\n"
     ]
    },
    {
     "name": "stderr",
     "output_type": "stream",
     "text": [
      "/opt/conda/lib/python3.7/site-packages/lightgbm/basic.py:1702: UserWarning: Using categorical_feature in Dataset.\n",
      "  _log_warning('Using categorical_feature in Dataset.')\n",
      "/opt/conda/lib/python3.7/site-packages/lightgbm/basic.py:1433: UserWarning: Overriding the parameters from Reference Dataset.\n",
      "  _log_warning('Overriding the parameters from Reference Dataset.')\n",
      "/opt/conda/lib/python3.7/site-packages/lightgbm/basic.py:1245: UserWarning: categorical_column in param dict is overridden.\n",
      "  _log_warning('{} in param dict is overridden.'.format(cat_alias))\n"
     ]
    },
    {
     "name": "stdout",
     "output_type": "stream",
     "text": [
      "Training until validation scores don't improve for 30 rounds\n",
      "Early stopping, best iteration is:\n",
      "[177]\tvalidation's auc: 0.845205\n",
      "Base score: 0.845205\n",
      "\n",
      "\n",
      "\n",
      "Minute one iteration: 2.2; All iteration: 107.6\n",
      "\n",
      "\n",
      "\n",
      "Training until validation scores don't improve for 30 rounds\n",
      "Early stopping, best iteration is:\n",
      "[334]\tvalidation's auc: 0.846395\n",
      "\n",
      "\n",
      "Feature f282 dropped. Delta AUC: 0.001191\n",
      "\n",
      "\n",
      "Training until validation scores don't improve for 30 rounds\n",
      "Early stopping, best iteration is:\n",
      "[204]\tvalidation's auc: 0.845927\n",
      "Training until validation scores don't improve for 30 rounds\n",
      "Early stopping, best iteration is:\n",
      "[226]\tvalidation's auc: 0.845688\n",
      "Training until validation scores don't improve for 30 rounds\n",
      "Early stopping, best iteration is:\n",
      "[241]\tvalidation's auc: 0.845939\n",
      "Training until validation scores don't improve for 30 rounds\n",
      "Early stopping, best iteration is:\n",
      "[285]\tvalidation's auc: 0.845193\n",
      "Training until validation scores don't improve for 30 rounds\n",
      "Early stopping, best iteration is:\n",
      "[244]\tvalidation's auc: 0.845949\n",
      "Training until validation scores don't improve for 30 rounds\n",
      "Early stopping, best iteration is:\n",
      "[201]\tvalidation's auc: 0.845763\n",
      "Training until validation scores don't improve for 30 rounds\n",
      "Early stopping, best iteration is:\n",
      "[198]\tvalidation's auc: 0.845819\n",
      "Training until validation scores don't improve for 30 rounds\n",
      "Early stopping, best iteration is:\n",
      "[250]\tvalidation's auc: 0.845527\n",
      "Training until validation scores don't improve for 30 rounds\n",
      "Early stopping, best iteration is:\n",
      "[206]\tvalidation's auc: 0.845815\n",
      "Training until validation scores don't improve for 30 rounds\n",
      "Early stopping, best iteration is:\n",
      "[225]\tvalidation's auc: 0.846181\n",
      "Training until validation scores don't improve for 30 rounds\n",
      "Early stopping, best iteration is:\n",
      "[243]\tvalidation's auc: 0.845785\n",
      "Training until validation scores don't improve for 30 rounds\n",
      "Early stopping, best iteration is:\n",
      "[205]\tvalidation's auc: 0.845885\n",
      "Training until validation scores don't improve for 30 rounds\n",
      "Early stopping, best iteration is:\n",
      "[235]\tvalidation's auc: 0.845609\n",
      "Training until validation scores don't improve for 30 rounds\n",
      "Early stopping, best iteration is:\n",
      "[210]\tvalidation's auc: 0.845177\n",
      "Training until validation scores don't improve for 30 rounds\n",
      "Early stopping, best iteration is:\n",
      "[270]\tvalidation's auc: 0.845583\n",
      "Training until validation scores don't improve for 30 rounds\n",
      "Early stopping, best iteration is:\n",
      "[167]\tvalidation's auc: 0.845678\n",
      "Training until validation scores don't improve for 30 rounds\n",
      "Early stopping, best iteration is:\n",
      "[210]\tvalidation's auc: 0.846295\n",
      "Training until validation scores don't improve for 30 rounds\n",
      "Early stopping, best iteration is:\n",
      "[231]\tvalidation's auc: 0.846543\n",
      "\n",
      "\n",
      "Feature f254 dropped. Delta AUC: 0.000147\n",
      "\n",
      "\n",
      "Training until validation scores don't improve for 30 rounds\n",
      "Early stopping, best iteration is:\n",
      "[319]\tvalidation's auc: 0.846174\n",
      "Training until validation scores don't improve for 30 rounds\n",
      "Early stopping, best iteration is:\n",
      "[224]\tvalidation's auc: 0.845393\n",
      "Training until validation scores don't improve for 30 rounds\n",
      "Early stopping, best iteration is:\n",
      "[240]\tvalidation's auc: 0.845885\n",
      "Training until validation scores don't improve for 30 rounds\n",
      "Early stopping, best iteration is:\n",
      "[192]\tvalidation's auc: 0.844961\n",
      "Training until validation scores don't improve for 30 rounds\n",
      "Early stopping, best iteration is:\n",
      "[296]\tvalidation's auc: 0.845697\n",
      "Training until validation scores don't improve for 30 rounds\n",
      "Early stopping, best iteration is:\n",
      "[224]\tvalidation's auc: 0.845614\n",
      "Training until validation scores don't improve for 30 rounds\n",
      "Early stopping, best iteration is:\n",
      "[203]\tvalidation's auc: 0.845352\n",
      "Training until validation scores don't improve for 30 rounds\n",
      "Early stopping, best iteration is:\n",
      "[207]\tvalidation's auc: 0.8454\n",
      "Training until validation scores don't improve for 30 rounds\n",
      "Early stopping, best iteration is:\n",
      "[272]\tvalidation's auc: 0.845422\n",
      "Training until validation scores don't improve for 30 rounds\n",
      "Early stopping, best iteration is:\n",
      "[221]\tvalidation's auc: 0.845944\n",
      "Training until validation scores don't improve for 30 rounds\n",
      "Early stopping, best iteration is:\n",
      "[267]\tvalidation's auc: 0.845677\n",
      "Training until validation scores don't improve for 30 rounds\n",
      "Early stopping, best iteration is:\n",
      "[250]\tvalidation's auc: 0.845596\n",
      "Training until validation scores don't improve for 30 rounds\n",
      "Early stopping, best iteration is:\n",
      "[258]\tvalidation's auc: 0.845235\n",
      "Training until validation scores don't improve for 30 rounds\n",
      "Early stopping, best iteration is:\n",
      "[293]\tvalidation's auc: 0.845632\n",
      "Training until validation scores don't improve for 30 rounds\n",
      "Early stopping, best iteration is:\n",
      "[231]\tvalidation's auc: 0.845337\n",
      "Training until validation scores don't improve for 30 rounds\n",
      "Early stopping, best iteration is:\n",
      "[228]\tvalidation's auc: 0.845635\n",
      "Training until validation scores don't improve for 30 rounds\n",
      "Early stopping, best iteration is:\n",
      "[270]\tvalidation's auc: 0.845567\n",
      "Training until validation scores don't improve for 30 rounds\n",
      "Early stopping, best iteration is:\n",
      "[186]\tvalidation's auc: 0.845157\n",
      "Training until validation scores don't improve for 30 rounds\n",
      "Early stopping, best iteration is:\n",
      "[343]\tvalidation's auc: 0.845725\n",
      "Training until validation scores don't improve for 30 rounds\n",
      "Early stopping, best iteration is:\n",
      "[270]\tvalidation's auc: 0.846161\n",
      "Training until validation scores don't improve for 30 rounds\n",
      "Early stopping, best iteration is:\n",
      "[215]\tvalidation's auc: 0.845385\n",
      "Training until validation scores don't improve for 30 rounds\n",
      "Early stopping, best iteration is:\n",
      "[251]\tvalidation's auc: 0.845706\n",
      "Training until validation scores don't improve for 30 rounds\n",
      "Early stopping, best iteration is:\n",
      "[232]\tvalidation's auc: 0.845742\n",
      "Training until validation scores don't improve for 30 rounds\n",
      "Early stopping, best iteration is:\n",
      "[250]\tvalidation's auc: 0.845434\n",
      "Training until validation scores don't improve for 30 rounds\n",
      "Early stopping, best iteration is:\n",
      "[249]\tvalidation's auc: 0.845805\n",
      "Training until validation scores don't improve for 30 rounds\n",
      "Early stopping, best iteration is:\n",
      "[234]\tvalidation's auc: 0.845772\n",
      "Training until validation scores don't improve for 30 rounds\n",
      "Early stopping, best iteration is:\n",
      "[225]\tvalidation's auc: 0.845668\n",
      "Training until validation scores don't improve for 30 rounds\n",
      "Early stopping, best iteration is:\n",
      "[262]\tvalidation's auc: 0.845635\n",
      "Training until validation scores don't improve for 30 rounds\n",
      "Early stopping, best iteration is:\n",
      "[350]\tvalidation's auc: 0.846114\n",
      "Training until validation scores don't improve for 30 rounds\n",
      "Early stopping, best iteration is:\n",
      "[246]\tvalidation's auc: 0.845666\n",
      "Training until validation scores don't improve for 30 rounds\n",
      "Early stopping, best iteration is:\n",
      "[210]\tvalidation's auc: 0.845553\n",
      "Delta AUC: 0.0013383565383564555; Number of feature dropped: 2\n",
      "\n",
      "\n",
      "CPU times: user 2h 20min 25s, sys: 26.8 s, total: 2h 20min 51s\n",
      "Wall time: 2h 20min 52s\n"
     ]
    }
   ],
   "source": [
    "%%time\n",
    "del_list = feat_selection_pipeline(data = train, feature_list = FEATURE, possible_del_list = possible_del_class,  \n",
    "                            params = PARAMS_LGB_BASE, cat_col = CAT_COL, target_name = TARGET_COL, \n",
    "                            fold_strat_name = REDUCED_FOLD_NAME, new_learning_rate = .05, \n",
    "                            verbose_eval = -1, early_stopping_rounds = 30)"
   ]
  },
  {
   "cell_type": "markdown",
   "id": "ecf8fe79",
   "metadata": {
    "papermill": {
     "duration": 0.050678,
     "end_time": "2021-10-11T19:13:10.217041",
     "exception": false,
     "start_time": "2021-10-11T19:13:10.166363",
     "status": "completed"
    },
    "tags": []
   },
   "source": [
    "# TRAIN"
   ]
  },
  {
   "cell_type": "code",
   "execution_count": 8,
   "id": "4ef9f306",
   "metadata": {
    "execution": {
     "iopub.execute_input": "2021-10-11T19:13:10.331309Z",
     "iopub.status.busy": "2021-10-11T19:13:10.324748Z",
     "iopub.status.idle": "2021-10-11T19:13:10.334111Z",
     "shell.execute_reply": "2021-10-11T19:13:10.334621Z",
     "shell.execute_reply.started": "2021-10-06T13:13:36.731091Z"
    },
    "papermill": {
     "duration": 0.066827,
     "end_time": "2021-10-11T19:13:10.334808",
     "exception": false,
     "start_time": "2021-10-11T19:13:10.267981",
     "status": "completed"
    },
    "tags": []
   },
   "outputs": [
    {
     "data": {
      "text/plain": [
       "['f282', 'f254']"
      ]
     },
     "execution_count": 8,
     "metadata": {},
     "output_type": "execute_result"
    }
   ],
   "source": [
    "del_list"
   ]
  },
  {
   "cell_type": "code",
   "execution_count": 9,
   "id": "d69f7804",
   "metadata": {
    "execution": {
     "iopub.execute_input": "2021-10-11T19:13:10.447143Z",
     "iopub.status.busy": "2021-10-11T19:13:10.442230Z",
     "iopub.status.idle": "2021-10-11T19:13:10.449959Z",
     "shell.execute_reply": "2021-10-11T19:13:10.449156Z",
     "shell.execute_reply.started": "2021-10-06T13:13:36.738151Z"
    },
    "papermill": {
     "duration": 0.062644,
     "end_time": "2021-10-11T19:13:10.450115",
     "exception": false,
     "start_time": "2021-10-11T19:13:10.387471",
     "status": "completed"
    },
    "tags": []
   },
   "outputs": [],
   "source": [
    "FEATURE = [x for x in FEATURE if x not in del_list]\n",
    "CAT_COL = [x for x in CAT_COL if x not in del_list]\n",
    "NUMERIC_COL = [x for x in NUMERIC_COL if x not in del_list]\n",
    "\n",
    "feature_dic = {\n",
    "    'feature': FEATURE,\n",
    "    'categorical': CAT_COL,\n",
    "    'numerical': NUMERIC_COL,\n",
    "}"
   ]
  },
  {
   "cell_type": "code",
   "execution_count": 10,
   "id": "23ad5427",
   "metadata": {
    "execution": {
     "iopub.execute_input": "2021-10-11T19:13:10.562271Z",
     "iopub.status.busy": "2021-10-11T19:13:10.558893Z",
     "iopub.status.idle": "2021-10-11T20:34:06.240721Z",
     "shell.execute_reply": "2021-10-11T20:34:06.242121Z"
    },
    "papermill": {
     "duration": 4855.741718,
     "end_time": "2021-10-11T20:34:06.243503",
     "exception": false,
     "start_time": "2021-10-11T19:13:10.501785",
     "status": "completed"
    },
    "tags": []
   },
   "outputs": [
    {
     "name": "stdout",
     "output_type": "stream",
     "text": [
      "Training until validation scores don't improve for 30 rounds\n",
      "[20]\tvalidation's auc: 0.839264\n",
      "[40]\tvalidation's auc: 0.841779\n",
      "[60]\tvalidation's auc: 0.844309\n",
      "[80]\tvalidation's auc: 0.846299\n",
      "[100]\tvalidation's auc: 0.847938\n",
      "[120]\tvalidation's auc: 0.849483\n",
      "[140]\tvalidation's auc: 0.850702\n",
      "[160]\tvalidation's auc: 0.851583\n",
      "[180]\tvalidation's auc: 0.852275\n",
      "[200]\tvalidation's auc: 0.852835\n",
      "[220]\tvalidation's auc: 0.853223\n",
      "[240]\tvalidation's auc: 0.853532\n",
      "[260]\tvalidation's auc: 0.853764\n",
      "[280]\tvalidation's auc: 0.85396\n",
      "[300]\tvalidation's auc: 0.854087\n",
      "[320]\tvalidation's auc: 0.854232\n",
      "[340]\tvalidation's auc: 0.854335\n",
      "[360]\tvalidation's auc: 0.854453\n",
      "[380]\tvalidation's auc: 0.854489\n",
      "[400]\tvalidation's auc: 0.854536\n",
      "[420]\tvalidation's auc: 0.854583\n",
      "[440]\tvalidation's auc: 0.854594\n",
      "[460]\tvalidation's auc: 0.854576\n",
      "Early stopping, best iteration is:\n",
      "[438]\tvalidation's auc: 0.854604\n",
      "\n",
      "Fold: 0; Auc: 0.85460\n",
      "\n",
      "--------------------------------------------------\n",
      "\n",
      "\n",
      "\n",
      "\n",
      "Training until validation scores don't improve for 30 rounds\n",
      "[20]\tvalidation's auc: 0.838365\n",
      "[40]\tvalidation's auc: 0.841075\n",
      "[60]\tvalidation's auc: 0.843693\n",
      "[80]\tvalidation's auc: 0.845749\n",
      "[100]\tvalidation's auc: 0.847428\n",
      "[120]\tvalidation's auc: 0.849004\n",
      "[140]\tvalidation's auc: 0.85018\n",
      "[160]\tvalidation's auc: 0.851027\n",
      "[180]\tvalidation's auc: 0.85173\n",
      "[200]\tvalidation's auc: 0.85228\n",
      "[220]\tvalidation's auc: 0.852664\n",
      "[240]\tvalidation's auc: 0.853\n",
      "[260]\tvalidation's auc: 0.853265\n",
      "[280]\tvalidation's auc: 0.853485\n",
      "[300]\tvalidation's auc: 0.853631\n",
      "[320]\tvalidation's auc: 0.853732\n",
      "[340]\tvalidation's auc: 0.853845\n",
      "[360]\tvalidation's auc: 0.853907\n",
      "[380]\tvalidation's auc: 0.853935\n",
      "[400]\tvalidation's auc: 0.853939\n",
      "[420]\tvalidation's auc: 0.853917\n",
      "[440]\tvalidation's auc: 0.853907\n",
      "Early stopping, best iteration is:\n",
      "[410]\tvalidation's auc: 0.853953\n",
      "\n",
      "Fold: 1; Auc: 0.85395\n",
      "\n",
      "--------------------------------------------------\n",
      "\n",
      "\n",
      "\n",
      "\n",
      "Training until validation scores don't improve for 30 rounds\n",
      "[20]\tvalidation's auc: 0.839513\n",
      "[40]\tvalidation's auc: 0.841938\n",
      "[60]\tvalidation's auc: 0.844418\n",
      "[80]\tvalidation's auc: 0.846464\n",
      "[100]\tvalidation's auc: 0.848003\n",
      "[120]\tvalidation's auc: 0.849598\n",
      "[140]\tvalidation's auc: 0.850794\n",
      "[160]\tvalidation's auc: 0.851642\n",
      "[180]\tvalidation's auc: 0.852301\n",
      "[200]\tvalidation's auc: 0.852839\n",
      "[220]\tvalidation's auc: 0.85327\n",
      "[240]\tvalidation's auc: 0.85359\n",
      "[260]\tvalidation's auc: 0.853804\n",
      "[280]\tvalidation's auc: 0.854021\n",
      "[300]\tvalidation's auc: 0.854141\n",
      "[320]\tvalidation's auc: 0.854235\n",
      "[340]\tvalidation's auc: 0.854269\n",
      "Early stopping, best iteration is:\n",
      "[325]\tvalidation's auc: 0.85428\n",
      "\n",
      "Fold: 2; Auc: 0.85428\n",
      "\n",
      "--------------------------------------------------\n",
      "\n",
      "\n",
      "\n",
      "\n",
      "Training until validation scores don't improve for 30 rounds\n",
      "[20]\tvalidation's auc: 0.839751\n",
      "[40]\tvalidation's auc: 0.842332\n",
      "[60]\tvalidation's auc: 0.844896\n",
      "[80]\tvalidation's auc: 0.84683\n",
      "[100]\tvalidation's auc: 0.84845\n",
      "[120]\tvalidation's auc: 0.849936\n",
      "[140]\tvalidation's auc: 0.851055\n",
      "[160]\tvalidation's auc: 0.851883\n",
      "[180]\tvalidation's auc: 0.85249\n",
      "[200]\tvalidation's auc: 0.852992\n",
      "[220]\tvalidation's auc: 0.853392\n",
      "[240]\tvalidation's auc: 0.853764\n",
      "[260]\tvalidation's auc: 0.853972\n",
      "[280]\tvalidation's auc: 0.854118\n",
      "[300]\tvalidation's auc: 0.854245\n",
      "[320]\tvalidation's auc: 0.854332\n",
      "[340]\tvalidation's auc: 0.85441\n",
      "[360]\tvalidation's auc: 0.854513\n",
      "[380]\tvalidation's auc: 0.854516\n",
      "[400]\tvalidation's auc: 0.854526\n",
      "[420]\tvalidation's auc: 0.854582\n",
      "[440]\tvalidation's auc: 0.854573\n",
      "Early stopping, best iteration is:\n",
      "[421]\tvalidation's auc: 0.854584\n",
      "\n",
      "Fold: 3; Auc: 0.85458\n",
      "\n",
      "--------------------------------------------------\n",
      "\n",
      "\n",
      "\n",
      "\n",
      "Training until validation scores don't improve for 30 rounds\n",
      "[20]\tvalidation's auc: 0.838859\n",
      "[40]\tvalidation's auc: 0.84151\n",
      "[60]\tvalidation's auc: 0.844005\n",
      "[80]\tvalidation's auc: 0.846003\n",
      "[100]\tvalidation's auc: 0.847582\n",
      "[120]\tvalidation's auc: 0.848969\n",
      "[140]\tvalidation's auc: 0.850184\n",
      "[160]\tvalidation's auc: 0.851052\n",
      "[180]\tvalidation's auc: 0.85171\n",
      "[200]\tvalidation's auc: 0.8522\n",
      "[220]\tvalidation's auc: 0.852644\n",
      "[240]\tvalidation's auc: 0.852971\n",
      "[260]\tvalidation's auc: 0.853271\n",
      "[280]\tvalidation's auc: 0.853439\n",
      "[300]\tvalidation's auc: 0.85363\n",
      "[320]\tvalidation's auc: 0.853712\n",
      "[340]\tvalidation's auc: 0.853814\n",
      "[360]\tvalidation's auc: 0.853836\n",
      "[380]\tvalidation's auc: 0.853883\n",
      "[400]\tvalidation's auc: 0.853887\n",
      "[420]\tvalidation's auc: 0.853881\n",
      "Early stopping, best iteration is:\n",
      "[391]\tvalidation's auc: 0.853905\n",
      "\n",
      "Fold: 4; Auc: 0.85391\n",
      "\n",
      "--------------------------------------------------\n",
      "\n",
      "\n",
      "\n",
      "\n",
      "CV-Auc: 0.85427\n",
      "\n"
     ]
    }
   ],
   "source": [
    "score = 0\n",
    "model_list = []\n",
    "\n",
    "for i, fold_ in enumerate(FOLD_LIST):\n",
    "\n",
    "    mask_train = (train[FOLD_STRAT_NAME] != fold_)\n",
    "    mask_test = (train[FOLD_STRAT_NAME] == fold_)\n",
    "    \n",
    "    \n",
    "    train_x, train_y = train.loc[mask_train, FEATURE], train.loc[mask_train, TARGET_COL]\n",
    "    test_x, test_y = train.loc[mask_test, FEATURE], train.loc[mask_test, TARGET_COL]\n",
    "\n",
    "    model = lgb.train(\n",
    "        PARAMS_LGB_BASE,\n",
    "        lgb.Dataset(train_x, label=train_y,categorical_feature=CAT_COL), 100000,\n",
    "        valid_sets = lgb.Dataset(test_x, label=test_y,categorical_feature=CAT_COL),\n",
    "        valid_names ='validation', verbose_eval=20, early_stopping_rounds = 30,\n",
    "    )\n",
    "    \n",
    "    #evaluate score and save model for importance/prediction\n",
    "    score_fold = model.best_score['validation']['auc'] \n",
    "    score += score_fold/N_FOLD\n",
    "    \n",
    "    model_list.append(model)\n",
    "    \n",
    "    print('\\nFold: {}; Auc: {:.5f}\\n'.format(fold_, score_fold))\n",
    "    print('-'*50)\n",
    "    print('\\n\\n\\n')\n",
    "    gc.collect()\n",
    "    \n",
    "print('CV-Auc: {:.5f}\\n'.format(score))"
   ]
  },
  {
   "cell_type": "markdown",
   "id": "3fec74e5",
   "metadata": {
    "papermill": {
     "duration": 0.09456,
     "end_time": "2021-10-11T20:34:06.435267",
     "exception": false,
     "start_time": "2021-10-11T20:34:06.340707",
     "status": "completed"
    },
    "tags": []
   },
   "source": [
    "# Feature importance"
   ]
  },
  {
   "cell_type": "code",
   "execution_count": 11,
   "id": "660734e5",
   "metadata": {
    "execution": {
     "iopub.execute_input": "2021-10-11T20:34:06.850141Z",
     "iopub.status.busy": "2021-10-11T20:34:06.849446Z",
     "iopub.status.idle": "2021-10-11T20:34:06.862270Z",
     "shell.execute_reply": "2021-10-11T20:34:06.861712Z"
    },
    "papermill": {
     "duration": 0.339836,
     "end_time": "2021-10-11T20:34:06.862424",
     "exception": false,
     "start_time": "2021-10-11T20:34:06.522588",
     "status": "completed"
    },
    "tags": []
   },
   "outputs": [],
   "source": [
    "feature_importances = pd.DataFrame()\n",
    "feature_importances['feature'] = FEATURE\n",
    "\n",
    "\n",
    "for fold_, model in enumerate(model_list):\n",
    "    feature_importances['fold_{}'.format(fold_ + 1)] = model.feature_importance(importance_type='gain')"
   ]
  },
  {
   "cell_type": "code",
   "execution_count": 12,
   "id": "b262e55f",
   "metadata": {
    "execution": {
     "iopub.execute_input": "2021-10-11T20:34:07.050534Z",
     "iopub.status.busy": "2021-10-11T20:34:07.048852Z",
     "iopub.status.idle": "2021-10-11T20:34:07.941285Z",
     "shell.execute_reply": "2021-10-11T20:34:07.940709Z"
    },
    "papermill": {
     "duration": 0.990503,
     "end_time": "2021-10-11T20:34:07.941442",
     "exception": false,
     "start_time": "2021-10-11T20:34:06.950939",
     "status": "completed"
    },
    "tags": []
   },
   "outputs": [
    {
     "data": {
      "text/plain": [
       "Text(0.5, 1.0, '50 TOP feature importance over 5 average')"
      ]
     },
     "execution_count": 12,
     "metadata": {},
     "output_type": "execute_result"
    },
    {
     "data": {
      "image/png": "[encoded data removed]",
      "text/plain": [
       "<Figure size 864x576 with 1 Axes>"
      ]
     },
     "metadata": {
      "needs_background": "light"
     },
     "output_type": "display_data"
    }
   ],
   "source": [
    "scaler = MinMaxScaler(feature_range=(0, 100))\n",
    "\n",
    "average_importance = feature_importances.drop('feature', axis = 1).mean(axis=1)\n",
    "\n",
    "feature_importances['average'] = scaler.fit_transform(X=pd.DataFrame(average_importance))\n",
    "feature_importances = feature_importances.sort_values(by='average', ascending=False)\n",
    "\n",
    "feature_importances[['feature', 'average']].to_csv('feature_importances.csv',index=False)\n",
    "\n",
    "fig = plt.figure(figsize=(12,8))\n",
    "sns.barplot(data=feature_importances.head(50), x='average', y='feature');\n",
    "plt.title(f'50 TOP feature importance over {N_FOLD} average')"
   ]
  },
  {
   "cell_type": "markdown",
   "id": "72eaf99c",
   "metadata": {
    "papermill": {
     "duration": 0.089303,
     "end_time": "2021-10-11T20:34:08.121982",
     "exception": false,
     "start_time": "2021-10-11T20:34:08.032679",
     "status": "completed"
    },
    "tags": []
   },
   "source": [
    "# TEST Blending"
   ]
  },
  {
   "cell_type": "code",
   "execution_count": 13,
   "id": "7fcd2811",
   "metadata": {
    "execution": {
     "iopub.execute_input": "2021-10-11T20:34:08.541895Z",
     "iopub.status.busy": "2021-10-11T20:34:08.540628Z",
     "iopub.status.idle": "2021-10-11T20:34:08.547667Z",
     "shell.execute_reply": "2021-10-11T20:34:08.546998Z"
    },
    "papermill": {
     "duration": 0.334876,
     "end_time": "2021-10-11T20:34:08.547816",
     "exception": false,
     "start_time": "2021-10-11T20:34:08.212940",
     "status": "completed"
    },
    "tags": []
   },
   "outputs": [
    {
     "data": {
      "text/plain": [
       "36"
      ]
     },
     "execution_count": 13,
     "metadata": {},
     "output_type": "execute_result"
    }
   ],
   "source": [
    "del train\n",
    "gc.collect()"
   ]
  },
  {
   "cell_type": "code",
   "execution_count": 14,
   "id": "2cca023d",
   "metadata": {
    "execution": {
     "iopub.execute_input": "2021-10-11T20:34:08.734061Z",
     "iopub.status.busy": "2021-10-11T20:34:08.733261Z",
     "iopub.status.idle": "2021-10-11T20:34:16.233748Z",
     "shell.execute_reply": "2021-10-11T20:34:16.232985Z"
    },
    "papermill": {
     "duration": 7.596116,
     "end_time": "2021-10-11T20:34:16.233922",
     "exception": false,
     "start_time": "2021-10-11T20:34:08.637806",
     "status": "completed"
    },
    "tags": []
   },
   "outputs": [],
   "source": [
    "test = pd.read_pickle(\n",
    "    os.path.join(PATH_NOTEBOOK, 'test_unscaled.pkl')\n",
    ")"
   ]
  },
  {
   "cell_type": "code",
   "execution_count": 15,
   "id": "5ff98ab5",
   "metadata": {
    "execution": {
     "iopub.execute_input": "2021-10-11T20:34:16.423625Z",
     "iopub.status.busy": "2021-10-11T20:34:16.422583Z",
     "iopub.status.idle": "2021-10-11T20:38:28.261390Z",
     "shell.execute_reply": "2021-10-11T20:38:28.260728Z"
    },
    "papermill": {
     "duration": 251.937029,
     "end_time": "2021-10-11T20:38:28.261583",
     "exception": false,
     "start_time": "2021-10-11T20:34:16.324554",
     "status": "completed"
    },
    "tags": []
   },
   "outputs": [],
   "source": [
    "pred_test = np.zeros(test.shape[0])\n",
    "\n",
    "for fold_, model in enumerate(model_list):\n",
    "    pred_test += model.predict(test[FEATURE])/N_FOLD\n"
   ]
  },
  {
   "cell_type": "markdown",
   "id": "0287195a",
   "metadata": {
    "papermill": {
     "duration": 0.088554,
     "end_time": "2021-10-11T20:38:28.439993",
     "exception": false,
     "start_time": "2021-10-11T20:38:28.351439",
     "status": "completed"
    },
    "tags": []
   },
   "source": [
    "# SAVE RESULT"
   ]
  },
  {
   "cell_type": "code",
   "execution_count": 16,
   "id": "2ba77be7",
   "metadata": {
    "execution": {
     "iopub.execute_input": "2021-10-11T20:38:28.625258Z",
     "iopub.status.busy": "2021-10-11T20:38:28.624331Z",
     "iopub.status.idle": "2021-10-11T20:38:28.627770Z",
     "shell.execute_reply": "2021-10-11T20:38:28.627181Z"
    },
    "papermill": {
     "duration": 0.09855,
     "end_time": "2021-10-11T20:38:28.627918",
     "exception": false,
     "start_time": "2021-10-11T20:38:28.529368",
     "status": "completed"
    },
    "tags": []
   },
   "outputs": [],
   "source": [
    "#FINDED NEW FEATURE\n",
    "with open('feature_dic.pkl', 'wb') as file_name:\n",
    "    pickle.dump(feature_dic, file_name)"
   ]
  },
  {
   "cell_type": "code",
   "execution_count": 17,
   "id": "693999d8",
   "metadata": {
    "execution": {
     "iopub.execute_input": "2021-10-11T20:38:28.812156Z",
     "iopub.status.busy": "2021-10-11T20:38:28.811508Z",
     "iopub.status.idle": "2021-10-11T20:38:30.942672Z",
     "shell.execute_reply": "2021-10-11T20:38:30.941939Z"
    },
    "papermill": {
     "duration": 2.22553,
     "end_time": "2021-10-11T20:38:30.942827",
     "exception": false,
     "start_time": "2021-10-11T20:38:28.717297",
     "status": "completed"
    },
    "tags": []
   },
   "outputs": [],
   "source": [
    "submission = pd.read_csv(os.path.join(INPUT_PATH, 'sample_submission.csv'))\n",
    "submission['target'] = pred_test\n",
    "\n",
    "submission.to_csv('submission.csv', index = False)"
   ]
  }
 ],
 "metadata": {
  "kernelspec": {
   "display_name": "Python 3",
   "language": "python",
   "name": "python3"
  },
  "language_info": {
   "codemirror_mode": {
    "name": "ipython",
    "version": 3
   },
   "file_extension": ".py",
   "mimetype": "text/x-python",
   "name": "python",
   "nbconvert_exporter": "python",
   "pygments_lexer": "ipython3",
   "version": "3.7.10"
  },
  "papermill": {
   "default_parameters": {},
   "duration": 13598.398592,
   "end_time": "2021-10-11T20:38:32.971801",
   "environment_variables": {},
   "exception": null,
   "input_path": "__notebook__.ipynb",
   "output_path": "__notebook__.ipynb",
   "parameters": {},
   "start_time": "2021-10-11T16:51:54.573209",
   "version": "2.3.3"
  }
 },
 "nbformat": 4,
 "nbformat_minor": 5
}
