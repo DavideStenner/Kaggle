{
 "cells": [
  {
   "cell_type": "code",
   "execution_count": 1,
   "id": "560ed328",
   "metadata": {
    "_cell_guid": "b1076dfc-b9ad-4769-8c92-a6c4dae69d19",
    "_uuid": "8f2839f25d086af736a60e9eeb907d3b93b6e0e5",
    "execution": {
     "iopub.execute_input": "2021-10-11T16:49:08.924947Z",
     "iopub.status.busy": "2021-10-11T16:49:08.924129Z",
     "iopub.status.idle": "2021-10-11T16:49:11.202624Z",
     "shell.execute_reply": "2021-10-11T16:49:11.201740Z",
     "shell.execute_reply.started": "2021-10-11T16:45:07.095875Z"
    },
    "papermill": {
     "duration": 2.315228,
     "end_time": "2021-10-11T16:49:11.202799",
     "exception": false,
     "start_time": "2021-10-11T16:49:08.887571",
     "status": "completed"
    },
    "tags": []
   },
   "outputs": [
    {
     "data": {
      "text/html": [
       "<style type='text/css'>\n",
       ".datatable table.frame { margin-bottom: 0; }\n",
       ".datatable table.frame thead { border-bottom: none; }\n",
       ".datatable table.frame tr.coltypes td {  color: #FFFFFF;  line-height: 6px;  padding: 0 0.5em;}\n",
       ".datatable .bool    { background: #DDDD99; }\n",
       ".datatable .object  { background: #565656; }\n",
       ".datatable .int     { background: #5D9E5D; }\n",
       ".datatable .float   { background: #4040CC; }\n",
       ".datatable .str     { background: #CC4040; }\n",
       ".datatable .time    { background: #40CC40; }\n",
       ".datatable .row_index {  background: var(--jp-border-color3);  border-right: 1px solid var(--jp-border-color0);  color: var(--jp-ui-font-color3);  font-size: 9px;}\n",
       ".datatable .frame tbody td { text-align: left; }\n",
       ".datatable .frame tr.coltypes .row_index {  background: var(--jp-border-color0);}\n",
       ".datatable th:nth-child(2) { padding-left: 12px; }\n",
       ".datatable .hellipsis {  color: var(--jp-cell-editor-border-color);}\n",
       ".datatable .vellipsis {  background: var(--jp-layout-color0);  color: var(--jp-cell-editor-border-color);}\n",
       ".datatable .na {  color: var(--jp-cell-editor-border-color);  font-size: 80%;}\n",
       ".datatable .sp {  opacity: 0.25;}\n",
       ".datatable .footer { font-size: 9px; }\n",
       ".datatable .frame_dimensions {  background: var(--jp-border-color3);  border-top: 1px solid var(--jp-border-color0);  color: var(--jp-ui-font-color3);  display: inline-block;  opacity: 0.6;  padding: 1px 10px 1px 5px;}\n",
       "</style>\n"
      ],
      "text/plain": [
       "<IPython.core.display.HTML object>"
      ]
     },
     "metadata": {},
     "output_type": "display_data"
    }
   ],
   "source": [
    "import pandas as pd\n",
    "import numpy as np\n",
    "import lightgbm as lgb\n",
    "import pickle\n",
    "import os\n",
    "import gc\n",
    "from sklearn.preprocessing import MinMaxScaler\n",
    "from matplotlib import pyplot as plt\n",
    "import seaborn as sns\n",
    "import time\n",
    "\n",
    "from utilities import (\n",
    "    RANDOM_STATE, TARGET_COL, N_FOLD, FOLD_STRAT_NAME, REDUCED_FOLD_NAME,\n",
    "    PARAMS_LGB_BASE\n",
    ")\n",
    "\n",
    "from train import (\n",
    "    train_feat_sel, feat_selection_pipeline\n",
    ")\n",
    "\n",
    "INPUT_PATH = '../input/tabular-playground-series-oct-2021'\n",
    "PATH_NOTEBOOK = '../input/preprocess'\n",
    "\n",
    "PATH_FEATURE = [\n",
    "    '../input/lightgbm-feat-sel-imp-gain',\n",
    "    '../input/lightgbm-feat-sel-adv-train',\n",
    "#     '../input/lightgbm-feat-sel-shift',\n",
    "#     '../input/lightgbm-feat-sel-class'\n",
    "]"
   ]
  },
  {
   "cell_type": "code",
   "execution_count": 2,
   "id": "e53fe341",
   "metadata": {
    "execution": {
     "iopub.execute_input": "2021-10-11T16:49:11.243894Z",
     "iopub.status.busy": "2021-10-11T16:49:11.243238Z",
     "iopub.status.idle": "2021-10-11T16:49:11.256905Z",
     "shell.execute_reply": "2021-10-11T16:49:11.256234Z",
     "shell.execute_reply.started": "2021-10-11T16:45:09.448538Z"
    },
    "papermill": {
     "duration": 0.036043,
     "end_time": "2021-10-11T16:49:11.257083",
     "exception": false,
     "start_time": "2021-10-11T16:49:11.221040",
     "status": "completed"
    },
    "tags": []
   },
   "outputs": [],
   "source": [
    "with open(os.path.join(PATH_NOTEBOOK, 'feature_dic.pkl'), 'rb') as file:\n",
    "    original_feature_dic = pickle.load(file)\n",
    "    \n",
    "ALL_FEATURE_LIST = original_feature_dic['feature']"
   ]
  },
  {
   "cell_type": "code",
   "execution_count": 3,
   "id": "3bef61f9",
   "metadata": {
    "execution": {
     "iopub.execute_input": "2021-10-11T16:49:11.296249Z",
     "iopub.status.busy": "2021-10-11T16:49:11.295577Z",
     "iopub.status.idle": "2021-10-11T16:49:23.006090Z",
     "shell.execute_reply": "2021-10-11T16:49:23.005207Z",
     "shell.execute_reply.started": "2021-10-11T16:45:09.460279Z"
    },
    "papermill": {
     "duration": 11.731881,
     "end_time": "2021-10-11T16:49:23.006286",
     "exception": false,
     "start_time": "2021-10-11T16:49:11.274405",
     "status": "completed"
    },
    "tags": []
   },
   "outputs": [],
   "source": [
    "train = pd.read_pickle(\n",
    "    os.path.join(PATH_NOTEBOOK, 'train_unscaled.pkl')\n",
    ")"
   ]
  },
  {
   "cell_type": "markdown",
   "id": "b2a8b917",
   "metadata": {
    "papermill": {
     "duration": 0.016801,
     "end_time": "2021-10-11T16:49:23.040740",
     "exception": false,
     "start_time": "2021-10-11T16:49:23.023939",
     "status": "completed"
    },
    "tags": []
   },
   "source": [
    "# IMPORT DEL CLASS LIST"
   ]
  },
  {
   "cell_type": "code",
   "execution_count": 4,
   "id": "9af6cefa",
   "metadata": {
    "execution": {
     "iopub.execute_input": "2021-10-11T16:49:23.078618Z",
     "iopub.status.busy": "2021-10-11T16:49:23.077604Z",
     "iopub.status.idle": "2021-10-11T16:49:23.104909Z",
     "shell.execute_reply": "2021-10-11T16:49:23.105438Z",
     "shell.execute_reply.started": "2021-10-11T16:45:21.711405Z"
    },
    "papermill": {
     "duration": 0.047889,
     "end_time": "2021-10-11T16:49:23.105631",
     "exception": false,
     "start_time": "2021-10-11T16:49:23.057742",
     "status": "completed"
    },
    "tags": []
   },
   "outputs": [],
   "source": [
    "possible_del_class = []\n",
    "\n",
    "for featute_sel in PATH_FEATURE:\n",
    "    with open(os.path.join(featute_sel, 'feature_dic.pkl'), 'rb') as file:\n",
    "        feature_dic = pickle.load(file)\n",
    "        \n",
    "    possible_del_class += [x for x in ALL_FEATURE_LIST if (x not in feature_dic['feature']) & (x not in possible_del_class)]"
   ]
  },
  {
   "cell_type": "code",
   "execution_count": 5,
   "id": "5be78e03",
   "metadata": {
    "execution": {
     "iopub.execute_input": "2021-10-11T16:49:23.143836Z",
     "iopub.status.busy": "2021-10-11T16:49:23.142841Z",
     "iopub.status.idle": "2021-10-11T16:49:23.261407Z",
     "shell.execute_reply": "2021-10-11T16:49:23.261850Z",
     "shell.execute_reply.started": "2021-10-11T16:45:21.730035Z"
    },
    "papermill": {
     "duration": 0.1392,
     "end_time": "2021-10-11T16:49:23.262031",
     "exception": false,
     "start_time": "2021-10-11T16:49:23.122831",
     "status": "completed"
    },
    "tags": []
   },
   "outputs": [
    {
     "data": {
      "text/plain": [
       "84"
      ]
     },
     "execution_count": 5,
     "metadata": {},
     "output_type": "execute_result"
    }
   ],
   "source": [
    "#CONSTANT\n",
    "FEATURE = feature_dic['feature']\n",
    "CAT_COL = feature_dic['categorical']\n",
    "NUMERIC_COL = feature_dic['numerical']\n",
    "\n",
    "FOLD_LIST = list(range(N_FOLD))\n",
    "\n",
    "gc.collect()"
   ]
  },
  {
   "cell_type": "markdown",
   "id": "cb6ab7da",
   "metadata": {
    "papermill": {
     "duration": 0.017305,
     "end_time": "2021-10-11T16:49:23.296505",
     "exception": false,
     "start_time": "2021-10-11T16:49:23.279200",
     "status": "completed"
    },
    "tags": []
   },
   "source": [
    "# FEATURE SELECTION PHASE\n",
    "Iterate over POSSIBLE_DEL_* list and take out 1 feature at time"
   ]
  },
  {
   "cell_type": "code",
   "execution_count": 6,
   "id": "1b46d93d",
   "metadata": {
    "execution": {
     "iopub.execute_input": "2021-10-11T16:49:23.345947Z",
     "iopub.status.busy": "2021-10-11T16:49:23.345267Z",
     "iopub.status.idle": "2021-10-11T17:14:28.382996Z",
     "shell.execute_reply": "2021-10-11T17:14:28.383547Z",
     "shell.execute_reply.started": "2021-10-11T16:45:21.851408Z"
    },
    "papermill": {
     "duration": 1505.068531,
     "end_time": "2021-10-11T17:14:28.384068",
     "exception": false,
     "start_time": "2021-10-11T16:49:23.315537",
     "status": "completed"
    },
    "tags": []
   },
   "outputs": [
    {
     "name": "stdout",
     "output_type": "stream",
     "text": [
      "\n",
      "\n",
      "\n"
     ]
    },
    {
     "name": "stderr",
     "output_type": "stream",
     "text": [
      "/opt/conda/lib/python3.7/site-packages/lightgbm/basic.py:1702: UserWarning: Using categorical_feature in Dataset.\n",
      "  _log_warning('Using categorical_feature in Dataset.')\n",
      "/opt/conda/lib/python3.7/site-packages/lightgbm/basic.py:1433: UserWarning: Overriding the parameters from Reference Dataset.\n",
      "  _log_warning('Overriding the parameters from Reference Dataset.')\n",
      "/opt/conda/lib/python3.7/site-packages/lightgbm/basic.py:1245: UserWarning: categorical_column in param dict is overridden.\n",
      "  _log_warning('{} in param dict is overridden.'.format(cat_alias))\n"
     ]
    },
    {
     "name": "stdout",
     "output_type": "stream",
     "text": [
      "Training until validation scores don't improve for 30 rounds\n",
      "Early stopping, best iteration is:\n",
      "[274]\tvalidation's auc: 0.845656\n",
      "Base score: 0.845656\n",
      "\n",
      "\n",
      "\n",
      "Minute one iteration: 2.9; All iteration: 25.7\n",
      "\n",
      "\n",
      "\n",
      "Training until validation scores don't improve for 30 rounds\n",
      "Early stopping, best iteration is:\n",
      "[245]\tvalidation's auc: 0.845506\n",
      "Training until validation scores don't improve for 30 rounds\n",
      "Early stopping, best iteration is:\n",
      "[241]\tvalidation's auc: 0.845683\n",
      "\n",
      "\n",
      "Feature f272 dropped. Delta AUC: 0.000026\n",
      "\n",
      "\n",
      "Training until validation scores don't improve for 30 rounds\n",
      "Early stopping, best iteration is:\n",
      "[241]\tvalidation's auc: 0.845683\n",
      "Training until validation scores don't improve for 30 rounds\n",
      "Early stopping, best iteration is:\n",
      "[241]\tvalidation's auc: 0.845683\n",
      "Training until validation scores don't improve for 30 rounds\n",
      "Early stopping, best iteration is:\n",
      "[241]\tvalidation's auc: 0.845683\n",
      "Training until validation scores don't improve for 30 rounds\n",
      "Early stopping, best iteration is:\n",
      "[241]\tvalidation's auc: 0.845683\n",
      "Training until validation scores don't improve for 30 rounds\n",
      "Early stopping, best iteration is:\n",
      "[241]\tvalidation's auc: 0.845683\n",
      "Training until validation scores don't improve for 30 rounds\n",
      "Early stopping, best iteration is:\n",
      "[241]\tvalidation's auc: 0.845683\n",
      "Training until validation scores don't improve for 30 rounds\n",
      "Early stopping, best iteration is:\n",
      "[241]\tvalidation's auc: 0.845683\n",
      "Delta AUC: 2.6379226379269483e-05; Number of feature dropped: 1\n",
      "\n",
      "\n",
      "CPU times: user 24min 58s, sys: 5.72 s, total: 25min 4s\n",
      "Wall time: 25min 5s\n"
     ]
    }
   ],
   "source": [
    "%%time\n",
    "del_list = feat_selection_pipeline(data = train, feature_list = FEATURE, possible_del_list = possible_del_class,  \n",
    "                            params = PARAMS_LGB_BASE, cat_col = CAT_COL, target_name = TARGET_COL, \n",
    "                            fold_strat_name = REDUCED_FOLD_NAME, new_learning_rate = .05, \n",
    "                            verbose_eval = -1, early_stopping_rounds = 30)"
   ]
  },
  {
   "cell_type": "markdown",
   "id": "0ade9741",
   "metadata": {
    "papermill": {
     "duration": 0.026974,
     "end_time": "2021-10-11T17:14:28.438482",
     "exception": false,
     "start_time": "2021-10-11T17:14:28.411508",
     "status": "completed"
    },
    "tags": []
   },
   "source": [
    "# TRAIN"
   ]
  },
  {
   "cell_type": "code",
   "execution_count": 7,
   "id": "bfc6a04e",
   "metadata": {
    "execution": {
     "iopub.execute_input": "2021-10-11T17:14:28.498337Z",
     "iopub.status.busy": "2021-10-11T17:14:28.497583Z",
     "iopub.status.idle": "2021-10-11T17:14:28.501062Z",
     "shell.execute_reply": "2021-10-11T17:14:28.501637Z"
    },
    "papermill": {
     "duration": 0.038175,
     "end_time": "2021-10-11T17:14:28.501822",
     "exception": false,
     "start_time": "2021-10-11T17:14:28.463647",
     "status": "completed"
    },
    "tags": []
   },
   "outputs": [
    {
     "data": {
      "text/plain": [
       "['f272']"
      ]
     },
     "execution_count": 7,
     "metadata": {},
     "output_type": "execute_result"
    }
   ],
   "source": [
    "del_list"
   ]
  },
  {
   "cell_type": "code",
   "execution_count": 8,
   "id": "15a373a9",
   "metadata": {
    "execution": {
     "iopub.execute_input": "2021-10-11T17:14:28.557917Z",
     "iopub.status.busy": "2021-10-11T17:14:28.557277Z",
     "iopub.status.idle": "2021-10-11T17:14:28.562731Z",
     "shell.execute_reply": "2021-10-11T17:14:28.563303Z"
    },
    "papermill": {
     "duration": 0.035022,
     "end_time": "2021-10-11T17:14:28.563486",
     "exception": false,
     "start_time": "2021-10-11T17:14:28.528464",
     "status": "completed"
    },
    "tags": []
   },
   "outputs": [],
   "source": [
    "FEATURE = [x for x in FEATURE if x not in del_list]\n",
    "CAT_COL = [x for x in CAT_COL if x not in del_list]\n",
    "NUMERIC_COL = [x for x in NUMERIC_COL if x not in del_list]\n",
    "\n",
    "feature_dic = {\n",
    "    'feature': FEATURE,\n",
    "    'categorical': CAT_COL,\n",
    "    'numerical': NUMERIC_COL,\n",
    "}"
   ]
  },
  {
   "cell_type": "code",
   "execution_count": 9,
   "id": "51874e04",
   "metadata": {
    "execution": {
     "iopub.execute_input": "2021-10-11T17:14:28.618618Z",
     "iopub.status.busy": "2021-10-11T17:14:28.617910Z",
     "iopub.status.idle": "2021-10-11T18:35:16.038658Z",
     "shell.execute_reply": "2021-10-11T18:35:16.039219Z"
    },
    "papermill": {
     "duration": 4847.450223,
     "end_time": "2021-10-11T18:35:16.039698",
     "exception": false,
     "start_time": "2021-10-11T17:14:28.589475",
     "status": "completed"
    },
    "tags": []
   },
   "outputs": [
    {
     "name": "stdout",
     "output_type": "stream",
     "text": [
      "Training until validation scores don't improve for 30 rounds\n",
      "[20]\tvalidation's auc: 0.840469\n",
      "[40]\tvalidation's auc: 0.842547\n",
      "[60]\tvalidation's auc: 0.844479\n",
      "[80]\tvalidation's auc: 0.846174\n",
      "[100]\tvalidation's auc: 0.848026\n",
      "[120]\tvalidation's auc: 0.849343\n",
      "[140]\tvalidation's auc: 0.850527\n",
      "[160]\tvalidation's auc: 0.851475\n",
      "[180]\tvalidation's auc: 0.852146\n",
      "[200]\tvalidation's auc: 0.85268\n",
      "[220]\tvalidation's auc: 0.852972\n",
      "[240]\tvalidation's auc: 0.853326\n",
      "[260]\tvalidation's auc: 0.853571\n",
      "[280]\tvalidation's auc: 0.853801\n",
      "[300]\tvalidation's auc: 0.854014\n",
      "[320]\tvalidation's auc: 0.854101\n",
      "[340]\tvalidation's auc: 0.854201\n",
      "[360]\tvalidation's auc: 0.854291\n",
      "[380]\tvalidation's auc: 0.854348\n",
      "[400]\tvalidation's auc: 0.854356\n",
      "[420]\tvalidation's auc: 0.854397\n",
      "[440]\tvalidation's auc: 0.854389\n",
      "Early stopping, best iteration is:\n",
      "[429]\tvalidation's auc: 0.854428\n",
      "\n",
      "Fold: 0; Auc: 0.85443\n",
      "\n",
      "--------------------------------------------------\n",
      "\n",
      "\n",
      "\n",
      "\n",
      "Training until validation scores don't improve for 30 rounds\n",
      "[20]\tvalidation's auc: 0.839619\n",
      "[40]\tvalidation's auc: 0.841682\n",
      "[60]\tvalidation's auc: 0.843775\n",
      "[80]\tvalidation's auc: 0.84558\n",
      "[100]\tvalidation's auc: 0.847445\n",
      "[120]\tvalidation's auc: 0.84895\n",
      "[140]\tvalidation's auc: 0.850191\n",
      "[160]\tvalidation's auc: 0.851019\n",
      "[180]\tvalidation's auc: 0.851757\n",
      "[200]\tvalidation's auc: 0.852351\n",
      "[220]\tvalidation's auc: 0.852687\n",
      "[240]\tvalidation's auc: 0.853025\n",
      "[260]\tvalidation's auc: 0.853222\n",
      "[280]\tvalidation's auc: 0.853386\n",
      "[300]\tvalidation's auc: 0.853504\n",
      "[320]\tvalidation's auc: 0.85361\n",
      "[340]\tvalidation's auc: 0.853708\n",
      "[360]\tvalidation's auc: 0.853751\n",
      "[380]\tvalidation's auc: 0.85382\n",
      "[400]\tvalidation's auc: 0.853836\n",
      "[420]\tvalidation's auc: 0.853835\n",
      "[440]\tvalidation's auc: 0.85385\n",
      "[460]\tvalidation's auc: 0.853846\n",
      "[480]\tvalidation's auc: 0.85382\n",
      "Early stopping, best iteration is:\n",
      "[454]\tvalidation's auc: 0.853869\n",
      "\n",
      "Fold: 1; Auc: 0.85387\n",
      "\n",
      "--------------------------------------------------\n",
      "\n",
      "\n",
      "\n",
      "\n",
      "Training until validation scores don't improve for 30 rounds\n",
      "[20]\tvalidation's auc: 0.840599\n",
      "[40]\tvalidation's auc: 0.842602\n",
      "[60]\tvalidation's auc: 0.844653\n",
      "[80]\tvalidation's auc: 0.84642\n",
      "[100]\tvalidation's auc: 0.848218\n",
      "[120]\tvalidation's auc: 0.849692\n",
      "[140]\tvalidation's auc: 0.850886\n",
      "[160]\tvalidation's auc: 0.85183\n",
      "[180]\tvalidation's auc: 0.852433\n",
      "[200]\tvalidation's auc: 0.852892\n",
      "[220]\tvalidation's auc: 0.853299\n",
      "[240]\tvalidation's auc: 0.853567\n",
      "[260]\tvalidation's auc: 0.85381\n",
      "[280]\tvalidation's auc: 0.853993\n",
      "[300]\tvalidation's auc: 0.854147\n",
      "[320]\tvalidation's auc: 0.854235\n",
      "[340]\tvalidation's auc: 0.854291\n",
      "[360]\tvalidation's auc: 0.854329\n",
      "[380]\tvalidation's auc: 0.854344\n",
      "[400]\tvalidation's auc: 0.854336\n",
      "Early stopping, best iteration is:\n",
      "[387]\tvalidation's auc: 0.85435\n",
      "\n",
      "Fold: 2; Auc: 0.85435\n",
      "\n",
      "--------------------------------------------------\n",
      "\n",
      "\n",
      "\n",
      "\n",
      "Training until validation scores don't improve for 30 rounds\n",
      "[20]\tvalidation's auc: 0.840854\n",
      "[40]\tvalidation's auc: 0.842906\n",
      "[60]\tvalidation's auc: 0.845047\n",
      "[80]\tvalidation's auc: 0.846729\n",
      "[100]\tvalidation's auc: 0.848479\n",
      "[120]\tvalidation's auc: 0.849858\n",
      "[140]\tvalidation's auc: 0.851043\n",
      "[160]\tvalidation's auc: 0.851786\n",
      "[180]\tvalidation's auc: 0.852454\n",
      "[200]\tvalidation's auc: 0.85295\n",
      "[220]\tvalidation's auc: 0.853332\n",
      "[240]\tvalidation's auc: 0.853606\n",
      "[260]\tvalidation's auc: 0.853839\n",
      "[280]\tvalidation's auc: 0.854014\n",
      "[300]\tvalidation's auc: 0.854095\n",
      "[320]\tvalidation's auc: 0.854207\n",
      "[340]\tvalidation's auc: 0.854352\n",
      "[360]\tvalidation's auc: 0.854428\n",
      "[380]\tvalidation's auc: 0.854464\n",
      "[400]\tvalidation's auc: 0.854459\n",
      "Early stopping, best iteration is:\n",
      "[371]\tvalidation's auc: 0.854496\n",
      "\n",
      "Fold: 3; Auc: 0.85450\n",
      "\n",
      "--------------------------------------------------\n",
      "\n",
      "\n",
      "\n",
      "\n",
      "Training until validation scores don't improve for 30 rounds\n",
      "[20]\tvalidation's auc: 0.84009\n",
      "[40]\tvalidation's auc: 0.842194\n",
      "[60]\tvalidation's auc: 0.844276\n",
      "[80]\tvalidation's auc: 0.845974\n",
      "[100]\tvalidation's auc: 0.847642\n",
      "[120]\tvalidation's auc: 0.849014\n",
      "[140]\tvalidation's auc: 0.850162\n",
      "[160]\tvalidation's auc: 0.851029\n",
      "[180]\tvalidation's auc: 0.851684\n",
      "[200]\tvalidation's auc: 0.852165\n",
      "[220]\tvalidation's auc: 0.852556\n",
      "[240]\tvalidation's auc: 0.852833\n",
      "[260]\tvalidation's auc: 0.853042\n",
      "[280]\tvalidation's auc: 0.853278\n",
      "[300]\tvalidation's auc: 0.853424\n",
      "[320]\tvalidation's auc: 0.853503\n",
      "[340]\tvalidation's auc: 0.853585\n",
      "[360]\tvalidation's auc: 0.853645\n",
      "[380]\tvalidation's auc: 0.853755\n",
      "[400]\tvalidation's auc: 0.853756\n",
      "[420]\tvalidation's auc: 0.85372\n",
      "Early stopping, best iteration is:\n",
      "[392]\tvalidation's auc: 0.853778\n",
      "\n",
      "Fold: 4; Auc: 0.85378\n",
      "\n",
      "--------------------------------------------------\n",
      "\n",
      "\n",
      "\n",
      "\n",
      "CV-Auc: 0.85418\n",
      "\n"
     ]
    }
   ],
   "source": [
    "score = 0\n",
    "model_list = []\n",
    "\n",
    "for i, fold_ in enumerate(FOLD_LIST):\n",
    "\n",
    "    mask_train = (train[FOLD_STRAT_NAME] != fold_)\n",
    "    mask_test = (train[FOLD_STRAT_NAME] == fold_)\n",
    "    \n",
    "    \n",
    "    train_x, train_y = train.loc[mask_train, FEATURE], train.loc[mask_train, TARGET_COL]\n",
    "    test_x, test_y = train.loc[mask_test, FEATURE], train.loc[mask_test, TARGET_COL]\n",
    "\n",
    "    model = lgb.train(\n",
    "        PARAMS_LGB_BASE,\n",
    "        lgb.Dataset(train_x, label=train_y,categorical_feature=CAT_COL), 100000,\n",
    "        valid_sets = lgb.Dataset(test_x, label=test_y,categorical_feature=CAT_COL),\n",
    "        valid_names ='validation', verbose_eval=20, early_stopping_rounds = 30,\n",
    "    )\n",
    "    \n",
    "    #evaluate score and save model for importance/prediction\n",
    "    score_fold = model.best_score['validation']['auc'] \n",
    "    score += score_fold/N_FOLD\n",
    "    \n",
    "    model_list.append(model)\n",
    "    \n",
    "    print('\\nFold: {}; Auc: {:.5f}\\n'.format(fold_, score_fold))\n",
    "    print('-'*50)\n",
    "    print('\\n\\n\\n')\n",
    "    gc.collect()\n",
    "    \n",
    "print('CV-Auc: {:.5f}\\n'.format(score))"
   ]
  },
  {
   "cell_type": "markdown",
   "id": "34aa1119",
   "metadata": {
    "papermill": {
     "duration": 0.062775,
     "end_time": "2021-10-11T18:35:16.165652",
     "exception": false,
     "start_time": "2021-10-11T18:35:16.102877",
     "status": "completed"
    },
    "tags": []
   },
   "source": [
    "# Feature importance"
   ]
  },
  {
   "cell_type": "code",
   "execution_count": 10,
   "id": "b8129bb1",
   "metadata": {
    "execution": {
     "iopub.execute_input": "2021-10-11T18:35:16.305236Z",
     "iopub.status.busy": "2021-10-11T18:35:16.304380Z",
     "iopub.status.idle": "2021-10-11T18:35:16.313798Z",
     "shell.execute_reply": "2021-10-11T18:35:16.313204Z"
    },
    "papermill": {
     "duration": 0.085366,
     "end_time": "2021-10-11T18:35:16.313949",
     "exception": false,
     "start_time": "2021-10-11T18:35:16.228583",
     "status": "completed"
    },
    "tags": []
   },
   "outputs": [],
   "source": [
    "feature_importances = pd.DataFrame()\n",
    "feature_importances['feature'] = FEATURE\n",
    "\n",
    "\n",
    "for fold_, model in enumerate(model_list):\n",
    "    feature_importances['fold_{}'.format(fold_ + 1)] = model.feature_importance(importance_type='gain')"
   ]
  },
  {
   "cell_type": "code",
   "execution_count": 11,
   "id": "4dd50fd2",
   "metadata": {
    "execution": {
     "iopub.execute_input": "2021-10-11T18:35:16.458426Z",
     "iopub.status.busy": "2021-10-11T18:35:16.456231Z",
     "iopub.status.idle": "2021-10-11T18:35:17.317626Z",
     "shell.execute_reply": "2021-10-11T18:35:17.317072Z"
    },
    "papermill": {
     "duration": 0.941569,
     "end_time": "2021-10-11T18:35:17.317773",
     "exception": false,
     "start_time": "2021-10-11T18:35:16.376204",
     "status": "completed"
    },
    "tags": []
   },
   "outputs": [
    {
     "data": {
      "text/plain": [
       "Text(0.5, 1.0, '50 TOP feature importance over 5 average')"
      ]
     },
     "execution_count": 11,
     "metadata": {},
     "output_type": "execute_result"
    },
    {
     "data": {
      "image/png": "[encoded data removed]",
      "text/plain": [
       "<Figure size 864x576 with 1 Axes>"
      ]
     },
     "metadata": {
      "needs_background": "light"
     },
     "output_type": "display_data"
    }
   ],
   "source": [
    "scaler = MinMaxScaler(feature_range=(0, 100))\n",
    "\n",
    "average_importance = feature_importances.drop('feature', axis = 1).mean(axis=1)\n",
    "\n",
    "feature_importances['average'] = scaler.fit_transform(X=pd.DataFrame(average_importance))\n",
    "feature_importances = feature_importances.sort_values(by='average', ascending=False)\n",
    "\n",
    "feature_importances[['feature', 'average']].to_csv('feature_importances.csv',index=False)\n",
    "\n",
    "fig = plt.figure(figsize=(12,8))\n",
    "sns.barplot(data=feature_importances.head(50), x='average', y='feature');\n",
    "plt.title(f'50 TOP feature importance over {N_FOLD} average')"
   ]
  },
  {
   "cell_type": "markdown",
   "id": "890ad23e",
   "metadata": {
    "papermill": {
     "duration": 0.063579,
     "end_time": "2021-10-11T18:35:17.445774",
     "exception": false,
     "start_time": "2021-10-11T18:35:17.382195",
     "status": "completed"
    },
    "tags": []
   },
   "source": [
    "# TEST Blending"
   ]
  },
  {
   "cell_type": "code",
   "execution_count": 12,
   "id": "4e8c2273",
   "metadata": {
    "execution": {
     "iopub.execute_input": "2021-10-11T18:35:17.742158Z",
     "iopub.status.busy": "2021-10-11T18:35:17.740825Z",
     "iopub.status.idle": "2021-10-11T18:35:17.746132Z",
     "shell.execute_reply": "2021-10-11T18:35:17.745519Z"
    },
    "papermill": {
     "duration": 0.234658,
     "end_time": "2021-10-11T18:35:17.746292",
     "exception": false,
     "start_time": "2021-10-11T18:35:17.511634",
     "status": "completed"
    },
    "tags": []
   },
   "outputs": [
    {
     "data": {
      "text/plain": [
       "36"
      ]
     },
     "execution_count": 12,
     "metadata": {},
     "output_type": "execute_result"
    }
   ],
   "source": [
    "del train\n",
    "gc.collect()"
   ]
  },
  {
   "cell_type": "code",
   "execution_count": 13,
   "id": "d0e5cdcb",
   "metadata": {
    "execution": {
     "iopub.execute_input": "2021-10-11T18:35:17.879621Z",
     "iopub.status.busy": "2021-10-11T18:35:17.878924Z",
     "iopub.status.idle": "2021-10-11T18:35:24.334345Z",
     "shell.execute_reply": "2021-10-11T18:35:24.333766Z"
    },
    "papermill": {
     "duration": 6.522224,
     "end_time": "2021-10-11T18:35:24.334518",
     "exception": false,
     "start_time": "2021-10-11T18:35:17.812294",
     "status": "completed"
    },
    "tags": []
   },
   "outputs": [],
   "source": [
    "test = pd.read_pickle(\n",
    "    os.path.join(PATH_NOTEBOOK, 'test_unscaled.pkl')\n",
    ")"
   ]
  },
  {
   "cell_type": "code",
   "execution_count": 14,
   "id": "0789f4ba",
   "metadata": {
    "execution": {
     "iopub.execute_input": "2021-10-11T18:35:24.469987Z",
     "iopub.status.busy": "2021-10-11T18:35:24.468966Z",
     "iopub.status.idle": "2021-10-11T18:39:26.876929Z",
     "shell.execute_reply": "2021-10-11T18:39:26.876349Z"
    },
    "papermill": {
     "duration": 242.477817,
     "end_time": "2021-10-11T18:39:26.877115",
     "exception": false,
     "start_time": "2021-10-11T18:35:24.399298",
     "status": "completed"
    },
    "tags": []
   },
   "outputs": [],
   "source": [
    "pred_test = np.zeros(test.shape[0])\n",
    "\n",
    "for fold_, model in enumerate(model_list):\n",
    "    pred_test += model.predict(test[FEATURE])/N_FOLD\n"
   ]
  },
  {
   "cell_type": "markdown",
   "id": "8083f04e",
   "metadata": {
    "papermill": {
     "duration": 0.065265,
     "end_time": "2021-10-11T18:39:27.009810",
     "exception": false,
     "start_time": "2021-10-11T18:39:26.944545",
     "status": "completed"
    },
    "tags": []
   },
   "source": [
    "# SAVE RESULT"
   ]
  },
  {
   "cell_type": "code",
   "execution_count": 15,
   "id": "b70edefc",
   "metadata": {
    "execution": {
     "iopub.execute_input": "2021-10-11T18:39:27.151303Z",
     "iopub.status.busy": "2021-10-11T18:39:27.150590Z",
     "iopub.status.idle": "2021-10-11T18:39:27.153575Z",
     "shell.execute_reply": "2021-10-11T18:39:27.154057Z"
    },
    "papermill": {
     "duration": 0.079014,
     "end_time": "2021-10-11T18:39:27.154296",
     "exception": false,
     "start_time": "2021-10-11T18:39:27.075282",
     "status": "completed"
    },
    "tags": []
   },
   "outputs": [],
   "source": [
    "#FINDED NEW FEATURE\n",
    "with open('feature_dic.pkl', 'wb') as file_name:\n",
    "    pickle.dump(feature_dic, file_name)"
   ]
  },
  {
   "cell_type": "code",
   "execution_count": 16,
   "id": "7fb0ef5f",
   "metadata": {
    "execution": {
     "iopub.execute_input": "2021-10-11T18:39:27.292364Z",
     "iopub.status.busy": "2021-10-11T18:39:27.291546Z",
     "iopub.status.idle": "2021-10-11T18:39:29.399375Z",
     "shell.execute_reply": "2021-10-11T18:39:29.400004Z"
    },
    "papermill": {
     "duration": 2.180214,
     "end_time": "2021-10-11T18:39:29.400246",
     "exception": false,
     "start_time": "2021-10-11T18:39:27.220032",
     "status": "completed"
    },
    "tags": []
   },
   "outputs": [],
   "source": [
    "submission = pd.read_csv(os.path.join(INPUT_PATH, 'sample_submission.csv'))\n",
    "submission['target'] = pred_test\n",
    "\n",
    "submission.to_csv('submission.csv', index = False)"
   ]
  }
 ],
 "metadata": {
  "kernelspec": {
   "display_name": "Python 3",
   "language": "python",
   "name": "python3"
  },
  "language_info": {
   "codemirror_mode": {
    "name": "ipython",
    "version": 3
   },
   "file_extension": ".py",
   "mimetype": "text/x-python",
   "name": "python",
   "nbconvert_exporter": "python",
   "pygments_lexer": "ipython3",
   "version": "3.7.10"
  },
  "papermill": {
   "default_parameters": {},
   "duration": 6629.844735,
   "end_time": "2021-10-11T18:39:30.379042",
   "environment_variables": {},
   "exception": null,
   "input_path": "__notebook__.ipynb",
   "output_path": "__notebook__.ipynb",
   "parameters": {},
   "start_time": "2021-10-11T16:49:00.534307",
   "version": "2.3.3"
  }
 },
 "nbformat": 4,
 "nbformat_minor": 5
}
