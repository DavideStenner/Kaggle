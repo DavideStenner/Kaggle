{
 "cells": [
  {
   "cell_type": "code",
   "execution_count": 1,
   "id": "09149fd1",
   "metadata": {
    "_cell_guid": "b1076dfc-b9ad-4769-8c92-a6c4dae69d19",
    "_uuid": "8f2839f25d086af736a60e9eeb907d3b93b6e0e5",
    "execution": {
     "iopub.execute_input": "2021-10-11T16:52:24.297581Z",
     "iopub.status.busy": "2021-10-11T16:52:24.296342Z",
     "iopub.status.idle": "2021-10-11T16:52:26.591250Z",
     "shell.execute_reply": "2021-10-11T16:52:26.590564Z",
     "shell.execute_reply.started": "2021-10-08T12:09:32.68522Z"
    },
    "papermill": {
     "duration": 2.31607,
     "end_time": "2021-10-11T16:52:26.591416",
     "exception": false,
     "start_time": "2021-10-11T16:52:24.275346",
     "status": "completed"
    },
    "tags": []
   },
   "outputs": [
    {
     "data": {
      "text/html": [
       "<style type='text/css'>\n",
       ".datatable table.frame { margin-bottom: 0; }\n",
       ".datatable table.frame thead { border-bottom: none; }\n",
       ".datatable table.frame tr.coltypes td {  color: #FFFFFF;  line-height: 6px;  padding: 0 0.5em;}\n",
       ".datatable .bool    { background: #DDDD99; }\n",
       ".datatable .object  { background: #565656; }\n",
       ".datatable .int     { background: #5D9E5D; }\n",
       ".datatable .float   { background: #4040CC; }\n",
       ".datatable .str     { background: #CC4040; }\n",
       ".datatable .time    { background: #40CC40; }\n",
       ".datatable .row_index {  background: var(--jp-border-color3);  border-right: 1px solid var(--jp-border-color0);  color: var(--jp-ui-font-color3);  font-size: 9px;}\n",
       ".datatable .frame tbody td { text-align: left; }\n",
       ".datatable .frame tr.coltypes .row_index {  background: var(--jp-border-color0);}\n",
       ".datatable th:nth-child(2) { padding-left: 12px; }\n",
       ".datatable .hellipsis {  color: var(--jp-cell-editor-border-color);}\n",
       ".datatable .vellipsis {  background: var(--jp-layout-color0);  color: var(--jp-cell-editor-border-color);}\n",
       ".datatable .na {  color: var(--jp-cell-editor-border-color);  font-size: 80%;}\n",
       ".datatable .sp {  opacity: 0.25;}\n",
       ".datatable .footer { font-size: 9px; }\n",
       ".datatable .frame_dimensions {  background: var(--jp-border-color3);  border-top: 1px solid var(--jp-border-color0);  color: var(--jp-ui-font-color3);  display: inline-block;  opacity: 0.6;  padding: 1px 10px 1px 5px;}\n",
       "</style>\n"
      ],
      "text/plain": [
       "<IPython.core.display.HTML object>"
      ]
     },
     "metadata": {},
     "output_type": "display_data"
    }
   ],
   "source": [
    "import pandas as pd\n",
    "import numpy as np\n",
    "import lightgbm as lgb\n",
    "import pickle\n",
    "import os\n",
    "import gc\n",
    "from sklearn.preprocessing import MinMaxScaler\n",
    "from matplotlib import pyplot as plt\n",
    "import seaborn as sns\n",
    "import time\n",
    "\n",
    "from utilities import (\n",
    "    RANDOM_STATE, TARGET_COL, N_FOLD, FOLD_STRAT_NAME, REDUCED_FOLD_NAME,\n",
    "    PARAMS_LGB_BASE\n",
    ")\n",
    "\n",
    "from train import (\n",
    "    train_feat_sel, feat_selection_pipeline\n",
    ")\n",
    "\n",
    "INPUT_PATH = '../input/tabular-playground-series-oct-2021'\n",
    "PATH_NOTEBOOK = '../input/preprocess'"
   ]
  },
  {
   "cell_type": "code",
   "execution_count": 2,
   "id": "081663c2",
   "metadata": {
    "execution": {
     "iopub.execute_input": "2021-10-11T16:52:26.632576Z",
     "iopub.status.busy": "2021-10-11T16:52:26.631860Z",
     "iopub.status.idle": "2021-10-11T16:52:37.628771Z",
     "shell.execute_reply": "2021-10-11T16:52:37.627983Z",
     "shell.execute_reply.started": "2021-10-08T12:09:34.898929Z"
    },
    "papermill": {
     "duration": 11.018631,
     "end_time": "2021-10-11T16:52:37.628926",
     "exception": false,
     "start_time": "2021-10-11T16:52:26.610295",
     "status": "completed"
    },
    "tags": []
   },
   "outputs": [],
   "source": [
    "train = pd.read_pickle(\n",
    "    os.path.join(PATH_NOTEBOOK, 'train_unscaled.pkl')\n",
    ")"
   ]
  },
  {
   "cell_type": "code",
   "execution_count": 3,
   "id": "138a4a7a",
   "metadata": {
    "execution": {
     "iopub.execute_input": "2021-10-11T16:52:37.668701Z",
     "iopub.status.busy": "2021-10-11T16:52:37.668028Z",
     "iopub.status.idle": "2021-10-11T16:52:37.677014Z",
     "shell.execute_reply": "2021-10-11T16:52:37.677580Z",
     "shell.execute_reply.started": "2021-10-08T12:09:44.800152Z"
    },
    "papermill": {
     "duration": 0.031546,
     "end_time": "2021-10-11T16:52:37.677763",
     "exception": false,
     "start_time": "2021-10-11T16:52:37.646217",
     "status": "completed"
    },
    "tags": []
   },
   "outputs": [],
   "source": [
    "with open(os.path.join(PATH_NOTEBOOK, 'feature_dic.pkl'), 'rb') as file:\n",
    "    feature_dic = pickle.load(file)"
   ]
  },
  {
   "cell_type": "markdown",
   "id": "c0b96b21",
   "metadata": {
    "papermill": {
     "duration": 0.017207,
     "end_time": "2021-10-11T16:52:37.712263",
     "exception": false,
     "start_time": "2021-10-11T16:52:37.695056",
     "status": "completed"
    },
    "tags": []
   },
   "source": [
    "# IMPORT DEL CLASS LIST"
   ]
  },
  {
   "cell_type": "code",
   "execution_count": 4,
   "id": "05cecf63",
   "metadata": {
    "execution": {
     "iopub.execute_input": "2021-10-11T16:52:37.752267Z",
     "iopub.status.busy": "2021-10-11T16:52:37.751586Z",
     "iopub.status.idle": "2021-10-11T16:52:37.761578Z",
     "shell.execute_reply": "2021-10-11T16:52:37.762069Z",
     "shell.execute_reply.started": "2021-10-08T12:09:55.208803Z"
    },
    "papermill": {
     "duration": 0.032896,
     "end_time": "2021-10-11T16:52:37.762253",
     "exception": false,
     "start_time": "2021-10-11T16:52:37.729357",
     "status": "completed"
    },
    "tags": []
   },
   "outputs": [],
   "source": [
    "with open(os.path.join(PATH_NOTEBOOK, 'possible_del_shift.pkl'), 'rb') as file:\n",
    "    possible_del_class = pickle.load(file)\n",
    "    \n",
    "possible_del_class = [x for _, x in possible_del_class[:50]]"
   ]
  },
  {
   "cell_type": "code",
   "execution_count": 5,
   "id": "4239ad26",
   "metadata": {
    "execution": {
     "iopub.execute_input": "2021-10-11T16:52:37.800135Z",
     "iopub.status.busy": "2021-10-11T16:52:37.799450Z",
     "iopub.status.idle": "2021-10-11T16:52:37.921847Z",
     "shell.execute_reply": "2021-10-11T16:52:37.921259Z",
     "shell.execute_reply.started": "2021-10-08T12:10:01.898046Z"
    },
    "papermill": {
     "duration": 0.142456,
     "end_time": "2021-10-11T16:52:37.922002",
     "exception": false,
     "start_time": "2021-10-11T16:52:37.779546",
     "status": "completed"
    },
    "tags": []
   },
   "outputs": [
    {
     "data": {
      "text/plain": [
       "42"
      ]
     },
     "execution_count": 5,
     "metadata": {},
     "output_type": "execute_result"
    }
   ],
   "source": [
    "#CONSTANT\n",
    "FEATURE = feature_dic['feature']\n",
    "CAT_COL = feature_dic['categorical']\n",
    "NUMERIC_COL = feature_dic['numerical']\n",
    "\n",
    "FOLD_LIST = list(range(N_FOLD))\n",
    "\n",
    "gc.collect()"
   ]
  },
  {
   "cell_type": "markdown",
   "id": "0790d1f7",
   "metadata": {
    "papermill": {
     "duration": 0.018714,
     "end_time": "2021-10-11T16:52:37.958298",
     "exception": false,
     "start_time": "2021-10-11T16:52:37.939584",
     "status": "completed"
    },
    "tags": []
   },
   "source": [
    "# FEATURE SELECTION PHASE\n",
    "Iterate over POSSIBLE_DEL_* list and take out 1 feature at time"
   ]
  },
  {
   "cell_type": "code",
   "execution_count": 6,
   "id": "80288da2",
   "metadata": {
    "execution": {
     "iopub.execute_input": "2021-10-11T16:52:38.008292Z",
     "iopub.status.busy": "2021-10-11T16:52:38.007145Z",
     "iopub.status.idle": "2021-10-11T19:02:05.126186Z",
     "shell.execute_reply": "2021-10-11T19:02:05.125584Z",
     "shell.execute_reply.started": "2021-10-08T12:10:03.695321Z"
    },
    "papermill": {
     "duration": 7767.149258,
     "end_time": "2021-10-11T19:02:05.126387",
     "exception": false,
     "start_time": "2021-10-11T16:52:37.977129",
     "status": "completed"
    },
    "tags": []
   },
   "outputs": [
    {
     "name": "stdout",
     "output_type": "stream",
     "text": [
      "\n",
      "\n",
      "\n"
     ]
    },
    {
     "name": "stderr",
     "output_type": "stream",
     "text": [
      "/opt/conda/lib/python3.7/site-packages/lightgbm/basic.py:1702: UserWarning: Using categorical_feature in Dataset.\n",
      "  _log_warning('Using categorical_feature in Dataset.')\n",
      "/opt/conda/lib/python3.7/site-packages/lightgbm/basic.py:1433: UserWarning: Overriding the parameters from Reference Dataset.\n",
      "  _log_warning('Overriding the parameters from Reference Dataset.')\n",
      "/opt/conda/lib/python3.7/site-packages/lightgbm/basic.py:1245: UserWarning: categorical_column in param dict is overridden.\n",
      "  _log_warning('{} in param dict is overridden.'.format(cat_alias))\n"
     ]
    },
    {
     "name": "stdout",
     "output_type": "stream",
     "text": [
      "Training until validation scores don't improve for 30 rounds\n",
      "Early stopping, best iteration is:\n",
      "[177]\tvalidation's auc: 0.845205\n",
      "Base score: 0.845205\n",
      "\n",
      "\n",
      "\n",
      "Minute one iteration: 2.1; All iteration: 103.3\n",
      "\n",
      "\n",
      "\n",
      "Training until validation scores don't improve for 30 rounds\n",
      "Early stopping, best iteration is:\n",
      "[263]\tvalidation's auc: 0.845476\n",
      "\n",
      "\n",
      "Feature f244 dropped. Delta AUC: 0.000272\n",
      "\n",
      "\n",
      "Training until validation scores don't improve for 30 rounds\n",
      "Early stopping, best iteration is:\n",
      "[287]\tvalidation's auc: 0.845359\n",
      "Training until validation scores don't improve for 30 rounds\n",
      "Early stopping, best iteration is:\n",
      "[202]\tvalidation's auc: 0.845996\n",
      "\n",
      "\n",
      "Feature f251 dropped. Delta AUC: 0.000520\n",
      "\n",
      "\n",
      "Training until validation scores don't improve for 30 rounds\n",
      "Early stopping, best iteration is:\n",
      "[218]\tvalidation's auc: 0.844945\n",
      "Training until validation scores don't improve for 30 rounds\n",
      "Early stopping, best iteration is:\n",
      "[254]\tvalidation's auc: 0.846082\n",
      "\n",
      "\n",
      "Feature f152 dropped. Delta AUC: 0.000086\n",
      "\n",
      "\n",
      "Training until validation scores don't improve for 30 rounds\n",
      "Early stopping, best iteration is:\n",
      "[285]\tvalidation's auc: 0.846231\n",
      "\n",
      "\n",
      "Feature f130 dropped. Delta AUC: 0.000148\n",
      "\n",
      "\n",
      "Training until validation scores don't improve for 30 rounds\n",
      "Early stopping, best iteration is:\n",
      "[262]\tvalidation's auc: 0.845016\n",
      "Training until validation scores don't improve for 30 rounds\n",
      "Early stopping, best iteration is:\n",
      "[233]\tvalidation's auc: 0.845002\n",
      "Training until validation scores don't improve for 30 rounds\n",
      "Early stopping, best iteration is:\n",
      "[271]\tvalidation's auc: 0.845309\n",
      "Training until validation scores don't improve for 30 rounds\n",
      "Early stopping, best iteration is:\n",
      "[307]\tvalidation's auc: 0.845272\n",
      "Training until validation scores don't improve for 30 rounds\n",
      "Early stopping, best iteration is:\n",
      "[304]\tvalidation's auc: 0.844915\n",
      "Training until validation scores don't improve for 30 rounds\n",
      "Early stopping, best iteration is:\n",
      "[236]\tvalidation's auc: 0.844837\n",
      "Training until validation scores don't improve for 30 rounds\n",
      "Early stopping, best iteration is:\n",
      "[293]\tvalidation's auc: 0.845283\n",
      "Training until validation scores don't improve for 30 rounds\n",
      "Early stopping, best iteration is:\n",
      "[312]\tvalidation's auc: 0.845262\n",
      "Training until validation scores don't improve for 30 rounds\n",
      "Early stopping, best iteration is:\n",
      "[206]\tvalidation's auc: 0.844128\n",
      "Training until validation scores don't improve for 30 rounds\n",
      "Early stopping, best iteration is:\n",
      "[231]\tvalidation's auc: 0.844622\n",
      "Training until validation scores don't improve for 30 rounds\n",
      "Early stopping, best iteration is:\n",
      "[268]\tvalidation's auc: 0.844939\n",
      "Training until validation scores don't improve for 30 rounds\n",
      "Early stopping, best iteration is:\n",
      "[239]\tvalidation's auc: 0.844743\n",
      "Training until validation scores don't improve for 30 rounds\n",
      "Early stopping, best iteration is:\n",
      "[189]\tvalidation's auc: 0.844293\n",
      "Training until validation scores don't improve for 30 rounds\n",
      "Early stopping, best iteration is:\n",
      "[266]\tvalidation's auc: 0.845706\n",
      "Training until validation scores don't improve for 30 rounds\n",
      "Early stopping, best iteration is:\n",
      "[200]\tvalidation's auc: 0.845412\n",
      "Training until validation scores don't improve for 30 rounds\n",
      "Early stopping, best iteration is:\n",
      "[318]\tvalidation's auc: 0.845281\n",
      "Training until validation scores don't improve for 30 rounds\n",
      "Early stopping, best iteration is:\n",
      "[272]\tvalidation's auc: 0.844505\n",
      "Training until validation scores don't improve for 30 rounds\n",
      "Early stopping, best iteration is:\n",
      "[236]\tvalidation's auc: 0.845704\n",
      "Training until validation scores don't improve for 30 rounds\n",
      "Early stopping, best iteration is:\n",
      "[278]\tvalidation's auc: 0.845171\n",
      "Training until validation scores don't improve for 30 rounds\n",
      "Early stopping, best iteration is:\n",
      "[168]\tvalidation's auc: 0.845029\n",
      "Training until validation scores don't improve for 30 rounds\n",
      "Early stopping, best iteration is:\n",
      "[207]\tvalidation's auc: 0.845537\n",
      "Training until validation scores don't improve for 30 rounds\n",
      "Early stopping, best iteration is:\n",
      "[295]\tvalidation's auc: 0.845355\n",
      "Training until validation scores don't improve for 30 rounds\n",
      "Early stopping, best iteration is:\n",
      "[260]\tvalidation's auc: 0.845575\n",
      "Training until validation scores don't improve for 30 rounds\n",
      "Early stopping, best iteration is:\n",
      "[236]\tvalidation's auc: 0.844843\n",
      "Training until validation scores don't improve for 30 rounds\n",
      "Early stopping, best iteration is:\n",
      "[208]\tvalidation's auc: 0.845054\n",
      "Training until validation scores don't improve for 30 rounds\n",
      "Early stopping, best iteration is:\n",
      "[223]\tvalidation's auc: 0.844847\n",
      "Training until validation scores don't improve for 30 rounds\n",
      "Early stopping, best iteration is:\n",
      "[286]\tvalidation's auc: 0.846083\n",
      "Training until validation scores don't improve for 30 rounds\n",
      "Early stopping, best iteration is:\n",
      "[199]\tvalidation's auc: 0.845725\n",
      "Training until validation scores don't improve for 30 rounds\n",
      "Early stopping, best iteration is:\n",
      "[209]\tvalidation's auc: 0.845195\n",
      "Training until validation scores don't improve for 30 rounds\n",
      "Early stopping, best iteration is:\n",
      "[250]\tvalidation's auc: 0.845107\n",
      "Training until validation scores don't improve for 30 rounds\n",
      "Early stopping, best iteration is:\n",
      "[221]\tvalidation's auc: 0.844422\n",
      "Training until validation scores don't improve for 30 rounds\n",
      "Early stopping, best iteration is:\n",
      "[269]\tvalidation's auc: 0.845163\n",
      "Training until validation scores don't improve for 30 rounds\n",
      "Early stopping, best iteration is:\n",
      "[194]\tvalidation's auc: 0.844432\n",
      "Training until validation scores don't improve for 30 rounds\n",
      "Early stopping, best iteration is:\n",
      "[316]\tvalidation's auc: 0.844909\n",
      "Training until validation scores don't improve for 30 rounds\n",
      "Early stopping, best iteration is:\n",
      "[262]\tvalidation's auc: 0.845058\n",
      "Training until validation scores don't improve for 30 rounds\n",
      "Early stopping, best iteration is:\n",
      "[289]\tvalidation's auc: 0.844872\n",
      "Training until validation scores don't improve for 30 rounds\n",
      "Early stopping, best iteration is:\n",
      "[197]\tvalidation's auc: 0.845195\n",
      "Training until validation scores don't improve for 30 rounds\n",
      "Early stopping, best iteration is:\n",
      "[288]\tvalidation's auc: 0.846293\n",
      "\n",
      "\n",
      "Feature f114 dropped. Delta AUC: 0.000062\n",
      "\n",
      "\n",
      "Training until validation scores don't improve for 30 rounds\n",
      "Early stopping, best iteration is:\n",
      "[248]\tvalidation's auc: 0.845706\n",
      "Training until validation scores don't improve for 30 rounds\n",
      "Early stopping, best iteration is:\n",
      "[251]\tvalidation's auc: 0.845094\n",
      "Training until validation scores don't improve for 30 rounds\n",
      "Early stopping, best iteration is:\n",
      "[253]\tvalidation's auc: 0.843395\n",
      "Training until validation scores don't improve for 30 rounds\n",
      "Early stopping, best iteration is:\n",
      "[249]\tvalidation's auc: 0.84538\n",
      "Training until validation scores don't improve for 30 rounds\n",
      "Early stopping, best iteration is:\n",
      "[247]\tvalidation's auc: 0.845396\n",
      "Training until validation scores don't improve for 30 rounds\n",
      "Early stopping, best iteration is:\n",
      "[251]\tvalidation's auc: 0.845271\n",
      "Delta AUC: 0.001088098688098671; Number of feature dropped: 5\n",
      "\n",
      "\n",
      "CPU times: user 2h 8min 58s, sys: 27.1 s, total: 2h 9min 25s\n",
      "Wall time: 2h 9min 27s\n"
     ]
    }
   ],
   "source": [
    "%%time\n",
    "del_list = feat_selection_pipeline(data = train, feature_list = FEATURE, possible_del_list = possible_del_class,  \n",
    "                            params = PARAMS_LGB_BASE, cat_col = CAT_COL, target_name = TARGET_COL, \n",
    "                            fold_strat_name = REDUCED_FOLD_NAME, new_learning_rate = .05, \n",
    "                            verbose_eval = -1, early_stopping_rounds = 30)"
   ]
  },
  {
   "cell_type": "markdown",
   "id": "6ccb631f",
   "metadata": {
    "papermill": {
     "duration": 0.050714,
     "end_time": "2021-10-11T19:02:05.228044",
     "exception": false,
     "start_time": "2021-10-11T19:02:05.177330",
     "status": "completed"
    },
    "tags": []
   },
   "source": [
    "# TRAIN"
   ]
  },
  {
   "cell_type": "code",
   "execution_count": 7,
   "id": "9974b5a1",
   "metadata": {
    "execution": {
     "iopub.execute_input": "2021-10-11T19:02:05.343087Z",
     "iopub.status.busy": "2021-10-11T19:02:05.342335Z",
     "iopub.status.idle": "2021-10-11T19:02:05.346347Z",
     "shell.execute_reply": "2021-10-11T19:02:05.346825Z",
     "shell.execute_reply.started": "2021-10-08T07:06:17.234974Z"
    },
    "papermill": {
     "duration": 0.06794,
     "end_time": "2021-10-11T19:02:05.347003",
     "exception": false,
     "start_time": "2021-10-11T19:02:05.279063",
     "status": "completed"
    },
    "tags": []
   },
   "outputs": [
    {
     "data": {
      "text/plain": [
       "['f244', 'f251', 'f152', 'f130', 'f114']"
      ]
     },
     "execution_count": 7,
     "metadata": {},
     "output_type": "execute_result"
    }
   ],
   "source": [
    "del_list"
   ]
  },
  {
   "cell_type": "code",
   "execution_count": 8,
   "id": "ffb285ef",
   "metadata": {
    "execution": {
     "iopub.execute_input": "2021-10-11T19:02:05.454267Z",
     "iopub.status.busy": "2021-10-11T19:02:05.453660Z",
     "iopub.status.idle": "2021-10-11T19:02:05.458519Z",
     "shell.execute_reply": "2021-10-11T19:02:05.459017Z",
     "shell.execute_reply.started": "2021-10-08T07:06:17.273167Z"
    },
    "papermill": {
     "duration": 0.06089,
     "end_time": "2021-10-11T19:02:05.459182",
     "exception": false,
     "start_time": "2021-10-11T19:02:05.398292",
     "status": "completed"
    },
    "tags": []
   },
   "outputs": [],
   "source": [
    "FEATURE = [x for x in FEATURE if x not in del_list]\n",
    "CAT_COL = [x for x in CAT_COL if x not in del_list]\n",
    "NUMERIC_COL = [x for x in NUMERIC_COL if x not in del_list]\n",
    "\n",
    "feature_dic = {\n",
    "    'feature': FEATURE,\n",
    "    'categorical': CAT_COL,\n",
    "    'numerical': NUMERIC_COL,\n",
    "}"
   ]
  },
  {
   "cell_type": "code",
   "execution_count": 9,
   "id": "1c4cf9d1",
   "metadata": {
    "execution": {
     "iopub.execute_input": "2021-10-11T19:02:05.573714Z",
     "iopub.status.busy": "2021-10-11T19:02:05.572998Z",
     "iopub.status.idle": "2021-10-11T20:19:28.534181Z",
     "shell.execute_reply": "2021-10-11T20:19:28.534887Z",
     "shell.execute_reply.started": "2021-10-08T07:06:17.275431Z"
    },
    "papermill": {
     "duration": 4643.024751,
     "end_time": "2021-10-11T20:19:28.535536",
     "exception": false,
     "start_time": "2021-10-11T19:02:05.510785",
     "status": "completed"
    },
    "tags": []
   },
   "outputs": [
    {
     "name": "stdout",
     "output_type": "stream",
     "text": [
      "Training until validation scores don't improve for 30 rounds\n",
      "[20]\tvalidation's auc: 0.839549\n",
      "[40]\tvalidation's auc: 0.842258\n",
      "[60]\tvalidation's auc: 0.844474\n",
      "[80]\tvalidation's auc: 0.846381\n",
      "[100]\tvalidation's auc: 0.847842\n",
      "[120]\tvalidation's auc: 0.849322\n",
      "[140]\tvalidation's auc: 0.850532\n",
      "[160]\tvalidation's auc: 0.851376\n",
      "[180]\tvalidation's auc: 0.852023\n",
      "[200]\tvalidation's auc: 0.852598\n",
      "[220]\tvalidation's auc: 0.853008\n",
      "[240]\tvalidation's auc: 0.853335\n",
      "[260]\tvalidation's auc: 0.85358\n",
      "[280]\tvalidation's auc: 0.853711\n",
      "[300]\tvalidation's auc: 0.853868\n",
      "[320]\tvalidation's auc: 0.853953\n",
      "[340]\tvalidation's auc: 0.854047\n",
      "[360]\tvalidation's auc: 0.854129\n",
      "[380]\tvalidation's auc: 0.854197\n",
      "[400]\tvalidation's auc: 0.854254\n",
      "[420]\tvalidation's auc: 0.854206\n",
      "Early stopping, best iteration is:\n",
      "[396]\tvalidation's auc: 0.854269\n",
      "\n",
      "Fold: 0; Auc: 0.85427\n",
      "\n",
      "--------------------------------------------------\n",
      "\n",
      "\n",
      "\n",
      "\n",
      "Training until validation scores don't improve for 30 rounds\n",
      "[20]\tvalidation's auc: 0.838733\n",
      "[40]\tvalidation's auc: 0.841608\n",
      "[60]\tvalidation's auc: 0.843883\n",
      "[80]\tvalidation's auc: 0.845888\n",
      "[100]\tvalidation's auc: 0.84728\n",
      "[120]\tvalidation's auc: 0.848717\n",
      "[140]\tvalidation's auc: 0.849895\n",
      "[160]\tvalidation's auc: 0.85075\n",
      "[180]\tvalidation's auc: 0.851381\n",
      "[200]\tvalidation's auc: 0.85193\n",
      "[220]\tvalidation's auc: 0.852356\n",
      "[240]\tvalidation's auc: 0.852689\n",
      "[260]\tvalidation's auc: 0.852955\n",
      "[280]\tvalidation's auc: 0.853137\n",
      "[300]\tvalidation's auc: 0.853338\n",
      "[320]\tvalidation's auc: 0.853442\n",
      "[340]\tvalidation's auc: 0.853549\n",
      "[360]\tvalidation's auc: 0.853663\n",
      "[380]\tvalidation's auc: 0.853726\n",
      "[400]\tvalidation's auc: 0.853795\n",
      "[420]\tvalidation's auc: 0.853796\n",
      "[440]\tvalidation's auc: 0.853788\n",
      "[460]\tvalidation's auc: 0.853805\n",
      "[480]\tvalidation's auc: 0.853752\n",
      "Early stopping, best iteration is:\n",
      "[451]\tvalidation's auc: 0.853817\n",
      "\n",
      "Fold: 1; Auc: 0.85382\n",
      "\n",
      "--------------------------------------------------\n",
      "\n",
      "\n",
      "\n",
      "\n",
      "Training until validation scores don't improve for 30 rounds\n",
      "[20]\tvalidation's auc: 0.839853\n",
      "[40]\tvalidation's auc: 0.842599\n",
      "[60]\tvalidation's auc: 0.844872\n",
      "[80]\tvalidation's auc: 0.846655\n",
      "[100]\tvalidation's auc: 0.848058\n",
      "[120]\tvalidation's auc: 0.849592\n",
      "[140]\tvalidation's auc: 0.850785\n",
      "[160]\tvalidation's auc: 0.851633\n",
      "[180]\tvalidation's auc: 0.852272\n",
      "[200]\tvalidation's auc: 0.852778\n",
      "[220]\tvalidation's auc: 0.853091\n",
      "[240]\tvalidation's auc: 0.853385\n",
      "[260]\tvalidation's auc: 0.853601\n",
      "[280]\tvalidation's auc: 0.85381\n",
      "[300]\tvalidation's auc: 0.853967\n",
      "[320]\tvalidation's auc: 0.85414\n",
      "[340]\tvalidation's auc: 0.854204\n",
      "[360]\tvalidation's auc: 0.854261\n",
      "[380]\tvalidation's auc: 0.85428\n",
      "[400]\tvalidation's auc: 0.854283\n",
      "Early stopping, best iteration is:\n",
      "[389]\tvalidation's auc: 0.854307\n",
      "\n",
      "Fold: 2; Auc: 0.85431\n",
      "\n",
      "--------------------------------------------------\n",
      "\n",
      "\n",
      "\n",
      "\n",
      "Training until validation scores don't improve for 30 rounds\n",
      "[20]\tvalidation's auc: 0.840301\n",
      "[40]\tvalidation's auc: 0.842936\n",
      "[60]\tvalidation's auc: 0.845159\n",
      "[80]\tvalidation's auc: 0.846929\n",
      "[100]\tvalidation's auc: 0.848314\n",
      "[120]\tvalidation's auc: 0.849781\n",
      "[140]\tvalidation's auc: 0.85083\n",
      "[160]\tvalidation's auc: 0.851662\n",
      "[180]\tvalidation's auc: 0.852265\n",
      "[200]\tvalidation's auc: 0.852737\n",
      "[220]\tvalidation's auc: 0.853117\n",
      "[240]\tvalidation's auc: 0.853385\n",
      "[260]\tvalidation's auc: 0.853606\n",
      "[280]\tvalidation's auc: 0.853763\n",
      "[300]\tvalidation's auc: 0.853865\n",
      "[320]\tvalidation's auc: 0.853974\n",
      "[340]\tvalidation's auc: 0.854086\n",
      "[360]\tvalidation's auc: 0.854116\n",
      "[380]\tvalidation's auc: 0.854148\n",
      "[400]\tvalidation's auc: 0.854185\n",
      "[420]\tvalidation's auc: 0.854222\n",
      "[440]\tvalidation's auc: 0.854206\n",
      "Early stopping, best iteration is:\n",
      "[420]\tvalidation's auc: 0.854222\n",
      "\n",
      "Fold: 3; Auc: 0.85422\n",
      "\n",
      "--------------------------------------------------\n",
      "\n",
      "\n",
      "\n",
      "\n",
      "Training until validation scores don't improve for 30 rounds\n",
      "[20]\tvalidation's auc: 0.839331\n",
      "[40]\tvalidation's auc: 0.842028\n",
      "[60]\tvalidation's auc: 0.84428\n",
      "[80]\tvalidation's auc: 0.846114\n",
      "[100]\tvalidation's auc: 0.84746\n",
      "[120]\tvalidation's auc: 0.848924\n",
      "[140]\tvalidation's auc: 0.85006\n",
      "[160]\tvalidation's auc: 0.850922\n",
      "[180]\tvalidation's auc: 0.851536\n",
      "[200]\tvalidation's auc: 0.852108\n",
      "[220]\tvalidation's auc: 0.852479\n",
      "[240]\tvalidation's auc: 0.852809\n",
      "[260]\tvalidation's auc: 0.853041\n",
      "[280]\tvalidation's auc: 0.853232\n",
      "[300]\tvalidation's auc: 0.853343\n",
      "[320]\tvalidation's auc: 0.853436\n",
      "[340]\tvalidation's auc: 0.85348\n",
      "[360]\tvalidation's auc: 0.853565\n",
      "[380]\tvalidation's auc: 0.853609\n",
      "[400]\tvalidation's auc: 0.853628\n",
      "[420]\tvalidation's auc: 0.853652\n",
      "[440]\tvalidation's auc: 0.85366\n",
      "[460]\tvalidation's auc: 0.853643\n",
      "Early stopping, best iteration is:\n",
      "[434]\tvalidation's auc: 0.853696\n",
      "\n",
      "Fold: 4; Auc: 0.85370\n",
      "\n",
      "--------------------------------------------------\n",
      "\n",
      "\n",
      "\n",
      "\n",
      "CV-Auc: 0.85406\n",
      "\n"
     ]
    }
   ],
   "source": [
    "score = 0\n",
    "model_list = []\n",
    "\n",
    "for i, fold_ in enumerate(FOLD_LIST):\n",
    "\n",
    "    mask_train = (train[FOLD_STRAT_NAME] != fold_)\n",
    "    mask_test = (train[FOLD_STRAT_NAME] == fold_)\n",
    "    \n",
    "    \n",
    "    train_x, train_y = train.loc[mask_train, FEATURE], train.loc[mask_train, TARGET_COL]\n",
    "    test_x, test_y = train.loc[mask_test, FEATURE], train.loc[mask_test, TARGET_COL]\n",
    "\n",
    "    model = lgb.train(\n",
    "        PARAMS_LGB_BASE,\n",
    "        lgb.Dataset(train_x, label=train_y,categorical_feature=CAT_COL), 100000,\n",
    "        valid_sets = lgb.Dataset(test_x, label=test_y,categorical_feature=CAT_COL),\n",
    "        valid_names ='validation', verbose_eval=20, early_stopping_rounds = 30,\n",
    "    )\n",
    "    \n",
    "    #evaluate score and save model for importance/prediction\n",
    "    score_fold = model.best_score['validation']['auc'] \n",
    "    score += score_fold/N_FOLD\n",
    "    \n",
    "    model_list.append(model)\n",
    "    \n",
    "    print('\\nFold: {}; Auc: {:.5f}\\n'.format(fold_, score_fold))\n",
    "    print('-'*50)\n",
    "    print('\\n\\n\\n')\n",
    "    gc.collect()\n",
    "    \n",
    "print('CV-Auc: {:.5f}\\n'.format(score))"
   ]
  },
  {
   "cell_type": "markdown",
   "id": "f0e8ff19",
   "metadata": {
    "papermill": {
     "duration": 0.088036,
     "end_time": "2021-10-11T20:19:28.712261",
     "exception": false,
     "start_time": "2021-10-11T20:19:28.624225",
     "status": "completed"
    },
    "tags": []
   },
   "source": [
    "# Feature importance"
   ]
  },
  {
   "cell_type": "code",
   "execution_count": 10,
   "id": "38c3075c",
   "metadata": {
    "execution": {
     "iopub.execute_input": "2021-10-11T20:19:29.040007Z",
     "iopub.status.busy": "2021-10-11T20:19:29.039275Z",
     "iopub.status.idle": "2021-10-11T20:19:29.049860Z",
     "shell.execute_reply": "2021-10-11T20:19:29.049218Z",
     "shell.execute_reply.started": "2021-10-08T07:06:17.277589Z"
    },
    "papermill": {
     "duration": 0.109576,
     "end_time": "2021-10-11T20:19:29.050002",
     "exception": false,
     "start_time": "2021-10-11T20:19:28.940426",
     "status": "completed"
    },
    "tags": []
   },
   "outputs": [],
   "source": [
    "feature_importances = pd.DataFrame()\n",
    "feature_importances['feature'] = FEATURE\n",
    "\n",
    "\n",
    "for fold_, model in enumerate(model_list):\n",
    "    feature_importances['fold_{}'.format(fold_ + 1)] = model.feature_importance(importance_type='gain')"
   ]
  },
  {
   "cell_type": "code",
   "execution_count": 11,
   "id": "9e9b1934",
   "metadata": {
    "execution": {
     "iopub.execute_input": "2021-10-11T20:19:29.232672Z",
     "iopub.status.busy": "2021-10-11T20:19:29.231682Z",
     "iopub.status.idle": "2021-10-11T20:19:30.024554Z",
     "shell.execute_reply": "2021-10-11T20:19:30.024000Z"
    },
    "papermill": {
     "duration": 0.886047,
     "end_time": "2021-10-11T20:19:30.024695",
     "exception": false,
     "start_time": "2021-10-11T20:19:29.138648",
     "status": "completed"
    },
    "tags": []
   },
   "outputs": [
    {
     "data": {
      "text/plain": [
       "Text(0.5, 1.0, '50 TOP feature importance over 5 average')"
      ]
     },
     "execution_count": 11,
     "metadata": {},
     "output_type": "execute_result"
    },
    {
     "data": {
      "image/png": "[encoded data removed]",
      "text/plain": [
       "<Figure size 864x576 with 1 Axes>"
      ]
     },
     "metadata": {
      "needs_background": "light"
     },
     "output_type": "display_data"
    }
   ],
   "source": [
    "scaler = MinMaxScaler(feature_range=(0, 100))\n",
    "\n",
    "average_importance = feature_importances.drop('feature', axis = 1).mean(axis=1)\n",
    "\n",
    "feature_importances['average'] = scaler.fit_transform(X=pd.DataFrame(average_importance))\n",
    "feature_importances = feature_importances.sort_values(by='average', ascending=False)\n",
    "\n",
    "feature_importances[['feature', 'average']].to_csv('feature_importances.csv',index=False)\n",
    "\n",
    "fig = plt.figure(figsize=(12,8))\n",
    "sns.barplot(data=feature_importances.head(50), x='average', y='feature');\n",
    "plt.title(f'50 TOP feature importance over {N_FOLD} average')"
   ]
  },
  {
   "cell_type": "markdown",
   "id": "8d779ca8",
   "metadata": {
    "papermill": {
     "duration": 0.089929,
     "end_time": "2021-10-11T20:19:30.205308",
     "exception": false,
     "start_time": "2021-10-11T20:19:30.115379",
     "status": "completed"
    },
    "tags": []
   },
   "source": [
    "# TEST Blending"
   ]
  },
  {
   "cell_type": "code",
   "execution_count": 12,
   "id": "776cb0d6",
   "metadata": {
    "execution": {
     "iopub.execute_input": "2021-10-11T20:19:30.581780Z",
     "iopub.status.busy": "2021-10-11T20:19:30.580710Z",
     "iopub.status.idle": "2021-10-11T20:19:30.585906Z",
     "shell.execute_reply": "2021-10-11T20:19:30.585221Z"
    },
    "papermill": {
     "duration": 0.290592,
     "end_time": "2021-10-11T20:19:30.586051",
     "exception": false,
     "start_time": "2021-10-11T20:19:30.295459",
     "status": "completed"
    },
    "tags": []
   },
   "outputs": [
    {
     "data": {
      "text/plain": [
       "36"
      ]
     },
     "execution_count": 12,
     "metadata": {},
     "output_type": "execute_result"
    }
   ],
   "source": [
    "del train\n",
    "gc.collect()"
   ]
  },
  {
   "cell_type": "code",
   "execution_count": 13,
   "id": "e046b5d9",
   "metadata": {
    "execution": {
     "iopub.execute_input": "2021-10-11T20:19:30.772391Z",
     "iopub.status.busy": "2021-10-11T20:19:30.771370Z",
     "iopub.status.idle": "2021-10-11T20:19:37.806852Z",
     "shell.execute_reply": "2021-10-11T20:19:37.806232Z"
    },
    "papermill": {
     "duration": 7.12958,
     "end_time": "2021-10-11T20:19:37.807018",
     "exception": false,
     "start_time": "2021-10-11T20:19:30.677438",
     "status": "completed"
    },
    "tags": []
   },
   "outputs": [],
   "source": [
    "test = pd.read_pickle(\n",
    "    os.path.join(PATH_NOTEBOOK, 'test_unscaled.pkl')\n",
    ")"
   ]
  },
  {
   "cell_type": "code",
   "execution_count": 14,
   "id": "0e1bdcc9",
   "metadata": {
    "execution": {
     "iopub.execute_input": "2021-10-11T20:19:37.997853Z",
     "iopub.status.busy": "2021-10-11T20:19:37.996956Z",
     "iopub.status.idle": "2021-10-11T20:23:52.439933Z",
     "shell.execute_reply": "2021-10-11T20:23:52.440584Z"
    },
    "papermill": {
     "duration": 254.542026,
     "end_time": "2021-10-11T20:23:52.440808",
     "exception": false,
     "start_time": "2021-10-11T20:19:37.898782",
     "status": "completed"
    },
    "tags": []
   },
   "outputs": [],
   "source": [
    "pred_test = np.zeros(test.shape[0])\n",
    "\n",
    "for fold_, model in enumerate(model_list):\n",
    "    pred_test += model.predict(test[FEATURE])/N_FOLD\n"
   ]
  },
  {
   "cell_type": "markdown",
   "id": "43e69b94",
   "metadata": {
    "papermill": {
     "duration": 0.090484,
     "end_time": "2021-10-11T20:23:52.623344",
     "exception": false,
     "start_time": "2021-10-11T20:23:52.532860",
     "status": "completed"
    },
    "tags": []
   },
   "source": [
    "# SAVE RESULT"
   ]
  },
  {
   "cell_type": "code",
   "execution_count": 15,
   "id": "6c67a4fd",
   "metadata": {
    "execution": {
     "iopub.execute_input": "2021-10-11T20:23:52.810235Z",
     "iopub.status.busy": "2021-10-11T20:23:52.809511Z",
     "iopub.status.idle": "2021-10-11T20:23:52.811598Z",
     "shell.execute_reply": "2021-10-11T20:23:52.812103Z"
    },
    "papermill": {
     "duration": 0.098462,
     "end_time": "2021-10-11T20:23:52.812287",
     "exception": false,
     "start_time": "2021-10-11T20:23:52.713825",
     "status": "completed"
    },
    "tags": []
   },
   "outputs": [],
   "source": [
    "#FINDED NEW FEATURE\n",
    "with open('feature_dic.pkl', 'wb') as file_name:\n",
    "    pickle.dump(feature_dic, file_name)"
   ]
  },
  {
   "cell_type": "code",
   "execution_count": 16,
   "id": "3930fe50",
   "metadata": {
    "execution": {
     "iopub.execute_input": "2021-10-11T20:23:52.996605Z",
     "iopub.status.busy": "2021-10-11T20:23:52.995867Z",
     "iopub.status.idle": "2021-10-11T20:23:55.101393Z",
     "shell.execute_reply": "2021-10-11T20:23:55.101911Z"
    },
    "papermill": {
     "duration": 2.198849,
     "end_time": "2021-10-11T20:23:55.102097",
     "exception": false,
     "start_time": "2021-10-11T20:23:52.903248",
     "status": "completed"
    },
    "tags": []
   },
   "outputs": [],
   "source": [
    "submission = pd.read_csv(os.path.join(INPUT_PATH, 'sample_submission.csv'))\n",
    "submission['target'] = pred_test\n",
    "\n",
    "submission.to_csv('submission.csv', index = False)"
   ]
  }
 ],
 "metadata": {
  "kernelspec": {
   "display_name": "Python 3",
   "language": "python",
   "name": "python3"
  },
  "language_info": {
   "codemirror_mode": {
    "name": "ipython",
    "version": 3
   },
   "file_extension": ".py",
   "mimetype": "text/x-python",
   "name": "python",
   "nbconvert_exporter": "python",
   "pygments_lexer": "ipython3",
   "version": "3.7.10"
  },
  "papermill": {
   "default_parameters": {},
   "duration": 12700.179878,
   "end_time": "2021-10-11T20:23:56.004607",
   "environment_variables": {},
   "exception": null,
   "input_path": "__notebook__.ipynb",
   "output_path": "__notebook__.ipynb",
   "parameters": {},
   "start_time": "2021-10-11T16:52:15.824729",
   "version": "2.3.3"
  }
 },
 "nbformat": 4,
 "nbformat_minor": 5
}
