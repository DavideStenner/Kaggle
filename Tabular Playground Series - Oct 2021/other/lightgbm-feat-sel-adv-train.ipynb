{
 "cells": [
  {
   "cell_type": "code",
   "execution_count": 1,
   "id": "936e7155",
   "metadata": {
    "_cell_guid": "b1076dfc-b9ad-4769-8c92-a6c4dae69d19",
    "_uuid": "8f2839f25d086af736a60e9eeb907d3b93b6e0e5",
    "execution": {
     "iopub.execute_input": "2021-10-11T16:51:37.860623Z",
     "iopub.status.busy": "2021-10-11T16:51:37.859410Z",
     "iopub.status.idle": "2021-10-11T16:51:40.380534Z",
     "shell.execute_reply": "2021-10-11T16:51:40.381150Z",
     "shell.execute_reply.started": "2021-10-08T10:43:10.962178Z"
    },
    "papermill": {
     "duration": 2.544539,
     "end_time": "2021-10-11T16:51:40.381541",
     "exception": false,
     "start_time": "2021-10-11T16:51:37.837002",
     "status": "completed"
    },
    "tags": []
   },
   "outputs": [
    {
     "data": {
      "text/html": [
       "<style type='text/css'>\n",
       ".datatable table.frame { margin-bottom: 0; }\n",
       ".datatable table.frame thead { border-bottom: none; }\n",
       ".datatable table.frame tr.coltypes td {  color: #FFFFFF;  line-height: 6px;  padding: 0 0.5em;}\n",
       ".datatable .bool    { background: #DDDD99; }\n",
       ".datatable .object  { background: #565656; }\n",
       ".datatable .int     { background: #5D9E5D; }\n",
       ".datatable .float   { background: #4040CC; }\n",
       ".datatable .str     { background: #CC4040; }\n",
       ".datatable .time    { background: #40CC40; }\n",
       ".datatable .row_index {  background: var(--jp-border-color3);  border-right: 1px solid var(--jp-border-color0);  color: var(--jp-ui-font-color3);  font-size: 9px;}\n",
       ".datatable .frame tbody td { text-align: left; }\n",
       ".datatable .frame tr.coltypes .row_index {  background: var(--jp-border-color0);}\n",
       ".datatable th:nth-child(2) { padding-left: 12px; }\n",
       ".datatable .hellipsis {  color: var(--jp-cell-editor-border-color);}\n",
       ".datatable .vellipsis {  background: var(--jp-layout-color0);  color: var(--jp-cell-editor-border-color);}\n",
       ".datatable .na {  color: var(--jp-cell-editor-border-color);  font-size: 80%;}\n",
       ".datatable .sp {  opacity: 0.25;}\n",
       ".datatable .footer { font-size: 9px; }\n",
       ".datatable .frame_dimensions {  background: var(--jp-border-color3);  border-top: 1px solid var(--jp-border-color0);  color: var(--jp-ui-font-color3);  display: inline-block;  opacity: 0.6;  padding: 1px 10px 1px 5px;}\n",
       "</style>\n"
      ],
      "text/plain": [
       "<IPython.core.display.HTML object>"
      ]
     },
     "metadata": {},
     "output_type": "display_data"
    }
   ],
   "source": [
    "import pandas as pd\n",
    "import numpy as np\n",
    "import lightgbm as lgb\n",
    "import pickle\n",
    "import os\n",
    "import gc\n",
    "from sklearn.preprocessing import MinMaxScaler\n",
    "from matplotlib import pyplot as plt\n",
    "import seaborn as sns\n",
    "import time\n",
    "\n",
    "from utilities import (\n",
    "    RANDOM_STATE, TARGET_COL, N_FOLD, FOLD_STRAT_NAME, REDUCED_FOLD_NAME,\n",
    "    PARAMS_LGB_BASE\n",
    ")\n",
    "\n",
    "from train import (\n",
    "    train_feat_sel, feat_selection_pipeline\n",
    ")\n",
    "\n",
    "INPUT_PATH = '../input/tabular-playground-series-oct-2021'\n",
    "PATH_NOTEBOOK = '../input/preprocess'\n",
    "\n",
    "PATH_FEATURE = '../input/adversarial-training'"
   ]
  },
  {
   "cell_type": "code",
   "execution_count": 2,
   "id": "7ad77a1c",
   "metadata": {
    "execution": {
     "iopub.execute_input": "2021-10-11T16:51:40.423565Z",
     "iopub.status.busy": "2021-10-11T16:51:40.422505Z",
     "iopub.status.idle": "2021-10-11T16:51:54.565448Z",
     "shell.execute_reply": "2021-10-11T16:51:54.564798Z",
     "shell.execute_reply.started": "2021-10-08T10:43:13.609867Z"
    },
    "papermill": {
     "duration": 14.165188,
     "end_time": "2021-10-11T16:51:54.565613",
     "exception": false,
     "start_time": "2021-10-11T16:51:40.400425",
     "status": "completed"
    },
    "tags": []
   },
   "outputs": [],
   "source": [
    "train = pd.read_pickle(\n",
    "    os.path.join(PATH_NOTEBOOK, 'train_unscaled.pkl')\n",
    ")"
   ]
  },
  {
   "cell_type": "code",
   "execution_count": 3,
   "id": "bed3dbe8",
   "metadata": {
    "execution": {
     "iopub.execute_input": "2021-10-11T16:51:54.608437Z",
     "iopub.status.busy": "2021-10-11T16:51:54.606047Z",
     "iopub.status.idle": "2021-10-11T16:51:54.627129Z",
     "shell.execute_reply": "2021-10-11T16:51:54.626487Z",
     "shell.execute_reply.started": "2021-10-08T10:43:24.460905Z"
    },
    "papermill": {
     "duration": 0.043056,
     "end_time": "2021-10-11T16:51:54.627292",
     "exception": false,
     "start_time": "2021-10-11T16:51:54.584236",
     "status": "completed"
    },
    "tags": []
   },
   "outputs": [],
   "source": [
    "with open(os.path.join(PATH_NOTEBOOK, 'feature_dic.pkl'), 'rb') as file:\n",
    "    feature_dic = pickle.load(file)"
   ]
  },
  {
   "cell_type": "markdown",
   "id": "434bf4f3",
   "metadata": {
    "papermill": {
     "duration": 0.017532,
     "end_time": "2021-10-11T16:51:54.663220",
     "exception": false,
     "start_time": "2021-10-11T16:51:54.645688",
     "status": "completed"
    },
    "tags": []
   },
   "source": [
    "# IMPORT DEL CLASS LIST"
   ]
  },
  {
   "cell_type": "code",
   "execution_count": 4,
   "id": "26555b34",
   "metadata": {
    "execution": {
     "iopub.execute_input": "2021-10-11T16:51:54.705318Z",
     "iopub.status.busy": "2021-10-11T16:51:54.704521Z",
     "iopub.status.idle": "2021-10-11T16:51:54.726324Z",
     "shell.execute_reply": "2021-10-11T16:51:54.725671Z",
     "shell.execute_reply.started": "2021-10-08T10:43:51.704735Z"
    },
    "papermill": {
     "duration": 0.045579,
     "end_time": "2021-10-11T16:51:54.726527",
     "exception": false,
     "start_time": "2021-10-11T16:51:54.680948",
     "status": "completed"
    },
    "tags": []
   },
   "outputs": [],
   "source": [
    "#import file of list\n",
    "possible_del_class = pd.read_csv(\n",
    "    os.path.join(PATH_FEATURE, 'feature_del_adversarial.csv')\n",
    ")\n",
    "\n",
    "#21 --> time constrain \n",
    "#format for feat_selection_pipeline\n",
    "possible_del_class = possible_del_class['feature'].tolist()[:50]"
   ]
  },
  {
   "cell_type": "code",
   "execution_count": 5,
   "id": "3424274a",
   "metadata": {
    "execution": {
     "iopub.execute_input": "2021-10-11T16:51:54.943873Z",
     "iopub.status.busy": "2021-10-11T16:51:54.943048Z",
     "iopub.status.idle": "2021-10-11T16:51:54.947090Z",
     "shell.execute_reply": "2021-10-11T16:51:54.947539Z",
     "shell.execute_reply.started": "2021-10-08T10:43:57.778723Z"
    },
    "papermill": {
     "duration": 0.203089,
     "end_time": "2021-10-11T16:51:54.947739",
     "exception": false,
     "start_time": "2021-10-11T16:51:54.744650",
     "status": "completed"
    },
    "tags": []
   },
   "outputs": [
    {
     "data": {
      "text/plain": [
       "42"
      ]
     },
     "execution_count": 5,
     "metadata": {},
     "output_type": "execute_result"
    }
   ],
   "source": [
    "#CONSTANT\n",
    "FEATURE = feature_dic['feature']\n",
    "CAT_COL = feature_dic['categorical']\n",
    "NUMERIC_COL = feature_dic['numerical']\n",
    "\n",
    "FOLD_LIST = list(range(N_FOLD))\n",
    "\n",
    "gc.collect()"
   ]
  },
  {
   "cell_type": "markdown",
   "id": "bc4dd36d",
   "metadata": {
    "papermill": {
     "duration": 0.017607,
     "end_time": "2021-10-11T16:51:54.983648",
     "exception": false,
     "start_time": "2021-10-11T16:51:54.966041",
     "status": "completed"
    },
    "tags": []
   },
   "source": [
    "# FEATURE SELECTION PHASE\n",
    "Iterate over POSSIBLE_DEL_* list and take out 1 feature at time"
   ]
  },
  {
   "cell_type": "code",
   "execution_count": 6,
   "id": "64a96c88",
   "metadata": {
    "execution": {
     "iopub.execute_input": "2021-10-11T16:51:55.031377Z",
     "iopub.status.busy": "2021-10-11T16:51:55.030530Z",
     "iopub.status.idle": "2021-10-11T19:14:56.485050Z",
     "shell.execute_reply": "2021-10-11T19:14:56.485647Z",
     "shell.execute_reply.started": "2021-10-08T10:44:01.749514Z"
    },
    "papermill": {
     "duration": 8581.482552,
     "end_time": "2021-10-11T19:14:56.485966",
     "exception": false,
     "start_time": "2021-10-11T16:51:55.003414",
     "status": "completed"
    },
    "tags": []
   },
   "outputs": [
    {
     "name": "stdout",
     "output_type": "stream",
     "text": [
      "\n",
      "\n",
      "\n"
     ]
    },
    {
     "name": "stderr",
     "output_type": "stream",
     "text": [
      "/opt/conda/lib/python3.7/site-packages/lightgbm/basic.py:1702: UserWarning: Using categorical_feature in Dataset.\n",
      "  _log_warning('Using categorical_feature in Dataset.')\n",
      "/opt/conda/lib/python3.7/site-packages/lightgbm/basic.py:1433: UserWarning: Overriding the parameters from Reference Dataset.\n",
      "  _log_warning('Overriding the parameters from Reference Dataset.')\n",
      "/opt/conda/lib/python3.7/site-packages/lightgbm/basic.py:1245: UserWarning: categorical_column in param dict is overridden.\n",
      "  _log_warning('{} in param dict is overridden.'.format(cat_alias))\n"
     ]
    },
    {
     "name": "stdout",
     "output_type": "stream",
     "text": [
      "Training until validation scores don't improve for 30 rounds\n",
      "Early stopping, best iteration is:\n",
      "[177]\tvalidation's auc: 0.845205\n",
      "Base score: 0.845205\n",
      "\n",
      "\n",
      "\n",
      "Minute one iteration: 2.3; All iteration: 112.9\n",
      "\n",
      "\n",
      "\n",
      "Training until validation scores don't improve for 30 rounds\n",
      "Early stopping, best iteration is:\n",
      "[286]\tvalidation's auc: 0.846209\n",
      "\n",
      "\n",
      "Feature f119 dropped. Delta AUC: 0.001005\n",
      "\n",
      "\n",
      "Training until validation scores don't improve for 30 rounds\n",
      "Early stopping, best iteration is:\n",
      "[309]\tvalidation's auc: 0.845358\n",
      "Training until validation scores don't improve for 30 rounds\n",
      "Early stopping, best iteration is:\n",
      "[242]\tvalidation's auc: 0.844702\n",
      "Training until validation scores don't improve for 30 rounds\n",
      "Early stopping, best iteration is:\n",
      "[206]\tvalidation's auc: 0.844851\n",
      "Training until validation scores don't improve for 30 rounds\n",
      "Early stopping, best iteration is:\n",
      "[270]\tvalidation's auc: 0.84556\n",
      "Training until validation scores don't improve for 30 rounds\n",
      "Early stopping, best iteration is:\n",
      "[235]\tvalidation's auc: 0.84437\n",
      "Training until validation scores don't improve for 30 rounds\n",
      "Early stopping, best iteration is:\n",
      "[251]\tvalidation's auc: 0.844903\n",
      "Training until validation scores don't improve for 30 rounds\n",
      "Early stopping, best iteration is:\n",
      "[219]\tvalidation's auc: 0.84465\n",
      "Training until validation scores don't improve for 30 rounds\n",
      "Early stopping, best iteration is:\n",
      "[298]\tvalidation's auc: 0.845422\n",
      "Training until validation scores don't improve for 30 rounds\n",
      "Early stopping, best iteration is:\n",
      "[198]\tvalidation's auc: 0.844602\n",
      "Training until validation scores don't improve for 30 rounds\n",
      "Early stopping, best iteration is:\n",
      "[227]\tvalidation's auc: 0.844675\n",
      "Training until validation scores don't improve for 30 rounds\n",
      "Early stopping, best iteration is:\n",
      "[318]\tvalidation's auc: 0.84535\n",
      "Training until validation scores don't improve for 30 rounds\n",
      "Early stopping, best iteration is:\n",
      "[313]\tvalidation's auc: 0.843279\n",
      "Training until validation scores don't improve for 30 rounds\n",
      "Early stopping, best iteration is:\n",
      "[234]\tvalidation's auc: 0.845532\n",
      "Training until validation scores don't improve for 30 rounds\n",
      "Early stopping, best iteration is:\n",
      "[271]\tvalidation's auc: 0.845812\n",
      "Training until validation scores don't improve for 30 rounds\n",
      "Early stopping, best iteration is:\n",
      "[269]\tvalidation's auc: 0.845535\n",
      "Training until validation scores don't improve for 30 rounds\n",
      "Early stopping, best iteration is:\n",
      "[240]\tvalidation's auc: 0.845078\n",
      "Training until validation scores don't improve for 30 rounds\n",
      "Early stopping, best iteration is:\n",
      "[237]\tvalidation's auc: 0.84512\n",
      "Training until validation scores don't improve for 30 rounds\n",
      "Early stopping, best iteration is:\n",
      "[287]\tvalidation's auc: 0.845195\n",
      "Training until validation scores don't improve for 30 rounds\n",
      "Early stopping, best iteration is:\n",
      "[217]\tvalidation's auc: 0.845666\n",
      "Training until validation scores don't improve for 30 rounds\n",
      "Early stopping, best iteration is:\n",
      "[230]\tvalidation's auc: 0.845418\n",
      "Training until validation scores don't improve for 30 rounds\n",
      "Early stopping, best iteration is:\n",
      "[198]\tvalidation's auc: 0.844354\n",
      "Training until validation scores don't improve for 30 rounds\n",
      "Early stopping, best iteration is:\n",
      "[311]\tvalidation's auc: 0.845461\n",
      "Training until validation scores don't improve for 30 rounds\n",
      "Early stopping, best iteration is:\n",
      "[237]\tvalidation's auc: 0.844938\n",
      "Training until validation scores don't improve for 30 rounds\n",
      "Early stopping, best iteration is:\n",
      "[199]\tvalidation's auc: 0.844128\n",
      "Training until validation scores don't improve for 30 rounds\n",
      "Early stopping, best iteration is:\n",
      "[198]\tvalidation's auc: 0.844895\n",
      "Training until validation scores don't improve for 30 rounds\n",
      "Early stopping, best iteration is:\n",
      "[221]\tvalidation's auc: 0.845159\n",
      "Training until validation scores don't improve for 30 rounds\n",
      "Early stopping, best iteration is:\n",
      "[225]\tvalidation's auc: 0.845079\n",
      "Training until validation scores don't improve for 30 rounds\n",
      "Early stopping, best iteration is:\n",
      "[262]\tvalidation's auc: 0.845029\n",
      "Training until validation scores don't improve for 30 rounds\n",
      "Early stopping, best iteration is:\n",
      "[246]\tvalidation's auc: 0.845025\n",
      "Training until validation scores don't improve for 30 rounds\n",
      "Early stopping, best iteration is:\n",
      "[252]\tvalidation's auc: 0.844966\n",
      "Training until validation scores don't improve for 30 rounds\n",
      "Early stopping, best iteration is:\n",
      "[227]\tvalidation's auc: 0.844619\n",
      "Training until validation scores don't improve for 30 rounds\n",
      "Early stopping, best iteration is:\n",
      "[207]\tvalidation's auc: 0.844069\n",
      "Training until validation scores don't improve for 30 rounds\n",
      "Early stopping, best iteration is:\n",
      "[358]\tvalidation's auc: 0.845729\n",
      "Training until validation scores don't improve for 30 rounds\n",
      "Early stopping, best iteration is:\n",
      "[205]\tvalidation's auc: 0.844712\n",
      "Training until validation scores don't improve for 30 rounds\n",
      "Early stopping, best iteration is:\n",
      "[237]\tvalidation's auc: 0.844877\n",
      "Training until validation scores don't improve for 30 rounds\n",
      "Early stopping, best iteration is:\n",
      "[223]\tvalidation's auc: 0.844694\n",
      "Training until validation scores don't improve for 30 rounds\n",
      "Early stopping, best iteration is:\n",
      "[164]\tvalidation's auc: 0.843929\n",
      "Training until validation scores don't improve for 30 rounds\n",
      "Early stopping, best iteration is:\n",
      "[264]\tvalidation's auc: 0.845453\n",
      "Training until validation scores don't improve for 30 rounds\n",
      "Early stopping, best iteration is:\n",
      "[228]\tvalidation's auc: 0.845862\n",
      "Training until validation scores don't improve for 30 rounds\n",
      "Early stopping, best iteration is:\n",
      "[293]\tvalidation's auc: 0.844244\n",
      "Training until validation scores don't improve for 30 rounds\n",
      "Early stopping, best iteration is:\n",
      "[197]\tvalidation's auc: 0.844865\n",
      "Training until validation scores don't improve for 30 rounds\n",
      "Early stopping, best iteration is:\n",
      "[203]\tvalidation's auc: 0.845483\n",
      "Training until validation scores don't improve for 30 rounds\n",
      "Early stopping, best iteration is:\n",
      "[244]\tvalidation's auc: 0.845297\n",
      "Training until validation scores don't improve for 30 rounds\n",
      "Early stopping, best iteration is:\n",
      "[211]\tvalidation's auc: 0.844685\n",
      "Training until validation scores don't improve for 30 rounds\n",
      "Early stopping, best iteration is:\n",
      "[175]\tvalidation's auc: 0.845186\n",
      "Training until validation scores don't improve for 30 rounds\n",
      "Early stopping, best iteration is:\n",
      "[199]\tvalidation's auc: 0.84526\n",
      "Training until validation scores don't improve for 30 rounds\n",
      "Early stopping, best iteration is:\n",
      "[226]\tvalidation's auc: 0.844602\n",
      "Training until validation scores don't improve for 30 rounds\n",
      "Early stopping, best iteration is:\n",
      "[230]\tvalidation's auc: 0.844789\n",
      "Training until validation scores don't improve for 30 rounds\n",
      "Early stopping, best iteration is:\n",
      "[233]\tvalidation's auc: 0.844289\n",
      "Delta AUC: 0.001004951404951382; Number of feature dropped: 1\n",
      "\n",
      "\n",
      "CPU times: user 2h 22min 31s, sys: 28.4 s, total: 2h 22min 59s\n",
      "Wall time: 2h 23min 1s\n"
     ]
    }
   ],
   "source": [
    "%%time\n",
    "del_list = feat_selection_pipeline(data = train, feature_list = FEATURE, possible_del_list = possible_del_class,  \n",
    "                            params = PARAMS_LGB_BASE, cat_col = CAT_COL, target_name = TARGET_COL, \n",
    "                            fold_strat_name = REDUCED_FOLD_NAME, new_learning_rate = .05, \n",
    "                            verbose_eval = -1, early_stopping_rounds = 30)"
   ]
  },
  {
   "cell_type": "markdown",
   "id": "fa2a4ad0",
   "metadata": {
    "papermill": {
     "duration": 0.050086,
     "end_time": "2021-10-11T19:14:56.587234",
     "exception": false,
     "start_time": "2021-10-11T19:14:56.537148",
     "status": "completed"
    },
    "tags": []
   },
   "source": [
    "# TRAIN"
   ]
  },
  {
   "cell_type": "code",
   "execution_count": 7,
   "id": "60a3467f",
   "metadata": {
    "execution": {
     "iopub.execute_input": "2021-10-11T19:14:56.699633Z",
     "iopub.status.busy": "2021-10-11T19:14:56.698927Z",
     "iopub.status.idle": "2021-10-11T19:14:56.701614Z",
     "shell.execute_reply": "2021-10-11T19:14:56.702223Z",
     "shell.execute_reply.started": "2021-10-06T13:13:36.731091Z"
    },
    "papermill": {
     "duration": 0.064892,
     "end_time": "2021-10-11T19:14:56.702408",
     "exception": false,
     "start_time": "2021-10-11T19:14:56.637516",
     "status": "completed"
    },
    "tags": []
   },
   "outputs": [
    {
     "data": {
      "text/plain": [
       "['f119']"
      ]
     },
     "execution_count": 7,
     "metadata": {},
     "output_type": "execute_result"
    }
   ],
   "source": [
    "del_list"
   ]
  },
  {
   "cell_type": "code",
   "execution_count": 8,
   "id": "3bd8717a",
   "metadata": {
    "execution": {
     "iopub.execute_input": "2021-10-11T19:14:56.812348Z",
     "iopub.status.busy": "2021-10-11T19:14:56.811312Z",
     "iopub.status.idle": "2021-10-11T19:14:56.814273Z",
     "shell.execute_reply": "2021-10-11T19:14:56.813644Z",
     "shell.execute_reply.started": "2021-10-06T13:13:36.738151Z"
    },
    "papermill": {
     "duration": 0.061244,
     "end_time": "2021-10-11T19:14:56.814411",
     "exception": false,
     "start_time": "2021-10-11T19:14:56.753167",
     "status": "completed"
    },
    "tags": []
   },
   "outputs": [],
   "source": [
    "FEATURE = [x for x in FEATURE if x not in del_list]\n",
    "CAT_COL = [x for x in CAT_COL if x not in del_list]\n",
    "NUMERIC_COL = [x for x in NUMERIC_COL if x not in del_list]\n",
    "\n",
    "feature_dic = {\n",
    "    'feature': FEATURE,\n",
    "    'categorical': CAT_COL,\n",
    "    'numerical': NUMERIC_COL,\n",
    "}"
   ]
  },
  {
   "cell_type": "code",
   "execution_count": 9,
   "id": "0c4a8314",
   "metadata": {
    "execution": {
     "iopub.execute_input": "2021-10-11T19:14:56.929489Z",
     "iopub.status.busy": "2021-10-11T19:14:56.928375Z",
     "iopub.status.idle": "2021-10-11T20:50:18.158122Z",
     "shell.execute_reply": "2021-10-11T20:50:18.159358Z"
    },
    "papermill": {
     "duration": 5721.295451,
     "end_time": "2021-10-11T20:50:18.160518",
     "exception": false,
     "start_time": "2021-10-11T19:14:56.865067",
     "status": "completed"
    },
    "tags": []
   },
   "outputs": [
    {
     "name": "stdout",
     "output_type": "stream",
     "text": [
      "Training until validation scores don't improve for 30 rounds\n",
      "[20]\tvalidation's auc: 0.838995\n",
      "[40]\tvalidation's auc: 0.841385\n",
      "[60]\tvalidation's auc: 0.843648\n",
      "[80]\tvalidation's auc: 0.845744\n",
      "[100]\tvalidation's auc: 0.847783\n",
      "[120]\tvalidation's auc: 0.849339\n",
      "[140]\tvalidation's auc: 0.850438\n",
      "[160]\tvalidation's auc: 0.851288\n",
      "[180]\tvalidation's auc: 0.851925\n",
      "[200]\tvalidation's auc: 0.852374\n",
      "[220]\tvalidation's auc: 0.852802\n",
      "[240]\tvalidation's auc: 0.853087\n",
      "[260]\tvalidation's auc: 0.853339\n",
      "[280]\tvalidation's auc: 0.853539\n",
      "[300]\tvalidation's auc: 0.853702\n",
      "[320]\tvalidation's auc: 0.853787\n",
      "[340]\tvalidation's auc: 0.853902\n",
      "[360]\tvalidation's auc: 0.853933\n",
      "[380]\tvalidation's auc: 0.853959\n",
      "[400]\tvalidation's auc: 0.853959\n",
      "Early stopping, best iteration is:\n",
      "[386]\tvalidation's auc: 0.85399\n",
      "\n",
      "Fold: 0; Auc: 0.85399\n",
      "\n",
      "--------------------------------------------------\n",
      "\n",
      "\n",
      "\n",
      "\n",
      "Training until validation scores don't improve for 30 rounds\n",
      "[20]\tvalidation's auc: 0.838502\n",
      "[40]\tvalidation's auc: 0.84071\n",
      "[60]\tvalidation's auc: 0.842932\n",
      "[80]\tvalidation's auc: 0.845192\n",
      "[100]\tvalidation's auc: 0.847226\n",
      "[120]\tvalidation's auc: 0.848702\n",
      "[140]\tvalidation's auc: 0.849897\n",
      "[160]\tvalidation's auc: 0.85075\n",
      "[180]\tvalidation's auc: 0.851431\n",
      "[200]\tvalidation's auc: 0.851991\n",
      "[220]\tvalidation's auc: 0.852305\n",
      "[240]\tvalidation's auc: 0.852604\n",
      "[260]\tvalidation's auc: 0.852879\n",
      "[280]\tvalidation's auc: 0.853076\n",
      "[300]\tvalidation's auc: 0.853257\n",
      "[320]\tvalidation's auc: 0.853411\n",
      "[340]\tvalidation's auc: 0.8535\n",
      "[360]\tvalidation's auc: 0.853491\n",
      "Early stopping, best iteration is:\n",
      "[344]\tvalidation's auc: 0.85352\n",
      "\n",
      "Fold: 1; Auc: 0.85352\n",
      "\n",
      "--------------------------------------------------\n",
      "\n",
      "\n",
      "\n",
      "\n",
      "Training until validation scores don't improve for 30 rounds\n",
      "[20]\tvalidation's auc: 0.839223\n",
      "[40]\tvalidation's auc: 0.841474\n",
      "[60]\tvalidation's auc: 0.843685\n",
      "[80]\tvalidation's auc: 0.845861\n",
      "[100]\tvalidation's auc: 0.847934\n",
      "[120]\tvalidation's auc: 0.849356\n",
      "[140]\tvalidation's auc: 0.850473\n",
      "[160]\tvalidation's auc: 0.851381\n",
      "[180]\tvalidation's auc: 0.851996\n",
      "[200]\tvalidation's auc: 0.852423\n",
      "[220]\tvalidation's auc: 0.852831\n",
      "[240]\tvalidation's auc: 0.853106\n",
      "[260]\tvalidation's auc: 0.853312\n",
      "[280]\tvalidation's auc: 0.85349\n",
      "[300]\tvalidation's auc: 0.853577\n",
      "[320]\tvalidation's auc: 0.853618\n",
      "[340]\tvalidation's auc: 0.853672\n",
      "[360]\tvalidation's auc: 0.853684\n",
      "Early stopping, best iteration is:\n",
      "[345]\tvalidation's auc: 0.853706\n",
      "\n",
      "Fold: 2; Auc: 0.85371\n",
      "\n",
      "--------------------------------------------------\n",
      "\n",
      "\n",
      "\n",
      "\n",
      "Training until validation scores don't improve for 30 rounds\n",
      "[20]\tvalidation's auc: 0.839438\n",
      "[40]\tvalidation's auc: 0.841947\n",
      "[60]\tvalidation's auc: 0.844182\n",
      "[80]\tvalidation's auc: 0.846298\n",
      "[100]\tvalidation's auc: 0.84823\n",
      "[120]\tvalidation's auc: 0.849679\n",
      "[140]\tvalidation's auc: 0.850665\n",
      "[160]\tvalidation's auc: 0.851418\n",
      "[180]\tvalidation's auc: 0.852086\n",
      "[200]\tvalidation's auc: 0.852606\n",
      "[220]\tvalidation's auc: 0.852992\n",
      "[240]\tvalidation's auc: 0.853284\n",
      "[260]\tvalidation's auc: 0.853466\n",
      "[280]\tvalidation's auc: 0.853645\n",
      "[300]\tvalidation's auc: 0.853781\n",
      "[320]\tvalidation's auc: 0.853838\n",
      "[340]\tvalidation's auc: 0.853887\n",
      "[360]\tvalidation's auc: 0.853902\n",
      "[380]\tvalidation's auc: 0.853942\n",
      "[400]\tvalidation's auc: 0.853985\n",
      "[420]\tvalidation's auc: 0.854049\n",
      "[440]\tvalidation's auc: 0.854059\n",
      "[460]\tvalidation's auc: 0.854055\n",
      "Early stopping, best iteration is:\n",
      "[441]\tvalidation's auc: 0.854069\n",
      "\n",
      "Fold: 3; Auc: 0.85407\n",
      "\n",
      "--------------------------------------------------\n",
      "\n",
      "\n",
      "\n",
      "\n",
      "Training until validation scores don't improve for 30 rounds\n",
      "[20]\tvalidation's auc: 0.838822\n",
      "[40]\tvalidation's auc: 0.841252\n",
      "[60]\tvalidation's auc: 0.843363\n",
      "[80]\tvalidation's auc: 0.845497\n",
      "[100]\tvalidation's auc: 0.84744\n",
      "[120]\tvalidation's auc: 0.848942\n",
      "[140]\tvalidation's auc: 0.850057\n",
      "[160]\tvalidation's auc: 0.850846\n",
      "[180]\tvalidation's auc: 0.851513\n",
      "[200]\tvalidation's auc: 0.852043\n",
      "[220]\tvalidation's auc: 0.852441\n",
      "[240]\tvalidation's auc: 0.852728\n",
      "[260]\tvalidation's auc: 0.852963\n",
      "[280]\tvalidation's auc: 0.853141\n",
      "[300]\tvalidation's auc: 0.853269\n",
      "[320]\tvalidation's auc: 0.853371\n",
      "[340]\tvalidation's auc: 0.853408\n",
      "[360]\tvalidation's auc: 0.853459\n",
      "[380]\tvalidation's auc: 0.853501\n",
      "[400]\tvalidation's auc: 0.853497\n",
      "[420]\tvalidation's auc: 0.853483\n",
      "Early stopping, best iteration is:\n",
      "[406]\tvalidation's auc: 0.853518\n",
      "\n",
      "Fold: 4; Auc: 0.85352\n",
      "\n",
      "--------------------------------------------------\n",
      "\n",
      "\n",
      "\n",
      "\n",
      "CV-Auc: 0.85376\n",
      "\n"
     ]
    }
   ],
   "source": [
    "score = 0\n",
    "model_list = []\n",
    "\n",
    "for i, fold_ in enumerate(FOLD_LIST):\n",
    "\n",
    "    mask_train = (train[FOLD_STRAT_NAME] != fold_)\n",
    "    mask_test = (train[FOLD_STRAT_NAME] == fold_)\n",
    "    \n",
    "    \n",
    "    train_x, train_y = train.loc[mask_train, FEATURE], train.loc[mask_train, TARGET_COL]\n",
    "    test_x, test_y = train.loc[mask_test, FEATURE], train.loc[mask_test, TARGET_COL]\n",
    "\n",
    "    model = lgb.train(\n",
    "        PARAMS_LGB_BASE,\n",
    "        lgb.Dataset(train_x, label=train_y,categorical_feature=CAT_COL), 100000,\n",
    "        valid_sets = lgb.Dataset(test_x, label=test_y,categorical_feature=CAT_COL),\n",
    "        valid_names ='validation', verbose_eval=20, early_stopping_rounds = 30,\n",
    "    )\n",
    "    \n",
    "    #evaluate score and save model for importance/prediction\n",
    "    score_fold = model.best_score['validation']['auc'] \n",
    "    score += score_fold/N_FOLD\n",
    "    \n",
    "    model_list.append(model)\n",
    "    \n",
    "    print('\\nFold: {}; Auc: {:.5f}\\n'.format(fold_, score_fold))\n",
    "    print('-'*50)\n",
    "    print('\\n\\n\\n')\n",
    "    gc.collect()\n",
    "    \n",
    "print('CV-Auc: {:.5f}\\n'.format(score))"
   ]
  },
  {
   "cell_type": "markdown",
   "id": "13f23cb5",
   "metadata": {
    "papermill": {
     "duration": 0.325103,
     "end_time": "2021-10-11T20:50:18.572185",
     "exception": false,
     "start_time": "2021-10-11T20:50:18.247082",
     "status": "completed"
    },
    "tags": []
   },
   "source": [
    "# Feature importance"
   ]
  },
  {
   "cell_type": "code",
   "execution_count": 10,
   "id": "9863f1d1",
   "metadata": {
    "execution": {
     "iopub.execute_input": "2021-10-11T20:50:18.757715Z",
     "iopub.status.busy": "2021-10-11T20:50:18.756658Z",
     "iopub.status.idle": "2021-10-11T20:50:18.770426Z",
     "shell.execute_reply": "2021-10-11T20:50:18.769619Z"
    },
    "papermill": {
     "duration": 0.112767,
     "end_time": "2021-10-11T20:50:18.770614",
     "exception": false,
     "start_time": "2021-10-11T20:50:18.657847",
     "status": "completed"
    },
    "tags": []
   },
   "outputs": [],
   "source": [
    "feature_importances = pd.DataFrame()\n",
    "feature_importances['feature'] = FEATURE\n",
    "\n",
    "\n",
    "for fold_, model in enumerate(model_list):\n",
    "    feature_importances['fold_{}'.format(fold_ + 1)] = model.feature_importance(importance_type='gain')"
   ]
  },
  {
   "cell_type": "code",
   "execution_count": 11,
   "id": "b177ee60",
   "metadata": {
    "execution": {
     "iopub.execute_input": "2021-10-11T20:50:18.956206Z",
     "iopub.status.busy": "2021-10-11T20:50:18.948939Z",
     "iopub.status.idle": "2021-10-11T20:50:19.855011Z",
     "shell.execute_reply": "2021-10-11T20:50:19.854411Z"
    },
    "papermill": {
     "duration": 0.998132,
     "end_time": "2021-10-11T20:50:19.855191",
     "exception": false,
     "start_time": "2021-10-11T20:50:18.857059",
     "status": "completed"
    },
    "tags": []
   },
   "outputs": [
    {
     "data": {
      "text/plain": [
       "Text(0.5, 1.0, '50 TOP feature importance over 5 average')"
      ]
     },
     "execution_count": 11,
     "metadata": {},
     "output_type": "execute_result"
    },
    {
     "data": {
      "image/png": "[encoded data removed]",
      "text/plain": [
       "<Figure size 864x576 with 1 Axes>"
      ]
     },
     "metadata": {
      "needs_background": "light"
     },
     "output_type": "display_data"
    }
   ],
   "source": [
    "scaler = MinMaxScaler(feature_range=(0, 100))\n",
    "\n",
    "average_importance = feature_importances.drop('feature', axis = 1).mean(axis=1)\n",
    "\n",
    "feature_importances['average'] = scaler.fit_transform(X=pd.DataFrame(average_importance))\n",
    "feature_importances = feature_importances.sort_values(by='average', ascending=False)\n",
    "\n",
    "feature_importances[['feature', 'average']].to_csv('feature_importances.csv',index=False)\n",
    "\n",
    "fig = plt.figure(figsize=(12,8))\n",
    "sns.barplot(data=feature_importances.head(50), x='average', y='feature');\n",
    "plt.title(f'50 TOP feature importance over {N_FOLD} average')"
   ]
  },
  {
   "cell_type": "markdown",
   "id": "fa45ffce",
   "metadata": {
    "papermill": {
     "duration": 0.089598,
     "end_time": "2021-10-11T20:50:20.036232",
     "exception": false,
     "start_time": "2021-10-11T20:50:19.946634",
     "status": "completed"
    },
    "tags": []
   },
   "source": [
    "# TEST Blending"
   ]
  },
  {
   "cell_type": "code",
   "execution_count": 12,
   "id": "be6e183d",
   "metadata": {
    "execution": {
     "iopub.execute_input": "2021-10-11T20:50:20.469171Z",
     "iopub.status.busy": "2021-10-11T20:50:20.468168Z",
     "iopub.status.idle": "2021-10-11T20:50:20.473770Z",
     "shell.execute_reply": "2021-10-11T20:50:20.473250Z"
    },
    "papermill": {
     "duration": 0.349523,
     "end_time": "2021-10-11T20:50:20.473931",
     "exception": false,
     "start_time": "2021-10-11T20:50:20.124408",
     "status": "completed"
    },
    "tags": []
   },
   "outputs": [
    {
     "data": {
      "text/plain": [
       "36"
      ]
     },
     "execution_count": 12,
     "metadata": {},
     "output_type": "execute_result"
    }
   ],
   "source": [
    "del train\n",
    "gc.collect()"
   ]
  },
  {
   "cell_type": "code",
   "execution_count": 13,
   "id": "27972768",
   "metadata": {
    "execution": {
     "iopub.execute_input": "2021-10-11T20:50:20.660438Z",
     "iopub.status.busy": "2021-10-11T20:50:20.659587Z",
     "iopub.status.idle": "2021-10-11T20:50:27.057761Z",
     "shell.execute_reply": "2021-10-11T20:50:27.057088Z"
    },
    "papermill": {
     "duration": 6.493553,
     "end_time": "2021-10-11T20:50:27.057951",
     "exception": false,
     "start_time": "2021-10-11T20:50:20.564398",
     "status": "completed"
    },
    "tags": []
   },
   "outputs": [],
   "source": [
    "test = pd.read_pickle(\n",
    "    os.path.join(PATH_NOTEBOOK, 'test_unscaled.pkl')\n",
    ")"
   ]
  },
  {
   "cell_type": "code",
   "execution_count": 14,
   "id": "b826188a",
   "metadata": {
    "execution": {
     "iopub.execute_input": "2021-10-11T20:50:27.245881Z",
     "iopub.status.busy": "2021-10-11T20:50:27.244597Z",
     "iopub.status.idle": "2021-10-11T20:54:21.124389Z",
     "shell.execute_reply": "2021-10-11T20:54:21.123724Z"
    },
    "papermill": {
     "duration": 233.975888,
     "end_time": "2021-10-11T20:54:21.124602",
     "exception": false,
     "start_time": "2021-10-11T20:50:27.148714",
     "status": "completed"
    },
    "tags": []
   },
   "outputs": [],
   "source": [
    "pred_test = np.zeros(test.shape[0])\n",
    "\n",
    "for fold_, model in enumerate(model_list):\n",
    "    pred_test += model.predict(test[FEATURE])/N_FOLD\n"
   ]
  },
  {
   "cell_type": "markdown",
   "id": "0f72ecec",
   "metadata": {
    "papermill": {
     "duration": 0.087725,
     "end_time": "2021-10-11T20:54:21.301270",
     "exception": false,
     "start_time": "2021-10-11T20:54:21.213545",
     "status": "completed"
    },
    "tags": []
   },
   "source": [
    "# SAVE RESULT"
   ]
  },
  {
   "cell_type": "code",
   "execution_count": 15,
   "id": "1c1d61f6",
   "metadata": {
    "execution": {
     "iopub.execute_input": "2021-10-11T20:54:21.484209Z",
     "iopub.status.busy": "2021-10-11T20:54:21.483204Z",
     "iopub.status.idle": "2021-10-11T20:54:21.485877Z",
     "shell.execute_reply": "2021-10-11T20:54:21.485310Z"
    },
    "papermill": {
     "duration": 0.096887,
     "end_time": "2021-10-11T20:54:21.486073",
     "exception": false,
     "start_time": "2021-10-11T20:54:21.389186",
     "status": "completed"
    },
    "tags": []
   },
   "outputs": [],
   "source": [
    "#FINDED NEW FEATURE\n",
    "with open('feature_dic.pkl', 'wb') as file_name:\n",
    "    pickle.dump(feature_dic, file_name)"
   ]
  },
  {
   "cell_type": "code",
   "execution_count": 16,
   "id": "ebd13d9e",
   "metadata": {
    "execution": {
     "iopub.execute_input": "2021-10-11T20:54:21.669487Z",
     "iopub.status.busy": "2021-10-11T20:54:21.668745Z",
     "iopub.status.idle": "2021-10-11T20:54:23.808966Z",
     "shell.execute_reply": "2021-10-11T20:54:23.808370Z"
    },
    "papermill": {
     "duration": 2.234257,
     "end_time": "2021-10-11T20:54:23.809155",
     "exception": false,
     "start_time": "2021-10-11T20:54:21.574898",
     "status": "completed"
    },
    "tags": []
   },
   "outputs": [],
   "source": [
    "submission = pd.read_csv(os.path.join(INPUT_PATH, 'sample_submission.csv'))\n",
    "submission['target'] = pred_test\n",
    "\n",
    "submission.to_csv('submission.csv', index = False)"
   ]
  }
 ],
 "metadata": {
  "kernelspec": {
   "display_name": "Python 3",
   "language": "python",
   "name": "python3"
  },
  "language_info": {
   "codemirror_mode": {
    "name": "ipython",
    "version": 3
   },
   "file_extension": ".py",
   "mimetype": "text/x-python",
   "name": "python",
   "nbconvert_exporter": "python",
   "pygments_lexer": "ipython3",
   "version": "3.7.10"
  },
  "papermill": {
   "default_parameters": {},
   "duration": 14575.705506,
   "end_time": "2021-10-11T20:54:24.811276",
   "environment_variables": {},
   "exception": null,
   "input_path": "__notebook__.ipynb",
   "output_path": "__notebook__.ipynb",
   "parameters": {},
   "start_time": "2021-10-11T16:51:29.105770",
   "version": "2.3.3"
  }
 },
 "nbformat": 4,
 "nbformat_minor": 5
}
