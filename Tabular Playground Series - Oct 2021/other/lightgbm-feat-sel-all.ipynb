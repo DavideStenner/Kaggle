{
 "cells": [
  {
   "cell_type": "code",
   "execution_count": 1,
   "id": "3730eff6",
   "metadata": {
    "_cell_guid": "b1076dfc-b9ad-4769-8c92-a6c4dae69d19",
    "_uuid": "8f2839f25d086af736a60e9eeb907d3b93b6e0e5",
    "execution": {
     "iopub.execute_input": "2021-10-11T09:48:33.638713Z",
     "iopub.status.busy": "2021-10-11T09:48:33.638024Z",
     "iopub.status.idle": "2021-10-11T09:48:35.948937Z",
     "shell.execute_reply": "2021-10-11T09:48:35.948104Z",
     "shell.execute_reply.started": "2021-10-11T09:46:42.540360Z"
    },
    "papermill": {
     "duration": 2.342007,
     "end_time": "2021-10-11T09:48:35.949118",
     "exception": false,
     "start_time": "2021-10-11T09:48:33.607111",
     "status": "completed"
    },
    "tags": []
   },
   "outputs": [
    {
     "data": {
      "text/html": [
       "<style type='text/css'>\n",
       ".datatable table.frame { margin-bottom: 0; }\n",
       ".datatable table.frame thead { border-bottom: none; }\n",
       ".datatable table.frame tr.coltypes td {  color: #FFFFFF;  line-height: 6px;  padding: 0 0.5em;}\n",
       ".datatable .bool    { background: #DDDD99; }\n",
       ".datatable .object  { background: #565656; }\n",
       ".datatable .int     { background: #5D9E5D; }\n",
       ".datatable .float   { background: #4040CC; }\n",
       ".datatable .str     { background: #CC4040; }\n",
       ".datatable .time    { background: #40CC40; }\n",
       ".datatable .row_index {  background: var(--jp-border-color3);  border-right: 1px solid var(--jp-border-color0);  color: var(--jp-ui-font-color3);  font-size: 9px;}\n",
       ".datatable .frame tbody td { text-align: left; }\n",
       ".datatable .frame tr.coltypes .row_index {  background: var(--jp-border-color0);}\n",
       ".datatable th:nth-child(2) { padding-left: 12px; }\n",
       ".datatable .hellipsis {  color: var(--jp-cell-editor-border-color);}\n",
       ".datatable .vellipsis {  background: var(--jp-layout-color0);  color: var(--jp-cell-editor-border-color);}\n",
       ".datatable .na {  color: var(--jp-cell-editor-border-color);  font-size: 80%;}\n",
       ".datatable .sp {  opacity: 0.25;}\n",
       ".datatable .footer { font-size: 9px; }\n",
       ".datatable .frame_dimensions {  background: var(--jp-border-color3);  border-top: 1px solid var(--jp-border-color0);  color: var(--jp-ui-font-color3);  display: inline-block;  opacity: 0.6;  padding: 1px 10px 1px 5px;}\n",
       "</style>\n"
      ],
      "text/plain": [
       "<IPython.core.display.HTML object>"
      ]
     },
     "metadata": {},
     "output_type": "display_data"
    }
   ],
   "source": [
    "import pandas as pd\n",
    "import numpy as np\n",
    "import lightgbm as lgb\n",
    "import pickle\n",
    "import os\n",
    "import gc\n",
    "from sklearn.preprocessing import MinMaxScaler\n",
    "from matplotlib import pyplot as plt\n",
    "import seaborn as sns\n",
    "import time\n",
    "\n",
    "from utilities import (\n",
    "    RANDOM_STATE, TARGET_COL, N_FOLD, FOLD_STRAT_NAME, REDUCED_FOLD_NAME,\n",
    "    PARAMS_LGB_BASE\n",
    ")\n",
    "\n",
    "from train import (\n",
    "    train_feat_sel, feat_selection_pipeline\n",
    ")\n",
    "\n",
    "INPUT_PATH = '../input/tabular-playground-series-oct-2021'\n",
    "PATH_NOTEBOOK = '../input/preprocess'\n",
    "\n",
    "PATH_FEATURE = [\n",
    "    '../input/lightgbm-feat-sel-adv-train',\n",
    "    '../input/lightgbm-feat-sel-imp-gain',\n",
    "    '../input/lightgbm-feat-sel-shift',\n",
    "    '../input/lightgbm-feat-sel-class'\n",
    "]"
   ]
  },
  {
   "cell_type": "code",
   "execution_count": 2,
   "id": "645b67d9",
   "metadata": {
    "execution": {
     "iopub.execute_input": "2021-10-11T09:48:35.988081Z",
     "iopub.status.busy": "2021-10-11T09:48:35.987266Z",
     "iopub.status.idle": "2021-10-11T09:48:35.998744Z",
     "shell.execute_reply": "2021-10-11T09:48:35.999226Z",
     "shell.execute_reply.started": "2021-10-11T09:46:43.069919Z"
    },
    "papermill": {
     "duration": 0.032809,
     "end_time": "2021-10-11T09:48:35.999426",
     "exception": false,
     "start_time": "2021-10-11T09:48:35.966617",
     "status": "completed"
    },
    "tags": []
   },
   "outputs": [],
   "source": [
    "with open(os.path.join(PATH_NOTEBOOK, 'feature_dic.pkl'), 'rb') as file:\n",
    "    original_feature_dic = pickle.load(file)\n",
    "    \n",
    "ALL_FEATURE_LIST = original_feature_dic['feature']"
   ]
  },
  {
   "cell_type": "code",
   "execution_count": 3,
   "id": "d10ca152",
   "metadata": {
    "execution": {
     "iopub.execute_input": "2021-10-11T09:48:36.038336Z",
     "iopub.status.busy": "2021-10-11T09:48:36.036566Z",
     "iopub.status.idle": "2021-10-11T09:48:47.112438Z",
     "shell.execute_reply": "2021-10-11T09:48:47.111686Z",
     "shell.execute_reply.started": "2021-10-11T09:46:45.768228Z"
    },
    "papermill": {
     "duration": 11.096488,
     "end_time": "2021-10-11T09:48:47.112602",
     "exception": false,
     "start_time": "2021-10-11T09:48:36.016114",
     "status": "completed"
    },
    "tags": []
   },
   "outputs": [],
   "source": [
    "train = pd.read_pickle(\n",
    "    os.path.join(PATH_NOTEBOOK, 'train_unscaled.pkl')\n",
    ")"
   ]
  },
  {
   "cell_type": "markdown",
   "id": "4becaa36",
   "metadata": {
    "papermill": {
     "duration": 0.016286,
     "end_time": "2021-10-11T09:48:47.145707",
     "exception": false,
     "start_time": "2021-10-11T09:48:47.129421",
     "status": "completed"
    },
    "tags": []
   },
   "source": [
    "# IMPORT DEL CLASS LIST"
   ]
  },
  {
   "cell_type": "code",
   "execution_count": 4,
   "id": "1fa3a59e",
   "metadata": {
    "execution": {
     "iopub.execute_input": "2021-10-11T09:48:47.186478Z",
     "iopub.status.busy": "2021-10-11T09:48:47.183499Z",
     "iopub.status.idle": "2021-10-11T09:48:47.214912Z",
     "shell.execute_reply": "2021-10-11T09:48:47.214315Z",
     "shell.execute_reply.started": "2021-10-11T09:46:55.675444Z"
    },
    "papermill": {
     "duration": 0.05225,
     "end_time": "2021-10-11T09:48:47.215091",
     "exception": false,
     "start_time": "2021-10-11T09:48:47.162841",
     "status": "completed"
    },
    "tags": []
   },
   "outputs": [],
   "source": [
    "possible_del_class = []\n",
    "\n",
    "for featute_sel in PATH_FEATURE:\n",
    "    with open(os.path.join(featute_sel, 'feature_dic.pkl'), 'rb') as file:\n",
    "        feature_dic = pickle.load(file)\n",
    "        \n",
    "    possible_del_class += [x for x in ALL_FEATURE_LIST if x not in feature_dic['feature']]\n",
    "    \n",
    "possible_del_class = list(sorted(set(possible_del_class)))"
   ]
  },
  {
   "cell_type": "code",
   "execution_count": 5,
   "id": "15e15331",
   "metadata": {
    "execution": {
     "iopub.execute_input": "2021-10-11T09:48:47.388264Z",
     "iopub.status.busy": "2021-10-11T09:48:47.387443Z",
     "iopub.status.idle": "2021-10-11T09:48:47.391207Z",
     "shell.execute_reply": "2021-10-11T09:48:47.390572Z",
     "shell.execute_reply.started": "2021-10-11T09:46:55.691481Z"
    },
    "papermill": {
     "duration": 0.158418,
     "end_time": "2021-10-11T09:48:47.391360",
     "exception": false,
     "start_time": "2021-10-11T09:48:47.232942",
     "status": "completed"
    },
    "tags": []
   },
   "outputs": [
    {
     "data": {
      "text/plain": [
       "21"
      ]
     },
     "execution_count": 5,
     "metadata": {},
     "output_type": "execute_result"
    }
   ],
   "source": [
    "#CONSTANT\n",
    "FEATURE = feature_dic['feature']\n",
    "CAT_COL = feature_dic['categorical']\n",
    "NUMERIC_COL = feature_dic['numerical']\n",
    "\n",
    "FOLD_LIST = list(range(N_FOLD))\n",
    "\n",
    "gc.collect()"
   ]
  },
  {
   "cell_type": "markdown",
   "id": "6bd460cd",
   "metadata": {
    "papermill": {
     "duration": 0.017638,
     "end_time": "2021-10-11T09:48:47.426329",
     "exception": false,
     "start_time": "2021-10-11T09:48:47.408691",
     "status": "completed"
    },
    "tags": []
   },
   "source": [
    "# FEATURE SELECTION PHASE\n",
    "Iterate over POSSIBLE_DEL_* list and take out 1 feature at time"
   ]
  },
  {
   "cell_type": "code",
   "execution_count": 6,
   "id": "b2010427",
   "metadata": {
    "execution": {
     "iopub.execute_input": "2021-10-11T09:48:47.475921Z",
     "iopub.status.busy": "2021-10-11T09:48:47.475193Z",
     "iopub.status.idle": "2021-10-11T11:24:12.461940Z",
     "shell.execute_reply": "2021-10-11T11:24:12.462531Z"
    },
    "papermill": {
     "duration": 5725.019057,
     "end_time": "2021-10-11T11:24:12.463364",
     "exception": false,
     "start_time": "2021-10-11T09:48:47.444307",
     "status": "completed"
    },
    "tags": []
   },
   "outputs": [
    {
     "name": "stdout",
     "output_type": "stream",
     "text": [
      "\n",
      "\n",
      "\n"
     ]
    },
    {
     "name": "stderr",
     "output_type": "stream",
     "text": [
      "/opt/conda/lib/python3.7/site-packages/lightgbm/basic.py:1702: UserWarning: Using categorical_feature in Dataset.\n",
      "  _log_warning('Using categorical_feature in Dataset.')\n",
      "/opt/conda/lib/python3.7/site-packages/lightgbm/basic.py:1433: UserWarning: Overriding the parameters from Reference Dataset.\n",
      "  _log_warning('Overriding the parameters from Reference Dataset.')\n",
      "/opt/conda/lib/python3.7/site-packages/lightgbm/basic.py:1245: UserWarning: categorical_column in param dict is overridden.\n",
      "  _log_warning('{} in param dict is overridden.'.format(cat_alias))\n"
     ]
    },
    {
     "name": "stdout",
     "output_type": "stream",
     "text": [
      "Training until validation scores don't improve for 5 rounds\n",
      "Early stopping, best iteration is:\n",
      "[258]\tvalidation's auc: 0.842659\n",
      "Base score: 0.842659\n",
      "\n",
      "\n",
      "\n",
      "Minute one iteration: 9.4; All iteration: 149.8\n",
      "\n",
      "\n",
      "\n",
      "Training until validation scores don't improve for 5 rounds\n",
      "Early stopping, best iteration is:\n",
      "[258]\tvalidation's auc: 0.842659\n",
      "Training until validation scores don't improve for 5 rounds\n",
      "Early stopping, best iteration is:\n",
      "[83]\tvalidation's auc: 0.837812\n",
      "Training until validation scores don't improve for 5 rounds\n",
      "Early stopping, best iteration is:\n",
      "[140]\tvalidation's auc: 0.840015\n",
      "Training until validation scores don't improve for 5 rounds\n",
      "Early stopping, best iteration is:\n",
      "[213]\tvalidation's auc: 0.841818\n",
      "Training until validation scores don't improve for 5 rounds\n",
      "Early stopping, best iteration is:\n",
      "[247]\tvalidation's auc: 0.843048\n",
      "\n",
      "\n",
      "Feature f182 dropped. Delta AUC: 0.000390\n",
      "\n",
      "\n",
      "Training until validation scores don't improve for 5 rounds\n",
      "Early stopping, best iteration is:\n",
      "[191]\tvalidation's auc: 0.841777\n",
      "Training until validation scores don't improve for 5 rounds\n",
      "Early stopping, best iteration is:\n",
      "[123]\tvalidation's auc: 0.839023\n",
      "Training until validation scores don't improve for 5 rounds\n",
      "Early stopping, best iteration is:\n",
      "[213]\tvalidation's auc: 0.841767\n",
      "Training until validation scores don't improve for 5 rounds\n",
      "Early stopping, best iteration is:\n",
      "[100]\tvalidation's auc: 0.838519\n",
      "Training until validation scores don't improve for 5 rounds\n",
      "Early stopping, best iteration is:\n",
      "[175]\tvalidation's auc: 0.840989\n",
      "Training until validation scores don't improve for 5 rounds\n",
      "Early stopping, best iteration is:\n",
      "[149]\tvalidation's auc: 0.840434\n",
      "Training until validation scores don't improve for 5 rounds\n",
      "Early stopping, best iteration is:\n",
      "[155]\tvalidation's auc: 0.840314\n",
      "Training until validation scores don't improve for 5 rounds\n",
      "Early stopping, best iteration is:\n",
      "[221]\tvalidation's auc: 0.84188\n",
      "Training until validation scores don't improve for 5 rounds\n",
      "Early stopping, best iteration is:\n",
      "[159]\tvalidation's auc: 0.840854\n",
      "Training until validation scores don't improve for 5 rounds\n",
      "Early stopping, best iteration is:\n",
      "[186]\tvalidation's auc: 0.84119\n",
      "Training until validation scores don't improve for 5 rounds\n",
      "Early stopping, best iteration is:\n",
      "[247]\tvalidation's auc: 0.843048\n",
      "Delta AUC: 0.0003896979896980124; Number of feature dropped: 1\n",
      "\n",
      "\n",
      "CPU times: user 1h 35min 3s, sys: 21.5 s, total: 1h 35min 24s\n",
      "Wall time: 1h 35min 24s\n"
     ]
    }
   ],
   "source": [
    "%%time\n",
    "del_list = feat_selection_pipeline(data = train, feature_list = FEATURE, possible_del_list = possible_del_class,  \n",
    "                            params = PARAMS_LGB_BASE, cat_col = CAT_COL, target_name = TARGET_COL, \n",
    "                            fold_strat_name = REDUCED_FOLD_NAME, new_learning_rate = .05, \n",
    "                            verbose_eval = -1, early_stopping_rounds = 5)"
   ]
  },
  {
   "cell_type": "markdown",
   "id": "8e40d9eb",
   "metadata": {
    "papermill": {
     "duration": 0.029648,
     "end_time": "2021-10-11T11:24:12.522389",
     "exception": false,
     "start_time": "2021-10-11T11:24:12.492741",
     "status": "completed"
    },
    "tags": []
   },
   "source": [
    "# TRAIN"
   ]
  },
  {
   "cell_type": "code",
   "execution_count": 7,
   "id": "39e650bf",
   "metadata": {
    "execution": {
     "iopub.execute_input": "2021-10-11T11:24:12.594113Z",
     "iopub.status.busy": "2021-10-11T11:24:12.593472Z",
     "iopub.status.idle": "2021-10-11T11:24:12.596180Z",
     "shell.execute_reply": "2021-10-11T11:24:12.596738Z"
    },
    "papermill": {
     "duration": 0.04491,
     "end_time": "2021-10-11T11:24:12.596904",
     "exception": false,
     "start_time": "2021-10-11T11:24:12.551994",
     "status": "completed"
    },
    "tags": []
   },
   "outputs": [
    {
     "data": {
      "text/plain": [
       "['f182']"
      ]
     },
     "execution_count": 7,
     "metadata": {},
     "output_type": "execute_result"
    }
   ],
   "source": [
    "del_list"
   ]
  },
  {
   "cell_type": "code",
   "execution_count": 8,
   "id": "79f5b1eb",
   "metadata": {
    "execution": {
     "iopub.execute_input": "2021-10-11T11:24:12.664645Z",
     "iopub.status.busy": "2021-10-11T11:24:12.663949Z",
     "iopub.status.idle": "2021-10-11T11:24:12.666915Z",
     "shell.execute_reply": "2021-10-11T11:24:12.666279Z"
    },
    "papermill": {
     "duration": 0.039686,
     "end_time": "2021-10-11T11:24:12.667060",
     "exception": false,
     "start_time": "2021-10-11T11:24:12.627374",
     "status": "completed"
    },
    "tags": []
   },
   "outputs": [],
   "source": [
    "FEATURE = [x for x in FEATURE if x not in del_list]\n",
    "CAT_COL = [x for x in CAT_COL if x not in del_list]\n",
    "NUMERIC_COL = [x for x in NUMERIC_COL if x not in del_list]\n",
    "\n",
    "feature_dic = {\n",
    "    'feature': FEATURE,\n",
    "    'categorical': CAT_COL,\n",
    "    'numerical': NUMERIC_COL,\n",
    "}"
   ]
  },
  {
   "cell_type": "code",
   "execution_count": 9,
   "id": "7aec27dc",
   "metadata": {
    "execution": {
     "iopub.execute_input": "2021-10-11T11:24:12.739907Z",
     "iopub.status.busy": "2021-10-11T11:24:12.739182Z",
     "iopub.status.idle": "2021-10-11T13:43:23.955581Z",
     "shell.execute_reply": "2021-10-11T13:43:23.956673Z"
    },
    "papermill": {
     "duration": 8351.260608,
     "end_time": "2021-10-11T13:43:23.957826",
     "exception": false,
     "start_time": "2021-10-11T11:24:12.697218",
     "status": "completed"
    },
    "tags": []
   },
   "outputs": [
    {
     "name": "stdout",
     "output_type": "stream",
     "text": [
      "Training until validation scores don't improve for 30 rounds\n",
      "[20]\tvalidation's auc: 0.839391\n",
      "[40]\tvalidation's auc: 0.841858\n",
      "[60]\tvalidation's auc: 0.8445\n",
      "[80]\tvalidation's auc: 0.846309\n",
      "[100]\tvalidation's auc: 0.84768\n",
      "[120]\tvalidation's auc: 0.848984\n",
      "[140]\tvalidation's auc: 0.849713\n",
      "[160]\tvalidation's auc: 0.850186\n",
      "[180]\tvalidation's auc: 0.850615\n",
      "[200]\tvalidation's auc: 0.850807\n",
      "[220]\tvalidation's auc: 0.850995\n",
      "[240]\tvalidation's auc: 0.851105\n",
      "[260]\tvalidation's auc: 0.8512\n",
      "[280]\tvalidation's auc: 0.851237\n",
      "[300]\tvalidation's auc: 0.851215\n",
      "Early stopping, best iteration is:\n",
      "[283]\tvalidation's auc: 0.851261\n",
      "\n",
      "Fold: 0; Auc: 0.85126\n",
      "\n",
      "--------------------------------------------------\n",
      "\n",
      "\n",
      "\n",
      "\n",
      "Training until validation scores don't improve for 30 rounds\n",
      "[20]\tvalidation's auc: 0.838843\n",
      "[40]\tvalidation's auc: 0.841474\n",
      "[60]\tvalidation's auc: 0.844246\n",
      "[80]\tvalidation's auc: 0.846072\n",
      "[100]\tvalidation's auc: 0.847492\n",
      "[120]\tvalidation's auc: 0.848755\n",
      "[140]\tvalidation's auc: 0.849456\n",
      "[160]\tvalidation's auc: 0.84991\n",
      "[180]\tvalidation's auc: 0.850341\n",
      "[200]\tvalidation's auc: 0.85069\n",
      "[220]\tvalidation's auc: 0.850818\n",
      "[240]\tvalidation's auc: 0.85087\n",
      "[260]\tvalidation's auc: 0.850873\n",
      "[280]\tvalidation's auc: 0.850938\n",
      "[300]\tvalidation's auc: 0.850903\n",
      "[320]\tvalidation's auc: 0.850949\n",
      "[340]\tvalidation's auc: 0.851004\n",
      "[360]\tvalidation's auc: 0.850969\n",
      "[380]\tvalidation's auc: 0.851033\n",
      "[400]\tvalidation's auc: 0.850945\n",
      "Early stopping, best iteration is:\n",
      "[379]\tvalidation's auc: 0.851044\n",
      "\n",
      "Fold: 1; Auc: 0.85104\n",
      "\n",
      "--------------------------------------------------\n",
      "\n",
      "\n",
      "\n",
      "\n",
      "Training until validation scores don't improve for 30 rounds\n",
      "[20]\tvalidation's auc: 0.839764\n",
      "[40]\tvalidation's auc: 0.842365\n",
      "[60]\tvalidation's auc: 0.844896\n",
      "[80]\tvalidation's auc: 0.846802\n",
      "[100]\tvalidation's auc: 0.848322\n",
      "[120]\tvalidation's auc: 0.849548\n",
      "[140]\tvalidation's auc: 0.85028\n",
      "[160]\tvalidation's auc: 0.85078\n",
      "[180]\tvalidation's auc: 0.851085\n",
      "[200]\tvalidation's auc: 0.851279\n",
      "[220]\tvalidation's auc: 0.851348\n",
      "[240]\tvalidation's auc: 0.851465\n",
      "[260]\tvalidation's auc: 0.851529\n",
      "[280]\tvalidation's auc: 0.851549\n",
      "[300]\tvalidation's auc: 0.851497\n",
      "Early stopping, best iteration is:\n",
      "[284]\tvalidation's auc: 0.851558\n",
      "\n",
      "Fold: 2; Auc: 0.85156\n",
      "\n",
      "--------------------------------------------------\n",
      "\n",
      "\n",
      "\n",
      "\n",
      "Training until validation scores don't improve for 30 rounds\n",
      "[20]\tvalidation's auc: 0.840081\n",
      "[40]\tvalidation's auc: 0.842532\n",
      "[60]\tvalidation's auc: 0.845226\n",
      "[80]\tvalidation's auc: 0.847052\n",
      "[100]\tvalidation's auc: 0.848426\n",
      "[120]\tvalidation's auc: 0.849634\n",
      "[140]\tvalidation's auc: 0.850394\n",
      "[160]\tvalidation's auc: 0.850934\n",
      "[180]\tvalidation's auc: 0.851302\n",
      "[200]\tvalidation's auc: 0.851584\n",
      "[220]\tvalidation's auc: 0.851554\n",
      "[240]\tvalidation's auc: 0.851737\n",
      "[260]\tvalidation's auc: 0.851848\n",
      "[280]\tvalidation's auc: 0.85181\n",
      "Early stopping, best iteration is:\n",
      "[262]\tvalidation's auc: 0.85187\n",
      "\n",
      "Fold: 3; Auc: 0.85187\n",
      "\n",
      "--------------------------------------------------\n",
      "\n",
      "\n",
      "\n",
      "\n",
      "Training until validation scores don't improve for 30 rounds\n",
      "[20]\tvalidation's auc: 0.839186\n",
      "[40]\tvalidation's auc: 0.841506\n",
      "[60]\tvalidation's auc: 0.8441\n",
      "[80]\tvalidation's auc: 0.845929\n",
      "[100]\tvalidation's auc: 0.847345\n",
      "[120]\tvalidation's auc: 0.848437\n",
      "[140]\tvalidation's auc: 0.849117\n",
      "[160]\tvalidation's auc: 0.849636\n",
      "[180]\tvalidation's auc: 0.849994\n",
      "[200]\tvalidation's auc: 0.850219\n",
      "[220]\tvalidation's auc: 0.850346\n",
      "[240]\tvalidation's auc: 0.850468\n",
      "[260]\tvalidation's auc: 0.850538\n",
      "[280]\tvalidation's auc: 0.850617\n",
      "[300]\tvalidation's auc: 0.850589\n",
      "[320]\tvalidation's auc: 0.850623\n",
      "[340]\tvalidation's auc: 0.850638\n",
      "[360]\tvalidation's auc: 0.850619\n",
      "Early stopping, best iteration is:\n",
      "[333]\tvalidation's auc: 0.850657\n",
      "\n",
      "Fold: 4; Auc: 0.85066\n",
      "\n",
      "--------------------------------------------------\n",
      "\n",
      "\n",
      "\n",
      "\n",
      "CV-Auc: 0.85128\n",
      "\n"
     ]
    }
   ],
   "source": [
    "score = 0\n",
    "model_list = []\n",
    "\n",
    "for i, fold_ in enumerate(FOLD_LIST):\n",
    "\n",
    "    mask_train = (train[FOLD_STRAT_NAME] != fold_)\n",
    "    mask_test = (train[FOLD_STRAT_NAME] == fold_)\n",
    "    \n",
    "    \n",
    "    train_x, train_y = train.loc[mask_train, FEATURE], train.loc[mask_train, TARGET_COL]\n",
    "    test_x, test_y = train.loc[mask_test, FEATURE], train.loc[mask_test, TARGET_COL]\n",
    "\n",
    "    model = lgb.train(\n",
    "        PARAMS_LGB_BASE,\n",
    "        lgb.Dataset(train_x, label=train_y,categorical_feature=CAT_COL), 100000,\n",
    "        valid_sets = lgb.Dataset(test_x, label=test_y,categorical_feature=CAT_COL),\n",
    "        valid_names ='validation', verbose_eval=20, early_stopping_rounds = 30,\n",
    "    )\n",
    "    \n",
    "    #evaluate score and save model for importance/prediction\n",
    "    score_fold = model.best_score['validation']['auc'] \n",
    "    score += score_fold/N_FOLD\n",
    "    \n",
    "    model_list.append(model)\n",
    "    \n",
    "    print('\\nFold: {}; Auc: {:.5f}\\n'.format(fold_, score_fold))\n",
    "    print('-'*50)\n",
    "    print('\\n\\n\\n')\n",
    "    gc.collect()\n",
    "    \n",
    "print('CV-Auc: {:.5f}\\n'.format(score))"
   ]
  },
  {
   "cell_type": "markdown",
   "id": "4a2db9e3",
   "metadata": {
    "papermill": {
     "duration": 0.06232,
     "end_time": "2021-10-11T13:43:24.080883",
     "exception": false,
     "start_time": "2021-10-11T13:43:24.018563",
     "status": "completed"
    },
    "tags": []
   },
   "source": [
    "# Feature importance"
   ]
  },
  {
   "cell_type": "code",
   "execution_count": 10,
   "id": "31faebef",
   "metadata": {
    "execution": {
     "iopub.execute_input": "2021-10-11T13:43:24.215010Z",
     "iopub.status.busy": "2021-10-11T13:43:24.214300Z",
     "iopub.status.idle": "2021-10-11T13:43:24.251163Z",
     "shell.execute_reply": "2021-10-11T13:43:24.250116Z"
    },
    "papermill": {
     "duration": 0.110152,
     "end_time": "2021-10-11T13:43:24.251328",
     "exception": false,
     "start_time": "2021-10-11T13:43:24.141176",
     "status": "completed"
    },
    "tags": []
   },
   "outputs": [],
   "source": [
    "feature_importances = pd.DataFrame()\n",
    "feature_importances['feature'] = FEATURE\n",
    "\n",
    "\n",
    "for fold_, model in enumerate(model_list):\n",
    "    feature_importances['fold_{}'.format(fold_ + 1)] = model.feature_importance(importance_type='gain')"
   ]
  },
  {
   "cell_type": "code",
   "execution_count": 11,
   "id": "0fb73fa2",
   "metadata": {
    "execution": {
     "iopub.execute_input": "2021-10-11T13:43:24.391785Z",
     "iopub.status.busy": "2021-10-11T13:43:24.379820Z",
     "iopub.status.idle": "2021-10-11T13:43:25.228592Z",
     "shell.execute_reply": "2021-10-11T13:43:25.227999Z"
    },
    "papermill": {
     "duration": 0.918182,
     "end_time": "2021-10-11T13:43:25.228743",
     "exception": false,
     "start_time": "2021-10-11T13:43:24.310561",
     "status": "completed"
    },
    "tags": []
   },
   "outputs": [
    {
     "data": {
      "text/plain": [
       "Text(0.5, 1.0, '50 TOP feature importance over 5 average')"
      ]
     },
     "execution_count": 11,
     "metadata": {},
     "output_type": "execute_result"
    },
    {
     "data": {
      "image/png": "[encoded data removed]",
      "text/plain": [
       "<Figure size 864x576 with 1 Axes>"
      ]
     },
     "metadata": {
      "needs_background": "light"
     },
     "output_type": "display_data"
    }
   ],
   "source": [
    "scaler = MinMaxScaler(feature_range=(0, 100))\n",
    "\n",
    "average_importance = feature_importances.drop('feature', axis = 1).mean(axis=1)\n",
    "\n",
    "feature_importances['average'] = scaler.fit_transform(X=pd.DataFrame(average_importance))\n",
    "feature_importances = feature_importances.sort_values(by='average', ascending=False)\n",
    "\n",
    "feature_importances[['feature', 'average']].to_csv('feature_importances.csv',index=False)\n",
    "\n",
    "fig = plt.figure(figsize=(12,8))\n",
    "sns.barplot(data=feature_importances.head(50), x='average', y='feature');\n",
    "plt.title(f'50 TOP feature importance over {N_FOLD} average')"
   ]
  },
  {
   "cell_type": "markdown",
   "id": "40508e4c",
   "metadata": {
    "papermill": {
     "duration": 0.060602,
     "end_time": "2021-10-11T13:43:25.350095",
     "exception": false,
     "start_time": "2021-10-11T13:43:25.289493",
     "status": "completed"
    },
    "tags": []
   },
   "source": [
    "# TEST Blending"
   ]
  },
  {
   "cell_type": "code",
   "execution_count": 12,
   "id": "b1c3cb5b",
   "metadata": {
    "execution": {
     "iopub.execute_input": "2021-10-11T13:43:25.726508Z",
     "iopub.status.busy": "2021-10-11T13:43:25.725524Z",
     "iopub.status.idle": "2021-10-11T13:43:25.729812Z",
     "shell.execute_reply": "2021-10-11T13:43:25.729166Z"
    },
    "papermill": {
     "duration": 0.302211,
     "end_time": "2021-10-11T13:43:25.729963",
     "exception": false,
     "start_time": "2021-10-11T13:43:25.427752",
     "status": "completed"
    },
    "tags": []
   },
   "outputs": [
    {
     "data": {
      "text/plain": [
       "36"
      ]
     },
     "execution_count": 12,
     "metadata": {},
     "output_type": "execute_result"
    }
   ],
   "source": [
    "del train\n",
    "gc.collect()"
   ]
  },
  {
   "cell_type": "code",
   "execution_count": 13,
   "id": "94c302c7",
   "metadata": {
    "execution": {
     "iopub.execute_input": "2021-10-11T13:43:25.859209Z",
     "iopub.status.busy": "2021-10-11T13:43:25.858500Z",
     "iopub.status.idle": "2021-10-11T13:43:32.562711Z",
     "shell.execute_reply": "2021-10-11T13:43:32.562073Z"
    },
    "papermill": {
     "duration": 6.770908,
     "end_time": "2021-10-11T13:43:32.562876",
     "exception": false,
     "start_time": "2021-10-11T13:43:25.791968",
     "status": "completed"
    },
    "tags": []
   },
   "outputs": [],
   "source": [
    "test = pd.read_pickle(\n",
    "    os.path.join(PATH_NOTEBOOK, 'test_unscaled.pkl')\n",
    ")"
   ]
  },
  {
   "cell_type": "code",
   "execution_count": 14,
   "id": "c2cd0a5f",
   "metadata": {
    "execution": {
     "iopub.execute_input": "2021-10-11T13:43:32.695697Z",
     "iopub.status.busy": "2021-10-11T13:43:32.695018Z",
     "iopub.status.idle": "2021-10-11T13:49:00.555817Z",
     "shell.execute_reply": "2021-10-11T13:49:00.555164Z"
    },
    "papermill": {
     "duration": 327.928667,
     "end_time": "2021-10-11T13:49:00.556018",
     "exception": false,
     "start_time": "2021-10-11T13:43:32.627351",
     "status": "completed"
    },
    "tags": []
   },
   "outputs": [],
   "source": [
    "pred_test = np.zeros(test.shape[0])\n",
    "\n",
    "for fold_, model in enumerate(model_list):\n",
    "    pred_test += model.predict(test[FEATURE])/N_FOLD\n"
   ]
  },
  {
   "cell_type": "markdown",
   "id": "2efcc4c9",
   "metadata": {
    "papermill": {
     "duration": 0.062524,
     "end_time": "2021-10-11T13:49:00.682343",
     "exception": false,
     "start_time": "2021-10-11T13:49:00.619819",
     "status": "completed"
    },
    "tags": []
   },
   "source": [
    "# SAVE RESULT"
   ]
  },
  {
   "cell_type": "code",
   "execution_count": 15,
   "id": "a061768c",
   "metadata": {
    "execution": {
     "iopub.execute_input": "2021-10-11T13:49:00.811070Z",
     "iopub.status.busy": "2021-10-11T13:49:00.809797Z",
     "iopub.status.idle": "2021-10-11T13:49:00.813651Z",
     "shell.execute_reply": "2021-10-11T13:49:00.814113Z"
    },
    "papermill": {
     "duration": 0.070238,
     "end_time": "2021-10-11T13:49:00.814306",
     "exception": false,
     "start_time": "2021-10-11T13:49:00.744068",
     "status": "completed"
    },
    "tags": []
   },
   "outputs": [],
   "source": [
    "#FINDED NEW FEATURE\n",
    "with open('feature_dic.pkl', 'wb') as file_name:\n",
    "    pickle.dump(feature_dic, file_name)"
   ]
  },
  {
   "cell_type": "code",
   "execution_count": 16,
   "id": "e90f5080",
   "metadata": {
    "execution": {
     "iopub.execute_input": "2021-10-11T13:49:00.942894Z",
     "iopub.status.busy": "2021-10-11T13:49:00.942211Z",
     "iopub.status.idle": "2021-10-11T13:49:02.986812Z",
     "shell.execute_reply": "2021-10-11T13:49:02.986170Z"
    },
    "papermill": {
     "duration": 2.109792,
     "end_time": "2021-10-11T13:49:02.986992",
     "exception": false,
     "start_time": "2021-10-11T13:49:00.877200",
     "status": "completed"
    },
    "tags": []
   },
   "outputs": [],
   "source": [
    "submission = pd.read_csv(os.path.join(INPUT_PATH, 'sample_submission.csv'))\n",
    "submission['target'] = pred_test\n",
    "\n",
    "submission.to_csv('submission.csv', index = False)"
   ]
  }
 ],
 "metadata": {
  "kernelspec": {
   "display_name": "Python 3",
   "language": "python",
   "name": "python3"
  },
  "language_info": {
   "codemirror_mode": {
    "name": "ipython",
    "version": 3
   },
   "file_extension": ".py",
   "mimetype": "text/x-python",
   "name": "python",
   "nbconvert_exporter": "python",
   "pygments_lexer": "ipython3",
   "version": "3.7.10"
  },
  "papermill": {
   "default_parameters": {},
   "duration": 14439.279327,
   "end_time": "2021-10-11T13:49:04.532590",
   "environment_variables": {},
   "exception": null,
   "input_path": "__notebook__.ipynb",
   "output_path": "__notebook__.ipynb",
   "parameters": {},
   "start_time": "2021-10-11T09:48:25.253263",
   "version": "2.3.3"
  }
 },
 "nbformat": 4,
 "nbformat_minor": 5
}
