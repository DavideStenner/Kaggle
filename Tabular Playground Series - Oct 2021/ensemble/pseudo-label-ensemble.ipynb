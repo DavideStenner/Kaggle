{
 "cells": [
  {
   "cell_type": "code",
   "execution_count": 1,
   "id": "18792294",
   "metadata": {
    "_cell_guid": "b1076dfc-b9ad-4769-8c92-a6c4dae69d19",
    "_uuid": "8f2839f25d086af736a60e9eeb907d3b93b6e0e5",
    "execution": {
     "iopub.execute_input": "2021-10-28T12:54:31.679584Z",
     "iopub.status.busy": "2021-10-28T12:54:31.677749Z",
     "iopub.status.idle": "2021-10-28T12:54:34.108991Z",
     "shell.execute_reply": "2021-10-28T12:54:34.108290Z",
     "shell.execute_reply.started": "2021-10-22T09:58:07.937621Z"
    },
    "papermill": {
     "duration": 2.442879,
     "end_time": "2021-10-28T12:54:34.109203",
     "exception": false,
     "start_time": "2021-10-28T12:54:31.666324",
     "status": "completed"
    },
    "tags": []
   },
   "outputs": [
    {
     "data": {
      "text/html": [
       "<style type='text/css'>\n",
       ".datatable table.frame { margin-bottom: 0; }\n",
       ".datatable table.frame thead { border-bottom: none; }\n",
       ".datatable table.frame tr.coltypes td {  color: #FFFFFF;  line-height: 6px;  padding: 0 0.5em;}\n",
       ".datatable .bool    { background: #DDDD99; }\n",
       ".datatable .object  { background: #565656; }\n",
       ".datatable .int     { background: #5D9E5D; }\n",
       ".datatable .float   { background: #4040CC; }\n",
       ".datatable .str     { background: #CC4040; }\n",
       ".datatable .time    { background: #40CC40; }\n",
       ".datatable .row_index {  background: var(--jp-border-color3);  border-right: 1px solid var(--jp-border-color0);  color: var(--jp-ui-font-color3);  font-size: 9px;}\n",
       ".datatable .frame tbody td { text-align: left; }\n",
       ".datatable .frame tr.coltypes .row_index {  background: var(--jp-border-color0);}\n",
       ".datatable th:nth-child(2) { padding-left: 12px; }\n",
       ".datatable .hellipsis {  color: var(--jp-cell-editor-border-color);}\n",
       ".datatable .vellipsis {  background: var(--jp-layout-color0);  color: var(--jp-cell-editor-border-color);}\n",
       ".datatable .na {  color: var(--jp-cell-editor-border-color);  font-size: 80%;}\n",
       ".datatable .sp {  opacity: 0.25;}\n",
       ".datatable .footer { font-size: 9px; }\n",
       ".datatable .frame_dimensions {  background: var(--jp-border-color3);  border-top: 1px solid var(--jp-border-color0);  color: var(--jp-ui-font-color3);  display: inline-block;  opacity: 0.6;  padding: 1px 10px 1px 5px;}\n",
       "</style>\n"
      ],
      "text/plain": [
       "<IPython.core.display.HTML object>"
      ]
     },
     "metadata": {},
     "output_type": "display_data"
    }
   ],
   "source": [
    "import pandas as pd\n",
    "import os\n",
    "from sklearn.metrics import roc_auc_score\n",
    "\n",
    "import lightgbm as lgb\n",
    "import xgboost as xgb\n",
    "import catboost as cb\n",
    "\n",
    "from utilities import TARGET_COL, N_FOLD\n",
    "\n",
    "PATH_LIST = [\n",
    "#     '../input/lightgbm-tuned',\n",
    "    '../input/pseudo-label-lgb-gpu',\n",
    "    '../input/pseudo-label-xgb',\n",
    "    '../input/pseudo-label-catboost',\n",
    "    '../input/pseudo-label-nn-cat-binned',\n",
    "]\n",
    "\n",
    "INPUT_PATH = '../input/tabular-playground-series-oct-2021'"
   ]
  },
  {
   "cell_type": "markdown",
   "id": "671cce1e",
   "metadata": {
    "papermill": {
     "duration": 0.005818,
     "end_time": "2021-10-28T12:54:34.121875",
     "exception": false,
     "start_time": "2021-10-28T12:54:34.116057",
     "status": "completed"
    },
    "tags": []
   },
   "source": [
    "# Prediction"
   ]
  },
  {
   "cell_type": "code",
   "execution_count": 2,
   "id": "86e6c27f",
   "metadata": {
    "execution": {
     "iopub.execute_input": "2021-10-28T12:54:34.142847Z",
     "iopub.status.busy": "2021-10-28T12:54:34.142101Z",
     "iopub.status.idle": "2021-10-28T12:54:35.542740Z",
     "shell.execute_reply": "2021-10-28T12:54:35.542044Z",
     "shell.execute_reply.started": "2021-10-22T09:58:18.518197Z"
    },
    "papermill": {
     "duration": 1.414854,
     "end_time": "2021-10-28T12:54:35.542878",
     "exception": false,
     "start_time": "2021-10-28T12:54:34.128024",
     "status": "completed"
    },
    "tags": []
   },
   "outputs": [],
   "source": [
    "model_name_list = []\n",
    "\n",
    "for i, path in enumerate(PATH_LIST):\n",
    "    pred = pd.read_csv(os.path.join(path, 'submission.csv'))\n",
    "    \n",
    "    name_model = 'target_' + path.replace('../input/', '')\n",
    "    pred.rename(columns = {'target': name_model}, inplace = True)\n",
    "    \n",
    "    if i == 0:\n",
    "        data = pred\n",
    "    else:\n",
    "        data[name_model] = pred[name_model]\n",
    "    \n",
    "    model_name_list.append(name_model)"
   ]
  },
  {
   "cell_type": "code",
   "execution_count": 3,
   "id": "c6761d8e",
   "metadata": {
    "execution": {
     "iopub.execute_input": "2021-10-28T12:54:35.562985Z",
     "iopub.status.busy": "2021-10-28T12:54:35.561640Z",
     "iopub.status.idle": "2021-10-28T12:54:35.612675Z",
     "shell.execute_reply": "2021-10-28T12:54:35.612127Z",
     "shell.execute_reply.started": "2021-10-22T09:58:21.889289Z"
    },
    "papermill": {
     "duration": 0.063878,
     "end_time": "2021-10-28T12:54:35.612822",
     "exception": false,
     "start_time": "2021-10-28T12:54:35.548944",
     "status": "completed"
    },
    "tags": []
   },
   "outputs": [],
   "source": [
    "data['target'] = data[model_name_list].mean(axis = 1)\n",
    "data.drop(model_name_list, axis = 1, inplace = True)"
   ]
  },
  {
   "cell_type": "code",
   "execution_count": 4,
   "id": "95270f4f",
   "metadata": {
    "execution": {
     "iopub.execute_input": "2021-10-28T12:54:35.630740Z",
     "iopub.status.busy": "2021-10-28T12:54:35.629765Z",
     "iopub.status.idle": "2021-10-28T12:54:37.500474Z",
     "shell.execute_reply": "2021-10-28T12:54:37.499880Z",
     "shell.execute_reply.started": "2021-10-22T09:58:29.234218Z"
    },
    "papermill": {
     "duration": 1.881922,
     "end_time": "2021-10-28T12:54:37.500632",
     "exception": false,
     "start_time": "2021-10-28T12:54:35.618710",
     "status": "completed"
    },
    "tags": []
   },
   "outputs": [],
   "source": [
    "# submission['target'] = pred_test\n",
    "submission = data\n",
    "submission.to_csv('submission.csv', index = False)"
   ]
  }
 ],
 "metadata": {
  "kernelspec": {
   "display_name": "Python 3",
   "language": "python",
   "name": "python3"
  },
  "language_info": {
   "codemirror_mode": {
    "name": "ipython",
    "version": 3
   },
   "file_extension": ".py",
   "mimetype": "text/x-python",
   "name": "python",
   "nbconvert_exporter": "python",
   "pygments_lexer": "ipython3",
   "version": "3.7.10"
  },
  "papermill": {
   "default_parameters": {},
   "duration": 16.038291,
   "end_time": "2021-10-28T12:54:38.217774",
   "environment_variables": {},
   "exception": null,
   "input_path": "__notebook__.ipynb",
   "output_path": "__notebook__.ipynb",
   "parameters": {},
   "start_time": "2021-10-28T12:54:22.179483",
   "version": "2.3.3"
  }
 },
 "nbformat": 4,
 "nbformat_minor": 5
}
