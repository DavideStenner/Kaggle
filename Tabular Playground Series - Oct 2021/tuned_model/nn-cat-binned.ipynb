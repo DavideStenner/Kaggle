{
 "cells": [
  {
   "cell_type": "code",
   "execution_count": 1,
   "id": "ed79eed7",
   "metadata": {
    "_cell_guid": "b1076dfc-b9ad-4769-8c92-a6c4dae69d19",
    "_uuid": "8f2839f25d086af736a60e9eeb907d3b93b6e0e5",
    "execution": {
     "iopub.execute_input": "2021-10-19T09:52:42.147877Z",
     "iopub.status.busy": "2021-10-19T09:52:42.146342Z",
     "iopub.status.idle": "2021-10-19T09:52:44.797174Z",
     "shell.execute_reply": "2021-10-19T09:52:44.795560Z",
     "shell.execute_reply.started": "2021-10-19T09:44:26.899834Z"
    },
    "papermill": {
     "duration": 2.67034,
     "end_time": "2021-10-19T09:52:44.797516",
     "exception": false,
     "start_time": "2021-10-19T09:52:42.127176",
     "status": "completed"
    },
    "tags": []
   },
   "outputs": [],
   "source": [
    "import pandas as pd\n",
    "import numpy as np\n",
    "import pickle\n",
    "import os\n",
    "import gc\n",
    "import seaborn as sns\n",
    "import torch\n",
    "from torch import nn\n",
    "import torch.optim as optim\n",
    "import torch.nn.functional as F\n",
    "from sklearn.metrics import roc_auc_score\n",
    "\n",
    "from utilities import (\n",
    "    RANDOM_STATE, TARGET_COL, N_FOLD, FOLD_STRAT_NAME,\n",
    "    EPOCHS, BATCH_SIZE, \n",
    "    EARLY_STOPPING_STEPS, EARLY_STOP\n",
    ")\n",
    "\n",
    "from nn_utilities import (\n",
    "    seed_everything, run_training_model_fix, inference_fn\n",
    ")\n",
    "\n",
    "DEVICE = ('cuda' if torch.cuda.is_available() else 'cpu')\n",
    "\n",
    "INPUT_PATH = '../input/tabular-playground-series-oct-2021'\n",
    "PATH_NOTEBOOK = '../input/preprocess-category-gpu'"
   ]
  },
  {
   "cell_type": "code",
   "execution_count": 2,
   "id": "ce2898e9",
   "metadata": {
    "execution": {
     "iopub.execute_input": "2021-10-19T09:52:44.859047Z",
     "iopub.status.busy": "2021-10-19T09:52:44.855544Z",
     "iopub.status.idle": "2021-10-19T09:52:59.294342Z",
     "shell.execute_reply": "2021-10-19T09:52:59.293382Z",
     "shell.execute_reply.started": "2021-10-19T09:44:29.105836Z"
    },
    "papermill": {
     "duration": 14.469715,
     "end_time": "2021-10-19T09:52:59.294489",
     "exception": false,
     "start_time": "2021-10-19T09:52:44.824774",
     "status": "completed"
    },
    "tags": []
   },
   "outputs": [],
   "source": [
    "train = pd.read_pickle(os.path.join(PATH_NOTEBOOK, 'train_unscaled.pkl'))"
   ]
  },
  {
   "cell_type": "code",
   "execution_count": 3,
   "id": "03133a6d",
   "metadata": {
    "execution": {
     "iopub.execute_input": "2021-10-19T09:52:59.325276Z",
     "iopub.status.busy": "2021-10-19T09:52:59.324760Z",
     "iopub.status.idle": "2021-10-19T09:52:59.338797Z",
     "shell.execute_reply": "2021-10-19T09:52:59.338328Z",
     "shell.execute_reply.started": "2021-10-19T09:44:37.425949Z"
    },
    "papermill": {
     "duration": 0.031421,
     "end_time": "2021-10-19T09:52:59.338908",
     "exception": false,
     "start_time": "2021-10-19T09:52:59.307487",
     "status": "completed"
    },
    "tags": []
   },
   "outputs": [],
   "source": [
    "with open(os.path.join(PATH_NOTEBOOK, 'feature_dic.pkl'), 'rb') as file:\n",
    "    feature_dic = pickle.load(file)"
   ]
  },
  {
   "cell_type": "code",
   "execution_count": 4,
   "id": "66a8111f",
   "metadata": {
    "execution": {
     "iopub.execute_input": "2021-10-19T09:52:59.465764Z",
     "iopub.status.busy": "2021-10-19T09:52:59.464889Z",
     "iopub.status.idle": "2021-10-19T09:52:59.468627Z",
     "shell.execute_reply": "2021-10-19T09:52:59.469034Z",
     "shell.execute_reply.started": "2021-10-19T09:44:37.438488Z"
    },
    "papermill": {
     "duration": 0.11815,
     "end_time": "2021-10-19T09:52:59.469180",
     "exception": false,
     "start_time": "2021-10-19T09:52:59.351030",
     "status": "completed"
    },
    "tags": []
   },
   "outputs": [
    {
     "data": {
      "text/plain": [
       "21"
      ]
     },
     "execution_count": 4,
     "metadata": {},
     "output_type": "execute_result"
    }
   ],
   "source": [
    "#CONSTANT\n",
    "FEATURE = feature_dic['feature']\n",
    "CAT_COL = feature_dic['categorical']\n",
    "NUMERIC_COL = feature_dic['numerical']\n",
    "\n",
    "FOLD_LIST = list(range(N_FOLD))\n",
    "\n",
    "gc.collect()"
   ]
  },
  {
   "cell_type": "code",
   "execution_count": 5,
   "id": "0533cca8",
   "metadata": {
    "execution": {
     "iopub.execute_input": "2021-10-19T09:52:59.503206Z",
     "iopub.status.busy": "2021-10-19T09:52:59.502552Z",
     "iopub.status.idle": "2021-10-19T09:52:59.505216Z",
     "shell.execute_reply": "2021-10-19T09:52:59.505585Z",
     "shell.execute_reply.started": "2021-10-19T09:44:37.546774Z"
    },
    "papermill": {
     "duration": 0.023766,
     "end_time": "2021-10-19T09:52:59.505741",
     "exception": false,
     "start_time": "2021-10-19T09:52:59.481975",
     "status": "completed"
    },
    "tags": []
   },
   "outputs": [],
   "source": [
    "class TabularDataset:\n",
    "    def __init__(self, numeric_col, cat_col, targets):\n",
    "        self.numeric_col = numeric_col\n",
    "        self.cat_col = cat_col\n",
    "        self.targets = targets\n",
    "\n",
    "    def __len__(self):\n",
    "        return (self.numeric_col.shape[0])\n",
    "    \n",
    "    def __getitem__(self, idx):\n",
    "        dct = {\n",
    "            'x_numeric' : torch.tensor(self.numeric_col[idx, :], dtype=torch.long),\n",
    "            'x_cat' : torch.tensor(self.cat_col[idx, :], dtype=torch.float),\n",
    "            'y' : torch.tensor(self.targets[idx], dtype=torch.float)\n",
    "        }\n",
    "        return dct\n",
    "    \n",
    "class InferenceDataset:\n",
    "    def __init__(self, numeric_col, cat_col):\n",
    "        self.numeric_col = numeric_col\n",
    "        self.cat_col = cat_col\n",
    "        \n",
    "    def __len__(self):\n",
    "        return (self.numeric_col.shape[0])\n",
    "    \n",
    "    def __getitem__(self, idx):\n",
    "        dct = {\n",
    "            'x_numeric' : torch.tensor(self.numeric_col[idx, :], dtype=torch.long),\n",
    "            'x_cat' : torch.tensor(self.cat_col[idx, :], dtype=torch.float),\n",
    "        }\n",
    "        return dct\n"
   ]
  },
  {
   "cell_type": "code",
   "execution_count": 6,
   "id": "9f419de5",
   "metadata": {
    "execution": {
     "iopub.execute_input": "2021-10-19T09:52:59.542553Z",
     "iopub.status.busy": "2021-10-19T09:52:59.541851Z",
     "iopub.status.idle": "2021-10-19T09:52:59.544289Z",
     "shell.execute_reply": "2021-10-19T09:52:59.543875Z",
     "shell.execute_reply.started": "2021-10-19T09:50:42.960272Z"
    },
    "papermill": {
     "duration": 0.026027,
     "end_time": "2021-10-19T09:52:59.544393",
     "exception": false,
     "start_time": "2021-10-19T09:52:59.518366",
     "status": "completed"
    },
    "tags": []
   },
   "outputs": [],
   "source": [
    "def train_fn(model, optimizer, scheduler, criterion, dataloader, device):\n",
    "    model.train()\n",
    "    final_loss = 0\n",
    "    \n",
    "    for data in dataloader:\n",
    "        optimizer.zero_grad()\n",
    "        inputs_numeric, input_cat, targets = data['x_numeric'].to(device), data['x_cat'].to(device), data['y'].to(device).unsqueeze(1)\n",
    "\n",
    "        outputs = model(inputs_numeric, input_cat)\n",
    "        \n",
    "        loss = criterion(outputs, targets)\n",
    "        loss.backward()\n",
    "            \n",
    "        optimizer.step()\n",
    "        scheduler.step()\n",
    "        \n",
    "        final_loss += loss.item()\n",
    "        \n",
    "    final_loss /= len(dataloader)\n",
    "    \n",
    "    return final_loss\n",
    "\n",
    "\n",
    "def valid_fn(model, criterion, dataloader, device):\n",
    "    model.eval()\n",
    "    \n",
    "    final_loss = 0\n",
    "    valid_preds = []\n",
    "    \n",
    "    for data in dataloader:\n",
    "        inputs_numeric, input_cat, targets = data['x_numeric'].to(device), data['x_cat'].to(device), data['y'].to(device).unsqueeze(1)\n",
    "        \n",
    "        outputs = model(inputs_numeric, input_cat)\n",
    "        loss = criterion(outputs, targets)\n",
    "\n",
    "        final_loss += loss.item()\n",
    "        \n",
    "        valid_preds.append(outputs.sigmoid().detach().cpu().numpy())\n",
    "        \n",
    "    final_loss /= len(dataloader)\n",
    "    valid_preds = np.concatenate(valid_preds)\n",
    "    \n",
    "    return final_loss, valid_preds\n",
    "\n",
    "def inference_fn(model, dataloader, device):\n",
    "    model.eval()\n",
    "    preds = []\n",
    "    \n",
    "    for data in dataloader:\n",
    "        inputs_numeric, input_cat = data['x_numeric'].to(device), data['x_cat'].to(device)\n",
    "\n",
    "        with torch.no_grad():\n",
    "            outputs = model(inputs_numeric, input_cat)\n",
    "        \n",
    "        preds.append(outputs.sigmoid().detach().cpu().numpy())\n",
    "        \n",
    "    preds = np.concatenate(preds)\n",
    "    \n",
    "    return preds\n"
   ]
  },
  {
   "cell_type": "code",
   "execution_count": 7,
   "id": "9450e152",
   "metadata": {
    "execution": {
     "iopub.execute_input": "2021-10-19T09:52:59.580156Z",
     "iopub.status.busy": "2021-10-19T09:52:59.576481Z",
     "iopub.status.idle": "2021-10-19T09:52:59.582496Z",
     "shell.execute_reply": "2021-10-19T09:52:59.582081Z",
     "shell.execute_reply.started": "2021-10-19T09:44:37.574530Z"
    },
    "papermill": {
     "duration": 0.025887,
     "end_time": "2021-10-19T09:52:59.582611",
     "exception": false,
     "start_time": "2021-10-19T09:52:59.556724",
     "status": "completed"
    },
    "tags": []
   },
   "outputs": [],
   "source": [
    "def run_training(train, valid, fold, model, batch_size, epochs, \n",
    "                 seed, early_stop_step, early_stop, device, learning_rate, weight_decay, verbose= True, save = True):\n",
    "\n",
    "    assert isinstance(train, list) & isinstance(valid, list) & (len(train) == 3) & (len(valid) == 3)\n",
    "    \n",
    "    seed_everything(seed)\n",
    "            \n",
    "    x_train_numeric, x_train_cat, y_train  = train\n",
    "    x_valid_numeric, x_valid_cat, y_valid =  valid\n",
    "    \n",
    "    train_dataset = TabularDataset(x_train_numeric, x_train_cat, y_train)\n",
    "    valid_dataset = TabularDataset(x_valid_numeric, x_valid_cat, y_valid)\n",
    "    \n",
    "    trainloader = torch.utils.data.DataLoader(train_dataset, batch_size=batch_size, shuffle=True)\n",
    "    validloader = torch.utils.data.DataLoader(valid_dataset, batch_size=batch_size, shuffle=False)\n",
    "        \n",
    "    model.to(device)\n",
    "    \n",
    "    optimizer = torch.optim.Adam(model.parameters(), lr=learning_rate, weight_decay=weight_decay)\n",
    "    \n",
    "    scheduler = optim.lr_scheduler.OneCycleLR(optimizer=optimizer, max_lr=learning_rate*10, epochs=epochs, steps_per_epoch=len(trainloader))\n",
    "    \n",
    "    criterion = nn.BCEWithLogitsLoss()\n",
    "    \n",
    "    early_step = 0\n",
    "    \n",
    "    best_loss = np.inf\n",
    "    best_auc = -np.inf\n",
    "    \n",
    "    for epoch in range(epochs):\n",
    "        \n",
    "        train_loss = train_fn(model, optimizer, scheduler, criterion, trainloader, device)\n",
    "        valid_loss, valid_preds = valid_fn(model, criterion, validloader, device)\n",
    "\n",
    "        valid_auc = roc_auc_score(y_valid, valid_preds)\n",
    "        \n",
    "        if verbose:\n",
    "            print(f\"EPOCH: {epoch},  train_loss: {train_loss:.4f}, valid_loss: {valid_loss:.4f}, valid_auc: {valid_auc:.5f}\")\n",
    "        \n",
    "        if valid_auc > best_auc:\n",
    "            \n",
    "            best_auc = valid_auc\n",
    "            best_pred = valid_preds\n",
    "            \n",
    "            if save:\n",
    "                torch.save(model.state_dict(), f\"FOLD_{fold}_.pth\")\n",
    "            \n",
    "        elif(early_stop == True):\n",
    "            \n",
    "            early_step += 1\n",
    "            if (early_step >= early_stop_step):\n",
    "                break\n",
    "                \n",
    "    return best_auc, best_pred\n"
   ]
  },
  {
   "cell_type": "markdown",
   "id": "2f843c38",
   "metadata": {
    "papermill": {
     "duration": 0.012178,
     "end_time": "2021-10-19T09:52:59.607421",
     "exception": false,
     "start_time": "2021-10-19T09:52:59.595243",
     "status": "completed"
    },
    "tags": []
   },
   "source": [
    "# TRAIN"
   ]
  },
  {
   "cell_type": "code",
   "execution_count": 8,
   "id": "738ba18c",
   "metadata": {
    "execution": {
     "iopub.execute_input": "2021-10-19T09:52:59.636479Z",
     "iopub.status.busy": "2021-10-19T09:52:59.635271Z",
     "iopub.status.idle": "2021-10-19T09:52:59.637551Z",
     "shell.execute_reply": "2021-10-19T09:52:59.638003Z",
     "shell.execute_reply.started": "2021-10-19T09:44:37.589965Z"
    },
    "papermill": {
     "duration": 0.018163,
     "end_time": "2021-10-19T09:52:59.638120",
     "exception": false,
     "start_time": "2021-10-19T09:52:59.619957",
     "status": "completed"
    },
    "tags": []
   },
   "outputs": [],
   "source": [
    "num_feature = len(FEATURE)"
   ]
  },
  {
   "cell_type": "code",
   "execution_count": 9,
   "id": "6f4790cd",
   "metadata": {
    "execution": {
     "iopub.execute_input": "2021-10-19T09:52:59.675356Z",
     "iopub.status.busy": "2021-10-19T09:52:59.674567Z",
     "iopub.status.idle": "2021-10-19T09:52:59.677092Z",
     "shell.execute_reply": "2021-10-19T09:52:59.676648Z",
     "shell.execute_reply.started": "2021-10-19T09:44:37.603676Z"
    },
    "papermill": {
     "duration": 0.026702,
     "end_time": "2021-10-19T09:52:59.677192",
     "exception": false,
     "start_time": "2021-10-19T09:52:59.650490",
     "status": "completed"
    },
    "tags": []
   },
   "outputs": [],
   "source": [
    "class ModelBinned(nn.Module):\n",
    "    def __init__(self, num_cat_features, hidden_size):\n",
    "        super(ModelBinned, self).__init__()\n",
    "        \n",
    "        self.hidden_size = hidden_size\n",
    "        \n",
    "        self.embedding = nn.Sequential(\n",
    "            nn.Embedding(num_embeddings = 256, embedding_dim = 8)\n",
    "        )\n",
    "        self.output_embedding = nn.Sequential(            \n",
    "            nn.Linear(1920, self.hidden_size),\n",
    "            nn.GELU(),\n",
    "        )\n",
    "        \n",
    "        self.layer_embedding = nn.Sequential(\n",
    "            nn.BatchNorm1d(hidden_size),\n",
    "            nn.Dropout(0.2),\n",
    "            nn.Linear(hidden_size, hidden_size),\n",
    "            nn.GELU()\n",
    "        )\n",
    "        \n",
    "        self.layer_categorical = nn.Sequential(\n",
    "            nn.Linear(num_cat_features, hidden_size),\n",
    "            nn.GELU(),\n",
    "            nn.BatchNorm1d(hidden_size),\n",
    "            nn.Linear(hidden_size, hidden_size),\n",
    "            nn.GELU()\n",
    "\n",
    "        )\n",
    "\n",
    "        self.layer_concat = nn.Sequential(\n",
    "            nn.BatchNorm1d(hidden_size * 2),\n",
    "            nn.Dropout(0.2),\n",
    "            nn.Linear(hidden_size * 2, hidden_size * 2),\n",
    "            nn.GELU(),\n",
    "            nn.BatchNorm1d(hidden_size * 2),\n",
    "            nn.Dropout(0.2),\n",
    "            nn.Linear(hidden_size * 2, hidden_size * 2),\n",
    "            nn.GELU()\n",
    "        )\n",
    "        \n",
    "        self.classifier = nn.Sequential(\n",
    "            nn.BatchNorm1d(hidden_size * 2),\n",
    "            nn.Dropout(0.1),\n",
    "            nn.Linear(hidden_size * 2, hidden_size),\n",
    "            nn.GELU(),\n",
    "            nn.BatchNorm1d(hidden_size),\n",
    "            nn.Dropout(0.1),\n",
    "            nn.Linear(hidden_size, 1),\n",
    "\n",
    "      )\n",
    "\n",
    "    def forward(self, x_num, x_cat):\n",
    "        x_num = self.embedding(x_num)\n",
    "\n",
    "        x_num = x_num.reshape(x_num.size(0), -1)\n",
    "        new_size = x_num.size(1)\n",
    "        \n",
    "        x_num = self.output_embedding(x_num)\n",
    "        \n",
    "        numeric = self.layer_embedding(x_num)\n",
    "        cat = self.layer_categorical(x_cat)\n",
    "        \n",
    "        concat = torch.cat((numeric, cat), axis = 1)\n",
    "        concat = self.layer_concat(concat)\n",
    "\n",
    "        output = self.classifier(concat)\n",
    "        \n",
    "        return output\n"
   ]
  },
  {
   "cell_type": "code",
   "execution_count": 10,
   "id": "ed8b1cc1",
   "metadata": {
    "execution": {
     "iopub.execute_input": "2021-10-19T09:52:59.717870Z",
     "iopub.status.busy": "2021-10-19T09:52:59.716957Z",
     "iopub.status.idle": "2021-10-19T11:03:10.756001Z",
     "shell.execute_reply": "2021-10-19T11:03:10.756462Z",
     "shell.execute_reply.started": "2021-10-19T09:44:47.185515Z"
    },
    "papermill": {
     "duration": 4211.066629,
     "end_time": "2021-10-19T11:03:10.756642",
     "exception": false,
     "start_time": "2021-10-19T09:52:59.690013",
     "status": "completed"
    },
    "tags": []
   },
   "outputs": [
    {
     "name": "stdout",
     "output_type": "stream",
     "text": [
      "EPOCH: 0,  train_loss: 0.5306, valid_loss: 0.5125, valid_auc: 0.82494\n",
      "EPOCH: 1,  train_loss: 0.5072, valid_loss: 0.5017, valid_auc: 0.83291\n",
      "EPOCH: 2,  train_loss: 0.4948, valid_loss: 0.4916, valid_auc: 0.83960\n",
      "EPOCH: 3,  train_loss: 0.4842, valid_loss: 0.4859, valid_auc: 0.84287\n",
      "EPOCH: 4,  train_loss: 0.4771, valid_loss: 0.4844, valid_auc: 0.84418\n",
      "EPOCH: 5,  train_loss: 0.4712, valid_loss: 0.4826, valid_auc: 0.84543\n",
      "EPOCH: 6,  train_loss: 0.4665, valid_loss: 0.4805, valid_auc: 0.84680\n",
      "EPOCH: 7,  train_loss: 0.4622, valid_loss: 0.4808, valid_auc: 0.84605\n",
      "EPOCH: 8,  train_loss: 0.4596, valid_loss: 0.4797, valid_auc: 0.84808\n",
      "EPOCH: 9,  train_loss: 0.4586, valid_loss: 0.4774, valid_auc: 0.84758\n",
      "EPOCH: 10,  train_loss: 0.4586, valid_loss: 0.4763, valid_auc: 0.84849\n",
      "EPOCH: 11,  train_loss: 0.4594, valid_loss: 0.4755, valid_auc: 0.84950\n",
      "EPOCH: 12,  train_loss: 0.4608, valid_loss: 0.4748, valid_auc: 0.85026\n",
      "EPOCH: 13,  train_loss: 0.4635, valid_loss: 0.4740, valid_auc: 0.85118\n",
      "EPOCH: 14,  train_loss: 0.4661, valid_loss: 0.4733, valid_auc: 0.85209\n",
      "EPOCH: 15,  train_loss: 0.4668, valid_loss: 0.4695, valid_auc: 0.85274\n",
      "EPOCH: 16,  train_loss: 0.4683, valid_loss: 0.4682, valid_auc: 0.85321\n",
      "EPOCH: 17,  train_loss: 0.4689, valid_loss: 0.4665, valid_auc: 0.85432\n",
      "EPOCH: 18,  train_loss: 0.4690, valid_loss: 0.4675, valid_auc: 0.85392\n",
      "EPOCH: 19,  train_loss: 0.4697, valid_loss: 0.4678, valid_auc: 0.85412\n",
      "EPOCH: 20,  train_loss: 0.4700, valid_loss: 0.4734, valid_auc: 0.85367\n",
      "EPOCH: 21,  train_loss: 0.4702, valid_loss: 0.4680, valid_auc: 0.85409\n",
      "EPOCH: 22,  train_loss: 0.4704, valid_loss: 0.4671, valid_auc: 0.85399\n",
      "EPOCH: 23,  train_loss: 0.4706, valid_loss: 0.4683, valid_auc: 0.85362\n",
      "EPOCH: 24,  train_loss: 0.4711, valid_loss: 0.4691, valid_auc: 0.85369\n",
      "EPOCH: 25,  train_loss: 0.4710, valid_loss: 0.4674, valid_auc: 0.85376\n",
      "\n",
      "Fold: 0; Auc: 0.85432\n",
      "\n",
      "--------------------------------------------------\n",
      "\n",
      "\n",
      "\n",
      "\n",
      "EPOCH: 0,  train_loss: 0.5343, valid_loss: 0.5106, valid_auc: 0.82603\n",
      "EPOCH: 1,  train_loss: 0.5047, valid_loss: 0.4997, valid_auc: 0.83382\n",
      "EPOCH: 2,  train_loss: 0.4927, valid_loss: 0.4924, valid_auc: 0.83862\n",
      "EPOCH: 3,  train_loss: 0.4828, valid_loss: 0.4885, valid_auc: 0.84112\n",
      "EPOCH: 4,  train_loss: 0.4739, valid_loss: 0.4861, valid_auc: 0.84318\n",
      "EPOCH: 5,  train_loss: 0.4669, valid_loss: 0.4845, valid_auc: 0.84336\n",
      "EPOCH: 6,  train_loss: 0.4613, valid_loss: 0.4847, valid_auc: 0.84324\n",
      "EPOCH: 7,  train_loss: 0.4562, valid_loss: 0.4851, valid_auc: 0.84415\n",
      "EPOCH: 8,  train_loss: 0.4534, valid_loss: 0.4838, valid_auc: 0.84428\n",
      "EPOCH: 9,  train_loss: 0.4511, valid_loss: 0.4824, valid_auc: 0.84517\n",
      "EPOCH: 10,  train_loss: 0.4517, valid_loss: 0.4849, valid_auc: 0.84443\n",
      "EPOCH: 11,  train_loss: 0.4526, valid_loss: 0.4850, valid_auc: 0.84636\n",
      "EPOCH: 12,  train_loss: 0.4559, valid_loss: 0.4847, valid_auc: 0.84428\n",
      "EPOCH: 13,  train_loss: 0.4579, valid_loss: 0.4792, valid_auc: 0.84860\n",
      "EPOCH: 14,  train_loss: 0.4603, valid_loss: 0.4752, valid_auc: 0.84945\n",
      "EPOCH: 15,  train_loss: 0.4640, valid_loss: 0.4735, valid_auc: 0.85090\n",
      "EPOCH: 16,  train_loss: 0.4674, valid_loss: 0.4721, valid_auc: 0.85166\n",
      "EPOCH: 17,  train_loss: 0.4688, valid_loss: 0.4697, valid_auc: 0.85314\n",
      "EPOCH: 18,  train_loss: 0.4690, valid_loss: 0.4716, valid_auc: 0.85347\n",
      "EPOCH: 19,  train_loss: 0.4693, valid_loss: 0.4691, valid_auc: 0.85280\n",
      "EPOCH: 20,  train_loss: 0.4697, valid_loss: 0.4684, valid_auc: 0.85381\n",
      "EPOCH: 21,  train_loss: 0.4699, valid_loss: 0.4737, valid_auc: 0.85368\n",
      "EPOCH: 22,  train_loss: 0.4705, valid_loss: 0.4705, valid_auc: 0.85288\n",
      "EPOCH: 23,  train_loss: 0.4702, valid_loss: 0.4674, valid_auc: 0.85415\n",
      "EPOCH: 24,  train_loss: 0.4705, valid_loss: 0.8948, valid_auc: 0.84280\n",
      "EPOCH: 25,  train_loss: 0.4707, valid_loss: 0.4688, valid_auc: 0.85329\n",
      "EPOCH: 26,  train_loss: 0.4712, valid_loss: 0.4751, valid_auc: 0.85252\n",
      "EPOCH: 27,  train_loss: 0.4710, valid_loss: 0.4712, valid_auc: 0.85327\n",
      "\n",
      "Fold: 1; Auc: 0.85415\n",
      "\n",
      "--------------------------------------------------\n",
      "\n",
      "\n",
      "\n",
      "\n",
      "EPOCH: 0,  train_loss: 0.5406, valid_loss: 0.5170, valid_auc: 0.82081\n",
      "EPOCH: 1,  train_loss: 0.5104, valid_loss: 0.5047, valid_auc: 0.83073\n",
      "EPOCH: 2,  train_loss: 0.4960, valid_loss: 0.4959, valid_auc: 0.83692\n",
      "EPOCH: 3,  train_loss: 0.4843, valid_loss: 0.4908, valid_auc: 0.84047\n",
      "EPOCH: 4,  train_loss: 0.4749, valid_loss: 0.4878, valid_auc: 0.84185\n",
      "EPOCH: 5,  train_loss: 0.4669, valid_loss: 0.4886, valid_auc: 0.84211\n",
      "EPOCH: 6,  train_loss: 0.4604, valid_loss: 0.4885, valid_auc: 0.84329\n",
      "EPOCH: 7,  train_loss: 0.4556, valid_loss: 0.4854, valid_auc: 0.84370\n",
      "EPOCH: 8,  train_loss: 0.4530, valid_loss: 0.4840, valid_auc: 0.84555\n",
      "EPOCH: 9,  train_loss: 0.4517, valid_loss: 0.4881, valid_auc: 0.84476\n",
      "EPOCH: 10,  train_loss: 0.4523, valid_loss: 0.4841, valid_auc: 0.84575\n",
      "EPOCH: 11,  train_loss: 0.4533, valid_loss: 0.4829, valid_auc: 0.84650\n",
      "EPOCH: 12,  train_loss: 0.4557, valid_loss: 0.4773, valid_auc: 0.84789\n",
      "EPOCH: 13,  train_loss: 0.4582, valid_loss: 0.4754, valid_auc: 0.84918\n",
      "EPOCH: 14,  train_loss: 0.4612, valid_loss: 0.4754, valid_auc: 0.84913\n",
      "EPOCH: 15,  train_loss: 0.4645, valid_loss: 0.4739, valid_auc: 0.85140\n",
      "EPOCH: 16,  train_loss: 0.4676, valid_loss: 0.4721, valid_auc: 0.85274\n",
      "EPOCH: 17,  train_loss: 0.4690, valid_loss: 0.4683, valid_auc: 0.85337\n",
      "EPOCH: 18,  train_loss: 0.4690, valid_loss: 0.4684, valid_auc: 0.85359\n",
      "EPOCH: 19,  train_loss: 0.4691, valid_loss: 0.4675, valid_auc: 0.85383\n",
      "EPOCH: 20,  train_loss: 0.4693, valid_loss: 0.4683, valid_auc: 0.85340\n",
      "EPOCH: 21,  train_loss: 0.4699, valid_loss: 0.4707, valid_auc: 0.85263\n",
      "EPOCH: 22,  train_loss: 0.4700, valid_loss: 0.4704, valid_auc: 0.85375\n",
      "EPOCH: 23,  train_loss: 0.4703, valid_loss: 0.4685, valid_auc: 0.85366\n",
      "EPOCH: 24,  train_loss: 0.4704, valid_loss: 0.4687, valid_auc: 0.85334\n",
      "EPOCH: 25,  train_loss: 0.4708, valid_loss: 0.4686, valid_auc: 0.85365\n",
      "EPOCH: 26,  train_loss: 0.4708, valid_loss: 0.4688, valid_auc: 0.85319\n",
      "EPOCH: 27,  train_loss: 0.4708, valid_loss: 0.4698, valid_auc: 0.85365\n",
      "\n",
      "Fold: 2; Auc: 0.85383\n",
      "\n",
      "--------------------------------------------------\n",
      "\n",
      "\n",
      "\n",
      "\n",
      "EPOCH: 0,  train_loss: 0.5400, valid_loss: 0.5163, valid_auc: 0.82137\n",
      "EPOCH: 1,  train_loss: 0.5101, valid_loss: 0.5038, valid_auc: 0.83118\n",
      "EPOCH: 2,  train_loss: 0.4962, valid_loss: 0.4947, valid_auc: 0.83727\n",
      "EPOCH: 3,  train_loss: 0.4845, valid_loss: 0.4892, valid_auc: 0.84076\n",
      "EPOCH: 4,  train_loss: 0.4746, valid_loss: 0.4884, valid_auc: 0.84156\n",
      "EPOCH: 5,  train_loss: 0.4664, valid_loss: 0.4860, valid_auc: 0.84381\n",
      "EPOCH: 6,  train_loss: 0.4603, valid_loss: 0.4850, valid_auc: 0.84359\n",
      "EPOCH: 7,  train_loss: 0.4549, valid_loss: 0.4889, valid_auc: 0.84357\n",
      "EPOCH: 8,  train_loss: 0.4521, valid_loss: 0.4863, valid_auc: 0.84518\n",
      "EPOCH: 9,  train_loss: 0.4506, valid_loss: 0.4827, valid_auc: 0.84469\n",
      "EPOCH: 10,  train_loss: 0.4498, valid_loss: 0.4810, valid_auc: 0.84569\n",
      "EPOCH: 11,  train_loss: 0.4507, valid_loss: 0.4829, valid_auc: 0.84473\n",
      "EPOCH: 12,  train_loss: 0.4521, valid_loss: 0.4786, valid_auc: 0.84722\n",
      "EPOCH: 13,  train_loss: 0.4545, valid_loss: 0.4799, valid_auc: 0.84731\n",
      "EPOCH: 14,  train_loss: 0.4588, valid_loss: 0.4754, valid_auc: 0.84909\n",
      "EPOCH: 15,  train_loss: 0.4628, valid_loss: 0.4739, valid_auc: 0.85107\n",
      "EPOCH: 16,  train_loss: 0.4660, valid_loss: 0.4701, valid_auc: 0.85180\n",
      "EPOCH: 17,  train_loss: 0.4681, valid_loss: 0.4727, valid_auc: 0.85353\n",
      "EPOCH: 18,  train_loss: 0.4690, valid_loss: 0.4666, valid_auc: 0.85427\n",
      "EPOCH: 19,  train_loss: 0.4693, valid_loss: 0.4684, valid_auc: 0.85423\n",
      "EPOCH: 20,  train_loss: 0.4695, valid_loss: 0.4682, valid_auc: 0.85424\n",
      "EPOCH: 21,  train_loss: 0.4700, valid_loss: 0.4682, valid_auc: 0.85381\n",
      "EPOCH: 22,  train_loss: 0.4703, valid_loss: 0.4700, valid_auc: 0.85316\n",
      "EPOCH: 23,  train_loss: 0.4709, valid_loss: 0.4687, valid_auc: 0.85407\n",
      "EPOCH: 24,  train_loss: 0.4712, valid_loss: 0.4731, valid_auc: 0.85326\n",
      "\n",
      "Fold: 3; Auc: 0.85427\n",
      "\n",
      "--------------------------------------------------\n",
      "\n",
      "\n",
      "\n",
      "\n",
      "EPOCH: 0,  train_loss: 0.5389, valid_loss: 0.5164, valid_auc: 0.82148\n",
      "EPOCH: 1,  train_loss: 0.5088, valid_loss: 0.5039, valid_auc: 0.83083\n",
      "EPOCH: 2,  train_loss: 0.4946, valid_loss: 0.4947, valid_auc: 0.83724\n",
      "EPOCH: 3,  train_loss: 0.4821, valid_loss: 0.4907, valid_auc: 0.84078\n",
      "EPOCH: 4,  train_loss: 0.4719, valid_loss: 0.4887, valid_auc: 0.84176\n",
      "EPOCH: 5,  train_loss: 0.4644, valid_loss: 0.4856, valid_auc: 0.84267\n",
      "EPOCH: 6,  train_loss: 0.4587, valid_loss: 0.4851, valid_auc: 0.84337\n",
      "EPOCH: 7,  train_loss: 0.4539, valid_loss: 0.4858, valid_auc: 0.84320\n",
      "EPOCH: 8,  train_loss: 0.4507, valid_loss: 0.4854, valid_auc: 0.84443\n",
      "EPOCH: 9,  train_loss: 0.4493, valid_loss: 0.4883, valid_auc: 0.84408\n",
      "EPOCH: 10,  train_loss: 0.4493, valid_loss: 0.4831, valid_auc: 0.84472\n",
      "EPOCH: 11,  train_loss: 0.4509, valid_loss: 0.4821, valid_auc: 0.84592\n",
      "EPOCH: 12,  train_loss: 0.4520, valid_loss: 0.4815, valid_auc: 0.84603\n",
      "EPOCH: 13,  train_loss: 0.4543, valid_loss: 0.4828, valid_auc: 0.84569\n",
      "EPOCH: 14,  train_loss: 0.4573, valid_loss: 0.4780, valid_auc: 0.84762\n",
      "EPOCH: 15,  train_loss: 0.4612, valid_loss: 0.4794, valid_auc: 0.84913\n",
      "EPOCH: 16,  train_loss: 0.4648, valid_loss: 0.4732, valid_auc: 0.85061\n",
      "EPOCH: 17,  train_loss: 0.4670, valid_loss: 0.4694, valid_auc: 0.85226\n",
      "EPOCH: 18,  train_loss: 0.4684, valid_loss: 0.4714, valid_auc: 0.85231\n",
      "EPOCH: 19,  train_loss: 0.4692, valid_loss: 0.5069, valid_auc: 0.85131\n",
      "EPOCH: 20,  train_loss: 0.4696, valid_loss: 0.4709, valid_auc: 0.85296\n",
      "EPOCH: 21,  train_loss: 0.4700, valid_loss: 0.4716, valid_auc: 0.85273\n",
      "EPOCH: 22,  train_loss: 0.4705, valid_loss: 0.4697, valid_auc: 0.85277\n",
      "EPOCH: 23,  train_loss: 0.4706, valid_loss: 0.4698, valid_auc: 0.85285\n",
      "EPOCH: 24,  train_loss: 0.4707, valid_loss: 0.4762, valid_auc: 0.85113\n",
      "EPOCH: 25,  train_loss: 0.4713, valid_loss: 0.4714, valid_auc: 0.85300\n",
      "EPOCH: 26,  train_loss: 0.4712, valid_loss: 0.4730, valid_auc: 0.85273\n",
      "EPOCH: 27,  train_loss: 0.4712, valid_loss: 0.4704, valid_auc: 0.85306\n",
      "EPOCH: 28,  train_loss: 0.4712, valid_loss: 0.4708, valid_auc: 0.85259\n",
      "\n",
      "Fold: 4; Auc: 0.85306\n",
      "\n",
      "--------------------------------------------------\n",
      "\n",
      "\n",
      "\n",
      "\n",
      "CV-Auc: 0.85392\n",
      "\n"
     ]
    }
   ],
   "source": [
    "score = 0\n",
    "model_list = []\n",
    "\n",
    "prediction_df = pd.DataFrame(\n",
    "    {\n",
    "        'fold': train[FOLD_STRAT_NAME],\n",
    "        'prediction': np.zeros((train.shape[0]))\n",
    "    }\n",
    ")\n",
    "\n",
    "for i, fold_ in enumerate(FOLD_LIST):\n",
    "\n",
    "    mask_train = (train[FOLD_STRAT_NAME] != fold_)\n",
    "    mask_test = (train[FOLD_STRAT_NAME] == fold_)\n",
    "    \n",
    "    \n",
    "    train_numeric, train_cat, train_y = train.loc[mask_train, NUMERIC_COL].values, train.loc[mask_train, CAT_COL].values, train.loc[mask_train, TARGET_COL].values\n",
    "    valid_numeric, valid_cat, valid_y = train.loc[mask_test, NUMERIC_COL].values, train.loc[mask_test, CAT_COL].values, train.loc[mask_test, TARGET_COL].values\n",
    "    \n",
    "    model_ff = ModelBinned(num_cat_features = len(CAT_COL), hidden_size = 128)\n",
    "    \n",
    "    score_fold, pred_valid = run_training([train_numeric, train_cat, train_y], [valid_numeric, valid_cat, valid_y], \n",
    "                                        fold = fold_, model = model_ff, batch_size = BATCH_SIZE, epochs = EPOCHS, \n",
    "                                        seed = RANDOM_STATE, early_stop_step = EARLY_STOPPING_STEPS, early_stop = EARLY_STOP, \n",
    "                                        device = DEVICE, learning_rate = 1e-3, weight_decay = 1e-5)\n",
    "\n",
    "    #oof prediction\n",
    "    prediction_df.loc[mask_test, 'prediction'] = pred_valid\n",
    "    \n",
    "    #evaluate score and save model for importance/prediction\n",
    "    score += score_fold/N_FOLD\n",
    "    \n",
    "    print('\\nFold: {}; Auc: {:.5f}\\n'.format(fold_, score_fold))\n",
    "    print('-'*50)\n",
    "    print('\\n\\n\\n')\n",
    "    gc.collect()\n",
    "    \n",
    "print('CV-Auc: {:.5f}\\n'.format(score))"
   ]
  },
  {
   "cell_type": "markdown",
   "id": "e1eaf060",
   "metadata": {
    "papermill": {
     "duration": 0.048781,
     "end_time": "2021-10-19T11:03:10.853045",
     "exception": false,
     "start_time": "2021-10-19T11:03:10.804264",
     "status": "completed"
    },
    "tags": []
   },
   "source": [
    "# TEST Blending"
   ]
  },
  {
   "cell_type": "code",
   "execution_count": 11,
   "id": "a07a7887",
   "metadata": {
    "execution": {
     "iopub.execute_input": "2021-10-19T11:03:11.092553Z",
     "iopub.status.busy": "2021-10-19T11:03:11.091833Z",
     "iopub.status.idle": "2021-10-19T11:03:11.094555Z",
     "shell.execute_reply": "2021-10-19T11:03:11.094983Z",
     "shell.execute_reply.started": "2021-10-19T09:47:29.634557Z"
    },
    "papermill": {
     "duration": 0.195042,
     "end_time": "2021-10-19T11:03:11.095177",
     "exception": false,
     "start_time": "2021-10-19T11:03:10.900135",
     "status": "completed"
    },
    "tags": []
   },
   "outputs": [
    {
     "data": {
      "text/plain": [
       "21"
      ]
     },
     "execution_count": 11,
     "metadata": {},
     "output_type": "execute_result"
    }
   ],
   "source": [
    "del train\n",
    "gc.collect()"
   ]
  },
  {
   "cell_type": "code",
   "execution_count": 12,
   "id": "527035ab",
   "metadata": {
    "execution": {
     "iopub.execute_input": "2021-10-19T11:03:11.193499Z",
     "iopub.status.busy": "2021-10-19T11:03:11.192868Z",
     "iopub.status.idle": "2021-10-19T11:03:19.173952Z",
     "shell.execute_reply": "2021-10-19T11:03:19.172952Z",
     "shell.execute_reply.started": "2021-10-19T09:51:19.263661Z"
    },
    "papermill": {
     "duration": 8.031987,
     "end_time": "2021-10-19T11:03:19.174104",
     "exception": false,
     "start_time": "2021-10-19T11:03:11.142117",
     "status": "completed"
    },
    "tags": []
   },
   "outputs": [],
   "source": [
    "test = pd.read_pickle(\n",
    "    os.path.join(PATH_NOTEBOOK, 'test_unscaled.pkl')\n",
    ")\n",
    "\n",
    "test_numeric, test_cat = test[NUMERIC_COL].values, test[CAT_COL].values,"
   ]
  },
  {
   "cell_type": "code",
   "execution_count": 13,
   "id": "07add503",
   "metadata": {
    "execution": {
     "iopub.execute_input": "2021-10-19T11:03:19.274432Z",
     "iopub.status.busy": "2021-10-19T11:03:19.273656Z",
     "iopub.status.idle": "2021-10-19T11:04:04.522092Z",
     "shell.execute_reply": "2021-10-19T11:04:04.522764Z",
     "shell.execute_reply.started": "2021-10-19T09:51:20.046237Z"
    },
    "papermill": {
     "duration": 45.301237,
     "end_time": "2021-10-19T11:04:04.523000",
     "exception": false,
     "start_time": "2021-10-19T11:03:19.221763",
     "status": "completed"
    },
    "tags": []
   },
   "outputs": [],
   "source": [
    "pred_test = np.zeros((test.shape[0], 1))\n",
    "\n",
    "for fold_ in FOLD_LIST:\n",
    "    model = ModelBinned(num_cat_features = len(CAT_COL), hidden_size = 128)\n",
    "    \n",
    "    model.load_state_dict(torch.load(f\"FOLD_{fold_}_.pth\"))\n",
    "    model.to(DEVICE)\n",
    "    \n",
    "    test_dataset = InferenceDataset(test_numeric, test_cat)\n",
    "\n",
    "    testloader = torch.utils.data.DataLoader(test_dataset, batch_size=BATCH_SIZE, shuffle=False)\n",
    "\n",
    "    pred = inference_fn(model, testloader, DEVICE)\n",
    "    pred_test += pred/N_FOLD"
   ]
  },
  {
   "cell_type": "markdown",
   "id": "57c8f471",
   "metadata": {
    "papermill": {
     "duration": 0.053323,
     "end_time": "2021-10-19T11:04:04.630448",
     "exception": false,
     "start_time": "2021-10-19T11:04:04.577125",
     "status": "completed"
    },
    "tags": []
   },
   "source": [
    "# SAVE RESULT"
   ]
  },
  {
   "cell_type": "code",
   "execution_count": 14,
   "id": "910e8a8d",
   "metadata": {
    "execution": {
     "iopub.execute_input": "2021-10-19T11:04:04.739738Z",
     "iopub.status.busy": "2021-10-19T11:04:04.739056Z",
     "iopub.status.idle": "2021-10-19T11:04:06.531525Z",
     "shell.execute_reply": "2021-10-19T11:04:06.531054Z",
     "shell.execute_reply.started": "2021-10-19T09:52:09.282637Z"
    },
    "papermill": {
     "duration": 1.848992,
     "end_time": "2021-10-19T11:04:06.531685",
     "exception": false,
     "start_time": "2021-10-19T11:04:04.682693",
     "status": "completed"
    },
    "tags": []
   },
   "outputs": [],
   "source": [
    "submission = pd.read_csv(os.path.join(INPUT_PATH, 'sample_submission.csv'))\n",
    "submission['target'] = pred_test\n",
    "\n",
    "submission.to_csv('submission.csv', index = False)"
   ]
  },
  {
   "cell_type": "code",
   "execution_count": 15,
   "id": "39770ec3",
   "metadata": {
    "execution": {
     "iopub.execute_input": "2021-10-19T11:04:06.634189Z",
     "iopub.status.busy": "2021-10-19T11:04:06.633427Z",
     "iopub.status.idle": "2021-10-19T11:04:09.406063Z",
     "shell.execute_reply": "2021-10-19T11:04:09.405513Z",
     "shell.execute_reply.started": "2021-10-19T09:52:11.038559Z"
    },
    "papermill": {
     "duration": 2.827409,
     "end_time": "2021-10-19T11:04:09.406199",
     "exception": false,
     "start_time": "2021-10-19T11:04:06.578790",
     "status": "completed"
    },
    "tags": []
   },
   "outputs": [],
   "source": [
    "prediction_df.to_csv('oof_prediction', index = False)"
   ]
  }
 ],
 "metadata": {
  "kernelspec": {
   "display_name": "Python 3",
   "language": "python",
   "name": "python3"
  },
  "language_info": {
   "codemirror_mode": {
    "name": "ipython",
    "version": 3
   },
   "file_extension": ".py",
   "mimetype": "text/x-python",
   "name": "python",
   "nbconvert_exporter": "python",
   "pygments_lexer": "ipython3",
   "version": "3.7.10"
  },
  "papermill": {
   "default_parameters": {},
   "duration": 4295.778416,
   "end_time": "2021-10-19T11:04:10.470849",
   "environment_variables": {},
   "exception": null,
   "input_path": "__notebook__.ipynb",
   "output_path": "__notebook__.ipynb",
   "parameters": {},
   "start_time": "2021-10-19T09:52:34.692433",
   "version": "2.3.3"
  }
 },
 "nbformat": 4,
 "nbformat_minor": 5
}
