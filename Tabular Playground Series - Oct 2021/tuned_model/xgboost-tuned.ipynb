{
 "cells": [
  {
   "cell_type": "code",
   "execution_count": 1,
   "id": "ad86d5ee",
   "metadata": {
    "_cell_guid": "b1076dfc-b9ad-4769-8c92-a6c4dae69d19",
    "_uuid": "8f2839f25d086af736a60e9eeb907d3b93b6e0e5",
    "execution": {
     "iopub.execute_input": "2021-10-16T16:27:05.455203Z",
     "iopub.status.busy": "2021-10-16T16:27:05.453655Z",
     "iopub.status.idle": "2021-10-16T16:27:06.429114Z",
     "shell.execute_reply": "2021-10-16T16:27:06.428014Z",
     "shell.execute_reply.started": "2021-10-16T16:23:20.968269Z"
    },
    "papermill": {
     "duration": 0.994957,
     "end_time": "2021-10-16T16:27:06.429268",
     "exception": false,
     "start_time": "2021-10-16T16:27:05.434311",
     "status": "completed"
    },
    "tags": []
   },
   "outputs": [],
   "source": [
    "import numpy as np\n",
    "import xgboost as xgb\n",
    "import pickle\n",
    "import os\n",
    "import gc\n",
    "from sklearn.preprocessing import MinMaxScaler\n",
    "from matplotlib import pyplot as plt\n",
    "import seaborn as sns\n",
    "import pandas as pd\n",
    "import json\n",
    "\n",
    "from utilities import (\n",
    "    RANDOM_STATE, TARGET_COL, N_FOLD, FOLD_STRAT_NAME,\n",
    "    PARAMS_XGB_GPU_BASE\n",
    ")\n",
    "\n",
    "INPUT_PATH = '../input/tabular-playground-series-oct-2021'\n",
    "PATH_NOTEBOOK = '../input/preprocess-gpu'\n",
    "PATH_PARAM = '../input/optuna-xgboost'"
   ]
  },
  {
   "cell_type": "code",
   "execution_count": 2,
   "id": "43924ff7",
   "metadata": {
    "execution": {
     "iopub.execute_input": "2021-10-16T16:27:06.456378Z",
     "iopub.status.busy": "2021-10-16T16:27:06.455796Z",
     "iopub.status.idle": "2021-10-16T16:27:20.118738Z",
     "shell.execute_reply": "2021-10-16T16:27:20.117603Z",
     "shell.execute_reply.started": "2021-10-16T16:22:38.308527Z"
    },
    "papermill": {
     "duration": 13.677481,
     "end_time": "2021-10-16T16:27:20.118882",
     "exception": false,
     "start_time": "2021-10-16T16:27:06.441401",
     "status": "completed"
    },
    "tags": []
   },
   "outputs": [],
   "source": [
    "train = pd.read_pickle(\n",
    "    os.path.join(PATH_NOTEBOOK, 'train_unscaled.pkl')\n",
    ")"
   ]
  },
  {
   "cell_type": "code",
   "execution_count": 3,
   "id": "8ab2fcae",
   "metadata": {
    "execution": {
     "iopub.execute_input": "2021-10-16T16:27:20.145908Z",
     "iopub.status.busy": "2021-10-16T16:27:20.145149Z",
     "iopub.status.idle": "2021-10-16T16:27:20.162183Z",
     "shell.execute_reply": "2021-10-16T16:27:20.161777Z",
     "shell.execute_reply.started": "2021-10-16T16:22:56.462235Z"
    },
    "papermill": {
     "duration": 0.031919,
     "end_time": "2021-10-16T16:27:20.162292",
     "exception": false,
     "start_time": "2021-10-16T16:27:20.130373",
     "status": "completed"
    },
    "tags": []
   },
   "outputs": [],
   "source": [
    "with open(os.path.join(PATH_NOTEBOOK, 'feature_dic.pkl'), 'rb') as file:\n",
    "    feature_dic = pickle.load(file)"
   ]
  },
  {
   "cell_type": "code",
   "execution_count": 4,
   "id": "47ab093d",
   "metadata": {
    "execution": {
     "iopub.execute_input": "2021-10-16T16:27:20.195940Z",
     "iopub.status.busy": "2021-10-16T16:27:20.195214Z",
     "iopub.status.idle": "2021-10-16T16:27:20.296089Z",
     "shell.execute_reply": "2021-10-16T16:27:20.296518Z",
     "shell.execute_reply.started": "2021-10-16T16:22:58.751132Z"
    },
    "papermill": {
     "duration": 0.123358,
     "end_time": "2021-10-16T16:27:20.296660",
     "exception": false,
     "start_time": "2021-10-16T16:27:20.173302",
     "status": "completed"
    },
    "tags": []
   },
   "outputs": [
    {
     "data": {
      "text/plain": [
       "30"
      ]
     },
     "execution_count": 4,
     "metadata": {},
     "output_type": "execute_result"
    }
   ],
   "source": [
    "#CONSTANT\n",
    "FEATURE = feature_dic['feature']\n",
    "CAT_COL = feature_dic['categorical']\n",
    "NUMERIC_COL = feature_dic['numerical']\n",
    "\n",
    "FOLD_LIST = range(train[FOLD_STRAT_NAME].nunique())\n",
    "\n",
    "gc.collect()"
   ]
  },
  {
   "cell_type": "code",
   "execution_count": 5,
   "id": "15bd6be4",
   "metadata": {
    "execution": {
     "iopub.execute_input": "2021-10-16T16:27:20.324987Z",
     "iopub.status.busy": "2021-10-16T16:27:20.324465Z",
     "iopub.status.idle": "2021-10-16T16:27:20.335550Z",
     "shell.execute_reply": "2021-10-16T16:27:20.336011Z",
     "shell.execute_reply.started": "2021-10-16T16:23:23.087685Z"
    },
    "papermill": {
     "duration": 0.027588,
     "end_time": "2021-10-16T16:27:20.336151",
     "exception": false,
     "start_time": "2021-10-16T16:27:20.308563",
     "status": "completed"
    },
    "tags": []
   },
   "outputs": [
    {
     "name": "stdout",
     "output_type": "stream",
     "text": [
      "{\n",
      "    \"objective\": \"binary:logistic\",\n",
      "    \"booster\": \"gbtree\",\n",
      "    \"eval_metric\": \"auc\",\n",
      "    \"tree_method\": \"gpu_hist\",\n",
      "    \"predictor\": \"gpu_predictor\",\n",
      "    \"seed\": 383920,\n",
      "    \"learning_rate\": 0.005,\n",
      "    \"subsample\": 0.8081548613972851,\n",
      "    \"colsample_bytree\": 0.5093883996922348,\n",
      "    \"lambda\": 6.593897401079495,\n",
      "    \"alpha\": 8.220939046693244,\n",
      "    \"max_depth\": 4,\n",
      "    \"gamma\": 0.9917294458236702\n",
      "}\n"
     ]
    }
   ],
   "source": [
    "params = {\n",
    "    'objective': 'binary:logistic',\n",
    "    'booster': 'gbtree',\n",
    "    'eval_metric': 'auc',\n",
    "    'tree_method': 'gpu_hist',\n",
    "    'predictor': 'gpu_predictor',\n",
    "    'seed': RANDOM_STATE,\n",
    "    \"learning_rate\": .005,\n",
    "}\n",
    "\n",
    "#import lgb optimized parameter (file_name is wrong :()\n",
    "with open(os.path.join(PATH_PARAM, 'final_xgb_param.pkl'), 'rb') as file:\n",
    "    param_xgb_final = pickle.load(file)\n",
    "\n",
    "params.update(param_xgb_final)\n",
    "\n",
    "#pretty print\n",
    "print(json.dumps(params, indent=4))\n"
   ]
  },
  {
   "cell_type": "markdown",
   "id": "a95cd9ba",
   "metadata": {
    "papermill": {
     "duration": 0.011443,
     "end_time": "2021-10-16T16:27:20.359269",
     "exception": false,
     "start_time": "2021-10-16T16:27:20.347826",
     "status": "completed"
    },
    "tags": []
   },
   "source": [
    "# TRAIN"
   ]
  },
  {
   "cell_type": "code",
   "execution_count": 6,
   "id": "16ce6f6e",
   "metadata": {
    "execution": {
     "iopub.execute_input": "2021-10-16T16:27:20.391142Z",
     "iopub.status.busy": "2021-10-16T16:27:20.390615Z",
     "iopub.status.idle": "2021-10-16T17:55:40.027555Z",
     "shell.execute_reply": "2021-10-16T17:55:40.028147Z",
     "shell.execute_reply.started": "2021-10-16T16:25:16.332668Z"
    },
    "papermill": {
     "duration": 5299.657474,
     "end_time": "2021-10-16T17:55:40.028363",
     "exception": false,
     "start_time": "2021-10-16T16:27:20.370889",
     "status": "completed"
    },
    "tags": []
   },
   "outputs": [
    {
     "name": "stdout",
     "output_type": "stream",
     "text": [
      "[0]\tvalid-auc:0.63719\n",
      "[500]\tvalid-auc:0.83449\n",
      "[1000]\tvalid-auc:0.83923\n",
      "[1500]\tvalid-auc:0.84347\n",
      "[2000]\tvalid-auc:0.84635\n",
      "[2500]\tvalid-auc:0.84840\n",
      "[3000]\tvalid-auc:0.84990\n",
      "[3500]\tvalid-auc:0.85108\n",
      "[4000]\tvalid-auc:0.85201\n",
      "[4500]\tvalid-auc:0.85278\n",
      "[5000]\tvalid-auc:0.85342\n",
      "[5500]\tvalid-auc:0.85396\n",
      "[6000]\tvalid-auc:0.85441\n",
      "[6500]\tvalid-auc:0.85479\n",
      "[7000]\tvalid-auc:0.85511\n",
      "[7500]\tvalid-auc:0.85541\n",
      "[8000]\tvalid-auc:0.85567\n",
      "[8500]\tvalid-auc:0.85589\n",
      "[9000]\tvalid-auc:0.85609\n",
      "[9500]\tvalid-auc:0.85626\n",
      "[10000]\tvalid-auc:0.85641\n",
      "[10500]\tvalid-auc:0.85655\n",
      "[11000]\tvalid-auc:0.85666\n",
      "[11500]\tvalid-auc:0.85676\n",
      "[12000]\tvalid-auc:0.85686\n",
      "[12500]\tvalid-auc:0.85694\n",
      "[13000]\tvalid-auc:0.85701\n",
      "[13500]\tvalid-auc:0.85708\n",
      "[14000]\tvalid-auc:0.85713\n",
      "[14500]\tvalid-auc:0.85718\n",
      "[15000]\tvalid-auc:0.85722\n",
      "[15500]\tvalid-auc:0.85725\n",
      "[16000]\tvalid-auc:0.85729\n",
      "[16500]\tvalid-auc:0.85732\n",
      "[17000]\tvalid-auc:0.85734\n",
      "[17500]\tvalid-auc:0.85736\n",
      "[18000]\tvalid-auc:0.85738\n",
      "[18500]\tvalid-auc:0.85739\n",
      "[19000]\tvalid-auc:0.85741\n",
      "[19500]\tvalid-auc:0.85741\n",
      "[20000]\tvalid-auc:0.85742\n",
      "[20500]\tvalid-auc:0.85742\n",
      "[21000]\tvalid-auc:0.85742\n",
      "[21049]\tvalid-auc:0.85742\n",
      "\n",
      "Fold: 0; Auc: 0.85743\n",
      "\n",
      "--------------------------------------------------\n",
      "\n",
      "\n",
      "\n",
      "\n",
      "[0]\tvalid-auc:0.63738\n",
      "[500]\tvalid-auc:0.83425\n",
      "[1000]\tvalid-auc:0.83902\n",
      "[1500]\tvalid-auc:0.84323\n",
      "[2000]\tvalid-auc:0.84611\n",
      "[2500]\tvalid-auc:0.84813\n",
      "[3000]\tvalid-auc:0.84961\n",
      "[3500]\tvalid-auc:0.85077\n",
      "[4000]\tvalid-auc:0.85168\n",
      "[4500]\tvalid-auc:0.85244\n",
      "[5000]\tvalid-auc:0.85305\n",
      "[5500]\tvalid-auc:0.85356\n",
      "[6000]\tvalid-auc:0.85399\n",
      "[6500]\tvalid-auc:0.85435\n",
      "[7000]\tvalid-auc:0.85467\n",
      "[7500]\tvalid-auc:0.85494\n",
      "[8000]\tvalid-auc:0.85517\n",
      "[8500]\tvalid-auc:0.85538\n",
      "[9000]\tvalid-auc:0.85557\n",
      "[9500]\tvalid-auc:0.85574\n",
      "[10000]\tvalid-auc:0.85589\n",
      "[10500]\tvalid-auc:0.85601\n",
      "[11000]\tvalid-auc:0.85612\n",
      "[11500]\tvalid-auc:0.85622\n",
      "[12000]\tvalid-auc:0.85630\n",
      "[12500]\tvalid-auc:0.85638\n",
      "[13000]\tvalid-auc:0.85645\n",
      "[13500]\tvalid-auc:0.85651\n",
      "[14000]\tvalid-auc:0.85657\n",
      "[14500]\tvalid-auc:0.85661\n",
      "[15000]\tvalid-auc:0.85665\n",
      "[15500]\tvalid-auc:0.85669\n",
      "[16000]\tvalid-auc:0.85672\n",
      "[16500]\tvalid-auc:0.85676\n",
      "[17000]\tvalid-auc:0.85678\n",
      "[17500]\tvalid-auc:0.85680\n",
      "[18000]\tvalid-auc:0.85682\n",
      "[18500]\tvalid-auc:0.85684\n",
      "[19000]\tvalid-auc:0.85686\n",
      "[19500]\tvalid-auc:0.85687\n",
      "[20000]\tvalid-auc:0.85688\n",
      "[20500]\tvalid-auc:0.85689\n",
      "[21000]\tvalid-auc:0.85690\n",
      "[21500]\tvalid-auc:0.85690\n",
      "[22000]\tvalid-auc:0.85691\n",
      "[22500]\tvalid-auc:0.85691\n",
      "[23000]\tvalid-auc:0.85691\n",
      "[23500]\tvalid-auc:0.85691\n",
      "[24000]\tvalid-auc:0.85691\n",
      "[24211]\tvalid-auc:0.85691\n",
      "\n",
      "Fold: 1; Auc: 0.85691\n",
      "\n",
      "--------------------------------------------------\n",
      "\n",
      "\n",
      "\n",
      "\n",
      "[0]\tvalid-auc:0.63623\n",
      "[500]\tvalid-auc:0.83478\n",
      "[1000]\tvalid-auc:0.83967\n",
      "[1500]\tvalid-auc:0.84392\n",
      "[2000]\tvalid-auc:0.84683\n",
      "[2500]\tvalid-auc:0.84882\n",
      "[3000]\tvalid-auc:0.85029\n",
      "[3500]\tvalid-auc:0.85142\n",
      "[4000]\tvalid-auc:0.85229\n",
      "[4500]\tvalid-auc:0.85302\n",
      "[5000]\tvalid-auc:0.85362\n",
      "[5500]\tvalid-auc:0.85410\n",
      "[6000]\tvalid-auc:0.85452\n",
      "[6500]\tvalid-auc:0.85486\n",
      "[7000]\tvalid-auc:0.85515\n",
      "[7500]\tvalid-auc:0.85540\n",
      "[8000]\tvalid-auc:0.85562\n",
      "[8500]\tvalid-auc:0.85581\n",
      "[9000]\tvalid-auc:0.85598\n",
      "[9500]\tvalid-auc:0.85613\n",
      "[10000]\tvalid-auc:0.85626\n",
      "[10500]\tvalid-auc:0.85637\n",
      "[11000]\tvalid-auc:0.85646\n",
      "[11500]\tvalid-auc:0.85655\n",
      "[12000]\tvalid-auc:0.85662\n",
      "[12500]\tvalid-auc:0.85669\n",
      "[13000]\tvalid-auc:0.85675\n",
      "[13500]\tvalid-auc:0.85680\n",
      "[14000]\tvalid-auc:0.85685\n",
      "[14500]\tvalid-auc:0.85689\n",
      "[15000]\tvalid-auc:0.85692\n",
      "[15500]\tvalid-auc:0.85695\n",
      "[16000]\tvalid-auc:0.85698\n",
      "[16500]\tvalid-auc:0.85700\n",
      "[17000]\tvalid-auc:0.85701\n",
      "[17500]\tvalid-auc:0.85703\n",
      "[18000]\tvalid-auc:0.85704\n",
      "[18500]\tvalid-auc:0.85705\n",
      "[19000]\tvalid-auc:0.85705\n",
      "[19500]\tvalid-auc:0.85706\n",
      "[20000]\tvalid-auc:0.85706\n",
      "[20500]\tvalid-auc:0.85707\n",
      "[20938]\tvalid-auc:0.85707\n",
      "\n",
      "Fold: 2; Auc: 0.85707\n",
      "\n",
      "--------------------------------------------------\n",
      "\n",
      "\n",
      "\n",
      "\n",
      "[0]\tvalid-auc:0.63672\n",
      "[500]\tvalid-auc:0.83537\n",
      "[1000]\tvalid-auc:0.84005\n",
      "[1500]\tvalid-auc:0.84419\n",
      "[2000]\tvalid-auc:0.84699\n",
      "[2500]\tvalid-auc:0.84894\n",
      "[3000]\tvalid-auc:0.85036\n",
      "[3500]\tvalid-auc:0.85148\n",
      "[4000]\tvalid-auc:0.85238\n",
      "[4500]\tvalid-auc:0.85310\n",
      "[5000]\tvalid-auc:0.85370\n",
      "[5500]\tvalid-auc:0.85420\n",
      "[6000]\tvalid-auc:0.85463\n",
      "[6500]\tvalid-auc:0.85498\n",
      "[7000]\tvalid-auc:0.85528\n",
      "[7500]\tvalid-auc:0.85554\n",
      "[8000]\tvalid-auc:0.85577\n",
      "[8500]\tvalid-auc:0.85598\n",
      "[9000]\tvalid-auc:0.85615\n",
      "[9500]\tvalid-auc:0.85630\n",
      "[10000]\tvalid-auc:0.85643\n",
      "[10500]\tvalid-auc:0.85655\n",
      "[11000]\tvalid-auc:0.85666\n",
      "[11500]\tvalid-auc:0.85675\n",
      "[12000]\tvalid-auc:0.85683\n",
      "[12500]\tvalid-auc:0.85691\n",
      "[13000]\tvalid-auc:0.85697\n",
      "[13500]\tvalid-auc:0.85702\n",
      "[14000]\tvalid-auc:0.85707\n",
      "[14500]\tvalid-auc:0.85710\n",
      "[15000]\tvalid-auc:0.85715\n",
      "[15500]\tvalid-auc:0.85718\n",
      "[16000]\tvalid-auc:0.85720\n",
      "[16500]\tvalid-auc:0.85723\n",
      "[17000]\tvalid-auc:0.85725\n",
      "[17500]\tvalid-auc:0.85726\n",
      "[18000]\tvalid-auc:0.85727\n",
      "[18500]\tvalid-auc:0.85728\n",
      "[19000]\tvalid-auc:0.85729\n",
      "[19500]\tvalid-auc:0.85730\n",
      "[20000]\tvalid-auc:0.85730\n",
      "[20500]\tvalid-auc:0.85731\n",
      "[21000]\tvalid-auc:0.85731\n",
      "[21500]\tvalid-auc:0.85731\n",
      "[21657]\tvalid-auc:0.85731\n",
      "\n",
      "Fold: 3; Auc: 0.85732\n",
      "\n",
      "--------------------------------------------------\n",
      "\n",
      "\n",
      "\n",
      "\n",
      "[0]\tvalid-auc:0.63527\n",
      "[500]\tvalid-auc:0.83450\n",
      "[1000]\tvalid-auc:0.83929\n",
      "[1500]\tvalid-auc:0.84345\n",
      "[2000]\tvalid-auc:0.84627\n",
      "[2500]\tvalid-auc:0.84820\n",
      "[3000]\tvalid-auc:0.84965\n",
      "[3500]\tvalid-auc:0.85077\n",
      "[4000]\tvalid-auc:0.85167\n",
      "[4500]\tvalid-auc:0.85240\n",
      "[5000]\tvalid-auc:0.85301\n",
      "[5500]\tvalid-auc:0.85350\n",
      "[6000]\tvalid-auc:0.85393\n",
      "[6500]\tvalid-auc:0.85429\n",
      "[7000]\tvalid-auc:0.85460\n",
      "[7500]\tvalid-auc:0.85487\n",
      "[8000]\tvalid-auc:0.85509\n",
      "[8500]\tvalid-auc:0.85529\n",
      "[9000]\tvalid-auc:0.85547\n",
      "[9500]\tvalid-auc:0.85562\n",
      "[10000]\tvalid-auc:0.85576\n",
      "[10500]\tvalid-auc:0.85587\n",
      "[11000]\tvalid-auc:0.85597\n",
      "[11500]\tvalid-auc:0.85606\n",
      "[12000]\tvalid-auc:0.85614\n",
      "[12500]\tvalid-auc:0.85620\n",
      "[13000]\tvalid-auc:0.85626\n",
      "[13500]\tvalid-auc:0.85631\n",
      "[14000]\tvalid-auc:0.85635\n",
      "[14500]\tvalid-auc:0.85639\n",
      "[15000]\tvalid-auc:0.85642\n",
      "[15500]\tvalid-auc:0.85645\n",
      "[16000]\tvalid-auc:0.85647\n",
      "[16500]\tvalid-auc:0.85649\n",
      "[17000]\tvalid-auc:0.85652\n",
      "[17500]\tvalid-auc:0.85653\n",
      "[18000]\tvalid-auc:0.85654\n",
      "[18500]\tvalid-auc:0.85655\n",
      "[19000]\tvalid-auc:0.85656\n",
      "[19500]\tvalid-auc:0.85657\n",
      "[20000]\tvalid-auc:0.85657\n",
      "[20500]\tvalid-auc:0.85658\n",
      "[21000]\tvalid-auc:0.85658\n",
      "[21323]\tvalid-auc:0.85658\n",
      "\n",
      "Fold: 4; Auc: 0.85658\n",
      "\n",
      "--------------------------------------------------\n",
      "\n",
      "\n",
      "\n",
      "\n",
      "CV-Auc: 0.85706\n",
      "\n"
     ]
    }
   ],
   "source": [
    "score = 0\n",
    "model_list = []\n",
    "\n",
    "prediction_df = pd.DataFrame(\n",
    "    {\n",
    "        'fold': train[FOLD_STRAT_NAME],\n",
    "        'prediction': np.zeros((train.shape[0]))\n",
    "    }\n",
    ")\n",
    "\n",
    "\n",
    "for i, fold_ in enumerate(FOLD_LIST):\n",
    "\n",
    "    mask_train = (train[FOLD_STRAT_NAME] != fold_)\n",
    "    mask_test = (train[FOLD_STRAT_NAME] == fold_)\n",
    "    \n",
    "    \n",
    "    train_x, train_y = train.loc[mask_train, FEATURE], train.loc[mask_train, TARGET_COL]\n",
    "    test_x, test_y = train.loc[mask_test, FEATURE], train.loc[mask_test, TARGET_COL]\n",
    "\n",
    "    model = xgb.train(params = params ,\n",
    "                      dtrain = xgb.DMatrix(train_x, train_y), num_boost_round = 100000,\n",
    "                      evals =[(xgb.DMatrix(test_x, test_y),'valid')],\n",
    "                      verbose_eval = 500, early_stopping_rounds = 500)\n",
    "    \n",
    "    #oof prediction\n",
    "    prediction_df.loc[mask_test, 'prediction'] = model.predict(xgb.DMatrix(test_x))\n",
    "\n",
    "    #evaluate score and save model for importance/prediction\n",
    "    score_fold = model.best_score \n",
    "    score += score_fold/N_FOLD\n",
    "    \n",
    "    model_list.append(model)\n",
    "    \n",
    "    print('\\nFold: {}; Auc: {:.5f}\\n'.format(fold_, score_fold))\n",
    "    print('-'*50)\n",
    "    print('\\n\\n\\n')\n",
    "    gc.collect()\n",
    "    \n",
    "print('CV-Auc: {:.5f}\\n'.format(score))"
   ]
  },
  {
   "cell_type": "markdown",
   "id": "ccde94a1",
   "metadata": {
    "papermill": {
     "duration": 0.068686,
     "end_time": "2021-10-16T17:55:40.168150",
     "exception": false,
     "start_time": "2021-10-16T17:55:40.099464",
     "status": "completed"
    },
    "tags": []
   },
   "source": [
    "# Feature importance"
   ]
  },
  {
   "cell_type": "code",
   "execution_count": 7,
   "id": "c88e706c",
   "metadata": {
    "execution": {
     "iopub.execute_input": "2021-10-16T17:55:40.316145Z",
     "iopub.status.busy": "2021-10-16T17:55:40.315311Z",
     "iopub.status.idle": "2021-10-16T17:56:07.463721Z",
     "shell.execute_reply": "2021-10-16T17:56:07.463235Z",
     "shell.execute_reply.started": "2021-10-16T16:26:00.555596Z"
    },
    "papermill": {
     "duration": 27.226108,
     "end_time": "2021-10-16T17:56:07.463859",
     "exception": false,
     "start_time": "2021-10-16T17:55:40.237751",
     "status": "completed"
    },
    "tags": []
   },
   "outputs": [],
   "source": [
    "feature_importances = pd.DataFrame()\n",
    "feature_importances['feature'] = FEATURE\n",
    "\n",
    "\n",
    "for fold_, model in enumerate(model_list):\n",
    "    imp_dict = model.get_score(importance_type=\"total_gain\")\n",
    "    imp_temp = [imp_dict[x] if x in imp_dict.keys() else 0 for x in FEATURE]\n",
    "    \n",
    "    feature_importances['fold_{}'.format(fold_ + 1)] = imp_temp"
   ]
  },
  {
   "cell_type": "code",
   "execution_count": 8,
   "id": "bf91b27a",
   "metadata": {
    "execution": {
     "iopub.execute_input": "2021-10-16T17:56:07.615316Z",
     "iopub.status.busy": "2021-10-16T17:56:07.614759Z",
     "iopub.status.idle": "2021-10-16T17:56:08.312496Z",
     "shell.execute_reply": "2021-10-16T17:56:08.312061Z",
     "shell.execute_reply.started": "2021-10-16T16:26:00.586865Z"
    },
    "papermill": {
     "duration": 0.778616,
     "end_time": "2021-10-16T17:56:08.312619",
     "exception": false,
     "start_time": "2021-10-16T17:56:07.534003",
     "status": "completed"
    },
    "tags": []
   },
   "outputs": [
    {
     "data": {
      "text/plain": [
       "Text(0.5, 1.0, '50 TOP feature importance over 5 average')"
      ]
     },
     "execution_count": 8,
     "metadata": {},
     "output_type": "execute_result"
    },
    {
     "data": {
      "image/png": "[encoded data removed]",
      "text/plain": [
       "<Figure size 864x576 with 1 Axes>"
      ]
     },
     "metadata": {
      "needs_background": "light"
     },
     "output_type": "display_data"
    }
   ],
   "source": [
    "scaler = MinMaxScaler(feature_range=(0, 100))\n",
    "\n",
    "average_importance = feature_importances.drop('feature', axis = 1).mean(axis=1)\n",
    "\n",
    "feature_importances['average'] = scaler.fit_transform(X=pd.DataFrame(average_importance))\n",
    "feature_importances = feature_importances.sort_values(by='average', ascending=False)\n",
    "\n",
    "feature_importances[['feature', 'average']].to_csv('feature_importances.csv',index=False)\n",
    "\n",
    "fig = plt.figure(figsize=(12,8))\n",
    "sns.barplot(data=feature_importances.head(50), x='average', y='feature');\n",
    "plt.title(f'50 TOP feature importance over {N_FOLD} average')"
   ]
  },
  {
   "cell_type": "markdown",
   "id": "04ef4cc9",
   "metadata": {
    "papermill": {
     "duration": 0.07002,
     "end_time": "2021-10-16T17:56:08.453583",
     "exception": false,
     "start_time": "2021-10-16T17:56:08.383563",
     "status": "completed"
    },
    "tags": []
   },
   "source": [
    "# TEST Blending"
   ]
  },
  {
   "cell_type": "code",
   "execution_count": 9,
   "id": "e98fee92",
   "metadata": {
    "execution": {
     "iopub.execute_input": "2021-10-16T17:56:08.640774Z",
     "iopub.status.busy": "2021-10-16T17:56:08.639942Z",
     "iopub.status.idle": "2021-10-16T17:56:08.727968Z",
     "shell.execute_reply": "2021-10-16T17:56:08.728392Z",
     "shell.execute_reply.started": "2021-10-16T16:26:01.323269Z"
    },
    "papermill": {
     "duration": 0.204838,
     "end_time": "2021-10-16T17:56:08.728552",
     "exception": false,
     "start_time": "2021-10-16T17:56:08.523714",
     "status": "completed"
    },
    "tags": []
   },
   "outputs": [
    {
     "data": {
      "text/plain": [
       "36"
      ]
     },
     "execution_count": 9,
     "metadata": {},
     "output_type": "execute_result"
    }
   ],
   "source": [
    "del train\n",
    "gc.collect()"
   ]
  },
  {
   "cell_type": "code",
   "execution_count": 10,
   "id": "582da754",
   "metadata": {
    "execution": {
     "iopub.execute_input": "2021-10-16T17:56:08.873405Z",
     "iopub.status.busy": "2021-10-16T17:56:08.872887Z",
     "iopub.status.idle": "2021-10-16T17:56:17.389223Z",
     "shell.execute_reply": "2021-10-16T17:56:17.390035Z",
     "shell.execute_reply.started": "2021-10-16T16:26:01.463669Z"
    },
    "papermill": {
     "duration": 8.591169,
     "end_time": "2021-10-16T17:56:17.390214",
     "exception": false,
     "start_time": "2021-10-16T17:56:08.799045",
     "status": "completed"
    },
    "tags": []
   },
   "outputs": [],
   "source": [
    "test = pd.read_pickle(\n",
    "    os.path.join(PATH_NOTEBOOK, 'test_unscaled.pkl')\n",
    ")"
   ]
  },
  {
   "cell_type": "code",
   "execution_count": 11,
   "id": "b9977817",
   "metadata": {
    "execution": {
     "iopub.execute_input": "2021-10-16T17:56:17.543769Z",
     "iopub.status.busy": "2021-10-16T17:56:17.542943Z",
     "iopub.status.idle": "2021-10-16T17:57:26.168723Z",
     "shell.execute_reply": "2021-10-16T17:57:26.168212Z",
     "shell.execute_reply.started": "2021-10-16T16:26:08.835897Z"
    },
    "papermill": {
     "duration": 68.700922,
     "end_time": "2021-10-16T17:57:26.168871",
     "exception": false,
     "start_time": "2021-10-16T17:56:17.467949",
     "status": "completed"
    },
    "tags": []
   },
   "outputs": [],
   "source": [
    "pred_test = np.zeros(test.shape[0])\n",
    "\n",
    "for fold_, model in enumerate(model_list):\n",
    "    pred_test += model.predict(xgb.DMatrix(test))/N_FOLD"
   ]
  },
  {
   "cell_type": "markdown",
   "id": "8e6e837c",
   "metadata": {
    "papermill": {
     "duration": 0.070339,
     "end_time": "2021-10-16T17:57:26.311166",
     "exception": false,
     "start_time": "2021-10-16T17:57:26.240827",
     "status": "completed"
    },
    "tags": []
   },
   "source": [
    "# SAVE RESULT"
   ]
  },
  {
   "cell_type": "code",
   "execution_count": 12,
   "id": "6074ca69",
   "metadata": {
    "execution": {
     "iopub.execute_input": "2021-10-16T17:57:26.456013Z",
     "iopub.status.busy": "2021-10-16T17:57:26.453967Z",
     "iopub.status.idle": "2021-10-16T17:57:28.241983Z",
     "shell.execute_reply": "2021-10-16T17:57:28.241461Z",
     "shell.execute_reply.started": "2021-10-16T16:26:21.890867Z"
    },
    "papermill": {
     "duration": 1.860549,
     "end_time": "2021-10-16T17:57:28.242113",
     "exception": false,
     "start_time": "2021-10-16T17:57:26.381564",
     "status": "completed"
    },
    "tags": []
   },
   "outputs": [],
   "source": [
    "submission = pd.read_csv(os.path.join(INPUT_PATH, 'sample_submission.csv'))\n",
    "submission['target'] = pred_test\n",
    "\n",
    "submission.to_csv('submission.csv', index = False)"
   ]
  },
  {
   "cell_type": "code",
   "execution_count": 13,
   "id": "fb64b5a5",
   "metadata": {
    "execution": {
     "iopub.execute_input": "2021-10-16T17:57:28.391048Z",
     "iopub.status.busy": "2021-10-16T17:57:28.389415Z",
     "iopub.status.idle": "2021-10-16T17:57:31.300593Z",
     "shell.execute_reply": "2021-10-16T17:57:31.300059Z",
     "shell.execute_reply.started": "2021-10-16T16:26:23.649887Z"
    },
    "papermill": {
     "duration": 2.987418,
     "end_time": "2021-10-16T17:57:31.300722",
     "exception": false,
     "start_time": "2021-10-16T17:57:28.313304",
     "status": "completed"
    },
    "tags": []
   },
   "outputs": [],
   "source": [
    "prediction_df.to_csv('oof_prediction', index = False)"
   ]
  }
 ],
 "metadata": {
  "kernelspec": {
   "display_name": "Python 3",
   "language": "python",
   "name": "python3"
  },
  "language_info": {
   "codemirror_mode": {
    "name": "ipython",
    "version": 3
   },
   "file_extension": ".py",
   "mimetype": "text/x-python",
   "name": "python",
   "nbconvert_exporter": "python",
   "pygments_lexer": "ipython3",
   "version": "3.7.10"
  },
  "papermill": {
   "default_parameters": {},
   "duration": 5434.525062,
   "end_time": "2021-10-16T17:57:32.191894",
   "environment_variables": {},
   "exception": null,
   "input_path": "__notebook__.ipynb",
   "output_path": "__notebook__.ipynb",
   "parameters": {},
   "start_time": "2021-10-16T16:26:57.666832",
   "version": "2.3.3"
  }
 },
 "nbformat": 4,
 "nbformat_minor": 5
}
